{
 "cells": [
  {
   "cell_type": "code",
   "execution_count": 1,
   "metadata": {},
   "outputs": [],
   "source": [
    "import pandas as pd\n",
    "from finance import get_df_quarterly_ori\n",
    "\n",
    "root = 'D:/Mia/Stock/'\n",
    "path = './test.xlsx'"
   ]
  },
  {
   "cell_type": "code",
   "execution_count": 2,
   "metadata": {},
   "outputs": [
    {
     "data": {
      "text/html": [
       "<div>\n",
       "<style scoped>\n",
       "    .dataframe tbody tr th:only-of-type {\n",
       "        vertical-align: middle;\n",
       "    }\n",
       "\n",
       "    .dataframe tbody tr th {\n",
       "        vertical-align: top;\n",
       "    }\n",
       "\n",
       "    .dataframe thead th {\n",
       "        text-align: right;\n",
       "    }\n",
       "</style>\n",
       "<table border=\"1\" class=\"dataframe\">\n",
       "  <thead>\n",
       "    <tr style=\"text-align: right;\">\n",
       "      <th></th>\n",
       "      <th>公司名稱</th>\n",
       "      <th>發行股數(千股)</th>\n",
       "      <th>year</th>\n",
       "      <th>cash</th>\n",
       "      <th>stock</th>\n",
       "    </tr>\n",
       "    <tr>\n",
       "      <th>stock_id</th>\n",
       "      <th></th>\n",
       "      <th></th>\n",
       "      <th></th>\n",
       "      <th></th>\n",
       "      <th></th>\n",
       "    </tr>\n",
       "  </thead>\n",
       "  <tbody>\n",
       "    <tr>\n",
       "      <th>1101</th>\n",
       "      <td>臺灣水泥</td>\n",
       "      <td>6323580000</td>\n",
       "      <td>2021.0</td>\n",
       "      <td>3.37</td>\n",
       "      <td>0.0</td>\n",
       "    </tr>\n",
       "    <tr>\n",
       "      <th>1101</th>\n",
       "      <td>臺灣水泥</td>\n",
       "      <td>6323580000</td>\n",
       "      <td>2020.0</td>\n",
       "      <td>2.50</td>\n",
       "      <td>0.5</td>\n",
       "    </tr>\n",
       "  </tbody>\n",
       "</table>\n",
       "</div>"
      ],
      "text/plain": [
       "          公司名稱    發行股數(千股)    year  cash  stock\n",
       "stock_id                                       \n",
       "1101      臺灣水泥  6323580000  2021.0  3.37    0.0\n",
       "1101      臺灣水泥  6323580000  2020.0  2.50    0.5"
      ]
     },
     "execution_count": 2,
     "metadata": {},
     "output_type": "execute_result"
    }
   ],
   "source": [
    "df_dividend = pd.read_excel(root + 'company_info.xlsx', engine='openpyxl', dtype={'stock_id':str})\n",
    "df_dividend.set_index('stock_id', inplace=True)\n",
    "df_dividend = df_dividend.dropna()\n",
    "df_dividend.head(2)"
   ]
  },
  {
   "cell_type": "code",
   "execution_count": 9,
   "metadata": {},
   "outputs": [
    {
     "name": "stderr",
     "output_type": "stream",
     "text": [
      "c:\\users\\mia\\appdata\\local\\programs\\python\\python37\\lib\\site-packages\\openpyxl\\styles\\stylesheet.py:221: UserWarning: Workbook contains no default style, apply openpyxl's default\n",
      "  warn(\"Workbook contains no default style, apply openpyxl's default\")\n"
     ]
    },
    {
     "data": {
      "text/html": [
       "<div>\n",
       "<style scoped>\n",
       "    .dataframe tbody tr th:only-of-type {\n",
       "        vertical-align: middle;\n",
       "    }\n",
       "\n",
       "    .dataframe tbody tr th {\n",
       "        vertical-align: top;\n",
       "    }\n",
       "\n",
       "    .dataframe thead th {\n",
       "        text-align: right;\n",
       "    }\n",
       "</style>\n",
       "<table border=\"1\" class=\"dataframe\">\n",
       "  <thead>\n",
       "    <tr style=\"text-align: right;\">\n",
       "      <th>科目(億)</th>\n",
       "      <th>營業收入</th>\n",
       "      <th>營業成本</th>\n",
       "      <th>營業毛利</th>\n",
       "      <th>營業毛利(毛損)淨額</th>\n",
       "      <th>營業費用</th>\n",
       "      <th>營業利益</th>\n",
       "      <th>稅前淨利</th>\n",
       "      <th>所得稅費用</th>\n",
       "      <th>歸屬母公司淨利(損)</th>\n",
       "      <th>每股盈餘(元)</th>\n",
       "    </tr>\n",
       "    <tr>\n",
       "      <th>year</th>\n",
       "      <th></th>\n",
       "      <th></th>\n",
       "      <th></th>\n",
       "      <th></th>\n",
       "      <th></th>\n",
       "      <th></th>\n",
       "      <th></th>\n",
       "      <th></th>\n",
       "      <th></th>\n",
       "      <th></th>\n",
       "    </tr>\n",
       "  </thead>\n",
       "  <tbody>\n",
       "    <tr>\n",
       "      <th>2014</th>\n",
       "      <td>62.67</td>\n",
       "      <td>59.81</td>\n",
       "      <td>2.86</td>\n",
       "      <td>2.89</td>\n",
       "      <td>6.40</td>\n",
       "      <td>-3.25</td>\n",
       "      <td>-6.28</td>\n",
       "      <td>0.31</td>\n",
       "      <td>-6.59</td>\n",
       "      <td>-0.21</td>\n",
       "    </tr>\n",
       "    <tr>\n",
       "      <th>2015</th>\n",
       "      <td>171.80</td>\n",
       "      <td>171.72</td>\n",
       "      <td>0.07</td>\n",
       "      <td>0.17</td>\n",
       "      <td>24.25</td>\n",
       "      <td>-24.09</td>\n",
       "      <td>-21.74</td>\n",
       "      <td>0.31</td>\n",
       "      <td>-22.04</td>\n",
       "      <td>-0.68</td>\n",
       "    </tr>\n",
       "    <tr>\n",
       "      <th>2016</th>\n",
       "      <td>239.25</td>\n",
       "      <td>169.40</td>\n",
       "      <td>69.85</td>\n",
       "      <td>69.65</td>\n",
       "      <td>23.31</td>\n",
       "      <td>46.34</td>\n",
       "      <td>41.48</td>\n",
       "      <td>1.01</td>\n",
       "      <td>40.47</td>\n",
       "      <td>1.25</td>\n",
       "    </tr>\n",
       "    <tr>\n",
       "      <th>2017</th>\n",
       "      <td>237.44</td>\n",
       "      <td>150.97</td>\n",
       "      <td>86.47</td>\n",
       "      <td>86.48</td>\n",
       "      <td>24.27</td>\n",
       "      <td>62.20</td>\n",
       "      <td>68.35</td>\n",
       "      <td>1.27</td>\n",
       "      <td>67.08</td>\n",
       "      <td>2.07</td>\n",
       "    </tr>\n",
       "    <tr>\n",
       "      <th>2018</th>\n",
       "      <td>168.67</td>\n",
       "      <td>140.50</td>\n",
       "      <td>28.17</td>\n",
       "      <td>28.17</td>\n",
       "      <td>19.03</td>\n",
       "      <td>9.12</td>\n",
       "      <td>14.55</td>\n",
       "      <td>4.34</td>\n",
       "      <td>10.23</td>\n",
       "      <td>0.32</td>\n",
       "    </tr>\n",
       "    <tr>\n",
       "      <th>2019</th>\n",
       "      <td>163.37</td>\n",
       "      <td>144.68</td>\n",
       "      <td>18.69</td>\n",
       "      <td>18.69</td>\n",
       "      <td>17.36</td>\n",
       "      <td>1.35</td>\n",
       "      <td>7.83</td>\n",
       "      <td>0.03</td>\n",
       "      <td>7.95</td>\n",
       "      <td>0.25</td>\n",
       "    </tr>\n",
       "    <tr>\n",
       "      <th>2020</th>\n",
       "      <td>195.54</td>\n",
       "      <td>147.14</td>\n",
       "      <td>48.39</td>\n",
       "      <td>48.39</td>\n",
       "      <td>21.30</td>\n",
       "      <td>27.09</td>\n",
       "      <td>38.68</td>\n",
       "      <td>0.33</td>\n",
       "      <td>38.48</td>\n",
       "      <td>1.25</td>\n",
       "    </tr>\n",
       "    <tr>\n",
       "      <th>2021</th>\n",
       "      <td>220.69</td>\n",
       "      <td>129.05</td>\n",
       "      <td>91.62</td>\n",
       "      <td>91.62</td>\n",
       "      <td>17.01</td>\n",
       "      <td>74.61</td>\n",
       "      <td>83.15</td>\n",
       "      <td>11.74</td>\n",
       "      <td>71.41</td>\n",
       "      <td>2.36</td>\n",
       "    </tr>\n",
       "  </tbody>\n",
       "</table>\n",
       "</div>"
      ],
      "text/plain": [
       "科目(億)    營業收入    營業成本   營業毛利  營業毛利(毛損)淨額   營業費用   營業利益   稅前淨利  所得稅費用  \\\n",
       "year                                                                   \n",
       "2014    62.67   59.81   2.86        2.89   6.40  -3.25  -6.28   0.31   \n",
       "2015   171.80  171.72   0.07        0.17  24.25 -24.09 -21.74   0.31   \n",
       "2016   239.25  169.40  69.85       69.65  23.31  46.34  41.48   1.01   \n",
       "2017   237.44  150.97  86.47       86.48  24.27  62.20  68.35   1.27   \n",
       "2018   168.67  140.50  28.17       28.17  19.03   9.12  14.55   4.34   \n",
       "2019   163.37  144.68  18.69       18.69  17.36   1.35   7.83   0.03   \n",
       "2020   195.54  147.14  48.39       48.39  21.30  27.09  38.68   0.33   \n",
       "2021   220.69  129.05  91.62       91.62  17.01  74.61  83.15  11.74   \n",
       "\n",
       "科目(億)  歸屬母公司淨利(損)  每股盈餘(元)  \n",
       "year                        \n",
       "2014        -6.59    -0.21  \n",
       "2015       -22.04    -0.68  \n",
       "2016        40.47     1.25  \n",
       "2017        67.08     2.07  \n",
       "2018        10.23     0.32  \n",
       "2019         7.95     0.25  \n",
       "2020        38.48     1.25  \n",
       "2021        71.41     2.36  "
      ]
     },
     "execution_count": 9,
     "metadata": {},
     "output_type": "execute_result"
    }
   ],
   "source": [
    "df = get_df_quarterly_ori(stock_id)\n",
    "df_y = df.groupby('year').sum()\n",
    "df_y"
   ]
  },
  {
   "cell_type": "code",
   "execution_count": 10,
   "metadata": {},
   "outputs": [
    {
     "ename": "KeyError",
     "evalue": "'稅後淨利'",
     "output_type": "error",
     "traceback": [
      "\u001b[1;31m---------------------------------------------------------------------------\u001b[0m",
      "\u001b[1;31mKeyError\u001b[0m                                  Traceback (most recent call last)",
      "\u001b[1;32mc:\\users\\mia\\appdata\\local\\programs\\python\\python37\\lib\\site-packages\\pandas\\core\\indexes\\base.py\u001b[0m in \u001b[0;36mget_loc\u001b[1;34m(self, key, method, tolerance)\u001b[0m\n\u001b[0;32m   2897\u001b[0m             \u001b[1;32mtry\u001b[0m\u001b[1;33m:\u001b[0m\u001b[1;33m\u001b[0m\u001b[1;33m\u001b[0m\u001b[0m\n\u001b[1;32m-> 2898\u001b[1;33m                 \u001b[1;32mreturn\u001b[0m \u001b[0mself\u001b[0m\u001b[1;33m.\u001b[0m\u001b[0m_engine\u001b[0m\u001b[1;33m.\u001b[0m\u001b[0mget_loc\u001b[0m\u001b[1;33m(\u001b[0m\u001b[0mcasted_key\u001b[0m\u001b[1;33m)\u001b[0m\u001b[1;33m\u001b[0m\u001b[1;33m\u001b[0m\u001b[0m\n\u001b[0m\u001b[0;32m   2899\u001b[0m             \u001b[1;32mexcept\u001b[0m \u001b[0mKeyError\u001b[0m \u001b[1;32mas\u001b[0m \u001b[0merr\u001b[0m\u001b[1;33m:\u001b[0m\u001b[1;33m\u001b[0m\u001b[1;33m\u001b[0m\u001b[0m\n",
      "\u001b[1;32mpandas\\_libs\\index.pyx\u001b[0m in \u001b[0;36mpandas._libs.index.IndexEngine.get_loc\u001b[1;34m()\u001b[0m\n",
      "\u001b[1;32mpandas\\_libs\\index.pyx\u001b[0m in \u001b[0;36mpandas._libs.index.IndexEngine.get_loc\u001b[1;34m()\u001b[0m\n",
      "\u001b[1;32mpandas\\_libs\\hashtable_class_helper.pxi\u001b[0m in \u001b[0;36mpandas._libs.hashtable.PyObjectHashTable.get_item\u001b[1;34m()\u001b[0m\n",
      "\u001b[1;32mpandas\\_libs\\hashtable_class_helper.pxi\u001b[0m in \u001b[0;36mpandas._libs.hashtable.PyObjectHashTable.get_item\u001b[1;34m()\u001b[0m\n",
      "\u001b[1;31mKeyError\u001b[0m: '稅後淨利'",
      "\nThe above exception was the direct cause of the following exception:\n",
      "\u001b[1;31mKeyError\u001b[0m                                  Traceback (most recent call last)",
      "\u001b[1;32m<ipython-input-10-014de0a5ff0c>\u001b[0m in \u001b[0;36m<module>\u001b[1;34m\u001b[0m\n\u001b[0;32m      8\u001b[0m \u001b[0mdf_all\u001b[0m\u001b[1;33m[\u001b[0m\u001b[1;34m'營業收入_成長(%)'\u001b[0m\u001b[1;33m]\u001b[0m \u001b[1;33m=\u001b[0m \u001b[0mround\u001b[0m\u001b[1;33m(\u001b[0m\u001b[1;33m(\u001b[0m\u001b[0mdf_all\u001b[0m\u001b[1;33m[\u001b[0m\u001b[1;34m'營業收入'\u001b[0m\u001b[1;33m]\u001b[0m\u001b[1;33m-\u001b[0m\u001b[0mdf_all\u001b[0m\u001b[1;33m[\u001b[0m\u001b[1;34m'營業收入'\u001b[0m\u001b[1;33m]\u001b[0m\u001b[1;33m.\u001b[0m\u001b[0mshift\u001b[0m\u001b[1;33m(\u001b[0m\u001b[0mperiods\u001b[0m\u001b[1;33m=\u001b[0m\u001b[1;33m-\u001b[0m\u001b[1;36m1\u001b[0m\u001b[1;33m)\u001b[0m\u001b[1;33m)\u001b[0m\u001b[1;33m/\u001b[0m\u001b[0mdf_all\u001b[0m\u001b[1;33m[\u001b[0m\u001b[1;34m'營業收入'\u001b[0m\u001b[1;33m]\u001b[0m\u001b[1;33m.\u001b[0m\u001b[0mshift\u001b[0m\u001b[1;33m(\u001b[0m\u001b[0mperiods\u001b[0m\u001b[1;33m=\u001b[0m\u001b[1;33m-\u001b[0m\u001b[1;36m1\u001b[0m\u001b[1;33m)\u001b[0m\u001b[1;33m,\u001b[0m\u001b[1;36m1\u001b[0m\u001b[1;33m)\u001b[0m\u001b[1;33m\u001b[0m\u001b[1;33m\u001b[0m\u001b[0m\n\u001b[0;32m      9\u001b[0m \u001b[1;33m\u001b[0m\u001b[0m\n\u001b[1;32m---> 10\u001b[1;33m \u001b[0mdf_all\u001b[0m\u001b[1;33m[\u001b[0m\u001b[1;34m'稅後淨利_成長(%)'\u001b[0m\u001b[1;33m]\u001b[0m \u001b[1;33m=\u001b[0m \u001b[0mround\u001b[0m\u001b[1;33m(\u001b[0m\u001b[1;33m(\u001b[0m\u001b[0mdf_all\u001b[0m\u001b[1;33m[\u001b[0m\u001b[1;34m'稅後淨利'\u001b[0m\u001b[1;33m]\u001b[0m\u001b[1;33m-\u001b[0m\u001b[0mdf_all\u001b[0m\u001b[1;33m[\u001b[0m\u001b[1;34m'稅後淨利'\u001b[0m\u001b[1;33m]\u001b[0m\u001b[1;33m.\u001b[0m\u001b[0mshift\u001b[0m\u001b[1;33m(\u001b[0m\u001b[0mperiods\u001b[0m\u001b[1;33m=\u001b[0m\u001b[1;33m-\u001b[0m\u001b[1;36m1\u001b[0m\u001b[1;33m)\u001b[0m\u001b[1;33m)\u001b[0m\u001b[1;33m/\u001b[0m\u001b[0mdf_all\u001b[0m\u001b[1;33m[\u001b[0m\u001b[1;34m'稅後淨利'\u001b[0m\u001b[1;33m]\u001b[0m\u001b[1;33m.\u001b[0m\u001b[0mshift\u001b[0m\u001b[1;33m(\u001b[0m\u001b[0mperiods\u001b[0m\u001b[1;33m=\u001b[0m\u001b[1;33m-\u001b[0m\u001b[1;36m1\u001b[0m\u001b[1;33m)\u001b[0m\u001b[1;33m,\u001b[0m\u001b[1;36m1\u001b[0m\u001b[1;33m)\u001b[0m\u001b[1;33m\u001b[0m\u001b[1;33m\u001b[0m\u001b[0m\n\u001b[0m\u001b[0;32m     11\u001b[0m \u001b[1;33m\u001b[0m\u001b[0m\n\u001b[0;32m     12\u001b[0m \u001b[0mdf_all\u001b[0m\u001b[1;33m[\u001b[0m\u001b[1;34m'每股盈餘_成長(%)'\u001b[0m\u001b[1;33m]\u001b[0m \u001b[1;33m=\u001b[0m \u001b[0mround\u001b[0m\u001b[1;33m(\u001b[0m\u001b[1;33m(\u001b[0m\u001b[0mdf_all\u001b[0m\u001b[1;33m[\u001b[0m\u001b[1;34m'每股盈餘(元)'\u001b[0m\u001b[1;33m]\u001b[0m\u001b[1;33m-\u001b[0m\u001b[0mdf_all\u001b[0m\u001b[1;33m[\u001b[0m\u001b[1;34m'每股盈餘(元)'\u001b[0m\u001b[1;33m]\u001b[0m\u001b[1;33m.\u001b[0m\u001b[0mshift\u001b[0m\u001b[1;33m(\u001b[0m\u001b[0mperiods\u001b[0m\u001b[1;33m=\u001b[0m\u001b[1;33m-\u001b[0m\u001b[1;36m1\u001b[0m\u001b[1;33m)\u001b[0m\u001b[1;33m)\u001b[0m\u001b[1;33m/\u001b[0m\u001b[0mdf_all\u001b[0m\u001b[1;33m[\u001b[0m\u001b[1;34m'每股盈餘(元)'\u001b[0m\u001b[1;33m]\u001b[0m\u001b[1;33m.\u001b[0m\u001b[0mshift\u001b[0m\u001b[1;33m(\u001b[0m\u001b[0mperiods\u001b[0m\u001b[1;33m=\u001b[0m\u001b[1;33m-\u001b[0m\u001b[1;36m1\u001b[0m\u001b[1;33m)\u001b[0m\u001b[1;33m,\u001b[0m\u001b[1;36m1\u001b[0m\u001b[1;33m)\u001b[0m\u001b[1;33m\u001b[0m\u001b[1;33m\u001b[0m\u001b[0m\n",
      "\u001b[1;32mc:\\users\\mia\\appdata\\local\\programs\\python\\python37\\lib\\site-packages\\pandas\\core\\frame.py\u001b[0m in \u001b[0;36m__getitem__\u001b[1;34m(self, key)\u001b[0m\n\u001b[0;32m   2904\u001b[0m             \u001b[1;32mif\u001b[0m \u001b[0mself\u001b[0m\u001b[1;33m.\u001b[0m\u001b[0mcolumns\u001b[0m\u001b[1;33m.\u001b[0m\u001b[0mnlevels\u001b[0m \u001b[1;33m>\u001b[0m \u001b[1;36m1\u001b[0m\u001b[1;33m:\u001b[0m\u001b[1;33m\u001b[0m\u001b[1;33m\u001b[0m\u001b[0m\n\u001b[0;32m   2905\u001b[0m                 \u001b[1;32mreturn\u001b[0m \u001b[0mself\u001b[0m\u001b[1;33m.\u001b[0m\u001b[0m_getitem_multilevel\u001b[0m\u001b[1;33m(\u001b[0m\u001b[0mkey\u001b[0m\u001b[1;33m)\u001b[0m\u001b[1;33m\u001b[0m\u001b[1;33m\u001b[0m\u001b[0m\n\u001b[1;32m-> 2906\u001b[1;33m             \u001b[0mindexer\u001b[0m \u001b[1;33m=\u001b[0m \u001b[0mself\u001b[0m\u001b[1;33m.\u001b[0m\u001b[0mcolumns\u001b[0m\u001b[1;33m.\u001b[0m\u001b[0mget_loc\u001b[0m\u001b[1;33m(\u001b[0m\u001b[0mkey\u001b[0m\u001b[1;33m)\u001b[0m\u001b[1;33m\u001b[0m\u001b[1;33m\u001b[0m\u001b[0m\n\u001b[0m\u001b[0;32m   2907\u001b[0m             \u001b[1;32mif\u001b[0m \u001b[0mis_integer\u001b[0m\u001b[1;33m(\u001b[0m\u001b[0mindexer\u001b[0m\u001b[1;33m)\u001b[0m\u001b[1;33m:\u001b[0m\u001b[1;33m\u001b[0m\u001b[1;33m\u001b[0m\u001b[0m\n\u001b[0;32m   2908\u001b[0m                 \u001b[0mindexer\u001b[0m \u001b[1;33m=\u001b[0m \u001b[1;33m[\u001b[0m\u001b[0mindexer\u001b[0m\u001b[1;33m]\u001b[0m\u001b[1;33m\u001b[0m\u001b[1;33m\u001b[0m\u001b[0m\n",
      "\u001b[1;32mc:\\users\\mia\\appdata\\local\\programs\\python\\python37\\lib\\site-packages\\pandas\\core\\indexes\\base.py\u001b[0m in \u001b[0;36mget_loc\u001b[1;34m(self, key, method, tolerance)\u001b[0m\n\u001b[0;32m   2898\u001b[0m                 \u001b[1;32mreturn\u001b[0m \u001b[0mself\u001b[0m\u001b[1;33m.\u001b[0m\u001b[0m_engine\u001b[0m\u001b[1;33m.\u001b[0m\u001b[0mget_loc\u001b[0m\u001b[1;33m(\u001b[0m\u001b[0mcasted_key\u001b[0m\u001b[1;33m)\u001b[0m\u001b[1;33m\u001b[0m\u001b[1;33m\u001b[0m\u001b[0m\n\u001b[0;32m   2899\u001b[0m             \u001b[1;32mexcept\u001b[0m \u001b[0mKeyError\u001b[0m \u001b[1;32mas\u001b[0m \u001b[0merr\u001b[0m\u001b[1;33m:\u001b[0m\u001b[1;33m\u001b[0m\u001b[1;33m\u001b[0m\u001b[0m\n\u001b[1;32m-> 2900\u001b[1;33m                 \u001b[1;32mraise\u001b[0m \u001b[0mKeyError\u001b[0m\u001b[1;33m(\u001b[0m\u001b[0mkey\u001b[0m\u001b[1;33m)\u001b[0m \u001b[1;32mfrom\u001b[0m \u001b[0merr\u001b[0m\u001b[1;33m\u001b[0m\u001b[1;33m\u001b[0m\u001b[0m\n\u001b[0m\u001b[0;32m   2901\u001b[0m \u001b[1;33m\u001b[0m\u001b[0m\n\u001b[0;32m   2902\u001b[0m         \u001b[1;32mif\u001b[0m \u001b[0mtolerance\u001b[0m \u001b[1;32mis\u001b[0m \u001b[1;32mnot\u001b[0m \u001b[1;32mNone\u001b[0m\u001b[1;33m:\u001b[0m\u001b[1;33m\u001b[0m\u001b[1;33m\u001b[0m\u001b[0m\n",
      "\u001b[1;31mKeyError\u001b[0m: '稅後淨利'"
     ]
    }
   ],
   "source": [
    "df_dividend['year'] = df_dividend['year'].astype(int)\n",
    "df_dividend_y = df_dividend.loc[stock_id,:].set_index('year')\n",
    "df_dividend_y = df_dividend_y[['發行股數(千股)', 'cash']]\n",
    "df_dividend_y\n",
    "\n",
    "df_all = pd.concat([df_y, df_dividend_y], axis=1, join=\"inner\")\n",
    "df_all = df_all.sort_index(ascending=False)\n",
    "df_all['營業收入_成長(%)'] = round((df_all['營業收入']-df_all['營業收入'].shift(periods=-1))/df_all['營業收入'].shift(periods=-1),1)\n",
    "\n",
    "df_all['稅後淨利_成長(%)'] = round((df_all['稅後淨利']-df_all['稅後淨利'].shift(periods=-1))/df_all['稅後淨利'].shift(periods=-1),1)\n",
    "\n",
    "df_all['每股盈餘_成長(%)'] = round((df_all['每股盈餘(元)']-df_all['每股盈餘(元)'].shift(periods=-1))/df_all['每股盈餘(元)'].shift(periods=-1),1)\n",
    "\n",
    "df_all['毛利率_成長(%)'] = round((df_all['毛利率(%)']-df_all['毛利率(%)'].shift(periods=-1))/df_all['毛利率(%)'].shift(periods=-1),1)\n",
    "\n",
    "df_all['現金股利_成長(%)'] = round((df_all['cash']-df_all['cash'].shift(periods=-1))/df_all['cash'].shift(periods=-1),1)\n",
    "\n",
    "df_all.head(2)"
   ]
  },
  {
   "cell_type": "code",
   "execution_count": 90,
   "metadata": {},
   "outputs": [
    {
     "data": {
      "text/plain": [
       "True"
      ]
     },
     "execution_count": 90,
     "metadata": {},
     "output_type": "execute_result"
    }
   ],
   "source": [
    "df_5 = df_all[1:5]\n",
    "len(df_5[ (df_5['營業收入_成長(%)']<-0.1) | (df_5['稅後淨利_成長(%)']<-0.1) | (df_5['每股盈餘_成長(%)']<-0.1)\\\n",
    "          | (df_5['毛利率_成長(%)']<-0.1) | (df_5['現金股利_成長(%)']<-0.1)])>0"
   ]
  },
  {
   "cell_type": "code",
   "execution_count": 11,
   "metadata": {},
   "outputs": [
    {
     "data": {
      "text/html": [
       "<div>\n",
       "<style scoped>\n",
       "    .dataframe tbody tr th:only-of-type {\n",
       "        vertical-align: middle;\n",
       "    }\n",
       "\n",
       "    .dataframe tbody tr th {\n",
       "        vertical-align: top;\n",
       "    }\n",
       "\n",
       "    .dataframe thead th {\n",
       "        text-align: right;\n",
       "    }\n",
       "</style>\n",
       "<table border=\"1\" class=\"dataframe\">\n",
       "  <thead>\n",
       "    <tr style=\"text-align: right;\">\n",
       "      <th></th>\n",
       "      <th>營業收入</th>\n",
       "      <th>營業成本</th>\n",
       "      <th>營業毛利</th>\n",
       "      <th>營業毛利(毛損)淨額</th>\n",
       "      <th>營業費用</th>\n",
       "      <th>營業利益</th>\n",
       "      <th>稅前淨利</th>\n",
       "      <th>所得稅費用</th>\n",
       "      <th>歸屬母公司淨利(損)</th>\n",
       "      <th>每股盈餘(元)</th>\n",
       "      <th>發行股數(千股)</th>\n",
       "      <th>cash</th>\n",
       "      <th>營業收入_成長(%)</th>\n",
       "    </tr>\n",
       "    <tr>\n",
       "      <th>year</th>\n",
       "      <th></th>\n",
       "      <th></th>\n",
       "      <th></th>\n",
       "      <th></th>\n",
       "      <th></th>\n",
       "      <th></th>\n",
       "      <th></th>\n",
       "      <th></th>\n",
       "      <th></th>\n",
       "      <th></th>\n",
       "      <th></th>\n",
       "      <th></th>\n",
       "      <th></th>\n",
       "    </tr>\n",
       "  </thead>\n",
       "  <tbody>\n",
       "    <tr>\n",
       "      <th>2021</th>\n",
       "      <td>220.69</td>\n",
       "      <td>129.05</td>\n",
       "      <td>91.62</td>\n",
       "      <td>91.62</td>\n",
       "      <td>17.01</td>\n",
       "      <td>74.61</td>\n",
       "      <td>83.15</td>\n",
       "      <td>11.74</td>\n",
       "      <td>71.41</td>\n",
       "      <td>2.36</td>\n",
       "      <td>3027186000</td>\n",
       "      <td>0.5</td>\n",
       "      <td>0.1</td>\n",
       "    </tr>\n",
       "    <tr>\n",
       "      <th>2020</th>\n",
       "      <td>195.54</td>\n",
       "      <td>147.14</td>\n",
       "      <td>48.39</td>\n",
       "      <td>48.39</td>\n",
       "      <td>21.30</td>\n",
       "      <td>27.09</td>\n",
       "      <td>38.68</td>\n",
       "      <td>0.33</td>\n",
       "      <td>38.48</td>\n",
       "      <td>1.25</td>\n",
       "      <td>3027186000</td>\n",
       "      <td>0.0</td>\n",
       "      <td>0.2</td>\n",
       "    </tr>\n",
       "    <tr>\n",
       "      <th>2019</th>\n",
       "      <td>163.37</td>\n",
       "      <td>144.68</td>\n",
       "      <td>18.69</td>\n",
       "      <td>18.69</td>\n",
       "      <td>17.36</td>\n",
       "      <td>1.35</td>\n",
       "      <td>7.83</td>\n",
       "      <td>0.03</td>\n",
       "      <td>7.95</td>\n",
       "      <td>0.25</td>\n",
       "      <td>3027186000</td>\n",
       "      <td>0.3</td>\n",
       "      <td>-0.0</td>\n",
       "    </tr>\n",
       "    <tr>\n",
       "      <th>2018</th>\n",
       "      <td>168.67</td>\n",
       "      <td>140.50</td>\n",
       "      <td>28.17</td>\n",
       "      <td>28.17</td>\n",
       "      <td>19.03</td>\n",
       "      <td>9.12</td>\n",
       "      <td>14.55</td>\n",
       "      <td>4.34</td>\n",
       "      <td>10.23</td>\n",
       "      <td>0.32</td>\n",
       "      <td>3027186000</td>\n",
       "      <td>0.5</td>\n",
       "      <td>-0.3</td>\n",
       "    </tr>\n",
       "    <tr>\n",
       "      <th>2017</th>\n",
       "      <td>237.44</td>\n",
       "      <td>150.97</td>\n",
       "      <td>86.47</td>\n",
       "      <td>86.48</td>\n",
       "      <td>24.27</td>\n",
       "      <td>62.20</td>\n",
       "      <td>68.35</td>\n",
       "      <td>1.27</td>\n",
       "      <td>67.08</td>\n",
       "      <td>2.07</td>\n",
       "      <td>3027186000</td>\n",
       "      <td>0.5</td>\n",
       "      <td>-0.0</td>\n",
       "    </tr>\n",
       "    <tr>\n",
       "      <th>2016</th>\n",
       "      <td>239.25</td>\n",
       "      <td>169.40</td>\n",
       "      <td>69.85</td>\n",
       "      <td>69.65</td>\n",
       "      <td>23.31</td>\n",
       "      <td>46.34</td>\n",
       "      <td>41.48</td>\n",
       "      <td>1.01</td>\n",
       "      <td>40.47</td>\n",
       "      <td>1.25</td>\n",
       "      <td>3027186000</td>\n",
       "      <td>0.0</td>\n",
       "      <td>0.4</td>\n",
       "    </tr>\n",
       "    <tr>\n",
       "      <th>2015</th>\n",
       "      <td>171.80</td>\n",
       "      <td>171.72</td>\n",
       "      <td>0.07</td>\n",
       "      <td>0.17</td>\n",
       "      <td>24.25</td>\n",
       "      <td>-24.09</td>\n",
       "      <td>-21.74</td>\n",
       "      <td>0.31</td>\n",
       "      <td>-22.04</td>\n",
       "      <td>-0.68</td>\n",
       "      <td>3027186000</td>\n",
       "      <td>0.0</td>\n",
       "      <td>NaN</td>\n",
       "    </tr>\n",
       "  </tbody>\n",
       "</table>\n",
       "</div>"
      ],
      "text/plain": [
       "        營業收入    營業成本   營業毛利  營業毛利(毛損)淨額   營業費用   營業利益   稅前淨利  所得稅費用  \\\n",
       "year                                                                  \n",
       "2021  220.69  129.05  91.62       91.62  17.01  74.61  83.15  11.74   \n",
       "2020  195.54  147.14  48.39       48.39  21.30  27.09  38.68   0.33   \n",
       "2019  163.37  144.68  18.69       18.69  17.36   1.35   7.83   0.03   \n",
       "2018  168.67  140.50  28.17       28.17  19.03   9.12  14.55   4.34   \n",
       "2017  237.44  150.97  86.47       86.48  24.27  62.20  68.35   1.27   \n",
       "2016  239.25  169.40  69.85       69.65  23.31  46.34  41.48   1.01   \n",
       "2015  171.80  171.72   0.07        0.17  24.25 -24.09 -21.74   0.31   \n",
       "\n",
       "      歸屬母公司淨利(損)  每股盈餘(元)    發行股數(千股)  cash  營業收入_成長(%)  \n",
       "year                                                     \n",
       "2021       71.41     2.36  3027186000   0.5         0.1  \n",
       "2020       38.48     1.25  3027186000   0.0         0.2  \n",
       "2019        7.95     0.25  3027186000   0.3        -0.0  \n",
       "2018       10.23     0.32  3027186000   0.5        -0.3  \n",
       "2017       67.08     2.07  3027186000   0.5        -0.0  \n",
       "2016       40.47     1.25  3027186000   0.0         0.4  \n",
       "2015      -22.04    -0.68  3027186000   0.0         NaN  "
      ]
     },
     "execution_count": 11,
     "metadata": {},
     "output_type": "execute_result"
    }
   ],
   "source": [
    "df_all"
   ]
  },
  {
   "cell_type": "code",
   "execution_count": 43,
   "metadata": {},
   "outputs": [
    {
     "name": "stdout",
     "output_type": "stream",
     "text": [
      "1 2\n"
     ]
    },
    {
     "data": {
      "text/plain": [
       "2"
      ]
     },
     "execution_count": 43,
     "metadata": {},
     "output_type": "execute_result"
    }
   ],
   "source": [
    "import numpy as np\n",
    "bow1 = 1\n",
    "bow2 = 2\n",
    "print(bow1, bow2)\n",
    "v1, v2 = map(lambda x: x, [bow1, bow2])\n",
    "a = (*(map(lambda x: x, [bow1, bow2])),)\n",
    "# print(a)\n",
    "# print(v1, v2)\n",
    "np.dot(*tuple((1,2)))\n",
    "# print(*(1,2))\n"
   ]
  },
  {
   "cell_type": "code",
   "execution_count": 45,
   "metadata": {},
   "outputs": [
    {
     "data": {
      "text/plain": [
       "tuple"
      ]
     },
     "execution_count": 45,
     "metadata": {},
     "output_type": "execute_result"
    }
   ],
   "source": [
    "type((1,))"
   ]
  },
  {
   "cell_type": "code",
   "execution_count": 48,
   "metadata": {},
   "outputs": [
    {
     "data": {
      "text/plain": [
       "(list, 1)"
      ]
     },
     "execution_count": 48,
     "metadata": {},
     "output_type": "execute_result"
    }
   ],
   "source": [
    "type([1,]), len([1,])"
   ]
  },
  {
   "cell_type": "code",
   "execution_count": 49,
   "metadata": {},
   "outputs": [
    {
     "name": "stdout",
     "output_type": "stream",
     "text": [
      "(2,)\n"
     ]
    }
   ],
   "source": [
    "a = (1,)\n",
    "a = (2,)\n",
    "print(a)"
   ]
  },
  {
   "cell_type": "code",
   "execution_count": 52,
   "metadata": {},
   "outputs": [
    {
     "ename": "TypeError",
     "evalue": "'int' object is not subscriptable",
     "output_type": "error",
     "traceback": [
      "\u001b[1;31m---------------------------------------------------------------------------\u001b[0m",
      "\u001b[1;31mTypeError\u001b[0m                                 Traceback (most recent call last)",
      "\u001b[1;32m<ipython-input-52-33db60df6933>\u001b[0m in \u001b[0;36m<module>\u001b[1;34m\u001b[0m\n\u001b[0;32m      1\u001b[0m \u001b[0ma\u001b[0m \u001b[1;33m=\u001b[0m \u001b[1;36m10\u001b[0m\u001b[1;33m\u001b[0m\u001b[1;33m\u001b[0m\u001b[0m\n\u001b[1;32m----> 2\u001b[1;33m \u001b[0ma\u001b[0m\u001b[1;33m[\u001b[0m\u001b[1;36m0\u001b[0m\u001b[1;33m]\u001b[0m\u001b[1;33m\u001b[0m\u001b[1;33m\u001b[0m\u001b[0m\n\u001b[0m",
      "\u001b[1;31mTypeError\u001b[0m: 'int' object is not subscriptable"
     ]
    }
   ],
   "source": [
    "a = 10\n",
    "a[0]"
   ]
  },
  {
   "cell_type": "code",
   "execution_count": 54,
   "metadata": {},
   "outputs": [
    {
     "ename": "TypeError",
     "evalue": "'str' object does not support item assignment",
     "output_type": "error",
     "traceback": [
      "\u001b[1;31m---------------------------------------------------------------------------\u001b[0m",
      "\u001b[1;31mTypeError\u001b[0m                                 Traceback (most recent call last)",
      "\u001b[1;32m<ipython-input-54-bdff486e2df0>\u001b[0m in \u001b[0;36m<module>\u001b[1;34m\u001b[0m\n\u001b[0;32m      1\u001b[0m \u001b[0ma\u001b[0m \u001b[1;33m=\u001b[0m \u001b[1;34m'10'\u001b[0m\u001b[1;33m\u001b[0m\u001b[1;33m\u001b[0m\u001b[0m\n\u001b[1;32m----> 2\u001b[1;33m \u001b[0ma\u001b[0m\u001b[1;33m[\u001b[0m\u001b[1;36m0\u001b[0m\u001b[1;33m]\u001b[0m \u001b[1;33m=\u001b[0m \u001b[1;34m'2'\u001b[0m\u001b[1;33m\u001b[0m\u001b[1;33m\u001b[0m\u001b[0m\n\u001b[0m\u001b[0;32m      3\u001b[0m \u001b[0ma\u001b[0m\u001b[1;33m\u001b[0m\u001b[1;33m\u001b[0m\u001b[0m\n",
      "\u001b[1;31mTypeError\u001b[0m: 'str' object does not support item assignment"
     ]
    }
   ],
   "source": [
    "a = '10'\n",
    "a[0] = '2'\n",
    "a"
   ]
  },
  {
   "cell_type": "code",
   "execution_count": 55,
   "metadata": {},
   "outputs": [
    {
     "ename": "TypeError",
     "evalue": "'tuple' object does not support item assignment",
     "output_type": "error",
     "traceback": [
      "\u001b[1;31m---------------------------------------------------------------------------\u001b[0m",
      "\u001b[1;31mTypeError\u001b[0m                                 Traceback (most recent call last)",
      "\u001b[1;32m<ipython-input-55-ea766ff023cd>\u001b[0m in \u001b[0;36m<module>\u001b[1;34m\u001b[0m\n\u001b[0;32m      1\u001b[0m \u001b[0ma\u001b[0m \u001b[1;33m=\u001b[0m \u001b[1;33m(\u001b[0m\u001b[1;36m1\u001b[0m\u001b[1;33m,\u001b[0m\u001b[1;36m2\u001b[0m\u001b[1;33m)\u001b[0m\u001b[1;33m\u001b[0m\u001b[1;33m\u001b[0m\u001b[0m\n\u001b[1;32m----> 2\u001b[1;33m \u001b[0ma\u001b[0m\u001b[1;33m[\u001b[0m\u001b[1;36m0\u001b[0m\u001b[1;33m]\u001b[0m \u001b[1;33m=\u001b[0m \u001b[1;36m2\u001b[0m\u001b[1;33m\u001b[0m\u001b[1;33m\u001b[0m\u001b[0m\n\u001b[0m\u001b[0;32m      3\u001b[0m \u001b[0ma\u001b[0m\u001b[1;33m\u001b[0m\u001b[1;33m\u001b[0m\u001b[0m\n",
      "\u001b[1;31mTypeError\u001b[0m: 'tuple' object does not support item assignment"
     ]
    }
   ],
   "source": [
    "a = (1,2)\n",
    "a[0] = 2\n",
    "a"
   ]
  },
  {
   "cell_type": "code",
   "execution_count": 62,
   "metadata": {},
   "outputs": [
    {
     "data": {
      "text/plain": [
       "(1, 2, 4)"
      ]
     },
     "execution_count": 62,
     "metadata": {},
     "output_type": "execute_result"
    }
   ],
   "source": [
    "a = (1,2, 3)\n",
    "b = (3,4)\n",
    "tuple(set(a)^set(b))"
   ]
  },
  {
   "cell_type": "code",
   "execution_count": null,
   "metadata": {},
   "outputs": [],
   "source": []
  }
 ],
 "metadata": {
  "kernelspec": {
   "display_name": "Python 3",
   "language": "python",
   "name": "python3"
  },
  "language_info": {
   "codemirror_mode": {
    "name": "ipython",
    "version": 3
   },
   "file_extension": ".py",
   "mimetype": "text/x-python",
   "name": "python",
   "nbconvert_exporter": "python",
   "pygments_lexer": "ipython3",
   "version": "3.7.9"
  }
 },
 "nbformat": 4,
 "nbformat_minor": 4
}
