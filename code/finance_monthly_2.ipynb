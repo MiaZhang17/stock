{
 "cells": [
  {
   "cell_type": "code",
   "execution_count": 14,
   "metadata": {},
   "outputs": [
    {
     "name": "stdout",
     "output_type": "stream",
     "text": [
      "2022_03_30 2022_03_30_2130 D:/Mia/Stock/quarterly/03\n",
      "create  D:/Mia/Stock/quarterly/03\n"
     ]
    }
   ],
   "source": [
    "from excellib import set_excel_color_monthly\n",
    "from stocklib import get_stock_price, get_OTC_price\n",
    "from finance import get_yearly, get_df_monthly, get_df_monthly_check, get_df_quarterly\n",
    "from finance import get_this_quarter, get_quarter_income, get_quarter_finance, set_growth_eps\n",
    "from finance import get_df_quarterly_all, get_df_yearly_all\n",
    "\n",
    "import pandas as pd\n",
    "import numpy as np\n",
    "import time\n",
    "from tqdm import tqdm\n",
    "from datetime import datetime, timedelta\n",
    "import os\n",
    "\n",
    "root = 'D:/Mia/Stock/'\n",
    "path_quarterly = root + 'quarterly/'\n",
    "path_quarterly_month = path_quarterly + str(datetime.now().month).zfill(2)\n",
    "path_monthly = root + 'monthly/'\n",
    "path_month_finance = root + 'monthly_finance/'\n",
    "path_yearly = root + 'yearly/'\n",
    "path_finance = root + 'finance/'\n",
    "path_trust = root + 'trust/'\n",
    "folder_name = 'trust/'\n",
    "s_today = datetime.now().strftime('%Y_%m_%d')\n",
    "s_today_hm = datetime.now().strftime('%Y_%m_%d_%H%M')\n",
    "print(s_today, s_today_hm)\n",
    "\n",
    "if not os.path.exists(path_quarterly_month):\n",
    "    print('create ', path_quarterly_month)\n",
    "    os.makedirs(path_quarterly_month)"
   ]
  },
  {
   "cell_type": "code",
   "execution_count": 3,
   "metadata": {},
   "outputs": [
    {
     "name": "stdout",
     "output_type": "stream",
     "text": [
      "今天: 2022-03-30 第 1 季\n",
      "取得今日上市股票資訊: 20220330\n"
     ]
    }
   ],
   "source": [
    "# 公司發行股數\n",
    "path_company_stock_num = root + 'company_list.xlsx'\n",
    "\n",
    "# # 取得今日股價\n",
    "today = datetime.today().date() #- timedelta(days=5)\n",
    "this_year = today.year\n",
    "this_quarter = get_this_quarter()\n",
    "\n",
    "n = 1\n",
    "if today.weekday() == 0:\n",
    "    n = 3\n",
    "\n",
    "print('今天:', today, '第', this_quarter, '季')\n",
    "# 台灣證券交易所\n",
    "df_today = get_stock_price(today)"
   ]
  },
  {
   "cell_type": "code",
   "execution_count": 6,
   "metadata": {},
   "outputs": [
    {
     "name": "stdout",
     "output_type": "stream",
     "text": [
      "從月報 篩選出幾家公司\n",
      "上個月營收 > 5億 上個月營收成長 > 20% or 去年同季營收成長 > 20%\n",
      "(13429, 14)\n",
      "目前月報年份： 111/1\n",
      "所有公司筆數： 971\n",
      "本月觀察公司筆數： 193\n"
     ]
    },
    {
     "name": "stderr",
     "output_type": "stream",
     "text": [
      "D:\\Mia\\Stock\\code\\finance.py:146: SettingWithCopyWarning: \n",
      "A value is trying to be set on a copy of a slice from a DataFrame.\n",
      "Try using .loc[row_indexer,col_indexer] = value instead\n",
      "\n",
      "See the caveats in the documentation: https://pandas.pydata.org/pandas-docs/stable/user_guide/indexing.html#returning-a-view-versus-a-copy\n",
      "  df_monthly_check['公司代號'] = df_monthly_check['公司代號'].astype(str)\n"
     ]
    },
    {
     "data": {
      "text/html": [
       "<div>\n",
       "<style scoped>\n",
       "    .dataframe tbody tr th:only-of-type {\n",
       "        vertical-align: middle;\n",
       "    }\n",
       "\n",
       "    .dataframe tbody tr th {\n",
       "        vertical-align: top;\n",
       "    }\n",
       "\n",
       "    .dataframe thead th {\n",
       "        text-align: right;\n",
       "    }\n",
       "</style>\n",
       "<table border=\"1\" class=\"dataframe\">\n",
       "  <thead>\n",
       "    <tr style=\"text-align: right;\">\n",
       "      <th></th>\n",
       "      <th>出表日期</th>\n",
       "      <th>資料年月</th>\n",
       "      <th>公司代號</th>\n",
       "      <th>公司名稱</th>\n",
       "      <th>產業別</th>\n",
       "      <th>營業收入-當月營收</th>\n",
       "      <th>營業收入-上月營收</th>\n",
       "      <th>營業收入-去年當月營收</th>\n",
       "      <th>營業收入-上月比較增減(%)</th>\n",
       "      <th>營業收入-去年同月增減(%)</th>\n",
       "      <th>累計營業收入-當月累計營收</th>\n",
       "      <th>累計營業收入-去年累計營收</th>\n",
       "      <th>累計營業收入-前期比較增減(%)</th>\n",
       "      <th>備註</th>\n",
       "    </tr>\n",
       "  </thead>\n",
       "  <tbody>\n",
       "    <tr>\n",
       "      <th>12475</th>\n",
       "      <td>111/03/30</td>\n",
       "      <td>111/2</td>\n",
       "      <td>1215</td>\n",
       "      <td>卜蜂</td>\n",
       "      <td>食品工業</td>\n",
       "      <td>20.49</td>\n",
       "      <td>26.73</td>\n",
       "      <td>16.52</td>\n",
       "      <td>-23.34</td>\n",
       "      <td>24.07</td>\n",
       "      <td>47.22</td>\n",
       "      <td>36.89</td>\n",
       "      <td>28.0</td>\n",
       "      <td>-</td>\n",
       "    </tr>\n",
       "  </tbody>\n",
       "</table>\n",
       "</div>"
      ],
      "text/plain": [
       "            出表日期   資料年月  公司代號 公司名稱   產業別  營業收入-當月營收  營業收入-上月營收  營業收入-去年當月營收  \\\n",
       "12475  111/03/30  111/2  1215   卜蜂  食品工業      20.49      26.73        16.52   \n",
       "\n",
       "       營業收入-上月比較增減(%)  營業收入-去年同月增減(%)  累計營業收入-當月累計營收  累計營業收入-去年累計營收  \\\n",
       "12475          -23.34           24.07          47.22          36.89   \n",
       "\n",
       "       累計營業收入-前期比較增減(%) 備註  \n",
       "12475              28.0  -  "
      ]
     },
     "execution_count": 6,
     "metadata": {},
     "output_type": "execute_result"
    }
   ],
   "source": [
    "# # 月報\n",
    "# #### 彙總報表 (單位：千元)\n",
    "# https://mops.twse.com.tw/mops/web/t21sc04_ifrs\n",
    "\n",
    "# # 從月報 篩選出公司\n",
    "# 上個月營收 > 30億\n",
    "# 上個月營收成長 > 20% or 去年同季營收成長 > 20%\n",
    "df_monthly_check = get_df_monthly_check(path_month_finance, 5, 10, 10, True)\n",
    "df_monthly_check.head(1)"
   ]
  },
  {
   "cell_type": "code",
   "execution_count": 16,
   "metadata": {},
   "outputs": [
    {
     "name": "stdout",
     "output_type": "stream",
     "text": [
      "['1215', '1216', '1232', '1301', '1303', '1305', '1307', '1310', '1321', '1338', '1409', '1444', '1451', '1473', '1476', '1507', '1532', '1537', '1541', '1558', '1604', '1605', '1608', '1612', '1614', '1626', '1708', '1709', '1712', '1718', '1722', '1723', '1773', '2002', '2013', '2022', '2023', '2027', '2028', '2029', '2030', '2031', '2034', '2049', '2059', '2069', '2104', '2204', '2208', '2211', '2227', '2239', '2247', '2303', '2313', '2327', '2328', '2330', '2337', '2338', '2340', '2344', '2345', '2376', '2377', '2379', '2383', '2388', '2397', '2408', '2430', '2441', '2449', '2454', '2457', '2481', '2511', '2520', '2542', '2543', '2545', '2548', '2603', '2606', '2607', '2609', '2610', '2614', '2615', '2618', '2636', '2637', '2845', '2849', '2851', '2881', '2885', '2887', '2888', '2890', '2891', '2906', '3010', '3017', '3022', '3026', '3030', '3034', '3035', '3036', '3037', '3059', '3090', '3189', '3209', '3305', '3443', '3454', '3515', '3528', '3532', '3533', '3557', '3576', '3592', '3605', '3653', '3665', '3701', '3706', '3714', '4141', '4438', '4439', '4551', '4739', '4755', '4927', '4938', '4961', '5258', '5269', '5283', '5288', '5388', '5434', '5522', '5534', '5538', '5608', '6139', '6166', '6196', '6202', '6206', '6213', '6251', '6257', '6278', '6281', '6285', '6414', '6415', '6443', '6505', '6531', '6579', '6592', '6670', '6691', '6706', '6719', '6743', '6770', '6776', '6781', '8016', '8046', '8070', '8105', '8110', '8112', '8114', '8163', '8210', '8271', '8442', '8454', '9904', '9907', '9933', '9939', '9958']\n"
     ]
    }
   ],
   "source": [
    "lst_monthly_id = list(df_monthly_check['公司代號'].unique())\n",
    "print(lst_monthly_id)"
   ]
  },
  {
   "cell_type": "code",
   "execution_count": 7,
   "metadata": {},
   "outputs": [
    {
     "name": "stdout",
     "output_type": "stream",
     "text": [
      "觀察中公司有 193 筆\n"
     ]
    }
   ],
   "source": [
    "\n",
    "# ==============================\n",
    "#  取得觀察中公司的季報、預測EPS\n",
    "# ==============================\n",
    "\n",
    "df_quarterly_all = get_df_quarterly_all()\n",
    "df_yearly_all = get_df_yearly_all() # 寫入歷年EPS、本益比，估算今年股價min, max範圍\n",
    "df_estimate = pd.DataFrame(columns = list(df_quarterly_all.columns)+['普通股數'])\n",
    "# 取得公司發行股數\n",
    "df_company_stock_num = pd.read_excel(path_company_stock_num, engine='openpyxl', dtype={'stock_id':str})\n",
    "df_company_stock_num.set_index('stock_id', inplace=True)\n",
    "\n",
    "print('觀察中公司有', len(lst_monthly_id), '筆')"
   ]
  },
  {
   "cell_type": "code",
   "execution_count": 8,
   "metadata": {},
   "outputs": [
    {
     "name": "stdout",
     "output_type": "stream",
     "text": [
      "50\n",
      "50\n",
      "50\n",
      "43\n"
     ]
    }
   ],
   "source": [
    "sep_num = 50\n",
    "n = 0\n",
    "lst_all_id = []\n",
    "if len(lst_monthly_id)>sep_num:\n",
    "    while n < len(lst_monthly_id):\n",
    "        lst_all_id.append(lst_monthly_id[n:n+sep_num])\n",
    "        n += sep_num\n",
    "else:\n",
    "    lst_all_id.append(lst_monthly_id)\n",
    "for i in lst_all_id:\n",
    "    print(len(i))"
   ]
  },
  {
   "cell_type": "code",
   "execution_count": 9,
   "metadata": {
    "scrolled": true
   },
   "outputs": [
    {
     "name": "stderr",
     "output_type": "stream",
     "text": [
      "\r",
      "  0%|                                                                                           | 0/50 [00:00<?, ?it/s]"
     ]
    },
    {
     "name": "stdout",
     "output_type": "stream",
     "text": [
      "Check: 1\n"
     ]
    },
    {
     "name": "stderr",
     "output_type": "stream",
     "text": [
      "c:\\users\\mia\\appdata\\local\\programs\\python\\python37\\lib\\site-packages\\openpyxl\\styles\\stylesheet.py:221: UserWarning: Workbook contains no default style, apply openpyxl's default\n",
      "  warn(\"Workbook contains no default style, apply openpyxl's default\")\n",
      "\r",
      "  2%|█▋                                                                                 | 1/50 [00:05<04:05,  5.02s/it]"
     ]
    },
    {
     "name": "stdout",
     "output_type": "stream",
     "text": [
      "2227 , wait  5\n",
      "2227 ：毛利率 13.2 < 20%，跳過\n"
     ]
    },
    {
     "name": "stderr",
     "output_type": "stream",
     "text": [
      "\r",
      "  4%|███▎                                                                               | 2/50 [00:07<03:02,  3.81s/it]"
     ]
    },
    {
     "name": "stdout",
     "output_type": "stream",
     "text": [
      "2239 , wait  4\n",
      "2239 ：毛利率 17.0 < 20%，跳過\n"
     ]
    },
    {
     "name": "stderr",
     "output_type": "stream",
     "text": [
      "\r",
      "  6%|████▉                                                                              | 3/50 [00:10<02:29,  3.18s/it]"
     ]
    },
    {
     "name": "stdout",
     "output_type": "stream",
     "text": [
      "2247 , wait  8\n",
      "2247 ：毛利率 13.4 < 20%，跳過\n",
      "2303 , wait  7\n",
      "2303  wait  6\n"
     ]
    },
    {
     "name": "stderr",
     "output_type": "stream",
     "text": [
      "  8%|██████▋                                                                            | 4/50 [00:25<06:04,  7.92s/it]c:\\users\\mia\\appdata\\local\\programs\\python\\python37\\lib\\site-packages\\openpyxl\\styles\\stylesheet.py:221: UserWarning: Workbook contains no default style, apply openpyxl's default\n",
      "  warn(\"Workbook contains no default style, apply openpyxl's default\")\n",
      " 10%|████████▎                                                                          | 5/50 [00:26<04:02,  5.40s/it]"
     ]
    },
    {
     "name": "stdout",
     "output_type": "stream",
     "text": [
      "2313 , wait  5\n",
      "2313 ：毛利率 19.2 < 20%，跳過\n",
      "2327 , wait  3\n",
      "2327  wait  6\n"
     ]
    },
    {
     "name": "stderr",
     "output_type": "stream",
     "text": [
      " 12%|█████████▉                                                                         | 6/50 [00:37<05:19,  7.26s/it]c:\\users\\mia\\appdata\\local\\programs\\python\\python37\\lib\\site-packages\\openpyxl\\styles\\stylesheet.py:221: UserWarning: Workbook contains no default style, apply openpyxl's default\n",
      "  warn(\"Workbook contains no default style, apply openpyxl's default\")\n",
      " 14%|███████████▌                                                                       | 7/50 [00:38<03:50,  5.36s/it]"
     ]
    },
    {
     "name": "stdout",
     "output_type": "stream",
     "text": [
      "2328 , wait  4\n",
      "2328 ：毛利率 10.7 < 20%，跳過\n",
      "2330 , wait  3\n",
      "2330  wait  8\n"
     ]
    },
    {
     "name": "stderr",
     "output_type": "stream",
     "text": [
      " 16%|█████████████▎                                                                     | 8/50 [00:52<05:30,  7.87s/it]c:\\users\\mia\\appdata\\local\\programs\\python\\python37\\lib\\site-packages\\openpyxl\\styles\\stylesheet.py:221: UserWarning: Workbook contains no default style, apply openpyxl's default\n",
      "  warn(\"Workbook contains no default style, apply openpyxl's default\")\n"
     ]
    },
    {
     "name": "stdout",
     "output_type": "stream",
     "text": [
      "2337 , wait  8\n",
      "2337  wait  6\n"
     ]
    },
    {
     "name": "stderr",
     "output_type": "stream",
     "text": [
      " 18%|██████████████▉                                                                    | 9/50 [01:08<07:10, 10.50s/it]c:\\users\\mia\\appdata\\local\\programs\\python\\python37\\lib\\site-packages\\openpyxl\\styles\\stylesheet.py:221: UserWarning: Workbook contains no default style, apply openpyxl's default\n",
      "  warn(\"Workbook contains no default style, apply openpyxl's default\")\n"
     ]
    },
    {
     "name": "stdout",
     "output_type": "stream",
     "text": [
      "2338 , wait  8\n",
      "2338  wait  6\n"
     ]
    },
    {
     "name": "stderr",
     "output_type": "stream",
     "text": [
      " 20%|████████████████▍                                                                 | 10/50 [01:25<08:26, 12.65s/it]c:\\users\\mia\\appdata\\local\\programs\\python\\python37\\lib\\site-packages\\openpyxl\\styles\\stylesheet.py:221: UserWarning: Workbook contains no default style, apply openpyxl's default\n",
      "  warn(\"Workbook contains no default style, apply openpyxl's default\")\n"
     ]
    },
    {
     "name": "stdout",
     "output_type": "stream",
     "text": [
      "2340 , wait  6\n",
      "2340  wait  6\n"
     ]
    },
    {
     "name": "stderr",
     "output_type": "stream",
     "text": [
      " 22%|██████████████████                                                                | 11/50 [01:40<08:33, 13.17s/it]c:\\users\\mia\\appdata\\local\\programs\\python\\python37\\lib\\site-packages\\openpyxl\\styles\\stylesheet.py:221: UserWarning: Workbook contains no default style, apply openpyxl's default\n",
      "  warn(\"Workbook contains no default style, apply openpyxl's default\")\n"
     ]
    },
    {
     "name": "stdout",
     "output_type": "stream",
     "text": [
      "2344 , wait  6\n",
      "2344  wait  5\n"
     ]
    },
    {
     "name": "stderr",
     "output_type": "stream",
     "text": [
      " 24%|███████████████████▋                                                              | 12/50 [01:53<08:18, 13.11s/it]c:\\users\\mia\\appdata\\local\\programs\\python\\python37\\lib\\site-packages\\openpyxl\\styles\\stylesheet.py:221: UserWarning: Workbook contains no default style, apply openpyxl's default\n",
      "  warn(\"Workbook contains no default style, apply openpyxl's default\")\n"
     ]
    },
    {
     "name": "stdout",
     "output_type": "stream",
     "text": [
      "2345 , wait  9\n",
      "2345  wait  6\n"
     ]
    },
    {
     "name": "stderr",
     "output_type": "stream",
     "text": [
      " 26%|█████████████████████▎                                                            | 13/50 [02:10<08:46, 14.24s/it]c:\\users\\mia\\appdata\\local\\programs\\python\\python37\\lib\\site-packages\\openpyxl\\styles\\stylesheet.py:221: UserWarning: Workbook contains no default style, apply openpyxl's default\n",
      "  warn(\"Workbook contains no default style, apply openpyxl's default\")\n"
     ]
    },
    {
     "name": "stdout",
     "output_type": "stream",
     "text": [
      "2376 , wait  4\n",
      "2376  wait  7\n"
     ]
    },
    {
     "name": "stderr",
     "output_type": "stream",
     "text": [
      " 28%|██████████████████████▉                                                           | 14/50 [02:25<08:51, 14.77s/it]c:\\users\\mia\\appdata\\local\\programs\\python\\python37\\lib\\site-packages\\openpyxl\\styles\\stylesheet.py:221: UserWarning: Workbook contains no default style, apply openpyxl's default\n",
      "  warn(\"Workbook contains no default style, apply openpyxl's default\")\n",
      " 30%|████████████████████████▌                                                         | 15/50 [02:28<06:26, 11.03s/it]"
     ]
    },
    {
     "name": "stdout",
     "output_type": "stream",
     "text": [
      "2377 , wait  3\n",
      "2377 ：毛利率 17.7 < 20%，跳過\n",
      "2379 , wait  3\n",
      "2379  wait  8\n"
     ]
    },
    {
     "name": "stderr",
     "output_type": "stream",
     "text": [
      " 32%|██████████████████████████▏                                                       | 16/50 [02:41<06:34, 11.59s/it]c:\\users\\mia\\appdata\\local\\programs\\python\\python37\\lib\\site-packages\\openpyxl\\styles\\stylesheet.py:221: UserWarning: Workbook contains no default style, apply openpyxl's default\n",
      "  warn(\"Workbook contains no default style, apply openpyxl's default\")\n"
     ]
    },
    {
     "name": "stdout",
     "output_type": "stream",
     "text": [
      "2383 , wait  6\n",
      "2383  wait  6\n"
     ]
    },
    {
     "name": "stderr",
     "output_type": "stream",
     "text": [
      " 34%|███████████████████████████▉                                                      | 17/50 [02:56<07:00, 12.73s/it]c:\\users\\mia\\appdata\\local\\programs\\python\\python37\\lib\\site-packages\\openpyxl\\styles\\stylesheet.py:221: UserWarning: Workbook contains no default style, apply openpyxl's default\n",
      "  warn(\"Workbook contains no default style, apply openpyxl's default\")\n",
      " 36%|█████████████████████████████▌                                                    | 18/50 [02:59<05:11,  9.75s/it]"
     ]
    },
    {
     "name": "stdout",
     "output_type": "stream",
     "text": [
      "2388 , wait  4\n",
      "2388 ：營益率 < 8%，跳過\n"
     ]
    },
    {
     "name": "stderr",
     "output_type": "stream",
     "text": [
      "\r",
      " 38%|███████████████████████████████▏                                                  | 19/50 [03:02<03:57,  7.67s/it]"
     ]
    },
    {
     "name": "stdout",
     "output_type": "stream",
     "text": [
      "2397 , wait  3\n",
      "2397 ：毛利率 15.8 < 20%，跳過\n",
      "2408 , wait  7\n",
      "2408  wait  5\n"
     ]
    },
    {
     "name": "stderr",
     "output_type": "stream",
     "text": [
      " 40%|████████████████████████████████▊                                                 | 20/50 [03:16<04:44,  9.50s/it]c:\\users\\mia\\appdata\\local\\programs\\python\\python37\\lib\\site-packages\\openpyxl\\styles\\stylesheet.py:221: UserWarning: Workbook contains no default style, apply openpyxl's default\n",
      "  warn(\"Workbook contains no default style, apply openpyxl's default\")\n",
      " 42%|██████████████████████████████████▍                                               | 21/50 [03:19<03:38,  7.54s/it]"
     ]
    },
    {
     "name": "stdout",
     "output_type": "stream",
     "text": [
      "2430 , wait  7\n",
      "2430 ：毛利率 16.5 < 20%，跳過\n",
      "2441 , wait  3\n",
      "2441  wait  9\n"
     ]
    },
    {
     "name": "stderr",
     "output_type": "stream",
     "text": [
      " 44%|████████████████████████████████████                                              | 22/50 [03:32<04:24,  9.43s/it]c:\\users\\mia\\appdata\\local\\programs\\python\\python37\\lib\\site-packages\\openpyxl\\styles\\stylesheet.py:221: UserWarning: Workbook contains no default style, apply openpyxl's default\n",
      "  warn(\"Workbook contains no default style, apply openpyxl's default\")\n"
     ]
    },
    {
     "name": "stdout",
     "output_type": "stream",
     "text": [
      "2449 , wait  4\n",
      "2449  wait  8\n"
     ]
    },
    {
     "name": "stderr",
     "output_type": "stream",
     "text": [
      " 46%|█████████████████████████████████████▋                                            | 23/50 [03:47<04:53, 10.87s/it]c:\\users\\mia\\appdata\\local\\programs\\python\\python37\\lib\\site-packages\\openpyxl\\styles\\stylesheet.py:221: UserWarning: Workbook contains no default style, apply openpyxl's default\n",
      "  warn(\"Workbook contains no default style, apply openpyxl's default\")\n"
     ]
    },
    {
     "name": "stdout",
     "output_type": "stream",
     "text": [
      "2454 , wait  4\n",
      "2454  wait  6\n"
     ]
    },
    {
     "name": "stderr",
     "output_type": "stream",
     "text": [
      " 48%|███████████████████████████████████████▎                                          | 24/50 [03:58<04:50, 11.18s/it]c:\\users\\mia\\appdata\\local\\programs\\python\\python37\\lib\\site-packages\\openpyxl\\styles\\stylesheet.py:221: UserWarning: Workbook contains no default style, apply openpyxl's default\n",
      "  warn(\"Workbook contains no default style, apply openpyxl's default\")\n",
      " 50%|█████████████████████████████████████████                                         | 25/50 [04:00<03:23,  8.16s/it]"
     ]
    },
    {
     "name": "stdout",
     "output_type": "stream",
     "text": [
      "2457 , wait  5\n",
      "2457 ：毛利率 13.6 < 20%，跳過\n",
      "2481 , wait  8\n",
      "2481  wait  5\n"
     ]
    },
    {
     "name": "stderr",
     "output_type": "stream",
     "text": [
      " 52%|██████████████████████████████████████████▋                                       | 26/50 [04:15<04:04, 10.21s/it]c:\\users\\mia\\appdata\\local\\programs\\python\\python37\\lib\\site-packages\\openpyxl\\styles\\stylesheet.py:221: UserWarning: Workbook contains no default style, apply openpyxl's default\n",
      "  warn(\"Workbook contains no default style, apply openpyxl's default\")\n",
      " 54%|████████████████████████████████████████████▎                                     | 27/50 [04:17<03:03,  7.97s/it]"
     ]
    },
    {
     "name": "stdout",
     "output_type": "stream",
     "text": [
      "2511 , wait  6\n",
      "2511 ：毛利率 18.6 < 20%，跳過\n",
      "2520 , wait  5\n",
      "2520  wait  5\n"
     ]
    },
    {
     "name": "stderr",
     "output_type": "stream",
     "text": [
      " 56%|█████████████████████████████████████████████▉                                    | 28/50 [04:34<03:51, 10.52s/it]c:\\users\\mia\\appdata\\local\\programs\\python\\python37\\lib\\site-packages\\openpyxl\\styles\\stylesheet.py:221: UserWarning: Workbook contains no default style, apply openpyxl's default\n",
      "  warn(\"Workbook contains no default style, apply openpyxl's default\")\n"
     ]
    },
    {
     "name": "stdout",
     "output_type": "stream",
     "text": [
      "2542 , wait  8\n",
      "2542  wait  6\n"
     ]
    },
    {
     "name": "stderr",
     "output_type": "stream",
     "text": [
      " 58%|███████████████████████████████████████████████▌                                  | 29/50 [04:50<04:14, 12.12s/it]c:\\users\\mia\\appdata\\local\\programs\\python\\python37\\lib\\site-packages\\openpyxl\\styles\\stylesheet.py:221: UserWarning: Workbook contains no default style, apply openpyxl's default\n",
      "  warn(\"Workbook contains no default style, apply openpyxl's default\")\n",
      " 60%|█████████████████████████████████████████████████▏                                | 30/50 [04:51<02:56,  8.85s/it]"
     ]
    },
    {
     "name": "stdout",
     "output_type": "stream",
     "text": [
      "2543 , wait  3\n",
      "2543 ：毛利率 4.7 < 20%，跳過\n",
      "2545 , wait  6\n",
      "2545  wait  8\n"
     ]
    },
    {
     "name": "stderr",
     "output_type": "stream",
     "text": [
      " 62%|██████████████████████████████████████████████████▊                               | 31/50 [05:08<03:38, 11.49s/it]c:\\users\\mia\\appdata\\local\\programs\\python\\python37\\lib\\site-packages\\openpyxl\\styles\\stylesheet.py:221: UserWarning: Workbook contains no default style, apply openpyxl's default\n",
      "  warn(\"Workbook contains no default style, apply openpyxl's default\")\n"
     ]
    },
    {
     "name": "stdout",
     "output_type": "stream",
     "text": [
      "2548 , wait  8\n",
      "2548  wait  6\n"
     ]
    },
    {
     "name": "stderr",
     "output_type": "stream",
     "text": [
      " 64%|████████████████████████████████████████████████████▍                             | 32/50 [05:24<03:50, 12.79s/it]c:\\users\\mia\\appdata\\local\\programs\\python\\python37\\lib\\site-packages\\openpyxl\\styles\\stylesheet.py:221: UserWarning: Workbook contains no default style, apply openpyxl's default\n",
      "  warn(\"Workbook contains no default style, apply openpyxl's default\")\n"
     ]
    },
    {
     "name": "stdout",
     "output_type": "stream",
     "text": [
      "2603 , wait  6\n",
      "2603  wait  5\n"
     ]
    },
    {
     "name": "stderr",
     "output_type": "stream",
     "text": [
      " 66%|██████████████████████████████████████████████████████                            | 33/50 [05:37<03:37, 12.78s/it]c:\\users\\mia\\appdata\\local\\programs\\python\\python37\\lib\\site-packages\\openpyxl\\styles\\stylesheet.py:221: UserWarning: Workbook contains no default style, apply openpyxl's default\n",
      "  warn(\"Workbook contains no default style, apply openpyxl's default\")\n"
     ]
    },
    {
     "name": "stdout",
     "output_type": "stream",
     "text": [
      "2606 , wait  8\n",
      "2606  wait  6\n"
     ]
    },
    {
     "name": "stderr",
     "output_type": "stream",
     "text": [
      " 68%|███████████████████████████████████████████████████████▊                          | 34/50 [05:57<03:56, 14.81s/it]c:\\users\\mia\\appdata\\local\\programs\\python\\python37\\lib\\site-packages\\openpyxl\\styles\\stylesheet.py:221: UserWarning: Workbook contains no default style, apply openpyxl's default\n",
      "  warn(\"Workbook contains no default style, apply openpyxl's default\")\n",
      " 70%|█████████████████████████████████████████████████████████▍                        | 35/50 [05:57<02:39, 10.63s/it]"
     ]
    },
    {
     "name": "stdout",
     "output_type": "stream",
     "text": [
      "2607 , wait  9\n",
      "2607 ：毛利率 18.7 < 20%，跳過\n",
      "2609 , wait  7\n",
      "2609  wait  7\n"
     ]
    },
    {
     "name": "stderr",
     "output_type": "stream",
     "text": [
      "D:\\Mia\\Stock\\code\\finance.py:440: RuntimeWarning: invalid value encountered in double_scalars\n",
      "  df_new['股利_avg'] = round(round(df_new.loc[0, 'EPS(Y)'],3) * round(df_new.loc[0, '股利(%)'],3)/100, 2)\n",
      " 72%|███████████████████████████████████████████████████████████                       | 36/50 [06:14<02:52, 12.29s/it]c:\\users\\mia\\appdata\\local\\programs\\python\\python37\\lib\\site-packages\\openpyxl\\styles\\stylesheet.py:221: UserWarning: Workbook contains no default style, apply openpyxl's default\n",
      "  warn(\"Workbook contains no default style, apply openpyxl's default\")\n"
     ]
    },
    {
     "name": "stdout",
     "output_type": "stream",
     "text": [
      "2610 , wait  8\n",
      "2610  wait  6\n"
     ]
    },
    {
     "name": "stderr",
     "output_type": "stream",
     "text": [
      " 74%|████████████████████████████████████████████████████████████▋                     | 37/50 [06:30<02:55, 13.52s/it]c:\\users\\mia\\appdata\\local\\programs\\python\\python37\\lib\\site-packages\\openpyxl\\styles\\stylesheet.py:221: UserWarning: Workbook contains no default style, apply openpyxl's default\n",
      "  warn(\"Workbook contains no default style, apply openpyxl's default\")\n",
      " 76%|██████████████████████████████████████████████████████████████▎                   | 38/50 [06:34<02:06, 10.54s/it]"
     ]
    },
    {
     "name": "stdout",
     "output_type": "stream",
     "text": [
      "2614 , wait  3\n",
      "2614 ：營益率 < 8%，跳過\n",
      "2615 , wait  3\n",
      "2615  wait  6\n"
     ]
    },
    {
     "name": "stderr",
     "output_type": "stream",
     "text": [
      " 78%|███████████████████████████████████████████████████████████████▉                  | 39/50 [06:45<02:00, 10.92s/it]c:\\users\\mia\\appdata\\local\\programs\\python\\python37\\lib\\site-packages\\openpyxl\\styles\\stylesheet.py:221: UserWarning: Workbook contains no default style, apply openpyxl's default\n",
      "  warn(\"Workbook contains no default style, apply openpyxl's default\")\n"
     ]
    },
    {
     "name": "stdout",
     "output_type": "stream",
     "text": [
      "2618 , wait  3\n",
      "2618  wait  7\n"
     ]
    },
    {
     "name": "stderr",
     "output_type": "stream",
     "text": [
      " 80%|█████████████████████████████████████████████████████████████████▌                | 40/50 [07:00<02:00, 12.06s/it]c:\\users\\mia\\appdata\\local\\programs\\python\\python37\\lib\\site-packages\\openpyxl\\styles\\stylesheet.py:221: UserWarning: Workbook contains no default style, apply openpyxl's default\n",
      "  warn(\"Workbook contains no default style, apply openpyxl's default\")\n"
     ]
    },
    {
     "name": "stdout",
     "output_type": "stream",
     "text": [
      "2636 , wait  5\n",
      "2636  wait  9\n"
     ]
    },
    {
     "name": "stderr",
     "output_type": "stream",
     "text": [
      " 82%|███████████████████████████████████████████████████████████████████▏              | 41/50 [07:18<02:03, 13.71s/it]c:\\users\\mia\\appdata\\local\\programs\\python\\python37\\lib\\site-packages\\openpyxl\\styles\\stylesheet.py:221: UserWarning: Workbook contains no default style, apply openpyxl's default\n",
      "  warn(\"Workbook contains no default style, apply openpyxl's default\")\n"
     ]
    },
    {
     "name": "stdout",
     "output_type": "stream",
     "text": [
      "2637 , wait  9\n",
      "2637  wait  9\n"
     ]
    },
    {
     "name": "stderr",
     "output_type": "stream",
     "text": [
      " 84%|████████████████████████████████████████████████████████████████████▉             | 42/50 [07:40<02:09, 16.16s/it]c:\\users\\mia\\appdata\\local\\programs\\python\\python37\\lib\\site-packages\\openpyxl\\styles\\stylesheet.py:221: UserWarning: Workbook contains no default style, apply openpyxl's default\n",
      "  warn(\"Workbook contains no default style, apply openpyxl's default\")\n"
     ]
    },
    {
     "name": "stdout",
     "output_type": "stream",
     "text": [
      "2845 , wait  6\n",
      "2845  wait  8\n"
     ]
    },
    {
     "name": "stderr",
     "output_type": "stream",
     "text": [
      " 86%|██████████████████████████████████████████████████████████████████████▌           | 43/50 [07:57<01:56, 16.58s/it]c:\\users\\mia\\appdata\\local\\programs\\python\\python37\\lib\\site-packages\\openpyxl\\styles\\stylesheet.py:221: UserWarning: Workbook contains no default style, apply openpyxl's default\n",
      "  warn(\"Workbook contains no default style, apply openpyxl's default\")\n"
     ]
    },
    {
     "name": "stdout",
     "output_type": "stream",
     "text": [
      "2849 , wait  5\n",
      "2849  wait  6\n"
     ]
    },
    {
     "name": "stderr",
     "output_type": "stream",
     "text": [
      " 88%|████████████████████████████████████████████████████████████████████████▏         | 44/50 [08:13<01:38, 16.49s/it]c:\\users\\mia\\appdata\\local\\programs\\python\\python37\\lib\\site-packages\\openpyxl\\styles\\stylesheet.py:221: UserWarning: Workbook contains no default style, apply openpyxl's default\n",
      "  warn(\"Workbook contains no default style, apply openpyxl's default\")\n",
      " 90%|█████████████████████████████████████████████████████████████████████████▊        | 45/50 [08:15<00:59, 11.95s/it]"
     ]
    },
    {
     "name": "stdout",
     "output_type": "stream",
     "text": [
      "2851 , wait  7\n",
      "2851 ：毛利率 0.0 < 20%，跳過\n",
      "2881 , wait  7\n",
      "2881  wait  6\n"
     ]
    },
    {
     "name": "stderr",
     "output_type": "stream",
     "text": [
      " 92%|███████████████████████████████████████████████████████████████████████████▍      | 46/50 [08:30<00:51, 12.92s/it]c:\\users\\mia\\appdata\\local\\programs\\python\\python37\\lib\\site-packages\\openpyxl\\styles\\stylesheet.py:221: UserWarning: Workbook contains no default style, apply openpyxl's default\n",
      "  warn(\"Workbook contains no default style, apply openpyxl's default\")\n"
     ]
    },
    {
     "name": "stdout",
     "output_type": "stream",
     "text": [
      "2885 , wait  4\n",
      "2885  wait  6\n"
     ]
    },
    {
     "name": "stderr",
     "output_type": "stream",
     "text": [
      " 94%|█████████████████████████████████████████████████████████████████████████████     | 47/50 [08:42<00:38, 12.72s/it]c:\\users\\mia\\appdata\\local\\programs\\python\\python37\\lib\\site-packages\\openpyxl\\styles\\stylesheet.py:221: UserWarning: Workbook contains no default style, apply openpyxl's default\n",
      "  warn(\"Workbook contains no default style, apply openpyxl's default\")\n"
     ]
    },
    {
     "name": "stdout",
     "output_type": "stream",
     "text": [
      "2887 , wait  4\n",
      "2887  wait  6\n"
     ]
    },
    {
     "name": "stderr",
     "output_type": "stream",
     "text": [
      " 96%|██████████████████████████████████████████████████████████████████████████████▋   | 48/50 [08:54<00:25, 12.59s/it]c:\\users\\mia\\appdata\\local\\programs\\python\\python37\\lib\\site-packages\\openpyxl\\styles\\stylesheet.py:221: UserWarning: Workbook contains no default style, apply openpyxl's default\n",
      "  warn(\"Workbook contains no default style, apply openpyxl's default\")\n"
     ]
    },
    {
     "name": "stdout",
     "output_type": "stream",
     "text": [
      "2888 , wait  5\n",
      "2888  wait  6\n"
     ]
    },
    {
     "name": "stderr",
     "output_type": "stream",
     "text": [
      " 98%|████████████████████████████████████████████████████████████████████████████████▎ | 49/50 [09:08<00:12, 12.76s/it]c:\\users\\mia\\appdata\\local\\programs\\python\\python37\\lib\\site-packages\\openpyxl\\styles\\stylesheet.py:221: UserWarning: Workbook contains no default style, apply openpyxl's default\n",
      "  warn(\"Workbook contains no default style, apply openpyxl's default\")\n"
     ]
    },
    {
     "name": "stdout",
     "output_type": "stream",
     "text": [
      "2890 , wait  7\n",
      "2890  wait  5\n"
     ]
    },
    {
     "name": "stderr",
     "output_type": "stream",
     "text": [
      "100%|██████████████████████████████████████████████████████████████████████████████████| 50/50 [09:24<00:00, 11.28s/it]\n"
     ]
    },
    {
     "name": "stdout",
     "output_type": "stream",
     "text": [
      "本月觀察公司筆數： 35 ['2303' '2327' '2330' '2337' '2338' '2340' '2344' '2345' '2376' '2379'\n",
      " '2383' '2408' '2441' '2449' '2454' '2481' '2520' '2542' '2545' '2548'\n",
      " '2603' '2606' '2609' '2610' '2615' '2618' '2636' '2637' '2845' '2849'\n",
      " '2881' '2885' '2887' '2888' '2890']\n"
     ]
    },
    {
     "name": "stderr",
     "output_type": "stream",
     "text": [
      "\r",
      "  0%|                                                                                           | 0/50 [00:00<?, ?it/s]"
     ]
    },
    {
     "name": "stdout",
     "output_type": "stream",
     "text": [
      "  stock_id name quarter     營業收入    營業成本    營業毛利  營業毛利(毛損)淨額   營業費用    營業利益  \\\n",
      "0     2303   聯電  2022Q1  619.245     NaN  220.88         NaN  65.53  155.35   \n",
      "0     2303   聯電  2021Q4  591.000  359.96  231.03      231.03  68.21  176.16   \n",
      "\n",
      "     稅前淨利  ...  股利(%)  殖利率(%)  2020  2019  2018  2017  2016  2015  \\\n",
      "0  177.87  ...   97.6     9.1   NaN   NaN   NaN   NaN   NaN   NaN   \n",
      "0  181.74  ...   66.1     2.9  30.5  41.2  66.4  61.3  54.3   NaN   \n",
      "\n",
      "           普通股數    year  \n",
      "0  1.242327e+10     NaN  \n",
      "0           NaN  2021.0  \n",
      "\n",
      "[2 rows x 34 columns]\n",
      "Check: 2\n"
     ]
    },
    {
     "name": "stderr",
     "output_type": "stream",
     "text": [
      "c:\\users\\mia\\appdata\\local\\programs\\python\\python37\\lib\\site-packages\\openpyxl\\styles\\stylesheet.py:221: UserWarning: Workbook contains no default style, apply openpyxl's default\n",
      "  warn(\"Workbook contains no default style, apply openpyxl's default\")\n"
     ]
    },
    {
     "name": "stdout",
     "output_type": "stream",
     "text": [
      "2891 , wait  3\n",
      "2891  wait  5\n"
     ]
    },
    {
     "name": "stderr",
     "output_type": "stream",
     "text": [
      "  2%|█▋                                                                                 | 1/50 [00:10<08:33, 10.47s/it]c:\\users\\mia\\appdata\\local\\programs\\python\\python37\\lib\\site-packages\\openpyxl\\styles\\stylesheet.py:221: UserWarning: Workbook contains no default style, apply openpyxl's default\n",
      "  warn(\"Workbook contains no default style, apply openpyxl's default\")\n",
      "  4%|███▎                                                                               | 2/50 [00:13<04:45,  5.96s/it]"
     ]
    },
    {
     "name": "stdout",
     "output_type": "stream",
     "text": [
      "2906 , wait  3\n",
      "2906 ：營益率 < 8%，跳過\n"
     ]
    },
    {
     "name": "stderr",
     "output_type": "stream",
     "text": [
      "\r",
      "  6%|████▉                                                                              | 3/50 [00:17<04:00,  5.12s/it]"
     ]
    },
    {
     "name": "stdout",
     "output_type": "stream",
     "text": [
      "3010 , wait  8\n",
      "3010 ：毛利率 8.4 < 20%，跳過\n"
     ]
    },
    {
     "name": "stderr",
     "output_type": "stream",
     "text": [
      "\r",
      "  8%|██████▋                                                                            | 4/50 [00:18<02:47,  3.64s/it]"
     ]
    },
    {
     "name": "stdout",
     "output_type": "stream",
     "text": [
      "3017 , wait  5\n",
      "3017 ：毛利率 18.6 < 20%，跳過\n",
      "3022 , wait  9\n",
      "3022  wait  9\n"
     ]
    },
    {
     "name": "stderr",
     "output_type": "stream",
     "text": [
      " 10%|████████▎                                                                          | 5/50 [00:38<07:12,  9.61s/it]c:\\users\\mia\\appdata\\local\\programs\\python\\python37\\lib\\site-packages\\openpyxl\\styles\\stylesheet.py:221: UserWarning: Workbook contains no default style, apply openpyxl's default\n",
      "  warn(\"Workbook contains no default style, apply openpyxl's default\")\n",
      " 12%|█████████▉                                                                         | 6/50 [00:41<05:19,  7.26s/it]"
     ]
    },
    {
     "name": "stdout",
     "output_type": "stream",
     "text": [
      "3026 , wait  6\n",
      "3026 ：毛利率 19.2 < 20%，跳過\n",
      "3030 , wait  5\n",
      "3030  wait  9\n"
     ]
    },
    {
     "name": "stderr",
     "output_type": "stream",
     "text": [
      " 14%|███████████▌                                                                       | 7/50 [00:59<07:36, 10.61s/it]c:\\users\\mia\\appdata\\local\\programs\\python\\python37\\lib\\site-packages\\openpyxl\\styles\\stylesheet.py:221: UserWarning: Workbook contains no default style, apply openpyxl's default\n",
      "  warn(\"Workbook contains no default style, apply openpyxl's default\")\n"
     ]
    },
    {
     "name": "stdout",
     "output_type": "stream",
     "text": [
      "3034 , wait  4\n",
      "3034  wait  5\n"
     ]
    },
    {
     "name": "stderr",
     "output_type": "stream",
     "text": [
      " 16%|█████████████▎                                                                     | 8/50 [01:09<07:27, 10.65s/it]c:\\users\\mia\\appdata\\local\\programs\\python\\python37\\lib\\site-packages\\openpyxl\\styles\\stylesheet.py:221: UserWarning: Workbook contains no default style, apply openpyxl's default\n",
      "  warn(\"Workbook contains no default style, apply openpyxl's default\")\n"
     ]
    },
    {
     "name": "stdout",
     "output_type": "stream",
     "text": [
      "3035 , wait  8\n",
      "3035  wait  8\n"
     ]
    },
    {
     "name": "stderr",
     "output_type": "stream",
     "text": [
      " 18%|██████████████▉                                                                    | 9/50 [01:29<09:16, 13.58s/it]c:\\users\\mia\\appdata\\local\\programs\\python\\python37\\lib\\site-packages\\openpyxl\\styles\\stylesheet.py:221: UserWarning: Workbook contains no default style, apply openpyxl's default\n",
      "  warn(\"Workbook contains no default style, apply openpyxl's default\")\n",
      " 20%|████████████████▍                                                                 | 10/50 [01:31<06:33,  9.84s/it]"
     ]
    },
    {
     "name": "stdout",
     "output_type": "stream",
     "text": [
      "3036 , wait  5\n",
      "3036 ：毛利率 3.6 < 20%，跳過\n",
      "3037 , wait  4\n",
      "3037  wait  9\n"
     ]
    },
    {
     "name": "stderr",
     "output_type": "stream",
     "text": [
      " 22%|██████████████████                                                                | 11/50 [01:47<07:34, 11.66s/it]c:\\users\\mia\\appdata\\local\\programs\\python\\python37\\lib\\site-packages\\openpyxl\\styles\\stylesheet.py:221: UserWarning: Workbook contains no default style, apply openpyxl's default\n",
      "  warn(\"Workbook contains no default style, apply openpyxl's default\")\n",
      " 24%|███████████████████▋                                                              | 12/50 [01:49<05:37,  8.89s/it]"
     ]
    },
    {
     "name": "stdout",
     "output_type": "stream",
     "text": [
      "3059 , wait  3\n",
      "3059 ：營益率 < 8%，跳過\n"
     ]
    },
    {
     "name": "stderr",
     "output_type": "stream",
     "text": [
      "\r",
      " 26%|█████████████████████▎                                                            | 13/50 [01:52<04:19,  7.02s/it]"
     ]
    },
    {
     "name": "stdout",
     "output_type": "stream",
     "text": [
      "3090 , wait  6\n",
      "3090 ：毛利率 16.5 < 20%，跳過\n",
      "3189 , wait  6\n",
      "3189  wait  6\n"
     ]
    },
    {
     "name": "stderr",
     "output_type": "stream",
     "text": [
      " 28%|██████████████████████▉                                                           | 14/50 [02:06<05:31,  9.19s/it]c:\\users\\mia\\appdata\\local\\programs\\python\\python37\\lib\\site-packages\\openpyxl\\styles\\stylesheet.py:221: UserWarning: Workbook contains no default style, apply openpyxl's default\n",
      "  warn(\"Workbook contains no default style, apply openpyxl's default\")\n",
      " 30%|████████████████████████▌                                                         | 15/50 [02:09<04:14,  7.27s/it]"
     ]
    },
    {
     "name": "stdout",
     "output_type": "stream",
     "text": [
      "3209 , wait  3\n",
      "3209 ：毛利率 4.8 < 20%，跳過\n"
     ]
    },
    {
     "name": "stderr",
     "output_type": "stream",
     "text": [
      "\r",
      " 32%|██████████████████████████▏                                                       | 16/50 [02:15<03:51,  6.81s/it]"
     ]
    },
    {
     "name": "stdout",
     "output_type": "stream",
     "text": [
      "3305 , wait  6\n",
      "3305 ：毛利率 14.5 < 20%，跳過\n",
      "3443 , wait  7\n",
      "3443  wait  5\n"
     ]
    },
    {
     "name": "stderr",
     "output_type": "stream",
     "text": [
      " 34%|███████████████████████████▉                                                      | 17/50 [02:29<04:59,  9.06s/it]c:\\users\\mia\\appdata\\local\\programs\\python\\python37\\lib\\site-packages\\openpyxl\\styles\\stylesheet.py:221: UserWarning: Workbook contains no default style, apply openpyxl's default\n",
      "  warn(\"Workbook contains no default style, apply openpyxl's default\")\n",
      " 36%|█████████████████████████████▌                                                    | 18/50 [02:32<03:47,  7.12s/it]"
     ]
    },
    {
     "name": "stdout",
     "output_type": "stream",
     "text": [
      "3454 , wait  6\n",
      "3454 ：營益率 < 8%，跳過\n",
      "3515 , wait  3\n",
      "3515  wait  7\n"
     ]
    },
    {
     "name": "stderr",
     "output_type": "stream",
     "text": [
      " 38%|███████████████████████████████▏                                                  | 19/50 [02:44<04:28,  8.66s/it]c:\\users\\mia\\appdata\\local\\programs\\python\\python37\\lib\\site-packages\\openpyxl\\styles\\stylesheet.py:221: UserWarning: Workbook contains no default style, apply openpyxl's default\n",
      "  warn(\"Workbook contains no default style, apply openpyxl's default\")\n",
      " 40%|████████████████████████████████▊                                                 | 20/50 [02:46<03:24,  6.83s/it]"
     ]
    },
    {
     "name": "stdout",
     "output_type": "stream",
     "text": [
      "3528 , wait  3\n",
      "3528 ：毛利率 14.0 < 20%，跳過\n",
      "3532 , wait  9\n",
      "3532  wait  7\n"
     ]
    },
    {
     "name": "stderr",
     "output_type": "stream",
     "text": [
      " 42%|██████████████████████████████████▍                                               | 21/50 [03:05<04:56, 10.22s/it]c:\\users\\mia\\appdata\\local\\programs\\python\\python37\\lib\\site-packages\\openpyxl\\styles\\stylesheet.py:221: UserWarning: Workbook contains no default style, apply openpyxl's default\n",
      "  warn(\"Workbook contains no default style, apply openpyxl's default\")\n"
     ]
    },
    {
     "name": "stdout",
     "output_type": "stream",
     "text": [
      "3533 , wait  9\n",
      "3533  wait  5\n"
     ]
    },
    {
     "name": "stderr",
     "output_type": "stream",
     "text": [
      " 44%|████████████████████████████████████                                              | 22/50 [03:22<05:49, 12.47s/it]c:\\users\\mia\\appdata\\local\\programs\\python\\python37\\lib\\site-packages\\openpyxl\\styles\\stylesheet.py:221: UserWarning: Workbook contains no default style, apply openpyxl's default\n",
      "  warn(\"Workbook contains no default style, apply openpyxl's default\")\n"
     ]
    },
    {
     "name": "stdout",
     "output_type": "stream",
     "text": [
      "3557 , wait  4\n"
     ]
    },
    {
     "name": "stderr",
     "output_type": "stream",
     "text": [
      "D:\\Mia\\Stock\\code\\finance.py:476: RuntimeWarning: divide by zero encountered in double_scalars\n",
      "  df.loc[idx, '本益比(Y)'] = round(df.loc[idx, '股價'] / EPS_year,2) # 本益比 = 股價 / 年度EPS\n",
      "D:\\Mia\\Stock\\code\\finance.py:476: RuntimeWarning: divide by zero encountered in double_scalars\n",
      "  df.loc[idx, '本益比(Y)'] = round(df.loc[idx, '股價'] / EPS_year,2) # 本益比 = 股價 / 年度EPS\n",
      "D:\\Mia\\Stock\\code\\finance.py:476: RuntimeWarning: divide by zero encountered in double_scalars\n",
      "  df.loc[idx, '本益比(Y)'] = round(df.loc[idx, '股價'] / EPS_year,2) # 本益比 = 股價 / 年度EPS\n",
      "D:\\Mia\\Stock\\code\\finance.py:476: RuntimeWarning: divide by zero encountered in double_scalars\n",
      "  df.loc[idx, '本益比(Y)'] = round(df.loc[idx, '股價'] / EPS_year,2) # 本益比 = 股價 / 年度EPS\n",
      "D:\\Mia\\Stock\\code\\finance.py:506: RuntimeWarning: invalid value encountered in double_scalars\n",
      "  df.loc[idx, '股利(%)'] = round(df.loc[idx, '股利_avg'] / eps_lastyear*100, 1)\n"
     ]
    },
    {
     "name": "stdout",
     "output_type": "stream",
     "text": [
      "3557  wait  7\n",
      "eps: 0.0\n"
     ]
    },
    {
     "name": "stderr",
     "output_type": "stream",
     "text": [
      " 46%|█████████████████████████████████████▋                                            | 23/50 [03:38<06:03, 13.48s/it]c:\\users\\mia\\appdata\\local\\programs\\python\\python37\\lib\\site-packages\\openpyxl\\styles\\stylesheet.py:221: UserWarning: Workbook contains no default style, apply openpyxl's default\n",
      "  warn(\"Workbook contains no default style, apply openpyxl's default\")\n",
      " 48%|███████████████████████████████████████▎                                          | 24/50 [03:39<04:15,  9.82s/it]"
     ]
    },
    {
     "name": "stdout",
     "output_type": "stream",
     "text": [
      "3576 , wait  4\n",
      "3576 ：毛利率 6.1 < 20%，跳過\n",
      "3592 , wait  4\n"
     ]
    },
    {
     "name": "stderr",
     "output_type": "stream",
     "text": [
      "D:\\Mia\\Stock\\code\\finance.py:476: RuntimeWarning: divide by zero encountered in double_scalars\n",
      "  df.loc[idx, '本益比(Y)'] = round(df.loc[idx, '股價'] / EPS_year,2) # 本益比 = 股價 / 年度EPS\n"
     ]
    },
    {
     "name": "stdout",
     "output_type": "stream",
     "text": [
      "3592  wait  7\n",
      "No tables found\n"
     ]
    },
    {
     "name": "stderr",
     "output_type": "stream",
     "text": [
      " 52%|██████████████████████████████████████████▋                                       | 26/50 [03:57<03:29,  8.73s/it]"
     ]
    },
    {
     "name": "stdout",
     "output_type": "stream",
     "text": [
      "3605 , wait  6\n",
      "3605 ：營益率 < 8%，跳過\n",
      "3653 , wait  8\n",
      "3653  wait  9\n"
     ]
    },
    {
     "name": "stderr",
     "output_type": "stream",
     "text": [
      " 54%|████████████████████████████████████████████▎                                     | 27/50 [04:16<04:32, 11.85s/it]c:\\users\\mia\\appdata\\local\\programs\\python\\python37\\lib\\site-packages\\openpyxl\\styles\\stylesheet.py:221: UserWarning: Workbook contains no default style, apply openpyxl's default\n",
      "  warn(\"Workbook contains no default style, apply openpyxl's default\")\n"
     ]
    },
    {
     "name": "stdout",
     "output_type": "stream",
     "text": [
      "3665 , wait  3\n",
      "3665  wait  6\n"
     ]
    },
    {
     "name": "stderr",
     "output_type": "stream",
     "text": [
      " 56%|█████████████████████████████████████████████▉                                    | 28/50 [04:27<04:17, 11.69s/it]c:\\users\\mia\\appdata\\local\\programs\\python\\python37\\lib\\site-packages\\openpyxl\\styles\\stylesheet.py:221: UserWarning: Workbook contains no default style, apply openpyxl's default\n",
      "  warn(\"Workbook contains no default style, apply openpyxl's default\")\n",
      " 58%|███████████████████████████████████████████████▌                                  | 29/50 [04:32<03:20,  9.56s/it]"
     ]
    },
    {
     "name": "stdout",
     "output_type": "stream",
     "text": [
      "3701 , wait  5\n",
      "3701 ：毛利率 13.8 < 20%，跳過\n"
     ]
    },
    {
     "name": "stderr",
     "output_type": "stream",
     "text": [
      "\r",
      " 60%|█████████████████████████████████████████████████▏                                | 30/50 [04:35<02:32,  7.65s/it]"
     ]
    },
    {
     "name": "stdout",
     "output_type": "stream",
     "text": [
      "3706 , wait  7\n",
      "3706 ：毛利率 12.4 < 20%，跳過\n"
     ]
    },
    {
     "name": "stderr",
     "output_type": "stream",
     "text": [
      "\r",
      " 62%|██████████████████████████████████████████████████▊                               | 31/50 [04:40<02:08,  6.75s/it]"
     ]
    },
    {
     "name": "stdout",
     "output_type": "stream",
     "text": [
      "3714 , wait  3\n",
      "3714 ：營益率 < 8%，跳過\n"
     ]
    },
    {
     "name": "stderr",
     "output_type": "stream",
     "text": [
      "\r",
      " 64%|████████████████████████████████████████████████████▍                             | 32/50 [04:43<01:41,  5.62s/it]"
     ]
    },
    {
     "name": "stdout",
     "output_type": "stream",
     "text": [
      "4141 , wait  3\n",
      "4141 ：營益率 < 8%，跳過\n"
     ]
    },
    {
     "name": "stderr",
     "output_type": "stream",
     "text": [
      "\r",
      " 66%|██████████████████████████████████████████████████████                            | 33/50 [04:45<01:19,  4.66s/it]"
     ]
    },
    {
     "name": "stdout",
     "output_type": "stream",
     "text": [
      "4438 , wait  8\n",
      "4438 ：毛利率 10.4 < 20%，跳過\n"
     ]
    },
    {
     "name": "stderr",
     "output_type": "stream",
     "text": [
      "\r",
      " 68%|███████████████████████████████████████████████████████▊                          | 34/50 [04:50<01:14,  4.66s/it]"
     ]
    },
    {
     "name": "stdout",
     "output_type": "stream",
     "text": [
      "4439 , wait  6\n",
      "4439 ：毛利率 11.7 < 20%，跳過\n",
      "4551 , wait  8\n",
      "4551  wait  5\n"
     ]
    },
    {
     "name": "stderr",
     "output_type": "stream",
     "text": [
      " 70%|█████████████████████████████████████████████████████████▍                        | 35/50 [05:05<01:56,  7.79s/it]c:\\users\\mia\\appdata\\local\\programs\\python\\python37\\lib\\site-packages\\openpyxl\\styles\\stylesheet.py:221: UserWarning: Workbook contains no default style, apply openpyxl's default\n",
      "  warn(\"Workbook contains no default style, apply openpyxl's default\")\n",
      " 72%|███████████████████████████████████████████████████████████                       | 36/50 [05:06<01:21,  5.85s/it]"
     ]
    },
    {
     "name": "stdout",
     "output_type": "stream",
     "text": [
      "4739 , wait  7\n",
      "4739 ：毛利率 12.6 < 20%，跳過\n",
      "4755 , wait  9\n",
      "4755  wait  5\n"
     ]
    },
    {
     "name": "stderr",
     "output_type": "stream",
     "text": [
      " 74%|████████████████████████████████████████████████████████████▋                     | 37/50 [05:22<01:56,  8.96s/it]c:\\users\\mia\\appdata\\local\\programs\\python\\python37\\lib\\site-packages\\openpyxl\\styles\\stylesheet.py:221: UserWarning: Workbook contains no default style, apply openpyxl's default\n",
      "  warn(\"Workbook contains no default style, apply openpyxl's default\")\n"
     ]
    },
    {
     "name": "stdout",
     "output_type": "stream",
     "text": [
      "4927 , wait  7\n",
      "4927  wait  6\n"
     ]
    },
    {
     "name": "stderr",
     "output_type": "stream",
     "text": [
      " 76%|██████████████████████████████████████████████████████████████▎                   | 38/50 [05:39<02:15, 11.30s/it]c:\\users\\mia\\appdata\\local\\programs\\python\\python37\\lib\\site-packages\\openpyxl\\styles\\stylesheet.py:221: UserWarning: Workbook contains no default style, apply openpyxl's default\n",
      "  warn(\"Workbook contains no default style, apply openpyxl's default\")\n",
      " 78%|███████████████████████████████████████████████████████████████▉                  | 39/50 [05:41<01:31,  8.34s/it]"
     ]
    },
    {
     "name": "stdout",
     "output_type": "stream",
     "text": [
      "4938 , wait  9\n",
      "4938 ：毛利率 3.5 < 20%，跳過\n",
      "4961 , wait  6\n",
      "4961  wait  5\n"
     ]
    },
    {
     "name": "stderr",
     "output_type": "stream",
     "text": [
      " 80%|█████████████████████████████████████████████████████████████████▌                | 40/50 [05:54<01:38,  9.84s/it]c:\\users\\mia\\appdata\\local\\programs\\python\\python37\\lib\\site-packages\\openpyxl\\styles\\stylesheet.py:221: UserWarning: Workbook contains no default style, apply openpyxl's default\n",
      "  warn(\"Workbook contains no default style, apply openpyxl's default\")\n",
      " 82%|███████████████████████████████████████████████████████████████████▏              | 41/50 [05:55<01:04,  7.21s/it]"
     ]
    },
    {
     "name": "stdout",
     "output_type": "stream",
     "text": [
      "5258 , wait  8\n",
      "5258 ：營益率 < 8%，跳過\n",
      "5269 , wait  5\n",
      "5269  wait  5\n"
     ]
    },
    {
     "name": "stderr",
     "output_type": "stream",
     "text": [
      " 84%|████████████████████████████████████████████████████████████████████▉             | 42/50 [06:09<01:13,  9.24s/it]c:\\users\\mia\\appdata\\local\\programs\\python\\python37\\lib\\site-packages\\openpyxl\\styles\\stylesheet.py:221: UserWarning: Workbook contains no default style, apply openpyxl's default\n",
      "  warn(\"Workbook contains no default style, apply openpyxl's default\")\n",
      " 86%|██████████████████████████████████████████████████████████████████████▌           | 43/50 [06:11<00:50,  7.20s/it]"
     ]
    },
    {
     "name": "stdout",
     "output_type": "stream",
     "text": [
      "5283 , wait  3\n",
      "5283 ：營益率 < 8%，跳過\n"
     ]
    },
    {
     "name": "stderr",
     "output_type": "stream",
     "text": [
      "\r",
      " 88%|████████████████████████████████████████████████████████████████████████▏         | 44/50 [06:14<00:35,  5.83s/it]"
     ]
    },
    {
     "name": "stdout",
     "output_type": "stream",
     "text": [
      "5288 , wait  5\n",
      "5288 ：毛利率 16.7 < 20%，跳過\n"
     ]
    },
    {
     "name": "stderr",
     "output_type": "stream",
     "text": [
      "\r",
      " 90%|█████████████████████████████████████████████████████████████████████████▊        | 45/50 [06:15<00:21,  4.31s/it]"
     ]
    },
    {
     "name": "stdout",
     "output_type": "stream",
     "text": [
      "5388 , wait  7\n",
      "5388 ：毛利率 12.4 < 20%，跳過\n"
     ]
    },
    {
     "name": "stderr",
     "output_type": "stream",
     "text": [
      "\r",
      " 92%|███████████████████████████████████████████████████████████████████████████▍      | 46/50 [06:19<00:16,  4.16s/it]"
     ]
    },
    {
     "name": "stdout",
     "output_type": "stream",
     "text": [
      "5434 , wait  8\n",
      "5434 ：毛利率 12.7 < 20%，跳過\n",
      "5522 , wait  4\n",
      "5522  wait  7\n"
     ]
    },
    {
     "name": "stderr",
     "output_type": "stream",
     "text": [
      " 94%|█████████████████████████████████████████████████████████████████████████████     | 47/50 [06:31<00:20,  6.75s/it]c:\\users\\mia\\appdata\\local\\programs\\python\\python37\\lib\\site-packages\\openpyxl\\styles\\stylesheet.py:221: UserWarning: Workbook contains no default style, apply openpyxl's default\n",
      "  warn(\"Workbook contains no default style, apply openpyxl's default\")\n"
     ]
    },
    {
     "name": "stdout",
     "output_type": "stream",
     "text": [
      "5534 , wait  7\n",
      "5534  wait  7\n"
     ]
    },
    {
     "name": "stderr",
     "output_type": "stream",
     "text": [
      " 96%|██████████████████████████████████████████████████████████████████████████████▋   | 48/50 [06:53<00:22, 11.09s/it]c:\\users\\mia\\appdata\\local\\programs\\python\\python37\\lib\\site-packages\\openpyxl\\styles\\stylesheet.py:221: UserWarning: Workbook contains no default style, apply openpyxl's default\n",
      "  warn(\"Workbook contains no default style, apply openpyxl's default\")\n",
      " 98%|████████████████████████████████████████████████████████████████████████████████▎ | 49/50 [06:57<00:08,  8.94s/it]"
     ]
    },
    {
     "name": "stdout",
     "output_type": "stream",
     "text": [
      "5538 , wait  3\n",
      "5538 ：毛利率 19.8 < 20%，跳過\n",
      "5608 , wait  7\n",
      "5608  wait  6\n"
     ]
    },
    {
     "name": "stderr",
     "output_type": "stream",
     "text": [
      "100%|██████████████████████████████████████████████████████████████████████████████████| 50/50 [07:12<00:00,  8.65s/it]\n"
     ]
    },
    {
     "name": "stdout",
     "output_type": "stream",
     "text": [
      "本月觀察公司筆數： 58 ['2303' '2327' '2330' '2337' '2338' '2340' '2344' '2345' '2376' '2379'\n",
      " '2383' '2408' '2441' '2449' '2454' '2481' '2520' '2542' '2545' '2548'\n",
      " '2603' '2606' '2609' '2610' '2615' '2618' '2636' '2637' '2845' '2849'\n",
      " '2881' '2885' '2887' '2888' '2890' '2891' '3022' '3030' '3034' '3035'\n",
      " '3037' '3189' '3443' '3515' '3532' '3533' '3557' '3592' '3653' '3665'\n",
      " '4551' '4755' '4927' '4961' '5269' '5522' '5534' '5608']\n"
     ]
    },
    {
     "ename": "FileCreateError",
     "evalue": "[Errno 13] Permission denied: 'D:/Mia/Stock/quarterly/trust/estimate_2022_03_30.xlsx'",
     "output_type": "error",
     "traceback": [
      "\u001b[1;31m---------------------------------------------------------------------------\u001b[0m",
      "\u001b[1;31mPermissionError\u001b[0m                           Traceback (most recent call last)",
      "\u001b[1;32mc:\\users\\mia\\appdata\\local\\programs\\python\\python37\\lib\\site-packages\\xlsxwriter\\workbook.py\u001b[0m in \u001b[0;36mclose\u001b[1;34m(self)\u001b[0m\n\u001b[0;32m    322\u001b[0m             \u001b[1;32mtry\u001b[0m\u001b[1;33m:\u001b[0m\u001b[1;33m\u001b[0m\u001b[1;33m\u001b[0m\u001b[0m\n\u001b[1;32m--> 323\u001b[1;33m                 \u001b[0mself\u001b[0m\u001b[1;33m.\u001b[0m\u001b[0m_store_workbook\u001b[0m\u001b[1;33m(\u001b[0m\u001b[1;33m)\u001b[0m\u001b[1;33m\u001b[0m\u001b[1;33m\u001b[0m\u001b[0m\n\u001b[0m\u001b[0;32m    324\u001b[0m             \u001b[1;32mexcept\u001b[0m \u001b[0mIOError\u001b[0m \u001b[1;32mas\u001b[0m \u001b[0me\u001b[0m\u001b[1;33m:\u001b[0m\u001b[1;33m\u001b[0m\u001b[1;33m\u001b[0m\u001b[0m\n",
      "\u001b[1;32mc:\\users\\mia\\appdata\\local\\programs\\python\\python37\\lib\\site-packages\\xlsxwriter\\workbook.py\u001b[0m in \u001b[0;36m_store_workbook\u001b[1;34m(self)\u001b[0m\n\u001b[0;32m    662\u001b[0m         \u001b[1;32mexcept\u001b[0m \u001b[0mIOError\u001b[0m \u001b[1;32mas\u001b[0m \u001b[0me\u001b[0m\u001b[1;33m:\u001b[0m\u001b[1;33m\u001b[0m\u001b[1;33m\u001b[0m\u001b[0m\n\u001b[1;32m--> 663\u001b[1;33m             \u001b[1;32mraise\u001b[0m \u001b[0me\u001b[0m\u001b[1;33m\u001b[0m\u001b[1;33m\u001b[0m\u001b[0m\n\u001b[0m\u001b[0;32m    664\u001b[0m \u001b[1;33m\u001b[0m\u001b[0m\n",
      "\u001b[1;32mc:\\users\\mia\\appdata\\local\\programs\\python\\python37\\lib\\site-packages\\xlsxwriter\\workbook.py\u001b[0m in \u001b[0;36m_store_workbook\u001b[1;34m(self)\u001b[0m\n\u001b[0;32m    660\u001b[0m             xlsx_file = ZipFile(self.filename, \"w\", compression=ZIP_DEFLATED,\n\u001b[1;32m--> 661\u001b[1;33m                                 allowZip64=self.allow_zip64)\n\u001b[0m\u001b[0;32m    662\u001b[0m         \u001b[1;32mexcept\u001b[0m \u001b[0mIOError\u001b[0m \u001b[1;32mas\u001b[0m \u001b[0me\u001b[0m\u001b[1;33m:\u001b[0m\u001b[1;33m\u001b[0m\u001b[1;33m\u001b[0m\u001b[0m\n",
      "\u001b[1;32mc:\\users\\mia\\appdata\\local\\programs\\python\\python37\\lib\\zipfile.py\u001b[0m in \u001b[0;36m__init__\u001b[1;34m(self, file, mode, compression, allowZip64, compresslevel)\u001b[0m\n\u001b[0;32m   1239\u001b[0m                 \u001b[1;32mtry\u001b[0m\u001b[1;33m:\u001b[0m\u001b[1;33m\u001b[0m\u001b[1;33m\u001b[0m\u001b[0m\n\u001b[1;32m-> 1240\u001b[1;33m                     \u001b[0mself\u001b[0m\u001b[1;33m.\u001b[0m\u001b[0mfp\u001b[0m \u001b[1;33m=\u001b[0m \u001b[0mio\u001b[0m\u001b[1;33m.\u001b[0m\u001b[0mopen\u001b[0m\u001b[1;33m(\u001b[0m\u001b[0mfile\u001b[0m\u001b[1;33m,\u001b[0m \u001b[0mfilemode\u001b[0m\u001b[1;33m)\u001b[0m\u001b[1;33m\u001b[0m\u001b[1;33m\u001b[0m\u001b[0m\n\u001b[0m\u001b[0;32m   1241\u001b[0m                 \u001b[1;32mexcept\u001b[0m \u001b[0mOSError\u001b[0m\u001b[1;33m:\u001b[0m\u001b[1;33m\u001b[0m\u001b[1;33m\u001b[0m\u001b[0m\n",
      "\u001b[1;31mPermissionError\u001b[0m: [Errno 13] Permission denied: 'D:/Mia/Stock/quarterly/trust/estimate_2022_03_30.xlsx'",
      "\nDuring handling of the above exception, another exception occurred:\n",
      "\u001b[1;31mFileCreateError\u001b[0m                           Traceback (most recent call last)",
      "\u001b[1;32m<ipython-input-9-fbf2a88a384e>\u001b[0m in \u001b[0;36m<module>\u001b[1;34m\u001b[0m\n\u001b[0;32m     59\u001b[0m \u001b[1;33m\u001b[0m\u001b[0m\n\u001b[0;32m     60\u001b[0m     \u001b[1;31m# 預測EPS ( check_EPS )\u001b[0m\u001b[1;33m\u001b[0m\u001b[1;33m\u001b[0m\u001b[1;33m\u001b[0m\u001b[0m\n\u001b[1;32m---> 61\u001b[1;33m     \u001b[0mdf_estimate\u001b[0m\u001b[1;33m.\u001b[0m\u001b[0mto_excel\u001b[0m\u001b[1;33m(\u001b[0m\u001b[0mpath_check\u001b[0m\u001b[1;33m.\u001b[0m\u001b[0mreplace\u001b[0m\u001b[1;33m(\u001b[0m\u001b[1;34m'finance_quarterly'\u001b[0m\u001b[1;33m,\u001b[0m \u001b[1;34m'estimate'\u001b[0m\u001b[1;33m)\u001b[0m\u001b[1;33m,\u001b[0m \u001b[0mindex\u001b[0m\u001b[1;33m=\u001b[0m\u001b[1;32mFalse\u001b[0m\u001b[1;33m)\u001b[0m\u001b[1;33m\u001b[0m\u001b[1;33m\u001b[0m\u001b[0m\n\u001b[0m\u001b[0;32m     62\u001b[0m     \u001b[0mprint\u001b[0m\u001b[1;33m(\u001b[0m\u001b[0mdf_estimate\u001b[0m\u001b[1;33m.\u001b[0m\u001b[0mhead\u001b[0m\u001b[1;33m(\u001b[0m\u001b[1;36m2\u001b[0m\u001b[1;33m)\u001b[0m\u001b[1;33m)\u001b[0m\u001b[1;33m\u001b[0m\u001b[1;33m\u001b[0m\u001b[0m\n\u001b[0;32m     63\u001b[0m \u001b[1;33m\u001b[0m\u001b[0m\n",
      "\u001b[1;32mc:\\users\\mia\\appdata\\local\\programs\\python\\python37\\lib\\site-packages\\pandas\\core\\generic.py\u001b[0m in \u001b[0;36mto_excel\u001b[1;34m(self, excel_writer, sheet_name, na_rep, float_format, columns, header, index, index_label, startrow, startcol, engine, merge_cells, encoding, inf_rep, verbose, freeze_panes)\u001b[0m\n\u001b[0;32m   2030\u001b[0m             \u001b[0mstartcol\u001b[0m\u001b[1;33m=\u001b[0m\u001b[0mstartcol\u001b[0m\u001b[1;33m,\u001b[0m\u001b[1;33m\u001b[0m\u001b[1;33m\u001b[0m\u001b[0m\n\u001b[0;32m   2031\u001b[0m             \u001b[0mfreeze_panes\u001b[0m\u001b[1;33m=\u001b[0m\u001b[0mfreeze_panes\u001b[0m\u001b[1;33m,\u001b[0m\u001b[1;33m\u001b[0m\u001b[1;33m\u001b[0m\u001b[0m\n\u001b[1;32m-> 2032\u001b[1;33m             \u001b[0mengine\u001b[0m\u001b[1;33m=\u001b[0m\u001b[0mengine\u001b[0m\u001b[1;33m,\u001b[0m\u001b[1;33m\u001b[0m\u001b[1;33m\u001b[0m\u001b[0m\n\u001b[0m\u001b[0;32m   2033\u001b[0m         )\n\u001b[0;32m   2034\u001b[0m \u001b[1;33m\u001b[0m\u001b[0m\n",
      "\u001b[1;32mc:\\users\\mia\\appdata\\local\\programs\\python\\python37\\lib\\site-packages\\pandas\\io\\formats\\excel.py\u001b[0m in \u001b[0;36mwrite\u001b[1;34m(self, writer, sheet_name, startrow, startcol, freeze_panes, engine)\u001b[0m\n\u001b[0;32m    740\u001b[0m         )\n\u001b[0;32m    741\u001b[0m         \u001b[1;32mif\u001b[0m \u001b[0mneed_save\u001b[0m\u001b[1;33m:\u001b[0m\u001b[1;33m\u001b[0m\u001b[1;33m\u001b[0m\u001b[0m\n\u001b[1;32m--> 742\u001b[1;33m             \u001b[0mwriter\u001b[0m\u001b[1;33m.\u001b[0m\u001b[0msave\u001b[0m\u001b[1;33m(\u001b[0m\u001b[1;33m)\u001b[0m\u001b[1;33m\u001b[0m\u001b[1;33m\u001b[0m\u001b[0m\n\u001b[0m",
      "\u001b[1;32mc:\\users\\mia\\appdata\\local\\programs\\python\\python37\\lib\\site-packages\\pandas\\io\\excel\\_xlsxwriter.py\u001b[0m in \u001b[0;36msave\u001b[1;34m(self)\u001b[0m\n\u001b[0;32m    191\u001b[0m         \u001b[0mSave\u001b[0m \u001b[0mworkbook\u001b[0m \u001b[0mto\u001b[0m \u001b[0mdisk\u001b[0m\u001b[1;33m.\u001b[0m\u001b[1;33m\u001b[0m\u001b[1;33m\u001b[0m\u001b[0m\n\u001b[0;32m    192\u001b[0m         \"\"\"\n\u001b[1;32m--> 193\u001b[1;33m         \u001b[1;32mreturn\u001b[0m \u001b[0mself\u001b[0m\u001b[1;33m.\u001b[0m\u001b[0mbook\u001b[0m\u001b[1;33m.\u001b[0m\u001b[0mclose\u001b[0m\u001b[1;33m(\u001b[0m\u001b[1;33m)\u001b[0m\u001b[1;33m\u001b[0m\u001b[1;33m\u001b[0m\u001b[0m\n\u001b[0m\u001b[0;32m    194\u001b[0m \u001b[1;33m\u001b[0m\u001b[0m\n\u001b[0;32m    195\u001b[0m     def write_cells(\n",
      "\u001b[1;32mc:\\users\\mia\\appdata\\local\\programs\\python\\python37\\lib\\site-packages\\xlsxwriter\\workbook.py\u001b[0m in \u001b[0;36mclose\u001b[1;34m(self)\u001b[0m\n\u001b[0;32m    323\u001b[0m                 \u001b[0mself\u001b[0m\u001b[1;33m.\u001b[0m\u001b[0m_store_workbook\u001b[0m\u001b[1;33m(\u001b[0m\u001b[1;33m)\u001b[0m\u001b[1;33m\u001b[0m\u001b[1;33m\u001b[0m\u001b[0m\n\u001b[0;32m    324\u001b[0m             \u001b[1;32mexcept\u001b[0m \u001b[0mIOError\u001b[0m \u001b[1;32mas\u001b[0m \u001b[0me\u001b[0m\u001b[1;33m:\u001b[0m\u001b[1;33m\u001b[0m\u001b[1;33m\u001b[0m\u001b[0m\n\u001b[1;32m--> 325\u001b[1;33m                 \u001b[1;32mraise\u001b[0m \u001b[0mFileCreateError\u001b[0m\u001b[1;33m(\u001b[0m\u001b[0me\u001b[0m\u001b[1;33m)\u001b[0m\u001b[1;33m\u001b[0m\u001b[1;33m\u001b[0m\u001b[0m\n\u001b[0m\u001b[0;32m    326\u001b[0m             \u001b[1;32mexcept\u001b[0m \u001b[0mLargeZipFile\u001b[0m \u001b[1;32mas\u001b[0m \u001b[0me\u001b[0m\u001b[1;33m:\u001b[0m\u001b[1;33m\u001b[0m\u001b[1;33m\u001b[0m\u001b[0m\n\u001b[0;32m    327\u001b[0m                 raise FileSizeError(\"Filesize would require ZIP64 extensions. \"\n",
      "\u001b[1;31mFileCreateError\u001b[0m: [Errno 13] Permission denied: 'D:/Mia/Stock/quarterly/trust/estimate_2022_03_30.xlsx'"
     ]
    }
   ],
   "source": [
    "for j in range(1, len(lst_all_id)):\n",
    "    print('Check:', j)\n",
    "    lst_monthly_id = lst_all_id[j]\n",
    "    \n",
    "    for i in tqdm(range(len(lst_monthly_id))):\n",
    "        stock_id = lst_monthly_id[i]\n",
    "        df = get_df_quarterly(stock_id)\n",
    "        t_wait = np.random.randint(3,10)\n",
    "        print(stock_id, ', wait ', t_wait)\n",
    "        if df is None:\n",
    "            print('df is None')\n",
    "            continue\n",
    "        if df.loc[df.index[0], '毛利率(%)'] < 20:\n",
    "            print(stock_id, '：毛利率', df.loc[df.index[0], '毛利率(%)'], '< 20%，跳過')\n",
    "            continue\n",
    "        elif df.loc[df.index[0], '營益率(%)'] < 8:\n",
    "            print(stock_id, '：營益率 < 8%，跳過')\n",
    "            continue\n",
    "\n",
    "        # 計算歷年同季的營收成長率、EPS\n",
    "        df = set_growth_eps(df, df_today, stock_id)\n",
    "\n",
    "    #     將年度EPS寫到歷年excel裡\n",
    "        lst_year = set(df.index.to_series().apply(lambda x:x[:4]))\n",
    "        min_year = int(min(lst_year)) # 若最小年是2018 ，只能確定2019都有資料\n",
    "        lst_year = [y for y in lst_year if int(y) > min_year]\n",
    "        lst_EPS = [{'year':y, 'eps': df.loc[str(y)+'Q1', 'EPS(Y)']} for y in lst_year]\n",
    "\n",
    "        df.reset_index(inplace=True)\n",
    "        df = df.rename(columns={'index':'quarter'}) # reset_index後column名稱是index\n",
    "\n",
    "        stock_name = \"\"\n",
    "        if stock_id in df_today.index:\n",
    "            stock_name = df_today.loc[stock_id, 'name']\n",
    "            df_yearly = get_yearly(stock_id, lst_EPS, df['quarter'][0][:4], stock_name)    \n",
    "            df_yearly_all = df_yearly_all.append(df_yearly, ignore_index=True)\n",
    "\n",
    "        df.insert(0, 'name', value=stock_name)\n",
    "        df.insert(0, 'stock_id', value=stock_id)\n",
    "\n",
    "        df_quarterly_all = df_quarterly_all.append(df, ignore_index=True)\n",
    "        time.sleep(t_wait)\n",
    "\n",
    "        # ===============================\n",
    "        # 預測EPS ( check_EPS )\n",
    "        # ===============================\n",
    "        df_new_quarter = get_quarter_finance(stock_id, df, this_year, this_quarter, df_company_stock_num, df_today)\n",
    "        df_concat = pd.concat([df, df_new_quarter])\n",
    "        df_concat.sort_values('quarter', ascending=False, inplace=True)\n",
    "        df_estimate = df_estimate.append(df_concat)\n",
    "\n",
    "    # # 季報\n",
    "    s_today_hm = datetime.now().strftime('%Y_%m_%d_%H%M')\n",
    "    print('本月觀察公司筆數：', len(df_quarterly_all['stock_id'].unique()), df_quarterly_all['stock_id'].unique())\n",
    "    path_quarterly_each = path_quarterly_month + 'finance_quarterly_{}.xlsx'.format(s_today_hm)\n",
    "    set_excel_color_monthly(df_quarterly_all, path_quarterly_each)\n",
    "\n",
    "    # # 每年 EPS 預估股價\n",
    "    path_monthly_eps = path_yearly + 'finance_yearly_{}.xlsx'.format(s_today_hm)\n",
    "    set_excel_color_monthly(df_yearly_all, path_monthly_eps)\n",
    "\n",
    "    # 預測EPS ( check_EPS )\n",
    "    path_estimate = path_quarterly_month +'estimate_{}.xlsx'.format(s_today_hm)\n",
    "    df_estimate.to_excel(path_estimate, index=False)\n",
    "    print(df_estimate.head(2))\n",
    "\n",
    "\n",
    "    # ===============================\n",
    "    # # 取得公司歷年發放股利\n",
    "    # lst = ['2615']\n",
    "    # get_company_dividen(lst)\n",
    "    # ==============================="
   ]
  },
  {
   "cell_type": "code",
   "execution_count": null,
   "metadata": {},
   "outputs": [],
   "source": []
  }
 ],
 "metadata": {
  "kernelspec": {
   "display_name": "Python 3",
   "language": "python",
   "name": "python3"
  },
  "language_info": {
   "codemirror_mode": {
    "name": "ipython",
    "version": 3
   },
   "file_extension": ".py",
   "mimetype": "text/x-python",
   "name": "python",
   "nbconvert_exporter": "python",
   "pygments_lexer": "ipython3",
   "version": "3.7.9"
  }
 },
 "nbformat": 4,
 "nbformat_minor": 4
}
