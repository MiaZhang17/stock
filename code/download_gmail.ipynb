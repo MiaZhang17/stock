{
 "cells": [
  {
   "cell_type": "code",
   "execution_count": 1,
   "id": "0a7d9659",
   "metadata": {
    "scrolled": true
   },
   "outputs": [
    {
     "name": "stdout",
     "output_type": "stream",
     "text": [
      "gmail v1 service created successfully\n"
     ]
    }
   ],
   "source": [
    "from google_apis import create_service\n",
    "\n",
    "CLIENT_FILE = 'client_secret.json'\n",
    "API_NAME = 'gmail'\n",
    "API_VERSION = 'v1'\n",
    "SCOPES = ['https://mail.google.com/']\n",
    "\n",
    "service = create_service(CLIENT_FILE, API_NAME, API_VERSION, SCOPES)"
   ]
  },
  {
   "cell_type": "code",
   "execution_count": 2,
   "id": "5f6cc39b",
   "metadata": {},
   "outputs": [],
   "source": [
    "def search_emails(query_string, label_ids=None):\n",
    "    try:\n",
    "        message_list_response = service.users().messages().list(\n",
    "                userId='me',\n",
    "                labelIds=label_ids,\n",
    "                q=query_string\n",
    "        ).execute()\n",
    "        message_items = message_list_response.get('messages')\n",
    "        next_page_token = message_list_response.get('nextPageToken')\n",
    "        return message_items\n",
    "    except Exception as e:\n",
    "        print(e)\n",
    "        \n",
    "def get_file_data(message_id, attachment_id, file_name, save_locatioin):\n",
    "    response = service.users().messages().attachments().get(\n",
    "        userId='me',\n",
    "        messageId=message_id,\n",
    "        id=attachment_id\n",
    "    ).execute()\n",
    "    \n",
    "    file_data = base64.urlsafe_b64decode(response.get('data').encode('utf-8'))\n",
    "    return file_data\n",
    "\n",
    "def get_message_detail(message_id, msg_format='metadata', metadata_headers=None):\n",
    "    message_detail = service.users().messages().get(\n",
    "        userId='me',\n",
    "        id=message_id,\n",
    "        format=msg_format,\n",
    "        metadataHeaders=metadata_headers\n",
    "    ).execute()\n",
    "    return message_detail"
   ]
  },
  {
   "cell_type": "code",
   "execution_count": 23,
   "id": "72989a9d",
   "metadata": {},
   "outputs": [
    {
     "name": "stderr",
     "output_type": "stream",
     "text": [
      "  0%|                                                                                          | 0/100 [00:00<?, ?it/s]\n"
     ]
    }
   ],
   "source": [
    "import os\n",
    "import base64\n",
    "from tqdm import tqdm\n",
    "\n",
    "def download_excel():\n",
    "    query_string = 'has:attachment'\n",
    "    save_folder = os.path.join(os.path.dirname(os.getcwd()), 'fugle')\n",
    "    email_messages = search_emails(query_string)\n",
    "\n",
    "    for email_message in tqdm(email_messages):\n",
    "        message_detail = get_message_detail(email_message['id'], msg_format='full', metadata_headers=['parts'])\n",
    "        if '富果帳戶 交易明細' in message_detail['snippet'] and not 'Forwarded' in message_detail['snippet']:\n",
    "            message_detail_payload = message_detail.get('payload')\n",
    "            if 'parts' in message_detail_payload:\n",
    "                for msg_payload in message_detail_payload['parts']:\n",
    "                    file_name = msg_payload['filename']\n",
    "                    body = msg_payload['body']\n",
    "                    if 'attachmentId' in body:\n",
    "                        folder = file_name[4:10]\n",
    "                        if file_name == '交易明細20220928.xlsx':\n",
    "                            return\n",
    "                        attachment_id = body['attachmentId']\n",
    "                        attachment_content = get_file_data(email_message['id'], attachment_id, file_name, save_folder)\n",
    "                        with open(os.path.join(save_folder, folder, file_name), 'wb') as f:\n",
    "                            f.write(attachment_content)\n",
    "                            print(f\"File {file_name} is saved at {save_folder} {folder}\")\n",
    "download_excel()"
   ]
  },
  {
   "cell_type": "code",
   "execution_count": 13,
   "id": "a15ef5f1",
   "metadata": {},
   "outputs": [
    {
     "name": "stdout",
     "output_type": "stream",
     "text": [
      "D:\\Mia\\Stock\\fugle\\202202\n",
      "D:\\Mia\\Stock\\fugle\\202203\n",
      "D:\\Mia\\Stock\\fugle\\202204\n",
      "D:\\Mia\\Stock\\fugle\\202205\n",
      "D:\\Mia\\Stock\\fugle\\202206\n",
      "D:\\Mia\\Stock\\fugle\\202207\n",
      "D:\\Mia\\Stock\\fugle\\202208\n",
      "D:\\Mia\\Stock\\fugle\\202209\n",
      "D:\\Mia\\Stock\\fugle\\202210\n",
      "D:\\Mia\\Stock\\fugle\\202211\n",
      "D:\\Mia\\Stock\\fugle\\202212\n"
     ]
    }
   ],
   "source": [
    "# import os\n",
    "# from datetime import datetime\n",
    "# this_year = str(datetime.now().year)\n",
    "\n",
    "# for i in range(1,13):\n",
    "#     folder_path = os.path.join(save_folder, this_year + str(i).zfill(2))\n",
    "#     if not os.path.exists(folder_path):\n",
    "#         os.mkdir(folder_path)\n",
    "#         print(folder_path)"
   ]
  },
  {
   "cell_type": "code",
   "execution_count": 11,
   "id": "d0ee8778",
   "metadata": {},
   "outputs": [
    {
     "data": {
      "text/plain": [
       "'2022'"
      ]
     },
     "execution_count": 11,
     "metadata": {},
     "output_type": "execute_result"
    }
   ],
   "source": []
  },
  {
   "cell_type": "code",
   "execution_count": null,
   "id": "4ea6a131",
   "metadata": {},
   "outputs": [],
   "source": []
  }
 ],
 "metadata": {
  "kernelspec": {
   "display_name": "Python (stock)",
   "language": "python",
   "name": "stock"
  },
  "language_info": {
   "codemirror_mode": {
    "name": "ipython",
    "version": 3
   },
   "file_extension": ".py",
   "mimetype": "text/x-python",
   "name": "python",
   "nbconvert_exporter": "python",
   "pygments_lexer": "ipython3",
   "version": "3.8.13"
  }
 },
 "nbformat": 4,
 "nbformat_minor": 5
}
