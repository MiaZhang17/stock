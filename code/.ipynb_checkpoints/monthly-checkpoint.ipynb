{
 "cells": [
  {
   "cell_type": "code",
   "execution_count": 1,
   "metadata": {},
   "outputs": [
    {
     "name": "stdout",
     "output_type": "stream",
     "text": [
      "2022_08_31\n"
     ]
    }
   ],
   "source": [
    "from excellib import set_excel_color_monthly\n",
    "from stocklib import get_stock_price, get_OTC_price\n",
    "from finance import get_yearly, get_df_monthly, get_df_monthly_check, get_df_quarterly\n",
    "from finance import get_this_quarter, get_quarter_income, get_quarter_finance, set_growth_eps\n",
    "from finance import get_df_quarterly_all, get_df_yearly_all\n",
    "\n",
    "import pandas as pd\n",
    "import numpy as np\n",
    "import time\n",
    "from datetime import datetime, timedelta\n",
    "from tqdm import tqdm\n",
    "\n",
    "root = 'D:/Mia/Stock/'\n",
    "path_quarterly = root + 'quarterly/'\n",
    "path_monthly = root + 'monthly/'\n",
    "path_month_finance = root + 'monthly_finance/'\n",
    "path_yearly = root + 'yearly/'\n",
    "path_finance = root + 'finance/'\n",
    "folder_name = ''\n",
    "s_today = datetime.now().strftime('%Y_%m_%d')\n",
    "print(s_today)\n",
    "\n",
    "# 公司發行股數\n",
    "path_company_stock_num = root + 'company_list.xlsx'\n",
    "path_check = path_quarterly + folder_name +'finance_quarterly_{}.xlsx'.format(s_today)"
   ]
  },
  {
   "cell_type": "code",
   "execution_count": 2,
   "metadata": {},
   "outputs": [
    {
     "name": "stdout",
     "output_type": "stream",
     "text": [
      "今天: 2022-08-31 第 3 季\n",
      "取得今日上市股票資訊: 20220831\n"
     ]
    },
    {
     "data": {
      "text/html": [
       "<div>\n",
       "<style scoped>\n",
       "    .dataframe tbody tr th:only-of-type {\n",
       "        vertical-align: middle;\n",
       "    }\n",
       "\n",
       "    .dataframe tbody tr th {\n",
       "        vertical-align: top;\n",
       "    }\n",
       "\n",
       "    .dataframe thead th {\n",
       "        text-align: right;\n",
       "    }\n",
       "</style>\n",
       "<table border=\"1\" class=\"dataframe\">\n",
       "  <thead>\n",
       "    <tr style=\"text-align: right;\">\n",
       "      <th></th>\n",
       "      <th>name</th>\n",
       "      <th>amount</th>\n",
       "      <th>open</th>\n",
       "      <th>high</th>\n",
       "      <th>low</th>\n",
       "      <th>close</th>\n",
       "    </tr>\n",
       "    <tr>\n",
       "      <th>id</th>\n",
       "      <th></th>\n",
       "      <th></th>\n",
       "      <th></th>\n",
       "      <th></th>\n",
       "      <th></th>\n",
       "      <th></th>\n",
       "    </tr>\n",
       "  </thead>\n",
       "  <tbody>\n",
       "    <tr>\n",
       "      <th>0050</th>\n",
       "      <td>元大台灣50</td>\n",
       "      <td>7324</td>\n",
       "      <td>115.95</td>\n",
       "      <td>117.6</td>\n",
       "      <td>115.8</td>\n",
       "      <td>117.6</td>\n",
       "    </tr>\n",
       "    <tr>\n",
       "      <th>0051</th>\n",
       "      <td>元大中型100</td>\n",
       "      <td>11</td>\n",
       "      <td>55.10</td>\n",
       "      <td>55.4</td>\n",
       "      <td>55.0</td>\n",
       "      <td>55.4</td>\n",
       "    </tr>\n",
       "  </tbody>\n",
       "</table>\n",
       "</div>"
      ],
      "text/plain": [
       "         name  amount    open   high    low  close\n",
       "id                                                \n",
       "0050   元大台灣50    7324  115.95  117.6  115.8  117.6\n",
       "0051  元大中型100      11   55.10   55.4   55.0   55.4"
      ]
     },
     "execution_count": 2,
     "metadata": {},
     "output_type": "execute_result"
    }
   ],
   "source": [
    "# # 取得今日股價\n",
    "today = datetime.today().date() #- timedelta(days=2)\n",
    "this_year = today.year\n",
    "this_quarter = get_this_quarter()\n",
    "\n",
    "n = 1\n",
    "if today.weekday() == 0:\n",
    "    n = 3\n",
    "\n",
    "print('今天:', today, '第', this_quarter, '季')\n",
    "# 台灣證券交易所\n",
    "df_today = get_stock_price(today)\n",
    "df_today.head(2)"
   ]
  },
  {
   "cell_type": "code",
   "execution_count": 3,
   "metadata": {
    "scrolled": true
   },
   "outputs": [
    {
     "name": "stdout",
     "output_type": "stream",
     "text": [
      "目前月報年份： 111/7\n",
      "從月報 篩選出幾家公司\n",
      "上個月營收 > 10億 上個月營收成長 > 10% or 去年同季營收成長 > 10%\n",
      "(6777, 14)\n",
      "所有公司筆數： 971\n",
      "本月觀察公司筆數： 165\n"
     ]
    },
    {
     "data": {
      "text/html": [
       "<div>\n",
       "<style scoped>\n",
       "    .dataframe tbody tr th:only-of-type {\n",
       "        vertical-align: middle;\n",
       "    }\n",
       "\n",
       "    .dataframe tbody tr th {\n",
       "        vertical-align: top;\n",
       "    }\n",
       "\n",
       "    .dataframe thead th {\n",
       "        text-align: right;\n",
       "    }\n",
       "</style>\n",
       "<table border=\"1\" class=\"dataframe\">\n",
       "  <thead>\n",
       "    <tr style=\"text-align: right;\">\n",
       "      <th></th>\n",
       "      <th>出表日期</th>\n",
       "      <th>資料年月</th>\n",
       "      <th>公司代號</th>\n",
       "      <th>公司名稱</th>\n",
       "      <th>產業別</th>\n",
       "      <th>營業收入-當月營收</th>\n",
       "      <th>營業收入-上月營收</th>\n",
       "      <th>營業收入-去年當月營收</th>\n",
       "      <th>營業收入-上月比較增減(%)</th>\n",
       "      <th>營業收入-去年同月增減(%)</th>\n",
       "      <th>累計營業收入-當月累計營收</th>\n",
       "      <th>累計營業收入-去年累計營收</th>\n",
       "      <th>累計營業收入-前期比較增減(%)</th>\n",
       "      <th>備註</th>\n",
       "    </tr>\n",
       "  </thead>\n",
       "  <tbody>\n",
       "    <tr>\n",
       "      <th>0</th>\n",
       "      <td>111/08/30</td>\n",
       "      <td>111/7</td>\n",
       "      <td>1101</td>\n",
       "      <td>台泥</td>\n",
       "      <td>水泥工業</td>\n",
       "      <td>101.02</td>\n",
       "      <td>91.46</td>\n",
       "      <td>83.20</td>\n",
       "      <td>10.46</td>\n",
       "      <td>21.42</td>\n",
       "      <td>582.47</td>\n",
       "      <td>583.43</td>\n",
       "      <td>-0.16</td>\n",
       "      <td>以上營收不包含停業部門營收:111年7月 0 仟元暨110年7月1,366,138仟元；11...</td>\n",
       "    </tr>\n",
       "    <tr>\n",
       "      <th>0</th>\n",
       "      <td>111/08/30</td>\n",
       "      <td>111/6</td>\n",
       "      <td>1101</td>\n",
       "      <td>台泥</td>\n",
       "      <td>水泥工業</td>\n",
       "      <td>91.46</td>\n",
       "      <td>77.34</td>\n",
       "      <td>84.81</td>\n",
       "      <td>18.26</td>\n",
       "      <td>7.84</td>\n",
       "      <td>481.45</td>\n",
       "      <td>500.23</td>\n",
       "      <td>-3.76</td>\n",
       "      <td>以上營收不包含停業部門營收:111年6月 0 仟元暨110年6月1,162,600仟元；11...</td>\n",
       "    </tr>\n",
       "  </tbody>\n",
       "</table>\n",
       "</div>"
      ],
      "text/plain": [
       "        出表日期   資料年月  公司代號 公司名稱   產業別  營業收入-當月營收  營業收入-上月營收  營業收入-去年當月營收  \\\n",
       "0  111/08/30  111/7  1101   台泥  水泥工業     101.02      91.46        83.20   \n",
       "0  111/08/30  111/6  1101   台泥  水泥工業      91.46      77.34        84.81   \n",
       "\n",
       "   營業收入-上月比較增減(%)  營業收入-去年同月增減(%)  累計營業收入-當月累計營收  累計營業收入-去年累計營收  \\\n",
       "0           10.46           21.42         582.47         583.43   \n",
       "0           18.26            7.84         481.45         500.23   \n",
       "\n",
       "   累計營業收入-前期比較增減(%)                                                 備註  \n",
       "0             -0.16  以上營收不包含停業部門營收:111年7月 0 仟元暨110年7月1,366,138仟元；11...  \n",
       "0             -3.76  以上營收不包含停業部門營收:111年6月 0 仟元暨110年6月1,162,600仟元；11...  "
      ]
     },
     "execution_count": 3,
     "metadata": {},
     "output_type": "execute_result"
    }
   ],
   "source": [
    "# # 月報\n",
    "# #### 彙總報表 (單位：千元)\n",
    "# https://mops.twse.com.tw/mops/web/t21sc04_ifrs\n",
    "\n",
    "# # 從月報 篩選出公司\n",
    "# 上個月營收 > 30億\n",
    "# 上個月營收成長 > 20% or 去年同季營收成長 > 20%\n",
    "df_monthly_check = get_df_monthly_check(path_month_finance, income=10, income_growth_MoM=10, income_growth_YoY=10, pre_month=False)\n",
    "df_monthly_check.head(2)"
   ]
  },
  {
   "cell_type": "code",
   "execution_count": 4,
   "metadata": {},
   "outputs": [
    {
     "name": "stdout",
     "output_type": "stream",
     "text": [
      "觀察中公司有 165 筆\n"
     ]
    },
    {
     "name": "stderr",
     "output_type": "stream",
     "text": [
      "  0%|                                                                                          | 0/165 [00:00<?, ?it/s]C:\\Users\\Mia\\anaconda3\\envs\\stock\\lib\\site-packages\\openpyxl\\styles\\stylesheet.py:226: UserWarning: Workbook contains no default style, apply openpyxl's default\n",
      "  warn(\"Workbook contains no default style, apply openpyxl's default\")\n",
      "  1%|▍                                                                               | 1/165 [00:27<1:16:09, 27.87s/it]"
     ]
    },
    {
     "name": "stdout",
     "output_type": "stream",
     "text": [
      "1/165  1101, wait, 4\n",
      "1101 ：毛利率 0.4 < 20%，跳過\n"
     ]
    },
    {
     "name": "stderr",
     "output_type": "stream",
     "text": [
      "C:\\Users\\Mia\\anaconda3\\envs\\stock\\lib\\site-packages\\openpyxl\\styles\\stylesheet.py:226: UserWarning: Workbook contains no default style, apply openpyxl's default\n",
      "  warn(\"Workbook contains no default style, apply openpyxl's default\")\n",
      "\r",
      "  1%|▉                                                                               | 2/165 [00:58<1:19:52, 29.40s/it]"
     ]
    },
    {
     "name": "stdout",
     "output_type": "stream",
     "text": [
      "2/165  1102, wait, 8\n",
      "1102 ：毛利率 17.0 < 20%，跳過\n"
     ]
    },
    {
     "name": "stderr",
     "output_type": "stream",
     "text": [
      "C:\\Users\\Mia\\anaconda3\\envs\\stock\\lib\\site-packages\\openpyxl\\styles\\stylesheet.py:226: UserWarning: Workbook contains no default style, apply openpyxl's default\n",
      "  warn(\"Workbook contains no default style, apply openpyxl's default\")\n",
      "\r",
      "  2%|█▍                                                                              | 3/165 [01:22<1:13:22, 27.18s/it]"
     ]
    },
    {
     "name": "stdout",
     "output_type": "stream",
     "text": [
      "3/165  1215, wait, 7\n",
      "1215 ：毛利率 15.4 < 20%，跳過\n"
     ]
    },
    {
     "name": "stderr",
     "output_type": "stream",
     "text": [
      "C:\\Users\\Mia\\anaconda3\\envs\\stock\\lib\\site-packages\\openpyxl\\styles\\stylesheet.py:226: UserWarning: Workbook contains no default style, apply openpyxl's default\n",
      "  warn(\"Workbook contains no default style, apply openpyxl's default\")\n",
      "\r",
      "  2%|█▉                                                                              | 4/165 [01:42<1:05:04, 24.25s/it]"
     ]
    },
    {
     "name": "stdout",
     "output_type": "stream",
     "text": [
      "4/165  1216, wait, 7\n",
      "1216 ：營益率 < 8%，跳過\n"
     ]
    },
    {
     "name": "stderr",
     "output_type": "stream",
     "text": [
      "C:\\Users\\Mia\\anaconda3\\envs\\stock\\lib\\site-packages\\openpyxl\\styles\\stylesheet.py:226: UserWarning: Workbook contains no default style, apply openpyxl's default\n",
      "  warn(\"Workbook contains no default style, apply openpyxl's default\")\n",
      "\r",
      "  3%|██▍                                                                               | 5/165 [01:47<46:18, 17.36s/it]"
     ]
    },
    {
     "name": "stdout",
     "output_type": "stream",
     "text": [
      "5/165  1218, wait, 7\n",
      "1218 ：毛利率 14.4 < 20%，跳過\n"
     ]
    },
    {
     "name": "stderr",
     "output_type": "stream",
     "text": [
      "C:\\Users\\Mia\\anaconda3\\envs\\stock\\lib\\site-packages\\openpyxl\\styles\\stylesheet.py:226: UserWarning: Workbook contains no default style, apply openpyxl's default\n",
      "  warn(\"Workbook contains no default style, apply openpyxl's default\")\n",
      "\r",
      "  4%|██▉                                                                               | 6/165 [01:50<33:10, 12.52s/it]"
     ]
    },
    {
     "name": "stdout",
     "output_type": "stream",
     "text": [
      "6/165  1225, wait, 6\n",
      "1225 ：毛利率 8.9 < 20%，跳過\n"
     ]
    },
    {
     "name": "stderr",
     "output_type": "stream",
     "text": [
      "C:\\Users\\Mia\\anaconda3\\envs\\stock\\lib\\site-packages\\openpyxl\\styles\\stylesheet.py:226: UserWarning: Workbook contains no default style, apply openpyxl's default\n",
      "  warn(\"Workbook contains no default style, apply openpyxl's default\")\n",
      "\r",
      "  4%|███▍                                                                              | 7/165 [01:51<22:51,  8.68s/it]"
     ]
    },
    {
     "name": "stdout",
     "output_type": "stream",
     "text": [
      "7/165  1227, wait, 7\n",
      "1227 ：營益率 < 8%，跳過\n"
     ]
    },
    {
     "name": "stderr",
     "output_type": "stream",
     "text": [
      "C:\\Users\\Mia\\anaconda3\\envs\\stock\\lib\\site-packages\\openpyxl\\styles\\stylesheet.py:226: UserWarning: Workbook contains no default style, apply openpyxl's default\n",
      "  warn(\"Workbook contains no default style, apply openpyxl's default\")\n",
      "\r",
      "  5%|███▉                                                                              | 8/165 [01:52<16:07,  6.16s/it]"
     ]
    },
    {
     "name": "stdout",
     "output_type": "stream",
     "text": [
      "8/165  1232, wait, 6\n",
      "1232 ：毛利率 11.4 < 20%，跳過\n"
     ]
    },
    {
     "name": "stderr",
     "output_type": "stream",
     "text": [
      "C:\\Users\\Mia\\anaconda3\\envs\\stock\\lib\\site-packages\\openpyxl\\styles\\stylesheet.py:226: UserWarning: Workbook contains no default style, apply openpyxl's default\n",
      "  warn(\"Workbook contains no default style, apply openpyxl's default\")\n",
      "\r",
      "  5%|████▍                                                                             | 9/165 [01:55<13:23,  5.15s/it]"
     ]
    },
    {
     "name": "stdout",
     "output_type": "stream",
     "text": [
      "9/165  1310, wait, 7\n",
      "1310 ：毛利率 -2.5 < 20%，跳過\n"
     ]
    },
    {
     "name": "stderr",
     "output_type": "stream",
     "text": [
      "C:\\Users\\Mia\\anaconda3\\envs\\stock\\lib\\site-packages\\openpyxl\\styles\\stylesheet.py:226: UserWarning: Workbook contains no default style, apply openpyxl's default\n",
      "  warn(\"Workbook contains no default style, apply openpyxl's default\")\n"
     ]
    },
    {
     "name": "stdout",
     "output_type": "stream",
     "text": [
      "10/165  1319, wait, 9\n",
      "1319  wait  5\n",
      "'2022'\n"
     ]
    },
    {
     "name": "stderr",
     "output_type": "stream",
     "text": [
      "  6%|████▉                                                                            | 10/165 [02:11<21:41,  8.39s/it]C:\\Users\\Mia\\anaconda3\\envs\\stock\\lib\\site-packages\\openpyxl\\styles\\stylesheet.py:226: UserWarning: Workbook contains no default style, apply openpyxl's default\n",
      "  warn(\"Workbook contains no default style, apply openpyxl's default\")\n",
      "  7%|█████▍                                                                           | 11/165 [02:19<21:54,  8.54s/it]"
     ]
    },
    {
     "name": "stdout",
     "output_type": "stream",
     "text": [
      "11/165  1402, wait, 7\n",
      "1402 ：營益率 < 8%，跳過\n"
     ]
    },
    {
     "name": "stderr",
     "output_type": "stream",
     "text": [
      "C:\\Users\\Mia\\anaconda3\\envs\\stock\\lib\\site-packages\\openpyxl\\styles\\stylesheet.py:226: UserWarning: Workbook contains no default style, apply openpyxl's default\n",
      "  warn(\"Workbook contains no default style, apply openpyxl's default\")\n"
     ]
    },
    {
     "name": "stdout",
     "output_type": "stream",
     "text": [
      "12/165  1409, wait, 4\n",
      "1409  wait  6\n",
      "'2022'\n"
     ]
    },
    {
     "name": "stderr",
     "output_type": "stream",
     "text": [
      "  7%|█████▉                                                                           | 12/165 [02:33<25:25,  9.97s/it]C:\\Users\\Mia\\anaconda3\\envs\\stock\\lib\\site-packages\\openpyxl\\styles\\stylesheet.py:226: UserWarning: Workbook contains no default style, apply openpyxl's default\n",
      "  warn(\"Workbook contains no default style, apply openpyxl's default\")\n",
      "  8%|██████▍                                                                          | 13/165 [02:36<20:22,  8.04s/it]"
     ]
    },
    {
     "name": "stdout",
     "output_type": "stream",
     "text": [
      "13/165  1434, wait, 7\n",
      "1434 ：毛利率 10.6 < 20%，跳過\n"
     ]
    },
    {
     "name": "stderr",
     "output_type": "stream",
     "text": [
      "C:\\Users\\Mia\\anaconda3\\envs\\stock\\lib\\site-packages\\openpyxl\\styles\\stylesheet.py:226: UserWarning: Workbook contains no default style, apply openpyxl's default\n",
      "  warn(\"Workbook contains no default style, apply openpyxl's default\")\n",
      "\r",
      "  8%|██████▊                                                                          | 14/165 [02:39<16:35,  6.59s/it]"
     ]
    },
    {
     "name": "stdout",
     "output_type": "stream",
     "text": [
      "14/165  1447, wait, 4\n",
      "1447 ：毛利率 4.4 < 20%，跳過\n"
     ]
    },
    {
     "name": "stderr",
     "output_type": "stream",
     "text": [
      "C:\\Users\\Mia\\anaconda3\\envs\\stock\\lib\\site-packages\\openpyxl\\styles\\stylesheet.py:226: UserWarning: Workbook contains no default style, apply openpyxl's default\n",
      "  warn(\"Workbook contains no default style, apply openpyxl's default\")\n"
     ]
    },
    {
     "name": "stdout",
     "output_type": "stream",
     "text": [
      "15/165  1476, wait, 4\n",
      "1476  wait  5\n",
      "'2022'\n"
     ]
    },
    {
     "name": "stderr",
     "output_type": "stream",
     "text": [
      "  9%|███████▎                                                                         | 15/165 [02:52<20:44,  8.30s/it]C:\\Users\\Mia\\anaconda3\\envs\\stock\\lib\\site-packages\\openpyxl\\styles\\stylesheet.py:226: UserWarning: Workbook contains no default style, apply openpyxl's default\n",
      "  warn(\"Workbook contains no default style, apply openpyxl's default\")\n"
     ]
    },
    {
     "name": "stdout",
     "output_type": "stream",
     "text": [
      "16/165  1477, wait, 6\n",
      "1477  wait  6\n",
      "'2022'\n"
     ]
    },
    {
     "name": "stderr",
     "output_type": "stream",
     "text": [
      " 10%|███████▊                                                                         | 16/165 [03:09<27:03, 10.90s/it]C:\\Users\\Mia\\anaconda3\\envs\\stock\\lib\\site-packages\\openpyxl\\styles\\stylesheet.py:226: UserWarning: Workbook contains no default style, apply openpyxl's default\n",
      "  warn(\"Workbook contains no default style, apply openpyxl's default\")\n"
     ]
    },
    {
     "name": "stdout",
     "output_type": "stream",
     "text": [
      "17/165  1504, wait, 7\n",
      "1504  wait  9\n",
      "'2022'\n"
     ]
    },
    {
     "name": "stderr",
     "output_type": "stream",
     "text": [
      " 10%|████████▎                                                                        | 17/165 [03:26<31:55, 12.94s/it]C:\\Users\\Mia\\anaconda3\\envs\\stock\\lib\\site-packages\\openpyxl\\styles\\stylesheet.py:226: UserWarning: Workbook contains no default style, apply openpyxl's default\n",
      "  warn(\"Workbook contains no default style, apply openpyxl's default\")\n"
     ]
    },
    {
     "name": "stdout",
     "output_type": "stream",
     "text": [
      "18/165  1513, wait, 3\n",
      "1513  wait  6\n",
      "'2022'\n"
     ]
    },
    {
     "name": "stderr",
     "output_type": "stream",
     "text": [
      " 11%|████████▊                                                                        | 18/165 [03:45<35:46, 14.60s/it]C:\\Users\\Mia\\anaconda3\\envs\\stock\\lib\\site-packages\\openpyxl\\styles\\stylesheet.py:226: UserWarning: Workbook contains no default style, apply openpyxl's default\n",
      "  warn(\"Workbook contains no default style, apply openpyxl's default\")\n"
     ]
    },
    {
     "name": "stdout",
     "output_type": "stream",
     "text": [
      "19/165  1712, wait, 3\n",
      "1712  wait  6\n",
      "'2022'\n"
     ]
    },
    {
     "name": "stderr",
     "output_type": "stream",
     "text": [
      " 12%|█████████▎                                                                       | 19/165 [03:55<32:29, 13.35s/it]C:\\Users\\Mia\\anaconda3\\envs\\stock\\lib\\site-packages\\openpyxl\\styles\\stylesheet.py:226: UserWarning: Workbook contains no default style, apply openpyxl's default\n",
      "  warn(\"Workbook contains no default style, apply openpyxl's default\")\n",
      " 12%|█████████▊                                                                       | 20/165 [04:00<25:43, 10.65s/it]"
     ]
    },
    {
     "name": "stdout",
     "output_type": "stream",
     "text": [
      "20/165  1714, wait, 9\n",
      "1714 ：毛利率 8.6 < 20%，跳過\n"
     ]
    },
    {
     "name": "stderr",
     "output_type": "stream",
     "text": [
      "C:\\Users\\Mia\\anaconda3\\envs\\stock\\lib\\site-packages\\openpyxl\\styles\\stylesheet.py:226: UserWarning: Workbook contains no default style, apply openpyxl's default\n",
      "  warn(\"Workbook contains no default style, apply openpyxl's default\")\n",
      "\r",
      " 13%|██████████▎                                                                      | 21/165 [04:02<19:34,  8.16s/it]"
     ]
    },
    {
     "name": "stdout",
     "output_type": "stream",
     "text": [
      "21/165  1722, wait, 3\n",
      "1722 ：毛利率 1.3 < 20%，跳過\n"
     ]
    },
    {
     "name": "stderr",
     "output_type": "stream",
     "text": [
      "C:\\Users\\Mia\\anaconda3\\envs\\stock\\lib\\site-packages\\openpyxl\\styles\\stylesheet.py:226: UserWarning: Workbook contains no default style, apply openpyxl's default\n",
      "  warn(\"Workbook contains no default style, apply openpyxl's default\")\n",
      "\r",
      " 13%|██████████▊                                                                      | 22/165 [04:03<14:06,  5.92s/it]"
     ]
    },
    {
     "name": "stdout",
     "output_type": "stream",
     "text": [
      "22/165  1905, wait, 4\n",
      "1905 ：毛利率 13.2 < 20%，跳過\n"
     ]
    },
    {
     "name": "stderr",
     "output_type": "stream",
     "text": [
      "C:\\Users\\Mia\\anaconda3\\envs\\stock\\lib\\site-packages\\openpyxl\\styles\\stylesheet.py:226: UserWarning: Workbook contains no default style, apply openpyxl's default\n",
      "  warn(\"Workbook contains no default style, apply openpyxl's default\")\n",
      "\r",
      " 14%|███████████▎                                                                     | 23/165 [04:06<11:54,  5.03s/it]"
     ]
    },
    {
     "name": "stdout",
     "output_type": "stream",
     "text": [
      "23/165  2013, wait, 5\n",
      "2013 ：毛利率 4.0 < 20%，跳過\n"
     ]
    },
    {
     "name": "stderr",
     "output_type": "stream",
     "text": [
      "C:\\Users\\Mia\\anaconda3\\envs\\stock\\lib\\site-packages\\openpyxl\\styles\\stylesheet.py:226: UserWarning: Workbook contains no default style, apply openpyxl's default\n",
      "  warn(\"Workbook contains no default style, apply openpyxl's default\")\n"
     ]
    },
    {
     "name": "stdout",
     "output_type": "stream",
     "text": [
      "24/165  2049, wait, 3\n",
      "2049  wait  8\n",
      "'2022'\n"
     ]
    },
    {
     "name": "stderr",
     "output_type": "stream",
     "text": [
      " 15%|███████████▊                                                                     | 24/165 [04:20<18:09,  7.72s/it]C:\\Users\\Mia\\anaconda3\\envs\\stock\\lib\\site-packages\\openpyxl\\styles\\stylesheet.py:226: UserWarning: Workbook contains no default style, apply openpyxl's default\n",
      "  warn(\"Workbook contains no default style, apply openpyxl's default\")\n",
      " 15%|████████████▎                                                                    | 25/165 [04:22<14:23,  6.17s/it]"
     ]
    },
    {
     "name": "stdout",
     "output_type": "stream",
     "text": [
      "25/165  2103, wait, 6\n",
      "2103 ：毛利率 18.3 < 20%，跳過\n"
     ]
    },
    {
     "name": "stderr",
     "output_type": "stream",
     "text": [
      "C:\\Users\\Mia\\anaconda3\\envs\\stock\\lib\\site-packages\\openpyxl\\styles\\stylesheet.py:226: UserWarning: Workbook contains no default style, apply openpyxl's default\n",
      "  warn(\"Workbook contains no default style, apply openpyxl's default\")\n",
      "\r",
      " 16%|████████████▊                                                                    | 26/165 [04:23<10:41,  4.62s/it]"
     ]
    },
    {
     "name": "stdout",
     "output_type": "stream",
     "text": [
      "26/165  2104, wait, 8\n",
      "2104 ：毛利率 11.2 < 20%，跳過\n"
     ]
    },
    {
     "name": "stderr",
     "output_type": "stream",
     "text": [
      "C:\\Users\\Mia\\anaconda3\\envs\\stock\\lib\\site-packages\\openpyxl\\styles\\stylesheet.py:226: UserWarning: Workbook contains no default style, apply openpyxl's default\n",
      "  warn(\"Workbook contains no default style, apply openpyxl's default\")\n",
      "\r",
      " 16%|█████████████▎                                                                   | 27/165 [04:27<09:52,  4.29s/it]"
     ]
    },
    {
     "name": "stdout",
     "output_type": "stream",
     "text": [
      "27/165  2204, wait, 6\n",
      "2204 ：毛利率 17.8 < 20%，跳過\n"
     ]
    },
    {
     "name": "stderr",
     "output_type": "stream",
     "text": [
      "C:\\Users\\Mia\\anaconda3\\envs\\stock\\lib\\site-packages\\openpyxl\\styles\\stylesheet.py:226: UserWarning: Workbook contains no default style, apply openpyxl's default\n",
      "  warn(\"Workbook contains no default style, apply openpyxl's default\")\n",
      "\r",
      " 17%|█████████████▋                                                                   | 28/165 [04:32<10:25,  4.57s/it]"
     ]
    },
    {
     "name": "stdout",
     "output_type": "stream",
     "text": [
      "28/165  2206, wait, 7\n",
      "2206 ：營益率 < 8%，跳過\n"
     ]
    },
    {
     "name": "stderr",
     "output_type": "stream",
     "text": [
      "C:\\Users\\Mia\\anaconda3\\envs\\stock\\lib\\site-packages\\openpyxl\\styles\\stylesheet.py:226: UserWarning: Workbook contains no default style, apply openpyxl's default\n",
      "  warn(\"Workbook contains no default style, apply openpyxl's default\")\n"
     ]
    },
    {
     "name": "stdout",
     "output_type": "stream",
     "text": [
      "29/165  2207, wait, 4\n",
      "2207  wait  5\n",
      "'2022'\n"
     ]
    },
    {
     "name": "stderr",
     "output_type": "stream",
     "text": [
      " 18%|██████████████▏                                                                  | 29/165 [04:44<15:36,  6.89s/it]C:\\Users\\Mia\\anaconda3\\envs\\stock\\lib\\site-packages\\openpyxl\\styles\\stylesheet.py:226: UserWarning: Workbook contains no default style, apply openpyxl's default\n",
      "  warn(\"Workbook contains no default style, apply openpyxl's default\")\n",
      " 18%|██████████████▋                                                                  | 30/165 [04:48<13:39,  6.07s/it]"
     ]
    },
    {
     "name": "stdout",
     "output_type": "stream",
     "text": [
      "30/165  2227, wait, 4\n",
      "2227 ：毛利率 9.9 < 20%，跳過\n"
     ]
    },
    {
     "name": "stderr",
     "output_type": "stream",
     "text": [
      "C:\\Users\\Mia\\anaconda3\\envs\\stock\\lib\\site-packages\\openpyxl\\styles\\stylesheet.py:226: UserWarning: Workbook contains no default style, apply openpyxl's default\n",
      "  warn(\"Workbook contains no default style, apply openpyxl's default\")\n",
      "\r",
      " 19%|███████████████▏                                                                 | 31/165 [04:51<11:26,  5.12s/it]"
     ]
    },
    {
     "name": "stdout",
     "output_type": "stream",
     "text": [
      "31/165  2239, wait, 6\n",
      "2239 ：毛利率 10.0 < 20%，跳過\n"
     ]
    },
    {
     "name": "stderr",
     "output_type": "stream",
     "text": [
      "C:\\Users\\Mia\\anaconda3\\envs\\stock\\lib\\site-packages\\openpyxl\\styles\\stylesheet.py:226: UserWarning: Workbook contains no default style, apply openpyxl's default\n",
      "  warn(\"Workbook contains no default style, apply openpyxl's default\")\n"
     ]
    },
    {
     "name": "stdout",
     "output_type": "stream",
     "text": [
      "32/165  2303, wait, 8\n",
      "2303  wait  6\n",
      "'2022'\n"
     ]
    },
    {
     "name": "stderr",
     "output_type": "stream",
     "text": [
      " 19%|███████████████▋                                                                 | 32/165 [05:13<22:15, 10.04s/it]C:\\Users\\Mia\\anaconda3\\envs\\stock\\lib\\site-packages\\openpyxl\\styles\\stylesheet.py:226: UserWarning: Workbook contains no default style, apply openpyxl's default\n",
      "  warn(\"Workbook contains no default style, apply openpyxl's default\")\n"
     ]
    },
    {
     "name": "stdout",
     "output_type": "stream",
     "text": [
      "33/165  2308, wait, 3\n",
      "2308  wait  5\n",
      "'2022'\n"
     ]
    },
    {
     "name": "stderr",
     "output_type": "stream",
     "text": [
      " 20%|████████████████▏                                                                | 33/165 [05:25<23:11, 10.55s/it]C:\\Users\\Mia\\anaconda3\\envs\\stock\\lib\\site-packages\\openpyxl\\styles\\stylesheet.py:226: UserWarning: Workbook contains no default style, apply openpyxl's default\n",
      "  warn(\"Workbook contains no default style, apply openpyxl's default\")\n",
      " 21%|████████████████▋                                                                | 34/165 [05:25<16:35,  7.60s/it]"
     ]
    },
    {
     "name": "stdout",
     "output_type": "stream",
     "text": [
      "34/165  2312, wait, 9\n",
      "2312 ：毛利率 6.0 < 20%，跳過\n"
     ]
    },
    {
     "name": "stderr",
     "output_type": "stream",
     "text": [
      "C:\\Users\\Mia\\anaconda3\\envs\\stock\\lib\\site-packages\\openpyxl\\styles\\stylesheet.py:226: UserWarning: Workbook contains no default style, apply openpyxl's default\n",
      "  warn(\"Workbook contains no default style, apply openpyxl's default\")\n",
      "\r",
      " 21%|█████████████████▏                                                               | 35/165 [05:26<11:58,  5.53s/it]"
     ]
    },
    {
     "name": "stdout",
     "output_type": "stream",
     "text": [
      "35/165  2313, wait, 8\n",
      "2313 ：毛利率 19.2 < 20%，跳過\n"
     ]
    },
    {
     "name": "stderr",
     "output_type": "stream",
     "text": [
      "C:\\Users\\Mia\\anaconda3\\envs\\stock\\lib\\site-packages\\openpyxl\\styles\\stylesheet.py:226: UserWarning: Workbook contains no default style, apply openpyxl's default\n",
      "  warn(\"Workbook contains no default style, apply openpyxl's default\")\n",
      "\r",
      " 22%|█████████████████▋                                                               | 36/165 [05:27<08:46,  4.08s/it]"
     ]
    },
    {
     "name": "stdout",
     "output_type": "stream",
     "text": [
      "36/165  2317, wait, 7\n",
      "2317 ：毛利率 6.4 < 20%，跳過\n"
     ]
    },
    {
     "name": "stderr",
     "output_type": "stream",
     "text": [
      "C:\\Users\\Mia\\anaconda3\\envs\\stock\\lib\\site-packages\\openpyxl\\styles\\stylesheet.py:226: UserWarning: Workbook contains no default style, apply openpyxl's default\n",
      "  warn(\"Workbook contains no default style, apply openpyxl's default\")\n"
     ]
    },
    {
     "name": "stdout",
     "output_type": "stream",
     "text": [
      "37/165  2330, wait, 7\n",
      "2330  wait  8\n",
      "'2022'\n"
     ]
    },
    {
     "name": "stderr",
     "output_type": "stream",
     "text": [
      " 22%|██████████████████▏                                                              | 37/165 [05:43<16:35,  7.78s/it]C:\\Users\\Mia\\anaconda3\\envs\\stock\\lib\\site-packages\\openpyxl\\styles\\stylesheet.py:226: UserWarning: Workbook contains no default style, apply openpyxl's default\n",
      "  warn(\"Workbook contains no default style, apply openpyxl's default\")\n",
      " 23%|██████████████████▋                                                              | 38/165 [05:46<13:24,  6.34s/it]"
     ]
    },
    {
     "name": "stdout",
     "output_type": "stream",
     "text": [
      "38/165  2331, wait, 9\n",
      "2331 ：毛利率 9.4 < 20%，跳過\n"
     ]
    },
    {
     "name": "stderr",
     "output_type": "stream",
     "text": [
      "C:\\Users\\Mia\\anaconda3\\envs\\stock\\lib\\site-packages\\openpyxl\\styles\\stylesheet.py:226: UserWarning: Workbook contains no default style, apply openpyxl's default\n",
      "  warn(\"Workbook contains no default style, apply openpyxl's default\")\n",
      "\r",
      " 24%|███████████████████▏                                                             | 39/165 [05:47<10:06,  4.81s/it]"
     ]
    },
    {
     "name": "stdout",
     "output_type": "stream",
     "text": [
      "39/165  2332, wait, 6\n",
      "2332 ：營益率 < 8%，跳過\n"
     ]
    },
    {
     "name": "stderr",
     "output_type": "stream",
     "text": [
      "C:\\Users\\Mia\\anaconda3\\envs\\stock\\lib\\site-packages\\openpyxl\\styles\\stylesheet.py:226: UserWarning: Workbook contains no default style, apply openpyxl's default\n",
      "  warn(\"Workbook contains no default style, apply openpyxl's default\")\n"
     ]
    },
    {
     "name": "stdout",
     "output_type": "stream",
     "text": [
      "40/165  2345, wait, 8\n",
      "2345  wait  7\n",
      "'2022'\n"
     ]
    },
    {
     "name": "stderr",
     "output_type": "stream",
     "text": [
      " 24%|███████████████████▋                                                             | 40/165 [06:06<18:37,  8.94s/it]C:\\Users\\Mia\\anaconda3\\envs\\stock\\lib\\site-packages\\openpyxl\\styles\\stylesheet.py:226: UserWarning: Workbook contains no default style, apply openpyxl's default\n",
      "  warn(\"Workbook contains no default style, apply openpyxl's default\")\n"
     ]
    },
    {
     "name": "stdout",
     "output_type": "stream",
     "text": [
      "41/165  2360, wait, 9\n",
      "2360  wait  8\n",
      "'2022'\n"
     ]
    },
    {
     "name": "stderr",
     "output_type": "stream",
     "text": [
      " 25%|████████████████████▏                                                            | 41/165 [06:24<24:23, 11.80s/it]C:\\Users\\Mia\\anaconda3\\envs\\stock\\lib\\site-packages\\openpyxl\\styles\\stylesheet.py:226: UserWarning: Workbook contains no default style, apply openpyxl's default\n",
      "  warn(\"Workbook contains no default style, apply openpyxl's default\")\n",
      " 25%|████████████████████▌                                                            | 42/165 [06:43<28:40, 13.98s/it]"
     ]
    },
    {
     "name": "stdout",
     "output_type": "stream",
     "text": [
      "42/165  2367, wait, 6\n",
      "2367 ：毛利率 14.8 < 20%，跳過\n"
     ]
    },
    {
     "name": "stderr",
     "output_type": "stream",
     "text": [
      "C:\\Users\\Mia\\anaconda3\\envs\\stock\\lib\\site-packages\\openpyxl\\styles\\stylesheet.py:226: UserWarning: Workbook contains no default style, apply openpyxl's default\n",
      "  warn(\"Workbook contains no default style, apply openpyxl's default\")\n"
     ]
    },
    {
     "name": "stdout",
     "output_type": "stream",
     "text": [
      "43/165  2368, wait, 6\n",
      "2368  wait  5\n",
      "'2022'\n"
     ]
    },
    {
     "name": "stderr",
     "output_type": "stream",
     "text": [
      " 26%|█████████████████████                                                            | 43/165 [07:08<35:09, 17.29s/it]C:\\Users\\Mia\\anaconda3\\envs\\stock\\lib\\site-packages\\openpyxl\\styles\\stylesheet.py:226: UserWarning: Workbook contains no default style, apply openpyxl's default\n",
      "  warn(\"Workbook contains no default style, apply openpyxl's default\")\n",
      " 27%|█████████████████████▌                                                           | 44/165 [07:11<26:01, 12.90s/it]"
     ]
    },
    {
     "name": "stdout",
     "output_type": "stream",
     "text": [
      "44/165  2382, wait, 3\n",
      "2382 ：毛利率 4.5 < 20%，跳過\n"
     ]
    },
    {
     "name": "stderr",
     "output_type": "stream",
     "text": [
      "C:\\Users\\Mia\\anaconda3\\envs\\stock\\lib\\site-packages\\openpyxl\\styles\\stylesheet.py:226: UserWarning: Workbook contains no default style, apply openpyxl's default\n",
      "  warn(\"Workbook contains no default style, apply openpyxl's default\")\n",
      "\r",
      " 27%|██████████████████████                                                           | 45/165 [07:14<19:42,  9.85s/it]"
     ]
    },
    {
     "name": "stdout",
     "output_type": "stream",
     "text": [
      "45/165  2385, wait, 8\n",
      "2385 ：毛利率 17.5 < 20%，跳過\n"
     ]
    },
    {
     "name": "stderr",
     "output_type": "stream",
     "text": [
      "C:\\Users\\Mia\\anaconda3\\envs\\stock\\lib\\site-packages\\openpyxl\\styles\\stylesheet.py:226: UserWarning: Workbook contains no default style, apply openpyxl's default\n",
      "  warn(\"Workbook contains no default style, apply openpyxl's default\")\n",
      "\r",
      " 28%|██████████████████████▌                                                          | 46/165 [07:16<15:15,  7.70s/it]"
     ]
    },
    {
     "name": "stdout",
     "output_type": "stream",
     "text": [
      "46/165  2387, wait, 3\n",
      "2387 ：毛利率 11.3 < 20%，跳過\n"
     ]
    },
    {
     "name": "stderr",
     "output_type": "stream",
     "text": [
      "C:\\Users\\Mia\\anaconda3\\envs\\stock\\lib\\site-packages\\openpyxl\\styles\\stylesheet.py:226: UserWarning: Workbook contains no default style, apply openpyxl's default\n",
      "  warn(\"Workbook contains no default style, apply openpyxl's default\")\n",
      "\r",
      " 28%|███████████████████████                                                          | 47/165 [07:19<11:59,  6.10s/it]"
     ]
    },
    {
     "name": "stdout",
     "output_type": "stream",
     "text": [
      "47/165  2392, wait, 5\n",
      "2392 ：毛利率 13.1 < 20%，跳過\n"
     ]
    },
    {
     "name": "stderr",
     "output_type": "stream",
     "text": [
      "C:\\Users\\Mia\\anaconda3\\envs\\stock\\lib\\site-packages\\openpyxl\\styles\\stylesheet.py:226: UserWarning: Workbook contains no default style, apply openpyxl's default\n",
      "  warn(\"Workbook contains no default style, apply openpyxl's default\")\n"
     ]
    },
    {
     "name": "stdout",
     "output_type": "stream",
     "text": [
      "48/165  2395, wait, 6\n",
      "2395  wait  7\n",
      "'2022'\n"
     ]
    },
    {
     "name": "stderr",
     "output_type": "stream",
     "text": [
      " 29%|███████████████████████▌                                                         | 48/165 [07:35<17:55,  9.20s/it]C:\\Users\\Mia\\anaconda3\\envs\\stock\\lib\\site-packages\\openpyxl\\styles\\stylesheet.py:226: UserWarning: Workbook contains no default style, apply openpyxl's default\n",
      "  warn(\"Workbook contains no default style, apply openpyxl's default\")\n",
      " 30%|████████████████████████                                                         | 49/165 [07:38<14:08,  7.31s/it]"
     ]
    },
    {
     "name": "stdout",
     "output_type": "stream",
     "text": [
      "49/165  2397, wait, 9\n",
      "2397 ：營益率 < 8%，跳過\n"
     ]
    },
    {
     "name": "stderr",
     "output_type": "stream",
     "text": [
      "C:\\Users\\Mia\\anaconda3\\envs\\stock\\lib\\site-packages\\openpyxl\\styles\\stylesheet.py:226: UserWarning: Workbook contains no default style, apply openpyxl's default\n",
      "  warn(\"Workbook contains no default style, apply openpyxl's default\")\n",
      "\r",
      " 30%|████████████████████████▌                                                        | 50/165 [07:42<11:42,  6.11s/it]"
     ]
    },
    {
     "name": "stdout",
     "output_type": "stream",
     "text": [
      "50/165  2404, wait, 3\n",
      "2404 ：毛利率 15.3 < 20%，跳過\n"
     ]
    },
    {
     "name": "stderr",
     "output_type": "stream",
     "text": [
      "C:\\Users\\Mia\\anaconda3\\envs\\stock\\lib\\site-packages\\openpyxl\\styles\\stylesheet.py:226: UserWarning: Workbook contains no default style, apply openpyxl's default\n",
      "  warn(\"Workbook contains no default style, apply openpyxl's default\")\n",
      "\r",
      " 31%|█████████████████████████                                                        | 51/165 [07:42<08:37,  4.54s/it]"
     ]
    },
    {
     "name": "stdout",
     "output_type": "stream",
     "text": [
      "51/165  2439, wait, 8\n",
      "2439 ：毛利率 12.5 < 20%，跳過\n"
     ]
    },
    {
     "name": "stderr",
     "output_type": "stream",
     "text": [
      "C:\\Users\\Mia\\anaconda3\\envs\\stock\\lib\\site-packages\\openpyxl\\styles\\stylesheet.py:226: UserWarning: Workbook contains no default style, apply openpyxl's default\n",
      "  warn(\"Workbook contains no default style, apply openpyxl's default\")\n"
     ]
    },
    {
     "name": "stdout",
     "output_type": "stream",
     "text": [
      "52/165  2474, wait, 9\n",
      "2474  wait  7\n",
      "'2022'\n"
     ]
    },
    {
     "name": "stderr",
     "output_type": "stream",
     "text": [
      " 32%|█████████████████████████▌                                                       | 52/165 [08:01<16:45,  8.90s/it]C:\\Users\\Mia\\anaconda3\\envs\\stock\\lib\\site-packages\\openpyxl\\styles\\stylesheet.py:226: UserWarning: Workbook contains no default style, apply openpyxl's default\n",
      "  warn(\"Workbook contains no default style, apply openpyxl's default\")\n",
      " 32%|██████████████████████████                                                       | 53/165 [08:02<12:02,  6.46s/it]"
     ]
    },
    {
     "name": "stdout",
     "output_type": "stream",
     "text": [
      "53/165  2501, wait, 7\n",
      "2501 ：毛利率 19.5 < 20%，跳過\n"
     ]
    },
    {
     "name": "stderr",
     "output_type": "stream",
     "text": [
      "C:\\Users\\Mia\\anaconda3\\envs\\stock\\lib\\site-packages\\openpyxl\\styles\\stylesheet.py:226: UserWarning: Workbook contains no default style, apply openpyxl's default\n",
      "  warn(\"Workbook contains no default style, apply openpyxl's default\")\n"
     ]
    },
    {
     "name": "stdout",
     "output_type": "stream",
     "text": [
      "54/165  2511, wait, 5\n",
      "2511  wait  6\n",
      "'2022'\n"
     ]
    },
    {
     "name": "stderr",
     "output_type": "stream",
     "text": [
      " 33%|██████████████████████████▌                                                      | 54/165 [08:20<18:27,  9.97s/it]C:\\Users\\Mia\\anaconda3\\envs\\stock\\lib\\site-packages\\openpyxl\\styles\\stylesheet.py:226: UserWarning: Workbook contains no default style, apply openpyxl's default\n",
      "  warn(\"Workbook contains no default style, apply openpyxl's default\")\n",
      " 33%|███████████████████████████                                                      | 55/165 [08:24<14:47,  8.06s/it]"
     ]
    },
    {
     "name": "stdout",
     "output_type": "stream",
     "text": [
      "55/165  2515, wait, 7\n",
      "2515 ：毛利率 7.8 < 20%，跳過\n"
     ]
    },
    {
     "name": "stderr",
     "output_type": "stream",
     "text": [
      "C:\\Users\\Mia\\anaconda3\\envs\\stock\\lib\\site-packages\\openpyxl\\styles\\stylesheet.py:226: UserWarning: Workbook contains no default style, apply openpyxl's default\n",
      "  warn(\"Workbook contains no default style, apply openpyxl's default\")\n",
      "\r",
      " 34%|███████████████████████████▍                                                     | 56/165 [08:27<11:49,  6.51s/it]"
     ]
    },
    {
     "name": "stdout",
     "output_type": "stream",
     "text": [
      "56/165  2535, wait, 9\n",
      "2535 ：毛利率 17.0 < 20%，跳過\n"
     ]
    },
    {
     "name": "stderr",
     "output_type": "stream",
     "text": [
      "C:\\Users\\Mia\\anaconda3\\envs\\stock\\lib\\site-packages\\openpyxl\\styles\\stylesheet.py:226: UserWarning: Workbook contains no default style, apply openpyxl's default\n",
      "  warn(\"Workbook contains no default style, apply openpyxl's default\")\n",
      "\r",
      " 35%|███████████████████████████▉                                                     | 57/165 [08:31<10:28,  5.82s/it]"
     ]
    },
    {
     "name": "stdout",
     "output_type": "stream",
     "text": [
      "57/165  2546, wait, 8\n",
      "2546 ：毛利率 10.7 < 20%，跳過\n"
     ]
    },
    {
     "name": "stderr",
     "output_type": "stream",
     "text": [
      "C:\\Users\\Mia\\anaconda3\\envs\\stock\\lib\\site-packages\\openpyxl\\styles\\stylesheet.py:226: UserWarning: Workbook contains no default style, apply openpyxl's default\n",
      "  warn(\"Workbook contains no default style, apply openpyxl's default\")\n"
     ]
    },
    {
     "name": "stdout",
     "output_type": "stream",
     "text": [
      "58/165  2548, wait, 9\n",
      "2548  wait  9\n",
      "'2022'\n"
     ]
    },
    {
     "name": "stderr",
     "output_type": "stream",
     "text": [
      " 35%|████████████████████████████▍                                                    | 58/165 [08:53<18:57, 10.63s/it]C:\\Users\\Mia\\anaconda3\\envs\\stock\\lib\\site-packages\\openpyxl\\styles\\stylesheet.py:226: UserWarning: Workbook contains no default style, apply openpyxl's default\n",
      "  warn(\"Workbook contains no default style, apply openpyxl's default\")\n",
      " 36%|████████████████████████████▉                                                    | 59/165 [08:54<13:33,  7.67s/it]"
     ]
    },
    {
     "name": "stdout",
     "output_type": "stream",
     "text": [
      "59/165  2597, wait, 6\n",
      "2597 ：毛利率 14.0 < 20%，跳過\n"
     ]
    },
    {
     "name": "stderr",
     "output_type": "stream",
     "text": [
      "C:\\Users\\Mia\\anaconda3\\envs\\stock\\lib\\site-packages\\openpyxl\\styles\\stylesheet.py:226: UserWarning: Workbook contains no default style, apply openpyxl's default\n",
      "  warn(\"Workbook contains no default style, apply openpyxl's default\")\n"
     ]
    },
    {
     "name": "stdout",
     "output_type": "stream",
     "text": [
      "60/165  2603, wait, 8\n",
      "2603  wait  6\n",
      "'2022'\n"
     ]
    },
    {
     "name": "stderr",
     "output_type": "stream",
     "text": [
      " 36%|█████████████████████████████▍                                                   | 60/165 [09:12<19:01, 10.87s/it]C:\\Users\\Mia\\anaconda3\\envs\\stock\\lib\\site-packages\\openpyxl\\styles\\stylesheet.py:226: UserWarning: Workbook contains no default style, apply openpyxl's default\n",
      "  warn(\"Workbook contains no default style, apply openpyxl's default\")\n"
     ]
    },
    {
     "name": "stdout",
     "output_type": "stream",
     "text": [
      "61/165  2606, wait, 6\n",
      "2606  wait  7\n",
      "'2022'\n"
     ]
    },
    {
     "name": "stderr",
     "output_type": "stream",
     "text": [
      " 37%|█████████████████████████████▉                                                   | 61/165 [09:27<20:45, 11.98s/it]C:\\Users\\Mia\\anaconda3\\envs\\stock\\lib\\site-packages\\openpyxl\\styles\\stylesheet.py:226: UserWarning: Workbook contains no default style, apply openpyxl's default\n",
      "  warn(\"Workbook contains no default style, apply openpyxl's default\")\n"
     ]
    },
    {
     "name": "stdout",
     "output_type": "stream",
     "text": [
      "62/165  2607, wait, 9\n",
      "2607  wait  8\n",
      "'2022'\n"
     ]
    },
    {
     "name": "stderr",
     "output_type": "stream",
     "text": [
      " 38%|██████████████████████████████▍                                                  | 62/165 [09:47<24:45, 14.43s/it]C:\\Users\\Mia\\anaconda3\\envs\\stock\\lib\\site-packages\\openpyxl\\styles\\stylesheet.py:226: UserWarning: Workbook contains no default style, apply openpyxl's default\n",
      "  warn(\"Workbook contains no default style, apply openpyxl's default\")\n"
     ]
    },
    {
     "name": "stdout",
     "output_type": "stream",
     "text": [
      "63/165  2609, wait, 4\n",
      "2609  wait  6\n",
      "'2022'\n"
     ]
    },
    {
     "name": "stderr",
     "output_type": "stream",
     "text": [
      " 38%|██████████████████████████████▉                                                  | 63/165 [09:58<23:01, 13.54s/it]C:\\Users\\Mia\\anaconda3\\envs\\stock\\lib\\site-packages\\openpyxl\\styles\\stylesheet.py:226: UserWarning: Workbook contains no default style, apply openpyxl's default\n",
      "  warn(\"Workbook contains no default style, apply openpyxl's default\")\n",
      " 39%|███████████████████████████████▍                                                 | 64/165 [09:59<16:18,  9.69s/it]"
     ]
    },
    {
     "name": "stdout",
     "output_type": "stream",
     "text": [
      "64/165  2610, wait, 6\n",
      "2610 ：毛利率 7.3 < 20%，跳過\n"
     ]
    },
    {
     "name": "stderr",
     "output_type": "stream",
     "text": [
      "C:\\Users\\Mia\\anaconda3\\envs\\stock\\lib\\site-packages\\openpyxl\\styles\\stylesheet.py:226: UserWarning: Workbook contains no default style, apply openpyxl's default\n",
      "  warn(\"Workbook contains no default style, apply openpyxl's default\")\n"
     ]
    },
    {
     "name": "stdout",
     "output_type": "stream",
     "text": [
      "65/165  2615, wait, 4\n",
      "2615  wait  5\n",
      "'2022'\n"
     ]
    },
    {
     "name": "stderr",
     "output_type": "stream",
     "text": [
      " 39%|███████████████████████████████▉                                                 | 65/165 [10:09<16:31,  9.91s/it]C:\\Users\\Mia\\anaconda3\\envs\\stock\\lib\\site-packages\\openpyxl\\styles\\stylesheet.py:226: UserWarning: Workbook contains no default style, apply openpyxl's default\n",
      "  warn(\"Workbook contains no default style, apply openpyxl's default\")\n",
      " 40%|████████████████████████████████▍                                                | 66/165 [10:12<12:44,  7.72s/it]"
     ]
    },
    {
     "name": "stdout",
     "output_type": "stream",
     "text": [
      "66/165  2618, wait, 3\n",
      "2618 ：毛利率 14.2 < 20%，跳過\n"
     ]
    },
    {
     "name": "stderr",
     "output_type": "stream",
     "text": [
      "C:\\Users\\Mia\\anaconda3\\envs\\stock\\lib\\site-packages\\openpyxl\\styles\\stylesheet.py:226: UserWarning: Workbook contains no default style, apply openpyxl's default\n",
      "  warn(\"Workbook contains no default style, apply openpyxl's default\")\n",
      "\r",
      " 41%|████████████████████████████████▉                                                | 67/165 [10:14<09:53,  6.05s/it]"
     ]
    },
    {
     "name": "stdout",
     "output_type": "stream",
     "text": [
      "67/165  2633, wait, 4\n",
      "2633 ：毛利率 5.0 < 20%，跳過\n"
     ]
    },
    {
     "name": "stderr",
     "output_type": "stream",
     "text": [
      "C:\\Users\\Mia\\anaconda3\\envs\\stock\\lib\\site-packages\\openpyxl\\styles\\stylesheet.py:226: UserWarning: Workbook contains no default style, apply openpyxl's default\n",
      "  warn(\"Workbook contains no default style, apply openpyxl's default\")\n",
      "\r",
      " 41%|█████████████████████████████████▍                                               | 68/165 [10:17<08:07,  5.02s/it]"
     ]
    },
    {
     "name": "stdout",
     "output_type": "stream",
     "text": [
      "68/165  2634, wait, 5\n",
      "2634 ：毛利率 11.7 < 20%，跳過\n"
     ]
    },
    {
     "name": "stderr",
     "output_type": "stream",
     "text": [
      "C:\\Users\\Mia\\anaconda3\\envs\\stock\\lib\\site-packages\\openpyxl\\styles\\stylesheet.py:226: UserWarning: Workbook contains no default style, apply openpyxl's default\n",
      "  warn(\"Workbook contains no default style, apply openpyxl's default\")\n"
     ]
    },
    {
     "name": "stdout",
     "output_type": "stream",
     "text": [
      "69/165  2637, wait, 8\n",
      "2637  wait  8\n",
      "'2022'\n"
     ]
    },
    {
     "name": "stderr",
     "output_type": "stream",
     "text": [
      " 42%|█████████████████████████████████▊                                               | 69/165 [10:34<13:59,  8.75s/it]C:\\Users\\Mia\\anaconda3\\envs\\stock\\lib\\site-packages\\openpyxl\\styles\\stylesheet.py:226: UserWarning: Workbook contains no default style, apply openpyxl's default\n",
      "  warn(\"Workbook contains no default style, apply openpyxl's default\")\n",
      " 42%|██████████████████████████████████▎                                              | 70/165 [10:35<10:17,  6.50s/it]"
     ]
    },
    {
     "name": "stdout",
     "output_type": "stream",
     "text": [
      "70/165  2727, wait, 7\n",
      "2727 ：營益率 < 8%，跳過\n"
     ]
    },
    {
     "name": "stderr",
     "output_type": "stream",
     "text": [
      "C:\\Users\\Mia\\anaconda3\\envs\\stock\\lib\\site-packages\\openpyxl\\styles\\stylesheet.py:226: UserWarning: Workbook contains no default style, apply openpyxl's default\n",
      "  warn(\"Workbook contains no default style, apply openpyxl's default\")\n"
     ]
    },
    {
     "name": "stdout",
     "output_type": "stream",
     "text": [
      "71/165  2801, wait, 3\n",
      "2801  wait  7\n",
      "'2022'\n"
     ]
    },
    {
     "name": "stderr",
     "output_type": "stream",
     "text": [
      " 43%|██████████████████████████████████▊                                              | 71/165 [10:48<13:13,  8.44s/it]C:\\Users\\Mia\\anaconda3\\envs\\stock\\lib\\site-packages\\openpyxl\\styles\\stylesheet.py:226: UserWarning: Workbook contains no default style, apply openpyxl's default\n",
      "  warn(\"Workbook contains no default style, apply openpyxl's default\")\n"
     ]
    },
    {
     "name": "stdout",
     "output_type": "stream",
     "text": [
      "72/165  2809, wait, 8\n",
      "2809  wait  5\n",
      "'2022'\n"
     ]
    },
    {
     "name": "stderr",
     "output_type": "stream",
     "text": [
      " 44%|███████████████████████████████████▎                                             | 72/165 [11:03<15:51, 10.24s/it]C:\\Users\\Mia\\anaconda3\\envs\\stock\\lib\\site-packages\\openpyxl\\styles\\stylesheet.py:226: UserWarning: Workbook contains no default style, apply openpyxl's default\n",
      "  warn(\"Workbook contains no default style, apply openpyxl's default\")\n"
     ]
    },
    {
     "name": "stdout",
     "output_type": "stream",
     "text": [
      "73/165  2812, wait, 8\n",
      "2812  wait  7\n",
      "'2022'\n"
     ]
    },
    {
     "name": "stderr",
     "output_type": "stream",
     "text": [
      " 44%|███████████████████████████████████▊                                             | 73/165 [11:19<18:31, 12.08s/it]C:\\Users\\Mia\\anaconda3\\envs\\stock\\lib\\site-packages\\openpyxl\\styles\\stylesheet.py:226: UserWarning: Workbook contains no default style, apply openpyxl's default\n",
      "  warn(\"Workbook contains no default style, apply openpyxl's default\")\n"
     ]
    },
    {
     "name": "stdout",
     "output_type": "stream",
     "text": [
      "74/165  2834, wait, 7\n",
      "2834  wait  6\n",
      "'2022'\n"
     ]
    },
    {
     "name": "stderr",
     "output_type": "stream",
     "text": [
      " 45%|████████████████████████████████████▎                                            | 74/165 [11:34<19:24, 12.79s/it]C:\\Users\\Mia\\anaconda3\\envs\\stock\\lib\\site-packages\\openpyxl\\styles\\stylesheet.py:226: UserWarning: Workbook contains no default style, apply openpyxl's default\n",
      "  warn(\"Workbook contains no default style, apply openpyxl's default\")\n"
     ]
    },
    {
     "name": "stdout",
     "output_type": "stream",
     "text": [
      "75/165  2838, wait, 8\n",
      "2838  wait  5\n",
      "'2022'\n"
     ]
    },
    {
     "name": "stderr",
     "output_type": "stream",
     "text": [
      " 45%|████████████████████████████████████▊                                            | 75/165 [11:50<20:40, 13.78s/it]C:\\Users\\Mia\\anaconda3\\envs\\stock\\lib\\site-packages\\openpyxl\\styles\\stylesheet.py:226: UserWarning: Workbook contains no default style, apply openpyxl's default\n",
      "  warn(\"Workbook contains no default style, apply openpyxl's default\")\n"
     ]
    },
    {
     "name": "stdout",
     "output_type": "stream",
     "text": [
      "76/165  2845, wait, 3\n",
      "2845  wait  9\n",
      "'2022'\n"
     ]
    },
    {
     "name": "stderr",
     "output_type": "stream",
     "text": [
      " 46%|█████████████████████████████████████▎                                           | 76/165 [12:03<20:24, 13.76s/it]C:\\Users\\Mia\\anaconda3\\envs\\stock\\lib\\site-packages\\openpyxl\\styles\\stylesheet.py:226: UserWarning: Workbook contains no default style, apply openpyxl's default\n",
      "  warn(\"Workbook contains no default style, apply openpyxl's default\")\n",
      " 47%|█████████████████████████████████████▊                                           | 77/165 [12:07<15:48, 10.78s/it]"
     ]
    },
    {
     "name": "stdout",
     "output_type": "stream",
     "text": [
      "77/165  2867, wait, 8\n",
      "2867 ：毛利率 0.0 < 20%，跳過\n"
     ]
    },
    {
     "name": "stderr",
     "output_type": "stream",
     "text": [
      "C:\\Users\\Mia\\anaconda3\\envs\\stock\\lib\\site-packages\\openpyxl\\styles\\stylesheet.py:226: UserWarning: Workbook contains no default style, apply openpyxl's default\n",
      "  warn(\"Workbook contains no default style, apply openpyxl's default\")\n"
     ]
    },
    {
     "name": "stdout",
     "output_type": "stream",
     "text": [
      "78/165  2880, wait, 8\n",
      "2880  wait  6\n",
      "'2022'\n"
     ]
    },
    {
     "name": "stderr",
     "output_type": "stream",
     "text": [
      " 47%|██████████████████████████████████████▎                                          | 78/165 [12:25<18:28, 12.74s/it]C:\\Users\\Mia\\anaconda3\\envs\\stock\\lib\\site-packages\\openpyxl\\styles\\stylesheet.py:226: UserWarning: Workbook contains no default style, apply openpyxl's default\n",
      "  warn(\"Workbook contains no default style, apply openpyxl's default\")\n"
     ]
    },
    {
     "name": "stdout",
     "output_type": "stream",
     "text": [
      "79/165  2884, wait, 5\n",
      "2884  wait  5\n",
      "'2022'\n"
     ]
    },
    {
     "name": "stderr",
     "output_type": "stream",
     "text": [
      " 48%|██████████████████████████████████████▊                                          | 79/165 [12:36<17:45, 12.38s/it]C:\\Users\\Mia\\anaconda3\\envs\\stock\\lib\\site-packages\\openpyxl\\styles\\stylesheet.py:226: UserWarning: Workbook contains no default style, apply openpyxl's default\n",
      "  warn(\"Workbook contains no default style, apply openpyxl's default\")\n"
     ]
    },
    {
     "name": "stdout",
     "output_type": "stream",
     "text": [
      "80/165  2886, wait, 6\n",
      "2886  wait  5\n",
      "'2022'\n"
     ]
    },
    {
     "name": "stderr",
     "output_type": "stream",
     "text": [
      " 48%|███████████████████████████████████████▎                                         | 80/165 [12:52<18:52, 13.32s/it]C:\\Users\\Mia\\anaconda3\\envs\\stock\\lib\\site-packages\\openpyxl\\styles\\stylesheet.py:226: UserWarning: Workbook contains no default style, apply openpyxl's default\n",
      "  warn(\"Workbook contains no default style, apply openpyxl's default\")\n"
     ]
    },
    {
     "name": "stdout",
     "output_type": "stream",
     "text": [
      "81/165  2890, wait, 3\n",
      "2890  wait  9\n",
      "'2022'\n"
     ]
    },
    {
     "name": "stderr",
     "output_type": "stream",
     "text": [
      " 49%|███████████████████████████████████████▊                                         | 81/165 [13:05<18:47, 13.42s/it]C:\\Users\\Mia\\anaconda3\\envs\\stock\\lib\\site-packages\\openpyxl\\styles\\stylesheet.py:226: UserWarning: Workbook contains no default style, apply openpyxl's default\n",
      "  warn(\"Workbook contains no default style, apply openpyxl's default\")\n"
     ]
    },
    {
     "name": "stdout",
     "output_type": "stream",
     "text": [
      "82/165  2892, wait, 8\n",
      "2892  wait  9\n",
      "'2022'\n"
     ]
    },
    {
     "name": "stderr",
     "output_type": "stream",
     "text": [
      " 50%|████████████████████████████████████████▎                                        | 82/165 [13:24<20:39, 14.93s/it]C:\\Users\\Mia\\anaconda3\\envs\\stock\\lib\\site-packages\\openpyxl\\styles\\stylesheet.py:226: UserWarning: Workbook contains no default style, apply openpyxl's default\n",
      "  warn(\"Workbook contains no default style, apply openpyxl's default\")\n",
      " 50%|████████████████████████████████████████▋                                        | 83/165 [13:26<15:12, 11.12s/it]"
     ]
    },
    {
     "name": "stdout",
     "output_type": "stream",
     "text": [
      "83/165  2903, wait, 7\n",
      "2903 ：營益率 < 8%，跳過\n"
     ]
    },
    {
     "name": "stderr",
     "output_type": "stream",
     "text": [
      "C:\\Users\\Mia\\anaconda3\\envs\\stock\\lib\\site-packages\\openpyxl\\styles\\stylesheet.py:226: UserWarning: Workbook contains no default style, apply openpyxl's default\n",
      "  warn(\"Workbook contains no default style, apply openpyxl's default\")\n"
     ]
    },
    {
     "name": "stdout",
     "output_type": "stream",
     "text": [
      "84/165  2905, wait, 3\n",
      "2905  wait  8\n",
      "'2022'\n"
     ]
    },
    {
     "name": "stderr",
     "output_type": "stream",
     "text": [
      " 51%|█████████████████████████████████████████▏                                       | 84/165 [13:40<16:10, 11.98s/it]C:\\Users\\Mia\\anaconda3\\envs\\stock\\lib\\site-packages\\openpyxl\\styles\\stylesheet.py:226: UserWarning: Workbook contains no default style, apply openpyxl's default\n",
      "  warn(\"Workbook contains no default style, apply openpyxl's default\")\n",
      " 52%|█████████████████████████████████████████▋                                       | 85/165 [13:44<12:51,  9.65s/it]"
     ]
    },
    {
     "name": "stdout",
     "output_type": "stream",
     "text": [
      "85/165  2912, wait, 8\n",
      "2912 ：營益率 < 8%，跳過\n"
     ]
    },
    {
     "name": "stderr",
     "output_type": "stream",
     "text": [
      "C:\\Users\\Mia\\anaconda3\\envs\\stock\\lib\\site-packages\\openpyxl\\styles\\stylesheet.py:226: UserWarning: Workbook contains no default style, apply openpyxl's default\n",
      "  warn(\"Workbook contains no default style, apply openpyxl's default\")\n",
      "\r",
      " 52%|██████████████████████████████████████████▏                                      | 86/165 [13:46<09:47,  7.43s/it]"
     ]
    },
    {
     "name": "stdout",
     "output_type": "stream",
     "text": [
      "86/165  3005, wait, 3\n",
      "3005 ：營益率 < 8%，跳過\n"
     ]
    },
    {
     "name": "stderr",
     "output_type": "stream",
     "text": [
      "C:\\Users\\Mia\\anaconda3\\envs\\stock\\lib\\site-packages\\openpyxl\\styles\\stylesheet.py:226: UserWarning: Workbook contains no default style, apply openpyxl's default\n",
      "  warn(\"Workbook contains no default style, apply openpyxl's default\")\n"
     ]
    },
    {
     "name": "stdout",
     "output_type": "stream",
     "text": [
      "87/165  3008, wait, 8\n",
      "3008  wait  8\n",
      "'2022'\n"
     ]
    },
    {
     "name": "stderr",
     "output_type": "stream",
     "text": [
      " 53%|██████████████████████████████████████████▋                                      | 87/165 [14:06<14:28, 11.14s/it]C:\\Users\\Mia\\anaconda3\\envs\\stock\\lib\\site-packages\\openpyxl\\styles\\stylesheet.py:226: UserWarning: Workbook contains no default style, apply openpyxl's default\n",
      "  warn(\"Workbook contains no default style, apply openpyxl's default\")\n",
      " 53%|███████████████████████████████████████████▏                                     | 88/165 [14:09<11:02,  8.61s/it]"
     ]
    },
    {
     "name": "stdout",
     "output_type": "stream",
     "text": [
      "88/165  3015, wait, 3\n",
      "3015 ：毛利率 14.7 < 20%，跳過\n"
     ]
    },
    {
     "name": "stderr",
     "output_type": "stream",
     "text": [
      "C:\\Users\\Mia\\anaconda3\\envs\\stock\\lib\\site-packages\\openpyxl\\styles\\stylesheet.py:226: UserWarning: Workbook contains no default style, apply openpyxl's default\n",
      "  warn(\"Workbook contains no default style, apply openpyxl's default\")\n"
     ]
    },
    {
     "name": "stdout",
     "output_type": "stream",
     "text": [
      "89/165  3017, wait, 4\n",
      "3017  wait  6\n",
      "'2022'\n"
     ]
    },
    {
     "name": "stderr",
     "output_type": "stream",
     "text": [
      " 54%|███████████████████████████████████████████▋                                     | 89/165 [14:21<12:06,  9.56s/it]C:\\Users\\Mia\\anaconda3\\envs\\stock\\lib\\site-packages\\openpyxl\\styles\\stylesheet.py:226: UserWarning: Workbook contains no default style, apply openpyxl's default\n",
      "  warn(\"Workbook contains no default style, apply openpyxl's default\")\n"
     ]
    },
    {
     "name": "stdout",
     "output_type": "stream",
     "text": [
      "90/165  3023, wait, 3\n",
      "3023  wait  7\n",
      "'2022'\n"
     ]
    },
    {
     "name": "stderr",
     "output_type": "stream",
     "text": [
      " 55%|████████████████████████████████████████████▏                                    | 90/165 [14:32<12:41, 10.16s/it]C:\\Users\\Mia\\anaconda3\\envs\\stock\\lib\\site-packages\\openpyxl\\styles\\stylesheet.py:226: UserWarning: Workbook contains no default style, apply openpyxl's default\n",
      "  warn(\"Workbook contains no default style, apply openpyxl's default\")\n"
     ]
    },
    {
     "name": "stdout",
     "output_type": "stream",
     "text": [
      "91/165  3035, wait, 5\n",
      "3035  wait  9\n",
      "'2022'\n"
     ]
    },
    {
     "name": "stderr",
     "output_type": "stream",
     "text": [
      " 55%|████████████████████████████████████████████▋                                    | 91/165 [14:48<14:34, 11.81s/it]C:\\Users\\Mia\\anaconda3\\envs\\stock\\lib\\site-packages\\openpyxl\\styles\\stylesheet.py:226: UserWarning: Workbook contains no default style, apply openpyxl's default\n",
      "  warn(\"Workbook contains no default style, apply openpyxl's default\")\n",
      " 56%|█████████████████████████████████████████████▏                                   | 92/165 [14:49<10:19,  8.49s/it]"
     ]
    },
    {
     "name": "stdout",
     "output_type": "stream",
     "text": [
      "92/165  3036, wait, 7\n",
      "3036 ：毛利率 3.9 < 20%，跳過\n"
     ]
    },
    {
     "name": "stderr",
     "output_type": "stream",
     "text": [
      "C:\\Users\\Mia\\anaconda3\\envs\\stock\\lib\\site-packages\\openpyxl\\styles\\stylesheet.py:226: UserWarning: Workbook contains no default style, apply openpyxl's default\n",
      "  warn(\"Workbook contains no default style, apply openpyxl's default\")\n"
     ]
    },
    {
     "name": "stdout",
     "output_type": "stream",
     "text": [
      "93/165  3037, wait, 6\n",
      "3037  wait  7\n",
      "'2022'\n"
     ]
    },
    {
     "name": "stderr",
     "output_type": "stream",
     "text": [
      " 56%|█████████████████████████████████████████████▋                                   | 93/165 [15:03<12:20, 10.28s/it]C:\\Users\\Mia\\anaconda3\\envs\\stock\\lib\\site-packages\\openpyxl\\styles\\stylesheet.py:226: UserWarning: Workbook contains no default style, apply openpyxl's default\n",
      "  warn(\"Workbook contains no default style, apply openpyxl's default\")\n",
      " 57%|██████████████████████████████████████████████▏                                  | 94/165 [15:07<09:54,  8.37s/it]"
     ]
    },
    {
     "name": "stdout",
     "output_type": "stream",
     "text": [
      "94/165  3059, wait, 9\n",
      "3059 ：營益率 < 8%，跳過\n"
     ]
    },
    {
     "name": "stderr",
     "output_type": "stream",
     "text": [
      "C:\\Users\\Mia\\anaconda3\\envs\\stock\\lib\\site-packages\\openpyxl\\styles\\stylesheet.py:226: UserWarning: Workbook contains no default style, apply openpyxl's default\n",
      "  warn(\"Workbook contains no default style, apply openpyxl's default\")\n"
     ]
    },
    {
     "name": "stdout",
     "output_type": "stream",
     "text": [
      "95/165  3189, wait, 6\n",
      "3189  wait  9\n",
      "'2022'\n"
     ]
    },
    {
     "name": "stderr",
     "output_type": "stream",
     "text": [
      " 58%|██████████████████████████████████████████████▋                                  | 95/165 [15:24<12:43, 10.91s/it]C:\\Users\\Mia\\anaconda3\\envs\\stock\\lib\\site-packages\\openpyxl\\styles\\stylesheet.py:226: UserWarning: Workbook contains no default style, apply openpyxl's default\n",
      "  warn(\"Workbook contains no default style, apply openpyxl's default\")\n",
      " 58%|███████████████████████████████████████████████▏                                 | 96/165 [15:25<09:13,  8.02s/it]"
     ]
    },
    {
     "name": "stdout",
     "output_type": "stream",
     "text": [
      "96/165  3209, wait, 4\n",
      "3209 ：毛利率 4.4 < 20%，跳過\n"
     ]
    },
    {
     "name": "stderr",
     "output_type": "stream",
     "text": [
      "C:\\Users\\Mia\\anaconda3\\envs\\stock\\lib\\site-packages\\openpyxl\\styles\\stylesheet.py:226: UserWarning: Workbook contains no default style, apply openpyxl's default\n",
      "  warn(\"Workbook contains no default style, apply openpyxl's default\")\n",
      "\r",
      " 59%|███████████████████████████████████████████████▌                                 | 97/165 [15:26<06:36,  5.83s/it]"
     ]
    },
    {
     "name": "stdout",
     "output_type": "stream",
     "text": [
      "97/165  3231, wait, 6\n",
      "3231 ：毛利率 6.7 < 20%，跳過\n"
     ]
    },
    {
     "name": "stderr",
     "output_type": "stream",
     "text": [
      "C:\\Users\\Mia\\anaconda3\\envs\\stock\\lib\\site-packages\\openpyxl\\styles\\stylesheet.py:226: UserWarning: Workbook contains no default style, apply openpyxl's default\n",
      "  warn(\"Workbook contains no default style, apply openpyxl's default\")\n"
     ]
    },
    {
     "name": "stdout",
     "output_type": "stream",
     "text": [
      "98/165  3376, wait, 3\n",
      "3376  wait  6\n",
      "'2022'\n"
     ]
    },
    {
     "name": "stderr",
     "output_type": "stream",
     "text": [
      " 59%|████████████████████████████████████████████████                                 | 98/165 [15:36<08:05,  7.25s/it]C:\\Users\\Mia\\anaconda3\\envs\\stock\\lib\\site-packages\\openpyxl\\styles\\stylesheet.py:226: UserWarning: Workbook contains no default style, apply openpyxl's default\n",
      "  warn(\"Workbook contains no default style, apply openpyxl's default\")\n",
      " 60%|████████████████████████████████████████████████▌                                | 99/165 [15:38<06:03,  5.51s/it]"
     ]
    },
    {
     "name": "stdout",
     "output_type": "stream",
     "text": [
      "99/165  3380, wait, 3\n",
      "3380 ：毛利率 19.2 < 20%，跳過\n"
     ]
    },
    {
     "name": "stderr",
     "output_type": "stream",
     "text": [
      "C:\\Users\\Mia\\anaconda3\\envs\\stock\\lib\\site-packages\\openpyxl\\styles\\stylesheet.py:226: UserWarning: Workbook contains no default style, apply openpyxl's default\n",
      "  warn(\"Workbook contains no default style, apply openpyxl's default\")\n"
     ]
    },
    {
     "name": "stdout",
     "output_type": "stream",
     "text": [
      "100/165  3406, wait, 8\n",
      "3406  wait  6\n",
      "'2022'\n"
     ]
    },
    {
     "name": "stderr",
     "output_type": "stream",
     "text": [
      " 61%|████████████████████████████████████████████████▍                               | 100/165 [15:54<09:19,  8.60s/it]C:\\Users\\Mia\\anaconda3\\envs\\stock\\lib\\site-packages\\openpyxl\\styles\\stylesheet.py:226: UserWarning: Workbook contains no default style, apply openpyxl's default\n",
      "  warn(\"Workbook contains no default style, apply openpyxl's default\")\n"
     ]
    },
    {
     "name": "stdout",
     "output_type": "stream",
     "text": [
      "101/165  3413, wait, 6\n",
      "3413  wait  9\n",
      "'2022'\n"
     ]
    },
    {
     "name": "stderr",
     "output_type": "stream",
     "text": [
      " 61%|████████████████████████████████████████████████▉                               | 101/165 [16:12<12:16, 11.51s/it]C:\\Users\\Mia\\anaconda3\\envs\\stock\\lib\\site-packages\\openpyxl\\styles\\stylesheet.py:226: UserWarning: Workbook contains no default style, apply openpyxl's default\n",
      "  warn(\"Workbook contains no default style, apply openpyxl's default\")\n"
     ]
    },
    {
     "name": "stdout",
     "output_type": "stream",
     "text": [
      "102/165  3443, wait, 5\n",
      "3443  wait  7\n",
      "'2022'\n"
     ]
    },
    {
     "name": "stderr",
     "output_type": "stream",
     "text": [
      " 62%|█████████████████████████████████████████████████▍                              | 102/165 [16:25<12:41, 12.09s/it]C:\\Users\\Mia\\anaconda3\\envs\\stock\\lib\\site-packages\\openpyxl\\styles\\stylesheet.py:226: UserWarning: Workbook contains no default style, apply openpyxl's default\n",
      "  warn(\"Workbook contains no default style, apply openpyxl's default\")\n"
     ]
    },
    {
     "name": "stdout",
     "output_type": "stream",
     "text": [
      "103/165  3532, wait, 9\n",
      "3532  wait  7\n",
      "'2022'\n"
     ]
    },
    {
     "name": "stderr",
     "output_type": "stream",
     "text": [
      " 62%|█████████████████████████████████████████████████▉                              | 103/165 [16:43<14:10, 13.71s/it]C:\\Users\\Mia\\anaconda3\\envs\\stock\\lib\\site-packages\\openpyxl\\styles\\stylesheet.py:226: UserWarning: Workbook contains no default style, apply openpyxl's default\n",
      "  warn(\"Workbook contains no default style, apply openpyxl's default\")\n"
     ]
    },
    {
     "name": "stdout",
     "output_type": "stream",
     "text": [
      "104/165  3533, wait, 7\n",
      "3533  wait  8\n",
      "'2022'\n"
     ]
    },
    {
     "name": "stderr",
     "output_type": "stream",
     "text": [
      " 63%|██████████████████████████████████████████████████▍                             | 104/165 [17:02<15:41, 15.43s/it]C:\\Users\\Mia\\anaconda3\\envs\\stock\\lib\\site-packages\\openpyxl\\styles\\stylesheet.py:226: UserWarning: Workbook contains no default style, apply openpyxl's default\n",
      "  warn(\"Workbook contains no default style, apply openpyxl's default\")\n",
      " 64%|██████████████████████████████████████████████████▉                             | 105/165 [17:03<11:04, 11.08s/it]"
     ]
    },
    {
     "name": "stdout",
     "output_type": "stream",
     "text": [
      "105/165  3596, wait, 4\n",
      "3596 ：毛利率 13.8 < 20%，跳過\n"
     ]
    },
    {
     "name": "stderr",
     "output_type": "stream",
     "text": [
      "C:\\Users\\Mia\\anaconda3\\envs\\stock\\lib\\site-packages\\openpyxl\\styles\\stylesheet.py:226: UserWarning: Workbook contains no default style, apply openpyxl's default\n",
      "  warn(\"Workbook contains no default style, apply openpyxl's default\")\n"
     ]
    },
    {
     "name": "stdout",
     "output_type": "stream",
     "text": [
      "106/165  3617, wait, 3\n",
      "3617  wait  5\n",
      "'2022'\n"
     ]
    },
    {
     "name": "stderr",
     "output_type": "stream",
     "text": [
      " 64%|███████████████████████████████████████████████████▍                            | 106/165 [17:15<11:11, 11.38s/it]C:\\Users\\Mia\\anaconda3\\envs\\stock\\lib\\site-packages\\openpyxl\\styles\\stylesheet.py:226: UserWarning: Workbook contains no default style, apply openpyxl's default\n",
      "  warn(\"Workbook contains no default style, apply openpyxl's default\")\n",
      " 65%|███████████████████████████████████████████████████▉                            | 107/165 [17:16<07:55,  8.20s/it]"
     ]
    },
    {
     "name": "stdout",
     "output_type": "stream",
     "text": [
      "107/165  3665, wait, 6\n",
      "3665 ：營益率 < 8%，跳過\n"
     ]
    },
    {
     "name": "stderr",
     "output_type": "stream",
     "text": [
      "C:\\Users\\Mia\\anaconda3\\envs\\stock\\lib\\site-packages\\openpyxl\\styles\\stylesheet.py:226: UserWarning: Workbook contains no default style, apply openpyxl's default\n",
      "  warn(\"Workbook contains no default style, apply openpyxl's default\")\n",
      "\r",
      " 65%|████████████████████████████████████████████████████▎                           | 108/165 [17:19<06:10,  6.50s/it]"
     ]
    },
    {
     "name": "stdout",
     "output_type": "stream",
     "text": [
      "108/165  3673, wait, 4\n",
      "3673 ：毛利率 3.9 < 20%，跳過\n"
     ]
    },
    {
     "name": "stderr",
     "output_type": "stream",
     "text": [
      "C:\\Users\\Mia\\anaconda3\\envs\\stock\\lib\\site-packages\\openpyxl\\styles\\stylesheet.py:226: UserWarning: Workbook contains no default style, apply openpyxl's default\n",
      "  warn(\"Workbook contains no default style, apply openpyxl's default\")\n",
      "\r",
      " 66%|████████████████████████████████████████████████████▊                           | 109/165 [17:22<05:06,  5.48s/it]"
     ]
    },
    {
     "name": "stdout",
     "output_type": "stream",
     "text": [
      "109/165  3703, wait, 6\n",
      "3703 ：毛利率 17.6 < 20%，跳過\n"
     ]
    },
    {
     "name": "stderr",
     "output_type": "stream",
     "text": [
      "C:\\Users\\Mia\\anaconda3\\envs\\stock\\lib\\site-packages\\openpyxl\\styles\\stylesheet.py:226: UserWarning: Workbook contains no default style, apply openpyxl's default\n",
      "  warn(\"Workbook contains no default style, apply openpyxl's default\")\n",
      "\r",
      " 67%|█████████████████████████████████████████████████████▎                          | 110/165 [17:23<03:55,  4.28s/it]"
     ]
    },
    {
     "name": "stdout",
     "output_type": "stream",
     "text": [
      "110/165  3704, wait, 4\n",
      "3704 ：營益率 < 8%，跳過\n"
     ]
    },
    {
     "name": "stderr",
     "output_type": "stream",
     "text": [
      "C:\\Users\\Mia\\anaconda3\\envs\\stock\\lib\\site-packages\\openpyxl\\styles\\stylesheet.py:226: UserWarning: Workbook contains no default style, apply openpyxl's default\n",
      "  warn(\"Workbook contains no default style, apply openpyxl's default\")\n",
      "\r",
      " 67%|█████████████████████████████████████████████████████▊                          | 111/165 [17:26<03:28,  3.87s/it]"
     ]
    },
    {
     "name": "stdout",
     "output_type": "stream",
     "text": [
      "111/165  3706, wait, 3\n",
      "3706 ：毛利率 9.2 < 20%，跳過\n"
     ]
    },
    {
     "name": "stderr",
     "output_type": "stream",
     "text": [
      "C:\\Users\\Mia\\anaconda3\\envs\\stock\\lib\\site-packages\\openpyxl\\styles\\stylesheet.py:226: UserWarning: Workbook contains no default style, apply openpyxl's default\n",
      "  warn(\"Workbook contains no default style, apply openpyxl's default\")\n"
     ]
    },
    {
     "name": "stdout",
     "output_type": "stream",
     "text": [
      "112/165  3711, wait, 5\n",
      "3711  wait  6\n",
      "'2022'\n"
     ]
    },
    {
     "name": "stderr",
     "output_type": "stream",
     "text": [
      " 68%|██████████████████████████████████████████████████████▎                         | 112/165 [17:46<07:40,  8.70s/it]C:\\Users\\Mia\\anaconda3\\envs\\stock\\lib\\site-packages\\openpyxl\\styles\\stylesheet.py:226: UserWarning: Workbook contains no default style, apply openpyxl's default\n",
      "  warn(\"Workbook contains no default style, apply openpyxl's default\")\n",
      " 68%|██████████████████████████████████████████████████████▊                         | 113/165 [17:54<07:25,  8.56s/it]"
     ]
    },
    {
     "name": "stdout",
     "output_type": "stream",
     "text": [
      "113/165  4414, wait, 4\n",
      "4414 ：毛利率 10.2 < 20%，跳過\n"
     ]
    },
    {
     "name": "stderr",
     "output_type": "stream",
     "text": [
      "C:\\Users\\Mia\\anaconda3\\envs\\stock\\lib\\site-packages\\openpyxl\\styles\\stylesheet.py:226: UserWarning: Workbook contains no default style, apply openpyxl's default\n",
      "  warn(\"Workbook contains no default style, apply openpyxl's default\")\n",
      "\r",
      " 69%|███████████████████████████████████████████████████████▎                        | 114/165 [17:57<05:46,  6.79s/it]"
     ]
    },
    {
     "name": "stdout",
     "output_type": "stream",
     "text": [
      "114/165  4438, wait, 6\n",
      "4438 ：毛利率 19.1 < 20%，跳過\n"
     ]
    },
    {
     "name": "stderr",
     "output_type": "stream",
     "text": [
      "C:\\Users\\Mia\\anaconda3\\envs\\stock\\lib\\site-packages\\openpyxl\\styles\\stylesheet.py:226: UserWarning: Workbook contains no default style, apply openpyxl's default\n",
      "  warn(\"Workbook contains no default style, apply openpyxl's default\")\n",
      "\r",
      " 70%|███████████████████████████████████████████████████████▊                        | 115/165 [17:58<04:09,  4.99s/it]"
     ]
    },
    {
     "name": "stdout",
     "output_type": "stream",
     "text": [
      "115/165  4766, wait, 6\n",
      "4766 ：營益率 < 8%，跳過\n"
     ]
    },
    {
     "name": "stderr",
     "output_type": "stream",
     "text": [
      "C:\\Users\\Mia\\anaconda3\\envs\\stock\\lib\\site-packages\\openpyxl\\styles\\stylesheet.py:226: UserWarning: Workbook contains no default style, apply openpyxl's default\n",
      "  warn(\"Workbook contains no default style, apply openpyxl's default\")\n",
      "\r",
      " 70%|████████████████████████████████████████████████████████▏                       | 116/165 [17:59<03:08,  3.84s/it]"
     ]
    },
    {
     "name": "stdout",
     "output_type": "stream",
     "text": [
      "116/165  4906, wait, 4\n",
      "4906 ：毛利率 9.4 < 20%，跳過\n"
     ]
    },
    {
     "name": "stderr",
     "output_type": "stream",
     "text": [
      "C:\\Users\\Mia\\anaconda3\\envs\\stock\\lib\\site-packages\\openpyxl\\styles\\stylesheet.py:226: UserWarning: Workbook contains no default style, apply openpyxl's default\n",
      "  warn(\"Workbook contains no default style, apply openpyxl's default\")\n",
      "\r",
      " 71%|████████████████████████████████████████████████████████▋                       | 117/165 [18:00<02:18,  2.88s/it]"
     ]
    },
    {
     "name": "stdout",
     "output_type": "stream",
     "text": [
      "117/165  4915, wait, 9\n",
      "4915 ：毛利率 13.5 < 20%，跳過\n"
     ]
    },
    {
     "name": "stderr",
     "output_type": "stream",
     "text": [
      "C:\\Users\\Mia\\anaconda3\\envs\\stock\\lib\\site-packages\\openpyxl\\styles\\stylesheet.py:226: UserWarning: Workbook contains no default style, apply openpyxl's default\n",
      "  warn(\"Workbook contains no default style, apply openpyxl's default\")\n",
      "\r",
      " 72%|█████████████████████████████████████████████████████████▏                      | 118/165 [18:02<02:09,  2.76s/it]"
     ]
    },
    {
     "name": "stdout",
     "output_type": "stream",
     "text": [
      "118/165  4935, wait, 4\n",
      "4935 ：毛利率 11.7 < 20%，跳過\n"
     ]
    },
    {
     "name": "stderr",
     "output_type": "stream",
     "text": [
      "C:\\Users\\Mia\\anaconda3\\envs\\stock\\lib\\site-packages\\openpyxl\\styles\\stylesheet.py:226: UserWarning: Workbook contains no default style, apply openpyxl's default\n",
      "  warn(\"Workbook contains no default style, apply openpyxl's default\")\n",
      "\r",
      " 72%|█████████████████████████████████████████████████████████▋                      | 119/165 [18:05<02:05,  2.73s/it]"
     ]
    },
    {
     "name": "stdout",
     "output_type": "stream",
     "text": [
      "119/165  4938, wait, 6\n",
      "4938 ：毛利率 5.1 < 20%，跳過\n"
     ]
    },
    {
     "name": "stderr",
     "output_type": "stream",
     "text": [
      "C:\\Users\\Mia\\anaconda3\\envs\\stock\\lib\\site-packages\\openpyxl\\styles\\stylesheet.py:226: UserWarning: Workbook contains no default style, apply openpyxl's default\n",
      "  warn(\"Workbook contains no default style, apply openpyxl's default\")\n",
      "\r",
      " 73%|██████████████████████████████████████████████████████████▏                     | 120/165 [18:06<01:36,  2.15s/it]"
     ]
    },
    {
     "name": "stdout",
     "output_type": "stream",
     "text": [
      "120/165  4958, wait, 3\n",
      "4958 ：毛利率 19.1 < 20%，跳過\n"
     ]
    },
    {
     "name": "stderr",
     "output_type": "stream",
     "text": [
      "C:\\Users\\Mia\\anaconda3\\envs\\stock\\lib\\site-packages\\openpyxl\\styles\\stylesheet.py:226: UserWarning: Workbook contains no default style, apply openpyxl's default\n",
      "  warn(\"Workbook contains no default style, apply openpyxl's default\")\n",
      "\r",
      " 73%|██████████████████████████████████████████████████████████▋                     | 121/165 [18:08<01:38,  2.25s/it]"
     ]
    },
    {
     "name": "stdout",
     "output_type": "stream",
     "text": [
      "121/165  5225, wait, 8\n",
      "5225 ：毛利率 8.6 < 20%，跳過\n"
     ]
    },
    {
     "name": "stderr",
     "output_type": "stream",
     "text": [
      "C:\\Users\\Mia\\anaconda3\\envs\\stock\\lib\\site-packages\\openpyxl\\styles\\stylesheet.py:226: UserWarning: Workbook contains no default style, apply openpyxl's default\n",
      "  warn(\"Workbook contains no default style, apply openpyxl's default\")\n",
      "\r",
      " 74%|███████████████████████████████████████████████████████████▏                    | 122/165 [18:11<01:40,  2.34s/it]"
     ]
    },
    {
     "name": "stdout",
     "output_type": "stream",
     "text": [
      "122/165  5243, wait, 3\n",
      "5243 ：毛利率 16.9 < 20%，跳過\n"
     ]
    },
    {
     "name": "stderr",
     "output_type": "stream",
     "text": [
      "C:\\Users\\Mia\\anaconda3\\envs\\stock\\lib\\site-packages\\openpyxl\\styles\\stylesheet.py:226: UserWarning: Workbook contains no default style, apply openpyxl's default\n",
      "  warn(\"Workbook contains no default style, apply openpyxl's default\")\n",
      "\r",
      " 75%|███████████████████████████████████████████████████████████▋                    | 123/165 [18:11<01:18,  1.87s/it]"
     ]
    },
    {
     "name": "stdout",
     "output_type": "stream",
     "text": [
      "123/165  5388, wait, 6\n",
      "5388 ：毛利率 13.2 < 20%，跳過\n"
     ]
    },
    {
     "name": "stderr",
     "output_type": "stream",
     "text": [
      "C:\\Users\\Mia\\anaconda3\\envs\\stock\\lib\\site-packages\\openpyxl\\styles\\stylesheet.py:226: UserWarning: Workbook contains no default style, apply openpyxl's default\n",
      "  warn(\"Workbook contains no default style, apply openpyxl's default\")\n",
      "\r",
      " 75%|████████████████████████████████████████████████████████████                    | 124/165 [18:14<01:21,  1.99s/it]"
     ]
    },
    {
     "name": "stdout",
     "output_type": "stream",
     "text": [
      "124/165  5434, wait, 5\n",
      "5434 ：毛利率 12.3 < 20%，跳過\n"
     ]
    },
    {
     "name": "stderr",
     "output_type": "stream",
     "text": [
      "C:\\Users\\Mia\\anaconda3\\envs\\stock\\lib\\site-packages\\openpyxl\\styles\\stylesheet.py:226: UserWarning: Workbook contains no default style, apply openpyxl's default\n",
      "  warn(\"Workbook contains no default style, apply openpyxl's default\")\n"
     ]
    },
    {
     "name": "stdout",
     "output_type": "stream",
     "text": [
      "125/165  5871, wait, 6\n",
      "5871  wait  7\n",
      "'2022'\n"
     ]
    },
    {
     "name": "stderr",
     "output_type": "stream",
     "text": [
      " 76%|████████████████████████████████████████████████████████████▌                   | 125/165 [18:28<03:49,  5.74s/it]C:\\Users\\Mia\\anaconda3\\envs\\stock\\lib\\site-packages\\openpyxl\\styles\\stylesheet.py:226: UserWarning: Workbook contains no default style, apply openpyxl's default\n",
      "  warn(\"Workbook contains no default style, apply openpyxl's default\")\n"
     ]
    },
    {
     "name": "stdout",
     "output_type": "stream",
     "text": [
      "126/165  5876, wait, 7\n",
      "5876  wait  5\n",
      "'2022'\n"
     ]
    },
    {
     "name": "stderr",
     "output_type": "stream",
     "text": [
      " 76%|█████████████████████████████████████████████████████████████                   | 126/165 [18:43<05:31,  8.49s/it]C:\\Users\\Mia\\anaconda3\\envs\\stock\\lib\\site-packages\\openpyxl\\styles\\stylesheet.py:226: UserWarning: Workbook contains no default style, apply openpyxl's default\n",
      "  warn(\"Workbook contains no default style, apply openpyxl's default\")\n"
     ]
    },
    {
     "name": "stdout",
     "output_type": "stream",
     "text": [
      "127/165  5880, wait, 7\n",
      "5880  wait  7\n",
      "'2022'\n"
     ]
    },
    {
     "name": "stderr",
     "output_type": "stream",
     "text": [
      " 77%|█████████████████████████████████████████████████████████████▌                  | 127/165 [19:00<07:00, 11.06s/it]C:\\Users\\Mia\\anaconda3\\envs\\stock\\lib\\site-packages\\openpyxl\\styles\\stylesheet.py:226: UserWarning: Workbook contains no default style, apply openpyxl's default\n",
      "  warn(\"Workbook contains no default style, apply openpyxl's default\")\n",
      " 78%|██████████████████████████████████████████████████████████████                  | 128/165 [19:04<05:25,  8.80s/it]"
     ]
    },
    {
     "name": "stdout",
     "output_type": "stream",
     "text": [
      "128/165  6120, wait, 8\n",
      "6120 ：毛利率 -1.1 < 20%，跳過\n"
     ]
    },
    {
     "name": "stderr",
     "output_type": "stream",
     "text": [
      "C:\\Users\\Mia\\anaconda3\\envs\\stock\\lib\\site-packages\\openpyxl\\styles\\stylesheet.py:226: UserWarning: Workbook contains no default style, apply openpyxl's default\n",
      "  warn(\"Workbook contains no default style, apply openpyxl's default\")\n",
      "\r",
      " 78%|██████████████████████████████████████████████████████████████▌                 | 129/165 [19:07<04:16,  7.12s/it]"
     ]
    },
    {
     "name": "stdout",
     "output_type": "stream",
     "text": [
      "129/165  6139, wait, 4\n",
      "6139 ：毛利率 7.3 < 20%，跳過\n"
     ]
    },
    {
     "name": "stderr",
     "output_type": "stream",
     "text": [
      "C:\\Users\\Mia\\anaconda3\\envs\\stock\\lib\\site-packages\\openpyxl\\styles\\stylesheet.py:226: UserWarning: Workbook contains no default style, apply openpyxl's default\n",
      "  warn(\"Workbook contains no default style, apply openpyxl's default\")\n",
      "\r",
      " 79%|███████████████████████████████████████████████████████████████                 | 130/165 [19:08<03:06,  5.34s/it]"
     ]
    },
    {
     "name": "stdout",
     "output_type": "stream",
     "text": [
      "130/165  6153, wait, 9\n",
      "6153 ：毛利率 2.0 < 20%，跳過\n"
     ]
    },
    {
     "name": "stderr",
     "output_type": "stream",
     "text": [
      "C:\\Users\\Mia\\anaconda3\\envs\\stock\\lib\\site-packages\\openpyxl\\styles\\stylesheet.py:226: UserWarning: Workbook contains no default style, apply openpyxl's default\n",
      "  warn(\"Workbook contains no default style, apply openpyxl's default\")\n",
      "\r",
      " 79%|███████████████████████████████████████████████████████████████▌                | 131/165 [19:09<02:14,  3.96s/it]"
     ]
    },
    {
     "name": "stdout",
     "output_type": "stream",
     "text": [
      "131/165  6176, wait, 5\n",
      "6176 ：毛利率 17.9 < 20%，跳過\n"
     ]
    },
    {
     "name": "stderr",
     "output_type": "stream",
     "text": [
      "C:\\Users\\Mia\\anaconda3\\envs\\stock\\lib\\site-packages\\openpyxl\\styles\\stylesheet.py:226: UserWarning: Workbook contains no default style, apply openpyxl's default\n",
      "  warn(\"Workbook contains no default style, apply openpyxl's default\")\n",
      "\r",
      " 80%|████████████████████████████████████████████████████████████████                | 132/165 [19:12<02:06,  3.82s/it]"
     ]
    },
    {
     "name": "stdout",
     "output_type": "stream",
     "text": [
      "132/165  6196, wait, 8\n",
      "6196 ：毛利率 10.7 < 20%，跳過\n"
     ]
    },
    {
     "name": "stderr",
     "output_type": "stream",
     "text": [
      "C:\\Users\\Mia\\anaconda3\\envs\\stock\\lib\\site-packages\\openpyxl\\styles\\stylesheet.py:226: UserWarning: Workbook contains no default style, apply openpyxl's default\n",
      "  warn(\"Workbook contains no default style, apply openpyxl's default\")\n",
      "\r",
      " 81%|████████████████████████████████████████████████████████████████▍               | 133/165 [19:13<01:32,  2.90s/it]"
     ]
    },
    {
     "name": "stdout",
     "output_type": "stream",
     "text": [
      "133/165  6214, wait, 6\n",
      "6214 ：營益率 < 8%，跳過\n"
     ]
    },
    {
     "name": "stderr",
     "output_type": "stream",
     "text": [
      "C:\\Users\\Mia\\anaconda3\\envs\\stock\\lib\\site-packages\\openpyxl\\styles\\stylesheet.py:226: UserWarning: Workbook contains no default style, apply openpyxl's default\n",
      "  warn(\"Workbook contains no default style, apply openpyxl's default\")\n",
      "\r",
      " 81%|████████████████████████████████████████████████████████████████▉               | 134/165 [19:16<01:33,  3.01s/it]"
     ]
    },
    {
     "name": "stdout",
     "output_type": "stream",
     "text": [
      "134/165  6230, wait, 8\n",
      "6230 ：毛利率 15.9 < 20%，跳過\n"
     ]
    },
    {
     "name": "stderr",
     "output_type": "stream",
     "text": [
      "C:\\Users\\Mia\\anaconda3\\envs\\stock\\lib\\site-packages\\openpyxl\\styles\\stylesheet.py:226: UserWarning: Workbook contains no default style, apply openpyxl's default\n",
      "  warn(\"Workbook contains no default style, apply openpyxl's default\")\n",
      "\r",
      " 82%|█████████████████████████████████████████████████████████████████▍              | 135/165 [19:17<01:10,  2.35s/it]"
     ]
    },
    {
     "name": "stdout",
     "output_type": "stream",
     "text": [
      "135/165  6269, wait, 9\n",
      "6269 ：毛利率 11.1 < 20%，跳過\n"
     ]
    },
    {
     "name": "stderr",
     "output_type": "stream",
     "text": [
      "C:\\Users\\Mia\\anaconda3\\envs\\stock\\lib\\site-packages\\openpyxl\\styles\\stylesheet.py:226: UserWarning: Workbook contains no default style, apply openpyxl's default\n",
      "  warn(\"Workbook contains no default style, apply openpyxl's default\")\n",
      "\r",
      " 82%|█████████████████████████████████████████████████████████████████▉              | 136/165 [19:21<01:21,  2.79s/it]"
     ]
    },
    {
     "name": "stdout",
     "output_type": "stream",
     "text": [
      "136/165  6281, wait, 8\n",
      "6281 ：毛利率 19.3 < 20%，跳過\n"
     ]
    },
    {
     "name": "stderr",
     "output_type": "stream",
     "text": [
      "C:\\Users\\Mia\\anaconda3\\envs\\stock\\lib\\site-packages\\openpyxl\\styles\\stylesheet.py:226: UserWarning: Workbook contains no default style, apply openpyxl's default\n",
      "  warn(\"Workbook contains no default style, apply openpyxl's default\")\n",
      "\r",
      " 83%|██████████████████████████████████████████████████████████████████▍             | 137/165 [19:22<01:02,  2.23s/it]"
     ]
    },
    {
     "name": "stdout",
     "output_type": "stream",
     "text": [
      "137/165  6282, wait, 9\n",
      "6282 ：毛利率 17.2 < 20%，跳過\n"
     ]
    },
    {
     "name": "stderr",
     "output_type": "stream",
     "text": [
      "C:\\Users\\Mia\\anaconda3\\envs\\stock\\lib\\site-packages\\openpyxl\\styles\\stylesheet.py:226: UserWarning: Workbook contains no default style, apply openpyxl's default\n",
      "  warn(\"Workbook contains no default style, apply openpyxl's default\")\n",
      "\r",
      " 84%|██████████████████████████████████████████████████████████████████▉             | 138/165 [19:23<00:50,  1.88s/it]"
     ]
    },
    {
     "name": "stdout",
     "output_type": "stream",
     "text": [
      "138/165  6285, wait, 8\n",
      "6285 ：毛利率 12.5 < 20%，跳過\n"
     ]
    },
    {
     "name": "stderr",
     "output_type": "stream",
     "text": [
      "C:\\Users\\Mia\\anaconda3\\envs\\stock\\lib\\site-packages\\openpyxl\\styles\\stylesheet.py:226: UserWarning: Workbook contains no default style, apply openpyxl's default\n",
      "  warn(\"Workbook contains no default style, apply openpyxl's default\")\n"
     ]
    },
    {
     "name": "stdout",
     "output_type": "stream",
     "text": [
      "139/165  6409, wait, 4\n",
      "6409  wait  7\n",
      "'2022'\n"
     ]
    },
    {
     "name": "stderr",
     "output_type": "stream",
     "text": [
      " 84%|███████████████████████████████████████████████████████████████████▍            | 139/165 [19:37<02:23,  5.52s/it]C:\\Users\\Mia\\anaconda3\\envs\\stock\\lib\\site-packages\\openpyxl\\styles\\stylesheet.py:226: UserWarning: Workbook contains no default style, apply openpyxl's default\n",
      "  warn(\"Workbook contains no default style, apply openpyxl's default\")\n",
      " 85%|███████████████████████████████████████████████████████████████████▉            | 140/165 [19:39<01:55,  4.62s/it]"
     ]
    },
    {
     "name": "stdout",
     "output_type": "stream",
     "text": [
      "140/165  6412, wait, 4\n",
      "6412 ：毛利率 16.8 < 20%，跳過\n"
     ]
    },
    {
     "name": "stderr",
     "output_type": "stream",
     "text": [
      "C:\\Users\\Mia\\anaconda3\\envs\\stock\\lib\\site-packages\\openpyxl\\styles\\stylesheet.py:226: UserWarning: Workbook contains no default style, apply openpyxl's default\n",
      "  warn(\"Workbook contains no default style, apply openpyxl's default\")\n",
      "\r",
      " 85%|████████████████████████████████████████████████████████████████████▎           | 141/165 [19:40<01:23,  3.47s/it]"
     ]
    },
    {
     "name": "stdout",
     "output_type": "stream",
     "text": [
      "141/165  6414, wait, 4\n",
      "6414 ：營益率 < 8%，跳過\n"
     ]
    },
    {
     "name": "stderr",
     "output_type": "stream",
     "text": [
      "C:\\Users\\Mia\\anaconda3\\envs\\stock\\lib\\site-packages\\openpyxl\\styles\\stylesheet.py:226: UserWarning: Workbook contains no default style, apply openpyxl's default\n",
      "  warn(\"Workbook contains no default style, apply openpyxl's default\")\n",
      "\r",
      " 86%|████████████████████████████████████████████████████████████████████▊           | 142/165 [19:43<01:15,  3.28s/it]"
     ]
    },
    {
     "name": "stdout",
     "output_type": "stream",
     "text": [
      "142/165  6505, wait, 6\n",
      "6505 ：毛利率 8.7 < 20%，跳過\n"
     ]
    },
    {
     "name": "stderr",
     "output_type": "stream",
     "text": [
      "C:\\Users\\Mia\\anaconda3\\envs\\stock\\lib\\site-packages\\openpyxl\\styles\\stylesheet.py:226: UserWarning: Workbook contains no default style, apply openpyxl's default\n",
      "  warn(\"Workbook contains no default style, apply openpyxl's default\")\n"
     ]
    },
    {
     "name": "stdout",
     "output_type": "stream",
     "text": [
      "143/165  6592, wait, 5\n",
      "6592  wait  9\n",
      "'2022'\n"
     ]
    },
    {
     "name": "stderr",
     "output_type": "stream",
     "text": [
      " 87%|█████████████████████████████████████████████████████████████████████▎          | 143/165 [19:59<02:33,  6.99s/it]C:\\Users\\Mia\\anaconda3\\envs\\stock\\lib\\site-packages\\openpyxl\\styles\\stylesheet.py:226: UserWarning: Workbook contains no default style, apply openpyxl's default\n",
      "  warn(\"Workbook contains no default style, apply openpyxl's default\")\n"
     ]
    },
    {
     "name": "stdout",
     "output_type": "stream",
     "text": [
      "144/165  6605, wait, 5\n",
      "6605  wait  7\n",
      "'2022'\n"
     ]
    },
    {
     "name": "stderr",
     "output_type": "stream",
     "text": [
      " 87%|█████████████████████████████████████████████████████████████████████▊          | 144/165 [20:28<04:44, 13.56s/it]C:\\Users\\Mia\\anaconda3\\envs\\stock\\lib\\site-packages\\openpyxl\\styles\\stylesheet.py:226: UserWarning: Workbook contains no default style, apply openpyxl's default\n",
      "  warn(\"Workbook contains no default style, apply openpyxl's default\")\n",
      " 88%|██████████████████████████████████████████████████████████████████████▎         | 145/165 [20:28<03:14,  9.71s/it]"
     ]
    },
    {
     "name": "stdout",
     "output_type": "stream",
     "text": [
      "145/165  6669, wait, 5\n",
      "6669 ：毛利率 8.3 < 20%，跳過\n"
     ]
    },
    {
     "name": "stderr",
     "output_type": "stream",
     "text": [
      "C:\\Users\\Mia\\anaconda3\\envs\\stock\\lib\\site-packages\\openpyxl\\styles\\stylesheet.py:226: UserWarning: Workbook contains no default style, apply openpyxl's default\n",
      "  warn(\"Workbook contains no default style, apply openpyxl's default\")\n"
     ]
    },
    {
     "name": "stdout",
     "output_type": "stream",
     "text": [
      "146/165  6670, wait, 3\n",
      "6670  wait  7\n",
      "'2022'\n"
     ]
    },
    {
     "name": "stderr",
     "output_type": "stream",
     "text": [
      " 88%|██████████████████████████████████████████████████████████████████████▊         | 146/165 [20:51<04:16, 13.52s/it]C:\\Users\\Mia\\anaconda3\\envs\\stock\\lib\\site-packages\\openpyxl\\styles\\stylesheet.py:226: UserWarning: Workbook contains no default style, apply openpyxl's default\n",
      "  warn(\"Workbook contains no default style, apply openpyxl's default\")\n",
      " 89%|███████████████████████████████████████████████████████████████████████▎        | 147/165 [20:53<03:04, 10.26s/it]"
     ]
    },
    {
     "name": "stdout",
     "output_type": "stream",
     "text": [
      "147/165  6691, wait, 8\n",
      "6691 ：毛利率 18.8 < 20%，跳過\n"
     ]
    },
    {
     "name": "stderr",
     "output_type": "stream",
     "text": [
      "C:\\Users\\Mia\\anaconda3\\envs\\stock\\lib\\site-packages\\openpyxl\\styles\\stylesheet.py:226: UserWarning: Workbook contains no default style, apply openpyxl's default\n",
      "  warn(\"Workbook contains no default style, apply openpyxl's default\")\n"
     ]
    },
    {
     "name": "stdout",
     "output_type": "stream",
     "text": [
      "148/165  6768, wait, 9\n",
      "6768  wait  7\n"
     ]
    },
    {
     "name": "stderr",
     "output_type": "stream",
     "text": [
      " 90%|███████████████████████████████████████████████████████████████████████▊        | 148/165 [21:11<03:34, 12.60s/it]C:\\Users\\Mia\\anaconda3\\envs\\stock\\lib\\site-packages\\openpyxl\\styles\\stylesheet.py:226: UserWarning: Workbook contains no default style, apply openpyxl's default\n",
      "  warn(\"Workbook contains no default style, apply openpyxl's default\")\n"
     ]
    },
    {
     "name": "stdout",
     "output_type": "stream",
     "text": [
      "149/165  6770, wait, 7\n",
      "6770  wait  9\n"
     ]
    },
    {
     "name": "stderr",
     "output_type": "stream",
     "text": [
      " 90%|████████████████████████████████████████████████████████████████████████▏       | 149/165 [21:29<03:44, 14.05s/it]C:\\Users\\Mia\\anaconda3\\envs\\stock\\lib\\site-packages\\openpyxl\\styles\\stylesheet.py:226: UserWarning: Workbook contains no default style, apply openpyxl's default\n",
      "  warn(\"Workbook contains no default style, apply openpyxl's default\")\n"
     ]
    },
    {
     "name": "stdout",
     "output_type": "stream",
     "text": [
      "150/165  6781, wait, 7\n",
      "6781  wait  5\n"
     ]
    },
    {
     "name": "stderr",
     "output_type": "stream",
     "text": [
      " 91%|████████████████████████████████████████████████████████████████████████▋       | 150/165 [21:42<03:28, 13.89s/it]C:\\Users\\Mia\\anaconda3\\envs\\stock\\lib\\site-packages\\openpyxl\\styles\\stylesheet.py:226: UserWarning: Workbook contains no default style, apply openpyxl's default\n",
      "  warn(\"Workbook contains no default style, apply openpyxl's default\")\n"
     ]
    },
    {
     "name": "stdout",
     "output_type": "stream",
     "text": [
      "151/165  8016, wait, 3\n",
      "8016  wait  7\n",
      "'2022'\n"
     ]
    },
    {
     "name": "stderr",
     "output_type": "stream",
     "text": [
      " 92%|█████████████████████████████████████████████████████████████████████████▏      | 151/165 [21:54<03:04, 13.18s/it]C:\\Users\\Mia\\anaconda3\\envs\\stock\\lib\\site-packages\\openpyxl\\styles\\stylesheet.py:226: UserWarning: Workbook contains no default style, apply openpyxl's default\n",
      "  warn(\"Workbook contains no default style, apply openpyxl's default\")\n"
     ]
    },
    {
     "name": "stdout",
     "output_type": "stream",
     "text": [
      "152/165  8046, wait, 8\n",
      "8046  wait  8\n",
      "'2022'\n"
     ]
    },
    {
     "name": "stderr",
     "output_type": "stream",
     "text": [
      " 92%|█████████████████████████████████████████████████████████████████████████▋      | 152/165 [22:11<03:08, 14.48s/it]C:\\Users\\Mia\\anaconda3\\envs\\stock\\lib\\site-packages\\openpyxl\\styles\\stylesheet.py:226: UserWarning: Workbook contains no default style, apply openpyxl's default\n",
      "  warn(\"Workbook contains no default style, apply openpyxl's default\")\n"
     ]
    },
    {
     "name": "stdout",
     "output_type": "stream",
     "text": [
      "153/165  8114, wait, 3\n",
      "8114  wait  6\n",
      "'2022'\n"
     ]
    },
    {
     "name": "stderr",
     "output_type": "stream",
     "text": [
      " 93%|██████████████████████████████████████████████████████████████████████████▏     | 153/165 [22:23<02:41, 13.45s/it]C:\\Users\\Mia\\anaconda3\\envs\\stock\\lib\\site-packages\\openpyxl\\styles\\stylesheet.py:226: UserWarning: Workbook contains no default style, apply openpyxl's default\n",
      "  warn(\"Workbook contains no default style, apply openpyxl's default\")\n",
      " 93%|██████████████████████████████████████████████████████████████████████████▋     | 154/165 [22:25<01:51, 10.17s/it]"
     ]
    },
    {
     "name": "stdout",
     "output_type": "stream",
     "text": [
      "154/165  8210, wait, 3\n",
      "8210 ：毛利率 19.3 < 20%，跳過\n"
     ]
    },
    {
     "name": "stderr",
     "output_type": "stream",
     "text": [
      "C:\\Users\\Mia\\anaconda3\\envs\\stock\\lib\\site-packages\\openpyxl\\styles\\stylesheet.py:226: UserWarning: Workbook contains no default style, apply openpyxl's default\n",
      "  warn(\"Workbook contains no default style, apply openpyxl's default\")\n",
      "\r",
      " 94%|███████████████████████████████████████████████████████████████████████████▏    | 155/165 [22:26<01:13,  7.35s/it]"
     ]
    },
    {
     "name": "stdout",
     "output_type": "stream",
     "text": [
      "155/165  8454, wait, 7\n",
      "8454 ：毛利率 9.9 < 20%，跳過\n"
     ]
    },
    {
     "name": "stderr",
     "output_type": "stream",
     "text": [
      "C:\\Users\\Mia\\anaconda3\\envs\\stock\\lib\\site-packages\\openpyxl\\styles\\stylesheet.py:226: UserWarning: Workbook contains no default style, apply openpyxl's default\n",
      "  warn(\"Workbook contains no default style, apply openpyxl's default\")\n",
      "\r",
      " 95%|███████████████████████████████████████████████████████████████████████████▋    | 156/165 [22:28<00:51,  5.76s/it]"
     ]
    },
    {
     "name": "stdout",
     "output_type": "stream",
     "text": [
      "No data\n",
      "156/165  9105, wait, 7\n",
      "df is None\n"
     ]
    },
    {
     "name": "stderr",
     "output_type": "stream",
     "text": [
      "C:\\Users\\Mia\\anaconda3\\envs\\stock\\lib\\site-packages\\openpyxl\\styles\\stylesheet.py:226: UserWarning: Workbook contains no default style, apply openpyxl's default\n",
      "  warn(\"Workbook contains no default style, apply openpyxl's default\")\n"
     ]
    },
    {
     "name": "stdout",
     "output_type": "stream",
     "text": [
      "157/165  9802, wait, 5\n",
      "9802  wait  9\n",
      "'2022'\n"
     ]
    },
    {
     "name": "stderr",
     "output_type": "stream",
     "text": [
      " 95%|████████████████████████████████████████████████████████████████████████████    | 157/165 [22:43<01:09,  8.68s/it]C:\\Users\\Mia\\anaconda3\\envs\\stock\\lib\\site-packages\\openpyxl\\styles\\stylesheet.py:226: UserWarning: Workbook contains no default style, apply openpyxl's default\n",
      "  warn(\"Workbook contains no default style, apply openpyxl's default\")\n",
      " 96%|████████████████████████████████████████████████████████████████████████████▌   | 158/165 [22:45<00:45,  6.44s/it]"
     ]
    },
    {
     "name": "stdout",
     "output_type": "stream",
     "text": [
      "158/165  9904, wait, 5\n",
      "9904 ：營益率 < 8%，跳過\n"
     ]
    },
    {
     "name": "stderr",
     "output_type": "stream",
     "text": [
      "C:\\Users\\Mia\\anaconda3\\envs\\stock\\lib\\site-packages\\openpyxl\\styles\\stylesheet.py:226: UserWarning: Workbook contains no default style, apply openpyxl's default\n",
      "  warn(\"Workbook contains no default style, apply openpyxl's default\")\n"
     ]
    },
    {
     "name": "stdout",
     "output_type": "stream",
     "text": [
      "159/165  9910, wait, 6\n",
      "9910  wait  7\n",
      "'2022'\n"
     ]
    },
    {
     "name": "stderr",
     "output_type": "stream",
     "text": [
      " 96%|█████████████████████████████████████████████████████████████████████████████   | 159/165 [23:02<00:58,  9.73s/it]C:\\Users\\Mia\\anaconda3\\envs\\stock\\lib\\site-packages\\openpyxl\\styles\\stylesheet.py:226: UserWarning: Workbook contains no default style, apply openpyxl's default\n",
      "  warn(\"Workbook contains no default style, apply openpyxl's default\")\n"
     ]
    },
    {
     "name": "stdout",
     "output_type": "stream",
     "text": [
      "160/165  9917, wait, 4\n",
      "9917  wait  5\n",
      "'2022'\n"
     ]
    },
    {
     "name": "stderr",
     "output_type": "stream",
     "text": [
      " 97%|█████████████████████████████████████████████████████████████████████████████▌  | 160/165 [23:14<00:52, 10.42s/it]C:\\Users\\Mia\\anaconda3\\envs\\stock\\lib\\site-packages\\openpyxl\\styles\\stylesheet.py:226: UserWarning: Workbook contains no default style, apply openpyxl's default\n",
      "  warn(\"Workbook contains no default style, apply openpyxl's default\")\n"
     ]
    },
    {
     "name": "stdout",
     "output_type": "stream",
     "text": [
      "161/165  9921, wait, 3\n",
      "9921  wait  8\n",
      "'2022'\n"
     ]
    },
    {
     "name": "stderr",
     "output_type": "stream",
     "text": [
      " 98%|██████████████████████████████████████████████████████████████████████████████  | 161/165 [23:28<00:45, 11.46s/it]C:\\Users\\Mia\\anaconda3\\envs\\stock\\lib\\site-packages\\openpyxl\\styles\\stylesheet.py:226: UserWarning: Workbook contains no default style, apply openpyxl's default\n",
      "  warn(\"Workbook contains no default style, apply openpyxl's default\")\n",
      " 98%|██████████████████████████████████████████████████████████████████████████████▌ | 162/165 [23:29<00:24,  8.25s/it]"
     ]
    },
    {
     "name": "stdout",
     "output_type": "stream",
     "text": [
      "162/165  9933, wait, 4\n",
      "9933 ：毛利率 7.1 < 20%，跳過\n"
     ]
    },
    {
     "name": "stderr",
     "output_type": "stream",
     "text": [
      "C:\\Users\\Mia\\anaconda3\\envs\\stock\\lib\\site-packages\\openpyxl\\styles\\stylesheet.py:226: UserWarning: Workbook contains no default style, apply openpyxl's default\n",
      "  warn(\"Workbook contains no default style, apply openpyxl's default\")\n",
      "\r",
      " 99%|███████████████████████████████████████████████████████████████████████████████ | 163/165 [23:29<00:11,  5.99s/it]"
     ]
    },
    {
     "name": "stdout",
     "output_type": "stream",
     "text": [
      "163/165  9937, wait, 4\n",
      "9937 ：毛利率 10.0 < 20%，跳過\n"
     ]
    },
    {
     "name": "stderr",
     "output_type": "stream",
     "text": [
      "C:\\Users\\Mia\\anaconda3\\envs\\stock\\lib\\site-packages\\openpyxl\\styles\\stylesheet.py:226: UserWarning: Workbook contains no default style, apply openpyxl's default\n",
      "  warn(\"Workbook contains no default style, apply openpyxl's default\")\n"
     ]
    },
    {
     "name": "stdout",
     "output_type": "stream",
     "text": [
      "164/165  9939, wait, 7\n",
      "9939  wait  6\n",
      "'2022'\n"
     ]
    },
    {
     "name": "stderr",
     "output_type": "stream",
     "text": [
      " 99%|███████████████████████████████████████████████████████████████████████████████▌| 164/165 [23:45<00:09,  9.01s/it]C:\\Users\\Mia\\anaconda3\\envs\\stock\\lib\\site-packages\\openpyxl\\styles\\stylesheet.py:226: UserWarning: Workbook contains no default style, apply openpyxl's default\n",
      "  warn(\"Workbook contains no default style, apply openpyxl's default\")\n"
     ]
    },
    {
     "name": "stdout",
     "output_type": "stream",
     "text": [
      "165/165  9941, wait, 9\n",
      "9941  wait  7\n",
      "'2022'\n"
     ]
    },
    {
     "name": "stderr",
     "output_type": "stream",
     "text": [
      "100%|████████████████████████████████████████████████████████████████████████████████| 165/165 [24:03<00:00,  8.75s/it]\n"
     ]
    },
    {
     "name": "stdout",
     "output_type": "stream",
     "text": [
      "  stock_id name quarter   營業收入   營業成本   營業毛利 營業毛利(毛損)淨額  營業費用  營業利益  稅前淨利  \\\n",
      "0     1319   東陽  2022Q3  55.77    NaN  11.28        NaN  7.62  3.66  5.91   \n",
      "0     1319   東陽  2022Q2  54.19  41.61  12.58      12.58  7.83  4.75  9.43   \n",
      "\n",
      "   ... 殖利率(%)  2020 2019 2018 2017 2016 2015         普通股數    year  2021  \n",
      "0  ...   3.79   NaN  NaN  NaN  NaN  NaN  NaN  591477000.0     NaN   NaN  \n",
      "0  ...    1.6  64.0  2.6 -6.7 -9.1  NaN  NaN          NaN  2022.0  21.6  \n",
      "\n",
      "[2 rows x 35 columns]\n"
     ]
    }
   ],
   "source": [
    "lst_monthly_id = list(df_monthly_check['公司代號'].unique())\n",
    "\n",
    "# ==============================\n",
    "#  取得觀察中公司的季報、預測EPS\n",
    "# ==============================\n",
    "df_quarterly_all = get_df_quarterly_all()\n",
    "df_yearly_all = get_df_yearly_all() # 寫入歷年EPS、本益比，估算今年股價min, max範圍\n",
    "df_estimate = pd.DataFrame(columns = list(df_quarterly_all.columns)+['普通股數'])\n",
    "# 取得公司發行股數\n",
    "df_company_stock_num = pd.read_excel(path_company_stock_num, engine='openpyxl', dtype={'stock_id':str})\n",
    "df_company_stock_num.set_index('stock_id', inplace=True)\n",
    "\n",
    "stock_num = len(lst_monthly_id)\n",
    "print('觀察中公司有', stock_num, '筆')\n",
    "for i in tqdm(range(stock_num)):\n",
    "    stock_id = lst_monthly_id[i]\n",
    "    df = get_df_quarterly(stock_id)\n",
    "    t_wait = np.random.randint(3,10)\n",
    "    print(f\"{i+1}/{stock_num}  {stock_id}, wait, {t_wait}\")\n",
    "    if df is None:\n",
    "        print('df is None')\n",
    "        continue\n",
    "    if df.loc[df.index[0], '毛利率(%)'] < 20:\n",
    "        print(stock_id, '：毛利率', df.loc[df.index[0], '毛利率(%)'], '< 20%，跳過')\n",
    "        continue\n",
    "    elif df.loc[df.index[0], '營益率(%)'] < 8:\n",
    "        print(stock_id, '：營益率 < 8%，跳過')\n",
    "        continue\n",
    "\n",
    "    # 計算歷年同季的營收成長率、EPS\n",
    "    df = set_growth_eps(df, df_today, stock_id)\n",
    "\n",
    "#     將年度EPS寫到歷年excel裡\n",
    "    lst_year = set(df.index.to_series().apply(lambda x:x[:4]))\n",
    "    min_year = int(min(lst_year)) # 若最小年是2018 ，只能確定2019都有資料\n",
    "    lst_year = [y for y in lst_year if int(y) > min_year]\n",
    "    lst_EPS = [{'year':y, 'eps': df.loc[str(y)+'Q1', 'EPS(Y)']} for y in lst_year]\n",
    "\n",
    "    df.reset_index(inplace=True)\n",
    "    df = df.rename(columns={'index':'quarter'}) # reset_index後column名稱是index\n",
    "\n",
    "    stock_name = \"\"\n",
    "    if stock_id in df_today.index:\n",
    "        stock_name = df_today.loc[stock_id, 'name']\n",
    "        df_yearly = get_yearly(stock_id, lst_EPS, df['quarter'][0][:4], stock_name)    \n",
    "        df_yearly_all = pd.concat([df_yearly_all, df_yearly])# df_yearly_all.append(df_yearly, ignore_index=True)\n",
    "\n",
    "    df.insert(0, 'name', value=stock_name)\n",
    "    df.insert(0, 'stock_id', value=stock_id)\n",
    "\n",
    "    df_quarterly_all = pd.concat([df_quarterly_all, df])# df_quarterly_all.append(df, ignore_index=True)\n",
    "    time.sleep(t_wait)\n",
    "\n",
    "    # ===============================\n",
    "    # 預測EPS ( check_EPS )\n",
    "    # ===============================\n",
    "    df_new_quarter = get_quarter_finance(stock_id, df, this_year, this_quarter, df_company_stock_num, df_today)\n",
    "    df_concat = pd.concat([df, df_new_quarter])\n",
    "    df_concat.sort_values('quarter', ascending=False, inplace=True)\n",
    "    df_estimate = pd.concat([df_estimate, df_concat])# df_estimate.append(df_concat)\n",
    "\n",
    "# # 季報\n",
    "# print('本月觀察公司筆數：', len(df_quarterly_all['stock_id'].unique()), df_quarterly_all['stock_id'].unique())\n",
    "# set_excel_color_monthly(df_quarterly_all, path_quarterly + folder_name + 'finance_quarterly_{}.xlsx'.format(s_today))\n",
    "\n",
    "# # 每年 EPS 預估股價\n",
    "set_excel_color_monthly(df_yearly_all, path_yearly + folder_name + 'finance_yearly_{}.xlsx'.format(s_today))\n",
    "\n",
    "# 預測EPS ( check_EPS )\n",
    "df_estimate.to_excel(path_check.replace('finance_quarterly', 'estimate'), index=False)\n",
    "print(df_estimate.head(2))\n",
    "\n",
    "\n",
    "# ===============================\n",
    "# # 取得公司歷年發放股利\n",
    "# lst = ['2615']\n",
    "# get_company_dividen(lst)\n",
    "# ==============================="
   ]
  },
  {
   "cell_type": "code",
   "execution_count": 45,
   "metadata": {},
   "outputs": [
    {
     "data": {
      "text/plain": [
       "40"
      ]
     },
     "execution_count": 45,
     "metadata": {},
     "output_type": "execute_result"
    }
   ],
   "source": [
    "len(df_estimate['stock_id'].unique())"
   ]
  },
  {
   "cell_type": "code",
   "execution_count": 6,
   "metadata": {},
   "outputs": [
    {
     "data": {
      "text/plain": [
       "165"
      ]
     },
     "execution_count": 6,
     "metadata": {},
     "output_type": "execute_result"
    }
   ],
   "source": [
    "# lst_monthly_id = list(df_monthly_check['公司代號'].unique())\n",
    "len(lst_monthly_id)"
   ]
  },
  {
   "cell_type": "code",
   "execution_count": 7,
   "metadata": {},
   "outputs": [
    {
     "name": "stdout",
     "output_type": "stream",
     "text": [
      "55\n",
      "55\n"
     ]
    }
   ],
   "source": [
    "sep = 55\n",
    "lst1 = lst_monthly_id[:sep]\n",
    "lst2 = lst_monthly_id[sep:sep*2]\n",
    "lst3 = lst_monthly_id[sep*2:]\n",
    "print(len(lst1))\n",
    "print(len(lst2))"
   ]
  },
  {
   "cell_type": "markdown",
   "metadata": {},
   "source": [
    "# 取得公司歷年發放股利"
   ]
  },
  {
   "cell_type": "code",
   "execution_count": 10,
   "metadata": {},
   "outputs": [
    {
     "name": "stderr",
     "output_type": "stream",
     "text": [
      "\r",
      "  0%|                                                                                           | 0/55 [00:00<?, ?it/s]"
     ]
    },
    {
     "name": "stdout",
     "output_type": "stream",
     "text": [
      "3706 wait: 19\n",
      "Add this year 2022\n",
      "   year cash stock\n",
      "3  2022    2     0\n"
     ]
    },
    {
     "name": "stderr",
     "output_type": "stream",
     "text": [
      "\r",
      "  2%|█▌                                                                                 | 1/55 [00:22<20:30, 22.79s/it]"
     ]
    },
    {
     "name": "stdout",
     "output_type": "stream",
     "text": [
      "3711 wait: 21\n",
      "Add this year 2022\n",
      "   year cash stock\n",
      "3  2022    7     0\n"
     ]
    },
    {
     "name": "stderr",
     "output_type": "stream",
     "text": [
      "\r",
      "  4%|███                                                                                | 2/55 [00:45<20:17, 22.98s/it]"
     ]
    },
    {
     "name": "stdout",
     "output_type": "stream",
     "text": [
      "4766 wait: 20\n",
      "Add this year 2022\n",
      "   year cash stock\n",
      "3  2022    6     0\n"
     ]
    },
    {
     "name": "stderr",
     "output_type": "stream",
     "text": [
      "\r",
      "  9%|███████▌                                                                           | 5/55 [01:08<09:53, 11.86s/it]"
     ]
    },
    {
     "name": "stdout",
     "output_type": "stream",
     "text": [
      "4906 wait: 17\n",
      "Add this year 2022\n",
      "   year  cash stock\n",
      "3  2022  1.54     0\n"
     ]
    },
    {
     "name": "stderr",
     "output_type": "stream",
     "text": [
      "\r",
      " 11%|█████████                                                                          | 6/55 [01:27<11:10, 13.69s/it]"
     ]
    },
    {
     "name": "stdout",
     "output_type": "stream",
     "text": [
      "4915 wait: 24\n",
      "Add this year 2022\n",
      "   year cash stock\n",
      "3  2022  3.1     0\n"
     ]
    },
    {
     "name": "stderr",
     "output_type": "stream",
     "text": [
      "\r",
      " 13%|██████████▌                                                                        | 7/55 [01:53<13:41, 17.11s/it]"
     ]
    },
    {
     "name": "stdout",
     "output_type": "stream",
     "text": [
      "4935 wait: 16\n",
      "Add this year 2022\n",
      "   year cash stock\n",
      "3  2022    5     0\n"
     ]
    },
    {
     "name": "stderr",
     "output_type": "stream",
     "text": [
      "\r",
      " 15%|████████████                                                                       | 8/55 [02:14<14:08, 18.05s/it]"
     ]
    },
    {
     "name": "stdout",
     "output_type": "stream",
     "text": [
      "4938 wait: 22\n",
      "Add this year 2022\n",
      "   year cash stock\n",
      "3  2022    5     0\n"
     ]
    },
    {
     "name": "stderr",
     "output_type": "stream",
     "text": [
      "\r",
      " 16%|█████████████▌                                                                     | 9/55 [02:38<15:05, 19.69s/it]"
     ]
    },
    {
     "name": "stdout",
     "output_type": "stream",
     "text": [
      "4958 wait: 15\n",
      "Add this year 2022\n",
      "   year cash stock\n",
      "3  2022    5     0\n"
     ]
    },
    {
     "name": "stderr",
     "output_type": "stream",
     "text": [
      "\r",
      " 18%|██████████████▉                                                                   | 10/55 [02:55<14:10, 18.91s/it]"
     ]
    },
    {
     "name": "stdout",
     "output_type": "stream",
     "text": [
      "5243 wait: 18\n",
      "Add this year 2022\n",
      "   year cash stock\n",
      "3  2022  1.4     0\n"
     ]
    },
    {
     "name": "stderr",
     "output_type": "stream",
     "text": [
      "\r",
      " 22%|█████████████████▉                                                                | 12/55 [03:15<10:39, 14.88s/it]"
     ]
    },
    {
     "name": "stdout",
     "output_type": "stream",
     "text": [
      "5434 wait: 23\n",
      "Add this year 2022\n",
      "   year cash stock\n",
      "3  2022  8.8     0\n"
     ]
    },
    {
     "name": "stderr",
     "output_type": "stream",
     "text": [
      "\r",
      " 25%|████████████████████▊                                                             | 14/55 [03:41<09:43, 14.23s/it]"
     ]
    },
    {
     "name": "stdout",
     "output_type": "stream",
     "text": [
      "5871 wait: 19\n",
      "Add this year 2022\n",
      "   year cash stock\n",
      "3  2022    6   0.5\n"
     ]
    },
    {
     "name": "stderr",
     "output_type": "stream",
     "text": [
      "\r",
      " 27%|██████████████████████▎                                                           | 15/55 [04:02<10:27, 15.68s/it]"
     ]
    },
    {
     "name": "stdout",
     "output_type": "stream",
     "text": [
      "5876 wait: 23\n",
      "Add this year 2022\n",
      "   year cash stock\n",
      "3  2022  1.8     0\n"
     ]
    },
    {
     "name": "stderr",
     "output_type": "stream",
     "text": [
      "\r",
      " 29%|███████████████████████▊                                                          | 16/55 [04:27<11:36, 17.85s/it]"
     ]
    },
    {
     "name": "stdout",
     "output_type": "stream",
     "text": [
      "5880 wait: 17\n",
      "Add this year 2022\n",
      "   year cash stock\n",
      "3  2022    1   0.3\n"
     ]
    },
    {
     "name": "stderr",
     "output_type": "stream",
     "text": [
      "\r",
      " 31%|█████████████████████████▎                                                        | 17/55 [04:47<11:45, 18.58s/it]"
     ]
    },
    {
     "name": "stdout",
     "output_type": "stream",
     "text": [
      "6120 wait: 23\n",
      "Add this year 2022\n",
      "   year cash stock\n",
      "3  2022    0     0\n"
     ]
    },
    {
     "name": "stderr",
     "output_type": "stream",
     "text": [
      "\r",
      " 33%|██████████████████████████▊                                                       | 18/55 [05:14<12:47, 20.76s/it]"
     ]
    },
    {
     "name": "stdout",
     "output_type": "stream",
     "text": [
      "6153 wait: 21\n"
     ]
    },
    {
     "name": "stderr",
     "output_type": "stream",
     "text": [
      "\r",
      " 36%|█████████████████████████████▊                                                    | 20/55 [05:41<10:14, 17.56s/it]"
     ]
    },
    {
     "name": "stdout",
     "output_type": "stream",
     "text": [
      "6176 wait: 20\n",
      "Add this year 2022\n",
      "   year cash stock\n",
      "3  2022    8     0\n"
     ]
    },
    {
     "name": "stderr",
     "output_type": "stream",
     "text": [
      "\r",
      " 38%|███████████████████████████████▎                                                  | 21/55 [06:05<10:49, 19.09s/it]"
     ]
    },
    {
     "name": "stdout",
     "output_type": "stream",
     "text": [
      "6214 wait: 24\n",
      "Add this year 2022\n",
      "   year cash stock\n",
      "3  2022    5     0\n"
     ]
    },
    {
     "name": "stderr",
     "output_type": "stream",
     "text": [
      "\r",
      " 42%|██████████████████████████████████▎                                               | 23/55 [06:31<08:54, 16.69s/it]"
     ]
    },
    {
     "name": "stdout",
     "output_type": "stream",
     "text": [
      "6230 wait: 22\n",
      "Add this year 2022\n",
      "   year  cash stock\n",
      "3  2022  0.61     0\n"
     ]
    },
    {
     "name": "stderr",
     "output_type": "stream",
     "text": [
      "\r",
      " 44%|███████████████████████████████████▊                                              | 24/55 [06:55<09:26, 18.28s/it]"
     ]
    },
    {
     "name": "stdout",
     "output_type": "stream",
     "text": [
      "6269 wait: 19\n",
      "Add this year 2022\n",
      "   year cash stock\n",
      "3  2022    5     0\n"
     ]
    },
    {
     "name": "stderr",
     "output_type": "stream",
     "text": [
      "\r",
      " 45%|█████████████████████████████████████▎                                            | 25/55 [07:17<09:35, 19.18s/it]"
     ]
    },
    {
     "name": "stdout",
     "output_type": "stream",
     "text": [
      "6282 wait: 24\n",
      "Add this year 2022\n",
      "   year cash stock\n",
      "3  2022    1     0\n"
     ]
    },
    {
     "name": "stderr",
     "output_type": "stream",
     "text": [
      "\r",
      " 49%|████████████████████████████████████████▎                                         | 27/55 [07:43<07:46, 16.67s/it]"
     ]
    },
    {
     "name": "stdout",
     "output_type": "stream",
     "text": [
      "6285 wait: 16\n",
      "Add this year 2022\n",
      "   year cash stock\n",
      "3  2022  2.1     0\n"
     ]
    },
    {
     "name": "stderr",
     "output_type": "stream",
     "text": [
      "\r",
      " 51%|█████████████████████████████████████████▋                                        | 28/55 [08:01<07:37, 16.96s/it]"
     ]
    },
    {
     "name": "stdout",
     "output_type": "stream",
     "text": [
      "6412 wait: 15\n",
      "Add this year 2022\n",
      "   year cash stock\n",
      "3  2022  5.2     0\n"
     ]
    },
    {
     "name": "stderr",
     "output_type": "stream",
     "text": [
      "\r",
      " 55%|████████████████████████████████████████████▋                                     | 30/55 [08:18<05:41, 13.65s/it]"
     ]
    },
    {
     "name": "stdout",
     "output_type": "stream",
     "text": [
      "6414 wait: 21\n",
      "Add this year 2022\n",
      "   year cash stock\n",
      "3  2022    7     0\n"
     ]
    },
    {
     "name": "stderr",
     "output_type": "stream",
     "text": [
      "\r",
      " 56%|██████████████████████████████████████████████▏                                   | 31/55 [08:43<06:24, 16.01s/it]"
     ]
    },
    {
     "name": "stdout",
     "output_type": "stream",
     "text": [
      "6605 wait: 16\n",
      "Add this year 2022\n",
      "   year cash stock\n",
      "3  2022    3     0\n"
     ]
    },
    {
     "name": "stderr",
     "output_type": "stream",
     "text": [
      "\r",
      " 62%|██████████████████████████████████████████████████▋                               | 34/55 [09:01<03:55, 11.21s/it]"
     ]
    },
    {
     "name": "stdout",
     "output_type": "stream",
     "text": [
      "6669 wait: 17\n",
      "Add this year 2022\n",
      "   year cash stock\n",
      "3  2022   25     0\n"
     ]
    },
    {
     "name": "stderr",
     "output_type": "stream",
     "text": [
      "\r",
      " 64%|████████████████████████████████████████████████████▏                             | 35/55 [09:26<04:35, 13.80s/it]"
     ]
    },
    {
     "name": "stdout",
     "output_type": "stream",
     "text": [
      "6691 wait: 23\n",
      "Add this year 2022\n",
      "   year cash stock\n",
      "3  2022   14     0\n"
     ]
    },
    {
     "name": "stderr",
     "output_type": "stream",
     "text": [
      "\r",
      " 67%|███████████████████████████████████████████████████████▏                          | 37/55 [09:51<04:01, 13.42s/it]"
     ]
    },
    {
     "name": "stdout",
     "output_type": "stream",
     "text": [
      "6768 wait: 18\n"
     ]
    },
    {
     "name": "stderr",
     "output_type": "stream",
     "text": [
      "\r",
      " 69%|████████████████████████████████████████████████████████▋                         | 38/55 [10:13<04:15, 15.03s/it]"
     ]
    },
    {
     "name": "stdout",
     "output_type": "stream",
     "text": [
      "8016 wait: 23\n",
      "Add this year 2022\n",
      "   year cash stock\n",
      "3  2022   32     0\n"
     ]
    },
    {
     "name": "stderr",
     "output_type": "stream",
     "text": [
      "\r",
      " 75%|█████████████████████████████████████████████████████████████▏                    | 41/55 [10:40<02:51, 12.24s/it]"
     ]
    },
    {
     "name": "stdout",
     "output_type": "stream",
     "text": [
      "8046 wait: 15\n",
      "Add this year 2022\n",
      "   year cash stock\n",
      "3  2022   10     0\n"
     ]
    },
    {
     "name": "stderr",
     "output_type": "stream",
     "text": [
      "\r",
      " 76%|██████████████████████████████████████████████████████████████▌                   | 42/55 [10:57<02:50, 13.11s/it]"
     ]
    },
    {
     "name": "stdout",
     "output_type": "stream",
     "text": [
      "8114 wait: 23\n",
      "Add this year 2022\n",
      "   year cash stock\n",
      "3  2022  4.5     0\n"
     ]
    },
    {
     "name": "stderr",
     "output_type": "stream",
     "text": [
      "\r",
      " 78%|████████████████████████████████████████████████████████████████                  | 43/55 [11:22<03:05, 15.50s/it]"
     ]
    },
    {
     "name": "stdout",
     "output_type": "stream",
     "text": [
      "8210 wait: 19\n",
      "Add this year 2022\n",
      "   year cash stock\n",
      "3  2022    3     0\n"
     ]
    },
    {
     "name": "stderr",
     "output_type": "stream",
     "text": [
      "\r",
      " 80%|█████████████████████████████████████████████████████████████████▌                | 44/55 [11:42<03:03, 16.70s/it]"
     ]
    },
    {
     "name": "stdout",
     "output_type": "stream",
     "text": [
      "9105 wait: 17\n",
      "Add this year 2022\n",
      "   year  cash stock\n",
      "3  2022  0.02  0.83\n"
     ]
    },
    {
     "name": "stderr",
     "output_type": "stream",
     "text": [
      "\r",
      " 84%|████████████████████████████████████████████████████████████████████▌             | 46/55 [12:01<02:04, 13.83s/it]"
     ]
    },
    {
     "name": "stdout",
     "output_type": "stream",
     "text": [
      "9904 wait: 17\n",
      "Add this year 2022\n",
      "   year cash stock\n",
      "3  2022  1.5     0\n"
     ]
    },
    {
     "name": "stderr",
     "output_type": "stream",
     "text": [
      "\r",
      " 87%|███████████████████████████████████████████████████████████████████████▌          | 48/55 [12:21<01:26, 12.38s/it]"
     ]
    },
    {
     "name": "stdout",
     "output_type": "stream",
     "text": [
      "9910 wait: 19\n",
      "Add this year 2022\n",
      "   year cash stock\n",
      "3  2022  4.1     0\n"
     ]
    },
    {
     "name": "stderr",
     "output_type": "stream",
     "text": [
      "\r",
      " 89%|█████████████████████████████████████████████████████████████████████████         | 49/55 [12:45<01:28, 14.80s/it]"
     ]
    },
    {
     "name": "stdout",
     "output_type": "stream",
     "text": [
      "9917 wait: 15\n",
      "Add this year 2022\n",
      "   year cash stock\n",
      "3  2022    5     0\n"
     ]
    },
    {
     "name": "stderr",
     "output_type": "stream",
     "text": [
      "\r",
      " 91%|██████████████████████████████████████████████████████████████████████████▌       | 50/55 [13:06<01:20, 16.17s/it]"
     ]
    },
    {
     "name": "stdout",
     "output_type": "stream",
     "text": [
      "9921 wait: 21\n",
      "Add this year 2022\n",
      "   year cash stock\n",
      "3  2022   10     0\n"
     ]
    },
    {
     "name": "stderr",
     "output_type": "stream",
     "text": [
      "\r",
      " 93%|████████████████████████████████████████████████████████████████████████████      | 51/55 [13:32<01:14, 18.55s/it]"
     ]
    },
    {
     "name": "stdout",
     "output_type": "stream",
     "text": [
      "9937 wait: 16\n",
      "Add this year 2022\n",
      "   year cash stock\n",
      "3  2022  2.1     0\n"
     ]
    },
    {
     "name": "stderr",
     "output_type": "stream",
     "text": [
      "\r",
      " 96%|███████████████████████████████████████████████████████████████████████████████   | 53/55 [13:50<00:29, 14.73s/it]"
     ]
    },
    {
     "name": "stdout",
     "output_type": "stream",
     "text": [
      "9939 wait: 16\n",
      "Add this year 2022\n",
      "   year cash stock\n",
      "3  2022  4.3     0\n"
     ]
    },
    {
     "name": "stderr",
     "output_type": "stream",
     "text": [
      "\r",
      " 98%|████████████████████████████████████████████████████████████████████████████████▌ | 54/55 [14:09<00:15, 15.62s/it]"
     ]
    },
    {
     "name": "stdout",
     "output_type": "stream",
     "text": [
      "9941 wait: 16\n",
      "Add this year 2022\n",
      "   year cash stock\n",
      "3  2022  5.5   1.7\n"
     ]
    },
    {
     "name": "stderr",
     "output_type": "stream",
     "text": [
      "100%|██████████████████████████████████████████████████████████████████████████████████| 55/55 [14:27<00:00, 15.77s/it]\n"
     ]
    },
    {
     "name": "stdout",
     "output_type": "stream",
     "text": [
      "(934, 3)\n",
      "(4201, 4)\n",
      "(4500, 5)\n"
     ]
    }
   ],
   "source": [
    "import requests\n",
    "from bs4 import BeautifulSoup\n",
    "from fake_useragent import UserAgent\n",
    "from datetime import date \n",
    "from tqdm import tqdm\n",
    "\n",
    "path_dividen = root + 'company_dividen.xlsx'\n",
    "# df_dividen_all = pd.DataFrame(columns=['stock_id', 'year', 'cash', 'stock'])\n",
    "df_dividen_all = pd.read_excel(path_dividen, engine='openpyxl', dtype={'stock_id':str})\n",
    "\n",
    "ua = UserAgent()\n",
    "agent = ua.random\n",
    "\n",
    "for stock_id in tqdm(lst3):\n",
    "     #or not stock_id in lst_company:\n",
    "    df_exist = df_dividen_all[df_dividen_all['stock_id']==stock_id]\n",
    "    if len(df_exist) > 0:\n",
    "        if len(df_exist[df_exist['year']==this_year]) > 0:\n",
    "            continue\n",
    "#     stock_id = lst_company_1[i]\n",
    "    t_wait = np.random.randint(15, 25)\n",
    "    print(stock_id, 'wait:', t_wait)\n",
    "    url = 'https://goodinfo.tw/StockInfo/StockDetail.asp?STOCK_ID={}'.format(stock_id)\n",
    "\n",
    "    headers = {'user-agent':agent}\n",
    "    res = requests.get(url, headers=headers)\n",
    "    res.encoding = 'utf-8'\n",
    "    soup = BeautifulSoup(res.text, 'lxml')\n",
    "\n",
    "    tb = soup.find(id='FINANCE_DIVIDEND')\n",
    "    \n",
    "    try:\n",
    "        df_dividen = pd.read_html(str(tb))[0]\n",
    "    except:\n",
    "        print(stock_id, 'Error No tables found')\n",
    "        continue\n",
    "    df_dividen = df_dividen.iloc[:,:-1]\n",
    "    df_dividen.columns = ['year', 'cash', 'stock']\n",
    "    df_dividen.drop(df_dividen.index[:3], inplace=True)\n",
    "    df_dividen.drop(df_dividen.index[-1], inplace=True)\n",
    "    df_dividen['year'] = df_dividen['year'].astype(int)\n",
    "    df_dividen = df_dividen[df_dividen['year']>2014]\n",
    "    if len(df_exist) > 0:\n",
    "        df_dividen = df_dividen[~df_dividen['year'].isin(df_exist['year'])]\n",
    "        print('Add this year', this_year)\n",
    "        print(df_dividen)\n",
    "    df_dividen.insert(0, 'stock_id', value=stock_id)\n",
    "    df_dividen_all = pd.concat([df_dividen_all, df_dividen]) # df_dividen_all.append(df_dividen)\n",
    "    time.sleep(t_wait)\n",
    "    \n",
    "df_dividen_all.to_excel(path_dividen, index=False)\n",
    "\n",
    "# 合併發行股數 與 歷年股利Excel\n",
    "path_company = root + 'company_list.xlsx'\n",
    "path_dividen = root + 'company_dividen.xlsx'\n",
    "path_company_info = root + 'company_info.xlsx'\n",
    "import shutil\n",
    "shutil.copy2(path_company_info, path_company_info.replace('.xlsx', '_backup.xlsx'))\n",
    "\n",
    "df_1 = pd.read_excel(path_company, engine='openpyxl')\n",
    "df_2 = pd.read_excel(path_dividen, engine='openpyxl')\n",
    "print(df_1.shape)\n",
    "print(df_2.shape)\n",
    "df_all = df_1.set_index('stock_id').join(df_2.set_index('stock_id'))\n",
    "print(df_all.shape)\n",
    "df_all.head(2)\n",
    "df_all.reset_index(inplace=True)\n",
    "df_all.to_excel(path_company_info, index=False)"
   ]
  },
  {
   "cell_type": "code",
   "execution_count": null,
   "metadata": {},
   "outputs": [],
   "source": []
  }
 ],
 "metadata": {
  "kernelspec": {
   "display_name": "Python (stock)",
   "language": "python",
   "name": "stock"
  },
  "language_info": {
   "codemirror_mode": {
    "name": "ipython",
    "version": 3
   },
   "file_extension": ".py",
   "mimetype": "text/x-python",
   "name": "python",
   "nbconvert_exporter": "python",
   "pygments_lexer": "ipython3",
   "version": "3.8.13"
  }
 },
 "nbformat": 4,
 "nbformat_minor": 4
}
