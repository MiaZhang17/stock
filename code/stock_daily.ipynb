{
 "cells": [
  {
   "cell_type": "code",
   "execution_count": 6,
   "metadata": {},
   "outputs": [],
   "source": [
    "from excellib import set_excel_color_daily\n",
    "from stocklib import get_stock_price, get_OTC_price, get_otc, get_investor, get_ratio\n",
    "from stocklib import cal_bar, cal_KD, check_10days, check_10days_otc, get_trust_today\n",
    "from stocklib import convert_num\n",
    "from stock_plot import plot_K_chart\n",
    "\n",
    "from finance import get_yearly, get_df_monthly, get_df_monthly_check, get_df_quarterly\n",
    "from finance import get_this_quarter, get_quarter_income, get_quarter_finance, set_growth_eps\n",
    "from finance import get_df_quarterly_all, get_df_yearly_all"
   ]
  },
  {
   "cell_type": "code",
   "execution_count": 7,
   "metadata": {},
   "outputs": [],
   "source": [
    "import requests\n",
    "import shutil\n",
    "import time\n",
    "from datetime import date, timedelta, datetime\n",
    "from dateutil.relativedelta import relativedelta\n",
    "from bs4 import BeautifulSoup\n",
    "from fake_useragent import UserAgent\n",
    "import pandas as pd\n",
    "import numpy as np\n",
    "import yfinance as yf\n",
    "import json\n",
    "import matplotlib.pyplot as plt\n",
    "import mplfinance as mpf\n",
    "import seaborn as sns\n",
    "%matplotlib inline\n",
    "\n",
    "# ua = UserAgent()\n",
    "root = '../'\n",
    "path_trust = root + 'trust/'\n",
    "path_check = root + 'daily_check/'"
   ]
  },
  {
   "cell_type": "markdown",
   "metadata": {},
   "source": [
    "## 三大法人"
   ]
  },
  {
   "cell_type": "code",
   "execution_count": 8,
   "metadata": {
    "scrolled": true
   },
   "outputs": [
    {
     "name": "stdout",
     "output_type": "stream",
     "text": [
      "追蹤股票數： 1 ['1612']\n"
     ]
    }
   ],
   "source": [
    "file_track = root + 'investors_track_2.xlsx'\n",
    "shutil.copy2(file_track, file_track.replace('.xlsx', '_backup.xlsx')) # complete target filename given\n",
    "\n",
    "df_track = pd.read_excel(file_track, index_col=None, engine='openpyxl')\n",
    "df_track['id'] = df_track['id'].astype(str)\n",
    "\n",
    "lst_track_tmp = list(set(df_track['id']))\n",
    "lst_track = lst_track_tmp\n",
    "print('追蹤股票數：', len(lst_track), lst_track)"
   ]
  },
  {
   "cell_type": "code",
   "execution_count": 9,
   "metadata": {},
   "outputs": [
    {
     "name": "stdout",
     "output_type": "stream",
     "text": [
      "今天: 2022-11-14\n"
     ]
    }
   ],
   "source": [
    "d_today = date.today() #- timedelta(days=1)\n",
    "\n",
    "today_tw = d_today - relativedelta(years=1911)\n",
    "this_year = d_today.year\n",
    "this_quarter = get_this_quarter()\n",
    "n = 1\n",
    "if d_today.weekday() == 0:\n",
    "    n = 3\n",
    "d_yesterday = d_today - timedelta(days=n)\n",
    "s_yesterday = (d_today - timedelta(days=n)).strftime(\"%Y%m%d\")\n",
    "s_today_md = (d_today).strftime(\"%m/%d\")\n",
    "s_yesterday_md = (d_today - timedelta(days=n)).strftime(\"%m/%d\")\n",
    "s_today = d_today.strftime(\"%Y%m%d\")\n",
    "\n",
    "s_today_tw = today_tw.strftime(\"%Y/%m/%d\").lstrip('0')\n",
    "s_thismonth_tw = today_tw.strftime(\"%Y/%m\").lstrip('0')\n",
    "print('今天:', d_today)\n",
    "# 台灣證券交易所"
   ]
  },
  {
   "cell_type": "code",
   "execution_count": 10,
   "metadata": {},
   "outputs": [
    {
     "name": "stdout",
     "output_type": "stream",
     "text": [
      "取得今日上市股票資訊: 20221114\n"
     ]
    },
    {
     "data": {
      "text/html": [
       "<div>\n",
       "<style scoped>\n",
       "    .dataframe tbody tr th:only-of-type {\n",
       "        vertical-align: middle;\n",
       "    }\n",
       "\n",
       "    .dataframe tbody tr th {\n",
       "        vertical-align: top;\n",
       "    }\n",
       "\n",
       "    .dataframe thead th {\n",
       "        text-align: right;\n",
       "    }\n",
       "</style>\n",
       "<table border=\"1\" class=\"dataframe\">\n",
       "  <thead>\n",
       "    <tr style=\"text-align: right;\">\n",
       "      <th></th>\n",
       "      <th>name</th>\n",
       "      <th>amount</th>\n",
       "      <th>open</th>\n",
       "      <th>high</th>\n",
       "      <th>low</th>\n",
       "      <th>close</th>\n",
       "    </tr>\n",
       "    <tr>\n",
       "      <th>id</th>\n",
       "      <th></th>\n",
       "      <th></th>\n",
       "      <th></th>\n",
       "      <th></th>\n",
       "      <th></th>\n",
       "      <th></th>\n",
       "    </tr>\n",
       "  </thead>\n",
       "  <tbody>\n",
       "    <tr>\n",
       "      <th>0050</th>\n",
       "      <td>元大台灣50</td>\n",
       "      <td>18631</td>\n",
       "      <td>109.80</td>\n",
       "      <td>110.4</td>\n",
       "      <td>109.40</td>\n",
       "      <td>110.0</td>\n",
       "    </tr>\n",
       "    <tr>\n",
       "      <th>0051</th>\n",
       "      <td>元大中型100</td>\n",
       "      <td>42</td>\n",
       "      <td>53.35</td>\n",
       "      <td>54.0</td>\n",
       "      <td>53.35</td>\n",
       "      <td>54.0</td>\n",
       "    </tr>\n",
       "  </tbody>\n",
       "</table>\n",
       "</div>"
      ],
      "text/plain": [
       "         name  amount    open   high     low  close\n",
       "id                                                 \n",
       "0050   元大台灣50   18631  109.80  110.4  109.40  110.0\n",
       "0051  元大中型100      42   53.35   54.0   53.35   54.0"
      ]
     },
     "execution_count": 10,
     "metadata": {},
     "output_type": "execute_result"
    }
   ],
   "source": [
    "df_today = get_stock_price(d_today)\n",
    "df_today.head(2)"
   ]
  },
  {
   "cell_type": "markdown",
   "metadata": {},
   "source": [
    "# 取得交易價量前30名"
   ]
  },
  {
   "cell_type": "code",
   "execution_count": 11,
   "metadata": {},
   "outputs": [
    {
     "name": "stdout",
     "output_type": "stream",
     "text": [
      "today: ['2330', '8046', '3037', '2603', '2317', '2454', '1605', '2303', '3035', '1795', '6533', '3661', '3443', '5871', '3189', '2609', '00637L', '8996', '00632R', '2412', '3034', '1101', '3454', '6669', '6415', '0050', '2379', '2327', '2308', '3406']\n",
      "yesterday: ['2330', '3661', '2317', '2603', '3037', '8046', '3454', '3443', '6533', '2609', '2498', '8996', '6669', '00637L', '2327', '6781', '2618', '1477', '6153', '3406', '2615', '2376', '2412', '2303', '5258', '8478', '4919', '2308', '4968', '3046', '']\n",
      "new: ['2454', '1605', '3035', '1795', '5871', '3189', '00632R', '3034', '1101', '6415', '0050', '2379']\n"
     ]
    },
    {
     "data": {
      "text/html": [
       "<div>\n",
       "<style scoped>\n",
       "    .dataframe tbody tr th:only-of-type {\n",
       "        vertical-align: middle;\n",
       "    }\n",
       "\n",
       "    .dataframe tbody tr th {\n",
       "        vertical-align: top;\n",
       "    }\n",
       "\n",
       "    .dataframe thead th {\n",
       "        text-align: right;\n",
       "    }\n",
       "</style>\n",
       "<table border=\"1\" class=\"dataframe\">\n",
       "  <thead>\n",
       "    <tr style=\"text-align: right;\">\n",
       "      <th></th>\n",
       "      <th>id</th>\n",
       "      <th>name</th>\n",
       "      <th>amount</th>\n",
       "      <th>open</th>\n",
       "      <th>high</th>\n",
       "      <th>low</th>\n",
       "      <th>close</th>\n",
       "      <th>value_amt</th>\n",
       "    </tr>\n",
       "  </thead>\n",
       "  <tbody>\n",
       "    <tr>\n",
       "      <th>5</th>\n",
       "      <td>2454</td>\n",
       "      <td>聯發科</td>\n",
       "      <td>9849</td>\n",
       "      <td>705.00</td>\n",
       "      <td>710.00</td>\n",
       "      <td>694.00</td>\n",
       "      <td>697.00</td>\n",
       "      <td>68.0</td>\n",
       "    </tr>\n",
       "    <tr>\n",
       "      <th>6</th>\n",
       "      <td>1605</td>\n",
       "      <td>華新</td>\n",
       "      <td>141124</td>\n",
       "      <td>42.75</td>\n",
       "      <td>44.80</td>\n",
       "      <td>42.35</td>\n",
       "      <td>44.55</td>\n",
       "      <td>62.0</td>\n",
       "    </tr>\n",
       "    <tr>\n",
       "      <th>8</th>\n",
       "      <td>3035</td>\n",
       "      <td>智原</td>\n",
       "      <td>32420</td>\n",
       "      <td>159.00</td>\n",
       "      <td>165.00</td>\n",
       "      <td>157.00</td>\n",
       "      <td>163.50</td>\n",
       "      <td>53.0</td>\n",
       "    </tr>\n",
       "    <tr>\n",
       "      <th>9</th>\n",
       "      <td>1795</td>\n",
       "      <td>美時</td>\n",
       "      <td>25385</td>\n",
       "      <td>173.00</td>\n",
       "      <td>174.50</td>\n",
       "      <td>166.00</td>\n",
       "      <td>171.00</td>\n",
       "      <td>43.0</td>\n",
       "    </tr>\n",
       "    <tr>\n",
       "      <th>13</th>\n",
       "      <td>5871</td>\n",
       "      <td>中租-KY</td>\n",
       "      <td>16671</td>\n",
       "      <td>176.00</td>\n",
       "      <td>190.00</td>\n",
       "      <td>174.50</td>\n",
       "      <td>190.00</td>\n",
       "      <td>31.0</td>\n",
       "    </tr>\n",
       "    <tr>\n",
       "      <th>14</th>\n",
       "      <td>3189</td>\n",
       "      <td>景碩</td>\n",
       "      <td>25605</td>\n",
       "      <td>120.00</td>\n",
       "      <td>122.50</td>\n",
       "      <td>118.50</td>\n",
       "      <td>119.00</td>\n",
       "      <td>30.0</td>\n",
       "    </tr>\n",
       "    <tr>\n",
       "      <th>18</th>\n",
       "      <td>00632R</td>\n",
       "      <td>元大台灣50反1</td>\n",
       "      <td>388171</td>\n",
       "      <td>6.01</td>\n",
       "      <td>6.03</td>\n",
       "      <td>5.97</td>\n",
       "      <td>5.99</td>\n",
       "      <td>23.0</td>\n",
       "    </tr>\n",
       "    <tr>\n",
       "      <th>20</th>\n",
       "      <td>3034</td>\n",
       "      <td>聯詠</td>\n",
       "      <td>7668</td>\n",
       "      <td>301.00</td>\n",
       "      <td>301.50</td>\n",
       "      <td>293.50</td>\n",
       "      <td>298.00</td>\n",
       "      <td>22.0</td>\n",
       "    </tr>\n",
       "    <tr>\n",
       "      <th>21</th>\n",
       "      <td>1101</td>\n",
       "      <td>台泥</td>\n",
       "      <td>62302</td>\n",
       "      <td>32.45</td>\n",
       "      <td>34.40</td>\n",
       "      <td>32.25</td>\n",
       "      <td>34.15</td>\n",
       "      <td>21.0</td>\n",
       "    </tr>\n",
       "    <tr>\n",
       "      <th>24</th>\n",
       "      <td>6415</td>\n",
       "      <td>矽力*-KY</td>\n",
       "      <td>4313</td>\n",
       "      <td>450.50</td>\n",
       "      <td>478.00</td>\n",
       "      <td>446.00</td>\n",
       "      <td>468.00</td>\n",
       "      <td>20.0</td>\n",
       "    </tr>\n",
       "    <tr>\n",
       "      <th>25</th>\n",
       "      <td>0050</td>\n",
       "      <td>元大台灣50</td>\n",
       "      <td>18631</td>\n",
       "      <td>109.80</td>\n",
       "      <td>110.40</td>\n",
       "      <td>109.40</td>\n",
       "      <td>110.00</td>\n",
       "      <td>20.0</td>\n",
       "    </tr>\n",
       "    <tr>\n",
       "      <th>26</th>\n",
       "      <td>2379</td>\n",
       "      <td>瑞昱</td>\n",
       "      <td>6689</td>\n",
       "      <td>305.00</td>\n",
       "      <td>311.00</td>\n",
       "      <td>303.00</td>\n",
       "      <td>307.50</td>\n",
       "      <td>20.0</td>\n",
       "    </tr>\n",
       "  </tbody>\n",
       "</table>\n",
       "</div>"
      ],
      "text/plain": [
       "        id      name  amount    open    high     low   close  value_amt\n",
       "5     2454       聯發科    9849  705.00  710.00  694.00  697.00       68.0\n",
       "6     1605        華新  141124   42.75   44.80   42.35   44.55       62.0\n",
       "8     3035        智原   32420  159.00  165.00  157.00  163.50       53.0\n",
       "9     1795        美時   25385  173.00  174.50  166.00  171.00       43.0\n",
       "13    5871     中租-KY   16671  176.00  190.00  174.50  190.00       31.0\n",
       "14    3189        景碩   25605  120.00  122.50  118.50  119.00       30.0\n",
       "18  00632R  元大台灣50反1  388171    6.01    6.03    5.97    5.99       23.0\n",
       "20    3034        聯詠    7668  301.00  301.50  293.50  298.00       22.0\n",
       "21    1101        台泥   62302   32.45   34.40   32.25   34.15       21.0\n",
       "24    6415    矽力*-KY    4313  450.50  478.00  446.00  468.00       20.0\n",
       "25    0050    元大台灣50   18631  109.80  110.40  109.40  110.00       20.0\n",
       "26    2379        瑞昱    6689  305.00  311.00  303.00  307.50       20.0"
      ]
     },
     "execution_count": 11,
     "metadata": {},
     "output_type": "execute_result"
    }
   ],
   "source": [
    "df_amt = df_today.copy()\n",
    "df_amt['value_amt'] = df_amt['amount'] * df_amt['close'] # 成交量 * 收盤價(億)\n",
    "df_amt['value_amt'] //= 100000\n",
    "df_amt.sort_values('value_amt', ascending=False, inplace=True)\n",
    "lst_amt = list(df_amt.head(30).index)\n",
    "print('today:', lst_amt)\n",
    "\n",
    "path_amt30 = './amt30.txt'\n",
    "with open(path_amt30, 'r') as f:\n",
    "    lst_amt30_yesterday = f.read().split('\\n')\n",
    "print('yesterday:', lst_amt30_yesterday)\n",
    "\n",
    "with open(path_amt30, 'w') as f:\n",
    "    for stock_id in lst_amt:\n",
    "        f.write(stock_id + \"\\n\")\n",
    "lst_amt30_new = [i for i in lst_amt if i not in lst_amt30_yesterday]\n",
    "print('new:', lst_amt30_new)\n",
    "df_amt = df_amt.head(30)\n",
    "df_amt_new = df_amt.reset_index()\n",
    "df_amt_new[df_amt_new['id'].isin(lst_amt30_new)]"
   ]
  },
  {
   "cell_type": "code",
   "execution_count": null,
   "metadata": {},
   "outputs": [],
   "source": []
  },
  {
   "cell_type": "code",
   "execution_count": 12,
   "metadata": {},
   "outputs": [
    {
     "name": "stdout",
     "output_type": "stream",
     "text": [
      "取得今日上市股票資訊: 20221111\n"
     ]
    },
    {
     "data": {
      "text/html": [
       "<div>\n",
       "<style scoped>\n",
       "    .dataframe tbody tr th:only-of-type {\n",
       "        vertical-align: middle;\n",
       "    }\n",
       "\n",
       "    .dataframe tbody tr th {\n",
       "        vertical-align: top;\n",
       "    }\n",
       "\n",
       "    .dataframe thead th {\n",
       "        text-align: right;\n",
       "    }\n",
       "</style>\n",
       "<table border=\"1\" class=\"dataframe\">\n",
       "  <thead>\n",
       "    <tr style=\"text-align: right;\">\n",
       "      <th></th>\n",
       "      <th>name</th>\n",
       "      <th>amount</th>\n",
       "      <th>open</th>\n",
       "      <th>high</th>\n",
       "      <th>low</th>\n",
       "      <th>close</th>\n",
       "    </tr>\n",
       "    <tr>\n",
       "      <th>id</th>\n",
       "      <th></th>\n",
       "      <th></th>\n",
       "      <th></th>\n",
       "      <th></th>\n",
       "      <th></th>\n",
       "      <th></th>\n",
       "    </tr>\n",
       "  </thead>\n",
       "  <tbody>\n",
       "    <tr>\n",
       "      <th>0050</th>\n",
       "      <td>元大台灣50</td>\n",
       "      <td>35134</td>\n",
       "      <td>108.55</td>\n",
       "      <td>109.00</td>\n",
       "      <td>107.8</td>\n",
       "      <td>109.0</td>\n",
       "    </tr>\n",
       "    <tr>\n",
       "      <th>0051</th>\n",
       "      <td>元大中型100</td>\n",
       "      <td>47</td>\n",
       "      <td>53.00</td>\n",
       "      <td>53.15</td>\n",
       "      <td>52.8</td>\n",
       "      <td>53.0</td>\n",
       "    </tr>\n",
       "  </tbody>\n",
       "</table>\n",
       "</div>"
      ],
      "text/plain": [
       "         name  amount    open    high    low  close\n",
       "id                                                 \n",
       "0050   元大台灣50   35134  108.55  109.00  107.8  109.0\n",
       "0051  元大中型100      47   53.00   53.15   52.8   53.0"
      ]
     },
     "execution_count": 12,
     "metadata": {},
     "output_type": "execute_result"
    }
   ],
   "source": [
    "df_yesterday = get_stock_price(d_yesterday)\n",
    "df_yesterday.head(2)"
   ]
  },
  {
   "cell_type": "code",
   "execution_count": 13,
   "metadata": {},
   "outputs": [
    {
     "name": "stdout",
     "output_type": "stream",
     "text": [
      "外資, 投信同步買超筆數： 12479\n"
     ]
    },
    {
     "data": {
      "text/html": [
       "<div>\n",
       "<style scoped>\n",
       "    .dataframe tbody tr th:only-of-type {\n",
       "        vertical-align: middle;\n",
       "    }\n",
       "\n",
       "    .dataframe tbody tr th {\n",
       "        vertical-align: top;\n",
       "    }\n",
       "\n",
       "    .dataframe thead th {\n",
       "        text-align: right;\n",
       "    }\n",
       "</style>\n",
       "<table border=\"1\" class=\"dataframe\">\n",
       "  <thead>\n",
       "    <tr style=\"text-align: right;\">\n",
       "      <th></th>\n",
       "      <th>investor</th>\n",
       "      <th>trust</th>\n",
       "      <th>dealer_T</th>\n",
       "      <th>dealer_F</th>\n",
       "    </tr>\n",
       "    <tr>\n",
       "      <th>id</th>\n",
       "      <th></th>\n",
       "      <th></th>\n",
       "      <th></th>\n",
       "      <th></th>\n",
       "    </tr>\n",
       "  </thead>\n",
       "  <tbody>\n",
       "    <tr>\n",
       "      <th>2303</th>\n",
       "      <td>58858</td>\n",
       "      <td>1586</td>\n",
       "      <td>-1197</td>\n",
       "      <td>-2830</td>\n",
       "    </tr>\n",
       "    <tr>\n",
       "      <th>2002</th>\n",
       "      <td>34829</td>\n",
       "      <td>-455</td>\n",
       "      <td>-2440</td>\n",
       "      <td>251</td>\n",
       "    </tr>\n",
       "  </tbody>\n",
       "</table>\n",
       "</div>"
      ],
      "text/plain": [
       "      investor  trust  dealer_T  dealer_F\n",
       "id                                       \n",
       "2303     58858   1586     -1197     -2830\n",
       "2002     34829   -455     -2440       251"
      ]
     },
     "execution_count": 13,
     "metadata": {},
     "output_type": "execute_result"
    }
   ],
   "source": [
    "df_investor = get_investor(d_today)\n",
    "df_investor.head(2)"
   ]
  },
  {
   "cell_type": "code",
   "execution_count": 14,
   "metadata": {},
   "outputs": [
    {
     "name": "stdout",
     "output_type": "stream",
     "text": [
      "148\n",
      "['00633L', '4927', '2014', '4961', '1524', '2368', '2344', '1590', '2104', '00632R', '4906', '5608', '6235', '0050', '9910', '00881', '1710', '00753L', '00892', '2881', '2637', '1303', '2882', '00830', '3008', '2633', '1301', '2615', '2330', '3045', '6770', '2897', '2352', '2614', '2801', '2888', '1907', '6781', '1308', '6719', '1313', '2303', '1477', '2454', '3189', '00676R', '4977', '00891', '6269', '1802', '2845', '2618', '8046', '3037', '1304', '5880', '1476', '2885', '1326', '2331', '2353', '1444', '1440', '5876', '5225', '1909', '080713', '6491', '8028', '3062', '2515', '2105', '3059', '1216', '2889', '1309', '2731', '6515', '1101', '1708', '00671R', '2405', '2886', '5607', '1609', '5284', '2328', '6116', '6282', '2880', '2504', '2323', '2542', '5269', '00655L', '2027', '2023', '00637L', '4968', '2887', '3706', '2337', '2723', '4915', '6505', '2601', '2031', '4919', '2809', '1314', '00631L', '2867', '00900', '00893', '1409', '2474', '00664R', '2327', '2603', '9904', '2891', '4770', '2404', '6153', '2030', '3413', '2883', '2355', '3592', '2610', '4958', '3035', '2605', '2606', '00715L', '2103', '9907', '8996', '2379', '1605', '5871', '2201', '2382', '2838', '2537', '6768', '9802', '00665L']\n"
     ]
    }
   ],
   "source": [
    "lst_investor1 = list(df_investor[  (df_investor['trust']>0)].index) # (df_investor['investor']>=0) &\n",
    "lst_investor2 = list(df_investor[ (df_investor['investor']>1000) & (df_investor['trust']==0)].index)\n",
    "lst_investor = set(lst_investor1 + lst_investor2)\n",
    "print(len(lst_investor))\n",
    "print(list(lst_investor))"
   ]
  },
  {
   "cell_type": "code",
   "execution_count": 15,
   "metadata": {},
   "outputs": [],
   "source": [
    "# df_otc_trust = get_otc(d_today)\n",
    "# df_otc_trust.set_index('代號', inplace=True)\n",
    "# df_otc_trust['check'] = ''\n",
    "# df_otc_trust.head(2)"
   ]
  },
  {
   "cell_type": "code",
   "execution_count": 16,
   "metadata": {},
   "outputs": [],
   "source": [
    "# df_ratio = get_ratio(d_today) # 殖利率、本益比、股價淨值比\n",
    "# df_ratio_today = df_ratio.copy()\n",
    "# df_ratio_today = df_ratio_today[df_ratio_today['PER']!='-']\n",
    "# df_ratio_today['PER'] = df_ratio_today['PER'].astype(float)\n",
    "# # 殖利率 > 5%、本益比PER<10、股價淨值比 PBR <1\n",
    "# df_ratio_today = df_ratio_today[(df_ratio_today['dividend%']>5) & (df_ratio_today['PER']<10) & (df_ratio_today['PBR']<1)]\n",
    "# df_ratio_today.head(2)"
   ]
  },
  {
   "cell_type": "code",
   "execution_count": 17,
   "metadata": {},
   "outputs": [],
   "source": [
    "# df_cheap_today = df_today[df_today.index.isin(df_ratio_today.index)]\n",
    "\n",
    "# df_cheap = pd.concat([df_cheap_today, df_ratio_today], axis=1, join=\"inner\")\n",
    "# df_cheap = df_cheap[df_cheap['amount']>2000]\n",
    "# df_cheap.reset_index(inplace=True)\n",
    "# df_cheap['start'] = s_yesterday_md#today.strftime(\"%m/%d\")\n",
    "\n",
    "# file_cheap = root + 'cheap.xlsx'\n",
    "# shutil.copy2(file_cheap, file_cheap.replace('.xlsx', '_backup.xlsx')) # complete target filename given\n",
    "# df_cheap_old = pd.read_excel(file_cheap, index_col=None, engine='openpyxl')\n",
    "# df_cheap_old['id'] = df_cheap_old['id'].astype(str)\n",
    "\n",
    "# df_cheap_new = pd.concat([df_cheap_old, df_cheap])\n",
    "# df_cheap_new.sort_values('dividend%', ascending=False)\n",
    "\n",
    "# set_excel_color_daily(df_cheap_new, file_cheap)"
   ]
  },
  {
   "cell_type": "code",
   "execution_count": 18,
   "metadata": {},
   "outputs": [
    {
     "name": "stderr",
     "output_type": "stream",
     "text": [
      "C:\\Users\\Mia\\AppData\\Local\\Temp\\ipykernel_3632\\3510989221.py:3: FutureWarning: Passing a set as an indexer is deprecated and will raise in a future version. Use a list instead.\n",
      "  df_add = df_today.loc[lst_investor,:]\n"
     ]
    },
    {
     "name": "stdout",
     "output_type": "stream",
     "text": [
      "查無資料 Hist < 10 1\n",
      "1101, 收盤價：34.15, 10日內最高價：32.45, 布林通道差：3.69, 布林帶寬：0.12\n",
      "1308, 收盤價：26.85, 10日內最高價：26.6, 布林通道差：2.81, 布林帶寬：0.11\n",
      "1309, 收盤價：20.8, 10日內最高價：20.65, 布林通道差：1.37, 布林帶寬：0.07\n",
      "1313, 收盤價：13.15, 10日內最高價：12.7, 布林通道差：0.91, 布林帶寬：0.07\n",
      "1409, 收盤價：17.35, 10日內最高價：17.05, 布林通道差：1.82, 布林帶寬：0.11\n",
      "1524, 收盤價：23.8, 10日內最高價：23.45, 布林通道差：3.13, 布林帶寬：0.14\n",
      "1609, 收盤價：18.9, 10日內最高價：17.75, 布林通道差：2.34, 布林帶寬：0.14\n",
      "1710, 收盤價：17.75, 10日內最高價：17.65, 布林通道差：0.9, 布林帶寬：0.05\n",
      "2014, 收盤價：22.45, 10日內最高價：21.1, 布林通道差：3.1, 布林帶寬：0.15\n",
      "2023, 收盤價：15.15, 10日內最高價：14.9, 布林通道差：0.88, 布林帶寬：0.06\n",
      "2027, 收盤價：40.8, 10日內最高價：40.5, 布林通道差：3.29, 布林帶寬：0.09\n",
      "2104, 收盤價：20.6, 10日內最高價：20.55, 布林通道差：2.27, 布林帶寬：0.12\n",
      "2201, 收盤價：49.5, 10日內最高價：46.3, 布林通道差：6.29, 布林帶寬：0.14\n",
      "2355, 收盤價：30.95, 10日內最高價：29.2, 布林通道差：3.56, 布林帶寬：0.13\n",
      "2382, 收盤價：73.0, 10日內最高價：70.7, 布林通道差：6.13, 布林帶寬：0.09\n",
      "2542, 收盤價：43.35, 10日內最高價：42.65, 布林通道差：3.57, 布林帶寬：0.09\n",
      "2723, 收盤價：110.0, 10日內最高價：106.5, 布林通道差：14.6, 布林帶寬：0.14\n",
      "2897, 收盤價：8.41, 10日內最高價：8.3, 布林通道差：0.52, 布林帶寬：0.06\n",
      "3062, 收盤價：23.95, 10日內最高價：23.9, 布林通道差：2.91, 布林帶寬：0.13\n",
      "5607, 收盤價：56.6, 10日內最高價：54.8, 布林通道差：7.79, 布林帶寬：0.14\n",
      "5608, 收盤價：24.5, 10日內最高價：24.3, 布林通道差：3.99, 布林帶寬：0.17\n",
      "6768, 收盤價：83.9, 10日內最高價：77.9, 布林通道差：12.72, 布林帶寬：0.17\n",
      "9904, 收盤價：31.75, 10日內最高價：29.1, 布林通道差：3.66, 布林帶寬：0.13\n",
      "今日新增: 23 筆\n",
      " ['1101', '1308', '1309', '1313', '1409', '1524', '1609', '1710', '2014', '2023', '2027', '2104', '2201', '2355', '2382', '2542', '2723', '2897', '3062', '5607', '5608', '6768', '9904']\n"
     ]
    },
    {
     "data": {
      "text/html": [
       "<div>\n",
       "<style scoped>\n",
       "    .dataframe tbody tr th:only-of-type {\n",
       "        vertical-align: middle;\n",
       "    }\n",
       "\n",
       "    .dataframe tbody tr th {\n",
       "        vertical-align: top;\n",
       "    }\n",
       "\n",
       "    .dataframe thead th {\n",
       "        text-align: right;\n",
       "    }\n",
       "</style>\n",
       "<table border=\"1\" class=\"dataframe\">\n",
       "  <thead>\n",
       "    <tr style=\"text-align: right;\">\n",
       "      <th></th>\n",
       "      <th>name</th>\n",
       "      <th>amount</th>\n",
       "      <th>open</th>\n",
       "      <th>high</th>\n",
       "      <th>low</th>\n",
       "      <th>close</th>\n",
       "      <th>rise%</th>\n",
       "      <th>K%</th>\n",
       "      <th>check</th>\n",
       "    </tr>\n",
       "    <tr>\n",
       "      <th>id</th>\n",
       "      <th></th>\n",
       "      <th></th>\n",
       "      <th></th>\n",
       "      <th></th>\n",
       "      <th></th>\n",
       "      <th></th>\n",
       "      <th></th>\n",
       "      <th></th>\n",
       "      <th></th>\n",
       "    </tr>\n",
       "  </thead>\n",
       "  <tbody>\n",
       "    <tr>\n",
       "      <th>1101</th>\n",
       "      <td>台泥</td>\n",
       "      <td>62302</td>\n",
       "      <td>32.45</td>\n",
       "      <td>34.40</td>\n",
       "      <td>32.25</td>\n",
       "      <td>34.15</td>\n",
       "      <td>6.22</td>\n",
       "      <td>5.24</td>\n",
       "      <td>9.0</td>\n",
       "    </tr>\n",
       "    <tr>\n",
       "      <th>1308</th>\n",
       "      <td>亞聚</td>\n",
       "      <td>1836</td>\n",
       "      <td>26.10</td>\n",
       "      <td>26.95</td>\n",
       "      <td>26.10</td>\n",
       "      <td>26.85</td>\n",
       "      <td>2.87</td>\n",
       "      <td>2.87</td>\n",
       "      <td>9.0</td>\n",
       "    </tr>\n",
       "    <tr>\n",
       "      <th>1309</th>\n",
       "      <td>台達化</td>\n",
       "      <td>1820</td>\n",
       "      <td>20.15</td>\n",
       "      <td>20.85</td>\n",
       "      <td>20.05</td>\n",
       "      <td>20.80</td>\n",
       "      <td>3.48</td>\n",
       "      <td>3.23</td>\n",
       "      <td>9.0</td>\n",
       "    </tr>\n",
       "    <tr>\n",
       "      <th>1313</th>\n",
       "      <td>聯成</td>\n",
       "      <td>4824</td>\n",
       "      <td>12.40</td>\n",
       "      <td>13.20</td>\n",
       "      <td>12.40</td>\n",
       "      <td>13.15</td>\n",
       "      <td>6.05</td>\n",
       "      <td>6.05</td>\n",
       "      <td>9.0</td>\n",
       "    </tr>\n",
       "    <tr>\n",
       "      <th>1409</th>\n",
       "      <td>新纖</td>\n",
       "      <td>5405</td>\n",
       "      <td>16.80</td>\n",
       "      <td>17.55</td>\n",
       "      <td>16.80</td>\n",
       "      <td>17.35</td>\n",
       "      <td>3.27</td>\n",
       "      <td>3.27</td>\n",
       "      <td>9.0</td>\n",
       "    </tr>\n",
       "    <tr>\n",
       "      <th>1524</th>\n",
       "      <td>耿鼎</td>\n",
       "      <td>12629</td>\n",
       "      <td>22.85</td>\n",
       "      <td>23.95</td>\n",
       "      <td>22.70</td>\n",
       "      <td>23.80</td>\n",
       "      <td>5.78</td>\n",
       "      <td>4.16</td>\n",
       "      <td>9.0</td>\n",
       "    </tr>\n",
       "    <tr>\n",
       "      <th>1609</th>\n",
       "      <td>大亞</td>\n",
       "      <td>14266</td>\n",
       "      <td>17.40</td>\n",
       "      <td>18.90</td>\n",
       "      <td>17.35</td>\n",
       "      <td>18.90</td>\n",
       "      <td>9.88</td>\n",
       "      <td>8.62</td>\n",
       "      <td>9.0</td>\n",
       "    </tr>\n",
       "    <tr>\n",
       "      <th>1710</th>\n",
       "      <td>東聯</td>\n",
       "      <td>1528</td>\n",
       "      <td>17.35</td>\n",
       "      <td>17.80</td>\n",
       "      <td>17.35</td>\n",
       "      <td>17.75</td>\n",
       "      <td>2.90</td>\n",
       "      <td>2.31</td>\n",
       "      <td>9.0</td>\n",
       "    </tr>\n",
       "    <tr>\n",
       "      <th>2014</th>\n",
       "      <td>中鴻</td>\n",
       "      <td>38834</td>\n",
       "      <td>20.70</td>\n",
       "      <td>22.45</td>\n",
       "      <td>20.70</td>\n",
       "      <td>22.45</td>\n",
       "      <td>9.78</td>\n",
       "      <td>8.45</td>\n",
       "      <td>9.0</td>\n",
       "    </tr>\n",
       "    <tr>\n",
       "      <th>2023</th>\n",
       "      <td>燁輝</td>\n",
       "      <td>7680</td>\n",
       "      <td>14.75</td>\n",
       "      <td>15.25</td>\n",
       "      <td>14.75</td>\n",
       "      <td>15.15</td>\n",
       "      <td>3.06</td>\n",
       "      <td>2.71</td>\n",
       "      <td>9.0</td>\n",
       "    </tr>\n",
       "    <tr>\n",
       "      <th>2027</th>\n",
       "      <td>大成鋼</td>\n",
       "      <td>46337</td>\n",
       "      <td>39.40</td>\n",
       "      <td>41.05</td>\n",
       "      <td>39.05</td>\n",
       "      <td>40.80</td>\n",
       "      <td>3.95</td>\n",
       "      <td>3.55</td>\n",
       "      <td>9.0</td>\n",
       "    </tr>\n",
       "    <tr>\n",
       "      <th>2104</th>\n",
       "      <td>國際中橡</td>\n",
       "      <td>3413</td>\n",
       "      <td>20.10</td>\n",
       "      <td>21.00</td>\n",
       "      <td>20.10</td>\n",
       "      <td>20.60</td>\n",
       "      <td>2.49</td>\n",
       "      <td>2.49</td>\n",
       "      <td>9.0</td>\n",
       "    </tr>\n",
       "    <tr>\n",
       "      <th>2201</th>\n",
       "      <td>裕隆</td>\n",
       "      <td>33067</td>\n",
       "      <td>45.50</td>\n",
       "      <td>49.50</td>\n",
       "      <td>45.30</td>\n",
       "      <td>49.50</td>\n",
       "      <td>10.00</td>\n",
       "      <td>8.79</td>\n",
       "      <td>9.0</td>\n",
       "    </tr>\n",
       "    <tr>\n",
       "      <th>2355</th>\n",
       "      <td>敬鵬</td>\n",
       "      <td>5677</td>\n",
       "      <td>29.65</td>\n",
       "      <td>31.00</td>\n",
       "      <td>29.45</td>\n",
       "      <td>30.95</td>\n",
       "      <td>7.47</td>\n",
       "      <td>4.38</td>\n",
       "      <td>9.0</td>\n",
       "    </tr>\n",
       "    <tr>\n",
       "      <th>2382</th>\n",
       "      <td>廣達</td>\n",
       "      <td>20385</td>\n",
       "      <td>71.50</td>\n",
       "      <td>73.80</td>\n",
       "      <td>70.80</td>\n",
       "      <td>73.00</td>\n",
       "      <td>3.55</td>\n",
       "      <td>2.10</td>\n",
       "      <td>9.0</td>\n",
       "    </tr>\n",
       "    <tr>\n",
       "      <th>2542</th>\n",
       "      <td>興富發</td>\n",
       "      <td>8996</td>\n",
       "      <td>42.35</td>\n",
       "      <td>43.35</td>\n",
       "      <td>42.30</td>\n",
       "      <td>43.35</td>\n",
       "      <td>2.24</td>\n",
       "      <td>2.36</td>\n",
       "      <td>9.0</td>\n",
       "    </tr>\n",
       "    <tr>\n",
       "      <th>2723</th>\n",
       "      <td>美食-KY</td>\n",
       "      <td>2985</td>\n",
       "      <td>105.50</td>\n",
       "      <td>113.00</td>\n",
       "      <td>104.50</td>\n",
       "      <td>110.00</td>\n",
       "      <td>5.77</td>\n",
       "      <td>4.27</td>\n",
       "      <td>7.0</td>\n",
       "    </tr>\n",
       "    <tr>\n",
       "      <th>2897</th>\n",
       "      <td>王道銀行</td>\n",
       "      <td>3810</td>\n",
       "      <td>8.29</td>\n",
       "      <td>8.44</td>\n",
       "      <td>8.27</td>\n",
       "      <td>8.41</td>\n",
       "      <td>1.94</td>\n",
       "      <td>1.45</td>\n",
       "      <td>9.0</td>\n",
       "    </tr>\n",
       "    <tr>\n",
       "      <th>3062</th>\n",
       "      <td>建漢</td>\n",
       "      <td>7783</td>\n",
       "      <td>23.05</td>\n",
       "      <td>24.05</td>\n",
       "      <td>22.95</td>\n",
       "      <td>23.95</td>\n",
       "      <td>5.27</td>\n",
       "      <td>3.90</td>\n",
       "      <td>9.0</td>\n",
       "    </tr>\n",
       "    <tr>\n",
       "      <th>5607</th>\n",
       "      <td>遠雄港</td>\n",
       "      <td>2032</td>\n",
       "      <td>53.50</td>\n",
       "      <td>57.20</td>\n",
       "      <td>53.10</td>\n",
       "      <td>56.60</td>\n",
       "      <td>6.79</td>\n",
       "      <td>5.79</td>\n",
       "      <td>9.0</td>\n",
       "    </tr>\n",
       "    <tr>\n",
       "      <th>5608</th>\n",
       "      <td>四維航</td>\n",
       "      <td>21316</td>\n",
       "      <td>23.05</td>\n",
       "      <td>24.75</td>\n",
       "      <td>22.95</td>\n",
       "      <td>24.50</td>\n",
       "      <td>6.99</td>\n",
       "      <td>6.29</td>\n",
       "      <td>9.0</td>\n",
       "    </tr>\n",
       "    <tr>\n",
       "      <th>6768</th>\n",
       "      <td>志強-KY</td>\n",
       "      <td>4597</td>\n",
       "      <td>78.00</td>\n",
       "      <td>83.90</td>\n",
       "      <td>77.00</td>\n",
       "      <td>83.90</td>\n",
       "      <td>9.96</td>\n",
       "      <td>7.56</td>\n",
       "      <td>8.0</td>\n",
       "    </tr>\n",
       "    <tr>\n",
       "      <th>9904</th>\n",
       "      <td>寶成</td>\n",
       "      <td>35762</td>\n",
       "      <td>29.55</td>\n",
       "      <td>31.75</td>\n",
       "      <td>29.55</td>\n",
       "      <td>31.75</td>\n",
       "      <td>9.86</td>\n",
       "      <td>7.45</td>\n",
       "      <td>9.0</td>\n",
       "    </tr>\n",
       "  </tbody>\n",
       "</table>\n",
       "</div>"
      ],
      "text/plain": [
       "       name  amount    open    high     low   close  rise%    K%  check\n",
       "id                                                                     \n",
       "1101     台泥   62302   32.45   34.40   32.25   34.15   6.22  5.24    9.0\n",
       "1308     亞聚    1836   26.10   26.95   26.10   26.85   2.87  2.87    9.0\n",
       "1309    台達化    1820   20.15   20.85   20.05   20.80   3.48  3.23    9.0\n",
       "1313     聯成    4824   12.40   13.20   12.40   13.15   6.05  6.05    9.0\n",
       "1409     新纖    5405   16.80   17.55   16.80   17.35   3.27  3.27    9.0\n",
       "1524     耿鼎   12629   22.85   23.95   22.70   23.80   5.78  4.16    9.0\n",
       "1609     大亞   14266   17.40   18.90   17.35   18.90   9.88  8.62    9.0\n",
       "1710     東聯    1528   17.35   17.80   17.35   17.75   2.90  2.31    9.0\n",
       "2014     中鴻   38834   20.70   22.45   20.70   22.45   9.78  8.45    9.0\n",
       "2023     燁輝    7680   14.75   15.25   14.75   15.15   3.06  2.71    9.0\n",
       "2027    大成鋼   46337   39.40   41.05   39.05   40.80   3.95  3.55    9.0\n",
       "2104   國際中橡    3413   20.10   21.00   20.10   20.60   2.49  2.49    9.0\n",
       "2201     裕隆   33067   45.50   49.50   45.30   49.50  10.00  8.79    9.0\n",
       "2355     敬鵬    5677   29.65   31.00   29.45   30.95   7.47  4.38    9.0\n",
       "2382     廣達   20385   71.50   73.80   70.80   73.00   3.55  2.10    9.0\n",
       "2542    興富發    8996   42.35   43.35   42.30   43.35   2.24  2.36    9.0\n",
       "2723  美食-KY    2985  105.50  113.00  104.50  110.00   5.77  4.27    7.0\n",
       "2897   王道銀行    3810    8.29    8.44    8.27    8.41   1.94  1.45    9.0\n",
       "3062     建漢    7783   23.05   24.05   22.95   23.95   5.27  3.90    9.0\n",
       "5607    遠雄港    2032   53.50   57.20   53.10   56.60   6.79  5.79    9.0\n",
       "5608    四維航   21316   23.05   24.75   22.95   24.50   6.99  6.29    9.0\n",
       "6768  志強-KY    4597   78.00   83.90   77.00   83.90   9.96  7.56    8.0\n",
       "9904     寶成   35762   29.55   31.75   29.55   31.75   9.86  7.45    9.0"
      ]
     },
     "execution_count": 18,
     "metadata": {},
     "output_type": "execute_result"
    }
   ],
   "source": [
    "## 今日符合篩選條件，新增至追蹤\n",
    "# 漲幅 > 1.5%，K棒 > 1%\n",
    "df_add = df_today.loc[lst_investor,:]\n",
    "df_add.sort_index(inplace=True)\n",
    "\n",
    "df_add['rise%'] = round((df_add['close'] - df_yesterday['close'])/df_yesterday['close']*100, 2)  # 漲跌%\n",
    "df_add['K%'] = round( (df_add['close'] - df_add['open'])/df_add['open']*100, 2 )    # K棒%\n",
    "df_add = df_add[ (df_add['rise%']>1.5) & (df_add['K%']>1) ]\n",
    "df_add = check_10days(df_add)\n",
    "lst_add_ori = list(df_add.index)\n",
    "print('今日新增:',len(lst_add_ori),'筆\\n', lst_add_ori)\n",
    "\n",
    "lst_add = [i for i in df_add.index if i not in list(lst_track)] # 排除掉已經在track裡的股票\n",
    "df_add = df_add.loc[lst_add,:]\n",
    "df_add"
   ]
  },
  {
   "cell_type": "code",
   "execution_count": 19,
   "metadata": {},
   "outputs": [
    {
     "name": "stdout",
     "output_type": "stream",
     "text": [
      "量價前30名: ['2330', '8046', '3037', '2603', '2317', '2454', '1605', '2303', '3035', '1795', '6533', '3661', '3443', '5871', '3189', '2609', '00637L', '8996', '00632R', '2412', '3034', '1101', '3454', '6669', '6415', '0050', '2379', '2327', '2308', '3406']\n",
      "1101, 收盤價：34.15, 10日內最高價：32.45, 布林通道差：3.69, 布林帶寬：0.12\n",
      "量價前30名，10日盤整: 1 筆 ['1101']\n"
     ]
    }
   ],
   "source": [
    "print('量價前30名:', lst_amt)\n",
    "df_amt = check_10days(df_amt)\n",
    "lst_amt = list(df_amt.index)\n",
    "print('量價前30名，10日盤整:',len(lst_amt),'筆', lst_amt)"
   ]
  },
  {
   "cell_type": "markdown",
   "metadata": {},
   "source": [
    "# 預測EPS"
   ]
  },
  {
   "cell_type": "code",
   "execution_count": 20,
   "metadata": {},
   "outputs": [],
   "source": [
    "def get_EPS(lst_stock_id, filename):\n",
    "    df_yearly_all = get_df_yearly_all() # 寫入歷年EPS、本益比，估算今年股價min, max範圍\n",
    "    df_quarterly_all = get_df_quarterly_all()\n",
    "    df_estimate = pd.DataFrame(columns = list(df_quarterly_all.columns)+['普通股數'])\n",
    "\n",
    "    # 取得公司發行股數\n",
    "    path_company_stock_num = root + 'company_list.xlsx'\n",
    "    df_company_stock_num = pd.read_excel(path_company_stock_num, engine='openpyxl', dtype={'stock_id':str})\n",
    "    df_company_stock_num.set_index('stock_id', inplace=True)\n",
    "    \n",
    "    lst_eps = []\n",
    "    for i in range(len(lst_stock_id)):\n",
    "        stock_id = lst_stock_id[i]\n",
    "        t_wait = np.random.randint(5,15)\n",
    "        print(stock_id, ', wait ', t_wait)\n",
    "        df = get_df_quarterly(stock_id)\n",
    "\n",
    "        if df is None:\n",
    "            print('df is None')\n",
    "            continue\n",
    "        if df.loc[df.index[0], '毛利率(%)'] < 20:\n",
    "            print(stock_id, '：毛利率', df.loc[df.index[0], '毛利率(%)'], '< 20%，跳過')\n",
    "            continue\n",
    "        elif df.loc[df.index[0], '營益率(%)'] < 8:\n",
    "            print(stock_id, '：營益率' , df.loc[df.index[0], '營益率(%)'] , ' < 8%，跳過')\n",
    "            continue\n",
    "\n",
    "        lst_eps.append(stock_id)\n",
    "        # 計算歷年同季的營收成長率、EPS\n",
    "        df = set_growth_eps(df, df_today, stock_id)\n",
    "\n",
    "        # 將年度EPS寫到歷年excel裡\n",
    "        lst_year = set(df.index.to_series().apply(lambda x:x[:4]))\n",
    "        min_year = int(min(lst_year)) # 若最小年是2018 ，只能確定2019都有資料\n",
    "        lst_year = [y for y in lst_year if int(y) > min_year]\n",
    "        lst_EPS = [{'year':y, 'eps': df.loc[str(y)+'Q1', 'EPS(Y)']} for y in lst_year]\n",
    "\n",
    "        df.reset_index(inplace=True)\n",
    "        df = df.rename(columns={'index':'quarter'}) # reset_index後column名稱是index\n",
    "\n",
    "        stock_name = \"\"\n",
    "        if stock_id in df_today.index:\n",
    "            stock_name = df_today.loc[stock_id, 'name']\n",
    "            df_yearly = get_yearly(stock_id, lst_EPS, df['quarter'][0][:4], stock_name)    \n",
    "            df_yearly_all = df_yearly_all.append(df_yearly, ignore_index=True)\n",
    "\n",
    "        df.insert(0, 'name', value=stock_name)\n",
    "        df.insert(0, 'stock_id', value=stock_id)\n",
    "\n",
    "        df_quarterly_all = df_quarterly_all.append(df, ignore_index=True)\n",
    "        time.sleep(t_wait)\n",
    "\n",
    "        # ===============================\n",
    "        # 預測EPS ( check_EPS )\n",
    "        # ===============================\n",
    "        df_new_quarter = get_quarter_finance(stock_id, df, this_year, this_quarter, df_company_stock_num, df_today)\n",
    "        df_concat = pd.concat([df, df_new_quarter])\n",
    "        df_concat.sort_values('quarter', ascending=False, inplace=True)\n",
    "        df_estimate = df_estimate.append(df_concat)\n",
    "\n",
    "    #預測EPS ( check_EPS )\n",
    "    df_estimate.to_excel(path_check+'estimate_{}_{}.xlsx'.format(filename, s_today), index=False)\n",
    "    return lst_eps"
   ]
  },
  {
   "cell_type": "code",
   "execution_count": 21,
   "metadata": {},
   "outputs": [
    {
     "name": "stdout",
     "output_type": "stream",
     "text": [
      "今日觀察： 23 筆\n",
      "1101 , wait  12\n"
     ]
    },
    {
     "name": "stderr",
     "output_type": "stream",
     "text": [
      "C:\\Users\\Mia\\.virtualenvs\\stock-8IVDzipY\\lib\\site-packages\\openpyxl\\styles\\stylesheet.py:226: UserWarning: Workbook contains no default style, apply openpyxl's default\n",
      "  warn(\"Workbook contains no default style, apply openpyxl's default\")\n"
     ]
    },
    {
     "name": "stdout",
     "output_type": "stream",
     "text": [
      "1101 ：毛利率 7.4 < 20%，跳過\n",
      "1308 , wait  14\n"
     ]
    },
    {
     "name": "stderr",
     "output_type": "stream",
     "text": [
      "C:\\Users\\Mia\\.virtualenvs\\stock-8IVDzipY\\lib\\site-packages\\openpyxl\\styles\\stylesheet.py:226: UserWarning: Workbook contains no default style, apply openpyxl's default\n",
      "  warn(\"Workbook contains no default style, apply openpyxl's default\")\n"
     ]
    },
    {
     "name": "stdout",
     "output_type": "stream",
     "text": [
      "1308  wait  7\n",
      "'2022'\n"
     ]
    },
    {
     "name": "stderr",
     "output_type": "stream",
     "text": [
      "C:\\Users\\Mia\\AppData\\Local\\Temp\\ipykernel_3632\\298807737.py:45: FutureWarning: The frame.append method is deprecated and will be removed from pandas in a future version. Use pandas.concat instead.\n",
      "  df_yearly_all = df_yearly_all.append(df_yearly, ignore_index=True)\n",
      "C:\\Users\\Mia\\AppData\\Local\\Temp\\ipykernel_3632\\298807737.py:50: FutureWarning: The frame.append method is deprecated and will be removed from pandas in a future version. Use pandas.concat instead.\n",
      "  df_quarterly_all = df_quarterly_all.append(df, ignore_index=True)\n",
      "C:\\Users\\Mia\\AppData\\Local\\Temp\\ipykernel_3632\\298807737.py:59: FutureWarning: The frame.append method is deprecated and will be removed from pandas in a future version. Use pandas.concat instead.\n",
      "  df_estimate = df_estimate.append(df_concat)\n"
     ]
    },
    {
     "name": "stdout",
     "output_type": "stream",
     "text": [
      "1309 , wait  5\n"
     ]
    },
    {
     "name": "stderr",
     "output_type": "stream",
     "text": [
      "C:\\Users\\Mia\\.virtualenvs\\stock-8IVDzipY\\lib\\site-packages\\openpyxl\\styles\\stylesheet.py:226: UserWarning: Workbook contains no default style, apply openpyxl's default\n",
      "  warn(\"Workbook contains no default style, apply openpyxl's default\")\n"
     ]
    },
    {
     "name": "stdout",
     "output_type": "stream",
     "text": [
      "1309 ：毛利率 7.7 < 20%，跳過\n",
      "1313 , wait  5\n"
     ]
    },
    {
     "name": "stderr",
     "output_type": "stream",
     "text": [
      "C:\\Users\\Mia\\.virtualenvs\\stock-8IVDzipY\\lib\\site-packages\\openpyxl\\styles\\stylesheet.py:226: UserWarning: Workbook contains no default style, apply openpyxl's default\n",
      "  warn(\"Workbook contains no default style, apply openpyxl's default\")\n"
     ]
    },
    {
     "name": "stdout",
     "output_type": "stream",
     "text": [
      "1313 ：毛利率 -2.6 < 20%，跳過\n",
      "1409 , wait  11\n"
     ]
    },
    {
     "name": "stderr",
     "output_type": "stream",
     "text": [
      "C:\\Users\\Mia\\.virtualenvs\\stock-8IVDzipY\\lib\\site-packages\\openpyxl\\styles\\stylesheet.py:226: UserWarning: Workbook contains no default style, apply openpyxl's default\n",
      "  warn(\"Workbook contains no default style, apply openpyxl's default\")\n"
     ]
    },
    {
     "name": "stdout",
     "output_type": "stream",
     "text": [
      "1409  wait  7\n",
      "'2022'\n"
     ]
    },
    {
     "name": "stderr",
     "output_type": "stream",
     "text": [
      "C:\\Users\\Mia\\AppData\\Local\\Temp\\ipykernel_3632\\298807737.py:45: FutureWarning: The frame.append method is deprecated and will be removed from pandas in a future version. Use pandas.concat instead.\n",
      "  df_yearly_all = df_yearly_all.append(df_yearly, ignore_index=True)\n",
      "C:\\Users\\Mia\\AppData\\Local\\Temp\\ipykernel_3632\\298807737.py:50: FutureWarning: The frame.append method is deprecated and will be removed from pandas in a future version. Use pandas.concat instead.\n",
      "  df_quarterly_all = df_quarterly_all.append(df, ignore_index=True)\n",
      "C:\\Users\\Mia\\AppData\\Local\\Temp\\ipykernel_3632\\298807737.py:59: FutureWarning: The frame.append method is deprecated and will be removed from pandas in a future version. Use pandas.concat instead.\n",
      "  df_estimate = df_estimate.append(df_concat)\n"
     ]
    },
    {
     "name": "stdout",
     "output_type": "stream",
     "text": [
      "1524 , wait  11\n"
     ]
    },
    {
     "name": "stderr",
     "output_type": "stream",
     "text": [
      "C:\\Users\\Mia\\.virtualenvs\\stock-8IVDzipY\\lib\\site-packages\\openpyxl\\styles\\stylesheet.py:226: UserWarning: Workbook contains no default style, apply openpyxl's default\n",
      "  warn(\"Workbook contains no default style, apply openpyxl's default\")\n"
     ]
    },
    {
     "name": "stdout",
     "output_type": "stream",
     "text": [
      "1524  wait  6\n",
      "'2022'\n"
     ]
    },
    {
     "name": "stderr",
     "output_type": "stream",
     "text": [
      "C:\\Users\\Mia\\AppData\\Local\\Temp\\ipykernel_3632\\298807737.py:45: FutureWarning: The frame.append method is deprecated and will be removed from pandas in a future version. Use pandas.concat instead.\n",
      "  df_yearly_all = df_yearly_all.append(df_yearly, ignore_index=True)\n",
      "C:\\Users\\Mia\\AppData\\Local\\Temp\\ipykernel_3632\\298807737.py:50: FutureWarning: The frame.append method is deprecated and will be removed from pandas in a future version. Use pandas.concat instead.\n",
      "  df_quarterly_all = df_quarterly_all.append(df, ignore_index=True)\n",
      "C:\\Users\\Mia\\AppData\\Local\\Temp\\ipykernel_3632\\298807737.py:59: FutureWarning: The frame.append method is deprecated and will be removed from pandas in a future version. Use pandas.concat instead.\n",
      "  df_estimate = df_estimate.append(df_concat)\n"
     ]
    },
    {
     "name": "stdout",
     "output_type": "stream",
     "text": [
      "1609 , wait  13\n"
     ]
    },
    {
     "name": "stderr",
     "output_type": "stream",
     "text": [
      "C:\\Users\\Mia\\.virtualenvs\\stock-8IVDzipY\\lib\\site-packages\\openpyxl\\styles\\stylesheet.py:226: UserWarning: Workbook contains no default style, apply openpyxl's default\n",
      "  warn(\"Workbook contains no default style, apply openpyxl's default\")\n"
     ]
    },
    {
     "name": "stdout",
     "output_type": "stream",
     "text": [
      "1609 ：毛利率 5.6 < 20%，跳過\n",
      "1710 , wait  7\n"
     ]
    },
    {
     "name": "stderr",
     "output_type": "stream",
     "text": [
      "C:\\Users\\Mia\\.virtualenvs\\stock-8IVDzipY\\lib\\site-packages\\openpyxl\\styles\\stylesheet.py:226: UserWarning: Workbook contains no default style, apply openpyxl's default\n",
      "  warn(\"Workbook contains no default style, apply openpyxl's default\")\n"
     ]
    },
    {
     "name": "stdout",
     "output_type": "stream",
     "text": [
      "1710 ：毛利率 -3.1 < 20%，跳過\n",
      "2014 , wait  13\n"
     ]
    },
    {
     "name": "stderr",
     "output_type": "stream",
     "text": [
      "C:\\Users\\Mia\\.virtualenvs\\stock-8IVDzipY\\lib\\site-packages\\openpyxl\\styles\\stylesheet.py:226: UserWarning: Workbook contains no default style, apply openpyxl's default\n",
      "  warn(\"Workbook contains no default style, apply openpyxl's default\")\n"
     ]
    },
    {
     "name": "stdout",
     "output_type": "stream",
     "text": [
      "2014 ：毛利率 -24.5 < 20%，跳過\n",
      "2023 , wait  9\n"
     ]
    },
    {
     "name": "stderr",
     "output_type": "stream",
     "text": [
      "C:\\Users\\Mia\\.virtualenvs\\stock-8IVDzipY\\lib\\site-packages\\openpyxl\\styles\\stylesheet.py:226: UserWarning: Workbook contains no default style, apply openpyxl's default\n",
      "  warn(\"Workbook contains no default style, apply openpyxl's default\")\n"
     ]
    },
    {
     "name": "stdout",
     "output_type": "stream",
     "text": [
      "2023 ：毛利率 9.0 < 20%，跳過\n",
      "2027 , wait  10\n"
     ]
    },
    {
     "name": "stderr",
     "output_type": "stream",
     "text": [
      "C:\\Users\\Mia\\.virtualenvs\\stock-8IVDzipY\\lib\\site-packages\\openpyxl\\styles\\stylesheet.py:226: UserWarning: Workbook contains no default style, apply openpyxl's default\n",
      "  warn(\"Workbook contains no default style, apply openpyxl's default\")\n"
     ]
    },
    {
     "name": "stdout",
     "output_type": "stream",
     "text": [
      "2027  wait  5\n",
      "'2022'\n"
     ]
    },
    {
     "name": "stderr",
     "output_type": "stream",
     "text": [
      "C:\\Users\\Mia\\AppData\\Local\\Temp\\ipykernel_3632\\298807737.py:45: FutureWarning: The frame.append method is deprecated and will be removed from pandas in a future version. Use pandas.concat instead.\n",
      "  df_yearly_all = df_yearly_all.append(df_yearly, ignore_index=True)\n",
      "C:\\Users\\Mia\\AppData\\Local\\Temp\\ipykernel_3632\\298807737.py:50: FutureWarning: The frame.append method is deprecated and will be removed from pandas in a future version. Use pandas.concat instead.\n",
      "  df_quarterly_all = df_quarterly_all.append(df, ignore_index=True)\n",
      "C:\\Users\\Mia\\AppData\\Local\\Temp\\ipykernel_3632\\298807737.py:59: FutureWarning: The frame.append method is deprecated and will be removed from pandas in a future version. Use pandas.concat instead.\n",
      "  df_estimate = df_estimate.append(df_concat)\n"
     ]
    },
    {
     "name": "stdout",
     "output_type": "stream",
     "text": [
      "2104 , wait  6\n"
     ]
    },
    {
     "name": "stderr",
     "output_type": "stream",
     "text": [
      "C:\\Users\\Mia\\.virtualenvs\\stock-8IVDzipY\\lib\\site-packages\\openpyxl\\styles\\stylesheet.py:226: UserWarning: Workbook contains no default style, apply openpyxl's default\n",
      "  warn(\"Workbook contains no default style, apply openpyxl's default\")\n"
     ]
    },
    {
     "name": "stdout",
     "output_type": "stream",
     "text": [
      "2104 ：毛利率 17.7 < 20%，跳過\n",
      "2201 , wait  9\n"
     ]
    },
    {
     "name": "stderr",
     "output_type": "stream",
     "text": [
      "C:\\Users\\Mia\\.virtualenvs\\stock-8IVDzipY\\lib\\site-packages\\openpyxl\\styles\\stylesheet.py:226: UserWarning: Workbook contains no default style, apply openpyxl's default\n",
      "  warn(\"Workbook contains no default style, apply openpyxl's default\")\n"
     ]
    },
    {
     "name": "stdout",
     "output_type": "stream",
     "text": [
      "2201  wait  8\n",
      "'2022'\n"
     ]
    },
    {
     "name": "stderr",
     "output_type": "stream",
     "text": [
      "C:\\Users\\Mia\\AppData\\Local\\Temp\\ipykernel_3632\\298807737.py:45: FutureWarning: The frame.append method is deprecated and will be removed from pandas in a future version. Use pandas.concat instead.\n",
      "  df_yearly_all = df_yearly_all.append(df_yearly, ignore_index=True)\n",
      "C:\\Users\\Mia\\AppData\\Local\\Temp\\ipykernel_3632\\298807737.py:50: FutureWarning: The frame.append method is deprecated and will be removed from pandas in a future version. Use pandas.concat instead.\n",
      "  df_quarterly_all = df_quarterly_all.append(df, ignore_index=True)\n",
      "C:\\Users\\Mia\\AppData\\Local\\Temp\\ipykernel_3632\\298807737.py:59: FutureWarning: The frame.append method is deprecated and will be removed from pandas in a future version. Use pandas.concat instead.\n",
      "  df_estimate = df_estimate.append(df_concat)\n"
     ]
    },
    {
     "name": "stdout",
     "output_type": "stream",
     "text": [
      "2355 , wait  13\n"
     ]
    },
    {
     "name": "stderr",
     "output_type": "stream",
     "text": [
      "C:\\Users\\Mia\\.virtualenvs\\stock-8IVDzipY\\lib\\site-packages\\openpyxl\\styles\\stylesheet.py:226: UserWarning: Workbook contains no default style, apply openpyxl's default\n",
      "  warn(\"Workbook contains no default style, apply openpyxl's default\")\n"
     ]
    },
    {
     "name": "stdout",
     "output_type": "stream",
     "text": [
      "2355 ：毛利率 7.6 < 20%，跳過\n",
      "2382 , wait  10\n"
     ]
    },
    {
     "name": "stderr",
     "output_type": "stream",
     "text": [
      "C:\\Users\\Mia\\.virtualenvs\\stock-8IVDzipY\\lib\\site-packages\\openpyxl\\styles\\stylesheet.py:226: UserWarning: Workbook contains no default style, apply openpyxl's default\n",
      "  warn(\"Workbook contains no default style, apply openpyxl's default\")\n"
     ]
    },
    {
     "name": "stdout",
     "output_type": "stream",
     "text": [
      "2382 ：毛利率 5.6 < 20%，跳過\n",
      "2542 , wait  12\n"
     ]
    },
    {
     "name": "stderr",
     "output_type": "stream",
     "text": [
      "C:\\Users\\Mia\\.virtualenvs\\stock-8IVDzipY\\lib\\site-packages\\openpyxl\\styles\\stylesheet.py:226: UserWarning: Workbook contains no default style, apply openpyxl's default\n",
      "  warn(\"Workbook contains no default style, apply openpyxl's default\")\n"
     ]
    },
    {
     "name": "stdout",
     "output_type": "stream",
     "text": [
      "2542  wait  5\n",
      "'2022'\n"
     ]
    },
    {
     "name": "stderr",
     "output_type": "stream",
     "text": [
      "C:\\Users\\Mia\\AppData\\Local\\Temp\\ipykernel_3632\\298807737.py:45: FutureWarning: The frame.append method is deprecated and will be removed from pandas in a future version. Use pandas.concat instead.\n",
      "  df_yearly_all = df_yearly_all.append(df_yearly, ignore_index=True)\n",
      "C:\\Users\\Mia\\AppData\\Local\\Temp\\ipykernel_3632\\298807737.py:50: FutureWarning: The frame.append method is deprecated and will be removed from pandas in a future version. Use pandas.concat instead.\n",
      "  df_quarterly_all = df_quarterly_all.append(df, ignore_index=True)\n",
      "C:\\Users\\Mia\\AppData\\Local\\Temp\\ipykernel_3632\\298807737.py:59: FutureWarning: The frame.append method is deprecated and will be removed from pandas in a future version. Use pandas.concat instead.\n",
      "  df_estimate = df_estimate.append(df_concat)\n"
     ]
    },
    {
     "name": "stdout",
     "output_type": "stream",
     "text": [
      "2723 , wait  6\n"
     ]
    },
    {
     "name": "stderr",
     "output_type": "stream",
     "text": [
      "C:\\Users\\Mia\\.virtualenvs\\stock-8IVDzipY\\lib\\site-packages\\openpyxl\\styles\\stylesheet.py:226: UserWarning: Workbook contains no default style, apply openpyxl's default\n",
      "  warn(\"Workbook contains no default style, apply openpyxl's default\")\n"
     ]
    },
    {
     "name": "stdout",
     "output_type": "stream",
     "text": [
      "2723 ：營益率 -0.6  < 8%，跳過\n",
      "2897 , wait  12\n"
     ]
    },
    {
     "name": "stderr",
     "output_type": "stream",
     "text": [
      "C:\\Users\\Mia\\.virtualenvs\\stock-8IVDzipY\\lib\\site-packages\\openpyxl\\styles\\stylesheet.py:226: UserWarning: Workbook contains no default style, apply openpyxl's default\n",
      "  warn(\"Workbook contains no default style, apply openpyxl's default\")\n"
     ]
    },
    {
     "name": "stdout",
     "output_type": "stream",
     "text": [
      "2897  wait  8\n",
      "'2022'\n"
     ]
    },
    {
     "name": "stderr",
     "output_type": "stream",
     "text": [
      "C:\\Users\\Mia\\AppData\\Local\\Temp\\ipykernel_3632\\298807737.py:45: FutureWarning: The frame.append method is deprecated and will be removed from pandas in a future version. Use pandas.concat instead.\n",
      "  df_yearly_all = df_yearly_all.append(df_yearly, ignore_index=True)\n",
      "C:\\Users\\Mia\\AppData\\Local\\Temp\\ipykernel_3632\\298807737.py:50: FutureWarning: The frame.append method is deprecated and will be removed from pandas in a future version. Use pandas.concat instead.\n",
      "  df_quarterly_all = df_quarterly_all.append(df, ignore_index=True)\n",
      "C:\\Users\\Mia\\AppData\\Local\\Temp\\ipykernel_3632\\298807737.py:59: FutureWarning: The frame.append method is deprecated and will be removed from pandas in a future version. Use pandas.concat instead.\n",
      "  df_estimate = df_estimate.append(df_concat)\n"
     ]
    },
    {
     "name": "stdout",
     "output_type": "stream",
     "text": [
      "3062 , wait  5\n"
     ]
    },
    {
     "name": "stderr",
     "output_type": "stream",
     "text": [
      "C:\\Users\\Mia\\.virtualenvs\\stock-8IVDzipY\\lib\\site-packages\\openpyxl\\styles\\stylesheet.py:226: UserWarning: Workbook contains no default style, apply openpyxl's default\n",
      "  warn(\"Workbook contains no default style, apply openpyxl's default\")\n"
     ]
    },
    {
     "name": "stdout",
     "output_type": "stream",
     "text": [
      "3062 ：毛利率 5.7 < 20%，跳過\n",
      "5607 , wait  13\n"
     ]
    },
    {
     "name": "stderr",
     "output_type": "stream",
     "text": [
      "C:\\Users\\Mia\\.virtualenvs\\stock-8IVDzipY\\lib\\site-packages\\openpyxl\\styles\\stylesheet.py:226: UserWarning: Workbook contains no default style, apply openpyxl's default\n",
      "  warn(\"Workbook contains no default style, apply openpyxl's default\")\n"
     ]
    },
    {
     "name": "stdout",
     "output_type": "stream",
     "text": [
      "5607  wait  7\n",
      "'2022'\n"
     ]
    },
    {
     "name": "stderr",
     "output_type": "stream",
     "text": [
      "C:\\Users\\Mia\\AppData\\Local\\Temp\\ipykernel_3632\\298807737.py:45: FutureWarning: The frame.append method is deprecated and will be removed from pandas in a future version. Use pandas.concat instead.\n",
      "  df_yearly_all = df_yearly_all.append(df_yearly, ignore_index=True)\n",
      "C:\\Users\\Mia\\AppData\\Local\\Temp\\ipykernel_3632\\298807737.py:50: FutureWarning: The frame.append method is deprecated and will be removed from pandas in a future version. Use pandas.concat instead.\n",
      "  df_quarterly_all = df_quarterly_all.append(df, ignore_index=True)\n",
      "C:\\Users\\Mia\\AppData\\Local\\Temp\\ipykernel_3632\\298807737.py:59: FutureWarning: The frame.append method is deprecated and will be removed from pandas in a future version. Use pandas.concat instead.\n",
      "  df_estimate = df_estimate.append(df_concat)\n"
     ]
    },
    {
     "name": "stdout",
     "output_type": "stream",
     "text": [
      "5608 , wait  14\n"
     ]
    },
    {
     "name": "stderr",
     "output_type": "stream",
     "text": [
      "C:\\Users\\Mia\\.virtualenvs\\stock-8IVDzipY\\lib\\site-packages\\openpyxl\\styles\\stylesheet.py:226: UserWarning: Workbook contains no default style, apply openpyxl's default\n",
      "  warn(\"Workbook contains no default style, apply openpyxl's default\")\n"
     ]
    },
    {
     "name": "stdout",
     "output_type": "stream",
     "text": [
      "5608  wait  5\n",
      "'2022'\n"
     ]
    },
    {
     "name": "stderr",
     "output_type": "stream",
     "text": [
      "C:\\Users\\Mia\\AppData\\Local\\Temp\\ipykernel_3632\\298807737.py:45: FutureWarning: The frame.append method is deprecated and will be removed from pandas in a future version. Use pandas.concat instead.\n",
      "  df_yearly_all = df_yearly_all.append(df_yearly, ignore_index=True)\n",
      "C:\\Users\\Mia\\AppData\\Local\\Temp\\ipykernel_3632\\298807737.py:50: FutureWarning: The frame.append method is deprecated and will be removed from pandas in a future version. Use pandas.concat instead.\n",
      "  df_quarterly_all = df_quarterly_all.append(df, ignore_index=True)\n",
      "C:\\Users\\Mia\\AppData\\Local\\Temp\\ipykernel_3632\\298807737.py:59: FutureWarning: The frame.append method is deprecated and will be removed from pandas in a future version. Use pandas.concat instead.\n",
      "  df_estimate = df_estimate.append(df_concat)\n"
     ]
    },
    {
     "name": "stdout",
     "output_type": "stream",
     "text": [
      "6768 , wait  9\n"
     ]
    },
    {
     "name": "stderr",
     "output_type": "stream",
     "text": [
      "C:\\Users\\Mia\\.virtualenvs\\stock-8IVDzipY\\lib\\site-packages\\openpyxl\\styles\\stylesheet.py:226: UserWarning: Workbook contains no default style, apply openpyxl's default\n",
      "  warn(\"Workbook contains no default style, apply openpyxl's default\")\n"
     ]
    },
    {
     "name": "stdout",
     "output_type": "stream",
     "text": [
      "6768  wait  6\n"
     ]
    },
    {
     "name": "stderr",
     "output_type": "stream",
     "text": [
      "C:\\Users\\Mia\\AppData\\Local\\Temp\\ipykernel_3632\\298807737.py:45: FutureWarning: The frame.append method is deprecated and will be removed from pandas in a future version. Use pandas.concat instead.\n",
      "  df_yearly_all = df_yearly_all.append(df_yearly, ignore_index=True)\n",
      "C:\\Users\\Mia\\AppData\\Local\\Temp\\ipykernel_3632\\298807737.py:50: FutureWarning: The frame.append method is deprecated and will be removed from pandas in a future version. Use pandas.concat instead.\n",
      "  df_quarterly_all = df_quarterly_all.append(df, ignore_index=True)\n",
      "C:\\Users\\Mia\\AppData\\Local\\Temp\\ipykernel_3632\\298807737.py:59: FutureWarning: The frame.append method is deprecated and will be removed from pandas in a future version. Use pandas.concat instead.\n",
      "  df_estimate = df_estimate.append(df_concat)\n"
     ]
    },
    {
     "name": "stdout",
     "output_type": "stream",
     "text": [
      "9904 , wait  10\n"
     ]
    },
    {
     "name": "stderr",
     "output_type": "stream",
     "text": [
      "C:\\Users\\Mia\\.virtualenvs\\stock-8IVDzipY\\lib\\site-packages\\openpyxl\\styles\\stylesheet.py:226: UserWarning: Workbook contains no default style, apply openpyxl's default\n",
      "  warn(\"Workbook contains no default style, apply openpyxl's default\")\n"
     ]
    },
    {
     "name": "stdout",
     "output_type": "stream",
     "text": [
      "9904 ：營益率 5.2  < 8%，跳過\n",
      "EPS檢查 10 筆\n",
      " ['1308', '1409', '1524', '2027', '2201', '2542', '2897', '5607', '5608', '6768']\n"
     ]
    }
   ],
   "source": [
    "print('今日觀察：', len(lst_add_ori), '筆')\n",
    "lst_add_ori = get_EPS(lst_add_ori, 'add')\n",
    "print('EPS檢查', len(lst_add_ori), '筆\\n', lst_add_ori)"
   ]
  },
  {
   "cell_type": "code",
   "execution_count": 22,
   "metadata": {},
   "outputs": [
    {
     "name": "stdout",
     "output_type": "stream",
     "text": [
      "量價前30名： ['1101']\n",
      "1101 , wait  11\n",
      "1101 ：毛利率 7.4 < 20%，跳過\n",
      "EPS檢查： 0 筆\n",
      " []\n"
     ]
    },
    {
     "name": "stderr",
     "output_type": "stream",
     "text": [
      "C:\\Users\\Mia\\.virtualenvs\\stock-8IVDzipY\\lib\\site-packages\\openpyxl\\styles\\stylesheet.py:226: UserWarning: Workbook contains no default style, apply openpyxl's default\n",
      "  warn(\"Workbook contains no default style, apply openpyxl's default\")\n"
     ]
    }
   ],
   "source": [
    "print('量價前30名：', lst_amt)\n",
    "lst_amt = get_EPS(lst_amt, 'amt30')\n",
    "print('EPS檢查：',len(lst_amt), '筆\\n', lst_amt)"
   ]
  },
  {
   "cell_type": "markdown",
   "metadata": {},
   "source": [
    "# 今日新增 && 在量價前30名"
   ]
  },
  {
   "cell_type": "code",
   "execution_count": 23,
   "metadata": {},
   "outputs": [
    {
     "name": "stdout",
     "output_type": "stream",
     "text": [
      "今日新增 && 在量價前30名 []\n"
     ]
    }
   ],
   "source": [
    "print('今日新增 && 在量價前30名', list(set(lst_add_ori)& set(lst_amt)) )"
   ]
  },
  {
   "cell_type": "markdown",
   "metadata": {},
   "source": [
    "# 畫日K線圖、週K線圖"
   ]
  },
  {
   "cell_type": "code",
   "execution_count": 24,
   "metadata": {},
   "outputs": [
    {
     "name": "stdout",
     "output_type": "stream",
     "text": [
      "目前記錄日期至: 2022-10-20 新增前: 258 筆\n"
     ]
    }
   ],
   "source": [
    "file_name = root + 'stock_20210825_1203.json'\n",
    "with open(file_name) as f:\n",
    "    dic_stock = json.load(f)\n",
    "\n",
    "latest_date_file = datetime.strptime(sorted(dic_stock)[-1], '%Y-%m-%d').date()\n",
    "print('目前記錄日期至:',latest_date_file, '新增前:', len(dic_stock), '筆')"
   ]
  },
  {
   "cell_type": "code",
   "execution_count": 25,
   "metadata": {},
   "outputs": [
    {
     "name": "stdout",
     "output_type": "stream",
     "text": [
      "須補天數: 25\n",
      "parsing 2022-11-14\n",
      "20221114\n",
      "add to dict: 2022-11-14\n",
      "success!\n",
      "parsing 2022-11-13\n",
      "Weekend!\n",
      "parsing 2022-11-12\n",
      "Weekend!\n",
      "parsing 2022-11-11\n",
      "20221111\n",
      "add to dict: 2022-11-11\n",
      "success!\n",
      "parsing 2022-11-10\n",
      "20221110\n",
      "add to dict: 2022-11-10\n",
      "success!\n",
      "parsing 2022-11-09\n",
      "20221109\n",
      "add to dict: 2022-11-09\n",
      "success!\n",
      "parsing 2022-11-08\n",
      "20221108\n",
      "add to dict: 2022-11-08\n",
      "success!\n",
      "parsing 2022-11-07\n",
      "20221107\n",
      "add to dict: 2022-11-07\n",
      "success!\n",
      "parsing 2022-11-06\n",
      "Weekend!\n",
      "parsing 2022-11-05\n",
      "Weekend!\n",
      "parsing 2022-11-04\n",
      "20221104\n",
      "add to dict: 2022-11-04\n",
      "success!\n",
      "parsing 2022-11-03\n",
      "20221103\n",
      "add to dict: 2022-11-03\n",
      "success!\n",
      "parsing 2022-11-02\n",
      "20221102\n",
      "add to dict: 2022-11-02\n",
      "success!\n",
      "parsing 2022-11-01\n",
      "20221101\n",
      "add to dict: 2022-11-01\n",
      "success!\n",
      "parsing 2022-10-31\n",
      "20221031\n",
      "add to dict: 2022-10-31\n",
      "success!\n",
      "parsing 2022-10-30\n",
      "Weekend!\n",
      "parsing 2022-10-29\n",
      "Weekend!\n",
      "parsing 2022-10-28\n",
      "20221028\n",
      "add to dict: 2022-10-28\n",
      "success!\n",
      "parsing 2022-10-27\n",
      "20221027\n",
      "add to dict: 2022-10-27\n",
      "success!\n",
      "parsing 2022-10-26\n",
      "20221026\n",
      "add to dict: 2022-10-26\n",
      "success!\n",
      "parsing 2022-10-25\n",
      "20221025\n",
      "add to dict: 2022-10-25\n",
      "success!\n",
      "parsing 2022-10-24\n",
      "20221024\n",
      "add to dict: 2022-10-24\n",
      "success!\n",
      "parsing 2022-10-23\n",
      "Weekend!\n",
      "parsing 2022-10-22\n",
      "Weekend!\n",
      "parsing 2022-10-21\n",
      "20221021\n",
      "add to dict: 2022-10-21\n",
      "success!\n",
      "parsing 2022-10-20\n",
      "20221020\n",
      "success!\n",
      "parsing 2022-10-19\n",
      "20221019\n",
      "success!\n",
      "parsing 2022-10-18\n",
      "20221018\n",
      "success!\n",
      "parsing 2022-10-17\n",
      "20221017\n",
      "success!\n",
      "parsing 2022-10-16\n",
      "Weekend!\n",
      "parsing 2022-10-15\n",
      "Weekend!\n",
      "parsing 2022-10-14\n",
      "20221014\n",
      "success!\n",
      "parsing 2022-10-13\n",
      "20221013\n",
      "success!\n",
      "parsing 2022-10-12\n",
      "20221012\n",
      "success!\n",
      "parsing 2022-10-11\n",
      "20221011\n",
      "success!\n",
      "新增後: 275\n"
     ]
    }
   ],
   "source": [
    "import datetime\n",
    "import time\n",
    "import requests\n",
    "from io import StringIO\n",
    "import pandas as pd\n",
    "import numpy as np\n",
    "\n",
    "def crawl_price(date):\n",
    "    r = requests.post('http://www.twse.com.tw/exchangeReport/MI_INDEX?response=csv&date=' + str(date).split(' ')[0].replace('-','') + '&type=ALL')\n",
    "    print(str(date).split(' ')[0].replace('-',''))\n",
    "    ret = pd.read_csv(StringIO(\"\\n\".join([i.translate({ord(c): None for c in ' '}) \n",
    "                                        for i in r.text.split('\\n') \n",
    "                                        if len(i.split('\",')) == 17 and i[0] != '='])), header=0)\n",
    "    ret = ret.set_index('證券代號')\n",
    "    ret['成交金額'] = ret['成交金額'].str.replace(',','')\n",
    "    ret['成交股數'] = ret['成交股數'].str.replace(',','')\n",
    "    return ret\n",
    "\n",
    "\n",
    "data_stock = {}\n",
    "date_today = d_today\n",
    "n_days = (d_today - latest_date_file).days\n",
    "fail_count = 0\n",
    "allow_continuous_fail_count = 5\n",
    "print('須補天數:', n_days)\n",
    "while len(data_stock) < n_days:\n",
    "    print('parsing', date_today)\n",
    "    # 使用 crawPrice 爬資料\n",
    "    try:\n",
    "        # 抓資料\n",
    "        if date_today.weekday()  in [5,6]:\n",
    "            print('Weekend!')\n",
    "            date_today -= datetime.timedelta(days=1)\n",
    "            continue\n",
    "        data_stock[date_today] = crawl_price(date_today)\n",
    "        if not str(date_today) in dic_stock.keys():\n",
    "            dic_stock[str(date_today)] = data_stock[date_today].to_dict()\n",
    "            print(\"add to dict:\", str(date_today))\n",
    "        print('success!')\n",
    "        fail_count = 0\n",
    "    except:\n",
    "        # 假日爬不到\n",
    "        print('fail! check the date is holiday')\n",
    "        fail_count += 1\n",
    "        if fail_count == allow_continuous_fail_count:\n",
    "            raise\n",
    "        break\n",
    "    \n",
    "    # 減一天\n",
    "    date_today -= datetime.timedelta(days=1)\n",
    "    time.sleep(10)\n",
    "\n",
    "print('新增後:', len(dic_stock))\n",
    "with open(file_name, 'w') as f:\n",
    "    json.dump(dic_stock, f)"
   ]
  },
  {
   "cell_type": "code",
   "execution_count": 26,
   "metadata": {},
   "outputs": [],
   "source": [
    "def plot_daily_weekly_K(lst_stock_id, dic_stock):\n",
    "    df_close = pd.DataFrame({k:d['收盤價'] for k,d in dic_stock.items()}).transpose()\n",
    "    df_close.index = pd.to_datetime(df_close.index)\n",
    "\n",
    "    df_open = pd.DataFrame({k:d['開盤價'] for k,d in dic_stock.items()}).transpose()\n",
    "    df_open.index = pd.to_datetime(df_open.index)\n",
    "\n",
    "    df_high = pd.DataFrame({k:d['最高價'] for k,d in dic_stock.items()}).transpose()\n",
    "    df_high.index = pd.to_datetime(df_high.index)\n",
    "\n",
    "    df_low = pd.DataFrame({k:d['最低價'] for k,d in dic_stock.items()}).transpose()\n",
    "    df_low.index = pd.to_datetime(df_low.index)\n",
    "\n",
    "    df_volume = pd.DataFrame({k:d['成交股數'] for k,d in dic_stock.items()}).transpose()\n",
    "    df_volume.index = pd.to_datetime(df_volume.index)\n",
    "    \n",
    "    # =========================== 畫K線圖 =================================================\n",
    "    for stock_id in lst_stock_id:\n",
    "        thisyear = '2021'\n",
    "        print(stock_id)\n",
    "        if not stock_id in df_close.keys():\n",
    "            print(stock_id, '查無資料')\n",
    "            continue\n",
    "    #     stock_id = '2603'\n",
    "        dic_a_stock = {\n",
    "            'close':df_close[stock_id][thisyear].dropna().apply(lambda x:x.replace(',','')).astype(float),\n",
    "            'open':df_open[stock_id][thisyear].dropna().apply(lambda x:x.replace(',','')).astype(float),\n",
    "            'high':df_high[stock_id][thisyear].dropna().apply(lambda x:x.replace(',','')).astype(float),\n",
    "            'low':df_low[stock_id][thisyear].dropna().apply(lambda x:x.replace(',','')).astype(float),\n",
    "            'volume': df_volume[stock_id][thisyear].dropna().apply(lambda x:x.replace(',','')).astype(float),\n",
    "        }\n",
    "\n",
    "        # Daily DataFrame\n",
    "        df_stock = pd.DataFrame(dic_a_stock)\n",
    "        df_stock.insert(0,'stock_id', stock_id)\n",
    "        df_stock.sort_index(inplace=True)\n",
    "\n",
    "        fig_daily = plot_K_chart(df_stock, 'daily')\n",
    "\n",
    "        # Weekly DataFrame\n",
    "        period_type = '1W'\n",
    "        df_week = df_stock.resample(period_type).last()\n",
    "        df_week['close'] = df_stock['close'].resample(period_type).last()\n",
    "        df_week['open'] = df_stock['open'].resample(period_type).first()\n",
    "        df_week['high'] = df_stock['high'].resample(period_type).max()\n",
    "        df_week['low'] = df_stock['low'].resample(period_type).min()\n",
    "        df_week['volume'] = df_stock['volume'].resample(period_type).sum()\n",
    "\n",
    "        fig_weekly = plot_K_chart(df_week, 'weekly')"
   ]
  },
  {
   "cell_type": "code",
   "execution_count": 27,
   "metadata": {},
   "outputs": [
    {
     "name": "stdout",
     "output_type": "stream",
     "text": [
      "今日新增 && 在量價前30名 []\n"
     ]
    }
   ],
   "source": [
    "print('今日新增 && 在量價前30名', list(set(lst_add_ori)& set(lst_amt)) )"
   ]
  },
  {
   "cell_type": "code",
   "execution_count": 28,
   "metadata": {},
   "outputs": [
    {
     "name": "stdout",
     "output_type": "stream",
     "text": [
      "今日觀察： 10 筆\n",
      "1308\n"
     ]
    },
    {
     "ename": "ModuleNotFoundError",
     "evalue": "No module named 'talib'",
     "output_type": "error",
     "traceback": [
      "\u001b[1;31m---------------------------------------------------------------------------\u001b[0m",
      "\u001b[1;31mModuleNotFoundError\u001b[0m                       Traceback (most recent call last)",
      "Cell \u001b[1;32mIn [28], line 2\u001b[0m\n\u001b[0;32m      1\u001b[0m \u001b[38;5;28mprint\u001b[39m(\u001b[38;5;124m'\u001b[39m\u001b[38;5;124m今日觀察：\u001b[39m\u001b[38;5;124m'\u001b[39m, \u001b[38;5;28mlen\u001b[39m(lst_add_ori), \u001b[38;5;124m'\u001b[39m\u001b[38;5;124m筆\u001b[39m\u001b[38;5;124m'\u001b[39m)\n\u001b[1;32m----> 2\u001b[0m \u001b[43mplot_daily_weekly_K\u001b[49m\u001b[43m(\u001b[49m\u001b[43mlst_add_ori\u001b[49m\u001b[43m,\u001b[49m\u001b[43m \u001b[49m\u001b[43mdic_stock\u001b[49m\u001b[43m)\u001b[49m\n",
      "Cell \u001b[1;32mIn [26], line 38\u001b[0m, in \u001b[0;36mplot_daily_weekly_K\u001b[1;34m(lst_stock_id, dic_stock)\u001b[0m\n\u001b[0;32m     35\u001b[0m df_stock\u001b[38;5;241m.\u001b[39minsert(\u001b[38;5;241m0\u001b[39m,\u001b[38;5;124m'\u001b[39m\u001b[38;5;124mstock_id\u001b[39m\u001b[38;5;124m'\u001b[39m, stock_id)\n\u001b[0;32m     36\u001b[0m df_stock\u001b[38;5;241m.\u001b[39msort_index(inplace\u001b[38;5;241m=\u001b[39m\u001b[38;5;28;01mTrue\u001b[39;00m)\n\u001b[1;32m---> 38\u001b[0m fig_daily \u001b[38;5;241m=\u001b[39m \u001b[43mplot_K_chart\u001b[49m\u001b[43m(\u001b[49m\u001b[43mdf_stock\u001b[49m\u001b[43m,\u001b[49m\u001b[43m \u001b[49m\u001b[38;5;124;43m'\u001b[39;49m\u001b[38;5;124;43mdaily\u001b[39;49m\u001b[38;5;124;43m'\u001b[39;49m\u001b[43m)\u001b[49m\n\u001b[0;32m     40\u001b[0m \u001b[38;5;66;03m# Weekly DataFrame\u001b[39;00m\n\u001b[0;32m     41\u001b[0m period_type \u001b[38;5;241m=\u001b[39m \u001b[38;5;124m'\u001b[39m\u001b[38;5;124m1W\u001b[39m\u001b[38;5;124m'\u001b[39m\n",
      "File \u001b[1;32mD:\\Gitlab\\stock\\code\\stock_plot.py:11\u001b[0m, in \u001b[0;36mplot_K_chart\u001b[1;34m(df_stock, img_name)\u001b[0m\n\u001b[0;32m     10\u001b[0m \u001b[38;5;28;01mdef\u001b[39;00m \u001b[38;5;21mplot_K_chart\u001b[39m(df_stock, img_name):\n\u001b[1;32m---> 11\u001b[0m     \u001b[38;5;28;01mimport\u001b[39;00m \u001b[38;5;21;01mtalib\u001b[39;00m\n\u001b[0;32m     12\u001b[0m     img_name \u001b[38;5;241m=\u001b[39m df_stock\u001b[38;5;241m.\u001b[39miloc[\u001b[38;5;241m0\u001b[39m,\u001b[38;5;241m0\u001b[39m] \u001b[38;5;241m+\u001b[39m img_name\n\u001b[0;32m     13\u001b[0m     \u001b[38;5;66;03m# mplfinance內建的漲/跌標記顏色是美國的版本(綠漲紅跌)，先用mplfinance中自訂圖表外觀功能mpf.make_marketcolors()將漲/跌顏色改為台灣版本(紅漲綠跌)，\u001b[39;00m\n\u001b[0;32m     14\u001b[0m     \u001b[38;5;66;03m# 接著再將這個設定以mpf.make_mpf_style()功能保存為自訂的外觀。\u001b[39;00m\n",
      "\u001b[1;31mModuleNotFoundError\u001b[0m: No module named 'talib'"
     ]
    }
   ],
   "source": [
    "print('今日觀察：', len(lst_add_ori), '筆')\n",
    "plot_daily_weekly_K(lst_add_ori, dic_stock)"
   ]
  },
  {
   "cell_type": "code",
   "execution_count": null,
   "metadata": {},
   "outputs": [],
   "source": [
    "print('量價前30名：', len(lst_amt),'筆\\n', lst_amt)\n",
    "lst_amt_without_add = [i for i in lst_amt if i not in lst_add_ori]\n",
    "plot_daily_weekly_K(lst_amt_without_add, dic_stock)"
   ]
  },
  {
   "cell_type": "code",
   "execution_count": null,
   "metadata": {},
   "outputs": [],
   "source": [
    "# df_yesterday = df_yesterday[df_yesterday.index.isin(df_add.index)]\n",
    "# df_yesterday['rise%'] = round((df_yesterday['close'] - df_yesterday['open'])/df_yesterday['close']*100, 2) # 漲跌%\n",
    "# df_yesterday['K%'] = round( (df_yesterday['close'] - df_yesterday['open'])/df_yesterday['open']*100, 2 )    # K棒%\n",
    "# df_yesterday['check']=0\n",
    "# df_yesterday.insert(1, 'date', s_yesterday_md)\n",
    "# df_yesterday.reset_index(inplace=True)\n",
    "# df_yesterday"
   ]
  },
  {
   "cell_type": "code",
   "execution_count": null,
   "metadata": {},
   "outputs": [],
   "source": [
    "# df_ori = df_today.loc[lst_track,:]\n",
    "# df_ori['rise%'] = round((df_ori['close'] - df_ori['open'])/df_ori['close']*100, 2) # 漲跌%\n",
    "# df_ori['K%'] = round( (df_ori['close'] - df_ori['open'])/df_ori['open']*100, 2 )    # K棒%\n",
    "\n",
    "# df_today = pd.concat([df_ori, df_add])\n",
    "# print('ori track:',lst_track, ', add：', df_add.index)\n",
    "# df_today.head(2)"
   ]
  },
  {
   "cell_type": "code",
   "execution_count": null,
   "metadata": {},
   "outputs": [],
   "source": [
    "# def get_stoploss(stock_id):\n",
    "#     series = df_today.loc[stock_id,:]\n",
    "#     # stock_id = series['id']\n",
    "#     if  series['K%'] > 6:\n",
    "#         stop_point = round(series['open'] + (series['close'] - series['open'])/2, 1)\n",
    "#     elif series['K%'] > 2:\n",
    "#         stop_point = series['open']\n",
    "#     elif stock_id in df_track['id'].unique(): # stock_id存在於原本追蹤清單中\n",
    "#         stop_point = df_track[df_track['id']==stock_id]['stoploss'].iloc[0]\n",
    "#     else:\n",
    "#         stop_point = series['open'] # stock_id不存在於原本追蹤清單中\n",
    "#     return stop_point\n",
    "\n",
    "# def cal_mean_51018(stock_id):\n",
    "#     time.sleep(0.8)\n",
    "#     data_yf = yf.Ticker(stock_id+'.TW')\n",
    "#     df = data_yf.history(period=\"1mo\")\n",
    "#     df.sort_index(ascending=False, inplace=True)\n",
    "    \n",
    "#     price_5 = round(np.mean(df['Close'][:5]),2)\n",
    "#     price_10 = round(np.mean(df['Close'][:10]),2)\n",
    "#     price_20 = round(np.mean(df['Close'][:20]),2)\n",
    "    \n",
    "#     prev_5 = round(np.mean(df['Close'][1:6]),2)\n",
    "#     prev_10 = round(np.mean(df['Close'][1:11]),2)\n",
    "#     prev_20 = round(np.mean(df['Close'][1:21]),2)\n",
    "    \n",
    "#     slope_5 = round((price_5 - prev_5)*100/price_5, 2)\n",
    "#     slope_10 = round((price_10 - prev_10)*100/price_10, 2)\n",
    "#     slope_20 = round((price_20 - prev_20)*100/price_20, 2) # 除上當日均價 標準化\n",
    "    \n",
    "#     k, d = cal_KD(stock_id, df, df_track, df_today)\n",
    "#     return pd.Series([price_5, price_10, price_20, slope_5, slope_10, slope_20, k, d])\n",
    "\n",
    "# def get_start_date(stock_id):\n",
    "#     df_ori = df_track[df_track['id']==stock_id]\n",
    "#     if df_ori.empty:  \n",
    "#         return d_today.strftime(\"%m/%d\")\n",
    "#     else:\n",
    "#         return df_ori['start'].iloc[0]"
   ]
  },
  {
   "cell_type": "code",
   "execution_count": null,
   "metadata": {},
   "outputs": [],
   "source": [
    "# # 停損點、上影線、下影線\n",
    "# df_today.insert(1, 'date', s_today_md)\n",
    "# df_today['stoploss'] = df_today.index.to_series().apply(get_stoploss)\n",
    "# df_today[ ['up_bar', 'low_bar'] ] = df_today.apply(lambda x: cal_bar(x.open, x.high, x.low, x.close), axis=1)\n",
    "\n",
    "# # 5, 10 ,20日均線，K,D值\n",
    "# df_today[ ['close5', 'close10', 'close20', 'slope5','slope10', 'slope20', 'Kvalue', 'Dvalue'] ]  = \\\n",
    "#         df_today.index.to_series().apply(cal_mean_51018) # 太長了\n",
    "\n",
    "# df_today.head(2)"
   ]
  },
  {
   "cell_type": "code",
   "execution_count": null,
   "metadata": {
    "scrolled": true
   },
   "outputs": [],
   "source": [
    "# df = pd.concat([df_today, df_investor, df_ratio], axis=1, join=\"inner\")\n",
    "# df.reset_index(inplace=True)\n",
    "\n",
    "# df_all = pd.concat([df, df_yesterday])\n",
    "\n",
    "# df_all['start'] = df_all['id'].apply(get_start_date)\n",
    "# df_all.head(2)"
   ]
  },
  {
   "cell_type": "code",
   "execution_count": null,
   "metadata": {},
   "outputs": [],
   "source": [
    "# df_new = pd.concat([df_track, df_all])\n",
    "# df_new.sort_values(['id', 'date'], ascending=[True, False], inplace=True)\n",
    "# df_new.head()"
   ]
  },
  {
   "cell_type": "code",
   "execution_count": null,
   "metadata": {},
   "outputs": [],
   "source": [
    "# set_excel_color_daily(df_new, file_track)"
   ]
  },
  {
   "cell_type": "code",
   "execution_count": null,
   "metadata": {},
   "outputs": [],
   "source": [
    "# # 目前持有股票\n",
    "# file_asset = root + 'asset.xlsx'\n",
    "# shutil.copy2(file_asset, file_asset.replace('.xlsx', '_backup.xlsx')) # complete target filename given\n",
    "\n",
    "# txt = root + 'asset.txt'\n",
    "# with open(txt, 'r', encoding='utf8') as f:\n",
    "#     dic = json.loads(f.read())\n",
    "# lst_asset = list(dic.keys())\n",
    "# print(lst_asset)\n",
    "\n",
    "# df_asset = df_new[df_new['id'].isin(lst_asset)]\n",
    "# set_excel_color_daily(df_asset, file_asset)\n",
    "# df_asset"
   ]
  },
  {
   "cell_type": "markdown",
   "metadata": {},
   "source": [
    "# 投信買超"
   ]
  },
  {
   "cell_type": "code",
   "execution_count": null,
   "metadata": {},
   "outputs": [],
   "source": [
    "# # 投信買超 上櫃公司\n",
    "# df_otc_add = df_otc_trust.copy()\n",
    "# df_otc_add = check_10days_otc(df_otc_add)\n",
    "# df_otc_add.insert(0, 'date', s_today_md)\n",
    "# df_otc_add.reset_index(inplace=True)\n",
    "\n",
    "# path_otc = path_trust + 'otc.xlsx'\n",
    "# shutil.copy2(path_otc, path_otc.replace('.xlsx', '_backup.xlsx'))\n",
    "# df_otc_add.to_excel(path_otc, index=False)\n",
    "# df_otc_add"
   ]
  },
  {
   "cell_type": "code",
   "execution_count": null,
   "metadata": {},
   "outputs": [],
   "source": [
    "# # 當日投信買超 上市、上櫃公司\n",
    "# url_trust = 'https://www.twse.com.tw/fund/TWT44U?response=html&date={}'.format(s_today)\n",
    "# tables = pd.read_html(url_trust)\n",
    "# df_trust = tables[0]\n",
    "# df_trust = df_trust.iloc[:,[1,5]]\n",
    "# df_trust.columns = ['stock_id', '買賣超']\n",
    "# df_trust = df_trust.astype({'stock_id':str, '買賣超':int})\n",
    "# df_trust.iloc[:,-1] = df_trust.iloc[:,-1].apply(lambda x: round(x/1000,0))\n",
    "# df_trust = df_trust[df_trust['買賣超']>20]\n",
    "# df_trust.set_index('stock_id', inplace=True)\n",
    "# df_trust.head(2)"
   ]
  },
  {
   "cell_type": "code",
   "execution_count": null,
   "metadata": {},
   "outputs": [],
   "source": [
    "# # 投信持股比例\n",
    "# path_trust = 'D:/Mia/Stock/trust/'\n",
    "# path_html = path_trust + 'StockList.html'\n",
    "# tables = pd.read_html(path_html)\n",
    "# df_trust_today = tables[0]\n",
    "# df_trust_today.columns = df_trust_today.iloc[0,:]\n",
    "# df_trust_today = df_trust_today.iloc[1:,:]\n",
    "# df_trust_today.dropna(inplace=True)\n",
    "# df_trust_today['今年買賣超佔發行張數'] = df_trust_today['今年買賣超佔發行張數'].apply(convert_num)\n",
    "# df_trust_today['一個月買賣超佔發行張數'] = df_trust_today['一個月買賣超佔發行張數'].apply(convert_num)\n",
    "# df_trust_today['三個月買賣超佔發行張數'] = df_trust_today['三個月買賣超佔發行張數'].apply(convert_num)\n",
    "# df_trust_today = df_trust_today[(df_trust_today['今年買賣超佔發行張數']>2) & \\\n",
    "#                                 (df_trust_today['三個月買賣超佔發行張數']>0) & (df_trust_today['一個月買賣超佔發行張數']>0)]\n",
    "# lst_trust_today = [str(i) for i in list(df_trust_today['代號'])]\n",
    "# print(lst_trust_today)\n",
    "\n",
    "# # 存檔\n",
    "# path_trust_list = path_trust + 'trust.xlsx'\n",
    "# shutil.copy2(path_trust_list, path_trust_list.replace('.xlsx', '_backup.xlsx'))\n",
    "\n",
    "# df_trust_list = pd.read_excel(path_trust_list, engine='openpyxl')\n",
    "# print('old：', df_trust_list.shape)\n",
    "# print('new：', df_trust_today.shape)\n",
    "# df_trust_new = pd.concat([df_trust_list,df_trust_today]).drop_duplicates().reset_index(drop=True)\n",
    "# print('concat：', df_trust_new.shape)\n",
    "# df_trust_new.sort_values(['代號', '更新日期'], ascending=[True, False])\n",
    "# df_trust_new.to_excel(path_trust_list, index=False)\n",
    "# df_trust_new.head(1)"
   ]
  },
  {
   "cell_type": "code",
   "execution_count": null,
   "metadata": {},
   "outputs": [],
   "source": [
    "# lst_trust_add = [i for i in lst_trust_today if i in df_today.index]\n",
    "# print('投信買超：', len(lst_trust_today), lst_trust_today)\n",
    "# print('上市公司：', len(lst_trust_add), lst_trust_add)\n",
    "\n",
    "# df_trusk_add = df_today.loc[lst_trust_add,:]\n",
    "# df_trusk_add.sort_index(inplace=True)\n",
    "\n",
    "# # df_trusk_add['rise%'] = round((df_trusk_add['close'] - df_yesterday['close'])/df_yesterday['close']*100, 2)  # 漲跌%\n",
    "# df_trusk_add['K%'] = round( (df_trusk_add['close'] - df_trusk_add['open'])/df_trusk_add['open']*100, 2 )    # K棒%\n",
    "# df_trusk_add = df_trusk_add[df_trusk_add['K%']>1] # df_trusk_add['rise%']>1.5) & \n",
    "# df_trusk_add = check_10days(df_trusk_add)\n",
    "# df_trusk_add"
   ]
  },
  {
   "cell_type": "code",
   "execution_count": null,
   "metadata": {},
   "outputs": [],
   "source": [
    "# df_fund = pd.read_excel(root + 'trust/fund_list.xlsx', engine='openpyxl')\n",
    "# lst_fund = list(df_fund['基金編號'])\n",
    "# print(lst_fund)\n",
    "\n",
    "# path_fund_holding = path_trust+'holding.xlsx'\n",
    "# shutil.copy2(path_fund_holding, path_fund_holding.replace('.xlsx', '_backup.xlsx'))\n",
    "# df_holding_ori = pd.read_excel(path_trust+'fund_holding.xlsx', engine='openpyxl')\n",
    "# for fund_id in lst_fund:\n",
    "# #     fund_id = 'AC0053'\n",
    "#     url = 'https://finet.landbank.com.tw/w/wr/wr04.djhtm?a={}'.format(fund_id)\n",
    "#     tables = pd.read_html(url)\n",
    "#     df_holding = tables[1]\n",
    "\n",
    "#     col_idx = df_holding[df_holding[0]=='股票名稱'].index[0] # 取得col name index\n",
    "#     df_holding.columns = df_holding.iloc[col_idx,:]\n",
    "#     df_holding = df_holding.iloc[col_idx+1:-1,:]\n",
    "\n",
    "#     df_1 = df_holding.iloc[:,:4]\n",
    "#     df_2 = df_holding.iloc[:, 4:]\n",
    "#     df_holding = pd.concat([df_1, df_2], ignore_index=True)\n",
    "#     df_holding.dropna(inplace=True)\n",
    "#     df_holding['增減'] = df_holding['增減'].apply(lambda x : x.replace('%', ''))\n",
    "#     df_holding = df_holding.astype({'比例':float, '增減':float})\n",
    "# #     df_holding = df_holding[df_holding['增減']>0.08]\n",
    "#     df_holding.insert(0, 'date', s_today_md)\n",
    "#     df_holding.insert(0, 'stock_id', fund_id)\n",
    "#     df_holding_ori = df_holding_ori.append(df_holding)\n",
    "#     time.sleep(0.3)\n",
    "\n",
    "# # df_holding_new = pd.concat([df_holding_ori,df_holding])\n",
    "# df_holding_ori.to_excel(path_trust+'fund_holding.xlsx', index=False)\n"
   ]
  },
  {
   "cell_type": "code",
   "execution_count": null,
   "metadata": {},
   "outputs": [],
   "source": [
    "# for idx, row in df_holding_ori.iterrows():\n",
    "#     df_holding_ori.at[idx, 'count'] = df_count.loc[row['股票名稱'], 'count']\n",
    "# df_holding_ori.to_excel(path_trust+'fund_holding.xlsx', index=False)\n",
    "# df_holding_ori.head(2)"
   ]
  },
  {
   "cell_type": "code",
   "execution_count": null,
   "metadata": {},
   "outputs": [],
   "source": [
    "\n",
    "# df_trust_5days = pd.read_excel(path_trust + 'trust_5days.xlsx', engine='openpyxl')\n",
    "# df_trust_5days = df_trust_5days[df_trust_5days['今年買賣超佔發行張數']>2]\n",
    "# df_trust_5days = df_trust_5days[df_trust_5days['三個月買賣超佔發行張數']>0]\n",
    "# df_trust_5days = df_trust_5days[df_trust_5days['一個月買賣超佔發行張數']>0]\n",
    "\n",
    "# df_fund_holding = pd.read_excel(path_trust + 'fund_holding.xlsx', engine='openpyxl')\n",
    "# lst_fund_holding = list(df_fund_holding['股票名稱'].unique())\n",
    "# print(lst_fund_holding[:5])\n",
    "\n",
    "# df_trust_5days = df_trust_5days[df_trust_5days['名稱'].isin(lst_fund_holding)]\n",
    "# df_trust_5days = df_trust_5days.iloc[:,1:]\n",
    "# df_trust_5days.to_excel(path_trust + 'trust_check.xlsx', index=False)\n",
    "# print(list(df_trust_5days['代號']))\n",
    "# df_trust_5days"
   ]
  },
  {
   "cell_type": "markdown",
   "metadata": {},
   "source": [
    "# 盤中檢查"
   ]
  },
  {
   "cell_type": "code",
   "execution_count": null,
   "metadata": {},
   "outputs": [],
   "source": [
    "# # c: 代號\n",
    "# # o: 開盤價\n",
    "# # z: 當盤成交價，有時候會沒有\n",
    "# # v: 成交量\n",
    "# # y: 昨日收盤\n",
    "# import requests\n",
    "# url = \"https://mis.twse.com.tw/stock/api/getStockInfo.jsp?ex_ch=tse_2330.tw|tse_3008.tw\"\n",
    "# res = requests.get(url)\n",
    "# res.json()['msgArray']\n",
    "\n",
    "# df = pd.DataFrame(res.json()['msgArray'])\n",
    "# df = df[['c','o', 'z', 'v', 'y']]\n",
    "# df.columns = ['stock_id', 'open', 'price', 'volume', 'yesterday']\n",
    "# df[df.columns[1:]] = df[df.columns[1:]].astype(float)\n",
    "# # df = df[df['price']>df['yesterday']] # 今天漲\n",
    "# df['rise%'] = round((df['price'] - df['yesterday'])/df['yesterday']*100, 2)\n",
    "# df = df[df['rise%']>2] # 漲幅>2%\n",
    "# df"
   ]
  },
  {
   "cell_type": "code",
   "execution_count": null,
   "metadata": {},
   "outputs": [],
   "source": [
    "# data = yf.Ticker('2603'+'.TW')\n",
    "# df_hist = data.history(period=\"1mo\")\n",
    "# df_hist.sort_index(ascending=False, inplace=True)\n",
    "# df_hist.head(2)"
   ]
  },
  {
   "cell_type": "code",
   "execution_count": null,
   "metadata": {},
   "outputs": [],
   "source": [
    "# import io\n",
    "# io_buf = io.BytesIO()\n",
    "# a.savefig(io_buf, format='raw')\n",
    "# io_buf.seek(0)\n",
    "# img_a = np.reshape(np.frombuffer(io_buf.getvalue(), dtype=np.uint8),\n",
    "#                      newshape=(int(a.bbox.bounds[3]), int(a.bbox.bounds[2]), -1))\n",
    "\n",
    "# b.savefig(io_buf, format='raw')\n",
    "# io_buf.seek(0)\n",
    "# img_b = np.reshape(np.frombuffer(io_buf.getvalue(), dtype=np.uint8),\n",
    "#                      newshape=(int(b.bbox.bounds[3]), int(b.bbox.bounds[2]), -1))\n",
    "# io_buf.close()"
   ]
  },
  {
   "cell_type": "code",
   "execution_count": null,
   "metadata": {},
   "outputs": [],
   "source": [
    "# # img_a = np.fromstring(a.canvas.tostring_rgb(), dtype=np.uint8, sep='')\n",
    "# # print(a.canvas.get_width_height()[0] * a.canvas.get_width_height()[-1] * 3)\n",
    "# # print(img_a.shape)\n",
    "# # img_a = img_a.reshape(a.canvas.get_width_height()[::-1] + (3,))\n",
    "\n",
    "# figures = {'a':img_a, 'b':img_b}\n",
    "# nrows, ncols = 2, 1\n",
    "# fig, axeslist = plt.subplots(ncols=ncols, nrows=nrows)\n",
    "# for ind,title in enumerate(figures):\n",
    "#     print(ind, title)\n",
    "#     axeslist.ravel()[ind].imshow(figures[title])\n",
    "# #     axeslist.ravel()[ind].set_title(title)\n",
    "# #     axeslist.ravel()[ind].set_axis_off()\n",
    "# plt.tight_layout() # optional\n",
    "# # ValueError: cannot reshape array of size 3378075 into shape (576,1728,3)"
   ]
  },
  {
   "cell_type": "code",
   "execution_count": null,
   "metadata": {},
   "outputs": [],
   "source": [
    "# df_week = pd.DataFrame(columns=df_stock.columns)\n",
    "# df_week"
   ]
  },
  {
   "cell_type": "code",
   "execution_count": null,
   "metadata": {},
   "outputs": [],
   "source": [
    "# from talib import abstract\n",
    "\n",
    "# def talib2df(talib_output):\n",
    "#     if type(talib_output) == list:\n",
    "#         ret = pd.DataFrame(talib_output).transpose()\n",
    "#     else:\n",
    "#         ret = pd.Series(talib_output)\n",
    "#     ret.index = tsmc['close'].index\n",
    "#     return ret;\n",
    "\n",
    "# talib2df(abstract.STOCH(tsmc)).plot()\n",
    "# tsmc['close'].plot(secondary_y=True)"
   ]
  },
  {
   "cell_type": "code",
   "execution_count": null,
   "metadata": {},
   "outputs": [],
   "source": []
  },
  {
   "cell_type": "code",
   "execution_count": null,
   "metadata": {},
   "outputs": [],
   "source": [
    "# import matplotlib.pyplot as plt\n",
    "# import mplfinance as mpf\n",
    "# %matplotlib inline\n",
    "# import seaborn as sns\n",
    "\n",
    "# # mplfinance內建的漲/跌標記顏色是美國的版本(綠漲紅跌)，先用mplfinance中自訂圖表外觀功能mpf.make_marketcolors()將漲/跌顏色改為台灣版本(紅漲綠跌)，\n",
    "# # 接著再將這個設定以mpf.make_mpf_style()功能保存為自訂的外觀。\n",
    "# mc = mpf.make_marketcolors(up='r', down='g', inherit=True)\n",
    "# s  = mpf.make_mpf_style(base_mpf_style='yahoo', marketcolors=mc)\n",
    "\n",
    "# # df_stock.index = df_stock.index.format(formatter=lambda x: x.strftime('%Y-%m-%d')) \n",
    "# df_stock.index.name = 'Date'\n",
    "# fig = plt.figure(figsize=(24, 8))\n",
    "\n",
    "# # add_axes( x初始座標, y初始座標, 寬, 高 )\n",
    "# ax1 = fig.add_axes([0, 0.3, 1, 0.5])\n",
    "# ax2 = fig.add_axes([0, 0, 1, 0.3])\n",
    "# # ax1 = fig.add_subplot(1, 1, 1)\n",
    "# # ax2 = fig.add_subplot(2, 1, 2, sharex=ax1)\n",
    "# ax2.set_xticks(range(0, len(df_stock.index), 5))\n",
    "# ax2.set_xticklabels(df_stock.index[::5])\n",
    "# # mpf.candlestick2_ochl(ax, df_stock['open'], df_stock['close'], df_stock['high'],\n",
    "# #                       df_stock['low'], width=0.6, colorup='r', colordown='g', alpha=0.75); \n",
    "\n",
    "# mpf.plot(df_stock, type = 'candle', mav=(10,30), ax=ax1, style=s, volume=ax2) # 必須指定volume一個軸\n",
    "\n"
   ]
  },
  {
   "cell_type": "markdown",
   "metadata": {},
   "source": [
    "# 月報\n",
    "\n",
    "#### 彙總報表 (單位：千元)\n",
    "https://mops.twse.com.tw/mops/web/t21sc04_ifrs"
   ]
  },
  {
   "cell_type": "code",
   "execution_count": null,
   "metadata": {},
   "outputs": [],
   "source": []
  }
 ],
 "metadata": {
  "kernelspec": {
   "display_name": "stock_pipenv",
   "language": "python",
   "name": "stock_pipenv"
  },
  "language_info": {
   "codemirror_mode": {
    "name": "ipython",
    "version": 3
   },
   "file_extension": ".py",
   "mimetype": "text/x-python",
   "name": "python",
   "nbconvert_exporter": "python",
   "pygments_lexer": "ipython3",
   "version": "3.8.10"
  }
 },
 "nbformat": 4,
 "nbformat_minor": 4
}
