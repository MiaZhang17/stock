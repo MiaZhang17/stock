{
 "cells": [
  {
   "cell_type": "code",
   "execution_count": 1,
   "metadata": {},
   "outputs": [],
   "source": [
    "from excellib import set_excel_color_daily\n",
    "from stocklib import get_stock_price, get_OTC_price, get_otc, get_investor, get_ratio\n",
    "from stocklib import cal_bar, cal_KD, check_10days, check_10days_otc, get_trust_today\n",
    "from stocklib import convert_num\n",
    "from stock_plot import plot_K_chart\n",
    "\n",
    "\n",
    "from finance import get_yearly, get_df_monthly, get_df_monthly_check, get_df_quarterly\n",
    "from finance import get_this_quarter, get_quarter_income, get_quarter_finance, set_growth_eps\n",
    "from finance import get_df_quarterly_all, get_df_yearly_all"
   ]
  },
  {
   "cell_type": "code",
   "execution_count": 2,
   "metadata": {},
   "outputs": [],
   "source": [
    "import requests\n",
    "import shutil\n",
    "import time\n",
    "from datetime import date, timedelta, datetime\n",
    "from dateutil.relativedelta import relativedelta\n",
    "from bs4 import BeautifulSoup\n",
    "from fake_useragent import UserAgent\n",
    "import pandas as pd\n",
    "import numpy as np\n",
    "import yfinance as yf\n",
    "import json\n",
    "import matplotlib.pyplot as plt\n",
    "import mplfinance as mpf\n",
    "import seaborn as sns\n",
    "%matplotlib inline\n",
    "\n",
    "ua = UserAgent()\n",
    "root = '../'\n",
    "path_trust = root + 'trust/'\n",
    "path_check = root + 'daily_check/'"
   ]
  },
  {
   "cell_type": "markdown",
   "metadata": {},
   "source": [
    "## 三大法人"
   ]
  },
  {
   "cell_type": "code",
   "execution_count": 3,
   "metadata": {
    "scrolled": true
   },
   "outputs": [
    {
     "name": "stdout",
     "output_type": "stream",
     "text": [
      "追蹤股票數： 33 ['6116', '3051', '2439', '6698', '6191', '9910', '00633L', '8163', '9802', '3596', '2390', '00655L', '2353', '8104', '3059', '2323', '1612', '3413', '4906', '3050', '5234', '8112', '9921', '2376', '2457', '6414', '2338', '2485', '5608', '00636', '8454', '6443', '3011']\n"
     ]
    }
   ],
   "source": [
    "file_track = root + 'investors_track_2.xlsx'\n",
    "shutil.copy2(file_track, file_track.replace('.xlsx', '_backup.xlsx')) # complete target filename given\n",
    "\n",
    "df_track = pd.read_excel(file_track, index_col=None, engine='openpyxl')\n",
    "df_track['id'] = df_track['id'].astype(str)\n",
    "\n",
    "lst_track_tmp = list(set(df_track['id']))\n",
    "lst_track = lst_track_tmp\n",
    "print('追蹤股票數：', len(lst_track), lst_track)"
   ]
  },
  {
   "cell_type": "code",
   "execution_count": 4,
   "metadata": {},
   "outputs": [
    {
     "name": "stdout",
     "output_type": "stream",
     "text": [
      "今天: 2022-04-01\n"
     ]
    }
   ],
   "source": [
    "d_today = date.today() #- timedelta(days=1)\n",
    "\n",
    "today_tw = d_today - relativedelta(years=1911)\n",
    "this_year = d_today.year\n",
    "this_quarter = get_this_quarter()\n",
    "n = 1\n",
    "if d_today.weekday() == 0:\n",
    "    n = 3\n",
    "d_yesterday = d_today - timedelta(days=n)\n",
    "s_yesterday = (d_today - timedelta(days=n)).strftime(\"%Y%m%d\")\n",
    "s_today_md = (d_today).strftime(\"%m/%d\")\n",
    "s_yesterday_md = (d_today - timedelta(days=n)).strftime(\"%m/%d\")\n",
    "s_today = d_today.strftime(\"%Y%m%d\")\n",
    "\n",
    "s_today_tw = today_tw.strftime(\"%Y/%m/%d\").lstrip('0')\n",
    "s_thismonth_tw = today_tw.strftime(\"%Y/%m\").lstrip('0')\n",
    "print('今天:', d_today)\n",
    "# 台灣證券交易所"
   ]
  },
  {
   "cell_type": "code",
   "execution_count": 5,
   "metadata": {},
   "outputs": [
    {
     "name": "stdout",
     "output_type": "stream",
     "text": [
      "取得今日上市股票資訊: 20220401\n"
     ]
    },
    {
     "data": {
      "text/html": [
       "<div>\n",
       "<style scoped>\n",
       "    .dataframe tbody tr th:only-of-type {\n",
       "        vertical-align: middle;\n",
       "    }\n",
       "\n",
       "    .dataframe tbody tr th {\n",
       "        vertical-align: top;\n",
       "    }\n",
       "\n",
       "    .dataframe thead th {\n",
       "        text-align: right;\n",
       "    }\n",
       "</style>\n",
       "<table border=\"1\" class=\"dataframe\">\n",
       "  <thead>\n",
       "    <tr style=\"text-align: right;\">\n",
       "      <th></th>\n",
       "      <th>name</th>\n",
       "      <th>amount</th>\n",
       "      <th>open</th>\n",
       "      <th>high</th>\n",
       "      <th>low</th>\n",
       "      <th>close</th>\n",
       "    </tr>\n",
       "    <tr>\n",
       "      <th>id</th>\n",
       "      <th></th>\n",
       "      <th></th>\n",
       "      <th></th>\n",
       "      <th></th>\n",
       "      <th></th>\n",
       "      <th></th>\n",
       "    </tr>\n",
       "  </thead>\n",
       "  <tbody>\n",
       "    <tr>\n",
       "      <th>0050</th>\n",
       "      <td>元大台灣50</td>\n",
       "      <td>8220</td>\n",
       "      <td>136.6</td>\n",
       "      <td>136.95</td>\n",
       "      <td>136.15</td>\n",
       "      <td>136.95</td>\n",
       "    </tr>\n",
       "    <tr>\n",
       "      <th>0051</th>\n",
       "      <td>元大中型100</td>\n",
       "      <td>19</td>\n",
       "      <td>59.8</td>\n",
       "      <td>60.15</td>\n",
       "      <td>59.50</td>\n",
       "      <td>60.15</td>\n",
       "    </tr>\n",
       "  </tbody>\n",
       "</table>\n",
       "</div>"
      ],
      "text/plain": [
       "         name  amount   open    high     low   close\n",
       "id                                                  \n",
       "0050   元大台灣50    8220  136.6  136.95  136.15  136.95\n",
       "0051  元大中型100      19   59.8   60.15   59.50   60.15"
      ]
     },
     "execution_count": 5,
     "metadata": {},
     "output_type": "execute_result"
    }
   ],
   "source": [
    "df_today = get_stock_price(d_today)\n",
    "df_today.head(2)"
   ]
  },
  {
   "cell_type": "markdown",
   "metadata": {},
   "source": [
    "# 取得交易價量前30名"
   ]
  },
  {
   "cell_type": "code",
   "execution_count": 6,
   "metadata": {},
   "outputs": [
    {
     "name": "stdout",
     "output_type": "stream",
     "text": [
      "today: ['2330', '2454', '2603', '3035', '2609', '1708', '4919', '3037', '2303', '2618', '2610', '3532', '2888', '3189', '2344', '1732', '2368', '1314', '2317', '00637L', '2615', '2891', '2481', '2881', '1795', '4755', '2382', '2002', '2379', '2338']\n",
      "yesterday: ['2330', '2454', '3035', '1708', '4919', '2603', '3037', '2481', '2609', '2610', '1513', '2618', '3532', '1795', '2303', '2615', '3017', '2883', '2317', '1732', '4755', '6415', '3661', '2409', '1609', '8046', '2345', '2891', '2351', '3189', '']\n",
      "new: ['2888', '2344', '2368', '1314', '00637L', '2881', '2382', '2002', '2379', '2338']\n"
     ]
    },
    {
     "data": {
      "text/html": [
       "<div>\n",
       "<style scoped>\n",
       "    .dataframe tbody tr th:only-of-type {\n",
       "        vertical-align: middle;\n",
       "    }\n",
       "\n",
       "    .dataframe tbody tr th {\n",
       "        vertical-align: top;\n",
       "    }\n",
       "\n",
       "    .dataframe thead th {\n",
       "        text-align: right;\n",
       "    }\n",
       "</style>\n",
       "<table border=\"1\" class=\"dataframe\">\n",
       "  <thead>\n",
       "    <tr style=\"text-align: right;\">\n",
       "      <th></th>\n",
       "      <th>id</th>\n",
       "      <th>name</th>\n",
       "      <th>amount</th>\n",
       "      <th>open</th>\n",
       "      <th>high</th>\n",
       "      <th>low</th>\n",
       "      <th>close</th>\n",
       "      <th>value_amt</th>\n",
       "    </tr>\n",
       "  </thead>\n",
       "  <tbody>\n",
       "    <tr>\n",
       "      <th>12</th>\n",
       "      <td>2888</td>\n",
       "      <td>新光金</td>\n",
       "      <td>278320</td>\n",
       "      <td>10.85</td>\n",
       "      <td>11.40</td>\n",
       "      <td>10.80</td>\n",
       "      <td>11.25</td>\n",
       "      <td>31.0</td>\n",
       "    </tr>\n",
       "    <tr>\n",
       "      <th>14</th>\n",
       "      <td>2344</td>\n",
       "      <td>華邦電</td>\n",
       "      <td>88332</td>\n",
       "      <td>30.85</td>\n",
       "      <td>30.85</td>\n",
       "      <td>29.85</td>\n",
       "      <td>30.05</td>\n",
       "      <td>26.0</td>\n",
       "    </tr>\n",
       "    <tr>\n",
       "      <th>16</th>\n",
       "      <td>2368</td>\n",
       "      <td>金像電</td>\n",
       "      <td>28601</td>\n",
       "      <td>84.10</td>\n",
       "      <td>91.10</td>\n",
       "      <td>84.00</td>\n",
       "      <td>88.10</td>\n",
       "      <td>25.0</td>\n",
       "    </tr>\n",
       "    <tr>\n",
       "      <th>17</th>\n",
       "      <td>1314</td>\n",
       "      <td>中石化</td>\n",
       "      <td>188952</td>\n",
       "      <td>12.10</td>\n",
       "      <td>13.35</td>\n",
       "      <td>12.05</td>\n",
       "      <td>13.35</td>\n",
       "      <td>25.0</td>\n",
       "    </tr>\n",
       "    <tr>\n",
       "      <th>19</th>\n",
       "      <td>00637L</td>\n",
       "      <td>元大滬深300正2</td>\n",
       "      <td>120615</td>\n",
       "      <td>16.36</td>\n",
       "      <td>17.34</td>\n",
       "      <td>16.31</td>\n",
       "      <td>17.18</td>\n",
       "      <td>20.0</td>\n",
       "    </tr>\n",
       "    <tr>\n",
       "      <th>23</th>\n",
       "      <td>2881</td>\n",
       "      <td>富邦金</td>\n",
       "      <td>21135</td>\n",
       "      <td>76.00</td>\n",
       "      <td>77.10</td>\n",
       "      <td>75.80</td>\n",
       "      <td>77.10</td>\n",
       "      <td>16.0</td>\n",
       "    </tr>\n",
       "    <tr>\n",
       "      <th>26</th>\n",
       "      <td>2382</td>\n",
       "      <td>廣達</td>\n",
       "      <td>17886</td>\n",
       "      <td>87.20</td>\n",
       "      <td>87.30</td>\n",
       "      <td>86.20</td>\n",
       "      <td>86.50</td>\n",
       "      <td>15.0</td>\n",
       "    </tr>\n",
       "    <tr>\n",
       "      <th>27</th>\n",
       "      <td>2002</td>\n",
       "      <td>中鋼</td>\n",
       "      <td>36343</td>\n",
       "      <td>38.70</td>\n",
       "      <td>39.20</td>\n",
       "      <td>38.50</td>\n",
       "      <td>39.20</td>\n",
       "      <td>14.0</td>\n",
       "    </tr>\n",
       "    <tr>\n",
       "      <th>28</th>\n",
       "      <td>2379</td>\n",
       "      <td>瑞昱</td>\n",
       "      <td>3563</td>\n",
       "      <td>424.00</td>\n",
       "      <td>424.00</td>\n",
       "      <td>415.00</td>\n",
       "      <td>417.00</td>\n",
       "      <td>14.0</td>\n",
       "    </tr>\n",
       "    <tr>\n",
       "      <th>29</th>\n",
       "      <td>2338</td>\n",
       "      <td>光罩</td>\n",
       "      <td>14931</td>\n",
       "      <td>97.50</td>\n",
       "      <td>99.50</td>\n",
       "      <td>96.30</td>\n",
       "      <td>97.00</td>\n",
       "      <td>14.0</td>\n",
       "    </tr>\n",
       "  </tbody>\n",
       "</table>\n",
       "</div>"
      ],
      "text/plain": [
       "        id       name  amount    open    high     low   close  value_amt\n",
       "12    2888        新光金  278320   10.85   11.40   10.80   11.25       31.0\n",
       "14    2344        華邦電   88332   30.85   30.85   29.85   30.05       26.0\n",
       "16    2368        金像電   28601   84.10   91.10   84.00   88.10       25.0\n",
       "17    1314        中石化  188952   12.10   13.35   12.05   13.35       25.0\n",
       "19  00637L  元大滬深300正2  120615   16.36   17.34   16.31   17.18       20.0\n",
       "23    2881        富邦金   21135   76.00   77.10   75.80   77.10       16.0\n",
       "26    2382         廣達   17886   87.20   87.30   86.20   86.50       15.0\n",
       "27    2002         中鋼   36343   38.70   39.20   38.50   39.20       14.0\n",
       "28    2379         瑞昱    3563  424.00  424.00  415.00  417.00       14.0\n",
       "29    2338         光罩   14931   97.50   99.50   96.30   97.00       14.0"
      ]
     },
     "execution_count": 6,
     "metadata": {},
     "output_type": "execute_result"
    }
   ],
   "source": [
    "df_amt = df_today.copy()\n",
    "df_amt['value_amt'] = df_amt['amount'] * df_amt['close'] # 成交量 * 收盤價(億)\n",
    "df_amt['value_amt'] //= 100000\n",
    "df_amt.sort_values('value_amt', ascending=False, inplace=True)\n",
    "lst_amt = list(df_amt.head(30).index)\n",
    "print('today:', lst_amt)\n",
    "\n",
    "path_amt30 = './amt30.txt'\n",
    "with open(path_amt30, 'r') as f:\n",
    "    lst_amt30_yesterday = f.read().split('\\n')\n",
    "print('yesterday:', lst_amt30_yesterday)\n",
    "\n",
    "with open(path_amt30, 'w') as f:\n",
    "    for stock_id in lst_amt:\n",
    "        f.write(stock_id + \"\\n\")\n",
    "lst_amt30_new = [i for i in lst_amt if i not in lst_amt30_yesterday]\n",
    "print('new:', lst_amt30_new)\n",
    "df_amt = df_amt.head(30)\n",
    "df_amt_new = df_amt.reset_index()\n",
    "df_amt_new[df_amt_new['id'].isin(lst_amt30_new)]"
   ]
  },
  {
   "cell_type": "code",
   "execution_count": null,
   "metadata": {},
   "outputs": [],
   "source": []
  },
  {
   "cell_type": "code",
   "execution_count": 7,
   "metadata": {},
   "outputs": [
    {
     "name": "stdout",
     "output_type": "stream",
     "text": [
      "取得今日上市股票資訊: 20220331\n"
     ]
    },
    {
     "data": {
      "text/html": [
       "<div>\n",
       "<style scoped>\n",
       "    .dataframe tbody tr th:only-of-type {\n",
       "        vertical-align: middle;\n",
       "    }\n",
       "\n",
       "    .dataframe tbody tr th {\n",
       "        vertical-align: top;\n",
       "    }\n",
       "\n",
       "    .dataframe thead th {\n",
       "        text-align: right;\n",
       "    }\n",
       "</style>\n",
       "<table border=\"1\" class=\"dataframe\">\n",
       "  <thead>\n",
       "    <tr style=\"text-align: right;\">\n",
       "      <th></th>\n",
       "      <th>name</th>\n",
       "      <th>amount</th>\n",
       "      <th>open</th>\n",
       "      <th>high</th>\n",
       "      <th>low</th>\n",
       "      <th>close</th>\n",
       "    </tr>\n",
       "    <tr>\n",
       "      <th>id</th>\n",
       "      <th></th>\n",
       "      <th></th>\n",
       "      <th></th>\n",
       "      <th></th>\n",
       "      <th></th>\n",
       "      <th></th>\n",
       "    </tr>\n",
       "  </thead>\n",
       "  <tbody>\n",
       "    <tr>\n",
       "      <th>0050</th>\n",
       "      <td>元大台灣50</td>\n",
       "      <td>12975</td>\n",
       "      <td>136.60</td>\n",
       "      <td>136.6</td>\n",
       "      <td>135.50</td>\n",
       "      <td>136.1</td>\n",
       "    </tr>\n",
       "    <tr>\n",
       "      <th>0051</th>\n",
       "      <td>元大中型100</td>\n",
       "      <td>70</td>\n",
       "      <td>59.55</td>\n",
       "      <td>59.6</td>\n",
       "      <td>59.25</td>\n",
       "      <td>59.4</td>\n",
       "    </tr>\n",
       "  </tbody>\n",
       "</table>\n",
       "</div>"
      ],
      "text/plain": [
       "         name  amount    open   high     low  close\n",
       "id                                                 \n",
       "0050   元大台灣50   12975  136.60  136.6  135.50  136.1\n",
       "0051  元大中型100      70   59.55   59.6   59.25   59.4"
      ]
     },
     "execution_count": 7,
     "metadata": {},
     "output_type": "execute_result"
    }
   ],
   "source": [
    "df_yesterday = get_stock_price(d_yesterday)\n",
    "df_yesterday.head(2)"
   ]
  },
  {
   "cell_type": "code",
   "execution_count": 8,
   "metadata": {},
   "outputs": [
    {
     "name": "stdout",
     "output_type": "stream",
     "text": [
      "外資, 投信同步買超筆數： 13044\n"
     ]
    },
    {
     "data": {
      "text/html": [
       "<div>\n",
       "<style scoped>\n",
       "    .dataframe tbody tr th:only-of-type {\n",
       "        vertical-align: middle;\n",
       "    }\n",
       "\n",
       "    .dataframe tbody tr th {\n",
       "        vertical-align: top;\n",
       "    }\n",
       "\n",
       "    .dataframe thead th {\n",
       "        text-align: right;\n",
       "    }\n",
       "</style>\n",
       "<table border=\"1\" class=\"dataframe\">\n",
       "  <thead>\n",
       "    <tr style=\"text-align: right;\">\n",
       "      <th></th>\n",
       "      <th>investor</th>\n",
       "      <th>trust</th>\n",
       "      <th>dealer_T</th>\n",
       "      <th>dealer_F</th>\n",
       "    </tr>\n",
       "    <tr>\n",
       "      <th>id</th>\n",
       "      <th></th>\n",
       "      <th></th>\n",
       "      <th></th>\n",
       "      <th></th>\n",
       "    </tr>\n",
       "  </thead>\n",
       "  <tbody>\n",
       "    <tr>\n",
       "      <th>00637L</th>\n",
       "      <td>2884</td>\n",
       "      <td>0</td>\n",
       "      <td>0</td>\n",
       "      <td>38127</td>\n",
       "    </tr>\n",
       "    <tr>\n",
       "      <th>00673R</th>\n",
       "      <td>2810</td>\n",
       "      <td>0</td>\n",
       "      <td>0</td>\n",
       "      <td>16005</td>\n",
       "    </tr>\n",
       "  </tbody>\n",
       "</table>\n",
       "</div>"
      ],
      "text/plain": [
       "        investor  trust  dealer_T  dealer_F\n",
       "id                                         \n",
       "00637L      2884      0         0     38127\n",
       "00673R      2810      0         0     16005"
      ]
     },
     "execution_count": 8,
     "metadata": {},
     "output_type": "execute_result"
    }
   ],
   "source": [
    "df_investor = get_investor(d_today)\n",
    "df_investor.head(2)"
   ]
  },
  {
   "cell_type": "code",
   "execution_count": 9,
   "metadata": {},
   "outputs": [
    {
     "name": "stdout",
     "output_type": "stream",
     "text": [
      "141\n",
      "['2542', '6116', '3044', '2890', '3443', '2345', '5434', '4770', '8215', '8081', '2884', '5880', '2498', '2449', '6770', '6477', '5388', '3037', '3653', '6531', '2353', '00673R', '2308', '9958', '9914', '6669', '1609', '8150', '6239', '2618', '3014', '2609', '2886', '2368', '2883', '2451', '2915', '2615', '2354', '6269', '6443', '2360', '2356', '8341', '3711', '6719', '3023', '4961', '6213', '3189', '2347', '5269', '1229', '1795', '2891', '9802', '3645', '2834', '3034', '1101', '3702', '8016', '4968', '2515', '2454', '00893', '4576', '2330', '2492', '2401', '1440', '2610', '6505', '2441', '3706', '1301', '2912', '2014', '1708', '2207', '8046', '1476', '2371', '6202', '3481', '2603', '00701', '2887', '3045', '2888', '9910', '6251', '00633L', '2352', '2317', '2481', '2458', '2303', '3533', '2312', '1303', '4958', '2357', '3714', '00637L', '2881', '1722', '2395', '2211', '6176', '4938', '9939', '4919', '6271', '3596', '8996', '2015', '2351', '2801', '3231', '1326', '6415', '2637', '2382', '4906', '2377', '3661', '4904', '2031', '3036', '3042', '2059', '6491', '2002', '6670', '5876', '2338', '2324', '2108', '2880', '1217']\n"
     ]
    }
   ],
   "source": [
    "lst_investor1 = list(df_investor[  (df_investor['trust']>0)].index) # (df_investor['investor']>=0) &\n",
    "lst_investor2 = list(df_investor[ (df_investor['investor']>1000) & (df_investor['trust']==0)].index)\n",
    "lst_investor = set(lst_investor1 + lst_investor2)\n",
    "print(len(lst_investor))\n",
    "print(list(lst_investor))"
   ]
  },
  {
   "cell_type": "code",
   "execution_count": 10,
   "metadata": {},
   "outputs": [],
   "source": [
    "# df_otc_trust = get_otc(d_today)\n",
    "# df_otc_trust.set_index('代號', inplace=True)\n",
    "# df_otc_trust['check'] = ''\n",
    "# df_otc_trust.head(2)"
   ]
  },
  {
   "cell_type": "code",
   "execution_count": 11,
   "metadata": {},
   "outputs": [],
   "source": [
    "# df_ratio = get_ratio(d_today) # 殖利率、本益比、股價淨值比\n",
    "# df_ratio_today = df_ratio.copy()\n",
    "# df_ratio_today = df_ratio_today[df_ratio_today['PER']!='-']\n",
    "# df_ratio_today['PER'] = df_ratio_today['PER'].astype(float)\n",
    "# # 殖利率 > 5%、本益比PER<10、股價淨值比 PBR <1\n",
    "# df_ratio_today = df_ratio_today[(df_ratio_today['dividend%']>5) & (df_ratio_today['PER']<10) & (df_ratio_today['PBR']<1)]\n",
    "# df_ratio_today.head(2)"
   ]
  },
  {
   "cell_type": "code",
   "execution_count": 12,
   "metadata": {},
   "outputs": [],
   "source": [
    "# df_cheap_today = df_today[df_today.index.isin(df_ratio_today.index)]\n",
    "\n",
    "# df_cheap = pd.concat([df_cheap_today, df_ratio_today], axis=1, join=\"inner\")\n",
    "# df_cheap = df_cheap[df_cheap['amount']>2000]\n",
    "# df_cheap.reset_index(inplace=True)\n",
    "# df_cheap['start'] = s_yesterday_md#today.strftime(\"%m/%d\")\n",
    "\n",
    "# file_cheap = root + 'cheap.xlsx'\n",
    "# shutil.copy2(file_cheap, file_cheap.replace('.xlsx', '_backup.xlsx')) # complete target filename given\n",
    "# df_cheap_old = pd.read_excel(file_cheap, index_col=None, engine='openpyxl')\n",
    "# df_cheap_old['id'] = df_cheap_old['id'].astype(str)\n",
    "\n",
    "# df_cheap_new = pd.concat([df_cheap_old, df_cheap])\n",
    "# df_cheap_new.sort_values('dividend%', ascending=False)\n",
    "\n",
    "# set_excel_color_daily(df_cheap_new, file_cheap)"
   ]
  },
  {
   "cell_type": "code",
   "execution_count": 13,
   "metadata": {},
   "outputs": [
    {
     "name": "stdout",
     "output_type": "stream",
     "text": [
      "00633L 交易量沒突破2倍, 沒突破次數： 9\n",
      "00637L 交易量沒突破2倍, 沒突破次數： 9\n",
      "1217 ,收盤價無突破10天盤整： 11.8 小於 11.8\n",
      "1303 ,收盤價無突破10天盤整： 93.5 小於 93.8\n",
      "1476 交易量沒突破2倍, 沒突破次數： 9\n",
      "1609 ,收盤價無突破10天盤整： 29.0 小於 30.0\n",
      "1708 ,前7日無盤整, 盤整天數： 3\n",
      "1722 ,收盤價無突破10天盤整： 73.7 小於 80.5\n",
      "2014 ,收盤價無突破10天盤整： 46.5 小於 49.2\n",
      "2015 ,收盤價無突破10天盤整： 97.0 小於 99.0\n",
      "2031 交易量沒突破2倍, 沒突破次數： 9\n",
      "2211 ,收盤價無突破10天盤整： 62.1 小於 62.6\n",
      "2308 ,收盤價無突破10天盤整： 268.5 小於 270.0\n",
      "2345 ,前7日無盤整, 盤整天數： 6\n",
      "2368 ,收盤價無突破10天盤整： 88.1 小於 88.5\n",
      "2371 ,收盤價無突破10天盤整： 36.2 小於 37.0\n",
      "2395 ,收盤價無突破10天盤整： 374.5 小於 377.5\n",
      "2498 ,收盤價無突破10天盤整： 60.0 小於 62.2\n",
      "2515 交易量沒突破2倍, 沒突破次數： 9\n",
      "2834 ,收盤價無突破10天盤整： 12.9 小於 13.1\n",
      "2880 ,收盤價無突破10天盤整： 24.4 小於 24.5\n",
      "2881 交易量沒突破2倍, 沒突破次數： 9\n",
      "2888 ,收盤價： 11.25 10日內最高價： 10.95\n",
      "2890 ,收盤價無突破10天盤整： 18.7 小於 18.7\n",
      "2891 交易量沒突破2倍, 沒突破次數： 9\n",
      "2915 ,收盤價無突破10天盤整： 116.5 小於 119.5\n",
      "3014 ,收盤價無突破10天盤整： 112.5 小於 116.5\n",
      "3189 ,收盤價無突破10天盤整： 202.5 小於 209.0\n",
      "3443 ,收盤價無突破10天盤整： 508.0 小於 536.0\n",
      "3533 ,收盤價無突破10天盤整： 714.0 小於 724.0\n",
      "3645 ,前7日無盤整, 盤整天數： 5\n",
      "3653 ,收盤價無突破10天盤整： 419.0 小於 419.5\n",
      "3661 ,前7日無盤整, 盤整天數： 6\n",
      "4770 交易量沒突破2倍, 沒突破次數： 9\n",
      "4906 交易量沒突破2倍, 沒突破次數： 9\n",
      "4968 ,收盤價無突破10天盤整： 193.0 小於 193.5\n",
      "5388 ,收盤價無突破10天盤整： 81.1 小於 81.9\n",
      "5876 ,收盤價無突破10天盤整： 50.0 小於 50.5\n",
      "6251 ,收盤價無突破10天盤整： 25.0 小於 25.4\n",
      "8046 ,收盤價無突破10天盤整： 526.0 小於 544.0\n",
      "9802 交易量沒突破2倍, 沒突破次數： 9\n",
      "9914 ,前7日無盤整, 盤整天數： 6\n",
      "9958 ,前7日無盤整, 盤整天數： 6\n",
      "今日新增: 1 筆\n",
      " ['2888']\n"
     ]
    },
    {
     "data": {
      "text/html": [
       "<div>\n",
       "<style scoped>\n",
       "    .dataframe tbody tr th:only-of-type {\n",
       "        vertical-align: middle;\n",
       "    }\n",
       "\n",
       "    .dataframe tbody tr th {\n",
       "        vertical-align: top;\n",
       "    }\n",
       "\n",
       "    .dataframe thead th {\n",
       "        text-align: right;\n",
       "    }\n",
       "</style>\n",
       "<table border=\"1\" class=\"dataframe\">\n",
       "  <thead>\n",
       "    <tr style=\"text-align: right;\">\n",
       "      <th></th>\n",
       "      <th>name</th>\n",
       "      <th>amount</th>\n",
       "      <th>open</th>\n",
       "      <th>high</th>\n",
       "      <th>low</th>\n",
       "      <th>close</th>\n",
       "      <th>rise%</th>\n",
       "      <th>K%</th>\n",
       "      <th>check</th>\n",
       "    </tr>\n",
       "    <tr>\n",
       "      <th>id</th>\n",
       "      <th></th>\n",
       "      <th></th>\n",
       "      <th></th>\n",
       "      <th></th>\n",
       "      <th></th>\n",
       "      <th></th>\n",
       "      <th></th>\n",
       "      <th></th>\n",
       "      <th></th>\n",
       "    </tr>\n",
       "  </thead>\n",
       "  <tbody>\n",
       "    <tr>\n",
       "      <th>2888</th>\n",
       "      <td>新光金</td>\n",
       "      <td>278320</td>\n",
       "      <td>10.85</td>\n",
       "      <td>11.4</td>\n",
       "      <td>10.8</td>\n",
       "      <td>11.25</td>\n",
       "      <td>6.13</td>\n",
       "      <td>3.69</td>\n",
       "      <td>9.0</td>\n",
       "    </tr>\n",
       "  </tbody>\n",
       "</table>\n",
       "</div>"
      ],
      "text/plain": [
       "     name  amount   open  high   low  close  rise%    K%  check\n",
       "id                                                             \n",
       "2888  新光金  278320  10.85  11.4  10.8  11.25   6.13  3.69    9.0"
      ]
     },
     "execution_count": 13,
     "metadata": {},
     "output_type": "execute_result"
    }
   ],
   "source": [
    "## 今日符合篩選條件，新增至追蹤\n",
    "# 漲幅 > 1.5%，K棒 > 1%\n",
    "df_add = df_today.loc[lst_investor,:]\n",
    "df_add.sort_index(inplace=True)\n",
    "\n",
    "df_add['rise%'] = round((df_add['close'] - df_yesterday['close'])/df_yesterday['close']*100, 2)  # 漲跌%\n",
    "df_add['K%'] = round( (df_add['close'] - df_add['open'])/df_add['open']*100, 2 )    # K棒%\n",
    "df_add = df_add[ (df_add['rise%']>1.5) & (df_add['K%']>1) ]\n",
    "df_add = check_10days(df_add)\n",
    "lst_add_ori = list(df_add.index)\n",
    "print('今日新增:',len(lst_add_ori),'筆\\n', lst_add_ori)\n",
    "\n",
    "lst_add = [i for i in df_add.index if i not in list(lst_track)] # 排除掉已經在track裡的股票\n",
    "df_add = df_add.loc[lst_add,:]\n",
    "df_add"
   ]
  },
  {
   "cell_type": "code",
   "execution_count": 14,
   "metadata": {},
   "outputs": [
    {
     "name": "stdout",
     "output_type": "stream",
     "text": [
      "量價前30名: ['2330', '2454', '2603', '3035', '2609', '1708', '4919', '3037', '2303', '2618', '2610', '3532', '2888', '3189', '2344', '1732', '2368', '1314', '2317', '00637L', '2615', '2891', '2481', '2881', '1795', '4755', '2382', '2002', '2379', '2338']\n",
      "2330 ,收盤價無突破10天盤整： 589.0 小於 602.0\n",
      "2454 ,前7日無盤整, 盤整天數： 3\n",
      "2603 ,收盤價無突破10天盤整： 138.5 小於 145.5\n",
      "3035 ,前7日無盤整, 盤整天數： 6\n",
      "2609 ,收盤價無突破10天盤整： 126.5 小於 132.5\n",
      "1708 ,前7日無盤整, 盤整天數： 3\n",
      "4919 ,前7日無盤整, 盤整天數： 3\n",
      "3037 ,收盤價無突破10天盤整： 243.5 小於 252.0\n",
      "2303 ,收盤價無突破10天盤整： 52.9 小於 54.5\n",
      "2618 ,收盤價無突破10天盤整： 33.0 小於 34.0\n",
      "2610 ,收盤價無突破10天盤整： 27.2 小於 28.9\n",
      "3532 ,前7日無盤整, 盤整天數： 4\n",
      "2888 ,收盤價： 11.25 10日內最高價： 10.95\n",
      "3189 ,收盤價無突破10天盤整： 202.5 小於 209.0\n",
      "2344 ,前7日無盤整, 盤整天數： 6\n",
      "1732 ,前7日無盤整, 盤整天數： 1\n",
      "2368 ,收盤價無突破10天盤整： 88.1 小於 88.5\n",
      "1314 ,收盤價： 13.35 10日內最高價： 12.4\n",
      "2317 ,收盤價無突破10天盤整： 104.5 小於 108.0\n",
      "00637L 交易量沒突破2倍, 沒突破次數： 9\n",
      "2615 ,收盤價無突破10天盤整： 160.0 小於 167.5\n",
      "2891 交易量沒突破2倍, 沒突破次數： 9\n",
      "2481 ,收盤價無突破10天盤整： 100.5 小於 108.5\n",
      "2881 交易量沒突破2倍, 沒突破次數： 9\n",
      "1795 ,前7日無盤整, 盤整天數： 3\n",
      "4755 ,收盤價無突破10天盤整： 192.5 小於 217.5\n",
      "2382 ,收盤價無突破10天盤整： 86.5 小於 92.7\n",
      "2002 ,收盤價無突破10天盤整： 39.2 小於 40.2\n",
      "2379 ,前7日無盤整, 盤整天數： 6\n",
      "2338 ,收盤價無突破10天盤整： 97.0 小於 98.3\n",
      "量價前30名，10日盤整: 2 筆 ['2888', '1314']\n"
     ]
    }
   ],
   "source": [
    "print('量價前30名:', lst_amt)\n",
    "df_amt = check_10days(df_amt)\n",
    "lst_amt = list(df_amt.index)\n",
    "print('量價前30名，10日盤整:',len(lst_amt),'筆', lst_amt)"
   ]
  },
  {
   "cell_type": "markdown",
   "metadata": {},
   "source": [
    "# 預測EPS"
   ]
  },
  {
   "cell_type": "code",
   "execution_count": 15,
   "metadata": {},
   "outputs": [],
   "source": [
    "def get_EPS(lst_stock_id, filename):\n",
    "    df_yearly_all = get_df_yearly_all() # 寫入歷年EPS、本益比，估算今年股價min, max範圍\n",
    "    df_quarterly_all = get_df_quarterly_all()\n",
    "    df_estimate = pd.DataFrame(columns = list(df_quarterly_all.columns)+['普通股數'])\n",
    "\n",
    "    # 取得公司發行股數\n",
    "    path_company_stock_num = root + 'company_list.xlsx'\n",
    "    df_company_stock_num = pd.read_excel(path_company_stock_num, engine='openpyxl', dtype={'stock_id':str})\n",
    "    df_company_stock_num.set_index('stock_id', inplace=True)\n",
    "    \n",
    "    lst_eps = []\n",
    "    for i in range(len(lst_stock_id)):\n",
    "        stock_id = lst_stock_id[i]\n",
    "        t_wait = np.random.randint(5,15)\n",
    "        print(stock_id, ', wait ', t_wait)\n",
    "        df = get_df_quarterly(stock_id)\n",
    "\n",
    "        if df is None:\n",
    "            print('df is None')\n",
    "            continue\n",
    "        if df.loc[df.index[0], '毛利率(%)'] < 20:\n",
    "            print(stock_id, '：毛利率', df.loc[df.index[0], '毛利率(%)'], '< 20%，跳過')\n",
    "            continue\n",
    "        elif df.loc[df.index[0], '營益率(%)'] < 8:\n",
    "            print(stock_id, '：營益率' , df.loc[df.index[0], '營益率(%)'] , ' < 8%，跳過')\n",
    "            continue\n",
    "\n",
    "        lst_eps.append(stock_id)\n",
    "        # 計算歷年同季的營收成長率、EPS\n",
    "        df = set_growth_eps(df, df_today, stock_id)\n",
    "\n",
    "        # 將年度EPS寫到歷年excel裡\n",
    "        lst_year = set(df.index.to_series().apply(lambda x:x[:4]))\n",
    "        min_year = int(min(lst_year)) # 若最小年是2018 ，只能確定2019都有資料\n",
    "        lst_year = [y for y in lst_year if int(y) > min_year]\n",
    "        lst_EPS = [{'year':y, 'eps': df.loc[str(y)+'Q1', 'EPS(Y)']} for y in lst_year]\n",
    "\n",
    "        df.reset_index(inplace=True)\n",
    "        df = df.rename(columns={'index':'quarter'}) # reset_index後column名稱是index\n",
    "\n",
    "        stock_name = \"\"\n",
    "        if stock_id in df_today.index:\n",
    "            stock_name = df_today.loc[stock_id, 'name']\n",
    "            df_yearly = get_yearly(stock_id, lst_EPS, df['quarter'][0][:4], stock_name)    \n",
    "            df_yearly_all = df_yearly_all.append(df_yearly, ignore_index=True)\n",
    "\n",
    "        df.insert(0, 'name', value=stock_name)\n",
    "        df.insert(0, 'stock_id', value=stock_id)\n",
    "\n",
    "        df_quarterly_all = df_quarterly_all.append(df, ignore_index=True)\n",
    "        time.sleep(t_wait)\n",
    "\n",
    "        # ===============================\n",
    "        # 預測EPS ( check_EPS )\n",
    "        # ===============================\n",
    "        df_new_quarter = get_quarter_finance(stock_id, df, this_year, this_quarter, df_company_stock_num, df_today)\n",
    "        df_concat = pd.concat([df, df_new_quarter])\n",
    "        df_concat.sort_values('quarter', ascending=False, inplace=True)\n",
    "        df_estimate = df_estimate.append(df_concat)\n",
    "\n",
    "    #預測EPS ( check_EPS )\n",
    "    df_estimate.to_excel(path_check+'estimate_{}_{}.xlsx'.format(filename, s_today), index=False)\n",
    "    return lst_eps"
   ]
  },
  {
   "cell_type": "code",
   "execution_count": 16,
   "metadata": {},
   "outputs": [
    {
     "name": "stdout",
     "output_type": "stream",
     "text": [
      "今日觀察： 1 筆\n",
      "2888 , wait  13\n"
     ]
    },
    {
     "name": "stderr",
     "output_type": "stream",
     "text": [
      "c:\\users\\mia\\appdata\\local\\programs\\python\\python37\\lib\\site-packages\\openpyxl\\styles\\stylesheet.py:221: UserWarning: Workbook contains no default style, apply openpyxl's default\n",
      "  warn(\"Workbook contains no default style, apply openpyxl's default\")\n"
     ]
    },
    {
     "name": "stdout",
     "output_type": "stream",
     "text": [
      "2888  wait  7\n",
      "EPS檢查 1 筆\n",
      " ['2888']\n"
     ]
    }
   ],
   "source": [
    "print('今日觀察：', len(lst_add_ori), '筆')\n",
    "lst_add_ori = get_EPS(lst_add_ori, 'add')\n",
    "print('EPS檢查', len(lst_add_ori), '筆\\n', lst_add_ori)"
   ]
  },
  {
   "cell_type": "code",
   "execution_count": 17,
   "metadata": {},
   "outputs": [
    {
     "name": "stdout",
     "output_type": "stream",
     "text": [
      "量價前30名： ['2888', '1314']\n",
      "2888 , wait  5\n"
     ]
    },
    {
     "name": "stderr",
     "output_type": "stream",
     "text": [
      "c:\\users\\mia\\appdata\\local\\programs\\python\\python37\\lib\\site-packages\\openpyxl\\styles\\stylesheet.py:221: UserWarning: Workbook contains no default style, apply openpyxl's default\n",
      "  warn(\"Workbook contains no default style, apply openpyxl's default\")\n"
     ]
    },
    {
     "name": "stdout",
     "output_type": "stream",
     "text": [
      "2888  wait  9\n",
      "1314 , wait  7\n",
      "1314 ：毛利率 10.9 < 20%，跳過\n",
      "EPS檢查： 1 筆\n",
      " ['2888']\n"
     ]
    },
    {
     "name": "stderr",
     "output_type": "stream",
     "text": [
      "c:\\users\\mia\\appdata\\local\\programs\\python\\python37\\lib\\site-packages\\openpyxl\\styles\\stylesheet.py:221: UserWarning: Workbook contains no default style, apply openpyxl's default\n",
      "  warn(\"Workbook contains no default style, apply openpyxl's default\")\n"
     ]
    }
   ],
   "source": [
    "print('量價前30名：', lst_amt)\n",
    "lst_amt = get_EPS(lst_amt, 'amt30')\n",
    "print('EPS檢查：',len(lst_amt), '筆\\n', lst_amt)"
   ]
  },
  {
   "cell_type": "markdown",
   "metadata": {},
   "source": [
    "# 今日新增 && 在量價前30名"
   ]
  },
  {
   "cell_type": "code",
   "execution_count": 18,
   "metadata": {},
   "outputs": [
    {
     "name": "stdout",
     "output_type": "stream",
     "text": [
      "今日新增 && 在量價前30名 ['2888']\n"
     ]
    }
   ],
   "source": [
    "print('今日新增 && 在量價前30名', list(set(lst_add_ori)& set(lst_amt)) )"
   ]
  },
  {
   "cell_type": "markdown",
   "metadata": {},
   "source": [
    "# 畫日K線圖、週K線圖"
   ]
  },
  {
   "cell_type": "code",
   "execution_count": 19,
   "metadata": {},
   "outputs": [
    {
     "name": "stdout",
     "output_type": "stream",
     "text": [
      "目前記錄日期至: 2022-03-31 新增前: 125 筆\n"
     ]
    }
   ],
   "source": [
    "file_name = root + 'stock_20210825_1203.json'\n",
    "with open(file_name) as f:\n",
    "    dic_stock = json.load(f)\n",
    "\n",
    "latest_date_file = datetime.strptime(sorted(dic_stock)[-1], '%Y-%m-%d').date()\n",
    "print('目前記錄日期至:',latest_date_file, '新增前:', len(dic_stock), '筆')"
   ]
  },
  {
   "cell_type": "code",
   "execution_count": 20,
   "metadata": {},
   "outputs": [
    {
     "name": "stdout",
     "output_type": "stream",
     "text": [
      "須補天數: 1\n",
      "parsing 2022-04-01\n",
      "20220401\n",
      "add to dict: 2022-04-01\n",
      "success!\n",
      "新增後: 126\n"
     ]
    }
   ],
   "source": [
    "import datetime\n",
    "import time\n",
    "import requests\n",
    "from io import StringIO\n",
    "import pandas as pd\n",
    "import numpy as np\n",
    "\n",
    "def crawl_price(date):\n",
    "    r = requests.post('http://www.twse.com.tw/exchangeReport/MI_INDEX?response=csv&date=' + str(date).split(' ')[0].replace('-','') + '&type=ALL')\n",
    "    print(str(date).split(' ')[0].replace('-',''))\n",
    "    ret = pd.read_csv(StringIO(\"\\n\".join([i.translate({ord(c): None for c in ' '}) \n",
    "                                        for i in r.text.split('\\n') \n",
    "                                        if len(i.split('\",')) == 17 and i[0] != '='])), header=0)\n",
    "    ret = ret.set_index('證券代號')\n",
    "    ret['成交金額'] = ret['成交金額'].str.replace(',','')\n",
    "    ret['成交股數'] = ret['成交股數'].str.replace(',','')\n",
    "    return ret\n",
    "\n",
    "\n",
    "data_stock = {}\n",
    "date_today = d_today\n",
    "n_days = (d_today - latest_date_file).days\n",
    "fail_count = 0\n",
    "allow_continuous_fail_count = 5\n",
    "print('須補天數:', n_days)\n",
    "while len(data_stock) < n_days:\n",
    "    print('parsing', date_today)\n",
    "    # 使用 crawPrice 爬資料\n",
    "    try:\n",
    "        # 抓資料\n",
    "        if date_today.weekday()  in [5,6]:\n",
    "            print('Weekend!')\n",
    "            date_today -= datetime.timedelta(days=1)\n",
    "            continue\n",
    "        data_stock[date_today] = crawl_price(date_today)\n",
    "        if not str(date_today) in dic_stock.keys():\n",
    "            dic_stock[str(date_today)] = data_stock[date_today].to_dict()\n",
    "            print(\"add to dict:\", str(date_today))\n",
    "        print('success!')\n",
    "        fail_count = 0\n",
    "    except:\n",
    "        # 假日爬不到\n",
    "        print('fail! check the date is holiday')\n",
    "        fail_count += 1\n",
    "        if fail_count == allow_continuous_fail_count:\n",
    "            raise\n",
    "        break\n",
    "    \n",
    "    # 減一天\n",
    "    date_today -= datetime.timedelta(days=1)\n",
    "    time.sleep(10)\n",
    "\n",
    "print('新增後:', len(dic_stock))\n",
    "with open(file_name, 'w') as f:\n",
    "    json.dump(dic_stock, f)"
   ]
  },
  {
   "cell_type": "code",
   "execution_count": 21,
   "metadata": {},
   "outputs": [],
   "source": [
    "def plot_daily_weekly_K(lst_stock_id, dic_stock):\n",
    "    df_close = pd.DataFrame({k:d['收盤價'] for k,d in dic_stock.items()}).transpose()\n",
    "    df_close.index = pd.to_datetime(df_close.index)\n",
    "\n",
    "    df_open = pd.DataFrame({k:d['開盤價'] for k,d in dic_stock.items()}).transpose()\n",
    "    df_open.index = pd.to_datetime(df_open.index)\n",
    "\n",
    "    df_high = pd.DataFrame({k:d['最高價'] for k,d in dic_stock.items()}).transpose()\n",
    "    df_high.index = pd.to_datetime(df_high.index)\n",
    "\n",
    "    df_low = pd.DataFrame({k:d['最低價'] for k,d in dic_stock.items()}).transpose()\n",
    "    df_low.index = pd.to_datetime(df_low.index)\n",
    "\n",
    "    df_volume = pd.DataFrame({k:d['成交股數'] for k,d in dic_stock.items()}).transpose()\n",
    "    df_volume.index = pd.to_datetime(df_volume.index)\n",
    "    \n",
    "    # =========================== 畫K線圖 =================================================\n",
    "    for stock_id in lst_stock_id:\n",
    "        thisyear = '2021'\n",
    "        print(stock_id)\n",
    "        if not stock_id in df_close.keys():\n",
    "            print(stock_id, '查無資料')\n",
    "            continue\n",
    "    #     stock_id = '2603'\n",
    "        dic_a_stock = {\n",
    "            'close':df_close[stock_id][thisyear].dropna().apply(lambda x:x.replace(',','')).astype(float),\n",
    "            'open':df_open[stock_id][thisyear].dropna().apply(lambda x:x.replace(',','')).astype(float),\n",
    "            'high':df_high[stock_id][thisyear].dropna().apply(lambda x:x.replace(',','')).astype(float),\n",
    "            'low':df_low[stock_id][thisyear].dropna().apply(lambda x:x.replace(',','')).astype(float),\n",
    "            'volume': df_volume[stock_id][thisyear].dropna().apply(lambda x:x.replace(',','')).astype(float),\n",
    "        }\n",
    "\n",
    "        # Daily DataFrame\n",
    "        df_stock = pd.DataFrame(dic_a_stock)\n",
    "        df_stock.insert(0,'stock_id', stock_id)\n",
    "        df_stock.sort_index(inplace=True)\n",
    "\n",
    "        fig_daily = plot_K_chart(df_stock, 'daily')\n",
    "\n",
    "        # Weekly DataFrame\n",
    "        period_type = '1W'\n",
    "        df_week = df_stock.resample(period_type).last()\n",
    "        df_week['close'] = df_stock['close'].resample(period_type).last()\n",
    "        df_week['open'] = df_stock['open'].resample(period_type).first()\n",
    "        df_week['high'] = df_stock['high'].resample(period_type).max()\n",
    "        df_week['low'] = df_stock['low'].resample(period_type).min()\n",
    "        df_week['volume'] = df_stock['volume'].resample(period_type).sum()\n",
    "\n",
    "        fig_weekly = plot_K_chart(df_week, 'weekly')"
   ]
  },
  {
   "cell_type": "code",
   "execution_count": 22,
   "metadata": {},
   "outputs": [
    {
     "name": "stdout",
     "output_type": "stream",
     "text": [
      "今日新增 && 在量價前30名 ['2888']\n"
     ]
    }
   ],
   "source": [
    "print('今日新增 && 在量價前30名', list(set(lst_add_ori)& set(lst_amt)) )"
   ]
  },
  {
   "cell_type": "code",
   "execution_count": 23,
   "metadata": {},
   "outputs": [
    {
     "name": "stdout",
     "output_type": "stream",
     "text": [
      "今日觀察： 1 筆\n",
      "2888\n"
     ]
    },
    {
     "data": {
      "image/png": "[encoded data removed]",
      "text/plain": [
       "<Figure size 1440x576 with 3 Axes>"
      ]
     },
     "metadata": {
      "needs_background": "light"
     },
     "output_type": "display_data"
    },
    {
     "data": {
      "image/png": "[encoded data removed]",
      "text/plain": [
       "<Figure size 1440x576 with 3 Axes>"
      ]
     },
     "metadata": {
      "needs_background": "light"
     },
     "output_type": "display_data"
    }
   ],
   "source": [
    "print('今日觀察：', len(lst_add_ori), '筆')\n",
    "plot_daily_weekly_K(lst_add_ori, dic_stock)"
   ]
  },
  {
   "cell_type": "code",
   "execution_count": 24,
   "metadata": {},
   "outputs": [
    {
     "name": "stdout",
     "output_type": "stream",
     "text": [
      "量價前30名： 1 筆\n",
      " ['2888']\n"
     ]
    }
   ],
   "source": [
    "print('量價前30名：', len(lst_amt),'筆\\n', lst_amt)\n",
    "lst_amt_without_add = [i for i in lst_amt if i not in lst_add_ori]\n",
    "plot_daily_weekly_K(lst_amt_without_add, dic_stock)"
   ]
  },
  {
   "cell_type": "code",
   "execution_count": 25,
   "metadata": {},
   "outputs": [],
   "source": [
    "# df_yesterday = df_yesterday[df_yesterday.index.isin(df_add.index)]\n",
    "# df_yesterday['rise%'] = round((df_yesterday['close'] - df_yesterday['open'])/df_yesterday['close']*100, 2) # 漲跌%\n",
    "# df_yesterday['K%'] = round( (df_yesterday['close'] - df_yesterday['open'])/df_yesterday['open']*100, 2 )    # K棒%\n",
    "# df_yesterday['check']=0\n",
    "# df_yesterday.insert(1, 'date', s_yesterday_md)\n",
    "# df_yesterday.reset_index(inplace=True)\n",
    "# df_yesterday"
   ]
  },
  {
   "cell_type": "code",
   "execution_count": 26,
   "metadata": {},
   "outputs": [],
   "source": [
    "# df_ori = df_today.loc[lst_track,:]\n",
    "# df_ori['rise%'] = round((df_ori['close'] - df_ori['open'])/df_ori['close']*100, 2) # 漲跌%\n",
    "# df_ori['K%'] = round( (df_ori['close'] - df_ori['open'])/df_ori['open']*100, 2 )    # K棒%\n",
    "\n",
    "# df_today = pd.concat([df_ori, df_add])\n",
    "# print('ori track:',lst_track, ', add：', df_add.index)\n",
    "# df_today.head(2)"
   ]
  },
  {
   "cell_type": "code",
   "execution_count": 27,
   "metadata": {},
   "outputs": [],
   "source": [
    "# def get_stoploss(stock_id):\n",
    "#     series = df_today.loc[stock_id,:]\n",
    "#     # stock_id = series['id']\n",
    "#     if  series['K%'] > 6:\n",
    "#         stop_point = round(series['open'] + (series['close'] - series['open'])/2, 1)\n",
    "#     elif series['K%'] > 2:\n",
    "#         stop_point = series['open']\n",
    "#     elif stock_id in df_track['id'].unique(): # stock_id存在於原本追蹤清單中\n",
    "#         stop_point = df_track[df_track['id']==stock_id]['stoploss'].iloc[0]\n",
    "#     else:\n",
    "#         stop_point = series['open'] # stock_id不存在於原本追蹤清單中\n",
    "#     return stop_point\n",
    "\n",
    "# def cal_mean_51018(stock_id):\n",
    "#     time.sleep(0.8)\n",
    "#     data_yf = yf.Ticker(stock_id+'.TW')\n",
    "#     df = data_yf.history(period=\"1mo\")\n",
    "#     df.sort_index(ascending=False, inplace=True)\n",
    "    \n",
    "#     price_5 = round(np.mean(df['Close'][:5]),2)\n",
    "#     price_10 = round(np.mean(df['Close'][:10]),2)\n",
    "#     price_20 = round(np.mean(df['Close'][:20]),2)\n",
    "    \n",
    "#     prev_5 = round(np.mean(df['Close'][1:6]),2)\n",
    "#     prev_10 = round(np.mean(df['Close'][1:11]),2)\n",
    "#     prev_20 = round(np.mean(df['Close'][1:21]),2)\n",
    "    \n",
    "#     slope_5 = round((price_5 - prev_5)*100/price_5, 2)\n",
    "#     slope_10 = round((price_10 - prev_10)*100/price_10, 2)\n",
    "#     slope_20 = round((price_20 - prev_20)*100/price_20, 2) # 除上當日均價 標準化\n",
    "    \n",
    "#     k, d = cal_KD(stock_id, df, df_track, df_today)\n",
    "#     return pd.Series([price_5, price_10, price_20, slope_5, slope_10, slope_20, k, d])\n",
    "\n",
    "# def get_start_date(stock_id):\n",
    "#     df_ori = df_track[df_track['id']==stock_id]\n",
    "#     if df_ori.empty:  \n",
    "#         return d_today.strftime(\"%m/%d\")\n",
    "#     else:\n",
    "#         return df_ori['start'].iloc[0]"
   ]
  },
  {
   "cell_type": "code",
   "execution_count": 28,
   "metadata": {},
   "outputs": [],
   "source": [
    "# # 停損點、上影線、下影線\n",
    "# df_today.insert(1, 'date', s_today_md)\n",
    "# df_today['stoploss'] = df_today.index.to_series().apply(get_stoploss)\n",
    "# df_today[ ['up_bar', 'low_bar'] ] = df_today.apply(lambda x: cal_bar(x.open, x.high, x.low, x.close), axis=1)\n",
    "\n",
    "# # 5, 10 ,20日均線，K,D值\n",
    "# df_today[ ['close5', 'close10', 'close20', 'slope5','slope10', 'slope20', 'Kvalue', 'Dvalue'] ]  = \\\n",
    "#         df_today.index.to_series().apply(cal_mean_51018) # 太長了\n",
    "\n",
    "# df_today.head(2)"
   ]
  },
  {
   "cell_type": "code",
   "execution_count": 29,
   "metadata": {
    "scrolled": true
   },
   "outputs": [],
   "source": [
    "# df = pd.concat([df_today, df_investor, df_ratio], axis=1, join=\"inner\")\n",
    "# df.reset_index(inplace=True)\n",
    "\n",
    "# df_all = pd.concat([df, df_yesterday])\n",
    "\n",
    "# df_all['start'] = df_all['id'].apply(get_start_date)\n",
    "# df_all.head(2)"
   ]
  },
  {
   "cell_type": "code",
   "execution_count": 30,
   "metadata": {},
   "outputs": [],
   "source": [
    "# df_new = pd.concat([df_track, df_all])\n",
    "# df_new.sort_values(['id', 'date'], ascending=[True, False], inplace=True)\n",
    "# df_new.head()"
   ]
  },
  {
   "cell_type": "code",
   "execution_count": 31,
   "metadata": {},
   "outputs": [],
   "source": [
    "# set_excel_color_daily(df_new, file_track)"
   ]
  },
  {
   "cell_type": "code",
   "execution_count": 32,
   "metadata": {},
   "outputs": [],
   "source": [
    "# # 目前持有股票\n",
    "# file_asset = root + 'asset.xlsx'\n",
    "# shutil.copy2(file_asset, file_asset.replace('.xlsx', '_backup.xlsx')) # complete target filename given\n",
    "\n",
    "# txt = root + 'asset.txt'\n",
    "# with open(txt, 'r', encoding='utf8') as f:\n",
    "#     dic = json.loads(f.read())\n",
    "# lst_asset = list(dic.keys())\n",
    "# print(lst_asset)\n",
    "\n",
    "# df_asset = df_new[df_new['id'].isin(lst_asset)]\n",
    "# set_excel_color_daily(df_asset, file_asset)\n",
    "# df_asset"
   ]
  },
  {
   "cell_type": "markdown",
   "metadata": {},
   "source": [
    "# 投信買超"
   ]
  },
  {
   "cell_type": "code",
   "execution_count": 33,
   "metadata": {},
   "outputs": [],
   "source": [
    "# # 投信買超 上櫃公司\n",
    "# df_otc_add = df_otc_trust.copy()\n",
    "# df_otc_add = check_10days_otc(df_otc_add)\n",
    "# df_otc_add.insert(0, 'date', s_today_md)\n",
    "# df_otc_add.reset_index(inplace=True)\n",
    "\n",
    "# path_otc = path_trust + 'otc.xlsx'\n",
    "# shutil.copy2(path_otc, path_otc.replace('.xlsx', '_backup.xlsx'))\n",
    "# df_otc_add.to_excel(path_otc, index=False)\n",
    "# df_otc_add"
   ]
  },
  {
   "cell_type": "code",
   "execution_count": 34,
   "metadata": {},
   "outputs": [],
   "source": [
    "# # 當日投信買超 上市、上櫃公司\n",
    "# url_trust = 'https://www.twse.com.tw/fund/TWT44U?response=html&date={}'.format(s_today)\n",
    "# tables = pd.read_html(url_trust)\n",
    "# df_trust = tables[0]\n",
    "# df_trust = df_trust.iloc[:,[1,5]]\n",
    "# df_trust.columns = ['stock_id', '買賣超']\n",
    "# df_trust = df_trust.astype({'stock_id':str, '買賣超':int})\n",
    "# df_trust.iloc[:,-1] = df_trust.iloc[:,-1].apply(lambda x: round(x/1000,0))\n",
    "# df_trust = df_trust[df_trust['買賣超']>20]\n",
    "# df_trust.set_index('stock_id', inplace=True)\n",
    "# df_trust.head(2)"
   ]
  },
  {
   "cell_type": "code",
   "execution_count": 35,
   "metadata": {},
   "outputs": [],
   "source": [
    "# # 投信持股比例\n",
    "# path_trust = 'D:/Mia/Stock/trust/'\n",
    "# path_html = path_trust + 'StockList.html'\n",
    "# tables = pd.read_html(path_html)\n",
    "# df_trust_today = tables[0]\n",
    "# df_trust_today.columns = df_trust_today.iloc[0,:]\n",
    "# df_trust_today = df_trust_today.iloc[1:,:]\n",
    "# df_trust_today.dropna(inplace=True)\n",
    "# df_trust_today['今年買賣超佔發行張數'] = df_trust_today['今年買賣超佔發行張數'].apply(convert_num)\n",
    "# df_trust_today['一個月買賣超佔發行張數'] = df_trust_today['一個月買賣超佔發行張數'].apply(convert_num)\n",
    "# df_trust_today['三個月買賣超佔發行張數'] = df_trust_today['三個月買賣超佔發行張數'].apply(convert_num)\n",
    "# df_trust_today = df_trust_today[(df_trust_today['今年買賣超佔發行張數']>2) & \\\n",
    "#                                 (df_trust_today['三個月買賣超佔發行張數']>0) & (df_trust_today['一個月買賣超佔發行張數']>0)]\n",
    "# lst_trust_today = [str(i) for i in list(df_trust_today['代號'])]\n",
    "# print(lst_trust_today)\n",
    "\n",
    "# # 存檔\n",
    "# path_trust_list = path_trust + 'trust.xlsx'\n",
    "# shutil.copy2(path_trust_list, path_trust_list.replace('.xlsx', '_backup.xlsx'))\n",
    "\n",
    "# df_trust_list = pd.read_excel(path_trust_list, engine='openpyxl')\n",
    "# print('old：', df_trust_list.shape)\n",
    "# print('new：', df_trust_today.shape)\n",
    "# df_trust_new = pd.concat([df_trust_list,df_trust_today]).drop_duplicates().reset_index(drop=True)\n",
    "# print('concat：', df_trust_new.shape)\n",
    "# df_trust_new.sort_values(['代號', '更新日期'], ascending=[True, False])\n",
    "# df_trust_new.to_excel(path_trust_list, index=False)\n",
    "# df_trust_new.head(1)"
   ]
  },
  {
   "cell_type": "code",
   "execution_count": 36,
   "metadata": {},
   "outputs": [],
   "source": [
    "# lst_trust_add = [i for i in lst_trust_today if i in df_today.index]\n",
    "# print('投信買超：', len(lst_trust_today), lst_trust_today)\n",
    "# print('上市公司：', len(lst_trust_add), lst_trust_add)\n",
    "\n",
    "# df_trusk_add = df_today.loc[lst_trust_add,:]\n",
    "# df_trusk_add.sort_index(inplace=True)\n",
    "\n",
    "# # df_trusk_add['rise%'] = round((df_trusk_add['close'] - df_yesterday['close'])/df_yesterday['close']*100, 2)  # 漲跌%\n",
    "# df_trusk_add['K%'] = round( (df_trusk_add['close'] - df_trusk_add['open'])/df_trusk_add['open']*100, 2 )    # K棒%\n",
    "# df_trusk_add = df_trusk_add[df_trusk_add['K%']>1] # df_trusk_add['rise%']>1.5) & \n",
    "# df_trusk_add = check_10days(df_trusk_add)\n",
    "# df_trusk_add"
   ]
  },
  {
   "cell_type": "code",
   "execution_count": 37,
   "metadata": {},
   "outputs": [],
   "source": [
    "# df_fund = pd.read_excel(root + 'trust/fund_list.xlsx', engine='openpyxl')\n",
    "# lst_fund = list(df_fund['基金編號'])\n",
    "# print(lst_fund)\n",
    "\n",
    "# path_fund_holding = path_trust+'holding.xlsx'\n",
    "# shutil.copy2(path_fund_holding, path_fund_holding.replace('.xlsx', '_backup.xlsx'))\n",
    "# df_holding_ori = pd.read_excel(path_trust+'fund_holding.xlsx', engine='openpyxl')\n",
    "# for fund_id in lst_fund:\n",
    "# #     fund_id = 'AC0053'\n",
    "#     url = 'https://finet.landbank.com.tw/w/wr/wr04.djhtm?a={}'.format(fund_id)\n",
    "#     tables = pd.read_html(url)\n",
    "#     df_holding = tables[1]\n",
    "\n",
    "#     col_idx = df_holding[df_holding[0]=='股票名稱'].index[0] # 取得col name index\n",
    "#     df_holding.columns = df_holding.iloc[col_idx,:]\n",
    "#     df_holding = df_holding.iloc[col_idx+1:-1,:]\n",
    "\n",
    "#     df_1 = df_holding.iloc[:,:4]\n",
    "#     df_2 = df_holding.iloc[:, 4:]\n",
    "#     df_holding = pd.concat([df_1, df_2], ignore_index=True)\n",
    "#     df_holding.dropna(inplace=True)\n",
    "#     df_holding['增減'] = df_holding['增減'].apply(lambda x : x.replace('%', ''))\n",
    "#     df_holding = df_holding.astype({'比例':float, '增減':float})\n",
    "# #     df_holding = df_holding[df_holding['增減']>0.08]\n",
    "#     df_holding.insert(0, 'date', s_today_md)\n",
    "#     df_holding.insert(0, 'stock_id', fund_id)\n",
    "#     df_holding_ori = df_holding_ori.append(df_holding)\n",
    "#     time.sleep(0.3)\n",
    "\n",
    "# # df_holding_new = pd.concat([df_holding_ori,df_holding])\n",
    "# df_holding_ori.to_excel(path_trust+'fund_holding.xlsx', index=False)\n"
   ]
  },
  {
   "cell_type": "code",
   "execution_count": 38,
   "metadata": {},
   "outputs": [],
   "source": [
    "# for idx, row in df_holding_ori.iterrows():\n",
    "#     df_holding_ori.at[idx, 'count'] = df_count.loc[row['股票名稱'], 'count']\n",
    "# df_holding_ori.to_excel(path_trust+'fund_holding.xlsx', index=False)\n",
    "# df_holding_ori.head(2)"
   ]
  },
  {
   "cell_type": "code",
   "execution_count": 39,
   "metadata": {},
   "outputs": [],
   "source": [
    "\n",
    "# df_trust_5days = pd.read_excel(path_trust + 'trust_5days.xlsx', engine='openpyxl')\n",
    "# df_trust_5days = df_trust_5days[df_trust_5days['今年買賣超佔發行張數']>2]\n",
    "# df_trust_5days = df_trust_5days[df_trust_5days['三個月買賣超佔發行張數']>0]\n",
    "# df_trust_5days = df_trust_5days[df_trust_5days['一個月買賣超佔發行張數']>0]\n",
    "\n",
    "# df_fund_holding = pd.read_excel(path_trust + 'fund_holding.xlsx', engine='openpyxl')\n",
    "# lst_fund_holding = list(df_fund_holding['股票名稱'].unique())\n",
    "# print(lst_fund_holding[:5])\n",
    "\n",
    "# df_trust_5days = df_trust_5days[df_trust_5days['名稱'].isin(lst_fund_holding)]\n",
    "# df_trust_5days = df_trust_5days.iloc[:,1:]\n",
    "# df_trust_5days.to_excel(path_trust + 'trust_check.xlsx', index=False)\n",
    "# print(list(df_trust_5days['代號']))\n",
    "# df_trust_5days"
   ]
  },
  {
   "cell_type": "markdown",
   "metadata": {},
   "source": [
    "# 盤中檢查"
   ]
  },
  {
   "cell_type": "code",
   "execution_count": 40,
   "metadata": {},
   "outputs": [],
   "source": [
    "# # c: 代號\n",
    "# # o: 開盤價\n",
    "# # z: 當盤成交價，有時候會沒有\n",
    "# # v: 成交量\n",
    "# # y: 昨日收盤\n",
    "# import requests\n",
    "# url = \"https://mis.twse.com.tw/stock/api/getStockInfo.jsp?ex_ch=tse_2330.tw|tse_3008.tw\"\n",
    "# res = requests.get(url)\n",
    "# res.json()['msgArray']\n",
    "\n",
    "# df = pd.DataFrame(res.json()['msgArray'])\n",
    "# df = df[['c','o', 'z', 'v', 'y']]\n",
    "# df.columns = ['stock_id', 'open', 'price', 'volume', 'yesterday']\n",
    "# df[df.columns[1:]] = df[df.columns[1:]].astype(float)\n",
    "# # df = df[df['price']>df['yesterday']] # 今天漲\n",
    "# df['rise%'] = round((df['price'] - df['yesterday'])/df['yesterday']*100, 2)\n",
    "# df = df[df['rise%']>2] # 漲幅>2%\n",
    "# df"
   ]
  },
  {
   "cell_type": "code",
   "execution_count": 41,
   "metadata": {},
   "outputs": [],
   "source": [
    "# data = yf.Ticker('2603'+'.TW')\n",
    "# df_hist = data.history(period=\"1mo\")\n",
    "# df_hist.sort_index(ascending=False, inplace=True)\n",
    "# df_hist.head(2)"
   ]
  },
  {
   "cell_type": "code",
   "execution_count": 42,
   "metadata": {},
   "outputs": [],
   "source": [
    "# import io\n",
    "# io_buf = io.BytesIO()\n",
    "# a.savefig(io_buf, format='raw')\n",
    "# io_buf.seek(0)\n",
    "# img_a = np.reshape(np.frombuffer(io_buf.getvalue(), dtype=np.uint8),\n",
    "#                      newshape=(int(a.bbox.bounds[3]), int(a.bbox.bounds[2]), -1))\n",
    "\n",
    "# b.savefig(io_buf, format='raw')\n",
    "# io_buf.seek(0)\n",
    "# img_b = np.reshape(np.frombuffer(io_buf.getvalue(), dtype=np.uint8),\n",
    "#                      newshape=(int(b.bbox.bounds[3]), int(b.bbox.bounds[2]), -1))\n",
    "# io_buf.close()"
   ]
  },
  {
   "cell_type": "code",
   "execution_count": 43,
   "metadata": {},
   "outputs": [],
   "source": [
    "# # img_a = np.fromstring(a.canvas.tostring_rgb(), dtype=np.uint8, sep='')\n",
    "# # print(a.canvas.get_width_height()[0] * a.canvas.get_width_height()[-1] * 3)\n",
    "# # print(img_a.shape)\n",
    "# # img_a = img_a.reshape(a.canvas.get_width_height()[::-1] + (3,))\n",
    "\n",
    "# figures = {'a':img_a, 'b':img_b}\n",
    "# nrows, ncols = 2, 1\n",
    "# fig, axeslist = plt.subplots(ncols=ncols, nrows=nrows)\n",
    "# for ind,title in enumerate(figures):\n",
    "#     print(ind, title)\n",
    "#     axeslist.ravel()[ind].imshow(figures[title])\n",
    "# #     axeslist.ravel()[ind].set_title(title)\n",
    "# #     axeslist.ravel()[ind].set_axis_off()\n",
    "# plt.tight_layout() # optional\n",
    "# # ValueError: cannot reshape array of size 3378075 into shape (576,1728,3)"
   ]
  },
  {
   "cell_type": "code",
   "execution_count": 44,
   "metadata": {},
   "outputs": [],
   "source": [
    "# df_week = pd.DataFrame(columns=df_stock.columns)\n",
    "# df_week"
   ]
  },
  {
   "cell_type": "code",
   "execution_count": 45,
   "metadata": {},
   "outputs": [],
   "source": [
    "# from talib import abstract\n",
    "\n",
    "# def talib2df(talib_output):\n",
    "#     if type(talib_output) == list:\n",
    "#         ret = pd.DataFrame(talib_output).transpose()\n",
    "#     else:\n",
    "#         ret = pd.Series(talib_output)\n",
    "#     ret.index = tsmc['close'].index\n",
    "#     return ret;\n",
    "\n",
    "# talib2df(abstract.STOCH(tsmc)).plot()\n",
    "# tsmc['close'].plot(secondary_y=True)"
   ]
  },
  {
   "cell_type": "code",
   "execution_count": null,
   "metadata": {},
   "outputs": [],
   "source": []
  },
  {
   "cell_type": "code",
   "execution_count": 46,
   "metadata": {},
   "outputs": [],
   "source": [
    "# import matplotlib.pyplot as plt\n",
    "# import mplfinance as mpf\n",
    "# %matplotlib inline\n",
    "# import seaborn as sns\n",
    "\n",
    "# # mplfinance內建的漲/跌標記顏色是美國的版本(綠漲紅跌)，先用mplfinance中自訂圖表外觀功能mpf.make_marketcolors()將漲/跌顏色改為台灣版本(紅漲綠跌)，\n",
    "# # 接著再將這個設定以mpf.make_mpf_style()功能保存為自訂的外觀。\n",
    "# mc = mpf.make_marketcolors(up='r', down='g', inherit=True)\n",
    "# s  = mpf.make_mpf_style(base_mpf_style='yahoo', marketcolors=mc)\n",
    "\n",
    "# # df_stock.index = df_stock.index.format(formatter=lambda x: x.strftime('%Y-%m-%d')) \n",
    "# df_stock.index.name = 'Date'\n",
    "# fig = plt.figure(figsize=(24, 8))\n",
    "\n",
    "# # add_axes( x初始座標, y初始座標, 寬, 高 )\n",
    "# ax1 = fig.add_axes([0, 0.3, 1, 0.5])\n",
    "# ax2 = fig.add_axes([0, 0, 1, 0.3])\n",
    "# # ax1 = fig.add_subplot(1, 1, 1)\n",
    "# # ax2 = fig.add_subplot(2, 1, 2, sharex=ax1)\n",
    "# ax2.set_xticks(range(0, len(df_stock.index), 5))\n",
    "# ax2.set_xticklabels(df_stock.index[::5])\n",
    "# # mpf.candlestick2_ochl(ax, df_stock['open'], df_stock['close'], df_stock['high'],\n",
    "# #                       df_stock['low'], width=0.6, colorup='r', colordown='g', alpha=0.75); \n",
    "\n",
    "# mpf.plot(df_stock, type = 'candle', mav=(10,30), ax=ax1, style=s, volume=ax2) # 必須指定volume一個軸\n",
    "\n"
   ]
  },
  {
   "cell_type": "markdown",
   "metadata": {},
   "source": [
    "# 月報\n",
    "\n",
    "#### 彙總報表 (單位：千元)\n",
    "https://mops.twse.com.tw/mops/web/t21sc04_ifrs"
   ]
  },
  {
   "cell_type": "code",
   "execution_count": null,
   "metadata": {},
   "outputs": [],
   "source": []
  }
 ],
 "metadata": {
  "kernelspec": {
   "display_name": "Python 3",
   "language": "python",
   "name": "python3"
  },
  "language_info": {
   "codemirror_mode": {
    "name": "ipython",
    "version": 3
   },
   "file_extension": ".py",
   "mimetype": "text/x-python",
   "name": "python",
   "nbconvert_exporter": "python",
   "pygments_lexer": "ipython3",
   "version": "3.7.9"
  }
 },
 "nbformat": 4,
 "nbformat_minor": 4
}
