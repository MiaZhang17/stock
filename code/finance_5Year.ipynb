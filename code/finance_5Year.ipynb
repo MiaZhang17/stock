{
 "cells": [
  {
   "cell_type": "code",
   "execution_count": 1,
   "metadata": {},
   "outputs": [],
   "source": [
    "from excellib import set_excel_color_daily\n",
    "from stocklib import get_stock_price, get_OTC_price, get_otc, get_investor, get_ratio\n",
    "from stocklib import cal_bar, cal_KD, check_10days, check_10days_otc, get_trust_today\n",
    "from stocklib import convert_num\n",
    "from stock_plot import plot_K_chart\n",
    "\n",
    "\n",
    "from finance import get_yearly, get_df_monthly, get_df_monthly_check, get_df_quarterly\n",
    "from finance import get_this_quarter, get_quarter_income, get_quarter_finance, set_growth_eps\n",
    "from finance import get_df_quarterly_all, get_df_yearly_all, get_estimate_income\n",
    "from finance import check_5_years, get_df_quarterly_equity, get_finance_col, get_df_yearly"
   ]
  },
  {
   "cell_type": "code",
   "execution_count": 2,
   "metadata": {},
   "outputs": [],
   "source": [
    "import requests\n",
    "import shutil\n",
    "import time\n",
    "from datetime import date, timedelta, datetime\n",
    "from dateutil.relativedelta import relativedelta\n",
    "from bs4 import BeautifulSoup\n",
    "from fake_useragent import UserAgent\n",
    "import pandas as pd\n",
    "import numpy as np\n",
    "import yfinance as yf\n",
    "import json\n",
    "import matplotlib.pyplot as plt\n",
    "import mplfinance as mpf\n",
    "import seaborn as sns\n",
    "from tqdm import tqdm\n",
    "import os\n",
    "%matplotlib inline\n",
    "\n",
    "ua = UserAgent()\n",
    "root = '../'\n",
    "\n",
    "root = 'D:/Mia/Stock/'\n",
    "path_quarterly = root + 'quarterly/'\n",
    "path_monthly = root + 'monthly/'\n",
    "path_month_finance = root + 'monthly_finance/'\n",
    "path_yearly = root + 'yearly/'\n",
    "path_finance = root + 'finance/'\n",
    "path_trust = root + 'trust/'\n",
    "folder_name = 'trust/'"
   ]
  },
  {
   "cell_type": "code",
   "execution_count": 20,
   "metadata": {},
   "outputs": [
    {
     "name": "stdout",
     "output_type": "stream",
     "text": [
      "今天: 2022-03-30 20220330_0000\n"
     ]
    }
   ],
   "source": [
    "d_today = date.today() #- timedelta(days=1)\n",
    "\n",
    "today_tw = d_today - relativedelta(years=1911)\n",
    "this_year = d_today.year\n",
    "this_quarter = get_this_quarter()\n",
    "n = 1\n",
    "if d_today.weekday() == 0:\n",
    "    n = 3\n",
    "d_yesterday = d_today - timedelta(days=n)\n",
    "s_yesterday = (d_today - timedelta(days=n)).strftime(\"%Y%m%d\")\n",
    "s_today_md = (d_today).strftime(\"%m/%d\")\n",
    "s_yesterday_md = (d_today - timedelta(days=n)).strftime(\"%m/%d\")\n",
    "s_today = d_today.strftime(\"%Y%m%d\")\n",
    "s_today_hm = d_today.strftime(\"%Y%m%d_%H%M\")\n",
    "\n",
    "s_today_tw = today_tw.strftime(\"%Y/%m/%d\").lstrip('0')\n",
    "s_thismonth_tw = today_tw.strftime(\"%Y/%m\").lstrip('0')\n",
    "print('今天:', d_today, s_today_hm)\n",
    "# 台灣證券交易所"
   ]
  },
  {
   "cell_type": "code",
   "execution_count": 14,
   "metadata": {},
   "outputs": [
    {
     "name": "stdout",
     "output_type": "stream",
     "text": [
      "取得今日上市股票資訊: 20220330\n"
     ]
    },
    {
     "data": {
      "text/html": [
       "<div>\n",
       "<style scoped>\n",
       "    .dataframe tbody tr th:only-of-type {\n",
       "        vertical-align: middle;\n",
       "    }\n",
       "\n",
       "    .dataframe tbody tr th {\n",
       "        vertical-align: top;\n",
       "    }\n",
       "\n",
       "    .dataframe thead th {\n",
       "        text-align: right;\n",
       "    }\n",
       "</style>\n",
       "<table border=\"1\" class=\"dataframe\">\n",
       "  <thead>\n",
       "    <tr style=\"text-align: right;\">\n",
       "      <th></th>\n",
       "      <th>name</th>\n",
       "      <th>amount</th>\n",
       "      <th>open</th>\n",
       "      <th>high</th>\n",
       "      <th>low</th>\n",
       "      <th>close</th>\n",
       "    </tr>\n",
       "    <tr>\n",
       "      <th>id</th>\n",
       "      <th></th>\n",
       "      <th></th>\n",
       "      <th></th>\n",
       "      <th></th>\n",
       "      <th></th>\n",
       "      <th></th>\n",
       "    </tr>\n",
       "  </thead>\n",
       "  <tbody>\n",
       "    <tr>\n",
       "      <th>0050</th>\n",
       "      <td>元大台灣50</td>\n",
       "      <td>8498</td>\n",
       "      <td>138.05</td>\n",
       "      <td>138.7</td>\n",
       "      <td>138.05</td>\n",
       "      <td>138.55</td>\n",
       "    </tr>\n",
       "    <tr>\n",
       "      <th>0051</th>\n",
       "      <td>元大中型100</td>\n",
       "      <td>41</td>\n",
       "      <td>60.00</td>\n",
       "      <td>60.3</td>\n",
       "      <td>60.00</td>\n",
       "      <td>60.30</td>\n",
       "    </tr>\n",
       "  </tbody>\n",
       "</table>\n",
       "</div>"
      ],
      "text/plain": [
       "         name  amount    open   high     low   close\n",
       "id                                                  \n",
       "0050   元大台灣50    8498  138.05  138.7  138.05  138.55\n",
       "0051  元大中型100      41   60.00   60.3   60.00   60.30"
      ]
     },
     "execution_count": 14,
     "metadata": {},
     "output_type": "execute_result"
    }
   ],
   "source": [
    "df_today = get_stock_price(d_today)\n",
    "df_today.head(2)"
   ]
  },
  {
   "cell_type": "code",
   "execution_count": 7,
   "metadata": {},
   "outputs": [],
   "source": [
    "def get_EPS(lst_stock_id, filename):\n",
    "    df_yearly_all = get_df_yearly_all() # 寫入歷年EPS、本益比，估算今年股價min, max範圍\n",
    "    df_quarterly_all = get_df_quarterly_all()\n",
    "    df_estimate = pd.DataFrame(columns = list(df_quarterly_all.columns)+['普通股數'])\n",
    "\n",
    "    # 取得公司發行股數\n",
    "    path_company_stock_num = root + 'company_list.xlsx'\n",
    "    df_company_stock_num = pd.read_excel(path_company_stock_num, engine='openpyxl', dtype={'stock_id':str})\n",
    "    df_company_stock_num.set_index('stock_id', inplace=True)\n",
    "    \n",
    "    lst_eps = []\n",
    "    for i in tqdm(range(len(lst_stock_id))):\n",
    "        stock_id = lst_stock_id[i]\n",
    "        t_wait = np.random.randint(5,15)\n",
    "        print(stock_id, ', wait ', t_wait)\n",
    "        df = get_df_quarterly(stock_id)\n",
    "\n",
    "        if df is None:\n",
    "            print('df is None')\n",
    "            continue\n",
    "        if df.loc[df.index[0], '毛利率(%)'] < 20:\n",
    "            print(stock_id, '：毛利率', df.loc[df.index[0], '毛利率(%)'], '< 20%，跳過')\n",
    "            continue\n",
    "        elif df.loc[df.index[0], '營益率(%)'] < 8:\n",
    "            print(stock_id, '：營益率' , df.loc[df.index[0], '營益率(%)'] , ' < 8%，跳過')\n",
    "            continue\n",
    "\n",
    "        lst_eps.append(stock_id)\n",
    "        # 計算歷年同季的營收成長率、EPS\n",
    "        df = set_growth_eps(df, df_today, stock_id)\n",
    "\n",
    "        # 將年度EPS寫到歷年excel裡\n",
    "        lst_year = set(df.index.to_series().apply(lambda x:x[:4]))\n",
    "        min_year = int(min(lst_year)) # 若最小年是2018 ，只能確定2019都有資料\n",
    "        lst_year = [y for y in lst_year if int(y) > min_year]\n",
    "        lst_EPS = [{'year':y, 'eps': df.loc[str(y)+'Q1', 'EPS(Y)']} for y in lst_year]\n",
    "\n",
    "        df.reset_index(inplace=True)\n",
    "        df = df.rename(columns={'index':'quarter'}) # reset_index後column名稱是index\n",
    "\n",
    "        stock_name = \"\"\n",
    "        if stock_id in df_today.index:\n",
    "            stock_name = df_today.loc[stock_id, 'name']\n",
    "            df_yearly = get_yearly(stock_id, lst_EPS, df['quarter'][0][:4], stock_name)    \n",
    "            df_yearly_all = df_yearly_all.append(df_yearly, ignore_index=True)\n",
    "\n",
    "        df.insert(0, 'name', value=stock_name)\n",
    "        df.insert(0, 'stock_id', value=stock_id)\n",
    "\n",
    "        df_quarterly_all = df_quarterly_all.append(df, ignore_index=True)\n",
    "        time.sleep(t_wait)\n",
    "\n",
    "        # ===============================\n",
    "        # 預測EPS ( check_EPS )\n",
    "        # ===============================\n",
    "        df_new_quarter = get_quarter_finance(stock_id, df, this_year, this_quarter, df_company_stock_num, df_today)\n",
    "        df_concat = pd.concat([df, df_new_quarter])\n",
    "        df_concat.sort_values('quarter', ascending=False, inplace=True)\n",
    "        df_estimate = df_estimate.append(df_concat)\n",
    "\n",
    "    #預測EPS ( check_EPS )\n",
    "    s_now = datetime.now().strftime(\"%Y%m%d_%H%M\")\n",
    "    path = path_check+'estimate_{}_{}.xlsx'.format(filename, s_now)\n",
    "    print(path)\n",
    "    df_estimate.to_excel(path, index=False)\n",
    "    return lst_eps"
   ]
  },
  {
   "cell_type": "code",
   "execution_count": 8,
   "metadata": {
    "scrolled": true
   },
   "outputs": [
    {
     "name": "stdout",
     "output_type": "stream",
     "text": [
      "從月報 篩選出幾家公司\n",
      "上個月營收 > 5億 上個月營收成長 > 10% or 去年同季營收成長 > 10%\n",
      "(13429, 14)\n",
      "目前月報年份： 111/2\n",
      "所有公司筆數： 971\n",
      "本月觀察公司筆數： 264\n"
     ]
    },
    {
     "name": "stderr",
     "output_type": "stream",
     "text": [
      "D:\\Mia\\Stock\\code\\finance.py:146: SettingWithCopyWarning: \n",
      "A value is trying to be set on a copy of a slice from a DataFrame.\n",
      "Try using .loc[row_indexer,col_indexer] = value instead\n",
      "\n",
      "See the caveats in the documentation: https://pandas.pydata.org/pandas-docs/stable/user_guide/indexing.html#returning-a-view-versus-a-copy\n",
      "  df_monthly_check['公司代號'] = df_monthly_check['公司代號'].astype(str)\n"
     ]
    },
    {
     "data": {
      "text/html": [
       "<div>\n",
       "<style scoped>\n",
       "    .dataframe tbody tr th:only-of-type {\n",
       "        vertical-align: middle;\n",
       "    }\n",
       "\n",
       "    .dataframe tbody tr th {\n",
       "        vertical-align: top;\n",
       "    }\n",
       "\n",
       "    .dataframe thead th {\n",
       "        text-align: right;\n",
       "    }\n",
       "</style>\n",
       "<table border=\"1\" class=\"dataframe\">\n",
       "  <thead>\n",
       "    <tr style=\"text-align: right;\">\n",
       "      <th></th>\n",
       "      <th>出表日期</th>\n",
       "      <th>資料年月</th>\n",
       "      <th>公司代號</th>\n",
       "      <th>公司名稱</th>\n",
       "      <th>產業別</th>\n",
       "      <th>營業收入-當月營收</th>\n",
       "      <th>營業收入-上月營收</th>\n",
       "      <th>營業收入-去年當月營收</th>\n",
       "      <th>營業收入-上月比較增減(%)</th>\n",
       "      <th>營業收入-去年同月增減(%)</th>\n",
       "      <th>累計營業收入-當月累計營收</th>\n",
       "      <th>累計營業收入-去年累計營收</th>\n",
       "      <th>累計營業收入-前期比較增減(%)</th>\n",
       "      <th>備註</th>\n",
       "    </tr>\n",
       "  </thead>\n",
       "  <tbody>\n",
       "    <tr>\n",
       "      <th>12464</th>\n",
       "      <td>111/03/30</td>\n",
       "      <td>111/2</td>\n",
       "      <td>1101</td>\n",
       "      <td>台泥</td>\n",
       "      <td>水泥工業</td>\n",
       "      <td>54.56</td>\n",
       "      <td>75.18</td>\n",
       "      <td>41.73</td>\n",
       "      <td>-27.43</td>\n",
       "      <td>30.73</td>\n",
       "      <td>129.74</td>\n",
       "      <td>122.58</td>\n",
       "      <td>5.84</td>\n",
       "      <td>以上營收不包含停業部門營收:111年2月 0 仟元暨110年2月363,378仟元；111年...</td>\n",
       "    </tr>\n",
       "    <tr>\n",
       "      <th>11499</th>\n",
       "      <td>111/03/30</td>\n",
       "      <td>111/1</td>\n",
       "      <td>1101</td>\n",
       "      <td>台泥</td>\n",
       "      <td>水泥工業</td>\n",
       "      <td>75.18</td>\n",
       "      <td>108.21</td>\n",
       "      <td>80.84</td>\n",
       "      <td>-30.53</td>\n",
       "      <td>-7.01</td>\n",
       "      <td>75.18</td>\n",
       "      <td>80.84</td>\n",
       "      <td>-7.01</td>\n",
       "      <td>以上營收不包含停業部門營收:111年1月 0 仟元暨110年1月511,796仟元；111年...</td>\n",
       "    </tr>\n",
       "  </tbody>\n",
       "</table>\n",
       "</div>"
      ],
      "text/plain": [
       "            出表日期   資料年月  公司代號 公司名稱   產業別  營業收入-當月營收  營業收入-上月營收  營業收入-去年當月營收  \\\n",
       "12464  111/03/30  111/2  1101   台泥  水泥工業      54.56      75.18        41.73   \n",
       "11499  111/03/30  111/1  1101   台泥  水泥工業      75.18     108.21        80.84   \n",
       "\n",
       "       營業收入-上月比較增減(%)  營業收入-去年同月增減(%)  累計營業收入-當月累計營收  累計營業收入-去年累計營收  \\\n",
       "12464          -27.43           30.73         129.74         122.58   \n",
       "11499          -30.53           -7.01          75.18          80.84   \n",
       "\n",
       "       累計營業收入-前期比較增減(%)                                                 備註  \n",
       "12464              5.84  以上營收不包含停業部門營收:111年2月 0 仟元暨110年2月363,378仟元；111年...  \n",
       "11499             -7.01  以上營收不包含停業部門營收:111年1月 0 仟元暨110年1月511,796仟元；111年...  "
      ]
     },
     "execution_count": 8,
     "metadata": {},
     "output_type": "execute_result"
    }
   ],
   "source": [
    "path_check = path_quarterly\n",
    "\n",
    "# # 月報\n",
    "# #### 彙總報表 (單位：千元)\n",
    "# https://mops.twse.com.tw/mops/web/t21sc04_ifrs\n",
    "\n",
    "# # 從月報 篩選出公司\n",
    "# 上個月營收 > 30億\n",
    "# 上個月營收成長 > 20% or 去年同季營收成長 > 20%\n",
    "df_monthly_check = get_df_monthly_check(path_month_finance, income=5, income_growth_MoM=10, income_growth_YoY=10, pre_month=False)\n",
    "df_monthly_check.head(2)"
   ]
  },
  {
   "cell_type": "code",
   "execution_count": 11,
   "metadata": {},
   "outputs": [
    {
     "name": "stdout",
     "output_type": "stream",
     "text": [
      "263\n",
      "['1101', '1102', '1210', '1215', '1218', '1301', '1303', '1304', '1308', '1309', '1310', '1313', '1314', '1321', '1326', '1338', '1402', '1409', '1434', '1440', '1444', '1447', '1451', '1460', '1464', '1473', '1476', '1477', '1503', '1504', '1507', '1513', '1519', '1522', '1532', '1560', '1582', '1590', '1605', '1608', '1609', '1708', '1709', '1710', '1714', '1717', '1722', '1723', '1725', '1726', '1773', '1802', '1904', '2002', '2006', '2010', '2012', '2013', '2015', '2023', '2027', '2028', '2030', '2031', '2034', '2038', '2049', '2062', '2069', '2106', '2206', '2301', '2303', '2308', '2312', '2313', '2317', '2324', '2327', '2328', '2330', '2331', '2337', '2338', '2344', '2347', '2351', '2352', '2353', '2354', '2356', '2357', '2362', '2368', '2371', '2376', '2377', '2379', '2382', '2383', '2385', '2387', '2388', '2395', '2397', '2401', '2404', '2408', '2419', '2421', '2428', '2454', '2464', '2472', '2481', '2511', '2514', '2535', '2545', '2546', '2548', '2597', '2603', '2606', '2607', '2609', '2610', '2615', '2618', '2634', '2636', '2637', '2801', '2809', '2834', '2838', '2850', '2851', '2886', '2887', '2891', '2897', '2905', '2923', '3005', '3010', '3017', '3023', '3026', '3028', '3029', '3030', '3033', '3034', '3035', '3036', '3037', '3044', '3045', '3048', '3059', '3090', '3189', '3209', '3231', '3305', '3312', '3406', '3413', '3443', '3454', '3532', '3576', '3592', '3596', '3605', '3617', '3653', '3665', '3701', '3702', '3703', '3711', '3712', '3714', '4141', '4438', '4536', '4739', '4766', '4915', '4919', '4927', '4938', '4942', '4958', '4961', '5007', '5225', '5243', '5285', '5306', '5388', '5434', '5522', '5538', '5871', '6005', '6120', '6139', '6189', '6196', '6202', '6213', '6214', '6239', '6257', '6269', '6271', '6278', '6282', '6285', '6409', '6414', '6415', '6443', '6456', '6505', '6579', '6592', '6669', '6670', '6691', '6706', '6719', '6776', '6781', '8016', '8046', '8070', '8081', '8105', '8110', '8163', '8210', '8213', '8442', '8454', '9105', '9802', '9907', '9910', '9911', '9921', '9924', '9927', '9933', '9934', '9937', '9938', '9939', '9945', '9958']\n"
     ]
    }
   ],
   "source": [
    "lst_monthly_id = list(df_monthly_check['公司代號'].unique())\n",
    "if '6770' in lst_monthly_id:\n",
    "    lst_monthly_id.remove('6770')\n",
    "print(len(lst_monthly_id))\n",
    "print(lst_monthly_id)"
   ]
  },
  {
   "cell_type": "code",
   "execution_count": 10,
   "metadata": {},
   "outputs": [
    {
     "name": "stdout",
     "output_type": "stream",
     "text": [
      "90\n",
      "90\n",
      "83\n"
     ]
    }
   ],
   "source": [
    "sep_num = 90\n",
    "n = 0\n",
    "lst_all_id = []\n",
    "if len(lst_monthly_id)>sep_num:\n",
    "    while n < len(lst_monthly_id):\n",
    "        lst_all_id.append(lst_monthly_id[n:n+sep_num])\n",
    "        n += sep_num\n",
    "else:\n",
    "    lst_all_id.append(lst_monthly_id)\n",
    "for i in lst_all_id:\n",
    "    print(len(i))"
   ]
  },
  {
   "cell_type": "markdown",
   "metadata": {},
   "source": [
    "# 取得公司歷年發放股利"
   ]
  },
  {
   "cell_type": "code",
   "execution_count": 12,
   "metadata": {
    "collapsed": true
   },
   "outputs": [
    {
     "name": "stderr",
     "output_type": "stream",
     "text": [
      "\r",
      "  0%|                                                                                           | 0/90 [00:00<?, ?it/s]"
     ]
    },
    {
     "name": "stdout",
     "output_type": "stream",
     "text": [
      "batch 0\n",
      "2106 wait: 24\n"
     ]
    },
    {
     "name": "stderr",
     "output_type": "stream",
     "text": [
      "100%|█████████████████████████████████████████████████████████████████████████████████| 90/90 [00:00<00:00, 178.94it/s]"
     ]
    },
    {
     "name": "stdout",
     "output_type": "stream",
     "text": [
      "2106 Error No tables found\n"
     ]
    },
    {
     "name": "stderr",
     "output_type": "stream",
     "text": [
      "\n"
     ]
    },
    {
     "name": "stdout",
     "output_type": "stream",
     "text": [
      "(934, 3)\n",
      "(3951, 4)\n",
      "(4262, 5)\n"
     ]
    },
    {
     "name": "stderr",
     "output_type": "stream",
     "text": [
      "\r",
      "  0%|                                                                                           | 0/90 [00:00<?, ?it/s]"
     ]
    },
    {
     "name": "stdout",
     "output_type": "stream",
     "text": [
      "batch 1\n",
      "2923 wait: 21\n"
     ]
    },
    {
     "name": "stderr",
     "output_type": "stream",
     "text": [
      "\r",
      " 60%|████████████████████████████████████████████████▌                                | 54/90 [00:00<00:00, 143.87it/s]"
     ]
    },
    {
     "name": "stdout",
     "output_type": "stream",
     "text": [
      "2923 Error No tables found\n",
      "3617 wait: 21\n"
     ]
    },
    {
     "name": "stderr",
     "output_type": "stream",
     "text": [
      "100%|█████████████████████████████████████████████████████████████████████████████████| 90/90 [00:00<00:00, 100.82it/s]"
     ]
    },
    {
     "name": "stdout",
     "output_type": "stream",
     "text": [
      "3617 Error No tables found\n"
     ]
    },
    {
     "name": "stderr",
     "output_type": "stream",
     "text": [
      "\n"
     ]
    },
    {
     "name": "stdout",
     "output_type": "stream",
     "text": [
      "(934, 3)\n",
      "(3951, 4)\n",
      "(4262, 5)\n"
     ]
    },
    {
     "name": "stderr",
     "output_type": "stream",
     "text": [
      "\r",
      "  0%|                                                                                           | 0/83 [00:00<?, ?it/s]"
     ]
    },
    {
     "name": "stdout",
     "output_type": "stream",
     "text": [
      "batch 2\n",
      "5306 wait: 16\n"
     ]
    },
    {
     "name": "stderr",
     "output_type": "stream",
     "text": [
      "\r",
      " 27%|█████████████████████▋                                                            | 22/83 [00:00<00:01, 47.27it/s]"
     ]
    },
    {
     "name": "stdout",
     "output_type": "stream",
     "text": [
      "5306 Error No tables found\n",
      "9924 wait: 19\n"
     ]
    },
    {
     "name": "stderr",
     "output_type": "stream",
     "text": [
      "100%|██████████████████████████████████████████████████████████████████████████████████| 83/83 [00:00<00:00, 83.40it/s]"
     ]
    },
    {
     "name": "stdout",
     "output_type": "stream",
     "text": [
      "9924 Error No tables found\n"
     ]
    },
    {
     "name": "stderr",
     "output_type": "stream",
     "text": [
      "\n"
     ]
    },
    {
     "name": "stdout",
     "output_type": "stream",
     "text": [
      "(934, 3)\n",
      "(3951, 4)\n",
      "(4262, 5)\n"
     ]
    }
   ],
   "source": [
    "# import requests\n",
    "# from bs4 import BeautifulSoup\n",
    "# from fake_useragent import UserAgent\n",
    "# from datetime import date \n",
    "# from tqdm import tqdm\n",
    "\n",
    "# path_dividen = root + 'company_dividen.xlsx'\n",
    "# # df_dividen_all = pd.DataFrame(columns=['stock_id', 'year', 'cash', 'stock'])\n",
    "# df_dividen_all = pd.read_excel(path_dividen, engine='openpyxl', dtype={'stock_id':str})\n",
    "\n",
    "# ua = UserAgent()\n",
    "# agent = ua.random\n",
    "\n",
    "# for i in range(len(lst_all_id)):\n",
    "#     print('batch', i)\n",
    "#     lst_1 = lst_all_id[i]\n",
    "#     for stock_id in tqdm(lst_1):\n",
    "#         if stock_id in df_dividen_all['stock_id'].unique(): #or not stock_id in lst_company:\n",
    "#             continue\n",
    "#     #     stock_id = lst_company_1[i]\n",
    "#         t_wait = np.random.randint(15, 25)\n",
    "#         print(stock_id, 'wait:', t_wait)\n",
    "#         url = 'https://goodinfo.tw/StockInfo/StockDetail.asp?STOCK_ID={}'.format(stock_id)\n",
    "\n",
    "#         headers = {'user-agent':agent}\n",
    "#         res = requests.get(url, headers=headers)\n",
    "#         res.encoding = 'utf-8'\n",
    "#         soup = BeautifulSoup(res.text, 'lxml')\n",
    "\n",
    "#         tb = soup.find(id='FINANCE_DIVIDEND')\n",
    "\n",
    "#         try:\n",
    "#             df_dividen = pd.read_html(str(tb))[0]\n",
    "#         except:\n",
    "#             print(stock_id, 'Error No tables found')\n",
    "#             continue\n",
    "#         df_dividen = df_dividen.iloc[:,:-1]\n",
    "#         df_dividen.columns = ['year', 'cash', 'stock']\n",
    "#         df_dividen.drop(df_dividen.index[:3], inplace=True)\n",
    "#         df_dividen.drop(df_dividen.index[-1], inplace=True)\n",
    "#         df_dividen['year'] = df_dividen['year'].astype(int)\n",
    "#         df_dividen = df_dividen[df_dividen['year']>2014]\n",
    "#         df_dividen.insert(0, 'stock_id', value=stock_id)\n",
    "#         df_dividen_all = df_dividen_all.append(df_dividen)\n",
    "#         time.sleep(t_wait)\n",
    "\n",
    "#     df_dividen_all.to_excel(path_dividen, index=False)\n",
    "\n",
    "#     # 合併發行股數 與 歷年股利Excel\n",
    "#     path_company = root + 'company_list.xlsx'\n",
    "#     path_dividen = root + 'company_dividen.xlsx'\n",
    "#     path_company_info = root + 'company_info.xlsx'\n",
    "#     import shutil\n",
    "#     shutil.copy2(path_company_info, path_company_info.replace('.xlsx', '_backup.xlsx'))\n",
    "\n",
    "#     df_1 = pd.read_excel(path_company, engine='openpyxl')\n",
    "#     df_2 = pd.read_excel(path_dividen, engine='openpyxl')\n",
    "#     print(df_1.shape)\n",
    "#     print(df_2.shape)\n",
    "#     df_all = df_1.set_index('stock_id').join(df_2.set_index('stock_id'))\n",
    "#     print(df_all.shape)\n",
    "#     df_all.head(2)\n",
    "#     df_all.reset_index(inplace=True)\n",
    "#     df_all.to_excel(path_company_info, index=False)"
   ]
  },
  {
   "cell_type": "code",
   "execution_count": 13,
   "metadata": {},
   "outputs": [
    {
     "name": "stderr",
     "output_type": "stream",
     "text": [
      "\r",
      "  0%|                                                                                           | 0/90 [00:00<?, ?it/s]"
     ]
    },
    {
     "name": "stdout",
     "output_type": "stream",
     "text": [
      "觀察中公司有： 263 筆\n",
      "Check: 0\n",
      "1101 , wait  8\n"
     ]
    },
    {
     "name": "stderr",
     "output_type": "stream",
     "text": [
      "c:\\users\\mia\\appdata\\local\\programs\\python\\python37\\lib\\site-packages\\openpyxl\\styles\\stylesheet.py:221: UserWarning: Workbook contains no default style, apply openpyxl's default\n",
      "  warn(\"Workbook contains no default style, apply openpyxl's default\")\n"
     ]
    },
    {
     "name": "stdout",
     "output_type": "stream",
     "text": [
      "1101  wait  7\n"
     ]
    },
    {
     "name": "stderr",
     "output_type": "stream",
     "text": [
      "\r",
      "  1%|▉                                                                                  | 1/90 [00:17<25:28, 17.18s/it]"
     ]
    },
    {
     "name": "stdout",
     "output_type": "stream",
     "text": [
      "1102 , wait  13\n"
     ]
    },
    {
     "name": "stderr",
     "output_type": "stream",
     "text": [
      "c:\\users\\mia\\appdata\\local\\programs\\python\\python37\\lib\\site-packages\\openpyxl\\styles\\stylesheet.py:221: UserWarning: Workbook contains no default style, apply openpyxl's default\n",
      "  warn(\"Workbook contains no default style, apply openpyxl's default\")\n"
     ]
    },
    {
     "name": "stdout",
     "output_type": "stream",
     "text": [
      "1102  wait  5\n"
     ]
    },
    {
     "name": "stderr",
     "output_type": "stream",
     "text": [
      "\r",
      "  2%|█▊                                                                                 | 2/90 [00:37<27:37, 18.84s/it]"
     ]
    },
    {
     "name": "stdout",
     "output_type": "stream",
     "text": [
      "1210 , wait  5\n"
     ]
    },
    {
     "name": "stderr",
     "output_type": "stream",
     "text": [
      "c:\\users\\mia\\appdata\\local\\programs\\python\\python37\\lib\\site-packages\\openpyxl\\styles\\stylesheet.py:221: UserWarning: Workbook contains no default style, apply openpyxl's default\n",
      "  warn(\"Workbook contains no default style, apply openpyxl's default\")\n",
      "\r",
      "  3%|██▊                                                                                | 3/90 [00:40<16:45, 11.56s/it]"
     ]
    },
    {
     "name": "stdout",
     "output_type": "stream",
     "text": [
      "1210 ：毛利率 9.5 < 20%，跳過\n",
      "1215 , wait  8\n"
     ]
    },
    {
     "name": "stderr",
     "output_type": "stream",
     "text": [
      "\r",
      "  4%|███▋                                                                               | 4/90 [00:42<11:23,  7.95s/it]"
     ]
    },
    {
     "name": "stdout",
     "output_type": "stream",
     "text": [
      "1215 ：毛利率 12.9 < 20%，跳過\n",
      "1218 , wait  12\n"
     ]
    },
    {
     "name": "stderr",
     "output_type": "stream",
     "text": [
      "\r",
      "  6%|████▌                                                                              | 5/90 [00:45<08:38,  6.10s/it]"
     ]
    },
    {
     "name": "stdout",
     "output_type": "stream",
     "text": [
      "1218 ：毛利率 15.5 < 20%，跳過\n",
      "1301 , wait  5\n",
      "1301  wait  8\n"
     ]
    },
    {
     "name": "stderr",
     "output_type": "stream",
     "text": [
      "\r",
      "  7%|█████▌                                                                             | 6/90 [01:00<12:48,  9.15s/it]"
     ]
    },
    {
     "name": "stdout",
     "output_type": "stream",
     "text": [
      "1303 , wait  9\n"
     ]
    },
    {
     "name": "stderr",
     "output_type": "stream",
     "text": [
      "c:\\users\\mia\\appdata\\local\\programs\\python\\python37\\lib\\site-packages\\openpyxl\\styles\\stylesheet.py:221: UserWarning: Workbook contains no default style, apply openpyxl's default\n",
      "  warn(\"Workbook contains no default style, apply openpyxl's default\")\n"
     ]
    },
    {
     "name": "stdout",
     "output_type": "stream",
     "text": [
      "1303  wait  6\n"
     ]
    },
    {
     "name": "stderr",
     "output_type": "stream",
     "text": [
      "\r",
      "  8%|██████▍                                                                            | 7/90 [01:17<16:11, 11.70s/it]"
     ]
    },
    {
     "name": "stdout",
     "output_type": "stream",
     "text": [
      "1304 , wait  8\n"
     ]
    },
    {
     "name": "stderr",
     "output_type": "stream",
     "text": [
      "c:\\users\\mia\\appdata\\local\\programs\\python\\python37\\lib\\site-packages\\openpyxl\\styles\\stylesheet.py:221: UserWarning: Workbook contains no default style, apply openpyxl's default\n",
      "  warn(\"Workbook contains no default style, apply openpyxl's default\")\n"
     ]
    },
    {
     "name": "stdout",
     "output_type": "stream",
     "text": [
      "1304  wait  6\n"
     ]
    },
    {
     "name": "stderr",
     "output_type": "stream",
     "text": [
      "\r",
      "  9%|███████▍                                                                           | 8/90 [01:34<18:29, 13.53s/it]"
     ]
    },
    {
     "name": "stdout",
     "output_type": "stream",
     "text": [
      "1308 , wait  7\n"
     ]
    },
    {
     "name": "stderr",
     "output_type": "stream",
     "text": [
      "c:\\users\\mia\\appdata\\local\\programs\\python\\python37\\lib\\site-packages\\openpyxl\\styles\\stylesheet.py:221: UserWarning: Workbook contains no default style, apply openpyxl's default\n",
      "  warn(\"Workbook contains no default style, apply openpyxl's default\")\n"
     ]
    },
    {
     "name": "stdout",
     "output_type": "stream",
     "text": [
      "1308  wait  9\n"
     ]
    },
    {
     "name": "stderr",
     "output_type": "stream",
     "text": [
      "\r",
      " 10%|████████▎                                                                          | 9/90 [01:52<20:05, 14.88s/it]"
     ]
    },
    {
     "name": "stdout",
     "output_type": "stream",
     "text": [
      "1309 , wait  5\n"
     ]
    },
    {
     "name": "stderr",
     "output_type": "stream",
     "text": [
      "c:\\users\\mia\\appdata\\local\\programs\\python\\python37\\lib\\site-packages\\openpyxl\\styles\\stylesheet.py:221: UserWarning: Workbook contains no default style, apply openpyxl's default\n",
      "  warn(\"Workbook contains no default style, apply openpyxl's default\")\n",
      "\r",
      " 11%|█████████                                                                         | 10/90 [01:57<15:35, 11.69s/it]"
     ]
    },
    {
     "name": "stdout",
     "output_type": "stream",
     "text": [
      "1309 ：毛利率 16.1 < 20%，跳過\n",
      "1310 , wait  11\n"
     ]
    },
    {
     "name": "stderr",
     "output_type": "stream",
     "text": [
      "\r",
      " 12%|██████████                                                                        | 11/90 [01:58<11:15,  8.55s/it]"
     ]
    },
    {
     "name": "stdout",
     "output_type": "stream",
     "text": [
      "1310 ：毛利率 -7.9 < 20%，跳過\n",
      "1313 , wait  11\n"
     ]
    },
    {
     "name": "stderr",
     "output_type": "stream",
     "text": [
      "\r",
      " 13%|██████████▉                                                                       | 12/90 [02:01<08:41,  6.69s/it]"
     ]
    },
    {
     "name": "stdout",
     "output_type": "stream",
     "text": [
      "1313 ：毛利率 -1.8 < 20%，跳過\n",
      "1314 , wait  14\n"
     ]
    },
    {
     "name": "stderr",
     "output_type": "stream",
     "text": [
      "\r",
      " 14%|███████████▊                                                                      | 13/90 [02:02<06:25,  5.01s/it]"
     ]
    },
    {
     "name": "stdout",
     "output_type": "stream",
     "text": [
      "1314 ：毛利率 10.9 < 20%，跳過\n",
      "1321 , wait  7\n"
     ]
    },
    {
     "name": "stderr",
     "output_type": "stream",
     "text": [
      "\r",
      " 16%|████████████▊                                                                     | 14/90 [02:05<05:33,  4.38s/it]"
     ]
    },
    {
     "name": "stdout",
     "output_type": "stream",
     "text": [
      "1321 ：毛利率 10.6 < 20%，跳過\n",
      "1326 , wait  7\n"
     ]
    },
    {
     "name": "stderr",
     "output_type": "stream",
     "text": [
      "\r",
      " 17%|█████████████▋                                                                    | 15/90 [02:07<04:46,  3.82s/it]"
     ]
    },
    {
     "name": "stdout",
     "output_type": "stream",
     "text": [
      "1326 ：毛利率 9.0 < 20%，跳過\n",
      "1338 , wait  6\n"
     ]
    },
    {
     "name": "stderr",
     "output_type": "stream",
     "text": [
      "\r",
      " 18%|██████████████▌                                                                   | 16/90 [02:11<04:35,  3.72s/it]"
     ]
    },
    {
     "name": "stdout",
     "output_type": "stream",
     "text": [
      "1338 ：毛利率 19.9 < 20%，跳過\n",
      "1402 , wait  11\n"
     ]
    },
    {
     "name": "stderr",
     "output_type": "stream",
     "text": [
      "\r",
      " 19%|███████████████▍                                                                  | 17/90 [02:12<03:30,  2.88s/it]"
     ]
    },
    {
     "name": "stdout",
     "output_type": "stream",
     "text": [
      "1402 ：毛利率 18.5 < 20%，跳過\n",
      "1409 , wait  8\n",
      "1409  wait  5\n"
     ]
    },
    {
     "name": "stderr",
     "output_type": "stream",
     "text": [
      "\r",
      " 20%|████████████████▍                                                                 | 18/90 [02:27<07:50,  6.54s/it]"
     ]
    },
    {
     "name": "stdout",
     "output_type": "stream",
     "text": [
      "1434 , wait  9\n"
     ]
    },
    {
     "name": "stderr",
     "output_type": "stream",
     "text": [
      "c:\\users\\mia\\appdata\\local\\programs\\python\\python37\\lib\\site-packages\\openpyxl\\styles\\stylesheet.py:221: UserWarning: Workbook contains no default style, apply openpyxl's default\n",
      "  warn(\"Workbook contains no default style, apply openpyxl's default\")\n",
      "\r",
      " 21%|█████████████████▎                                                                | 19/90 [02:30<06:44,  5.70s/it]"
     ]
    },
    {
     "name": "stdout",
     "output_type": "stream",
     "text": [
      "1434 ：毛利率 11.1 < 20%，跳過\n",
      "1440 , wait  12\n"
     ]
    },
    {
     "name": "stderr",
     "output_type": "stream",
     "text": [
      "\r",
      " 22%|██████████████████▏                                                               | 20/90 [02:31<04:58,  4.27s/it]"
     ]
    },
    {
     "name": "stdout",
     "output_type": "stream",
     "text": [
      "1440 ：毛利率 14.8 < 20%，跳過\n",
      "1444 , wait  8\n"
     ]
    },
    {
     "name": "stderr",
     "output_type": "stream",
     "text": [
      "\r",
      " 23%|███████████████████▏                                                              | 21/90 [02:33<04:01,  3.49s/it]"
     ]
    },
    {
     "name": "stdout",
     "output_type": "stream",
     "text": [
      "1444 ：毛利率 13.0 < 20%，跳過\n",
      "1447 , wait  5\n"
     ]
    },
    {
     "name": "stderr",
     "output_type": "stream",
     "text": [
      "\r",
      " 24%|████████████████████                                                              | 22/90 [02:37<04:15,  3.75s/it]"
     ]
    },
    {
     "name": "stdout",
     "output_type": "stream",
     "text": [
      "1447 ：毛利率 3.2 < 20%，跳過\n",
      "1451 , wait  7\n"
     ]
    },
    {
     "name": "stderr",
     "output_type": "stream",
     "text": [
      "\r",
      " 26%|████████████████████▉                                                             | 23/90 [02:40<03:49,  3.43s/it]"
     ]
    },
    {
     "name": "stdout",
     "output_type": "stream",
     "text": [
      "1451 ：毛利率 9.2 < 20%，跳過\n",
      "1460 , wait  11\n"
     ]
    },
    {
     "name": "stderr",
     "output_type": "stream",
     "text": [
      "\r",
      " 27%|█████████████████████▊                                                            | 24/90 [02:43<03:37,  3.30s/it]"
     ]
    },
    {
     "name": "stdout",
     "output_type": "stream",
     "text": [
      "1460 ：毛利率 18.2 < 20%，跳過\n",
      "1464 , wait  10\n"
     ]
    },
    {
     "name": "stderr",
     "output_type": "stream",
     "text": [
      "\r",
      " 28%|██████████████████████▊                                                           | 25/90 [02:46<03:32,  3.27s/it]"
     ]
    },
    {
     "name": "stdout",
     "output_type": "stream",
     "text": [
      "1464 ：毛利率 13.9 < 20%，跳過\n",
      "1473 , wait  13\n"
     ]
    },
    {
     "name": "stderr",
     "output_type": "stream",
     "text": [
      "\r",
      " 29%|███████████████████████▋                                                          | 26/90 [02:49<03:13,  3.02s/it]"
     ]
    },
    {
     "name": "stdout",
     "output_type": "stream",
     "text": [
      "1473 ：毛利率 13.6 < 20%，跳過\n",
      "1476 , wait  13\n",
      "1476  wait  5\n"
     ]
    },
    {
     "name": "stderr",
     "output_type": "stream",
     "text": [
      "\r",
      " 30%|████████████████████████▌                                                         | 27/90 [03:09<08:38,  8.23s/it]"
     ]
    },
    {
     "name": "stdout",
     "output_type": "stream",
     "text": [
      "1477 , wait  7\n"
     ]
    },
    {
     "name": "stderr",
     "output_type": "stream",
     "text": [
      "c:\\users\\mia\\appdata\\local\\programs\\python\\python37\\lib\\site-packages\\openpyxl\\styles\\stylesheet.py:221: UserWarning: Workbook contains no default style, apply openpyxl's default\n",
      "  warn(\"Workbook contains no default style, apply openpyxl's default\")\n"
     ]
    },
    {
     "name": "stdout",
     "output_type": "stream",
     "text": [
      "1477  wait  7\n"
     ]
    },
    {
     "name": "stderr",
     "output_type": "stream",
     "text": [
      "\r",
      " 31%|█████████████████████████▌                                                        | 28/90 [03:28<11:53, 11.51s/it]"
     ]
    },
    {
     "name": "stdout",
     "output_type": "stream",
     "text": [
      "1503 , wait  9\n"
     ]
    },
    {
     "name": "stderr",
     "output_type": "stream",
     "text": [
      "c:\\users\\mia\\appdata\\local\\programs\\python\\python37\\lib\\site-packages\\openpyxl\\styles\\stylesheet.py:221: UserWarning: Workbook contains no default style, apply openpyxl's default\n",
      "  warn(\"Workbook contains no default style, apply openpyxl's default\")\n",
      "\r",
      " 32%|██████████████████████████▍                                                       | 29/90 [03:30<08:53,  8.74s/it]"
     ]
    },
    {
     "name": "stdout",
     "output_type": "stream",
     "text": [
      "1503 ：毛利率 16.5 < 20%，跳過\n",
      "1504 , wait  7\n",
      "1504  wait  9\n"
     ]
    },
    {
     "name": "stderr",
     "output_type": "stream",
     "text": [
      "\r",
      " 33%|███████████████████████████▎                                                      | 30/90 [03:48<11:30, 11.51s/it]"
     ]
    },
    {
     "name": "stdout",
     "output_type": "stream",
     "text": [
      "1507 , wait  14\n"
     ]
    },
    {
     "name": "stderr",
     "output_type": "stream",
     "text": [
      "c:\\users\\mia\\appdata\\local\\programs\\python\\python37\\lib\\site-packages\\openpyxl\\styles\\stylesheet.py:221: UserWarning: Workbook contains no default style, apply openpyxl's default\n",
      "  warn(\"Workbook contains no default style, apply openpyxl's default\")\n",
      "\r",
      " 34%|████████████████████████████▏                                                     | 31/90 [03:49<08:07,  8.25s/it]"
     ]
    },
    {
     "name": "stdout",
     "output_type": "stream",
     "text": [
      "1507 ：毛利率 17.7 < 20%，跳過\n",
      "1513 , wait  8\n",
      "1513  wait  8\n"
     ]
    },
    {
     "name": "stderr",
     "output_type": "stream",
     "text": [
      "\r",
      " 36%|█████████████████████████████▏                                                    | 32/90 [04:07<10:43, 11.10s/it]"
     ]
    },
    {
     "name": "stdout",
     "output_type": "stream",
     "text": [
      "1519 , wait  14\n"
     ]
    },
    {
     "name": "stderr",
     "output_type": "stream",
     "text": [
      "c:\\users\\mia\\appdata\\local\\programs\\python\\python37\\lib\\site-packages\\openpyxl\\styles\\stylesheet.py:221: UserWarning: Workbook contains no default style, apply openpyxl's default\n",
      "  warn(\"Workbook contains no default style, apply openpyxl's default\")\n",
      "\r",
      " 37%|██████████████████████████████                                                    | 33/90 [04:10<08:10,  8.60s/it]"
     ]
    },
    {
     "name": "stdout",
     "output_type": "stream",
     "text": [
      "1519 ：毛利率 17.8 < 20%，跳過\n",
      "1522 , wait  5\n"
     ]
    },
    {
     "name": "stderr",
     "output_type": "stream",
     "text": [
      "\r",
      " 38%|██████████████████████████████▉                                                   | 34/90 [04:12<06:24,  6.87s/it]"
     ]
    },
    {
     "name": "stdout",
     "output_type": "stream",
     "text": [
      "1522 ：毛利率 18.6 < 20%，跳過\n",
      "1532 , wait  11\n",
      "1532  wait  7\n"
     ]
    },
    {
     "name": "stderr",
     "output_type": "stream",
     "text": [
      "\r",
      " 39%|███████████████████████████████▉                                                  | 35/90 [04:35<10:42, 11.68s/it]"
     ]
    },
    {
     "name": "stdout",
     "output_type": "stream",
     "text": [
      "1560 , wait  13\n"
     ]
    },
    {
     "name": "stderr",
     "output_type": "stream",
     "text": [
      "c:\\users\\mia\\appdata\\local\\programs\\python\\python37\\lib\\site-packages\\openpyxl\\styles\\stylesheet.py:221: UserWarning: Workbook contains no default style, apply openpyxl's default\n",
      "  warn(\"Workbook contains no default style, apply openpyxl's default\")\n"
     ]
    },
    {
     "name": "stdout",
     "output_type": "stream",
     "text": [
      "1560  wait  9\n"
     ]
    },
    {
     "name": "stderr",
     "output_type": "stream",
     "text": [
      "\r",
      " 40%|████████████████████████████████▊                                                 | 36/90 [05:00<13:53, 15.43s/it]"
     ]
    },
    {
     "name": "stdout",
     "output_type": "stream",
     "text": [
      "1582 , wait  7\n"
     ]
    },
    {
     "name": "stderr",
     "output_type": "stream",
     "text": [
      "c:\\users\\mia\\appdata\\local\\programs\\python\\python37\\lib\\site-packages\\openpyxl\\styles\\stylesheet.py:221: UserWarning: Workbook contains no default style, apply openpyxl's default\n",
      "  warn(\"Workbook contains no default style, apply openpyxl's default\")\n",
      "\r",
      " 41%|█████████████████████████████████▋                                                | 37/90 [05:02<10:12, 11.55s/it]"
     ]
    },
    {
     "name": "stdout",
     "output_type": "stream",
     "text": [
      "1582 ：毛利率 14.5 < 20%，跳過\n",
      "1590 , wait  14\n",
      "1590  wait  9\n"
     ]
    },
    {
     "name": "stderr",
     "output_type": "stream",
     "text": [
      "\r",
      " 42%|██████████████████████████████████▌                                               | 38/90 [05:27<13:24, 15.46s/it]"
     ]
    },
    {
     "name": "stdout",
     "output_type": "stream",
     "text": [
      "1605 , wait  9\n"
     ]
    },
    {
     "name": "stderr",
     "output_type": "stream",
     "text": [
      "c:\\users\\mia\\appdata\\local\\programs\\python\\python37\\lib\\site-packages\\openpyxl\\styles\\stylesheet.py:221: UserWarning: Workbook contains no default style, apply openpyxl's default\n",
      "  warn(\"Workbook contains no default style, apply openpyxl's default\")\n",
      "\r",
      " 43%|███████████████████████████████████▌                                              | 39/90 [05:31<10:14, 12.04s/it]"
     ]
    },
    {
     "name": "stdout",
     "output_type": "stream",
     "text": [
      "1605 ：毛利率 18.2 < 20%，跳過\n",
      "1608 , wait  6\n"
     ]
    },
    {
     "name": "stderr",
     "output_type": "stream",
     "text": [
      "\r",
      " 44%|████████████████████████████████████▍                                             | 40/90 [05:33<07:41,  9.24s/it]"
     ]
    },
    {
     "name": "stdout",
     "output_type": "stream",
     "text": [
      "1608 ：毛利率 8.1 < 20%，跳過\n",
      "1609 , wait  14\n"
     ]
    },
    {
     "name": "stderr",
     "output_type": "stream",
     "text": [
      "\r",
      " 46%|█████████████████████████████████████▎                                            | 41/90 [05:36<05:55,  7.26s/it]"
     ]
    },
    {
     "name": "stdout",
     "output_type": "stream",
     "text": [
      "1609 ：毛利率 8.5 < 20%，跳過\n",
      "1708 , wait  14\n",
      "1708  wait  5\n"
     ]
    },
    {
     "name": "stderr",
     "output_type": "stream",
     "text": [
      "\r",
      " 47%|██████████████████████████████████████▎                                           | 42/90 [05:57<09:01, 11.28s/it]"
     ]
    },
    {
     "name": "stdout",
     "output_type": "stream",
     "text": [
      "1709 , wait  13\n"
     ]
    },
    {
     "name": "stderr",
     "output_type": "stream",
     "text": [
      "c:\\users\\mia\\appdata\\local\\programs\\python\\python37\\lib\\site-packages\\openpyxl\\styles\\stylesheet.py:221: UserWarning: Workbook contains no default style, apply openpyxl's default\n",
      "  warn(\"Workbook contains no default style, apply openpyxl's default\")\n"
     ]
    },
    {
     "name": "stdout",
     "output_type": "stream",
     "text": [
      "1709  wait  7\n"
     ]
    },
    {
     "name": "stderr",
     "output_type": "stream",
     "text": [
      "\r",
      " 48%|███████████████████████████████████████▏                                          | 43/90 [06:19<11:23, 14.55s/it]"
     ]
    },
    {
     "name": "stdout",
     "output_type": "stream",
     "text": [
      "1710 , wait  5\n"
     ]
    },
    {
     "name": "stderr",
     "output_type": "stream",
     "text": [
      "c:\\users\\mia\\appdata\\local\\programs\\python\\python37\\lib\\site-packages\\openpyxl\\styles\\stylesheet.py:221: UserWarning: Workbook contains no default style, apply openpyxl's default\n",
      "  warn(\"Workbook contains no default style, apply openpyxl's default\")\n",
      "\r",
      " 49%|████████████████████████████████████████                                          | 44/90 [06:22<08:27, 11.04s/it]"
     ]
    },
    {
     "name": "stdout",
     "output_type": "stream",
     "text": [
      "1710 ：毛利率 7.4 < 20%，跳過\n",
      "1714 , wait  7\n"
     ]
    },
    {
     "name": "stderr",
     "output_type": "stream",
     "text": [
      "\r",
      " 50%|█████████████████████████████████████████                                         | 45/90 [06:23<06:03,  8.08s/it]"
     ]
    },
    {
     "name": "stdout",
     "output_type": "stream",
     "text": [
      "1714 ：毛利率 11.0 < 20%，跳過\n",
      "1717 , wait  7\n"
     ]
    },
    {
     "name": "stderr",
     "output_type": "stream",
     "text": [
      "\r",
      " 51%|█████████████████████████████████████████▉                                        | 46/90 [06:26<04:44,  6.48s/it]"
     ]
    },
    {
     "name": "stdout",
     "output_type": "stream",
     "text": [
      "1717 ：毛利率 19.5 < 20%，跳過\n",
      "1722 , wait  14\n"
     ]
    },
    {
     "name": "stderr",
     "output_type": "stream",
     "text": [
      "\r",
      " 52%|██████████████████████████████████████████▊                                       | 47/90 [06:27<03:30,  4.90s/it]"
     ]
    },
    {
     "name": "stdout",
     "output_type": "stream",
     "text": [
      "1722 ：毛利率 5.7 < 20%，跳過\n",
      "1723 , wait  10\n"
     ]
    },
    {
     "name": "stderr",
     "output_type": "stream",
     "text": [
      "\r",
      " 53%|███████████████████████████████████████████▋                                      | 48/90 [06:36<04:15,  6.09s/it]"
     ]
    },
    {
     "name": "stdout",
     "output_type": "stream",
     "text": [
      "1723 ：毛利率 17.7 < 20%，跳過\n",
      "1725 , wait  10\n"
     ]
    },
    {
     "name": "stderr",
     "output_type": "stream",
     "text": [
      "\r",
      " 54%|████████████████████████████████████████████▋                                     | 49/90 [06:38<03:26,  5.03s/it]"
     ]
    },
    {
     "name": "stdout",
     "output_type": "stream",
     "text": [
      "1725 ：毛利率 4.4 < 20%，跳過\n",
      "1726 , wait  8\n"
     ]
    },
    {
     "name": "stderr",
     "output_type": "stream",
     "text": [
      "\r",
      " 56%|█████████████████████████████████████████████▌                                    | 50/90 [06:42<03:00,  4.50s/it]"
     ]
    },
    {
     "name": "stdout",
     "output_type": "stream",
     "text": [
      "1726 ：營益率 7.7  < 8%，跳過\n",
      "1773 , wait  8\n",
      "1773  wait  6\n"
     ]
    },
    {
     "name": "stderr",
     "output_type": "stream",
     "text": [
      "\r",
      " 57%|██████████████████████████████████████████████▍                                   | 51/90 [06:59<05:29,  8.45s/it]"
     ]
    },
    {
     "name": "stdout",
     "output_type": "stream",
     "text": [
      "1802 , wait  6\n"
     ]
    },
    {
     "name": "stderr",
     "output_type": "stream",
     "text": [
      "c:\\users\\mia\\appdata\\local\\programs\\python\\python37\\lib\\site-packages\\openpyxl\\styles\\stylesheet.py:221: UserWarning: Workbook contains no default style, apply openpyxl's default\n",
      "  warn(\"Workbook contains no default style, apply openpyxl's default\")\n"
     ]
    },
    {
     "name": "stdout",
     "output_type": "stream",
     "text": [
      "1802  wait  5\n"
     ]
    },
    {
     "name": "stderr",
     "output_type": "stream",
     "text": [
      "\r",
      " 58%|███████████████████████████████████████████████▍                                  | 52/90 [07:12<06:14,  9.84s/it]"
     ]
    },
    {
     "name": "stdout",
     "output_type": "stream",
     "text": [
      "1904 , wait  6\n"
     ]
    },
    {
     "name": "stderr",
     "output_type": "stream",
     "text": [
      "c:\\users\\mia\\appdata\\local\\programs\\python\\python37\\lib\\site-packages\\openpyxl\\styles\\stylesheet.py:221: UserWarning: Workbook contains no default style, apply openpyxl's default\n",
      "  warn(\"Workbook contains no default style, apply openpyxl's default\")\n",
      "\r",
      " 59%|████████████████████████████████████████████████▎                                 | 53/90 [07:15<04:44,  7.70s/it]"
     ]
    },
    {
     "name": "stdout",
     "output_type": "stream",
     "text": [
      "1904 ：毛利率 18.4 < 20%，跳過\n",
      "2002 , wait  9\n",
      "2002  wait  6\n"
     ]
    },
    {
     "name": "stderr",
     "output_type": "stream",
     "text": [
      "\r",
      " 60%|█████████████████████████████████████████████████▏                                | 54/90 [07:34<06:37, 11.04s/it]"
     ]
    },
    {
     "name": "stdout",
     "output_type": "stream",
     "text": [
      "2006 , wait  6\n"
     ]
    },
    {
     "name": "stderr",
     "output_type": "stream",
     "text": [
      "c:\\users\\mia\\appdata\\local\\programs\\python\\python37\\lib\\site-packages\\openpyxl\\styles\\stylesheet.py:221: UserWarning: Workbook contains no default style, apply openpyxl's default\n",
      "  warn(\"Workbook contains no default style, apply openpyxl's default\")\n",
      "\r",
      " 61%|██████████████████████████████████████████████████                                | 55/90 [07:38<05:14,  8.99s/it]"
     ]
    },
    {
     "name": "stdout",
     "output_type": "stream",
     "text": [
      "2006 ：毛利率 14.9 < 20%，跳過\n",
      "2010 , wait  11\n"
     ]
    },
    {
     "name": "stderr",
     "output_type": "stream",
     "text": [
      "\r",
      " 62%|███████████████████████████████████████████████████                               | 56/90 [07:41<04:04,  7.18s/it]"
     ]
    },
    {
     "name": "stdout",
     "output_type": "stream",
     "text": [
      "2010 ：毛利率 6.7 < 20%，跳過\n",
      "2012 , wait  11\n"
     ]
    },
    {
     "name": "stderr",
     "output_type": "stream",
     "text": [
      "\r",
      " 63%|███████████████████████████████████████████████████▉                              | 57/90 [07:42<02:58,  5.40s/it]"
     ]
    },
    {
     "name": "stdout",
     "output_type": "stream",
     "text": [
      "2012 ：毛利率 16.4 < 20%，跳過\n",
      "2013 , wait  7\n"
     ]
    },
    {
     "name": "stderr",
     "output_type": "stream",
     "text": [
      "\r",
      " 64%|████████████████████████████████████████████████████▊                             | 58/90 [07:45<02:26,  4.57s/it]"
     ]
    },
    {
     "name": "stdout",
     "output_type": "stream",
     "text": [
      "2013 ：毛利率 7.1 < 20%，跳過\n",
      "2015 , wait  5\n"
     ]
    },
    {
     "name": "stderr",
     "output_type": "stream",
     "text": [
      "\r",
      " 66%|█████████████████████████████████████████████████████▊                            | 59/90 [07:46<01:50,  3.57s/it]"
     ]
    },
    {
     "name": "stdout",
     "output_type": "stream",
     "text": [
      "2015 ：毛利率 15.5 < 20%，跳過\n",
      "2023 , wait  8\n"
     ]
    },
    {
     "name": "stderr",
     "output_type": "stream",
     "text": [
      "\r",
      " 67%|██████████████████████████████████████████████████████▋                           | 60/90 [07:49<01:39,  3.31s/it]"
     ]
    },
    {
     "name": "stdout",
     "output_type": "stream",
     "text": [
      "2023 ：毛利率 12.4 < 20%，跳過\n",
      "2027 , wait  12\n",
      "2027  wait  5\n"
     ]
    },
    {
     "name": "stderr",
     "output_type": "stream",
     "text": [
      "\r",
      " 68%|███████████████████████████████████████████████████████▌                          | 61/90 [08:08<03:54,  8.08s/it]"
     ]
    },
    {
     "name": "stdout",
     "output_type": "stream",
     "text": [
      "2028 , wait  6\n"
     ]
    },
    {
     "name": "stderr",
     "output_type": "stream",
     "text": [
      "c:\\users\\mia\\appdata\\local\\programs\\python\\python37\\lib\\site-packages\\openpyxl\\styles\\stylesheet.py:221: UserWarning: Workbook contains no default style, apply openpyxl's default\n",
      "  warn(\"Workbook contains no default style, apply openpyxl's default\")\n",
      "\r",
      " 69%|████████████████████████████████████████████████████████▍                         | 62/90 [08:11<03:00,  6.43s/it]"
     ]
    },
    {
     "name": "stdout",
     "output_type": "stream",
     "text": [
      "2028 ：毛利率 16.5 < 20%，跳過\n",
      "2030 , wait  13\n",
      "2030  wait  7\n"
     ]
    },
    {
     "name": "stderr",
     "output_type": "stream",
     "text": [
      "\r",
      " 70%|█████████████████████████████████████████████████████████▍                        | 63/90 [08:34<05:13, 11.62s/it]"
     ]
    },
    {
     "name": "stdout",
     "output_type": "stream",
     "text": [
      "2031 , wait  9\n"
     ]
    },
    {
     "name": "stderr",
     "output_type": "stream",
     "text": [
      "c:\\users\\mia\\appdata\\local\\programs\\python\\python37\\lib\\site-packages\\openpyxl\\styles\\stylesheet.py:221: UserWarning: Workbook contains no default style, apply openpyxl's default\n",
      "  warn(\"Workbook contains no default style, apply openpyxl's default\")\n",
      "\r",
      " 71%|██████████████████████████████████████████████████████████▎                       | 64/90 [08:35<03:40,  8.49s/it]"
     ]
    },
    {
     "name": "stdout",
     "output_type": "stream",
     "text": [
      "2031 ：毛利率 18.0 < 20%，跳過\n",
      "2034 , wait  5\n"
     ]
    },
    {
     "name": "stderr",
     "output_type": "stream",
     "text": [
      "\r",
      " 72%|███████████████████████████████████████████████████████████▏                      | 65/90 [08:39<02:58,  7.14s/it]"
     ]
    },
    {
     "name": "stdout",
     "output_type": "stream",
     "text": [
      "2034 ：毛利率 17.9 < 20%，跳過\n",
      "2038 , wait  11\n"
     ]
    },
    {
     "name": "stderr",
     "output_type": "stream",
     "text": [
      "\r",
      " 73%|████████████████████████████████████████████████████████████▏                     | 66/90 [08:42<02:17,  5.75s/it]"
     ]
    },
    {
     "name": "stdout",
     "output_type": "stream",
     "text": [
      "2038 ：毛利率 7.6 < 20%，跳過\n",
      "2049 , wait  6\n",
      "2049  wait  8\n"
     ]
    },
    {
     "name": "stderr",
     "output_type": "stream",
     "text": [
      "\r",
      " 74%|█████████████████████████████████████████████████████████████                     | 67/90 [08:58<03:25,  8.92s/it]"
     ]
    },
    {
     "name": "stdout",
     "output_type": "stream",
     "text": [
      "2062 , wait  7\n"
     ]
    },
    {
     "name": "stderr",
     "output_type": "stream",
     "text": [
      "c:\\users\\mia\\appdata\\local\\programs\\python\\python37\\lib\\site-packages\\openpyxl\\styles\\stylesheet.py:221: UserWarning: Workbook contains no default style, apply openpyxl's default\n",
      "  warn(\"Workbook contains no default style, apply openpyxl's default\")\n",
      "\r",
      " 76%|█████████████████████████████████████████████████████████████▉                    | 68/90 [09:01<02:35,  7.08s/it]"
     ]
    },
    {
     "name": "stdout",
     "output_type": "stream",
     "text": [
      "2062 ：毛利率 17.5 < 20%，跳過\n",
      "2069 , wait  10\n"
     ]
    },
    {
     "name": "stderr",
     "output_type": "stream",
     "text": [
      "\r",
      " 77%|██████████████████████████████████████████████████████████████▊                   | 69/90 [09:02<01:51,  5.29s/it]"
     ]
    },
    {
     "name": "stdout",
     "output_type": "stream",
     "text": [
      "2069 ：毛利率 14.8 < 20%，跳過\n",
      "2106 , wait  7\n"
     ]
    },
    {
     "name": "stderr",
     "output_type": "stream",
     "text": [
      "\r",
      " 78%|███████████████████████████████████████████████████████████████▊                  | 70/90 [09:05<01:29,  4.49s/it]"
     ]
    },
    {
     "name": "stdout",
     "output_type": "stream",
     "text": [
      "2106 ：毛利率 18.1 < 20%，跳過\n",
      "2206 , wait  11\n"
     ]
    },
    {
     "name": "stderr",
     "output_type": "stream",
     "text": [
      "\r",
      " 79%|████████████████████████████████████████████████████████████████▋                 | 71/90 [09:06<01:06,  3.50s/it]"
     ]
    },
    {
     "name": "stdout",
     "output_type": "stream",
     "text": [
      "2206 ：毛利率 18.3 < 20%，跳過\n",
      "2301 , wait  10\n"
     ]
    },
    {
     "name": "stderr",
     "output_type": "stream",
     "text": [
      "\r",
      " 80%|█████████████████████████████████████████████████████████████████▌                | 72/90 [09:07<00:52,  2.90s/it]"
     ]
    },
    {
     "name": "stdout",
     "output_type": "stream",
     "text": [
      "2301 ：毛利率 17.3 < 20%，跳過\n",
      "2303 , wait  9\n",
      "2303  wait  9\n"
     ]
    },
    {
     "name": "stderr",
     "output_type": "stream",
     "text": [
      "\r",
      " 81%|██████████████████████████████████████████████████████████████████▌               | 73/90 [09:27<02:15,  7.97s/it]"
     ]
    },
    {
     "name": "stdout",
     "output_type": "stream",
     "text": [
      "2308 , wait  6\n"
     ]
    },
    {
     "name": "stderr",
     "output_type": "stream",
     "text": [
      "c:\\users\\mia\\appdata\\local\\programs\\python\\python37\\lib\\site-packages\\openpyxl\\styles\\stylesheet.py:221: UserWarning: Workbook contains no default style, apply openpyxl's default\n",
      "  warn(\"Workbook contains no default style, apply openpyxl's default\")\n"
     ]
    },
    {
     "name": "stdout",
     "output_type": "stream",
     "text": [
      "2308  wait  6\n"
     ]
    },
    {
     "name": "stderr",
     "output_type": "stream",
     "text": [
      "\r",
      " 82%|███████████████████████████████████████████████████████████████████▍              | 74/90 [09:42<02:39,  9.95s/it]"
     ]
    },
    {
     "name": "stdout",
     "output_type": "stream",
     "text": [
      "2312 , wait  11\n"
     ]
    },
    {
     "name": "stderr",
     "output_type": "stream",
     "text": [
      "c:\\users\\mia\\appdata\\local\\programs\\python\\python37\\lib\\site-packages\\openpyxl\\styles\\stylesheet.py:221: UserWarning: Workbook contains no default style, apply openpyxl's default\n",
      "  warn(\"Workbook contains no default style, apply openpyxl's default\")\n",
      "\r",
      " 83%|████████████████████████████████████████████████████████████████████▎             | 75/90 [09:45<01:56,  7.77s/it]"
     ]
    },
    {
     "name": "stdout",
     "output_type": "stream",
     "text": [
      "2312 ：毛利率 4.5 < 20%，跳過\n",
      "2313 , wait  8\n"
     ]
    },
    {
     "name": "stderr",
     "output_type": "stream",
     "text": [
      "\r",
      " 84%|█████████████████████████████████████████████████████████████████████▏            | 76/90 [09:45<01:19,  5.66s/it]"
     ]
    },
    {
     "name": "stdout",
     "output_type": "stream",
     "text": [
      "2313 ：毛利率 19.2 < 20%，跳過\n",
      "2317 , wait  5\n"
     ]
    },
    {
     "name": "stderr",
     "output_type": "stream",
     "text": [
      "\r",
      " 86%|██████████████████████████████████████████████████████████████████████▏           | 77/90 [09:46<00:55,  4.28s/it]"
     ]
    },
    {
     "name": "stdout",
     "output_type": "stream",
     "text": [
      "2317 ：毛利率 6.0 < 20%，跳過\n",
      "2324 , wait  10\n"
     ]
    },
    {
     "name": "stderr",
     "output_type": "stream",
     "text": [
      "\r",
      " 87%|███████████████████████████████████████████████████████████████████████           | 78/90 [09:49<00:45,  3.78s/it]"
     ]
    },
    {
     "name": "stdout",
     "output_type": "stream",
     "text": [
      "2324 ：毛利率 3.4 < 20%，跳過\n",
      "2327 , wait  7\n",
      "2327  wait  6\n"
     ]
    },
    {
     "name": "stderr",
     "output_type": "stream",
     "text": [
      "\r",
      " 88%|███████████████████████████████████████████████████████████████████████▉          | 79/90 [10:04<01:19,  7.27s/it]"
     ]
    },
    {
     "name": "stdout",
     "output_type": "stream",
     "text": [
      "2328 , wait  12\n"
     ]
    },
    {
     "name": "stderr",
     "output_type": "stream",
     "text": [
      "c:\\users\\mia\\appdata\\local\\programs\\python\\python37\\lib\\site-packages\\openpyxl\\styles\\stylesheet.py:221: UserWarning: Workbook contains no default style, apply openpyxl's default\n",
      "  warn(\"Workbook contains no default style, apply openpyxl's default\")\n",
      "\r",
      " 89%|████████████████████████████████████████████████████████████████████████▉         | 80/90 [10:06<00:54,  5.43s/it]"
     ]
    },
    {
     "name": "stdout",
     "output_type": "stream",
     "text": [
      "2328 ：毛利率 10.7 < 20%，跳過\n",
      "2330 , wait  8\n",
      "2330  wait  9\n"
     ]
    },
    {
     "name": "stderr",
     "output_type": "stream",
     "text": [
      "\r",
      " 90%|█████████████████████████████████████████████████████████████████████████▊        | 81/90 [10:25<01:25,  9.54s/it]"
     ]
    },
    {
     "name": "stdout",
     "output_type": "stream",
     "text": [
      "2331 , wait  5\n"
     ]
    },
    {
     "name": "stderr",
     "output_type": "stream",
     "text": [
      "c:\\users\\mia\\appdata\\local\\programs\\python\\python37\\lib\\site-packages\\openpyxl\\styles\\stylesheet.py:221: UserWarning: Workbook contains no default style, apply openpyxl's default\n",
      "  warn(\"Workbook contains no default style, apply openpyxl's default\")\n",
      "\r",
      " 91%|██████████████████████████████████████████████████████████████████████████▋       | 82/90 [10:26<00:56,  7.01s/it]"
     ]
    },
    {
     "name": "stdout",
     "output_type": "stream",
     "text": [
      "2331 ：毛利率 8.3 < 20%，跳過\n",
      "2337 , wait  13\n",
      "2337  wait  6\n"
     ]
    },
    {
     "name": "stderr",
     "output_type": "stream",
     "text": [
      "\r",
      " 92%|███████████████████████████████████████████████████████████████████████████▌      | 83/90 [10:47<01:18, 11.28s/it]"
     ]
    },
    {
     "name": "stdout",
     "output_type": "stream",
     "text": [
      "2338 , wait  11\n"
     ]
    },
    {
     "name": "stderr",
     "output_type": "stream",
     "text": [
      "c:\\users\\mia\\appdata\\local\\programs\\python\\python37\\lib\\site-packages\\openpyxl\\styles\\stylesheet.py:221: UserWarning: Workbook contains no default style, apply openpyxl's default\n",
      "  warn(\"Workbook contains no default style, apply openpyxl's default\")\n"
     ]
    },
    {
     "name": "stdout",
     "output_type": "stream",
     "text": [
      "2338  wait  8\n"
     ]
    },
    {
     "name": "stderr",
     "output_type": "stream",
     "text": [
      "\r",
      " 93%|████████████████████████████████████████████████████████████████████████████▌     | 84/90 [11:10<01:28, 14.69s/it]"
     ]
    },
    {
     "name": "stdout",
     "output_type": "stream",
     "text": [
      "2344 , wait  10\n"
     ]
    },
    {
     "name": "stderr",
     "output_type": "stream",
     "text": [
      "c:\\users\\mia\\appdata\\local\\programs\\python\\python37\\lib\\site-packages\\openpyxl\\styles\\stylesheet.py:221: UserWarning: Workbook contains no default style, apply openpyxl's default\n",
      "  warn(\"Workbook contains no default style, apply openpyxl's default\")\n"
     ]
    },
    {
     "name": "stdout",
     "output_type": "stream",
     "text": [
      "2344  wait  7\n"
     ]
    },
    {
     "name": "stderr",
     "output_type": "stream",
     "text": [
      "\r",
      " 94%|█████████████████████████████████████████████████████████████████████████████▍    | 85/90 [11:29<01:20, 16.09s/it]"
     ]
    },
    {
     "name": "stdout",
     "output_type": "stream",
     "text": [
      "2347 , wait  13\n"
     ]
    },
    {
     "name": "stderr",
     "output_type": "stream",
     "text": [
      "c:\\users\\mia\\appdata\\local\\programs\\python\\python37\\lib\\site-packages\\openpyxl\\styles\\stylesheet.py:221: UserWarning: Workbook contains no default style, apply openpyxl's default\n",
      "  warn(\"Workbook contains no default style, apply openpyxl's default\")\n",
      "\r",
      " 96%|██████████████████████████████████████████████████████████████████████████████▎   | 86/90 [11:30<00:46, 11.60s/it]"
     ]
    },
    {
     "name": "stdout",
     "output_type": "stream",
     "text": [
      "2347 ：毛利率 4.1 < 20%，跳過\n",
      "2351 , wait  14\n"
     ]
    },
    {
     "name": "stderr",
     "output_type": "stream",
     "text": [
      "\r",
      " 97%|███████████████████████████████████████████████████████████████████████████████▎  | 87/90 [11:31<00:25,  8.47s/it]"
     ]
    },
    {
     "name": "stdout",
     "output_type": "stream",
     "text": [
      "2351 ：毛利率 16.9 < 20%，跳過\n",
      "2352 , wait  5\n"
     ]
    },
    {
     "name": "stderr",
     "output_type": "stream",
     "text": [
      "\r",
      " 98%|████████████████████████████████████████████████████████████████████████████████▏ | 88/90 [11:32<00:12,  6.29s/it]"
     ]
    },
    {
     "name": "stdout",
     "output_type": "stream",
     "text": [
      "2352 ：毛利率 13.7 < 20%，跳過\n",
      "2353 , wait  9\n"
     ]
    },
    {
     "name": "stderr",
     "output_type": "stream",
     "text": [
      "\r",
      " 99%|█████████████████████████████████████████████████████████████████████████████████ | 89/90 [11:34<00:04,  4.77s/it]"
     ]
    },
    {
     "name": "stdout",
     "output_type": "stream",
     "text": [
      "2353 ：毛利率 11.5 < 20%，跳過\n",
      "2354 , wait  12\n"
     ]
    },
    {
     "name": "stderr",
     "output_type": "stream",
     "text": [
      "100%|██████████████████████████████████████████████████████████████████████████████████| 90/90 [11:36<00:00,  7.74s/it]"
     ]
    },
    {
     "name": "stdout",
     "output_type": "stream",
     "text": [
      "2354 ：毛利率 6.9 < 20%，跳過\n"
     ]
    },
    {
     "name": "stderr",
     "output_type": "stream",
     "text": [
      "\n",
      "  0%|                                                                                           | 0/90 [00:00<?, ?it/s]"
     ]
    },
    {
     "name": "stdout",
     "output_type": "stream",
     "text": [
      "EPS檢查 29 筆\n",
      " ['1101', '1102', '1301', '1303', '1304', '1308', '1409', '1476', '1477', '1504', '1513', '1532', '1560', '1590', '1708', '1709', '1773', '1802', '2002', '2027', '2030', '2049', '2303', '2308', '2327', '2330', '2337', '2338', '2344']\n",
      "Check: 1\n",
      "2356 , wait  11\n"
     ]
    },
    {
     "name": "stderr",
     "output_type": "stream",
     "text": [
      "\r",
      "  1%|▉                                                                                  | 1/90 [00:00<01:04,  1.39it/s]"
     ]
    },
    {
     "name": "stdout",
     "output_type": "stream",
     "text": [
      "2356 ：毛利率 4.1 < 20%，跳過\n",
      "2357 , wait  12\n",
      "2357  wait  9\n"
     ]
    },
    {
     "name": "stderr",
     "output_type": "stream",
     "text": [
      "\r",
      "  2%|█▊                                                                                 | 2/90 [00:25<21:40, 14.78s/it]"
     ]
    },
    {
     "name": "stdout",
     "output_type": "stream",
     "text": [
      "2362 , wait  5\n"
     ]
    },
    {
     "name": "stderr",
     "output_type": "stream",
     "text": [
      "c:\\users\\mia\\appdata\\local\\programs\\python\\python37\\lib\\site-packages\\openpyxl\\styles\\stylesheet.py:221: UserWarning: Workbook contains no default style, apply openpyxl's default\n",
      "  warn(\"Workbook contains no default style, apply openpyxl's default\")\n",
      "\r",
      "  3%|██▊                                                                                | 3/90 [00:29<14:14,  9.82s/it]"
     ]
    },
    {
     "name": "stdout",
     "output_type": "stream",
     "text": [
      "2362 ：毛利率 17.6 < 20%，跳過\n",
      "2368 , wait  11\n",
      "2368  wait  5\n"
     ]
    },
    {
     "name": "stderr",
     "output_type": "stream",
     "text": [
      "\r",
      "  4%|███▋                                                                               | 4/90 [00:49<19:44, 13.78s/it]"
     ]
    },
    {
     "name": "stdout",
     "output_type": "stream",
     "text": [
      "2371 , wait  5\n"
     ]
    },
    {
     "name": "stderr",
     "output_type": "stream",
     "text": [
      "c:\\users\\mia\\appdata\\local\\programs\\python\\python37\\lib\\site-packages\\openpyxl\\styles\\stylesheet.py:221: UserWarning: Workbook contains no default style, apply openpyxl's default\n",
      "  warn(\"Workbook contains no default style, apply openpyxl's default\")\n",
      "\r",
      "  6%|████▌                                                                              | 5/90 [00:50<13:06,  9.26s/it]"
     ]
    },
    {
     "name": "stdout",
     "output_type": "stream",
     "text": [
      "2371 ：營益率 -1.3  < 8%，跳過\n",
      "2376 , wait  10\n",
      "2376  wait  9\n"
     ]
    },
    {
     "name": "stderr",
     "output_type": "stream",
     "text": [
      "\r",
      "  7%|█████▌                                                                             | 6/90 [01:11<18:28, 13.19s/it]"
     ]
    },
    {
     "name": "stdout",
     "output_type": "stream",
     "text": [
      "2377 , wait  9\n"
     ]
    },
    {
     "name": "stderr",
     "output_type": "stream",
     "text": [
      "c:\\users\\mia\\appdata\\local\\programs\\python\\python37\\lib\\site-packages\\openpyxl\\styles\\stylesheet.py:221: UserWarning: Workbook contains no default style, apply openpyxl's default\n",
      "  warn(\"Workbook contains no default style, apply openpyxl's default\")\n",
      "\r",
      "  8%|██████▍                                                                            | 7/90 [01:11<12:37,  9.13s/it]"
     ]
    },
    {
     "name": "stdout",
     "output_type": "stream",
     "text": [
      "2377 ：毛利率 17.7 < 20%，跳過\n",
      "2379 , wait  10\n",
      "2379  wait  9\n"
     ]
    },
    {
     "name": "stderr",
     "output_type": "stream",
     "text": [
      "\r",
      "  9%|███████▍                                                                           | 8/90 [01:33<17:47, 13.02s/it]"
     ]
    },
    {
     "name": "stdout",
     "output_type": "stream",
     "text": [
      "2382 , wait  6\n"
     ]
    },
    {
     "name": "stderr",
     "output_type": "stream",
     "text": [
      "c:\\users\\mia\\appdata\\local\\programs\\python\\python37\\lib\\site-packages\\openpyxl\\styles\\stylesheet.py:221: UserWarning: Workbook contains no default style, apply openpyxl's default\n",
      "  warn(\"Workbook contains no default style, apply openpyxl's default\")\n",
      "\r",
      " 10%|████████▎                                                                          | 9/90 [01:35<13:08,  9.74s/it]"
     ]
    },
    {
     "name": "stdout",
     "output_type": "stream",
     "text": [
      "2382 ：毛利率 6.0 < 20%，跳過\n",
      "2383 , wait  14\n",
      "2383  wait  6\n"
     ]
    },
    {
     "name": "stderr",
     "output_type": "stream",
     "text": [
      "\r",
      " 11%|█████████                                                                         | 10/90 [01:57<18:01, 13.52s/it]"
     ]
    },
    {
     "name": "stdout",
     "output_type": "stream",
     "text": [
      "2385 , wait  5\n"
     ]
    },
    {
     "name": "stderr",
     "output_type": "stream",
     "text": [
      "c:\\users\\mia\\appdata\\local\\programs\\python\\python37\\lib\\site-packages\\openpyxl\\styles\\stylesheet.py:221: UserWarning: Workbook contains no default style, apply openpyxl's default\n",
      "  warn(\"Workbook contains no default style, apply openpyxl's default\")\n",
      "\r",
      " 12%|██████████                                                                        | 11/90 [02:00<13:21, 10.14s/it]"
     ]
    },
    {
     "name": "stdout",
     "output_type": "stream",
     "text": [
      "2385 ：毛利率 17.7 < 20%，跳過\n",
      "2387 , wait  6\n"
     ]
    },
    {
     "name": "stderr",
     "output_type": "stream",
     "text": [
      "\r",
      " 13%|██████████▉                                                                       | 12/90 [02:01<09:37,  7.40s/it]"
     ]
    },
    {
     "name": "stdout",
     "output_type": "stream",
     "text": [
      "2387 ：毛利率 9.8 < 20%，跳過\n",
      "2388 , wait  6\n"
     ]
    },
    {
     "name": "stderr",
     "output_type": "stream",
     "text": [
      "\r",
      " 14%|███████████▊                                                                      | 13/90 [02:02<07:11,  5.60s/it]"
     ]
    },
    {
     "name": "stdout",
     "output_type": "stream",
     "text": [
      "2388 ：營益率 -24.4  < 8%，跳過\n",
      "2395 , wait  11\n",
      "2395  wait  5\n"
     ]
    },
    {
     "name": "stderr",
     "output_type": "stream",
     "text": [
      "\r",
      " 16%|████████████▊                                                                     | 14/90 [02:22<12:28,  9.85s/it]"
     ]
    },
    {
     "name": "stdout",
     "output_type": "stream",
     "text": [
      "2397 , wait  11\n"
     ]
    },
    {
     "name": "stderr",
     "output_type": "stream",
     "text": [
      "c:\\users\\mia\\appdata\\local\\programs\\python\\python37\\lib\\site-packages\\openpyxl\\styles\\stylesheet.py:221: UserWarning: Workbook contains no default style, apply openpyxl's default\n",
      "  warn(\"Workbook contains no default style, apply openpyxl's default\")\n",
      "\r",
      " 17%|█████████████▋                                                                    | 15/90 [02:23<09:04,  7.25s/it]"
     ]
    },
    {
     "name": "stdout",
     "output_type": "stream",
     "text": [
      "2397 ：毛利率 15.8 < 20%，跳過\n",
      "2401 , wait  5\n",
      "2401  wait  7\n"
     ]
    },
    {
     "name": "stderr",
     "output_type": "stream",
     "text": [
      "\r",
      " 18%|██████████████▌                                                                   | 16/90 [02:38<11:33,  9.38s/it]"
     ]
    },
    {
     "name": "stdout",
     "output_type": "stream",
     "text": [
      "2404 , wait  7\n"
     ]
    },
    {
     "name": "stderr",
     "output_type": "stream",
     "text": [
      "c:\\users\\mia\\appdata\\local\\programs\\python\\python37\\lib\\site-packages\\openpyxl\\styles\\stylesheet.py:221: UserWarning: Workbook contains no default style, apply openpyxl's default\n",
      "  warn(\"Workbook contains no default style, apply openpyxl's default\")\n",
      "\r",
      " 19%|███████████████▍                                                                  | 17/90 [02:41<09:20,  7.68s/it]"
     ]
    },
    {
     "name": "stdout",
     "output_type": "stream",
     "text": [
      "2404 ：毛利率 14.9 < 20%，跳過\n",
      "2408 , wait  8\n",
      "2408  wait  9\n"
     ]
    },
    {
     "name": "stderr",
     "output_type": "stream",
     "text": [
      "\r",
      " 20%|████████████████▍                                                                 | 18/90 [03:00<13:15, 11.05s/it]"
     ]
    },
    {
     "name": "stdout",
     "output_type": "stream",
     "text": [
      "2419 , wait  14\n"
     ]
    },
    {
     "name": "stderr",
     "output_type": "stream",
     "text": [
      "c:\\users\\mia\\appdata\\local\\programs\\python\\python37\\lib\\site-packages\\openpyxl\\styles\\stylesheet.py:221: UserWarning: Workbook contains no default style, apply openpyxl's default\n",
      "  warn(\"Workbook contains no default style, apply openpyxl's default\")\n",
      "\r",
      " 21%|█████████████████▎                                                                | 19/90 [03:01<09:32,  8.06s/it]"
     ]
    },
    {
     "name": "stdout",
     "output_type": "stream",
     "text": [
      "2419 ：營益率 4.6  < 8%，跳過\n",
      "2421 , wait  12\n"
     ]
    },
    {
     "name": "stderr",
     "output_type": "stream",
     "text": [
      "\r",
      " 22%|██████████████████▏                                                               | 20/90 [03:02<06:58,  5.98s/it]"
     ]
    },
    {
     "name": "stdout",
     "output_type": "stream",
     "text": [
      "2421 ：毛利率 19.5 < 20%，跳過\n",
      "2428 , wait  6\n",
      "2428  wait  8\n"
     ]
    },
    {
     "name": "stderr",
     "output_type": "stream",
     "text": [
      "\r",
      " 23%|███████████████████▏                                                              | 21/90 [03:19<10:23,  9.04s/it]"
     ]
    },
    {
     "name": "stdout",
     "output_type": "stream",
     "text": [
      "2454 , wait  10\n"
     ]
    },
    {
     "name": "stderr",
     "output_type": "stream",
     "text": [
      "c:\\users\\mia\\appdata\\local\\programs\\python\\python37\\lib\\site-packages\\openpyxl\\styles\\stylesheet.py:221: UserWarning: Workbook contains no default style, apply openpyxl's default\n",
      "  warn(\"Workbook contains no default style, apply openpyxl's default\")\n"
     ]
    },
    {
     "name": "stdout",
     "output_type": "stream",
     "text": [
      "2454  wait  9\n"
     ]
    },
    {
     "name": "stderr",
     "output_type": "stream",
     "text": [
      "\r",
      " 24%|████████████████████                                                              | 22/90 [03:40<14:29, 12.79s/it]"
     ]
    },
    {
     "name": "stdout",
     "output_type": "stream",
     "text": [
      "2464 , wait  9\n"
     ]
    },
    {
     "name": "stderr",
     "output_type": "stream",
     "text": [
      "c:\\users\\mia\\appdata\\local\\programs\\python\\python37\\lib\\site-packages\\openpyxl\\styles\\stylesheet.py:221: UserWarning: Workbook contains no default style, apply openpyxl's default\n",
      "  warn(\"Workbook contains no default style, apply openpyxl's default\")\n",
      "\r",
      " 26%|████████████████████▉                                                             | 23/90 [03:45<11:28, 10.27s/it]"
     ]
    },
    {
     "name": "stdout",
     "output_type": "stream",
     "text": [
      "2464 ：毛利率 17.7 < 20%，跳過\n",
      "2472 , wait  6\n",
      "2472  wait  8\n"
     ]
    },
    {
     "name": "stderr",
     "output_type": "stream",
     "text": [
      "\r",
      " 27%|█████████████████████▊                                                            | 24/90 [04:02<13:44, 12.50s/it]"
     ]
    },
    {
     "name": "stdout",
     "output_type": "stream",
     "text": [
      "2481 , wait  11\n"
     ]
    },
    {
     "name": "stderr",
     "output_type": "stream",
     "text": [
      "c:\\users\\mia\\appdata\\local\\programs\\python\\python37\\lib\\site-packages\\openpyxl\\styles\\stylesheet.py:221: UserWarning: Workbook contains no default style, apply openpyxl's default\n",
      "  warn(\"Workbook contains no default style, apply openpyxl's default\")\n"
     ]
    },
    {
     "name": "stdout",
     "output_type": "stream",
     "text": [
      "2481  wait  5\n"
     ]
    },
    {
     "name": "stderr",
     "output_type": "stream",
     "text": [
      "\r",
      " 28%|██████████████████████▊                                                           | 25/90 [04:21<15:26, 14.26s/it]"
     ]
    },
    {
     "name": "stdout",
     "output_type": "stream",
     "text": [
      "2511 , wait  11\n"
     ]
    },
    {
     "name": "stderr",
     "output_type": "stream",
     "text": [
      "c:\\users\\mia\\appdata\\local\\programs\\python\\python37\\lib\\site-packages\\openpyxl\\styles\\stylesheet.py:221: UserWarning: Workbook contains no default style, apply openpyxl's default\n",
      "  warn(\"Workbook contains no default style, apply openpyxl's default\")\n",
      "\r",
      " 29%|███████████████████████▋                                                          | 26/90 [04:22<11:05, 10.40s/it]"
     ]
    },
    {
     "name": "stdout",
     "output_type": "stream",
     "text": [
      "2511 ：毛利率 18.6 < 20%，跳過\n",
      "2514 , wait  11\n"
     ]
    },
    {
     "name": "stderr",
     "output_type": "stream",
     "text": [
      "\r",
      " 30%|████████████████████████▌                                                         | 27/90 [04:25<08:26,  8.05s/it]"
     ]
    },
    {
     "name": "stdout",
     "output_type": "stream",
     "text": [
      "2514 ：毛利率 8.9 < 20%，跳過\n",
      "2535 , wait  14\n"
     ]
    },
    {
     "name": "stderr",
     "output_type": "stream",
     "text": [
      "\r",
      " 31%|█████████████████████████▌                                                        | 28/90 [04:27<06:37,  6.40s/it]"
     ]
    },
    {
     "name": "stdout",
     "output_type": "stream",
     "text": [
      "2535 ：毛利率 13.0 < 20%，跳過\n",
      "2545 , wait  10\n",
      "2545  wait  9\n"
     ]
    },
    {
     "name": "stderr",
     "output_type": "stream",
     "text": [
      "\r",
      " 32%|██████████████████████████▍                                                       | 29/90 [04:48<10:59, 10.82s/it]"
     ]
    },
    {
     "name": "stdout",
     "output_type": "stream",
     "text": [
      "2546 , wait  14\n"
     ]
    },
    {
     "name": "stderr",
     "output_type": "stream",
     "text": [
      "c:\\users\\mia\\appdata\\local\\programs\\python\\python37\\lib\\site-packages\\openpyxl\\styles\\stylesheet.py:221: UserWarning: Workbook contains no default style, apply openpyxl's default\n",
      "  warn(\"Workbook contains no default style, apply openpyxl's default\")\n",
      "\r",
      " 33%|███████████████████████████▎                                                      | 30/90 [04:52<08:46,  8.78s/it]"
     ]
    },
    {
     "name": "stdout",
     "output_type": "stream",
     "text": [
      "2546 ：毛利率 10.7 < 20%，跳過\n",
      "2548 , wait  7\n",
      "2548  wait  7\n"
     ]
    },
    {
     "name": "stderr",
     "output_type": "stream",
     "text": [
      "\r",
      " 34%|████████████████████████████▏                                                     | 31/90 [05:08<10:42, 10.90s/it]"
     ]
    },
    {
     "name": "stdout",
     "output_type": "stream",
     "text": [
      "2597 , wait  5\n"
     ]
    },
    {
     "name": "stderr",
     "output_type": "stream",
     "text": [
      "c:\\users\\mia\\appdata\\local\\programs\\python\\python37\\lib\\site-packages\\openpyxl\\styles\\stylesheet.py:221: UserWarning: Workbook contains no default style, apply openpyxl's default\n",
      "  warn(\"Workbook contains no default style, apply openpyxl's default\")\n",
      "\r",
      " 36%|█████████████████████████████▏                                                    | 32/90 [05:10<08:01,  8.30s/it]"
     ]
    },
    {
     "name": "stdout",
     "output_type": "stream",
     "text": [
      "2597 ：毛利率 15.7 < 20%，跳過\n",
      "2603 , wait  11\n",
      "2603  wait  6\n"
     ]
    },
    {
     "name": "stderr",
     "output_type": "stream",
     "text": [
      "\r",
      " 37%|██████████████████████████████                                                    | 33/90 [05:29<10:51, 11.42s/it]"
     ]
    },
    {
     "name": "stdout",
     "output_type": "stream",
     "text": [
      "2606 , wait  14\n"
     ]
    },
    {
     "name": "stderr",
     "output_type": "stream",
     "text": [
      "c:\\users\\mia\\appdata\\local\\programs\\python\\python37\\lib\\site-packages\\openpyxl\\styles\\stylesheet.py:221: UserWarning: Workbook contains no default style, apply openpyxl's default\n",
      "  warn(\"Workbook contains no default style, apply openpyxl's default\")\n"
     ]
    },
    {
     "name": "stdout",
     "output_type": "stream",
     "text": [
      "2606  wait  6\n"
     ]
    },
    {
     "name": "stderr",
     "output_type": "stream",
     "text": [
      "\r",
      " 38%|██████████████████████████████▉                                                   | 34/90 [05:52<13:49, 14.82s/it]"
     ]
    },
    {
     "name": "stdout",
     "output_type": "stream",
     "text": [
      "2607 , wait  10\n"
     ]
    },
    {
     "name": "stderr",
     "output_type": "stream",
     "text": [
      "c:\\users\\mia\\appdata\\local\\programs\\python\\python37\\lib\\site-packages\\openpyxl\\styles\\stylesheet.py:221: UserWarning: Workbook contains no default style, apply openpyxl's default\n",
      "  warn(\"Workbook contains no default style, apply openpyxl's default\")\n",
      "\r",
      " 39%|███████████████████████████████▉                                                  | 35/90 [05:54<10:10, 11.10s/it]"
     ]
    },
    {
     "name": "stdout",
     "output_type": "stream",
     "text": [
      "2607 ：毛利率 18.7 < 20%，跳過\n",
      "2609 , wait  12\n",
      "2609  wait  8\n"
     ]
    },
    {
     "name": "stderr",
     "output_type": "stream",
     "text": [
      "D:\\Mia\\Stock\\code\\finance.py:440: RuntimeWarning: invalid value encountered in double_scalars\n",
      "  df_new['股利_avg'] = round(round(df_new.loc[0, 'EPS(Y)'],3) * round(df_new.loc[0, '股利(%)'],3)/100, 2)\n",
      "\r",
      " 40%|████████████████████████████████▊                                                 | 36/90 [06:16<12:51, 14.28s/it]"
     ]
    },
    {
     "name": "stdout",
     "output_type": "stream",
     "text": [
      "2610 , wait  10\n"
     ]
    },
    {
     "name": "stderr",
     "output_type": "stream",
     "text": [
      "c:\\users\\mia\\appdata\\local\\programs\\python\\python37\\lib\\site-packages\\openpyxl\\styles\\stylesheet.py:221: UserWarning: Workbook contains no default style, apply openpyxl's default\n",
      "  warn(\"Workbook contains no default style, apply openpyxl's default\")\n"
     ]
    },
    {
     "name": "stdout",
     "output_type": "stream",
     "text": [
      "2610  wait  6\n"
     ]
    },
    {
     "name": "stderr",
     "output_type": "stream",
     "text": [
      "\r",
      " 41%|█████████████████████████████████▋                                                | 37/90 [06:34<13:38, 15.44s/it]"
     ]
    },
    {
     "name": "stdout",
     "output_type": "stream",
     "text": [
      "2615 , wait  6\n"
     ]
    },
    {
     "name": "stderr",
     "output_type": "stream",
     "text": [
      "c:\\users\\mia\\appdata\\local\\programs\\python\\python37\\lib\\site-packages\\openpyxl\\styles\\stylesheet.py:221: UserWarning: Workbook contains no default style, apply openpyxl's default\n",
      "  warn(\"Workbook contains no default style, apply openpyxl's default\")\n"
     ]
    },
    {
     "name": "stdout",
     "output_type": "stream",
     "text": [
      "2615  wait  9\n"
     ]
    },
    {
     "name": "stderr",
     "output_type": "stream",
     "text": [
      "\r",
      " 42%|██████████████████████████████████▌                                               | 38/90 [06:51<13:51, 15.99s/it]"
     ]
    },
    {
     "name": "stdout",
     "output_type": "stream",
     "text": [
      "2618 , wait  7\n"
     ]
    },
    {
     "name": "stderr",
     "output_type": "stream",
     "text": [
      "c:\\users\\mia\\appdata\\local\\programs\\python\\python37\\lib\\site-packages\\openpyxl\\styles\\stylesheet.py:221: UserWarning: Workbook contains no default style, apply openpyxl's default\n",
      "  warn(\"Workbook contains no default style, apply openpyxl's default\")\n"
     ]
    },
    {
     "name": "stdout",
     "output_type": "stream",
     "text": [
      "2618  wait  7\n"
     ]
    },
    {
     "name": "stderr",
     "output_type": "stream",
     "text": [
      "\r",
      " 43%|███████████████████████████████████▌                                              | 39/90 [07:08<13:42, 16.12s/it]"
     ]
    },
    {
     "name": "stdout",
     "output_type": "stream",
     "text": [
      "2634 , wait  7\n"
     ]
    },
    {
     "name": "stderr",
     "output_type": "stream",
     "text": [
      "c:\\users\\mia\\appdata\\local\\programs\\python\\python37\\lib\\site-packages\\openpyxl\\styles\\stylesheet.py:221: UserWarning: Workbook contains no default style, apply openpyxl's default\n",
      "  warn(\"Workbook contains no default style, apply openpyxl's default\")\n",
      "\r",
      " 44%|████████████████████████████████████▍                                             | 40/90 [07:11<10:10, 12.21s/it]"
     ]
    },
    {
     "name": "stdout",
     "output_type": "stream",
     "text": [
      "2634 ：毛利率 11.5 < 20%，跳過\n",
      "2636 , wait  8\n",
      "2636  wait  7\n"
     ]
    },
    {
     "name": "stderr",
     "output_type": "stream",
     "text": [
      "\r",
      " 46%|█████████████████████████████████████▎                                            | 41/90 [07:28<11:12, 13.71s/it]"
     ]
    },
    {
     "name": "stdout",
     "output_type": "stream",
     "text": [
      "2637 , wait  9\n"
     ]
    },
    {
     "name": "stderr",
     "output_type": "stream",
     "text": [
      "c:\\users\\mia\\appdata\\local\\programs\\python\\python37\\lib\\site-packages\\openpyxl\\styles\\stylesheet.py:221: UserWarning: Workbook contains no default style, apply openpyxl's default\n",
      "  warn(\"Workbook contains no default style, apply openpyxl's default\")\n"
     ]
    },
    {
     "name": "stdout",
     "output_type": "stream",
     "text": [
      "2637  wait  9\n"
     ]
    },
    {
     "name": "stderr",
     "output_type": "stream",
     "text": [
      "\r",
      " 47%|██████████████████████████████████████▎                                           | 42/90 [07:48<12:31, 15.66s/it]"
     ]
    },
    {
     "name": "stdout",
     "output_type": "stream",
     "text": [
      "2801 , wait  12\n"
     ]
    },
    {
     "name": "stderr",
     "output_type": "stream",
     "text": [
      "c:\\users\\mia\\appdata\\local\\programs\\python\\python37\\lib\\site-packages\\openpyxl\\styles\\stylesheet.py:221: UserWarning: Workbook contains no default style, apply openpyxl's default\n",
      "  warn(\"Workbook contains no default style, apply openpyxl's default\")\n"
     ]
    },
    {
     "name": "stdout",
     "output_type": "stream",
     "text": [
      "2801  wait  9\n"
     ]
    },
    {
     "name": "stderr",
     "output_type": "stream",
     "text": [
      "\r",
      " 48%|███████████████████████████████████████▏                                          | 43/90 [08:12<14:10, 18.10s/it]"
     ]
    },
    {
     "name": "stdout",
     "output_type": "stream",
     "text": [
      "2809 , wait  11\n"
     ]
    },
    {
     "name": "stderr",
     "output_type": "stream",
     "text": [
      "c:\\users\\mia\\appdata\\local\\programs\\python\\python37\\lib\\site-packages\\openpyxl\\styles\\stylesheet.py:221: UserWarning: Workbook contains no default style, apply openpyxl's default\n",
      "  warn(\"Workbook contains no default style, apply openpyxl's default\")\n"
     ]
    },
    {
     "name": "stdout",
     "output_type": "stream",
     "text": [
      "2809  wait  5\n"
     ]
    },
    {
     "name": "stderr",
     "output_type": "stream",
     "text": [
      "\r",
      " 49%|████████████████████████████████████████                                          | 44/90 [08:34<14:38, 19.10s/it]"
     ]
    },
    {
     "name": "stdout",
     "output_type": "stream",
     "text": [
      "2834 , wait  10\n"
     ]
    },
    {
     "name": "stderr",
     "output_type": "stream",
     "text": [
      "c:\\users\\mia\\appdata\\local\\programs\\python\\python37\\lib\\site-packages\\openpyxl\\styles\\stylesheet.py:221: UserWarning: Workbook contains no default style, apply openpyxl's default\n",
      "  warn(\"Workbook contains no default style, apply openpyxl's default\")\n"
     ]
    },
    {
     "name": "stdout",
     "output_type": "stream",
     "text": [
      "2834  wait  6\n"
     ]
    },
    {
     "name": "stderr",
     "output_type": "stream",
     "text": [
      "\r",
      " 50%|█████████████████████████████████████████                                         | 45/90 [08:52<14:12, 18.95s/it]"
     ]
    },
    {
     "name": "stdout",
     "output_type": "stream",
     "text": [
      "2838 , wait  6\n"
     ]
    },
    {
     "name": "stderr",
     "output_type": "stream",
     "text": [
      "c:\\users\\mia\\appdata\\local\\programs\\python\\python37\\lib\\site-packages\\openpyxl\\styles\\stylesheet.py:221: UserWarning: Workbook contains no default style, apply openpyxl's default\n",
      "  warn(\"Workbook contains no default style, apply openpyxl's default\")\n"
     ]
    },
    {
     "name": "stdout",
     "output_type": "stream",
     "text": [
      "2838  wait  8\n"
     ]
    },
    {
     "name": "stderr",
     "output_type": "stream",
     "text": [
      "\r",
      " 51%|█████████████████████████████████████████▉                                        | 46/90 [09:08<13:16, 18.10s/it]"
     ]
    },
    {
     "name": "stdout",
     "output_type": "stream",
     "text": [
      "2850 , wait  10\n"
     ]
    },
    {
     "name": "stderr",
     "output_type": "stream",
     "text": [
      "c:\\users\\mia\\appdata\\local\\programs\\python\\python37\\lib\\site-packages\\openpyxl\\styles\\stylesheet.py:221: UserWarning: Workbook contains no default style, apply openpyxl's default\n",
      "  warn(\"Workbook contains no default style, apply openpyxl's default\")\n",
      "\r",
      " 52%|██████████████████████████████████████████▊                                       | 47/90 [09:11<09:40, 13.51s/it]"
     ]
    },
    {
     "name": "stdout",
     "output_type": "stream",
     "text": [
      "2850 ：毛利率 0.0 < 20%，跳過\n",
      "2851 , wait  12\n"
     ]
    },
    {
     "name": "stderr",
     "output_type": "stream",
     "text": [
      "\r",
      " 53%|███████████████████████████████████████████▋                                      | 48/90 [09:12<06:53,  9.84s/it]"
     ]
    },
    {
     "name": "stdout",
     "output_type": "stream",
     "text": [
      "2851 ：毛利率 0.0 < 20%，跳過\n",
      "2886 , wait  12\n",
      "2886  wait  9\n"
     ]
    },
    {
     "name": "stderr",
     "output_type": "stream",
     "text": [
      "\r",
      " 54%|████████████████████████████████████████████▋                                     | 49/90 [09:36<09:28, 13.86s/it]"
     ]
    },
    {
     "name": "stdout",
     "output_type": "stream",
     "text": [
      "2887 , wait  7\n"
     ]
    },
    {
     "name": "stderr",
     "output_type": "stream",
     "text": [
      "c:\\users\\mia\\appdata\\local\\programs\\python\\python37\\lib\\site-packages\\openpyxl\\styles\\stylesheet.py:221: UserWarning: Workbook contains no default style, apply openpyxl's default\n",
      "  warn(\"Workbook contains no default style, apply openpyxl's default\")\n"
     ]
    },
    {
     "name": "stdout",
     "output_type": "stream",
     "text": [
      "2887  wait  6\n"
     ]
    },
    {
     "name": "stderr",
     "output_type": "stream",
     "text": [
      "\r",
      " 56%|█████████████████████████████████████████████▌                                    | 50/90 [09:52<09:48, 14.72s/it]"
     ]
    },
    {
     "name": "stdout",
     "output_type": "stream",
     "text": [
      "2891 , wait  8\n"
     ]
    },
    {
     "name": "stderr",
     "output_type": "stream",
     "text": [
      "c:\\users\\mia\\appdata\\local\\programs\\python\\python37\\lib\\site-packages\\openpyxl\\styles\\stylesheet.py:221: UserWarning: Workbook contains no default style, apply openpyxl's default\n",
      "  warn(\"Workbook contains no default style, apply openpyxl's default\")\n"
     ]
    },
    {
     "name": "stdout",
     "output_type": "stream",
     "text": [
      "2891  wait  6\n"
     ]
    },
    {
     "name": "stderr",
     "output_type": "stream",
     "text": [
      "\r",
      " 57%|██████████████████████████████████████████████▍                                   | 51/90 [10:09<09:52, 15.18s/it]"
     ]
    },
    {
     "name": "stdout",
     "output_type": "stream",
     "text": [
      "2897 , wait  10\n"
     ]
    },
    {
     "name": "stderr",
     "output_type": "stream",
     "text": [
      "c:\\users\\mia\\appdata\\local\\programs\\python\\python37\\lib\\site-packages\\openpyxl\\styles\\stylesheet.py:221: UserWarning: Workbook contains no default style, apply openpyxl's default\n",
      "  warn(\"Workbook contains no default style, apply openpyxl's default\")\n"
     ]
    },
    {
     "name": "stdout",
     "output_type": "stream",
     "text": [
      "2897  wait  5\n"
     ]
    },
    {
     "name": "stderr",
     "output_type": "stream",
     "text": [
      "\r",
      " 58%|███████████████████████████████████████████████▍                                  | 52/90 [10:25<09:56, 15.70s/it]"
     ]
    },
    {
     "name": "stdout",
     "output_type": "stream",
     "text": [
      "2905 , wait  12\n"
     ]
    },
    {
     "name": "stderr",
     "output_type": "stream",
     "text": [
      "c:\\users\\mia\\appdata\\local\\programs\\python\\python37\\lib\\site-packages\\openpyxl\\styles\\stylesheet.py:221: UserWarning: Workbook contains no default style, apply openpyxl's default\n",
      "  warn(\"Workbook contains no default style, apply openpyxl's default\")\n"
     ]
    },
    {
     "name": "stdout",
     "output_type": "stream",
     "text": [
      "2905  wait  6\n"
     ]
    },
    {
     "name": "stderr",
     "output_type": "stream",
     "text": [
      "\r",
      " 59%|████████████████████████████████████████████████▎                                 | 53/90 [10:47<10:48, 17.52s/it]"
     ]
    },
    {
     "name": "stdout",
     "output_type": "stream",
     "text": [
      "2923 , wait  6\n"
     ]
    },
    {
     "name": "stderr",
     "output_type": "stream",
     "text": [
      "c:\\users\\mia\\appdata\\local\\programs\\python\\python37\\lib\\site-packages\\openpyxl\\styles\\stylesheet.py:221: UserWarning: Workbook contains no default style, apply openpyxl's default\n",
      "  warn(\"Workbook contains no default style, apply openpyxl's default\")\n"
     ]
    },
    {
     "name": "stdout",
     "output_type": "stream",
     "text": [
      "2923  wait  6\n"
     ]
    },
    {
     "name": "stderr",
     "output_type": "stream",
     "text": [
      "\r",
      " 60%|█████████████████████████████████████████████████▏                                | 54/90 [11:07<10:50, 18.08s/it]"
     ]
    },
    {
     "name": "stdout",
     "output_type": "stream",
     "text": [
      "3005 , wait  13\n"
     ]
    },
    {
     "name": "stderr",
     "output_type": "stream",
     "text": [
      "c:\\users\\mia\\appdata\\local\\programs\\python\\python37\\lib\\site-packages\\openpyxl\\styles\\stylesheet.py:221: UserWarning: Workbook contains no default style, apply openpyxl's default\n",
      "  warn(\"Workbook contains no default style, apply openpyxl's default\")\n"
     ]
    },
    {
     "name": "stdout",
     "output_type": "stream",
     "text": [
      "3005  wait  8\n"
     ]
    },
    {
     "name": "stderr",
     "output_type": "stream",
     "text": [
      "\r",
      " 61%|██████████████████████████████████████████████████                                | 55/90 [11:30<11:25, 19.58s/it]"
     ]
    },
    {
     "name": "stdout",
     "output_type": "stream",
     "text": [
      "3010 , wait  12\n"
     ]
    },
    {
     "name": "stderr",
     "output_type": "stream",
     "text": [
      "c:\\users\\mia\\appdata\\local\\programs\\python\\python37\\lib\\site-packages\\openpyxl\\styles\\stylesheet.py:221: UserWarning: Workbook contains no default style, apply openpyxl's default\n",
      "  warn(\"Workbook contains no default style, apply openpyxl's default\")\n",
      "\r",
      " 62%|███████████████████████████████████████████████████                               | 56/90 [11:31<07:57, 14.05s/it]"
     ]
    },
    {
     "name": "stdout",
     "output_type": "stream",
     "text": [
      "3010 ：毛利率 8.4 < 20%，跳過\n",
      "3017 , wait  7\n"
     ]
    },
    {
     "name": "stderr",
     "output_type": "stream",
     "text": [
      "\r",
      " 63%|███████████████████████████████████████████████████▉                              | 57/90 [11:32<05:36, 10.19s/it]"
     ]
    },
    {
     "name": "stdout",
     "output_type": "stream",
     "text": [
      "3017 ：毛利率 18.6 < 20%，跳過\n",
      "3023 , wait  5\n"
     ]
    },
    {
     "name": "stderr",
     "output_type": "stream",
     "text": [
      "\r",
      " 64%|████████████████████████████████████████████████████▊                             | 58/90 [11:35<04:16,  8.00s/it]"
     ]
    },
    {
     "name": "stdout",
     "output_type": "stream",
     "text": [
      "3023 ：營益率 7.3  < 8%，跳過\n",
      "3026 , wait  5\n"
     ]
    },
    {
     "name": "stderr",
     "output_type": "stream",
     "text": [
      "\r",
      " 66%|█████████████████████████████████████████████████████▊                            | 59/90 [11:36<03:05,  6.00s/it]"
     ]
    },
    {
     "name": "stdout",
     "output_type": "stream",
     "text": [
      "3026 ：毛利率 19.2 < 20%，跳過\n",
      "3028 , wait  11\n"
     ]
    },
    {
     "name": "stderr",
     "output_type": "stream",
     "text": [
      "\r",
      " 67%|██████████████████████████████████████████████████████▋                           | 60/90 [11:37<02:16,  4.56s/it]"
     ]
    },
    {
     "name": "stdout",
     "output_type": "stream",
     "text": [
      "3028 ：毛利率 6.3 < 20%，跳過\n",
      "3029 , wait  14\n"
     ]
    },
    {
     "name": "stderr",
     "output_type": "stream",
     "text": [
      "\r",
      " 68%|███████████████████████████████████████████████████████▌                          | 61/90 [11:42<02:16,  4.71s/it]"
     ]
    },
    {
     "name": "stdout",
     "output_type": "stream",
     "text": [
      "3029 ：毛利率 12.2 < 20%，跳過\n",
      "3030 , wait  8\n",
      "3030  wait  6\n"
     ]
    },
    {
     "name": "stderr",
     "output_type": "stream",
     "text": [
      "\r",
      " 69%|████████████████████████████████████████████████████████▍                         | 62/90 [11:59<03:51,  8.28s/it]"
     ]
    },
    {
     "name": "stdout",
     "output_type": "stream",
     "text": [
      "3033 , wait  11\n"
     ]
    },
    {
     "name": "stderr",
     "output_type": "stream",
     "text": [
      "c:\\users\\mia\\appdata\\local\\programs\\python\\python37\\lib\\site-packages\\openpyxl\\styles\\stylesheet.py:221: UserWarning: Workbook contains no default style, apply openpyxl's default\n",
      "  warn(\"Workbook contains no default style, apply openpyxl's default\")\n",
      "\r",
      " 70%|█████████████████████████████████████████████████████████▍                        | 63/90 [12:04<03:13,  7.17s/it]"
     ]
    },
    {
     "name": "stdout",
     "output_type": "stream",
     "text": [
      "3033 ：毛利率 7.5 < 20%，跳過\n",
      "3034 , wait  7\n",
      "3034  wait  8\n"
     ]
    },
    {
     "name": "stderr",
     "output_type": "stream",
     "text": [
      "\r",
      " 71%|██████████████████████████████████████████████████████████▎                       | 64/90 [12:21<04:23, 10.15s/it]"
     ]
    },
    {
     "name": "stdout",
     "output_type": "stream",
     "text": [
      "3035 , wait  8\n"
     ]
    },
    {
     "name": "stderr",
     "output_type": "stream",
     "text": [
      "c:\\users\\mia\\appdata\\local\\programs\\python\\python37\\lib\\site-packages\\openpyxl\\styles\\stylesheet.py:221: UserWarning: Workbook contains no default style, apply openpyxl's default\n",
      "  warn(\"Workbook contains no default style, apply openpyxl's default\")\n"
     ]
    },
    {
     "name": "stdout",
     "output_type": "stream",
     "text": [
      "3035  wait  6\n"
     ]
    },
    {
     "name": "stderr",
     "output_type": "stream",
     "text": [
      "\r",
      " 72%|███████████████████████████████████████████████████████████▏                      | 65/90 [12:37<04:57, 11.92s/it]"
     ]
    },
    {
     "name": "stdout",
     "output_type": "stream",
     "text": [
      "3036 , wait  13\n"
     ]
    },
    {
     "name": "stderr",
     "output_type": "stream",
     "text": [
      "c:\\users\\mia\\appdata\\local\\programs\\python\\python37\\lib\\site-packages\\openpyxl\\styles\\stylesheet.py:221: UserWarning: Workbook contains no default style, apply openpyxl's default\n",
      "  warn(\"Workbook contains no default style, apply openpyxl's default\")\n",
      "\r",
      " 73%|████████████████████████████████████████████████████████████▏                     | 66/90 [12:38<03:29,  8.72s/it]"
     ]
    },
    {
     "name": "stdout",
     "output_type": "stream",
     "text": [
      "3036 ：毛利率 3.6 < 20%，跳過\n",
      "3037 , wait  13\n",
      "3037  wait  7\n"
     ]
    },
    {
     "name": "stderr",
     "output_type": "stream",
     "text": [
      "\r",
      " 74%|█████████████████████████████████████████████████████████████                     | 67/90 [13:00<04:53, 12.75s/it]"
     ]
    },
    {
     "name": "stdout",
     "output_type": "stream",
     "text": [
      "3044 , wait  7\n"
     ]
    },
    {
     "name": "stderr",
     "output_type": "stream",
     "text": [
      "c:\\users\\mia\\appdata\\local\\programs\\python\\python37\\lib\\site-packages\\openpyxl\\styles\\stylesheet.py:221: UserWarning: Workbook contains no default style, apply openpyxl's default\n",
      "  warn(\"Workbook contains no default style, apply openpyxl's default\")\n",
      "\r",
      " 76%|█████████████████████████████████████████████████████████████▉                    | 68/90 [13:03<03:34,  9.77s/it]"
     ]
    },
    {
     "name": "stdout",
     "output_type": "stream",
     "text": [
      "3044 ：毛利率 19.3 < 20%，跳過\n",
      "3045 , wait  12\n"
     ]
    },
    {
     "name": "stderr",
     "output_type": "stream",
     "text": [
      "\r",
      " 77%|██████████████████████████████████████████████████████████████▊                   | 69/90 [13:07<02:47,  7.98s/it]"
     ]
    },
    {
     "name": "stdout",
     "output_type": "stream",
     "text": [
      "3045 ：毛利率 18.1 < 20%，跳過\n",
      "3048 , wait  7\n"
     ]
    },
    {
     "name": "stderr",
     "output_type": "stream",
     "text": [
      "\r",
      " 78%|███████████████████████████████████████████████████████████████▊                  | 70/90 [13:09<02:06,  6.34s/it]"
     ]
    },
    {
     "name": "stdout",
     "output_type": "stream",
     "text": [
      "3048 ：毛利率 3.0 < 20%，跳過\n",
      "3059 , wait  13\n"
     ]
    },
    {
     "name": "stderr",
     "output_type": "stream",
     "text": [
      "\r",
      " 79%|████████████████████████████████████████████████████████████████▋                 | 71/90 [13:11<01:30,  4.79s/it]"
     ]
    },
    {
     "name": "stdout",
     "output_type": "stream",
     "text": [
      "3059 ：營益率 0.4  < 8%，跳過\n",
      "3090 , wait  9\n"
     ]
    },
    {
     "name": "stderr",
     "output_type": "stream",
     "text": [
      "\r",
      " 80%|█████████████████████████████████████████████████████████████████▌                | 72/90 [13:12<01:06,  3.70s/it]"
     ]
    },
    {
     "name": "stdout",
     "output_type": "stream",
     "text": [
      "3090 ：毛利率 16.5 < 20%，跳過\n",
      "3189 , wait  11\n",
      "3189  wait  6\n"
     ]
    },
    {
     "name": "stderr",
     "output_type": "stream",
     "text": [
      "\r",
      " 81%|██████████████████████████████████████████████████████████████████▌               | 73/90 [13:31<02:21,  8.33s/it]"
     ]
    },
    {
     "name": "stdout",
     "output_type": "stream",
     "text": [
      "3209 , wait  5\n"
     ]
    },
    {
     "name": "stderr",
     "output_type": "stream",
     "text": [
      "c:\\users\\mia\\appdata\\local\\programs\\python\\python37\\lib\\site-packages\\openpyxl\\styles\\stylesheet.py:221: UserWarning: Workbook contains no default style, apply openpyxl's default\n",
      "  warn(\"Workbook contains no default style, apply openpyxl's default\")\n",
      "\r",
      " 82%|███████████████████████████████████████████████████████████████████▍              | 74/90 [13:32<01:38,  6.18s/it]"
     ]
    },
    {
     "name": "stdout",
     "output_type": "stream",
     "text": [
      "3209 ：毛利率 4.8 < 20%，跳過\n",
      "3231 , wait  7\n"
     ]
    },
    {
     "name": "stderr",
     "output_type": "stream",
     "text": [
      "\r",
      " 83%|████████████████████████████████████████████████████████████████████▎             | 75/90 [13:33<01:08,  4.55s/it]"
     ]
    },
    {
     "name": "stdout",
     "output_type": "stream",
     "text": [
      "3231 ：毛利率 5.9 < 20%，跳過\n",
      "3305 , wait  8\n"
     ]
    },
    {
     "name": "stderr",
     "output_type": "stream",
     "text": [
      "\r",
      " 84%|█████████████████████████████████████████████████████████████████████▏            | 76/90 [13:34<00:49,  3.53s/it]"
     ]
    },
    {
     "name": "stdout",
     "output_type": "stream",
     "text": [
      "3305 ：毛利率 14.5 < 20%，跳過\n",
      "3312 , wait  5\n"
     ]
    },
    {
     "name": "stderr",
     "output_type": "stream",
     "text": [
      "\r",
      " 86%|██████████████████████████████████████████████████████████████████████▏           | 77/90 [13:35<00:36,  2.82s/it]"
     ]
    },
    {
     "name": "stdout",
     "output_type": "stream",
     "text": [
      "3312 ：毛利率 6.5 < 20%，跳過\n",
      "3406 , wait  12\n",
      "3406  wait  6\n"
     ]
    },
    {
     "name": "stderr",
     "output_type": "stream",
     "text": [
      "\r",
      " 87%|███████████████████████████████████████████████████████████████████████           | 78/90 [13:55<01:36,  8.01s/it]"
     ]
    },
    {
     "name": "stdout",
     "output_type": "stream",
     "text": [
      "3413 , wait  9\n"
     ]
    },
    {
     "name": "stderr",
     "output_type": "stream",
     "text": [
      "c:\\users\\mia\\appdata\\local\\programs\\python\\python37\\lib\\site-packages\\openpyxl\\styles\\stylesheet.py:221: UserWarning: Workbook contains no default style, apply openpyxl's default\n",
      "  warn(\"Workbook contains no default style, apply openpyxl's default\")\n"
     ]
    },
    {
     "name": "stdout",
     "output_type": "stream",
     "text": [
      "3413  wait  9\n"
     ]
    },
    {
     "name": "stderr",
     "output_type": "stream",
     "text": [
      "\r",
      " 88%|███████████████████████████████████████████████████████████████████████▉          | 79/90 [14:15<02:06, 11.50s/it]"
     ]
    },
    {
     "name": "stdout",
     "output_type": "stream",
     "text": [
      "3443 , wait  14\n"
     ]
    },
    {
     "name": "stderr",
     "output_type": "stream",
     "text": [
      "c:\\users\\mia\\appdata\\local\\programs\\python\\python37\\lib\\site-packages\\openpyxl\\styles\\stylesheet.py:221: UserWarning: Workbook contains no default style, apply openpyxl's default\n",
      "  warn(\"Workbook contains no default style, apply openpyxl's default\")\n"
     ]
    },
    {
     "name": "stdout",
     "output_type": "stream",
     "text": [
      "3443  wait  6\n"
     ]
    },
    {
     "name": "stderr",
     "output_type": "stream",
     "text": [
      "\r",
      " 89%|████████████████████████████████████████████████████████████████████████▉         | 80/90 [14:38<02:31, 15.15s/it]"
     ]
    },
    {
     "name": "stdout",
     "output_type": "stream",
     "text": [
      "3454 , wait  11\n"
     ]
    },
    {
     "name": "stderr",
     "output_type": "stream",
     "text": [
      "c:\\users\\mia\\appdata\\local\\programs\\python\\python37\\lib\\site-packages\\openpyxl\\styles\\stylesheet.py:221: UserWarning: Workbook contains no default style, apply openpyxl's default\n",
      "  warn(\"Workbook contains no default style, apply openpyxl's default\")\n",
      "\r",
      " 90%|█████████████████████████████████████████████████████████████████████████▊        | 81/90 [14:40<01:38, 10.95s/it]"
     ]
    },
    {
     "name": "stdout",
     "output_type": "stream",
     "text": [
      "3454 ：營益率 2.5  < 8%，跳過\n",
      "3532 , wait  13\n",
      "3532  wait  6\n",
      "<urlopen error [Errno 11001] getaddrinfo failed>\n"
     ]
    },
    {
     "name": "stderr",
     "output_type": "stream",
     "text": [
      "\r",
      " 91%|██████████████████████████████████████████████████████████████████████████▋       | 82/90 [15:00<01:51, 13.92s/it]"
     ]
    },
    {
     "name": "stdout",
     "output_type": "stream",
     "text": [
      "3576 , wait  8\n"
     ]
    },
    {
     "name": "stderr",
     "output_type": "stream",
     "text": [
      "c:\\users\\mia\\appdata\\local\\programs\\python\\python37\\lib\\site-packages\\openpyxl\\styles\\stylesheet.py:221: UserWarning: Workbook contains no default style, apply openpyxl's default\n",
      "  warn(\"Workbook contains no default style, apply openpyxl's default\")\n",
      "\r",
      " 92%|███████████████████████████████████████████████████████████████████████████▌      | 83/90 [15:02<01:10, 10.14s/it]"
     ]
    },
    {
     "name": "stdout",
     "output_type": "stream",
     "text": [
      "3576 ：毛利率 6.1 < 20%，跳過\n",
      "3592 , wait  6\n"
     ]
    },
    {
     "name": "stderr",
     "output_type": "stream",
     "text": [
      "D:\\Mia\\Stock\\code\\finance.py:476: RuntimeWarning: divide by zero encountered in double_scalars\n",
      "  df.loc[idx, '本益比(Y)'] = round(df.loc[idx, '股價'] / EPS_year,2) # 本益比 = 股價 / 年度EPS\n"
     ]
    },
    {
     "name": "stdout",
     "output_type": "stream",
     "text": [
      "3592  wait  6\n",
      "No tables found\n"
     ]
    },
    {
     "name": "stderr",
     "output_type": "stream",
     "text": [
      "\r",
      " 93%|████████████████████████████████████████████████████████████████████████████▌     | 84/90 [15:17<01:09, 11.51s/it]"
     ]
    },
    {
     "name": "stdout",
     "output_type": "stream",
     "text": [
      "3596 , wait  5\n"
     ]
    },
    {
     "name": "stderr",
     "output_type": "stream",
     "text": [
      "\r",
      " 94%|█████████████████████████████████████████████████████████████████████████████▍    | 85/90 [15:19<00:44,  8.87s/it]"
     ]
    },
    {
     "name": "stdout",
     "output_type": "stream",
     "text": [
      "3596 ：毛利率 14.0 < 20%，跳過\n",
      "3605 , wait  7\n"
     ]
    },
    {
     "name": "stderr",
     "output_type": "stream",
     "text": [
      "\r",
      " 96%|██████████████████████████████████████████████████████████████████████████████▎   | 86/90 [15:20<00:26,  6.56s/it]"
     ]
    },
    {
     "name": "stdout",
     "output_type": "stream",
     "text": [
      "3605 ：營益率 4.9  < 8%，跳過\n",
      "3617 , wait  12\n"
     ]
    },
    {
     "name": "stderr",
     "output_type": "stream",
     "text": [
      "\r",
      " 97%|███████████████████████████████████████████████████████████████████████████████▎  | 87/90 [15:23<00:16,  5.38s/it]"
     ]
    },
    {
     "name": "stdout",
     "output_type": "stream",
     "text": [
      "3617 ：營益率 2.5  < 8%，跳過\n",
      "3653 , wait  14\n",
      "3653  wait  6\n"
     ]
    },
    {
     "name": "stderr",
     "output_type": "stream",
     "text": [
      "\r",
      " 98%|████████████████████████████████████████████████████████████████████████████████▏ | 88/90 [15:45<00:20, 10.30s/it]"
     ]
    },
    {
     "name": "stdout",
     "output_type": "stream",
     "text": [
      "3665 , wait  5\n"
     ]
    },
    {
     "name": "stderr",
     "output_type": "stream",
     "text": [
      "c:\\users\\mia\\appdata\\local\\programs\\python\\python37\\lib\\site-packages\\openpyxl\\styles\\stylesheet.py:221: UserWarning: Workbook contains no default style, apply openpyxl's default\n",
      "  warn(\"Workbook contains no default style, apply openpyxl's default\")\n"
     ]
    },
    {
     "name": "stdout",
     "output_type": "stream",
     "text": [
      "3665  wait  6\n"
     ]
    },
    {
     "name": "stderr",
     "output_type": "stream",
     "text": [
      "\r",
      " 99%|█████████████████████████████████████████████████████████████████████████████████ | 89/90 [15:58<00:11, 11.11s/it]"
     ]
    },
    {
     "name": "stdout",
     "output_type": "stream",
     "text": [
      "3701 , wait  6\n"
     ]
    },
    {
     "name": "stderr",
     "output_type": "stream",
     "text": [
      "c:\\users\\mia\\appdata\\local\\programs\\python\\python37\\lib\\site-packages\\openpyxl\\styles\\stylesheet.py:221: UserWarning: Workbook contains no default style, apply openpyxl's default\n",
      "  warn(\"Workbook contains no default style, apply openpyxl's default\")\n",
      "100%|██████████████████████████████████████████████████████████████████████████████████| 90/90 [15:59<00:00, 10.66s/it]\n"
     ]
    },
    {
     "name": "stdout",
     "output_type": "stream",
     "text": [
      "3701 ：毛利率 13.8 < 20%，跳過\n"
     ]
    },
    {
     "name": "stderr",
     "output_type": "stream",
     "text": [
      "\r",
      "  0%|                                                                                           | 0/83 [00:00<?, ?it/s]"
     ]
    },
    {
     "name": "stdout",
     "output_type": "stream",
     "text": [
      "EPS檢查 45 筆\n",
      " ['2357', '2368', '2376', '2379', '2383', '2395', '2401', '2408', '2428', '2454', '2472', '2481', '2545', '2548', '2603', '2606', '2609', '2610', '2615', '2618', '2636', '2637', '2801', '2809', '2834', '2838', '2886', '2887', '2891', '2897', '2905', '2923', '3005', '3030', '3034', '3035', '3037', '3189', '3406', '3413', '3443', '3532', '3592', '3653', '3665']\n",
      "Check: 2\n",
      "3702 , wait  14\n"
     ]
    },
    {
     "name": "stderr",
     "output_type": "stream",
     "text": [
      "\r",
      "  1%|█                                                                                  | 1/83 [00:01<01:33,  1.14s/it]"
     ]
    },
    {
     "name": "stdout",
     "output_type": "stream",
     "text": [
      "3702 ：毛利率 3.6 < 20%，跳過\n",
      "3703 , wait  12\n"
     ]
    },
    {
     "name": "stderr",
     "output_type": "stream",
     "text": [
      "\r",
      "  2%|██                                                                                 | 2/83 [00:02<01:28,  1.10s/it]"
     ]
    },
    {
     "name": "stdout",
     "output_type": "stream",
     "text": [
      "3703 ：毛利率 16.1 < 20%，跳過\n",
      "3711 , wait  9\n"
     ]
    },
    {
     "name": "stderr",
     "output_type": "stream",
     "text": [
      "\r",
      "  4%|███                                                                                | 3/83 [00:03<01:28,  1.11s/it]"
     ]
    },
    {
     "name": "stdout",
     "output_type": "stream",
     "text": [
      "3711 ：毛利率 19.0 < 20%，跳過\n",
      "3712 , wait  13\n"
     ]
    },
    {
     "name": "stderr",
     "output_type": "stream",
     "text": [
      "\r",
      "  5%|████                                                                               | 4/83 [00:05<02:02,  1.55s/it]"
     ]
    },
    {
     "name": "stdout",
     "output_type": "stream",
     "text": [
      "3712 ：毛利率 12.8 < 20%，跳過\n",
      "3714 , wait  13\n"
     ]
    },
    {
     "name": "stderr",
     "output_type": "stream",
     "text": [
      "\r",
      "  6%|█████                                                                              | 5/83 [00:06<01:49,  1.40s/it]"
     ]
    },
    {
     "name": "stdout",
     "output_type": "stream",
     "text": [
      "3714 ：營益率 7.6  < 8%，跳過\n",
      "4141 , wait  12\n"
     ]
    },
    {
     "name": "stderr",
     "output_type": "stream",
     "text": [
      "\r",
      "  7%|██████                                                                             | 6/83 [00:07<01:42,  1.33s/it]"
     ]
    },
    {
     "name": "stdout",
     "output_type": "stream",
     "text": [
      "4141 ：營益率 -1.0  < 8%，跳過\n",
      "4438 , wait  8\n"
     ]
    },
    {
     "name": "stderr",
     "output_type": "stream",
     "text": [
      "\r",
      "  8%|██████▉                                                                            | 7/83 [00:09<01:36,  1.28s/it]"
     ]
    },
    {
     "name": "stdout",
     "output_type": "stream",
     "text": [
      "4438 ：毛利率 10.4 < 20%，跳過\n",
      "4536 , wait  8\n",
      "4536  wait  7\n"
     ]
    },
    {
     "name": "stderr",
     "output_type": "stream",
     "text": [
      "\r",
      " 10%|████████                                                                           | 8/83 [00:27<08:25,  6.74s/it]"
     ]
    },
    {
     "name": "stdout",
     "output_type": "stream",
     "text": [
      "4739 , wait  14\n"
     ]
    },
    {
     "name": "stderr",
     "output_type": "stream",
     "text": [
      "c:\\users\\mia\\appdata\\local\\programs\\python\\python37\\lib\\site-packages\\openpyxl\\styles\\stylesheet.py:221: UserWarning: Workbook contains no default style, apply openpyxl's default\n",
      "  warn(\"Workbook contains no default style, apply openpyxl's default\")\n",
      "\r",
      " 11%|█████████                                                                          | 9/83 [00:30<06:55,  5.61s/it]"
     ]
    },
    {
     "name": "stdout",
     "output_type": "stream",
     "text": [
      "4739 ：毛利率 12.6 < 20%，跳過\n",
      "4766 , wait  11\n"
     ]
    },
    {
     "name": "stderr",
     "output_type": "stream",
     "text": [
      "\r",
      " 12%|█████████▉                                                                        | 10/83 [00:32<05:34,  4.59s/it]"
     ]
    },
    {
     "name": "stdout",
     "output_type": "stream",
     "text": [
      "4766 ：營益率 4.1  < 8%，跳過\n",
      "4915 , wait  8\n"
     ]
    },
    {
     "name": "stderr",
     "output_type": "stream",
     "text": [
      "\r",
      " 13%|██████████▊                                                                       | 11/83 [00:33<04:13,  3.52s/it]"
     ]
    },
    {
     "name": "stdout",
     "output_type": "stream",
     "text": [
      "4915 ：毛利率 13.0 < 20%，跳過\n",
      "4919 , wait  6\n",
      "4919  wait  9\n"
     ]
    },
    {
     "name": "stderr",
     "output_type": "stream",
     "text": [
      "\r",
      " 14%|███████████▊                                                                      | 12/83 [00:50<08:55,  7.54s/it]"
     ]
    },
    {
     "name": "stdout",
     "output_type": "stream",
     "text": [
      "4927 , wait  5\n"
     ]
    },
    {
     "name": "stderr",
     "output_type": "stream",
     "text": [
      "c:\\users\\mia\\appdata\\local\\programs\\python\\python37\\lib\\site-packages\\openpyxl\\styles\\stylesheet.py:221: UserWarning: Workbook contains no default style, apply openpyxl's default\n",
      "  warn(\"Workbook contains no default style, apply openpyxl's default\")\n"
     ]
    },
    {
     "name": "stdout",
     "output_type": "stream",
     "text": [
      "4927  wait  5\n"
     ]
    },
    {
     "name": "stderr",
     "output_type": "stream",
     "text": [
      "\r",
      " 16%|████████████▊                                                                     | 13/83 [01:02<10:22,  8.90s/it]"
     ]
    },
    {
     "name": "stdout",
     "output_type": "stream",
     "text": [
      "4938 , wait  9\n"
     ]
    },
    {
     "name": "stderr",
     "output_type": "stream",
     "text": [
      "c:\\users\\mia\\appdata\\local\\programs\\python\\python37\\lib\\site-packages\\openpyxl\\styles\\stylesheet.py:221: UserWarning: Workbook contains no default style, apply openpyxl's default\n",
      "  warn(\"Workbook contains no default style, apply openpyxl's default\")\n",
      "\r",
      " 17%|█████████████▊                                                                    | 14/83 [01:03<07:31,  6.54s/it]"
     ]
    },
    {
     "name": "stdout",
     "output_type": "stream",
     "text": [
      "4938 ：毛利率 3.5 < 20%，跳過\n",
      "4942 , wait  7\n",
      "4942  wait  9\n"
     ]
    },
    {
     "name": "stderr",
     "output_type": "stream",
     "text": [
      "\r",
      " 18%|██████████████▊                                                                   | 15/83 [01:23<11:50, 10.45s/it]"
     ]
    },
    {
     "name": "stdout",
     "output_type": "stream",
     "text": [
      "4958 , wait  6\n"
     ]
    },
    {
     "name": "stderr",
     "output_type": "stream",
     "text": [
      "c:\\users\\mia\\appdata\\local\\programs\\python\\python37\\lib\\site-packages\\openpyxl\\styles\\stylesheet.py:221: UserWarning: Workbook contains no default style, apply openpyxl's default\n",
      "  warn(\"Workbook contains no default style, apply openpyxl's default\")\n"
     ]
    },
    {
     "name": "stdout",
     "output_type": "stream",
     "text": [
      "4958  wait  9\n"
     ]
    },
    {
     "name": "stderr",
     "output_type": "stream",
     "text": [
      "\r",
      " 19%|███████████████▊                                                                  | 16/83 [01:40<13:57, 12.51s/it]"
     ]
    },
    {
     "name": "stdout",
     "output_type": "stream",
     "text": [
      "4961 , wait  10\n"
     ]
    },
    {
     "name": "stderr",
     "output_type": "stream",
     "text": [
      "c:\\users\\mia\\appdata\\local\\programs\\python\\python37\\lib\\site-packages\\openpyxl\\styles\\stylesheet.py:221: UserWarning: Workbook contains no default style, apply openpyxl's default\n",
      "  warn(\"Workbook contains no default style, apply openpyxl's default\")\n"
     ]
    },
    {
     "name": "stdout",
     "output_type": "stream",
     "text": [
      "4961  wait  9\n"
     ]
    },
    {
     "name": "stderr",
     "output_type": "stream",
     "text": [
      "\r",
      " 20%|████████████████▊                                                                 | 17/83 [02:03<17:03, 15.50s/it]"
     ]
    },
    {
     "name": "stdout",
     "output_type": "stream",
     "text": [
      "5007 , wait  10\n"
     ]
    },
    {
     "name": "stderr",
     "output_type": "stream",
     "text": [
      "c:\\users\\mia\\appdata\\local\\programs\\python\\python37\\lib\\site-packages\\openpyxl\\styles\\stylesheet.py:221: UserWarning: Workbook contains no default style, apply openpyxl's default\n",
      "  warn(\"Workbook contains no default style, apply openpyxl's default\")\n"
     ]
    },
    {
     "name": "stdout",
     "output_type": "stream",
     "text": [
      "5007  wait  8\n"
     ]
    },
    {
     "name": "stderr",
     "output_type": "stream",
     "text": [
      "\r",
      " 22%|█████████████████▊                                                                | 18/83 [02:24<18:40, 17.24s/it]"
     ]
    },
    {
     "name": "stdout",
     "output_type": "stream",
     "text": [
      "5225 , wait  12\n"
     ]
    },
    {
     "name": "stderr",
     "output_type": "stream",
     "text": [
      "c:\\users\\mia\\appdata\\local\\programs\\python\\python37\\lib\\site-packages\\openpyxl\\styles\\stylesheet.py:221: UserWarning: Workbook contains no default style, apply openpyxl's default\n",
      "  warn(\"Workbook contains no default style, apply openpyxl's default\")\n",
      "\r",
      " 23%|██████████████████▊                                                               | 19/83 [02:27<13:43, 12.87s/it]"
     ]
    },
    {
     "name": "stdout",
     "output_type": "stream",
     "text": [
      "5225 ：毛利率 5.9 < 20%，跳過\n",
      "5243 , wait  10\n"
     ]
    },
    {
     "name": "stderr",
     "output_type": "stream",
     "text": [
      "\r",
      " 24%|███████████████████▊                                                              | 20/83 [02:33<11:27, 10.91s/it]"
     ]
    },
    {
     "name": "stdout",
     "output_type": "stream",
     "text": [
      "5243 ：毛利率 15.9 < 20%，跳過\n",
      "5285 , wait  12\n"
     ]
    },
    {
     "name": "stderr",
     "output_type": "stream",
     "text": [
      "\r",
      " 25%|████████████████████▋                                                             | 21/83 [02:34<08:19,  8.05s/it]"
     ]
    },
    {
     "name": "stdout",
     "output_type": "stream",
     "text": [
      "5285 ：毛利率 18.0 < 20%，跳過\n",
      "5306 , wait  7\n",
      "5306  wait  8\n",
      "No tables found\n"
     ]
    },
    {
     "name": "stderr",
     "output_type": "stream",
     "text": [
      "\r",
      " 27%|█████████████████████▋                                                            | 22/83 [02:53<11:25, 11.24s/it]"
     ]
    },
    {
     "name": "stdout",
     "output_type": "stream",
     "text": [
      "5388 , wait  11\n"
     ]
    },
    {
     "name": "stderr",
     "output_type": "stream",
     "text": [
      "\r",
      " 28%|██████████████████████▋                                                           | 23/83 [02:56<08:50,  8.85s/it]"
     ]
    },
    {
     "name": "stdout",
     "output_type": "stream",
     "text": [
      "5388 ：毛利率 12.4 < 20%，跳過\n",
      "5434 , wait  13\n"
     ]
    },
    {
     "name": "stderr",
     "output_type": "stream",
     "text": [
      "\r",
      " 29%|███████████████████████▋                                                          | 24/83 [02:57<06:22,  6.48s/it]"
     ]
    },
    {
     "name": "stdout",
     "output_type": "stream",
     "text": [
      "5434 ：毛利率 12.7 < 20%，跳過\n",
      "5522 , wait  12\n",
      "5522  wait  8\n"
     ]
    },
    {
     "name": "stderr",
     "output_type": "stream",
     "text": [
      "\r",
      " 30%|████████████████████████▋                                                         | 25/83 [03:19<10:45, 11.14s/it]"
     ]
    },
    {
     "name": "stdout",
     "output_type": "stream",
     "text": [
      "5538 , wait  8\n"
     ]
    },
    {
     "name": "stderr",
     "output_type": "stream",
     "text": [
      "c:\\users\\mia\\appdata\\local\\programs\\python\\python37\\lib\\site-packages\\openpyxl\\styles\\stylesheet.py:221: UserWarning: Workbook contains no default style, apply openpyxl's default\n",
      "  warn(\"Workbook contains no default style, apply openpyxl's default\")\n",
      "\r",
      " 31%|█████████████████████████▋                                                        | 26/83 [03:20<07:43,  8.13s/it]"
     ]
    },
    {
     "name": "stdout",
     "output_type": "stream",
     "text": [
      "5538 ：毛利率 19.8 < 20%，跳過\n",
      "5871 , wait  7\n",
      "5871  wait  8\n"
     ]
    },
    {
     "name": "stderr",
     "output_type": "stream",
     "text": [
      "\r",
      " 33%|██████████████████████████▋                                                       | 27/83 [03:37<10:04, 10.80s/it]"
     ]
    },
    {
     "name": "stdout",
     "output_type": "stream",
     "text": [
      "6005 , wait  5\n"
     ]
    },
    {
     "name": "stderr",
     "output_type": "stream",
     "text": [
      "c:\\users\\mia\\appdata\\local\\programs\\python\\python37\\lib\\site-packages\\openpyxl\\styles\\stylesheet.py:221: UserWarning: Workbook contains no default style, apply openpyxl's default\n",
      "  warn(\"Workbook contains no default style, apply openpyxl's default\")\n"
     ]
    },
    {
     "name": "stdout",
     "output_type": "stream",
     "text": [
      "6005  wait  5\n"
     ]
    },
    {
     "name": "stderr",
     "output_type": "stream",
     "text": [
      "\r",
      " 34%|███████████████████████████▋                                                      | 28/83 [03:51<10:40, 11.64s/it]"
     ]
    },
    {
     "name": "stdout",
     "output_type": "stream",
     "text": [
      "6120 , wait  6\n"
     ]
    },
    {
     "name": "stderr",
     "output_type": "stream",
     "text": [
      "c:\\users\\mia\\appdata\\local\\programs\\python\\python37\\lib\\site-packages\\openpyxl\\styles\\stylesheet.py:221: UserWarning: Workbook contains no default style, apply openpyxl's default\n",
      "  warn(\"Workbook contains no default style, apply openpyxl's default\")\n",
      "\r",
      " 35%|████████████████████████████▋                                                     | 29/83 [03:54<08:03,  8.96s/it]"
     ]
    },
    {
     "name": "stdout",
     "output_type": "stream",
     "text": [
      "6120 ：毛利率 2.3 < 20%，跳過\n",
      "6139 , wait  14\n"
     ]
    },
    {
     "name": "stderr",
     "output_type": "stream",
     "text": [
      "\r",
      " 36%|█████████████████████████████▋                                                    | 30/83 [03:55<05:51,  6.63s/it]"
     ]
    },
    {
     "name": "stdout",
     "output_type": "stream",
     "text": [
      "6139 ：毛利率 5.3 < 20%，跳過\n",
      "6189 , wait  11\n"
     ]
    },
    {
     "name": "stderr",
     "output_type": "stream",
     "text": [
      "\r",
      " 37%|██████████████████████████████▋                                                   | 31/83 [03:58<04:44,  5.48s/it]"
     ]
    },
    {
     "name": "stdout",
     "output_type": "stream",
     "text": [
      "6189 ：毛利率 7.3 < 20%，跳過\n",
      "6196 , wait  9\n"
     ]
    },
    {
     "name": "stderr",
     "output_type": "stream",
     "text": [
      "\r",
      " 39%|███████████████████████████████▌                                                  | 32/83 [03:59<03:33,  4.19s/it]"
     ]
    },
    {
     "name": "stdout",
     "output_type": "stream",
     "text": [
      "6196 ：毛利率 8.7 < 20%，跳過\n",
      "6202 , wait  14\n",
      "6202  wait  7\n"
     ]
    },
    {
     "name": "stderr",
     "output_type": "stream",
     "text": [
      "\r",
      " 40%|████████████████████████████████▌                                                 | 33/83 [04:22<08:15,  9.91s/it]"
     ]
    },
    {
     "name": "stdout",
     "output_type": "stream",
     "text": [
      "6213 , wait  7\n"
     ]
    },
    {
     "name": "stderr",
     "output_type": "stream",
     "text": [
      "c:\\users\\mia\\appdata\\local\\programs\\python\\python37\\lib\\site-packages\\openpyxl\\styles\\stylesheet.py:221: UserWarning: Workbook contains no default style, apply openpyxl's default\n",
      "  warn(\"Workbook contains no default style, apply openpyxl's default\")\n",
      "\r",
      " 41%|█████████████████████████████████▌                                                | 34/83 [04:25<06:15,  7.67s/it]"
     ]
    },
    {
     "name": "stdout",
     "output_type": "stream",
     "text": [
      "6213 ：毛利率 15.5 < 20%，跳過\n",
      "6214 , wait  11\n"
     ]
    },
    {
     "name": "stderr",
     "output_type": "stream",
     "text": [
      "\r",
      " 42%|██████████████████████████████████▌                                               | 35/83 [04:27<04:55,  6.16s/it]"
     ]
    },
    {
     "name": "stdout",
     "output_type": "stream",
     "text": [
      "6214 ：營益率 3.3  < 8%，跳過\n",
      "6239 , wait  8\n",
      "6239  wait  8\n"
     ]
    },
    {
     "name": "stderr",
     "output_type": "stream",
     "text": [
      "\r",
      " 43%|███████████████████████████████████▌                                              | 36/83 [04:47<08:02, 10.27s/it]"
     ]
    },
    {
     "name": "stdout",
     "output_type": "stream",
     "text": [
      "6257 , wait  6\n"
     ]
    },
    {
     "name": "stderr",
     "output_type": "stream",
     "text": [
      "c:\\users\\mia\\appdata\\local\\programs\\python\\python37\\lib\\site-packages\\openpyxl\\styles\\stylesheet.py:221: UserWarning: Workbook contains no default style, apply openpyxl's default\n",
      "  warn(\"Workbook contains no default style, apply openpyxl's default\")\n"
     ]
    },
    {
     "name": "stdout",
     "output_type": "stream",
     "text": [
      "6257  wait  6\n"
     ]
    },
    {
     "name": "stderr",
     "output_type": "stream",
     "text": [
      "\r",
      " 45%|████████████████████████████████████▌                                             | 37/83 [05:03<09:05, 11.86s/it]"
     ]
    },
    {
     "name": "stdout",
     "output_type": "stream",
     "text": [
      "6269 , wait  10\n"
     ]
    },
    {
     "name": "stderr",
     "output_type": "stream",
     "text": [
      "c:\\users\\mia\\appdata\\local\\programs\\python\\python37\\lib\\site-packages\\openpyxl\\styles\\stylesheet.py:221: UserWarning: Workbook contains no default style, apply openpyxl's default\n",
      "  warn(\"Workbook contains no default style, apply openpyxl's default\")\n",
      "\r",
      " 46%|█████████████████████████████████████▌                                            | 38/83 [05:06<07:03,  9.42s/it]"
     ]
    },
    {
     "name": "stdout",
     "output_type": "stream",
     "text": [
      "6269 ：毛利率 19.8 < 20%，跳過\n",
      "6271 , wait  10\n",
      "6271  wait  9\n"
     ]
    },
    {
     "name": "stderr",
     "output_type": "stream",
     "text": [
      "\r",
      " 47%|██████████████████████████████████████▌                                           | 39/83 [05:28<09:33, 13.04s/it]"
     ]
    },
    {
     "name": "stdout",
     "output_type": "stream",
     "text": [
      "6278 , wait  9\n"
     ]
    },
    {
     "name": "stderr",
     "output_type": "stream",
     "text": [
      "c:\\users\\mia\\appdata\\local\\programs\\python\\python37\\lib\\site-packages\\openpyxl\\styles\\stylesheet.py:221: UserWarning: Workbook contains no default style, apply openpyxl's default\n",
      "  warn(\"Workbook contains no default style, apply openpyxl's default\")\n",
      "\r",
      " 48%|███████████████████████████████████████▌                                          | 40/83 [05:30<06:54,  9.64s/it]"
     ]
    },
    {
     "name": "stdout",
     "output_type": "stream",
     "text": [
      "6278 ：毛利率 13.1 < 20%，跳過\n",
      "6282 , wait  11\n"
     ]
    },
    {
     "name": "stderr",
     "output_type": "stream",
     "text": [
      "\r",
      " 49%|████████████████████████████████████████▌                                         | 41/83 [05:31<04:57,  7.09s/it]"
     ]
    },
    {
     "name": "stdout",
     "output_type": "stream",
     "text": [
      "6282 ：毛利率 16.3 < 20%，跳過\n",
      "6285 , wait  13\n"
     ]
    },
    {
     "name": "stderr",
     "output_type": "stream",
     "text": [
      "\r",
      " 51%|█████████████████████████████████████████▍                                        | 42/83 [05:32<03:35,  5.25s/it]"
     ]
    },
    {
     "name": "stdout",
     "output_type": "stream",
     "text": [
      "6285 ：毛利率 10.2 < 20%，跳過\n",
      "6409 , wait  5\n",
      "6409  wait  9\n"
     ]
    },
    {
     "name": "stderr",
     "output_type": "stream",
     "text": [
      "\r",
      " 52%|██████████████████████████████████████████▍                                       | 43/83 [05:48<05:39,  8.48s/it]"
     ]
    },
    {
     "name": "stdout",
     "output_type": "stream",
     "text": [
      "6414 , wait  5\n"
     ]
    },
    {
     "name": "stderr",
     "output_type": "stream",
     "text": [
      "c:\\users\\mia\\appdata\\local\\programs\\python\\python37\\lib\\site-packages\\openpyxl\\styles\\stylesheet.py:221: UserWarning: Workbook contains no default style, apply openpyxl's default\n",
      "  warn(\"Workbook contains no default style, apply openpyxl's default\")\n",
      "\r",
      " 53%|███████████████████████████████████████████▍                                      | 44/83 [05:49<04:05,  6.30s/it]"
     ]
    },
    {
     "name": "stdout",
     "output_type": "stream",
     "text": [
      "6414 ：營益率 3.8  < 8%，跳過\n",
      "6415 , wait  6\n",
      "6415  wait  7\n"
     ]
    },
    {
     "name": "stderr",
     "output_type": "stream",
     "text": [
      "\r",
      " 54%|████████████████████████████████████████████▍                                     | 45/83 [06:05<05:52,  9.27s/it]"
     ]
    },
    {
     "name": "stdout",
     "output_type": "stream",
     "text": [
      "6443 , wait  13\n"
     ]
    },
    {
     "name": "stderr",
     "output_type": "stream",
     "text": [
      "c:\\users\\mia\\appdata\\local\\programs\\python\\python37\\lib\\site-packages\\openpyxl\\styles\\stylesheet.py:221: UserWarning: Workbook contains no default style, apply openpyxl's default\n",
      "  warn(\"Workbook contains no default style, apply openpyxl's default\")\n",
      "\r",
      " 55%|█████████████████████████████████████████████▍                                    | 46/83 [06:08<04:31,  7.34s/it]"
     ]
    },
    {
     "name": "stdout",
     "output_type": "stream",
     "text": [
      "6443 ：毛利率 1.6 < 20%，跳過\n",
      "6456 , wait  5\n"
     ]
    },
    {
     "name": "stderr",
     "output_type": "stream",
     "text": [
      "\r",
      " 57%|██████████████████████████████████████████████▍                                   | 47/83 [06:10<03:30,  5.84s/it]"
     ]
    },
    {
     "name": "stdout",
     "output_type": "stream",
     "text": [
      "6456 ：毛利率 11.0 < 20%，跳過\n",
      "6505 , wait  7\n"
     ]
    },
    {
     "name": "stderr",
     "output_type": "stream",
     "text": [
      "\r",
      " 58%|███████████████████████████████████████████████▍                                  | 48/83 [06:13<02:50,  4.87s/it]"
     ]
    },
    {
     "name": "stdout",
     "output_type": "stream",
     "text": [
      "6505 ：毛利率 6.3 < 20%，跳過\n",
      "6579 , wait  10\n",
      "6579  wait  7\n"
     ]
    },
    {
     "name": "stderr",
     "output_type": "stream",
     "text": [
      "\r",
      " 59%|████████████████████████████████████████████████▍                                 | 49/83 [06:33<05:24,  9.53s/it]"
     ]
    },
    {
     "name": "stdout",
     "output_type": "stream",
     "text": [
      "6592 , wait  10\n"
     ]
    },
    {
     "name": "stderr",
     "output_type": "stream",
     "text": [
      "c:\\users\\mia\\appdata\\local\\programs\\python\\python37\\lib\\site-packages\\openpyxl\\styles\\stylesheet.py:221: UserWarning: Workbook contains no default style, apply openpyxl's default\n",
      "  warn(\"Workbook contains no default style, apply openpyxl's default\")\n"
     ]
    },
    {
     "name": "stdout",
     "output_type": "stream",
     "text": [
      "6592  wait  5\n"
     ]
    },
    {
     "name": "stderr",
     "output_type": "stream",
     "text": [
      "\r",
      " 60%|█████████████████████████████████████████████████▍                                | 50/83 [06:52<06:42, 12.20s/it]"
     ]
    },
    {
     "name": "stdout",
     "output_type": "stream",
     "text": [
      "6669 , wait  10\n"
     ]
    },
    {
     "name": "stderr",
     "output_type": "stream",
     "text": [
      "c:\\users\\mia\\appdata\\local\\programs\\python\\python37\\lib\\site-packages\\openpyxl\\styles\\stylesheet.py:221: UserWarning: Workbook contains no default style, apply openpyxl's default\n",
      "  warn(\"Workbook contains no default style, apply openpyxl's default\")\n",
      "\r",
      " 61%|██████████████████████████████████████████████████▍                               | 51/83 [06:53<04:41,  8.80s/it]"
     ]
    },
    {
     "name": "stdout",
     "output_type": "stream",
     "text": [
      "6669 ：毛利率 8.0 < 20%，跳過\n",
      "6670 , wait  11\n",
      "6670  wait  8\n"
     ]
    },
    {
     "name": "stderr",
     "output_type": "stream",
     "text": [
      "\r",
      " 63%|███████████████████████████████████████████████████▎                              | 52/83 [07:14<06:25, 12.45s/it]"
     ]
    },
    {
     "name": "stdout",
     "output_type": "stream",
     "text": [
      "6691 , wait  12\n"
     ]
    },
    {
     "name": "stderr",
     "output_type": "stream",
     "text": [
      "c:\\users\\mia\\appdata\\local\\programs\\python\\python37\\lib\\site-packages\\openpyxl\\styles\\stylesheet.py:221: UserWarning: Workbook contains no default style, apply openpyxl's default\n",
      "  warn(\"Workbook contains no default style, apply openpyxl's default\")\n",
      "D:\\Mia\\Stock\\code\\finance.py:476: RuntimeWarning: divide by zero encountered in double_scalars\n",
      "  df.loc[idx, '本益比(Y)'] = round(df.loc[idx, '股價'] / EPS_year,2) # 本益比 = 股價 / 年度EPS\n"
     ]
    },
    {
     "name": "stdout",
     "output_type": "stream",
     "text": [
      "6691  wait  5\n",
      "No tables found\n"
     ]
    },
    {
     "name": "stderr",
     "output_type": "stream",
     "text": [
      "\r",
      " 64%|████████████████████████████████████████████████████▎                             | 53/83 [07:35<07:37, 15.26s/it]"
     ]
    },
    {
     "name": "stdout",
     "output_type": "stream",
     "text": [
      "6706 , wait  7\n",
      "6706  wait  7\n"
     ]
    },
    {
     "name": "stderr",
     "output_type": "stream",
     "text": [
      "\r",
      " 65%|█████████████████████████████████████████████████████▎                            | 54/83 [07:51<07:28, 15.48s/it]"
     ]
    },
    {
     "name": "stdout",
     "output_type": "stream",
     "text": [
      "6719 , wait  14\n"
     ]
    },
    {
     "name": "stderr",
     "output_type": "stream",
     "text": [
      "c:\\users\\mia\\appdata\\local\\programs\\python\\python37\\lib\\site-packages\\openpyxl\\styles\\stylesheet.py:221: UserWarning: Workbook contains no default style, apply openpyxl's default\n",
      "  warn(\"Workbook contains no default style, apply openpyxl's default\")\n",
      "D:\\Mia\\Stock\\code\\finance.py:476: RuntimeWarning: divide by zero encountered in double_scalars\n",
      "  df.loc[idx, '本益比(Y)'] = round(df.loc[idx, '股價'] / EPS_year,2) # 本益比 = 股價 / 年度EPS\n"
     ]
    },
    {
     "name": "stdout",
     "output_type": "stream",
     "text": [
      "6719  wait  6\n",
      "No tables found\n"
     ]
    },
    {
     "name": "stderr",
     "output_type": "stream",
     "text": [
      "\r",
      " 66%|██████████████████████████████████████████████████████▎                           | 55/83 [08:14<08:15, 17.71s/it]"
     ]
    },
    {
     "name": "stdout",
     "output_type": "stream",
     "text": [
      "6776 , wait  11\n"
     ]
    },
    {
     "name": "stderr",
     "output_type": "stream",
     "text": [
      "\r",
      " 67%|███████████████████████████████████████████████████████▎                          | 56/83 [08:16<05:53, 13.08s/it]"
     ]
    },
    {
     "name": "stdout",
     "output_type": "stream",
     "text": [
      "6776 ：毛利率 6.5 < 20%，跳過\n",
      "6781 , wait  14\n",
      "6781  wait  9\n"
     ]
    },
    {
     "name": "stderr",
     "output_type": "stream",
     "text": [
      "D:\\Mia\\Stock\\code\\finance.py:440: RuntimeWarning: invalid value encountered in double_scalars\n",
      "  df_new['股利_avg'] = round(round(df_new.loc[0, 'EPS(Y)'],3) * round(df_new.loc[0, '股利(%)'],3)/100, 2)\n",
      "\r",
      " 69%|████████████████████████████████████████████████████████▎                         | 57/83 [08:46<07:51, 18.14s/it]"
     ]
    },
    {
     "name": "stdout",
     "output_type": "stream",
     "text": [
      "8016 , wait  9\n"
     ]
    },
    {
     "name": "stderr",
     "output_type": "stream",
     "text": [
      "c:\\users\\mia\\appdata\\local\\programs\\python\\python37\\lib\\site-packages\\openpyxl\\styles\\stylesheet.py:221: UserWarning: Workbook contains no default style, apply openpyxl's default\n",
      "  warn(\"Workbook contains no default style, apply openpyxl's default\")\n"
     ]
    },
    {
     "name": "stdout",
     "output_type": "stream",
     "text": [
      "8016  wait  5\n"
     ]
    },
    {
     "name": "stderr",
     "output_type": "stream",
     "text": [
      "\r",
      " 70%|█████████████████████████████████████████████████████████▎                        | 58/83 [09:03<07:19, 17.60s/it]"
     ]
    },
    {
     "name": "stdout",
     "output_type": "stream",
     "text": [
      "8046 , wait  14\n"
     ]
    },
    {
     "name": "stderr",
     "output_type": "stream",
     "text": [
      "c:\\users\\mia\\appdata\\local\\programs\\python\\python37\\lib\\site-packages\\openpyxl\\styles\\stylesheet.py:221: UserWarning: Workbook contains no default style, apply openpyxl's default\n",
      "  warn(\"Workbook contains no default style, apply openpyxl's default\")\n"
     ]
    },
    {
     "name": "stdout",
     "output_type": "stream",
     "text": [
      "8046  wait  5\n"
     ]
    },
    {
     "name": "stderr",
     "output_type": "stream",
     "text": [
      "\r",
      " 71%|██████████████████████████████████████████████████████████▎                       | 59/83 [09:24<07:26, 18.62s/it]"
     ]
    },
    {
     "name": "stdout",
     "output_type": "stream",
     "text": [
      "8070 , wait  11\n"
     ]
    },
    {
     "name": "stderr",
     "output_type": "stream",
     "text": [
      "c:\\users\\mia\\appdata\\local\\programs\\python\\python37\\lib\\site-packages\\openpyxl\\styles\\stylesheet.py:221: UserWarning: Workbook contains no default style, apply openpyxl's default\n",
      "  warn(\"Workbook contains no default style, apply openpyxl's default\")\n"
     ]
    },
    {
     "name": "stdout",
     "output_type": "stream",
     "text": [
      "8070  wait  5\n"
     ]
    },
    {
     "name": "stderr",
     "output_type": "stream",
     "text": [
      "\r",
      " 72%|███████████████████████████████████████████████████████████▎                      | 60/83 [09:43<07:14, 18.91s/it]"
     ]
    },
    {
     "name": "stdout",
     "output_type": "stream",
     "text": [
      "8081 , wait  14\n"
     ]
    },
    {
     "name": "stderr",
     "output_type": "stream",
     "text": [
      "c:\\users\\mia\\appdata\\local\\programs\\python\\python37\\lib\\site-packages\\openpyxl\\styles\\stylesheet.py:221: UserWarning: Workbook contains no default style, apply openpyxl's default\n",
      "  warn(\"Workbook contains no default style, apply openpyxl's default\")\n"
     ]
    },
    {
     "name": "stdout",
     "output_type": "stream",
     "text": [
      "8081  wait  5\n"
     ]
    },
    {
     "name": "stderr",
     "output_type": "stream",
     "text": [
      "\r",
      " 73%|████████████████████████████████████████████████████████████▎                     | 61/83 [10:06<07:21, 20.07s/it]"
     ]
    },
    {
     "name": "stdout",
     "output_type": "stream",
     "text": [
      "8105 , wait  14\n"
     ]
    },
    {
     "name": "stderr",
     "output_type": "stream",
     "text": [
      "c:\\users\\mia\\appdata\\local\\programs\\python\\python37\\lib\\site-packages\\openpyxl\\styles\\stylesheet.py:221: UserWarning: Workbook contains no default style, apply openpyxl's default\n",
      "  warn(\"Workbook contains no default style, apply openpyxl's default\")\n",
      "\r",
      " 75%|█████████████████████████████████████████████████████████████▎                    | 62/83 [10:09<05:10, 14.79s/it]"
     ]
    },
    {
     "name": "stdout",
     "output_type": "stream",
     "text": [
      "8105 ：毛利率 11.0 < 20%，跳過\n",
      "8110 , wait  13\n"
     ]
    },
    {
     "name": "stderr",
     "output_type": "stream",
     "text": [
      "\r",
      " 76%|██████████████████████████████████████████████████████████████▏                   | 63/83 [10:11<03:41, 11.06s/it]"
     ]
    },
    {
     "name": "stdout",
     "output_type": "stream",
     "text": [
      "8110 ：毛利率 5.2 < 20%，跳過\n",
      "8163 , wait  11\n"
     ]
    },
    {
     "name": "stderr",
     "output_type": "stream",
     "text": [
      "\r",
      " 77%|███████████████████████████████████████████████████████████████▏                  | 64/83 [10:12<02:34,  8.14s/it]"
     ]
    },
    {
     "name": "stdout",
     "output_type": "stream",
     "text": [
      "8163 ：毛利率 16.5 < 20%，跳過\n",
      "8210 , wait  7\n"
     ]
    },
    {
     "name": "stderr",
     "output_type": "stream",
     "text": [
      "\r",
      " 78%|████████████████████████████████████████████████████████████████▏                 | 65/83 [10:14<01:54,  6.35s/it]"
     ]
    },
    {
     "name": "stdout",
     "output_type": "stream",
     "text": [
      "8210 ：毛利率 17.0 < 20%，跳過\n",
      "8213 , wait  8\n"
     ]
    },
    {
     "name": "stderr",
     "output_type": "stream",
     "text": [
      "\r",
      " 80%|█████████████████████████████████████████████████████████████████▏                | 66/83 [10:16<01:22,  4.86s/it]"
     ]
    },
    {
     "name": "stdout",
     "output_type": "stream",
     "text": [
      "8213 ：毛利率 16.0 < 20%，跳過\n",
      "8442 , wait  11\n"
     ]
    },
    {
     "name": "stderr",
     "output_type": "stream",
     "text": [
      "\r",
      " 81%|██████████████████████████████████████████████████████████████████▏               | 67/83 [10:19<01:09,  4.37s/it]"
     ]
    },
    {
     "name": "stdout",
     "output_type": "stream",
     "text": [
      "8442 ：毛利率 12.4 < 20%，跳過\n",
      "8454 , wait  5\n"
     ]
    },
    {
     "name": "stderr",
     "output_type": "stream",
     "text": [
      "\r",
      " 82%|███████████████████████████████████████████████████████████████████▏              | 68/83 [10:21<00:54,  3.65s/it]"
     ]
    },
    {
     "name": "stdout",
     "output_type": "stream",
     "text": [
      "8454 ：毛利率 9.9 < 20%，跳過\n",
      "9105 , wait  5\n"
     ]
    },
    {
     "name": "stderr",
     "output_type": "stream",
     "text": [
      "\r",
      " 83%|████████████████████████████████████████████████████████████████████▏             | 69/83 [10:22<00:39,  2.80s/it]"
     ]
    },
    {
     "name": "stdout",
     "output_type": "stream",
     "text": [
      "df is None\n",
      "9802 , wait  11\n"
     ]
    },
    {
     "name": "stderr",
     "output_type": "stream",
     "text": [
      "\r",
      " 84%|█████████████████████████████████████████████████████████████████████▏            | 70/83 [10:23<00:29,  2.27s/it]"
     ]
    },
    {
     "name": "stdout",
     "output_type": "stream",
     "text": [
      "9802 ：毛利率 19.1 < 20%，跳過\n",
      "9907 , wait  11\n"
     ]
    },
    {
     "name": "stderr",
     "output_type": "stream",
     "text": [
      "\r",
      " 86%|██████████████████████████████████████████████████████████████████████▏           | 71/83 [10:24<00:23,  1.96s/it]"
     ]
    },
    {
     "name": "stdout",
     "output_type": "stream",
     "text": [
      "9907 ：毛利率 13.4 < 20%，跳過\n",
      "9910 , wait  8\n",
      "9910  wait  9\n"
     ]
    },
    {
     "name": "stderr",
     "output_type": "stream",
     "text": [
      "\r",
      " 87%|███████████████████████████████████████████████████████████████████████▏          | 72/83 [10:45<01:24,  7.71s/it]"
     ]
    },
    {
     "name": "stdout",
     "output_type": "stream",
     "text": [
      "9911 , wait  13\n"
     ]
    },
    {
     "name": "stderr",
     "output_type": "stream",
     "text": [
      "c:\\users\\mia\\appdata\\local\\programs\\python\\python37\\lib\\site-packages\\openpyxl\\styles\\stylesheet.py:221: UserWarning: Workbook contains no default style, apply openpyxl's default\n",
      "  warn(\"Workbook contains no default style, apply openpyxl's default\")\n"
     ]
    },
    {
     "name": "stdout",
     "output_type": "stream",
     "text": [
      "9911  wait  6\n"
     ]
    },
    {
     "name": "stderr",
     "output_type": "stream",
     "text": [
      "\r",
      " 88%|████████████████████████████████████████████████████████████████████████          | 73/83 [11:08<02:01, 12.13s/it]"
     ]
    },
    {
     "name": "stdout",
     "output_type": "stream",
     "text": [
      "9921 , wait  10\n"
     ]
    },
    {
     "name": "stderr",
     "output_type": "stream",
     "text": [
      "c:\\users\\mia\\appdata\\local\\programs\\python\\python37\\lib\\site-packages\\openpyxl\\styles\\stylesheet.py:221: UserWarning: Workbook contains no default style, apply openpyxl's default\n",
      "  warn(\"Workbook contains no default style, apply openpyxl's default\")\n",
      "\r",
      " 89%|█████████████████████████████████████████████████████████████████████████         | 74/83 [11:09<01:19,  8.82s/it]"
     ]
    },
    {
     "name": "stdout",
     "output_type": "stream",
     "text": [
      "9921 ：營益率 7.7  < 8%，跳過\n",
      "9924 , wait  10\n"
     ]
    },
    {
     "name": "stderr",
     "output_type": "stream",
     "text": [
      "\r",
      " 90%|██████████████████████████████████████████████████████████████████████████        | 75/83 [11:11<00:55,  6.89s/it]"
     ]
    },
    {
     "name": "stdout",
     "output_type": "stream",
     "text": [
      "9924 ：毛利率 16.8 < 20%，跳過\n",
      "9927 , wait  8\n"
     ]
    },
    {
     "name": "stderr",
     "output_type": "stream",
     "text": [
      "\r",
      " 92%|███████████████████████████████████████████████████████████████████████████       | 76/83 [11:14<00:38,  5.55s/it]"
     ]
    },
    {
     "name": "stdout",
     "output_type": "stream",
     "text": [
      "9927 ：毛利率 14.9 < 20%，跳過\n",
      "9933 , wait  8\n"
     ]
    },
    {
     "name": "stderr",
     "output_type": "stream",
     "text": [
      "\r",
      " 93%|████████████████████████████████████████████████████████████████████████████      | 77/83 [11:15<00:25,  4.18s/it]"
     ]
    },
    {
     "name": "stdout",
     "output_type": "stream",
     "text": [
      "9933 ：毛利率 5.8 < 20%，跳過\n",
      "9934 , wait  7\n"
     ]
    },
    {
     "name": "stderr",
     "output_type": "stream",
     "text": [
      "\r",
      " 94%|█████████████████████████████████████████████████████████████████████████████     | 78/83 [11:17<00:18,  3.69s/it]"
     ]
    },
    {
     "name": "stdout",
     "output_type": "stream",
     "text": [
      "9934 ：營益率 -2.4  < 8%，跳過\n",
      "9937 , wait  6\n"
     ]
    },
    {
     "name": "stderr",
     "output_type": "stream",
     "text": [
      "\r",
      " 95%|██████████████████████████████████████████████████████████████████████████████    | 79/83 [11:20<00:13,  3.31s/it]"
     ]
    },
    {
     "name": "stdout",
     "output_type": "stream",
     "text": [
      "9937 ：毛利率 11.0 < 20%，跳過\n",
      "9938 , wait  13\n",
      "9938  wait  8\n"
     ]
    },
    {
     "name": "stderr",
     "output_type": "stream",
     "text": [
      "\r",
      " 96%|███████████████████████████████████████████████████████████████████████████████   | 80/83 [11:43<00:27,  9.19s/it]"
     ]
    },
    {
     "name": "stdout",
     "output_type": "stream",
     "text": [
      "9939 , wait  9\n"
     ]
    },
    {
     "name": "stderr",
     "output_type": "stream",
     "text": [
      "c:\\users\\mia\\appdata\\local\\programs\\python\\python37\\lib\\site-packages\\openpyxl\\styles\\stylesheet.py:221: UserWarning: Workbook contains no default style, apply openpyxl's default\n",
      "  warn(\"Workbook contains no default style, apply openpyxl's default\")\n"
     ]
    },
    {
     "name": "stdout",
     "output_type": "stream",
     "text": [
      "9939  wait  6\n"
     ]
    },
    {
     "name": "stderr",
     "output_type": "stream",
     "text": [
      "\r",
      " 98%|████████████████████████████████████████████████████████████████████████████████  | 81/83 [12:01<00:24, 12.00s/it]"
     ]
    },
    {
     "name": "stdout",
     "output_type": "stream",
     "text": [
      "9945 , wait  12\n"
     ]
    },
    {
     "name": "stderr",
     "output_type": "stream",
     "text": [
      "c:\\users\\mia\\appdata\\local\\programs\\python\\python37\\lib\\site-packages\\openpyxl\\styles\\stylesheet.py:221: UserWarning: Workbook contains no default style, apply openpyxl's default\n",
      "  warn(\"Workbook contains no default style, apply openpyxl's default\")\n"
     ]
    },
    {
     "name": "stdout",
     "output_type": "stream",
     "text": [
      "9945  wait  8\n"
     ]
    },
    {
     "name": "stderr",
     "output_type": "stream",
     "text": [
      "\r",
      " 99%|█████████████████████████████████████████████████████████████████████████████████ | 82/83 [12:23<00:14, 14.99s/it]"
     ]
    },
    {
     "name": "stdout",
     "output_type": "stream",
     "text": [
      "9958 , wait  8\n"
     ]
    },
    {
     "name": "stderr",
     "output_type": "stream",
     "text": [
      "c:\\users\\mia\\appdata\\local\\programs\\python\\python37\\lib\\site-packages\\openpyxl\\styles\\stylesheet.py:221: UserWarning: Workbook contains no default style, apply openpyxl's default\n",
      "  warn(\"Workbook contains no default style, apply openpyxl's default\")\n"
     ]
    },
    {
     "name": "stdout",
     "output_type": "stream",
     "text": [
      "9958  wait  6\n"
     ]
    },
    {
     "name": "stderr",
     "output_type": "stream",
     "text": [
      "100%|██████████████████████████████████████████████████████████████████████████████████| 83/83 [12:39<00:00,  9.15s/it]\n"
     ]
    },
    {
     "name": "stdout",
     "output_type": "stream",
     "text": [
      "EPS檢查 34 筆\n",
      " ['4536', '4919', '4927', '4942', '4958', '4961', '5007', '5306', '5522', '5871', '6005', '6202', '6239', '6257', '6271', '6409', '6415', '6579', '6592', '6670', '6691', '6706', '6719', '6781', '8016', '8046', '8070', '8081', '9910', '9911', '9938', '9939', '9945', '9958']\n"
     ]
    }
   ],
   "source": [
    "# ==============================\n",
    "#  取得觀察中公司的季報、預測EPS\n",
    "# ==============================\n",
    "df_quarterly_all = get_df_quarterly_all()\n",
    "df_yearly_all = get_df_yearly_all() # 寫入歷年EPS、本益比，估算今年股價min, max範圍\n",
    "\n",
    "lst_eps_pass = []\n",
    "print('觀察中公司有：', len(lst_monthly_id), '筆')\n",
    "for i in range(len(lst_all_id)):\n",
    "#     if i < 2:\n",
    "#         print('skip:', i)\n",
    "#         continue\n",
    "    print('Check:', i)\n",
    "    lst = lst_all_id[i]\n",
    "    lst_monthly_id = get_EPS(lst, 'quarterly')\n",
    "    lst_eps_pass += lst_monthly_id\n",
    "    print('EPS檢查', len(lst_monthly_id), '筆\\n', lst_monthly_id)"
   ]
  },
  {
   "cell_type": "code",
   "execution_count": 4,
   "metadata": {},
   "outputs": [
    {
     "name": "stdout",
     "output_type": "stream",
     "text": [
      "['1101', '1102', '1301', '1303', '1304', '1308', '1409', '1476', '1477', '1504', '1513', '1532', '1560', '1590', '1708', '1709', '1773', '1802', '2002', '2027', '2030', '2049', '2303', '2308', '2327', '2330', '2337', '2338', '2344', '2357', '2368', '2376', '2379', '2383', '2395', '2401', '2408', '2428', '2454', '2472', '2481', '2545', '2548', '2603', '2606', '2609', '2610', '2615', '2618', '2636', '2637', '2801', '2809', '2834', '2838', '2886', '2887', '2891', '2897', '2905', '2923', '3005', '3030', '3034', '3035', '3037', '3189', '3406', '3413', '3443', '3532', '3592', '3653', '3665', '4536', '4919', '4927', '4942', '4958', '4961', '5007', '5306', '5522', '5871', '6005', '6202', '6239', '6257', '6271', '6409', '6415', '6579', '6592', '6670', '6691', '6706', '6719', '6781', '8016', '8046', '8070', '8081', '9910', '9911', '9938', '9939', '9945', '9958']\n"
     ]
    }
   ],
   "source": [
    "lst_eps_pass =  ['1101', '1102', '1301', '1303', '1304', '1308', '1409', '1476', '1477', '1504', '1513', '1532', '1560', '1590', '1708', '1709', '1773', '1802', '2002', '2027', '2030', '2049', '2303', '2308', '2327', '2330', '2337', '2338', '2344'] \\\n",
    "+ ['2357', '2368', '2376', '2379', '2383', '2395', '2401', '2408', '2428', '2454', '2472', '2481', '2545', '2548', '2603', '2606', '2609', '2610', '2615', '2618', '2636', '2637', '2801', '2809', '2834', '2838', '2886', '2887', '2891', '2897', '2905', '2923', '3005', '3030', '3034', '3035', '3037', '3189', '3406', '3413', '3443', '3532', '3592', '3653', '3665'] \\\n",
    "+ ['4536', '4919', '4927', '4942', '4958', '4961', '5007', '5306', '5522', '5871', '6005', '6202', '6239', '6257', '6271', '6409', '6415', '6579', '6592', '6670', '6691', '6706', '6719', '6781', '8016', '8046', '8070', '8081', '9910', '9911', '9938', '9939', '9945', '9958']\n",
    "print(lst_eps_pass)"
   ]
  },
  {
   "cell_type": "code",
   "execution_count": 14,
   "metadata": {},
   "outputs": [],
   "source": [
    "def check_income_pass(lst_stock_expect, df_quarter, df_month):\n",
    "    df_expect = get_df_quarterly_all()\n",
    "    for stock_id in lst_stock_expect:\n",
    "    # stock_id = '4961'\n",
    "        df_stock = df_quarter[df_quarter['stock_id']==stock_id]\n",
    "        df_estimate_income = get_estimate_income(df_stock, stock_id, this_year, this_quarter)\n",
    "\n",
    "        if stock_id in list(df_month['公司代號']): \n",
    "            real_income = round(df_month[df_month['公司代號']==stock_id].iloc[0,5] / 100000, 2)\n",
    "            expect_income = round(df_estimate_income.iloc[0, 3], 2)\n",
    "\n",
    "            stock_name = df_estimate_income.iloc[0,1]\n",
    "            real_q = df_estimate_income.iloc[0,2] +'_r'\n",
    "            df_real = pd.DataFrame([{'stock_id':stock_id, 'name':stock_name, 'quarter':real_q, '營業收入':real_income}]\n",
    "                                   ,columns=df_expect_all.columns)\n",
    "            df_estimate_income = df_estimate_income.append(df_real)\n",
    "            df_estimate_income.sort_values('quarter', ascending=False, inplace=True)\n",
    "\n",
    "            if  real_income > expect_income:\n",
    "                lst_pass.append(stock_id)\n",
    "            else:\n",
    "                lst_bad.append(stock_id)\n",
    "        else:\n",
    "            lst_unknown.append(stock_id)\n",
    "        df_expect = df_expect.append(df_estimate_income.iloc[:4,:-5])\n",
    "    return df_expect"
   ]
  },
  {
   "cell_type": "code",
   "execution_count": 8,
   "metadata": {},
   "outputs": [
    {
     "name": "stdout",
     "output_type": "stream",
     "text": [
      "['4935', '4942', '4961', '5538', '5608', '6116', '6177', '6192', '6605', '6670', '6672', '6781', '8016', '8404', '9938', '9940']\n",
      "['1301', '1303', '1304', '1308', '1532', '1583', '2002', '2027', '2028', '2030', '2031', '2104', '2337', '2344', '2348', '2375', '2376']\n",
      "['2408', '2441', '2449', '2451', '2467', '2520', '2539', '2542', '2545', '2548', '2601', '2603', '2606', '2609', '2615', '2636', '2637', '3006', '3014', '3034', '3545', '3665']\n"
     ]
    }
   ],
   "source": [
    "from glob import glob\n",
    "path_month_finance = path_month_finance + 't21sc03_111_2.csv'\n",
    "df_month = pd.read_csv(path_month_finance, dtype={'公司代號':str})\n",
    "lst_pass = []\n",
    "lst_unknown = []\n",
    "lst_bad = []\n",
    "df_expect_all = get_df_quarterly_all()\n",
    "df_income_all = get_df_quarterly_all()\n",
    "\n",
    "# for path_expect in glob(path_quarterly+'2021Q4/*'):\n",
    "for path_expect in glob(path_quarterly+'2022Q2/*'):\n",
    "    df_quarter = pd.read_excel(path_expect, engine='openpyxl', dtype={'stock_id':str})\n",
    "    df_expect_all = df_expect_all.append(df_quarter)\n",
    "    \n",
    "    df_quarter = df_quarter[ (df_quarter['quarter']==str(this_year)+'Q'+str(this_quarter)) \n",
    "                           & (df_quarter['本益比(Y)']<12)]\n",
    "    lst_stock_expect = list(df_quarter['stock_id'])\n",
    "    print(lst_stock_expect)\n",
    "    df_income_all = df_income_all.append(check_income_pass(\n",
    "                                            lst_stock_expect, df_quarter, df_month))\n",
    "    "
   ]
  },
  {
   "cell_type": "code",
   "execution_count": 9,
   "metadata": {},
   "outputs": [
    {
     "data": {
      "text/html": [
       "<div>\n",
       "<style scoped>\n",
       "    .dataframe tbody tr th:only-of-type {\n",
       "        vertical-align: middle;\n",
       "    }\n",
       "\n",
       "    .dataframe tbody tr th {\n",
       "        vertical-align: top;\n",
       "    }\n",
       "\n",
       "    .dataframe thead th {\n",
       "        text-align: right;\n",
       "    }\n",
       "</style>\n",
       "<table border=\"1\" class=\"dataframe\">\n",
       "  <thead>\n",
       "    <tr style=\"text-align: right;\">\n",
       "      <th></th>\n",
       "      <th>stock_id</th>\n",
       "      <th>name</th>\n",
       "      <th>quarter</th>\n",
       "      <th>營業收入</th>\n",
       "      <th>營業成本</th>\n",
       "      <th>營業毛利</th>\n",
       "      <th>營業毛利(毛損)淨額</th>\n",
       "      <th>營業費用</th>\n",
       "      <th>營業利益</th>\n",
       "      <th>稅前淨利</th>\n",
       "      <th>...</th>\n",
       "      <th>股利_avg</th>\n",
       "      <th>股利(%)</th>\n",
       "      <th>殖利率(%)</th>\n",
       "      <th>2020</th>\n",
       "      <th>2019</th>\n",
       "      <th>2018</th>\n",
       "      <th>2017</th>\n",
       "      <th>2016</th>\n",
       "      <th>2015</th>\n",
       "      <th>2019</th>\n",
       "    </tr>\n",
       "  </thead>\n",
       "  <tbody>\n",
       "    <tr>\n",
       "      <th>0</th>\n",
       "      <td>4935</td>\n",
       "      <td>茂林-KY</td>\n",
       "      <td>2021Q412_r</td>\n",
       "      <td>9.27</td>\n",
       "      <td>NaN</td>\n",
       "      <td>NaN</td>\n",
       "      <td>NaN</td>\n",
       "      <td>NaN</td>\n",
       "      <td>NaN</td>\n",
       "      <td>NaN</td>\n",
       "      <td>...</td>\n",
       "      <td>NaN</td>\n",
       "      <td>NaN</td>\n",
       "      <td>NaN</td>\n",
       "      <td>NaN</td>\n",
       "      <td>NaN</td>\n",
       "      <td>NaN</td>\n",
       "      <td>NaN</td>\n",
       "      <td>NaN</td>\n",
       "      <td>NaN</td>\n",
       "      <td>NaN</td>\n",
       "    </tr>\n",
       "    <tr>\n",
       "      <th>0</th>\n",
       "      <td>4935</td>\n",
       "      <td>茂林-KY</td>\n",
       "      <td>2021Q412</td>\n",
       "      <td>8.83</td>\n",
       "      <td>NaN</td>\n",
       "      <td>NaN</td>\n",
       "      <td>NaN</td>\n",
       "      <td>NaN</td>\n",
       "      <td>NaN</td>\n",
       "      <td>NaN</td>\n",
       "      <td>...</td>\n",
       "      <td>NaN</td>\n",
       "      <td>NaN</td>\n",
       "      <td>NaN</td>\n",
       "      <td>NaN</td>\n",
       "      <td>NaN</td>\n",
       "      <td>NaN</td>\n",
       "      <td>NaN</td>\n",
       "      <td>NaN</td>\n",
       "      <td>NaN</td>\n",
       "      <td>NaN</td>\n",
       "    </tr>\n",
       "  </tbody>\n",
       "</table>\n",
       "<p>2 rows × 33 columns</p>\n",
       "</div>"
      ],
      "text/plain": [
       "  stock_id   name     quarter  營業收入  營業成本  營業毛利  營業毛利(毛損)淨額  營業費用  營業利益  稅前淨利  \\\n",
       "0     4935  茂林-KY  2021Q412_r  9.27   NaN   NaN         NaN   NaN   NaN   NaN   \n",
       "0     4935  茂林-KY    2021Q412  8.83   NaN   NaN         NaN   NaN   NaN   NaN   \n",
       "\n",
       "   ...  股利_avg  股利(%)  殖利率(%)  2020  2019  2018  2017  2016  2015  2019  \n",
       "0  ...     NaN    NaN     NaN   NaN   NaN   NaN   NaN   NaN   NaN   NaN  \n",
       "0  ...     NaN    NaN     NaN   NaN   NaN   NaN   NaN   NaN   NaN   NaN  \n",
       "\n",
       "[2 rows x 33 columns]"
      ]
     },
     "execution_count": 9,
     "metadata": {},
     "output_type": "execute_result"
    }
   ],
   "source": [
    "df_income_pass = df_income_all[df_income_all['stock_id'].isin(lst_pass)]\n",
    "df_income_pass.head(2)"
   ]
  },
  {
   "cell_type": "code",
   "execution_count": 10,
   "metadata": {
    "scrolled": true
   },
   "outputs": [
    {
     "data": {
      "text/html": [
       "<div>\n",
       "<style scoped>\n",
       "    .dataframe tbody tr th:only-of-type {\n",
       "        vertical-align: middle;\n",
       "    }\n",
       "\n",
       "    .dataframe tbody tr th {\n",
       "        vertical-align: top;\n",
       "    }\n",
       "\n",
       "    .dataframe thead th {\n",
       "        text-align: right;\n",
       "    }\n",
       "</style>\n",
       "<table border=\"1\" class=\"dataframe\">\n",
       "  <thead>\n",
       "    <tr style=\"text-align: right;\">\n",
       "      <th></th>\n",
       "      <th>stock_id</th>\n",
       "      <th>name</th>\n",
       "      <th>quarter</th>\n",
       "      <th>營業收入</th>\n",
       "      <th>營業成本</th>\n",
       "      <th>營業毛利</th>\n",
       "      <th>營業毛利(毛損)淨額</th>\n",
       "      <th>營業費用</th>\n",
       "      <th>營業利益</th>\n",
       "      <th>稅前淨利</th>\n",
       "      <th>...</th>\n",
       "      <th>殖利率(%)</th>\n",
       "      <th>2020</th>\n",
       "      <th>2019</th>\n",
       "      <th>2018</th>\n",
       "      <th>2017</th>\n",
       "      <th>2016</th>\n",
       "      <th>2015</th>\n",
       "      <th>普通股數</th>\n",
       "      <th>year</th>\n",
       "      <th>2019</th>\n",
       "    </tr>\n",
       "  </thead>\n",
       "  <tbody>\n",
       "    <tr>\n",
       "      <th>0</th>\n",
       "      <td>1301</td>\n",
       "      <td>台塑</td>\n",
       "      <td>2021Q412_r</td>\n",
       "      <td>251.99</td>\n",
       "      <td>NaN</td>\n",
       "      <td>NaN</td>\n",
       "      <td>NaN</td>\n",
       "      <td>NaN</td>\n",
       "      <td>NaN</td>\n",
       "      <td>NaN</td>\n",
       "      <td>...</td>\n",
       "      <td>NaN</td>\n",
       "      <td>NaN</td>\n",
       "      <td>NaN</td>\n",
       "      <td>NaN</td>\n",
       "      <td>NaN</td>\n",
       "      <td>NaN</td>\n",
       "      <td>NaN</td>\n",
       "      <td>NaN</td>\n",
       "      <td>NaN</td>\n",
       "      <td>NaN</td>\n",
       "    </tr>\n",
       "    <tr>\n",
       "      <th>0</th>\n",
       "      <td>1301</td>\n",
       "      <td>台塑</td>\n",
       "      <td>2021Q412</td>\n",
       "      <td>246.04</td>\n",
       "      <td>NaN</td>\n",
       "      <td>NaN</td>\n",
       "      <td>NaN</td>\n",
       "      <td>NaN</td>\n",
       "      <td>NaN</td>\n",
       "      <td>NaN</td>\n",
       "      <td>...</td>\n",
       "      <td>NaN</td>\n",
       "      <td>NaN</td>\n",
       "      <td>NaN</td>\n",
       "      <td>NaN</td>\n",
       "      <td>NaN</td>\n",
       "      <td>NaN</td>\n",
       "      <td>NaN</td>\n",
       "      <td>NaN</td>\n",
       "      <td>NaN</td>\n",
       "      <td>NaN</td>\n",
       "    </tr>\n",
       "    <tr>\n",
       "      <th>0</th>\n",
       "      <td>1301</td>\n",
       "      <td>台塑</td>\n",
       "      <td>2021Q411</td>\n",
       "      <td>245.24</td>\n",
       "      <td>NaN</td>\n",
       "      <td>NaN</td>\n",
       "      <td>NaN</td>\n",
       "      <td>NaN</td>\n",
       "      <td>NaN</td>\n",
       "      <td>NaN</td>\n",
       "      <td>...</td>\n",
       "      <td>NaN</td>\n",
       "      <td>NaN</td>\n",
       "      <td>NaN</td>\n",
       "      <td>NaN</td>\n",
       "      <td>NaN</td>\n",
       "      <td>NaN</td>\n",
       "      <td>NaN</td>\n",
       "      <td>NaN</td>\n",
       "      <td>NaN</td>\n",
       "      <td>NaN</td>\n",
       "    </tr>\n",
       "  </tbody>\n",
       "</table>\n",
       "<p>3 rows × 35 columns</p>\n",
       "</div>"
      ],
      "text/plain": [
       "  stock_id name     quarter    營業收入  營業成本  營業毛利  營業毛利(毛損)淨額  營業費用  營業利益  稅前淨利  \\\n",
       "0     1301   台塑  2021Q412_r  251.99   NaN   NaN         NaN   NaN   NaN   NaN   \n",
       "0     1301   台塑    2021Q412  246.04   NaN   NaN         NaN   NaN   NaN   NaN   \n",
       "0     1301   台塑    2021Q411  245.24   NaN   NaN         NaN   NaN   NaN   NaN   \n",
       "\n",
       "   ...  殖利率(%)  2020  2019  2018  2017  2016  2015  普通股數  year  2019  \n",
       "0  ...     NaN   NaN   NaN   NaN   NaN   NaN   NaN   NaN   NaN   NaN  \n",
       "0  ...     NaN   NaN   NaN   NaN   NaN   NaN   NaN   NaN   NaN   NaN  \n",
       "0  ...     NaN   NaN   NaN   NaN   NaN   NaN   NaN   NaN   NaN   NaN  \n",
       "\n",
       "[3 rows x 35 columns]"
      ]
     },
     "execution_count": 10,
     "metadata": {},
     "output_type": "execute_result"
    }
   ],
   "source": [
    "df_expect_pass = df_expect_all[df_expect_all['stock_id'].isin(lst_pass)]\n",
    "\n",
    "df_quarterly_pass = df_expect_pass.append(df_income_pass)\n",
    "df_quarterly_pass = df_quarterly_pass.sort_values(['stock_id', 'quarter'], ascending=[True, False])\n",
    "df_quarterly_pass.to_excel(path_quarterly+'2021Q4/quarterly_pass_{}.xlsx'.format(s_today), index=False)\n",
    "df_quarterly_pass.head(3)"
   ]
  },
  {
   "cell_type": "markdown",
   "metadata": {},
   "source": [
    "# 5年成長"
   ]
  },
  {
   "cell_type": "code",
   "execution_count": 5,
   "metadata": {},
   "outputs": [
    {
     "name": "stdout",
     "output_type": "stream",
     "text": [
      "22\n",
      "['1301', '1532', '1583', '2348', '2375', '2449', '2467', '2520', '2545', '2603', '2609', '2637', '3665', '4935', '4942', '5538', '6116', '6177', '6670', '6781', '9938', '9940']\n"
     ]
    }
   ],
   "source": [
    "df_income_pass = pd.read_excel(path_quarterly+'2021Q4/quarterly_pass_20220115.xlsx'\n",
    "                               , engine='openpyxl', dtype={'stock_id':str})\n",
    "\n",
    "lst_pass = list(df_income_pass['stock_id'].unique())\n",
    "# lst_pass = ['3023'] #,'2603' '2609', '2637', '3665'\n",
    "print(len(lst_pass))\n",
    "print(lst_pass)"
   ]
  },
  {
   "cell_type": "code",
   "execution_count": 5,
   "metadata": {},
   "outputs": [
    {
     "data": {
      "text/plain": [
       "160"
      ]
     },
     "execution_count": 5,
     "metadata": {},
     "output_type": "execute_result"
    }
   ],
   "source": [
    "lst_0 = ['1102', '1227', '1301', '1303', '1304', '1308', '1409', '1476', '1477', '1532', '1536', '1560', '1583', '1590', '1707', '1708', '1718', '1723', '1726', '1773', '1795', '1808', '2002', '2027', '2028', '2030', '2031', '9941', '9958']\n",
    "lst_1 = ['2049', '2059', '2104', '2207', '2303', '2327', '2330', '2337', '2338', '2344', '2348', '2368', '2369', '2373', '2375', '2376', '2379', '2383', '2395', '2408', '2409', '2428', '2441', '2449', '2451', '2454', '2464', '2467', '2472', '2476', '2478', '2481', '2492', '2511', '2520', '2524', '2539', '2542', '2545', '2548', '2601', '2603', '2606']\n",
    "lst_2 = ['2609', '2615', '2636', '2637', '2801', '2809', '2812', '2838', '2855', '2880', '2882', '2883', '2884', '2885', '2886', '2887', '2888', '2889', '2890', '2891', '2892', '3005', '3006', '3014', '3019', '3026', '3034', '3035', '3037', '3045', '3189', '3413', '3443', '3515', '3533', '3545', '3592', '3653', '3661', '3665', '3711', '4536', '4755', '4927']\n",
    "lst_3 = ['4935', '4942', '4958', '4961', '5007', '5519', '5538', '5608', '5871', '6005', '6116', '6177', '6192', '6202', '6206', '6239', '6257', '6271', '6277', '6409', '6415', '6491', '6531', '6579', '6592', '6605', '6670', '6672', '6691', '6706', '6781', '6806', '8016', '8046', '8070', '8081', '8114', '8210', '8404', '9911', '9921', '9938', '9939', '9940']\n",
    "\n",
    "lst_pass = lst_0 + lst_1 + lst_2 + lst_3\n",
    "# lst_pass = ['3023']\n",
    "len(lst_pass)"
   ]
  },
  {
   "cell_type": "code",
   "execution_count": 5,
   "metadata": {},
   "outputs": [
    {
     "name": "stdout",
     "output_type": "stream",
     "text": [
      "55\n",
      "53\n"
     ]
    }
   ],
   "source": [
    "lst_pass = lst_eps_pass\n",
    "\n",
    "sep_num = 55\n",
    "n = 0\n",
    "lst_all_id = []\n",
    "if len(lst_pass)>sep_num:\n",
    "    while n < len(lst_pass):\n",
    "        lst_all_id.append(lst_pass[n:n+sep_num])\n",
    "        n += sep_num\n",
    "else:\n",
    "    lst_all_id.append(lst_pass)\n",
    "for i in lst_all_id:\n",
    "    print(len(i))"
   ]
  },
  {
   "cell_type": "code",
   "execution_count": 12,
   "metadata": {},
   "outputs": [
    {
     "name": "stderr",
     "output_type": "stream",
     "text": [
      "\r",
      "  0%|                                                                                           | 0/55 [00:00<?, ?it/s]"
     ]
    },
    {
     "name": "stdout",
     "output_type": "stream",
     "text": [
      "1101 add new equity 2021Q4\n",
      "get_equity： 1101 2021 4\n",
      "1101 add new equity 2021Q3\n",
      "get_equity： 1101 2021 3\n",
      "1101 add new equity 2021Q2\n",
      "get_equity： 1101 2021 2\n",
      "1101 add new equity 2021Q1\n",
      "get_equity： 1101 2021 1\n",
      "1101 add new equity 2020Q4\n",
      "get_equity： 1101 2020 4\n",
      "1101 add new equity 2020Q3\n",
      "get_equity： 1101 2020 3\n",
      "1101 add new equity 2020Q2\n",
      "get_equity： 1101 2020 2\n",
      "1101 add new equity 2020Q1\n",
      "get_equity： 1101 2020 1\n",
      "1101 add new equity 2019Q4\n",
      "get_equity： 1101 2019 4\n",
      "1101 add new equity 2019Q3\n",
      "get_equity： 1101 2019 3\n",
      "1101 add new equity 2019Q2\n",
      "get_equity： 1101 2019 2\n",
      "1101 add new equity 2019Q1\n",
      "get_equity： 1101 2019 1\n",
      "1101 add new equity 2018Q4\n",
      "get_equity： 1101 2018 4\n",
      "1101 add new equity 2018Q3\n",
      "get_equity： 1101 2018 3\n",
      "1101 add new equity 2018Q2\n",
      "get_equity： 1101 2018 2\n",
      "1101 add new equity 2018Q1\n",
      "get_equity： 1101 2018 1\n"
     ]
    },
    {
     "name": "stderr",
     "output_type": "stream",
     "text": [
      "\r",
      "  2%|█▌                                                                                 | 1/55 [00:35<31:32, 35.04s/it]"
     ]
    },
    {
     "name": "stdout",
     "output_type": "stream",
     "text": [
      "1102 已存在\n"
     ]
    },
    {
     "name": "stderr",
     "output_type": "stream",
     "text": [
      "c:\\users\\mia\\appdata\\local\\programs\\python\\python37\\lib\\site-packages\\openpyxl\\styles\\stylesheet.py:221: UserWarning: Workbook contains no default style, apply openpyxl's default\n",
      "  warn(\"Workbook contains no default style, apply openpyxl's default\")\n",
      "\r",
      "  4%|███                                                                                | 2/55 [00:51<21:07, 23.91s/it]"
     ]
    },
    {
     "name": "stdout",
     "output_type": "stream",
     "text": [
      "1301 已存在\n",
      "1301 add new equity 2021Q4\n",
      "get_equity： 1301 2021 4\n"
     ]
    },
    {
     "name": "stderr",
     "output_type": "stream",
     "text": [
      "\r",
      "  5%|████▌                                                                              | 3/55 [00:53<12:02, 13.89s/it]"
     ]
    },
    {
     "name": "stdout",
     "output_type": "stream",
     "text": [
      "1303 已存在\n"
     ]
    },
    {
     "name": "stderr",
     "output_type": "stream",
     "text": [
      "c:\\users\\mia\\appdata\\local\\programs\\python\\python37\\lib\\site-packages\\openpyxl\\styles\\stylesheet.py:221: UserWarning: Workbook contains no default style, apply openpyxl's default\n",
      "  warn(\"Workbook contains no default style, apply openpyxl's default\")\n"
     ]
    },
    {
     "name": "stdout",
     "output_type": "stream",
     "text": [
      "1303 add new equity 2021Q4\n",
      "get_equity： 1303 2021 4\n"
     ]
    },
    {
     "name": "stderr",
     "output_type": "stream",
     "text": [
      "\r",
      "  7%|██████                                                                             | 4/55 [00:55<07:51,  9.24s/it]"
     ]
    },
    {
     "name": "stdout",
     "output_type": "stream",
     "text": [
      "1304 已存在\n"
     ]
    },
    {
     "name": "stderr",
     "output_type": "stream",
     "text": [
      "c:\\users\\mia\\appdata\\local\\programs\\python\\python37\\lib\\site-packages\\openpyxl\\styles\\stylesheet.py:221: UserWarning: Workbook contains no default style, apply openpyxl's default\n",
      "  warn(\"Workbook contains no default style, apply openpyxl's default\")\n"
     ]
    },
    {
     "name": "stdout",
     "output_type": "stream",
     "text": [
      "1304 add new equity 2021Q4\n",
      "get_equity： 1304 2021 4\n"
     ]
    },
    {
     "name": "stderr",
     "output_type": "stream",
     "text": [
      "\r",
      "  9%|███████▌                                                                           | 5/55 [00:57<05:31,  6.63s/it]"
     ]
    },
    {
     "name": "stdout",
     "output_type": "stream",
     "text": [
      "1308 已存在\n"
     ]
    },
    {
     "name": "stderr",
     "output_type": "stream",
     "text": [
      "c:\\users\\mia\\appdata\\local\\programs\\python\\python37\\lib\\site-packages\\openpyxl\\styles\\stylesheet.py:221: UserWarning: Workbook contains no default style, apply openpyxl's default\n",
      "  warn(\"Workbook contains no default style, apply openpyxl's default\")\n"
     ]
    },
    {
     "name": "stdout",
     "output_type": "stream",
     "text": [
      "1308 add new equity 2021Q4\n",
      "get_equity： 1308 2021 4\n"
     ]
    },
    {
     "name": "stderr",
     "output_type": "stream",
     "text": [
      "\r",
      " 11%|█████████                                                                          | 6/55 [00:59<04:06,  5.03s/it]"
     ]
    },
    {
     "name": "stdout",
     "output_type": "stream",
     "text": [
      "1409 已存在\n"
     ]
    },
    {
     "name": "stderr",
     "output_type": "stream",
     "text": [
      "c:\\users\\mia\\appdata\\local\\programs\\python\\python37\\lib\\site-packages\\openpyxl\\styles\\stylesheet.py:221: UserWarning: Workbook contains no default style, apply openpyxl's default\n",
      "  warn(\"Workbook contains no default style, apply openpyxl's default\")\n"
     ]
    },
    {
     "name": "stdout",
     "output_type": "stream",
     "text": [
      "1409 add new equity 2021Q4\n",
      "get_equity： 1409 2021 4\n"
     ]
    },
    {
     "name": "stderr",
     "output_type": "stream",
     "text": [
      "\r",
      " 13%|██████████▌                                                                        | 7/55 [01:01<03:25,  4.28s/it]"
     ]
    },
    {
     "name": "stdout",
     "output_type": "stream",
     "text": [
      "1476 已存在\n"
     ]
    },
    {
     "name": "stderr",
     "output_type": "stream",
     "text": [
      "c:\\users\\mia\\appdata\\local\\programs\\python\\python37\\lib\\site-packages\\openpyxl\\styles\\stylesheet.py:221: UserWarning: Workbook contains no default style, apply openpyxl's default\n",
      "  warn(\"Workbook contains no default style, apply openpyxl's default\")\n"
     ]
    },
    {
     "name": "stdout",
     "output_type": "stream",
     "text": [
      "1476 add new equity 2021Q4\n",
      "get_equity： 1476 2021 4\n"
     ]
    },
    {
     "name": "stderr",
     "output_type": "stream",
     "text": [
      "\r",
      " 15%|████████████                                                                       | 8/55 [01:06<03:26,  4.40s/it]"
     ]
    },
    {
     "name": "stdout",
     "output_type": "stream",
     "text": [
      "1477 已存在\n"
     ]
    },
    {
     "name": "stderr",
     "output_type": "stream",
     "text": [
      "c:\\users\\mia\\appdata\\local\\programs\\python\\python37\\lib\\site-packages\\openpyxl\\styles\\stylesheet.py:221: UserWarning: Workbook contains no default style, apply openpyxl's default\n",
      "  warn(\"Workbook contains no default style, apply openpyxl's default\")\n"
     ]
    },
    {
     "name": "stdout",
     "output_type": "stream",
     "text": [
      "1477 add new equity 2021Q4\n",
      "get_equity： 1477 2021 4\n"
     ]
    },
    {
     "name": "stderr",
     "output_type": "stream",
     "text": [
      " 16%|█████████████▌                                                                     | 9/55 [01:08<02:43,  3.55s/it]c:\\users\\mia\\appdata\\local\\programs\\python\\python37\\lib\\site-packages\\openpyxl\\styles\\stylesheet.py:221: UserWarning: Workbook contains no default style, apply openpyxl's default\n",
      "  warn(\"Workbook contains no default style, apply openpyxl's default\")\n"
     ]
    },
    {
     "name": "stdout",
     "output_type": "stream",
     "text": [
      "1504 add new equity 2021Q4\n",
      "get_equity： 1504 2021 4\n",
      "1504 add new equity 2021Q3\n",
      "get_equity： 1504 2021 3\n",
      "1504 add new equity 2021Q2\n",
      "get_equity： 1504 2021 2\n",
      "1504 add new equity 2021Q1\n",
      "get_equity： 1504 2021 1\n",
      "1504 add new equity 2020Q4\n",
      "get_equity： 1504 2020 4\n",
      "1504 add new equity 2020Q3\n",
      "get_equity： 1504 2020 3\n",
      "1504 add new equity 2020Q2\n",
      "get_equity： 1504 2020 2\n",
      "1504 add new equity 2020Q1\n",
      "get_equity： 1504 2020 1\n",
      "1504 add new equity 2019Q4\n",
      "get_equity： 1504 2019 4\n",
      "1504 add new equity 2019Q3\n",
      "get_equity： 1504 2019 3\n",
      "1504 add new equity 2019Q2\n",
      "get_equity： 1504 2019 2\n",
      "1504 add new equity 2019Q1\n",
      "get_equity： 1504 2019 1\n",
      "1504 add new equity 2018Q4\n",
      "get_equity： 1504 2018 4\n",
      "1504 add new equity 2018Q3\n",
      "get_equity： 1504 2018 3\n",
      "1504 add new equity 2018Q2\n",
      "get_equity： 1504 2018 2\n",
      "1504 add new equity 2018Q1\n",
      "get_equity： 1504 2018 1\n"
     ]
    },
    {
     "name": "stderr",
     "output_type": "stream",
     "text": [
      " 18%|██████████████▉                                                                   | 10/55 [01:27<06:20,  8.46s/it]c:\\users\\mia\\appdata\\local\\programs\\python\\python37\\lib\\site-packages\\openpyxl\\styles\\stylesheet.py:221: UserWarning: Workbook contains no default style, apply openpyxl's default\n",
      "  warn(\"Workbook contains no default style, apply openpyxl's default\")\n"
     ]
    },
    {
     "name": "stdout",
     "output_type": "stream",
     "text": [
      "1513 add new equity 2021Q4\n",
      "get_equity： 1513 2021 4\n",
      "1513 add new equity 2021Q3\n",
      "get_equity： 1513 2021 3\n",
      "1513 add new equity 2021Q2\n",
      "get_equity： 1513 2021 2\n",
      "1513 add new equity 2021Q1\n",
      "get_equity： 1513 2021 1\n",
      "1513 add new equity 2020Q4\n",
      "get_equity： 1513 2020 4\n",
      "1513 add new equity 2020Q3\n",
      "get_equity： 1513 2020 3\n",
      "1513 add new equity 2020Q2\n",
      "get_equity： 1513 2020 2\n",
      "1513 add new equity 2020Q1\n",
      "get_equity： 1513 2020 1\n",
      "1513 add new equity 2019Q4\n",
      "get_equity： 1513 2019 4\n",
      "1513 add new equity 2019Q3\n",
      "get_equity： 1513 2019 3\n",
      "1513 add new equity 2019Q2\n",
      "get_equity： 1513 2019 2\n",
      "1513 add new equity 2019Q1\n",
      "get_equity： 1513 2019 1\n",
      "1513 add new equity 2018Q4\n",
      "get_equity： 1513 2018 4\n",
      "1513 add new equity 2018Q3\n",
      "get_equity： 1513 2018 3\n",
      "1513 add new equity 2018Q2\n",
      "get_equity： 1513 2018 2\n",
      "1513"
     ]
    },
    {
     "name": "stderr",
     "output_type": "stream",
     "text": [
      "\r",
      " 20%|████████████████▍                                                                 | 11/55 [01:31<05:04,  6.91s/it]"
     ]
    },
    {
     "name": "stdout",
     "output_type": "stream",
     "text": [
      " add new equity 2018Q1\n",
      "get_equity： 1513 2018 1\n",
      "1532 已存在\n"
     ]
    },
    {
     "name": "stderr",
     "output_type": "stream",
     "text": [
      "c:\\users\\mia\\appdata\\local\\programs\\python\\python37\\lib\\site-packages\\openpyxl\\styles\\stylesheet.py:221: UserWarning: Workbook contains no default style, apply openpyxl's default\n",
      "  warn(\"Workbook contains no default style, apply openpyxl's default\")\n",
      "\r",
      " 22%|█████████████████▉                                                                | 12/55 [01:32<03:47,  5.29s/it]"
     ]
    },
    {
     "name": "stdout",
     "output_type": "stream",
     "text": [
      "1560 已存在\n",
      "1560 add new equity 2021Q4\n",
      "get_equity： 1560 2021 4\n"
     ]
    },
    {
     "name": "stderr",
     "output_type": "stream",
     "text": [
      "\r",
      " 24%|███████████████████▍                                                              | 13/55 [01:34<02:52,  4.11s/it]"
     ]
    },
    {
     "name": "stdout",
     "output_type": "stream",
     "text": [
      "1590 已存在\n"
     ]
    },
    {
     "name": "stderr",
     "output_type": "stream",
     "text": [
      "c:\\users\\mia\\appdata\\local\\programs\\python\\python37\\lib\\site-packages\\openpyxl\\styles\\stylesheet.py:221: UserWarning: Workbook contains no default style, apply openpyxl's default\n",
      "  warn(\"Workbook contains no default style, apply openpyxl's default\")\n"
     ]
    },
    {
     "name": "stdout",
     "output_type": "stream",
     "text": [
      "1590 add new equity 2021Q4\n",
      "get_equity： 1590 2021 4\n"
     ]
    },
    {
     "name": "stderr",
     "output_type": "stream",
     "text": [
      "\r",
      " 25%|████████████████████▊                                                             | 14/55 [01:35<02:11,  3.20s/it]"
     ]
    },
    {
     "name": "stdout",
     "output_type": "stream",
     "text": [
      "1708 已存在\n"
     ]
    },
    {
     "name": "stderr",
     "output_type": "stream",
     "text": [
      "c:\\users\\mia\\appdata\\local\\programs\\python\\python37\\lib\\site-packages\\openpyxl\\styles\\stylesheet.py:221: UserWarning: Workbook contains no default style, apply openpyxl's default\n",
      "  warn(\"Workbook contains no default style, apply openpyxl's default\")\n"
     ]
    },
    {
     "name": "stdout",
     "output_type": "stream",
     "text": [
      "1708 add new equity 2021Q4\n",
      "get_equity： 1708 2021 4\n"
     ]
    },
    {
     "name": "stderr",
     "output_type": "stream",
     "text": [
      " 27%|██████████████████████▎                                                           | 15/55 [01:36<01:46,  2.67s/it]c:\\users\\mia\\appdata\\local\\programs\\python\\python37\\lib\\site-packages\\openpyxl\\styles\\stylesheet.py:221: UserWarning: Workbook contains no default style, apply openpyxl's default\n",
      "  warn(\"Workbook contains no default style, apply openpyxl's default\")\n"
     ]
    },
    {
     "name": "stdout",
     "output_type": "stream",
     "text": [
      "1709 add new equity 2021Q4\n",
      "get_equity： 1709 2021 4\n",
      "1709 add new equity 2021Q3\n",
      "get_equity： 1709 2021 3\n",
      "1709 add new equity 2021Q2\n",
      "get_equity： 1709 2021 2\n",
      "1709 add new equity 2021Q1\n",
      "get_equity： 1709 2021 1\n",
      "1709 add new equity 2020Q4\n",
      "get_equity： 1709 2020 4\n",
      "1709 add new equity 2020Q3\n",
      "get_equity： 1709 2020 3\n",
      "1709 add new equity 2020Q2\n",
      "get_equity： 1709 2020 2\n",
      "1709 add new equity 2020Q1\n",
      "get_equity： 1709 2020 1\n",
      "1709 add new equity 2019Q4\n",
      "get_equity： 1709 2019 4\n",
      "1709 add new equity 2019Q3\n",
      "get_equity： 1709 2019 3\n",
      "1709 add new equity 2019Q2\n",
      "get_equity： 1709 2019 2\n",
      "1709 add new equity 2019Q1\n",
      "get_equity： 1709 2019 1\n",
      "1709 add new equity 2018Q4\n",
      "get_equity： 1709 2018 4\n",
      "1709 add new equity 2018Q3\n",
      "get_equity： 1709 2018 3\n",
      "1709 add new equity 2018Q2\n",
      "get_equity： 1709 2018 2\n",
      "1709 add new equity 2018Q1\n",
      "get_equity： 1709 2018 1\n"
     ]
    },
    {
     "name": "stderr",
     "output_type": "stream",
     "text": [
      "\r",
      " 29%|███████████████████████▊                                                          | 16/55 [01:56<05:11,  7.98s/it]"
     ]
    },
    {
     "name": "stdout",
     "output_type": "stream",
     "text": [
      "1773 已存在\n"
     ]
    },
    {
     "name": "stderr",
     "output_type": "stream",
     "text": [
      "c:\\users\\mia\\appdata\\local\\programs\\python\\python37\\lib\\site-packages\\openpyxl\\styles\\stylesheet.py:221: UserWarning: Workbook contains no default style, apply openpyxl's default\n",
      "  warn(\"Workbook contains no default style, apply openpyxl's default\")\n"
     ]
    },
    {
     "name": "stdout",
     "output_type": "stream",
     "text": [
      "1773 add new equity 2021Q4\n",
      "get_equity： 1773 2021 4\n"
     ]
    },
    {
     "name": "stderr",
     "output_type": "stream",
     "text": [
      " 31%|█████████████████████████▎                                                        | 17/55 [01:58<03:50,  6.07s/it]c:\\users\\mia\\appdata\\local\\programs\\python\\python37\\lib\\site-packages\\openpyxl\\styles\\stylesheet.py:221: UserWarning: Workbook contains no default style, apply openpyxl's default\n",
      "  warn(\"Workbook contains no default style, apply openpyxl's default\")\n"
     ]
    },
    {
     "name": "stdout",
     "output_type": "stream",
     "text": [
      "1802 add new equity 2021Q4\n",
      "get_equity： 1802 2021 4\n",
      "1802 add new equity 2021Q3\n",
      "get_equity： 1802 2021 3\n",
      "1802 add new equity 2021Q2\n",
      "get_equity： 1802 2021 2\n",
      "1802 add new equity 2021Q1\n",
      "get_equity： 1802 2021 1\n",
      "1802 add new equity 2020Q4\n",
      "get_equity： 1802 2020 4\n",
      "1802 add new equity 2020Q3\n",
      "get_equity： 1802 2020 3\n",
      "1802 add new equity 2020Q2\n",
      "get_equity： 1802 2020 2\n",
      "1802 add new equity 2020Q1\n",
      "get_equity： 1802 2020 1\n",
      "1802 add new equity 2019Q4\n",
      "get_equity： 1802 2019 4\n",
      "1802 add new equity 2019Q3\n",
      "get_equity： 1802 2019 3\n",
      "1802 add new equity 2019Q2\n",
      "get_equity： 1802 2019 2\n",
      "1802 add new equity 2019Q1\n",
      "get_equity： 1802 2019 1\n",
      "1802 add new equity 2018Q4\n",
      "get_equity： 1802 2018 4\n",
      "1802 add new equity 2018Q3\n",
      "get_equity： 1802 2018 3\n",
      "1802 add new equity 2018Q2\n",
      "get_equity： 1802 2018 2\n",
      "1802 add new equity 2018Q1\n",
      "get_equity： 1802 2018 1\n",
      "1802"
     ]
    },
    {
     "name": "stderr",
     "output_type": "stream",
     "text": [
      "\r",
      " 33%|██████████████████████████▊                                                       | 18/55 [02:05<03:51,  6.25s/it]"
     ]
    },
    {
     "name": "stdout",
     "output_type": "stream",
     "text": [
      " 查無資料\n",
      "2002 已存在\n"
     ]
    },
    {
     "name": "stderr",
     "output_type": "stream",
     "text": [
      "c:\\users\\mia\\appdata\\local\\programs\\python\\python37\\lib\\site-packages\\openpyxl\\styles\\stylesheet.py:221: UserWarning: Workbook contains no default style, apply openpyxl's default\n",
      "  warn(\"Workbook contains no default style, apply openpyxl's default\")\n"
     ]
    },
    {
     "name": "stdout",
     "output_type": "stream",
     "text": [
      "2002 add new equity 2021Q4\n",
      "get_equity： 2002 2021 4\n",
      "2002 查無資料\n"
     ]
    },
    {
     "name": "stderr",
     "output_type": "stream",
     "text": [
      "\r",
      " 35%|████████████████████████████▎                                                     | 19/55 [02:06<02:47,  4.66s/it]"
     ]
    },
    {
     "name": "stdout",
     "output_type": "stream",
     "text": [
      "2027 已存在\n"
     ]
    },
    {
     "name": "stderr",
     "output_type": "stream",
     "text": [
      "\r",
      " 36%|█████████████████████████████▊                                                    | 20/55 [02:07<02:03,  3.51s/it]"
     ]
    },
    {
     "name": "stdout",
     "output_type": "stream",
     "text": [
      "2030 已存在\n"
     ]
    },
    {
     "name": "stderr",
     "output_type": "stream",
     "text": [
      "\r",
      " 38%|███████████████████████████████▎                                                  | 21/55 [02:10<01:55,  3.41s/it]"
     ]
    },
    {
     "name": "stdout",
     "output_type": "stream",
     "text": [
      "2030 add new equity 2021Q4\n",
      "get_equity： 2030 2021 4\n",
      "2030 查無資料\n",
      "2049 已存在\n"
     ]
    },
    {
     "name": "stderr",
     "output_type": "stream",
     "text": [
      "\r",
      " 40%|████████████████████████████████▊                                                 | 22/55 [02:11<01:30,  2.73s/it]"
     ]
    },
    {
     "name": "stdout",
     "output_type": "stream",
     "text": [
      "2049 add new equity 2021Q4\n",
      "get_equity： 2049 2021 4\n",
      "2049 查無資料\n",
      "2303 已存在\n",
      "2303 add new equity 2021Q4\n",
      "get_equity： 2303 2021 4\n",
      "2303 查無資料\n"
     ]
    },
    {
     "name": "stderr",
     "output_type": "stream",
     "text": [
      "\r",
      " 42%|██████████████████████████████████▎                                               | 23/55 [02:12<01:11,  2.25s/it]"
     ]
    },
    {
     "name": "stdout",
     "output_type": "stream",
     "text": [
      "2308 add new equity 2021Q4\n",
      "get_equity： 2308 2021 4\n",
      "2308 查無資料\n",
      "2308 add new equity 2021Q3\n",
      "get_equity： 2308 2021 3\n",
      "2308 查無資料\n",
      "2308 add new equity 2021Q2\n",
      "get_equity： 2308 2021 2\n",
      "2308 查無資料\n",
      "2308 add new equity 2021Q1\n",
      "get_equity： 2308 2021 1\n",
      "2308 查無資料\n",
      "2308 add new equity 2020Q4\n",
      "get_equity： 2308 2020 4\n",
      "2308 查無資料\n",
      "2308 add new equity 2020Q3\n",
      "get_equity： 2308 2020 3\n",
      "2308 查無資料\n",
      "2308 add new equity 2020Q2\n",
      "get_equity： 2308 2020 2\n",
      "2308 查無資料\n",
      "2308 add new equity 2020Q1\n",
      "get_equity： 2308 2020 1\n",
      "2308 查無資料\n",
      "2308 add new equity 2019Q4\n",
      "get_equity： 2308 2019 4\n",
      "2308 查無資料\n",
      "2308 add new equity 2019Q3\n",
      "get_equity： 2308 2019 3\n",
      "2308 查無資料\n",
      "2308 add new equity 2019Q2\n",
      "get_equity： 2308 2019 2\n",
      "2308 查無資料\n",
      "2308 add new equity 2019Q1\n",
      "get_equity： 2308 2019 1\n",
      "2308 查無資料\n",
      "2308 add new equity 2018Q4\n",
      "get_equity： 2308 2018 4\n",
      "2308 查無資料\n",
      "2308 add new equity 2018Q3\n",
      "get_equity： 2308 2018 3\n",
      "2308 查無資料\n",
      "2308 add new equity 2018Q2\n",
      "get_equity： 2308 2018 2\n",
      "2308 查無資料\n",
      "2308 add new equity 2018Q1\n",
      "get_equity： 2308 2018 1\n",
      "2308"
     ]
    },
    {
     "name": "stderr",
     "output_type": "stream",
     "text": [
      "\r",
      " 44%|███████████████████████████████████▊                                              | 24/55 [02:15<01:17,  2.49s/it]"
     ]
    },
    {
     "name": "stdout",
     "output_type": "stream",
     "text": [
      " 查無資料\n",
      "2327 已存在\n"
     ]
    },
    {
     "name": "stderr",
     "output_type": "stream",
     "text": [
      "\r",
      " 45%|█████████████████████████████████████▎                                            | 25/55 [02:16<01:01,  2.05s/it]"
     ]
    },
    {
     "name": "stdout",
     "output_type": "stream",
     "text": [
      "2327 add new equity 2021Q4\n",
      "get_equity： 2327 2021 4\n",
      "2327 查無資料\n",
      "2330 已存在\n",
      "2330 add new equity 2021Q4\n",
      "get_equity： 2330 2021 4\n",
      "2330 查無資料\n"
     ]
    },
    {
     "name": "stderr",
     "output_type": "stream",
     "text": [
      "\r",
      " 47%|██████████████████████████████████████▊                                           | 26/55 [02:17<00:50,  1.72s/it]"
     ]
    },
    {
     "name": "stdout",
     "output_type": "stream",
     "text": [
      "2337 已存在\n",
      "2337 add new equity 2021Q4\n",
      "get_equity： 2337 2021 4\n",
      "2337 查無資料\n"
     ]
    },
    {
     "name": "stderr",
     "output_type": "stream",
     "text": [
      "\r",
      " 49%|████████████████████████████████████████▎                                         | 27/55 [02:18<00:42,  1.53s/it]"
     ]
    },
    {
     "name": "stdout",
     "output_type": "stream",
     "text": [
      "2338 已存在\n"
     ]
    },
    {
     "name": "stderr",
     "output_type": "stream",
     "text": [
      "\r",
      " 51%|█████████████████████████████████████████▋                                        | 28/55 [02:19<00:36,  1.35s/it]"
     ]
    },
    {
     "name": "stdout",
     "output_type": "stream",
     "text": [
      "2338 add new equity 2021Q4\n",
      "get_equity： 2338 2021 4\n",
      "2338 查無資料\n",
      "2344 已存在\n"
     ]
    },
    {
     "name": "stderr",
     "output_type": "stream",
     "text": [
      "\r",
      " 53%|███████████████████████████████████████████▏                                      | 29/55 [02:20<00:31,  1.19s/it]"
     ]
    },
    {
     "name": "stdout",
     "output_type": "stream",
     "text": [
      "2344 add new equity 2021Q4\n",
      "get_equity： 2344 2021 4\n",
      "2344 查無資料\n",
      "2357 add new equity 2021Q4\n",
      "get_equity： 2357 2021 4\n",
      "2357 查無資料\n",
      "2357 add new equity 2021Q3\n",
      "get_equity： 2357 2021 3\n",
      "2357 查無資料\n",
      "2357 add new equity 2021Q2\n",
      "get_equity： 2357 2021 2\n",
      "2357 查無資料\n",
      "2357 add new equity 2021Q1\n",
      "get_equity： 2357 2021 1\n",
      "2357 查無資料\n",
      "2357 add new equity 2020Q4\n",
      "get_equity： 2357 2020 4\n",
      "2357 查無資料\n",
      "2357 add new equity 2020Q3\n",
      "get_equity： 2357 2020 3\n",
      "2357 查無資料\n",
      "2357 add new equity 2020Q2\n",
      "get_equity： 2357 2020 2\n",
      "2357 查無資料\n",
      "2357 add new equity 2020Q1\n",
      "get_equity： 2357 2020 1\n",
      "2357 查無資料\n",
      "2357 add new equity 2019Q4\n",
      "get_equity： 2357 2019 4\n",
      "2357 查無資料\n",
      "2357 add new equity 2019Q3\n",
      "get_equity： 2357 2019 3\n",
      "2357 查無資料\n",
      "2357 add new equity 2019Q2\n",
      "get_equity： 2357 2019 2\n",
      "2357 查無資料\n",
      "2357 add new equity 2019Q1\n",
      "get_equity： 2357 2019 1\n",
      "2357 查無資料\n",
      "2357 add new equity 2018Q4\n",
      "get_equity： 2357 2018 4\n",
      "2357 查無資料\n",
      "2357 add new equity 2018Q3\n",
      "get_equity： 2357 2018 3\n",
      "2357 查無資料\n",
      "2357 add new equity 2018Q2\n",
      "get_equity： 2357 2018 2\n",
      "2357 查無資料\n",
      "2357 add new equity 2018Q1\n",
      "get_equity： 2357 2018 1\n"
     ]
    },
    {
     "name": "stderr",
     "output_type": "stream",
     "text": [
      "\r",
      " 55%|████████████████████████████████████████████▋                                     | 30/55 [02:24<00:48,  1.94s/it]"
     ]
    },
    {
     "name": "stdout",
     "output_type": "stream",
     "text": [
      "2357 查無資料\n",
      "2368 已存在\n",
      "2368 add new equity 2021Q4\n",
      "get_equity： 2368 2021 4\n",
      "2368 查無資料\n"
     ]
    },
    {
     "name": "stderr",
     "output_type": "stream",
     "text": [
      "\r",
      " 56%|██████████████████████████████████████████████▏                                   | 31/55 [02:25<00:41,  1.74s/it]"
     ]
    },
    {
     "name": "stdout",
     "output_type": "stream",
     "text": [
      "2376 已存在\n",
      "2376 add new equity 2021Q4\n",
      "get_equity： 2376 2021 4\n",
      "2376 查無資料\n"
     ]
    },
    {
     "name": "stderr",
     "output_type": "stream",
     "text": [
      "\r",
      " 58%|███████████████████████████████████████████████▋                                  | 32/55 [02:26<00:35,  1.53s/it]"
     ]
    },
    {
     "name": "stdout",
     "output_type": "stream",
     "text": [
      "2379 已存在\n"
     ]
    },
    {
     "name": "stderr",
     "output_type": "stream",
     "text": [
      "\r",
      " 60%|█████████████████████████████████████████████████▏                                | 33/55 [02:27<00:29,  1.32s/it]"
     ]
    },
    {
     "name": "stdout",
     "output_type": "stream",
     "text": [
      "2383 已存在\n",
      "2383 add new equity 2021Q4\n",
      "get_equity： 2383 2021 4\n",
      "2383 查無資料\n"
     ]
    },
    {
     "name": "stderr",
     "output_type": "stream",
     "text": [
      "\r",
      " 62%|██████████████████████████████████████████████████▋                               | 34/55 [02:28<00:25,  1.24s/it]"
     ]
    },
    {
     "name": "stdout",
     "output_type": "stream",
     "text": [
      "2395 已存在\n",
      "2395 add new equity 2021Q4\n",
      "get_equity： 2395 2021 4\n",
      "2395 查無資料\n"
     ]
    },
    {
     "name": "stderr",
     "output_type": "stream",
     "text": [
      "\r",
      " 64%|████████████████████████████████████████████████████▏                             | 35/55 [02:29<00:25,  1.28s/it]"
     ]
    },
    {
     "name": "stdout",
     "output_type": "stream",
     "text": [
      "2401 add new equity 2021Q3\n",
      "get_equity： 2401 2021 3\n",
      "2401 查無資料\n",
      "2401 add new equity 2021Q2\n",
      "get_equity： 2401 2021 2\n",
      "2401 查無資料\n",
      "2401 add new equity 2021Q1\n",
      "get_equity： 2401 2021 1\n",
      "2401 查無資料\n",
      "2401 add new equity 2020Q4\n",
      "get_equity： 2401 2020 4\n",
      "2401 查無資料\n",
      "2401 add new equity 2020Q3\n",
      "get_equity： 2401 2020 3\n",
      "2401 查無資料\n",
      "2401 add new equity 2020Q2\n",
      "get_equity： 2401 2020 2\n",
      "2401 查無資料\n",
      "2401 add new equity 2020Q1\n",
      "get_equity： 2401 2020 1\n",
      "2401 查無資料\n",
      "2401 add new equity 2019Q4\n",
      "get_equity： 2401 2019 4\n",
      "2401 查無資料\n",
      "2401 add new equity 2019Q3\n",
      "get_equity： 2401 2019 3\n",
      "2401 查無資料\n",
      "2401 add new equity 2019Q2\n",
      "get_equity： 2401 2019 2\n",
      "2401 查無資料\n",
      "2401 add new equity 2019Q1\n",
      "get_equity： 2401 2019 1\n",
      "2401 查無資料\n",
      "2401 add new equity 2018Q4\n",
      "get_equity： 2401 2018 4\n",
      "2401 查無資料\n",
      "2401 add new equity 2018Q3\n",
      "get_equity： 2401 2018 3\n",
      "2401 查無資料\n",
      "2401 add new equity 2018Q2\n",
      "get_equity： 2401 2018 2\n",
      "2401 查無資料\n",
      "2401 add new equity 2018Q1\n",
      "get_equity： 2401 2018 1\n",
      "2401 查無資料\n",
      "2401 add new equity 2017Q4\n",
      "get_equity： 2401 2017 4\n"
     ]
    },
    {
     "name": "stderr",
     "output_type": "stream",
     "text": [
      "\r",
      " 65%|█████████████████████████████████████████████████████▋                            | 36/55 [02:33<00:39,  2.06s/it]"
     ]
    },
    {
     "name": "stdout",
     "output_type": "stream",
     "text": [
      "2401 查無資料\n",
      "2408 已存在\n",
      "2408 add new equity 2021Q4\n",
      "get_equity： 2408 2021 4\n",
      "2408 查無資料\n"
     ]
    },
    {
     "name": "stderr",
     "output_type": "stream",
     "text": [
      "\r",
      " 67%|███████████████████████████████████████████████████████▏                          | 37/55 [02:34<00:32,  1.78s/it]"
     ]
    },
    {
     "name": "stdout",
     "output_type": "stream",
     "text": [
      "2428 已存在\n",
      "2428 add new equity 2021Q4\n",
      "get_equity： 2428 2021 4\n",
      "2428 查無資料\n"
     ]
    },
    {
     "name": "stderr",
     "output_type": "stream",
     "text": [
      "\r",
      " 69%|████████████████████████████████████████████████████████▋                         | 38/55 [02:36<00:28,  1.70s/it]"
     ]
    },
    {
     "name": "stdout",
     "output_type": "stream",
     "text": [
      "2454 已存在\n"
     ]
    },
    {
     "name": "stderr",
     "output_type": "stream",
     "text": [
      "\r",
      " 71%|██████████████████████████████████████████████████████████▏                       | 39/55 [02:37<00:23,  1.48s/it]"
     ]
    },
    {
     "name": "stdout",
     "output_type": "stream",
     "text": [
      "2454 add new equity 2021Q4\n",
      "get_equity： 2454 2021 4\n",
      "2454 查無資料\n",
      "2472 已存在\n",
      "2472 add new equity 2021Q4\n",
      "get_equity： 2472 2021 4\n",
      "2472 查無資料\n"
     ]
    },
    {
     "name": "stderr",
     "output_type": "stream",
     "text": [
      "\r",
      " 73%|███████████████████████████████████████████████████████████▋                      | 40/55 [02:38<00:22,  1.48s/it]"
     ]
    },
    {
     "name": "stdout",
     "output_type": "stream",
     "text": [
      "2481 已存在\n",
      "2481 add new equity 2021Q4\n",
      "get_equity： 2481 2021 4\n",
      "2481 查無資料\n"
     ]
    },
    {
     "name": "stderr",
     "output_type": "stream",
     "text": [
      "\r",
      " 75%|█████████████████████████████████████████████████████████████▏                    | 41/55 [02:39<00:18,  1.32s/it]"
     ]
    },
    {
     "name": "stdout",
     "output_type": "stream",
     "text": [
      "2545 已存在\n"
     ]
    },
    {
     "name": "stderr",
     "output_type": "stream",
     "text": [
      "\r",
      " 76%|██████████████████████████████████████████████████████████████▌                   | 42/55 [02:40<00:15,  1.17s/it]"
     ]
    },
    {
     "name": "stdout",
     "output_type": "stream",
     "text": [
      "2548 已存在\n"
     ]
    },
    {
     "name": "stderr",
     "output_type": "stream",
     "text": [
      "\r",
      " 78%|████████████████████████████████████████████████████████████████                  | 43/55 [02:41<00:13,  1.12s/it]"
     ]
    },
    {
     "name": "stdout",
     "output_type": "stream",
     "text": [
      "2548 add new equity 2021Q4\n",
      "get_equity： 2548 2021 4\n",
      "2548 查無資料\n",
      "2603 已存在\n"
     ]
    },
    {
     "name": "stderr",
     "output_type": "stream",
     "text": [
      "\r",
      " 80%|█████████████████████████████████████████████████████████████████▌                | 44/55 [02:42<00:12,  1.13s/it]"
     ]
    },
    {
     "name": "stdout",
     "output_type": "stream",
     "text": [
      "2603 add new equity 2021Q4\n",
      "get_equity： 2603 2021 4\n",
      "2603 查無資料\n",
      "2606 已存在\n",
      "2606 add new equity 2021Q4\n",
      "get_equity： 2606 2021 4\n",
      "2606 查無資料\n"
     ]
    },
    {
     "name": "stderr",
     "output_type": "stream",
     "text": [
      "\r",
      " 82%|███████████████████████████████████████████████████████████████████               | 45/55 [02:43<00:11,  1.10s/it]"
     ]
    },
    {
     "name": "stdout",
     "output_type": "stream",
     "text": [
      "2609 已存在\n",
      "2609 add new equity 2021Q4\n",
      "get_equity： 2609 2021 4\n",
      "2609 查無資料\n"
     ]
    },
    {
     "name": "stderr",
     "output_type": "stream",
     "text": [
      "\r",
      " 84%|████████████████████████████████████████████████████████████████████▌             | 46/55 [02:44<00:09,  1.07s/it]"
     ]
    },
    {
     "name": "stdout",
     "output_type": "stream",
     "text": [
      "2610 add new equity 2021Q4\n",
      "get_equity： 2610 2021 4\n",
      "2610 查無資料\n",
      "2610 add new equity 2021Q3\n",
      "get_equity： 2610 2021 3\n",
      "2610 查無資料\n",
      "2610 add new equity 2021Q2\n",
      "get_equity： 2610 2021 2\n",
      "2610 查無資料\n",
      "2610 add new equity 2021Q1\n",
      "get_equity： 2610 2021 1\n",
      "2610 查無資料\n",
      "2610 add new equity 2020Q4\n",
      "get_equity： 2610 2020 4\n",
      "2610 查無資料\n",
      "2610 add new equity 2020Q3\n",
      "get_equity： 2610 2020 3\n",
      "2610 查無資料\n",
      "2610 add new equity 2020Q2\n",
      "get_equity： 2610 2020 2\n",
      "2610 查無資料\n",
      "2610 add new equity 2020Q1\n",
      "get_equity： 2610 2020 1\n",
      "2610 查無資料\n",
      "2610 add new equity 2019Q4\n",
      "get_equity： 2610 2019 4\n",
      "2610 查無資料\n",
      "2610 add new equity 2019Q3\n",
      "get_equity： 2610 2019 3\n",
      "2610 查無資料\n",
      "2610 add new equity 2019Q2\n",
      "get_equity： 2610 2019 2\n",
      "2610 查無資料\n",
      "2610 add new equity 2019Q1\n",
      "get_equity： 2610 2019 1\n",
      "2610 查無資料\n",
      "2610 add new equity 2018Q4\n",
      "get_equity： 2610 2018 4\n",
      "2610 查無資料\n",
      "2610 add new equity 2018Q3\n",
      "get_equity： 2610 2018 3\n",
      "2610 查無資料\n",
      "2610 add new equity 2018Q2\n",
      "get_equity： 2610 2018 2\n",
      "2610 查無資料\n",
      "2610 add new equity 2018Q1\n",
      "get_equity： 2610 2018 1\n",
      "2610 "
     ]
    },
    {
     "name": "stderr",
     "output_type": "stream",
     "text": [
      "\r",
      " 85%|██████████████████████████████████████████████████████████████████████            | 47/55 [02:48<00:14,  1.80s/it]"
     ]
    },
    {
     "name": "stdout",
     "output_type": "stream",
     "text": [
      "查無資料\n",
      "2615 已存在\n"
     ]
    },
    {
     "name": "stderr",
     "output_type": "stream",
     "text": [
      "\r",
      " 87%|███████████████████████████████████████████████████████████████████████▌          | 48/55 [02:48<00:10,  1.54s/it]"
     ]
    },
    {
     "name": "stdout",
     "output_type": "stream",
     "text": [
      "2615 add new equity 2021Q4\n",
      "get_equity： 2615 2021 4\n",
      "2615 查無資料\n",
      "2618 add new equity 2021Q4\n",
      "get_equity： 2618 2021 4\n",
      "2618 查無資料\n",
      "2618 add new equity 2021Q3\n",
      "get_equity： 2618 2021 3\n",
      "2618 查無資料\n",
      "2618 add new equity 2021Q2\n",
      "get_equity： 2618 2021 2\n",
      "2618 查無資料\n",
      "2618 add new equity 2021Q1\n",
      "get_equity： 2618 2021 1\n",
      "2618 查無資料\n",
      "2618 add new equity 2020Q4\n",
      "get_equity： 2618 2020 4\n",
      "2618 查無資料\n",
      "2618 add new equity 2020Q3\n",
      "get_equity： 2618 2020 3\n",
      "2618 查無資料\n",
      "2618 add new equity 2020Q2\n",
      "get_equity： 2618 2020 2\n",
      "2618 查無資料\n",
      "2618 add new equity 2020Q1\n",
      "get_equity： 2618 2020 1\n",
      "2618 查無資料\n",
      "2618 add new equity 2019Q4\n",
      "get_equity： 2618 2019 4\n",
      "2618 查無資料\n",
      "2618 add new equity 2019Q3\n",
      "get_equity： 2618 2019 3\n",
      "2618 查無資料\n",
      "2618 add new equity 2019Q2\n",
      "get_equity： 2618 2019 2\n",
      "2618 查無資料\n",
      "2618 add new equity 2019Q1\n",
      "get_equity： 2618 2019 1\n",
      "2618 查無資料\n",
      "2618 add new equity 2018Q4\n",
      "get_equity： 2618 2018 4\n",
      "2618 查無資料\n",
      "2618 add new equity 2018Q3\n",
      "get_equity： 2618 2018 3\n",
      "2618 查無資料\n",
      "2618 add new equity 2018Q2\n",
      "get_equity： 2618 2018 2\n",
      "2618 查無資料\n",
      "2618 add new equity 2018Q1\n",
      "get_equity： 2618 2018 1\n"
     ]
    },
    {
     "name": "stderr",
     "output_type": "stream",
     "text": [
      "\r",
      " 89%|█████████████████████████████████████████████████████████████████████████         | 49/55 [02:52<00:13,  2.17s/it]"
     ]
    },
    {
     "name": "stdout",
     "output_type": "stream",
     "text": [
      "2618 查無資料\n",
      "2636 已存在\n",
      "2636 add new equity 2021Q4\n",
      "get_equity： 2636 2021 4\n",
      "2636 查無資料\n"
     ]
    },
    {
     "name": "stderr",
     "output_type": "stream",
     "text": [
      "\r",
      " 91%|██████████████████████████████████████████████████████████████████████████▌       | 50/55 [02:53<00:09,  1.80s/it]"
     ]
    },
    {
     "name": "stdout",
     "output_type": "stream",
     "text": [
      "2637 已存在\n",
      "2637 add new equity 2021Q4\n",
      "get_equity： 2637 2021 4\n",
      "2637 查無資料\n"
     ]
    },
    {
     "name": "stderr",
     "output_type": "stream",
     "text": [
      "\r",
      " 93%|████████████████████████████████████████████████████████████████████████████      | 51/55 [02:54<00:06,  1.57s/it]"
     ]
    },
    {
     "name": "stdout",
     "output_type": "stream",
     "text": [
      "2801 已存在\n",
      "2801 add new equity 2021Q4\n",
      "get_equity： 2801 2021 4\n",
      "2801 查無資料\n"
     ]
    },
    {
     "name": "stderr",
     "output_type": "stream",
     "text": [
      "\r",
      " 95%|█████████████████████████████████████████████████████████████████████████████▌    | 52/55 [02:55<00:04,  1.44s/it]"
     ]
    },
    {
     "name": "stdout",
     "output_type": "stream",
     "text": [
      "2809 已存在\n",
      "2809 add new equity 2021Q4\n",
      "get_equity： 2809 2021 4\n",
      "2809 查無資料\n"
     ]
    },
    {
     "name": "stderr",
     "output_type": "stream",
     "text": [
      "\r",
      " 96%|███████████████████████████████████████████████████████████████████████████████   | 53/55 [02:56<00:02,  1.33s/it]"
     ]
    },
    {
     "name": "stdout",
     "output_type": "stream",
     "text": [
      "2834 add new equity 2021Q4\n",
      "get_equity： 2834 2021 4\n",
      "2834 查無資料\n",
      "2834 add new equity 2021Q3\n",
      "get_equity： 2834 2021 3\n",
      "2834 查無資料\n",
      "2834 add new equity 2021Q2\n",
      "get_equity： 2834 2021 2\n",
      "2834 查無資料\n",
      "2834 add new equity 2021Q1\n",
      "get_equity： 2834 2021 1\n",
      "2834 查無資料\n",
      "2834 add new equity 2020Q4\n",
      "get_equity： 2834 2020 4\n",
      "2834 查無資料\n",
      "2834 add new equity 2020Q3\n",
      "get_equity： 2834 2020 3\n",
      "2834 查無資料\n",
      "2834 add new equity 2020Q2\n",
      "get_equity： 2834 2020 2\n",
      "2834 查無資料\n",
      "2834 add new equity 2020Q1\n",
      "get_equity： 2834 2020 1\n",
      "2834 查無資料\n",
      "2834 add new equity 2019Q4\n",
      "get_equity： 2834 2019 4\n",
      "2834 查無資料\n",
      "2834 add new equity 2019Q3\n",
      "get_equity： 2834 2019 3\n",
      "2834 查無資料\n",
      "2834 add new equity 2019Q2\n",
      "get_equity： 2834 2019 2\n",
      "2834 查無資料\n",
      "2834 add new equity 2019Q1\n",
      "get_equity： 2834 2019 1\n",
      "2834 查無資料\n",
      "2834 add new equity 2018Q4\n",
      "get_equity： 2834 2018 4\n",
      "2834 查無資料\n",
      "2834 add new equity 2018Q3\n",
      "get_equity： 2834 2018 3\n",
      "2834 查無資料\n",
      "2834 add new equity 2018Q2\n",
      "get_equity： 2834 2018 2\n",
      "2834 查無資料\n",
      "2834 add new equity 2018Q1\n",
      "get_equity： 2834 2018 1\n"
     ]
    },
    {
     "name": "stderr",
     "output_type": "stream",
     "text": [
      "\r",
      " 98%|████████████████████████████████████████████████████████████████████████████████▌ | 54/55 [03:00<00:01,  1.96s/it]"
     ]
    },
    {
     "name": "stdout",
     "output_type": "stream",
     "text": [
      "2834 查無資料\n",
      "2838 已存在\n"
     ]
    },
    {
     "name": "stderr",
     "output_type": "stream",
     "text": [
      "100%|██████████████████████████████████████████████████████████████████████████████████| 55/55 [03:01<00:00,  3.30s/it]\n",
      "  0%|                                                                                           | 0/53 [00:00<?, ?it/s]"
     ]
    },
    {
     "name": "stdout",
     "output_type": "stream",
     "text": [
      "2886 已存在\n",
      "2886 add new equity 2021Q4\n",
      "get_equity： 2886 2021 4\n",
      "2886 查無資料\n"
     ]
    },
    {
     "name": "stderr",
     "output_type": "stream",
     "text": [
      "\r",
      "  2%|█▌                                                                                 | 1/53 [00:01<01:06,  1.29s/it]"
     ]
    },
    {
     "name": "stdout",
     "output_type": "stream",
     "text": [
      "2887 已存在\n",
      "2887 add new equity 2021Q4\n",
      "get_equity： 2887 2021 4\n",
      "2887 查無資料\n"
     ]
    },
    {
     "name": "stderr",
     "output_type": "stream",
     "text": [
      "\r",
      "  4%|███▏                                                                               | 2/53 [00:02<01:00,  1.18s/it]"
     ]
    },
    {
     "name": "stdout",
     "output_type": "stream",
     "text": [
      "2891 已存在\n",
      "2891 add new equity 2021Q4\n",
      "get_equity： 2891 2021 4\n",
      "2891 查無資料\n"
     ]
    },
    {
     "name": "stderr",
     "output_type": "stream",
     "text": [
      "\r",
      "  6%|████▋                                                                              | 3/53 [00:03<00:55,  1.11s/it]"
     ]
    },
    {
     "name": "stdout",
     "output_type": "stream",
     "text": [
      "2897 add new equity 2021Q4\n",
      "get_equity： 2897 2021 4\n",
      "2897 查無資料\n",
      "2897 add new equity 2021Q3\n",
      "get_equity： 2897 2021 3\n",
      "2897 查無資料\n",
      "2897 add new equity 2021Q2\n",
      "get_equity： 2897 2021 2\n",
      "2897 查無資料\n",
      "2897 add new equity 2021Q1\n",
      "get_equity： 2897 2021 1\n",
      "2897 查無資料\n",
      "2897 add new equity 2020Q4\n",
      "get_equity： 2897 2020 4\n",
      "2897 查無資料\n",
      "2897 add new equity 2020Q3\n",
      "get_equity： 2897 2020 3\n",
      "2897 查無資料\n",
      "2897 add new equity 2020Q2\n",
      "get_equity： 2897 2020 2\n",
      "2897 查無資料\n",
      "2897 add new equity 2020Q1\n",
      "get_equity： 2897 2020 1\n",
      "2897 查無資料\n",
      "2897 add new equity 2019Q4\n",
      "get_equity： 2897 2019 4\n",
      "2897 查無資料\n",
      "2897 add new equity 2019Q3\n",
      "get_equity： 2897 2019 3\n",
      "2897 查無資料\n",
      "2897 add new equity 2019Q2\n",
      "get_equity： 2897 2019 2\n",
      "2897 查無資料\n",
      "2897 add new equity 2019Q1\n",
      "get_equity： 2897 2019 1\n",
      "2897 查無資料\n",
      "2897 add new equity 2018Q4\n",
      "get_equity： 2897 2018 4\n",
      "2897 查無資料\n",
      "2897 add new equity 2018Q3\n",
      "get_equity： 2897 2018 3\n",
      "2897 查無資料\n",
      "2897 add new equity 2018Q2\n",
      "get_equity： 2897 2018 2\n"
     ]
    },
    {
     "name": "stderr",
     "output_type": "stream",
     "text": [
      "\r",
      "  8%|██████▎                                                                            | 4/53 [00:07<01:52,  2.29s/it]"
     ]
    },
    {
     "name": "stdout",
     "output_type": "stream",
     "text": [
      "2897 查無資料\n",
      "2897 add new equity 2018Q1\n",
      "get_equity： 2897 2018 1\n",
      "2897 查無資料\n",
      "2905 add new equity 2021Q3\n",
      "get_equity： 2905 2021 3\n",
      "2905 查無資料\n",
      "2905 add new equity 2021Q2\n",
      "get_equity： 2905 2021 2\n",
      "2905 查無資料\n",
      "2905 add new equity 2021Q1\n",
      "get_equity： 2905 2021 1\n",
      "2905 查無資料\n",
      "2905 add new equity 2020Q4\n",
      "get_equity： 2905 2020 4\n",
      "2905 查無資料\n",
      "2905 add new equity 2020Q3\n",
      "get_equity： 2905 2020 3\n",
      "2905 查無資料\n",
      "2905 add new equity 2020Q2\n",
      "get_equity： 2905 2020 2\n",
      "2905 查無資料\n",
      "2905 add new equity 2020Q1\n",
      "get_equity： 2905 2020 1\n",
      "2905 查無資料\n",
      "2905 add new equity 2019Q4\n",
      "get_equity： 2905 2019 4\n",
      "2905 查無資料\n",
      "2905 add new equity 2019Q3\n",
      "get_equity： 2905 2019 3\n",
      "2905 查無資料\n",
      "2905 add new equity 2019Q2\n",
      "get_equity： 2905 2019 2\n",
      "2905 查無資料\n",
      "2905 add new equity 2019Q1\n",
      "get_equity： 2905 2019 1\n",
      "2905 查無資料\n",
      "2905 add new equity 2018Q4\n",
      "get_equity： 2905 2018 4\n",
      "2905 查無資料\n",
      "2905 add new equity 2018Q3\n",
      "get_equity： 2905 2018 3\n",
      "2905 查無資料\n",
      "2905 add new equity 2018Q2\n",
      "get_equity： 2905 2018 2\n",
      "2905 查無資料\n",
      "2905 add new equity 2018Q1\n",
      "get_equity： 2905 2018 1\n",
      "2905 查無資料\n",
      "2905 add new equity 2017Q4\n",
      "get_equity： 2905 2017 4\n",
      "2905 查無資料\n"
     ]
    },
    {
     "name": "stderr",
     "output_type": "stream",
     "text": [
      "\r",
      "  9%|███████▊                                                                           | 5/53 [00:11<02:25,  3.03s/it]"
     ]
    },
    {
     "name": "stdout",
     "output_type": "stream",
     "text": [
      "2923 add new equity 2021Q4\n",
      "get_equity： 2923 2021 4\n",
      "2923 查無資料\n",
      "2923 add new equity 2021Q3\n",
      "get_equity： 2923 2021 3\n",
      "2923 查無資料\n",
      "2923 add new equity 2021Q2\n",
      "get_equity： 2923 2021 2\n",
      "2923 查無資料\n",
      "2923 add new equity 2021Q1\n",
      "get_equity： 2923 2021 1\n",
      "2923 查無資料\n",
      "2923 add new equity 2020Q4\n",
      "get_equity： 2923 2020 4\n",
      "2923 查無資料\n",
      "2923 add new equity 2020Q3\n",
      "get_equity： 2923 2020 3\n",
      "2923 查無資料\n",
      "2923 add new equity 2020Q2\n",
      "get_equity： 2923 2020 2\n",
      "2923 查無資料\n",
      "2923 add new equity 2020Q1\n",
      "get_equity： 2923 2020 1\n",
      "2923 查無資料\n",
      "2923 add new equity 2019Q4\n",
      "get_equity： 2923 2019 4\n",
      "2923 查無資料\n",
      "2923 add new equity 2019Q3\n",
      "get_equity： 2923 2019 3\n",
      "2923 查無資料\n",
      "2923 add new equity 2019Q2\n",
      "get_equity： 2923 2019 2\n",
      "2923 查無資料\n",
      "2923 add new equity 2019Q1\n",
      "get_equity： 2923 2019 1\n",
      "2923 查無資料\n",
      "2923 add new equity 2018Q4\n",
      "get_equity： 2923 2018 4\n",
      "2923 查無資料\n",
      "2923 add new equity 2018Q3\n",
      "get_equity： 2923 2018 3\n",
      "2923 查無資料\n",
      "2923 add new equity 2018Q2\n",
      "get_equity： 2923 2018 2\n",
      "2923 查無資料\n",
      "2923 add new equity 2018Q1\n",
      "get_equity： 2923 2018 1\n"
     ]
    },
    {
     "name": "stderr",
     "output_type": "stream",
     "text": [
      "\r",
      " 11%|█████████▍                                                                         | 6/53 [00:15<02:25,  3.09s/it]"
     ]
    },
    {
     "name": "stdout",
     "output_type": "stream",
     "text": [
      "2923 查無資料\n",
      "3005 已存在\n",
      "3005 add new equity 2021Q4\n",
      "get_equity： 3005 2021 4\n",
      "3005 查無資料\n"
     ]
    },
    {
     "name": "stderr",
     "output_type": "stream",
     "text": [
      "\r",
      " 13%|██████████▉                                                                        | 7/53 [00:18<02:25,  3.16s/it]"
     ]
    },
    {
     "name": "stdout",
     "output_type": "stream",
     "text": [
      "3030 add new equity 2021Q4\n",
      "get_equity： 3030 2021 4\n",
      "3030 查無資料\n",
      "3030 add new equity 2021Q3\n",
      "get_equity： 3030 2021 3\n",
      "3030 查無資料\n",
      "3030 add new equity 2021Q2\n",
      "get_equity： 3030 2021 2\n",
      "3030 查無資料\n",
      "3030 add new equity 2021Q1\n",
      "get_equity： 3030 2021 1\n",
      "3030 查無資料\n",
      "3030 add new equity 2020Q4\n",
      "get_equity： 3030 2020 4\n",
      "3030 查無資料\n",
      "3030 add new equity 2020Q3\n",
      "get_equity： 3030 2020 3\n",
      "3030 查無資料\n",
      "3030 add new equity 2020Q2\n",
      "get_equity： 3030 2020 2\n",
      "3030 查無資料\n",
      "3030 add new equity 2020Q1\n",
      "get_equity： 3030 2020 1\n",
      "3030 查無資料\n",
      "3030 add new equity 2019Q4\n",
      "get_equity： 3030 2019 4\n",
      "3030 查無資料\n",
      "3030 add new equity 2019Q3\n",
      "get_equity： 3030 2019 3\n",
      "3030 查無資料\n",
      "3030 add new equity 2019Q2\n",
      "get_equity： 3030 2019 2\n",
      "3030 查無資料\n",
      "3030 add new equity 2019Q1\n",
      "get_equity： 3030 2019 1\n",
      "3030 查無資料\n",
      "3030 add new equity 2018Q4\n",
      "get_equity： 3030 2018 4\n",
      "3030 查無資料\n",
      "3030 add new equity 2018Q3\n",
      "get_equity： 3030 2018 3\n",
      "3030 查無資料\n",
      "3030 add new equity 2018Q2\n",
      "get_equity： 3030 2018 2\n",
      "3030 查無資料\n",
      "3030 add new equity 2018Q1\n",
      "get_equity： 3030 2018 1\n"
     ]
    },
    {
     "name": "stderr",
     "output_type": "stream",
     "text": [
      "\r",
      " 15%|████████████▌                                                                      | 8/53 [00:21<02:15,  3.00s/it]"
     ]
    },
    {
     "name": "stdout",
     "output_type": "stream",
     "text": [
      "3030 查無資料\n",
      "3034 已存在\n",
      "3034 add new equity 2021Q4\n",
      "get_equity： 3034 2021 4\n",
      "3034 查無資料\n"
     ]
    },
    {
     "name": "stderr",
     "output_type": "stream",
     "text": [
      "\r",
      " 17%|██████████████                                                                     | 9/53 [00:22<01:45,  2.40s/it]"
     ]
    },
    {
     "name": "stdout",
     "output_type": "stream",
     "text": [
      "3035 已存在\n"
     ]
    },
    {
     "name": "stderr",
     "output_type": "stream",
     "text": [
      "\r",
      " 19%|███████████████▍                                                                  | 10/53 [00:22<01:22,  1.92s/it]"
     ]
    },
    {
     "name": "stdout",
     "output_type": "stream",
     "text": [
      "3035 add new equity 2021Q4\n",
      "get_equity： 3035 2021 4\n",
      "3035 查無資料\n",
      "3037 已存在\n",
      "3037 add new equity 2021Q4\n",
      "get_equity： 3037 2021 4\n"
     ]
    },
    {
     "name": "stderr",
     "output_type": "stream",
     "text": [
      "\r",
      " 21%|█████████████████                                                                 | 11/53 [00:23<01:09,  1.65s/it]"
     ]
    },
    {
     "name": "stdout",
     "output_type": "stream",
     "text": [
      "3037 查無資料\n",
      "3189 已存在\n"
     ]
    },
    {
     "name": "stderr",
     "output_type": "stream",
     "text": [
      "\r",
      " 23%|██████████████████▌                                                               | 12/53 [00:25<01:06,  1.63s/it]"
     ]
    },
    {
     "name": "stdout",
     "output_type": "stream",
     "text": [
      "3189 add new equity 2021Q4\n",
      "get_equity： 3189 2021 4\n",
      "3189 查無資料\n",
      "3406 add new equity 2021Q4\n",
      "get_equity： 3406 2021 4\n",
      "3406 查無資料\n",
      "3406 add new equity 2021Q3\n",
      "get_equity： 3406 2021 3\n",
      "3406 查無資料\n",
      "3406 add new equity 2021Q2\n",
      "get_equity： 3406 2021 2\n",
      "3406 查無資料\n",
      "3406 add new equity 2021Q1\n",
      "get_equity： 3406 2021 1\n",
      "3406 查無資料\n",
      "3406 add new equity 2020Q4\n",
      "get_equity： 3406 2020 4\n",
      "3406 查無資料\n",
      "3406 add new equity 2020Q3\n",
      "get_equity： 3406 2020 3\n",
      "3406 查無資料\n",
      "3406 add new equity 2020Q2\n",
      "get_equity： 3406 2020 2\n",
      "3406 查無資料\n",
      "3406 add new equity 2020Q1\n",
      "get_equity： 3406 2020 1\n",
      "3406 查無資料\n",
      "3406 add new equity 2019Q4\n",
      "get_equity： 3406 2019 4\n",
      "3406 查無資料\n",
      "3406 add new equity 2019Q3\n",
      "get_equity： 3406 2019 3\n",
      "3406 查無資料\n",
      "3406 add new equity 2019Q2\n",
      "get_equity： 3406 2019 2\n",
      "3406 查無資料\n",
      "3406 add new equity 2019Q1\n",
      "get_equity： 3406 2019 1\n",
      "3406 查無資料\n",
      "3406 add new equity 2018Q4\n",
      "get_equity： 3406 2018 4\n",
      "3406 查無資料\n",
      "3406 add new equity 2018Q3\n",
      "get_equity： 3406 2018 3\n",
      "3406 查無資料\n",
      "3406 add new equity 2018Q2\n",
      "get_equity： 3406 2018 2\n",
      "3406 查無資料\n",
      "3406 add new equity 2018Q1\n",
      "get_equity： 3406 2018 1\n"
     ]
    },
    {
     "name": "stderr",
     "output_type": "stream",
     "text": [
      "\r",
      " 25%|████████████████████                                                              | 13/53 [00:29<01:30,  2.27s/it]"
     ]
    },
    {
     "name": "stdout",
     "output_type": "stream",
     "text": [
      "3406 查無資料\n",
      "3413 已存在\n"
     ]
    },
    {
     "name": "stderr",
     "output_type": "stream",
     "text": [
      "\r",
      " 26%|█████████████████████▋                                                            | 14/53 [00:30<01:16,  1.97s/it]"
     ]
    },
    {
     "name": "stdout",
     "output_type": "stream",
     "text": [
      "3413 add new equity 2021Q4\n",
      "get_equity： 3413 2021 4\n",
      "3413 查無資料\n",
      "3443 已存在\n"
     ]
    },
    {
     "name": "stderr",
     "output_type": "stream",
     "text": [
      "\r",
      " 28%|███████████████████████▏                                                          | 15/53 [00:31<01:02,  1.64s/it]"
     ]
    },
    {
     "name": "stdout",
     "output_type": "stream",
     "text": [
      "3443 add new equity 2021Q4\n",
      "get_equity： 3443 2021 4\n",
      "3443 查無資料\n",
      "3532 add new equity 2021Q4\n",
      "get_equity： 3532 2021 4\n",
      "3532 查無資料\n",
      "3532 add new equity 2021Q3\n",
      "get_equity： 3532 2021 3\n",
      "3532 查無資料\n",
      "3532 add new equity 2021Q2\n",
      "get_equity： 3532 2021 2\n",
      "3532 查無資料\n",
      "3532 add new equity 2021Q1\n",
      "get_equity： 3532 2021 1\n",
      "3532 查無資料\n",
      "3532 add new equity 2020Q4\n",
      "get_equity： 3532 2020 4\n",
      "3532 查無資料\n",
      "3532 add new equity 2020Q3\n",
      "get_equity： 3532 2020 3\n",
      "3532 查無資料\n",
      "3532 add new equity 2020Q2\n",
      "get_equity： 3532 2020 2\n",
      "3532 查無資料\n",
      "3532 add new equity 2020Q1\n",
      "get_equity： 3532 2020 1\n",
      "3532 查無資料\n",
      "3532 add new equity 2019Q4\n",
      "get_equity： 3532 2019 4\n",
      "3532 查無資料\n",
      "3532 add new equity 2019Q3\n",
      "get_equity： 3532 2019 3\n",
      "3532 查無資料\n",
      "3532 add new equity 2019Q2\n",
      "get_equity： 3532 2019 2\n",
      "3532 查無資料\n",
      "3532 add new equity 2019Q1\n",
      "get_equity： 3532 2019 1\n",
      "3532 查無資料\n",
      "3532 add new equity 2018Q4\n",
      "get_equity： 3532 2018 4\n",
      "3532 查無資料\n",
      "3532 add new equity 2018Q3\n",
      "get_equity： 3532 2018 3\n",
      "3532 查無資料\n",
      "3532 add new equity 2018Q2\n",
      "get_equity： 3532 2018 2\n",
      "3532 查無資料\n",
      "3532 add new equity 2018Q1\n",
      "get_equity： 3532 2018 1\n"
     ]
    },
    {
     "name": "stderr",
     "output_type": "stream",
     "text": [
      "\r",
      " 30%|████████████████████████▊                                                         | 16/53 [00:34<01:16,  2.06s/it]"
     ]
    },
    {
     "name": "stdout",
     "output_type": "stream",
     "text": [
      "3532 查無資料\n",
      "3592 已存在\n"
     ]
    },
    {
     "name": "stderr",
     "output_type": "stream",
     "text": [
      "\r",
      " 32%|██████████████████████████▎                                                       | 17/53 [00:35<01:06,  1.85s/it]"
     ]
    },
    {
     "name": "stdout",
     "output_type": "stream",
     "text": [
      "3653 已存在\n",
      "3653 add new equity 2021Q4\n",
      "get_equity： 3653 2021 4\n",
      "3653 查無資料\n"
     ]
    },
    {
     "name": "stderr",
     "output_type": "stream",
     "text": [
      "\r",
      " 34%|███████████████████████████▊                                                      | 18/53 [00:36<00:55,  1.58s/it]"
     ]
    },
    {
     "name": "stdout",
     "output_type": "stream",
     "text": [
      "3665 已存在\n"
     ]
    },
    {
     "name": "stderr",
     "output_type": "stream",
     "text": [
      "\r",
      " 36%|█████████████████████████████▍                                                    | 19/53 [00:37<00:45,  1.34s/it]"
     ]
    },
    {
     "name": "stdout",
     "output_type": "stream",
     "text": [
      "4536 已存在\n"
     ]
    },
    {
     "name": "stderr",
     "output_type": "stream",
     "text": [
      "\r",
      " 38%|██████████████████████████████▉                                                   | 20/53 [00:39<00:48,  1.47s/it]"
     ]
    },
    {
     "name": "stdout",
     "output_type": "stream",
     "text": [
      "4919 add new equity 2021Q4\n",
      "get_equity： 4919 2021 4\n",
      "4919 查無資料\n",
      "4919 add new equity 2021Q3\n",
      "get_equity： 4919 2021 3\n",
      "4919 查無資料\n",
      "4919 add new equity 2021Q2\n",
      "get_equity： 4919 2021 2\n",
      "4919 查無資料\n",
      "4919 add new equity 2021Q1\n",
      "get_equity： 4919 2021 1\n",
      "4919 查無資料\n",
      "4919 add new equity 2020Q4\n",
      "get_equity： 4919 2020 4\n",
      "4919 查無資料\n",
      "4919 add new equity 2020Q3\n",
      "get_equity： 4919 2020 3\n",
      "4919 查無資料\n",
      "4919 add new equity 2020Q2\n",
      "get_equity： 4919 2020 2\n",
      "4919 查無資料\n",
      "4919 add new equity 2020Q1\n",
      "get_equity： 4919 2020 1\n",
      "4919 查無資料\n",
      "4919 add new equity 2019Q4\n",
      "get_equity： 4919 2019 4\n",
      "4919 查無資料\n",
      "4919 add new equity 2019Q3\n",
      "get_equity： 4919 2019 3\n",
      "4919 查無資料\n",
      "4919 add new equity 2019Q2\n",
      "get_equity： 4919 2019 2\n",
      "4919 查無資料\n",
      "4919 add new equity 2019Q1\n",
      "get_equity： 4919 2019 1\n",
      "4919 查無資料\n",
      "4919 add new equity 2018Q4\n",
      "get_equity： 4919 2018 4\n",
      "4919 查無資料\n",
      "4919 add new equity 2018Q3\n",
      "get_equity： 4919 2018 3\n",
      "4919 查無資料\n",
      "4919 add new equity 2018Q2\n",
      "get_equity： 4919 2018 2\n",
      "4919 查無資料\n",
      "4919 add new equity 2018Q1\n",
      "get_equity： 4919 2018 1\n",
      "4919"
     ]
    },
    {
     "name": "stderr",
     "output_type": "stream",
     "text": [
      "\r",
      " 40%|████████████████████████████████▍                                                 | 21/53 [00:42<01:03,  1.99s/it]"
     ]
    },
    {
     "name": "stdout",
     "output_type": "stream",
     "text": [
      " 查無資料\n",
      "4927 已存在\n",
      "4927 add new equity 2021Q4\n",
      "get_equity： 4927 2021 4\n",
      "4927 查無資料\n"
     ]
    },
    {
     "name": "stderr",
     "output_type": "stream",
     "text": [
      "\r",
      " 42%|██████████████████████████████████                                                | 22/53 [00:43<00:52,  1.70s/it]"
     ]
    },
    {
     "name": "stdout",
     "output_type": "stream",
     "text": [
      "4942 已存在\n",
      "4942 add new equity 2021Q4\n",
      "get_equity： 4942 2021 4\n",
      "4942 查無資料\n"
     ]
    },
    {
     "name": "stderr",
     "output_type": "stream",
     "text": [
      "\r",
      " 43%|███████████████████████████████████▌                                              | 23/53 [00:44<00:48,  1.61s/it]"
     ]
    },
    {
     "name": "stdout",
     "output_type": "stream",
     "text": [
      "4958 已存在\n",
      "4958 add new equity 2021Q4\n",
      "get_equity： 4958 2021 4\n",
      "4958 查無資料\n"
     ]
    },
    {
     "name": "stderr",
     "output_type": "stream",
     "text": [
      "\r",
      " 45%|█████████████████████████████████████▏                                            | 24/53 [00:45<00:40,  1.41s/it]"
     ]
    },
    {
     "name": "stdout",
     "output_type": "stream",
     "text": [
      "4961 已存在\n"
     ]
    },
    {
     "name": "stderr",
     "output_type": "stream",
     "text": [
      "\r",
      " 47%|██████████████████████████████████████▋                                           | 25/53 [00:46<00:34,  1.23s/it]"
     ]
    },
    {
     "name": "stdout",
     "output_type": "stream",
     "text": [
      "4961 add new equity 2021Q4\n",
      "get_equity： 4961 2021 4\n",
      "4961 查無資料\n",
      "5007 已存在\n"
     ]
    },
    {
     "name": "stderr",
     "output_type": "stream",
     "text": [
      "\r",
      " 49%|████████████████████████████████████████▏                                         | 26/53 [00:48<00:33,  1.25s/it]"
     ]
    },
    {
     "name": "stdout",
     "output_type": "stream",
     "text": [
      "5007 add new equity 2021Q4\n",
      "get_equity： 5007 2021 4\n",
      "5007 查無資料\n",
      "5306 add new equity 2021Q3\n",
      "get_equity： 5306 2021 3\n",
      "5306 查無資料\n",
      "5306 add new equity 2021Q2\n",
      "get_equity： 5306 2021 2\n",
      "5306 查無資料\n",
      "5306 add new equity 2021Q1\n",
      "get_equity： 5306 2021 1\n",
      "5306 查無資料\n",
      "5306 add new equity 2020Q4\n",
      "get_equity： 5306 2020 4\n",
      "5306 查無資料\n",
      "5306 add new equity 2020Q3\n",
      "get_equity： 5306 2020 3\n",
      "5306 查無資料\n",
      "5306 add new equity 2020Q2\n",
      "get_equity： 5306 2020 2\n",
      "5306 查無資料\n",
      "5306 add new equity 2020Q1\n",
      "get_equity： 5306 2020 1\n",
      "5306 查無資料\n",
      "5306 add new equity 2019Q4\n",
      "get_equity： 5306 2019 4\n",
      "5306 查無資料\n",
      "5306 add new equity 2019Q3\n",
      "get_equity： 5306 2019 3\n",
      "5306 查無資料\n",
      "5306 add new equity 2019Q2\n",
      "get_equity： 5306 2019 2\n",
      "5306 查無資料\n",
      "5306 add new equity 2019Q1\n",
      "get_equity： 5306 2019 1\n",
      "5306 查無資料\n",
      "5306 add new equity 2018Q4\n",
      "get_equity： 5306 2018 4\n",
      "5306 查無資料\n",
      "5306 add new equity 2018Q3\n",
      "get_equity： 5306 2018 3\n",
      "5306 查無資料\n",
      "5306 add new equity 2018Q2\n",
      "get_equity： 5306 2018 2\n",
      "5306 查無資料\n",
      "5306 add new equity 2018Q1\n",
      "get_equity： 5306 2018 1\n",
      "5306 查無資料\n",
      "5306 add new equity 2017Q4\n",
      "get_equity： 5306 2017 4\n",
      "5306 查無資料\n"
     ]
    },
    {
     "name": "stderr",
     "output_type": "stream",
     "text": [
      "\r",
      " 51%|█████████████████████████████████████████▊                                        | 27/53 [00:52<00:59,  2.28s/it]"
     ]
    },
    {
     "name": "stdout",
     "output_type": "stream",
     "text": [
      "5522 add new equity 2021Q4\n",
      "get_equity： 5522 2021 4\n",
      "5522 查無資料\n",
      "5522 add new equity 2021Q3\n",
      "get_equity： 5522 2021 3\n",
      "5522 查無資料\n",
      "5522 add new equity 2021Q2\n",
      "get_equity： 5522 2021 2\n",
      "5522 查無資料\n",
      "5522 add new equity 2021Q1\n",
      "get_equity： 5522 2021 1\n",
      "5522 查無資料\n",
      "5522 add new equity 2020Q4\n",
      "get_equity： 5522 2020 4\n",
      "5522 查無資料\n",
      "5522 add new equity 2020Q3\n",
      "get_equity： 5522 2020 3\n",
      "5522 查無資料\n",
      "5522 add new equity 2020Q2\n",
      "get_equity： 5522 2020 2\n",
      "5522 查無資料\n",
      "5522 add new equity 2020Q1\n",
      "get_equity： 5522 2020 1\n",
      "5522 查無資料\n",
      "5522 add new equity 2019Q4\n",
      "get_equity： 5522 2019 4\n",
      "5522 查無資料\n",
      "5522 add new equity 2019Q3\n",
      "get_equity： 5522 2019 3\n",
      "5522 查無資料\n",
      "5522 add new equity 2019Q2\n",
      "get_equity： 5522 2019 2\n",
      "5522 查無資料\n",
      "5522 add new equity 2019Q1\n",
      "get_equity： 5522 2019 1\n",
      "5522 查無資料\n",
      "5522 add new equity 2018Q4\n",
      "get_equity： 5522 2018 4\n",
      "5522 查無資料\n",
      "5522 add new equity 2018Q3\n",
      "get_equity： 5522 2018 3\n",
      "5522 查無資料\n",
      "5522 add new equity 2018Q2\n",
      "get_equity： 5522 2018 2\n",
      "5522 查無資料\n",
      "5522 add new equity 2018Q1\n",
      "get_equity： 5522 2018 1\n",
      "5522"
     ]
    },
    {
     "name": "stderr",
     "output_type": "stream",
     "text": [
      "\r",
      " 53%|███████████████████████████████████████████▎                                      | 28/53 [00:58<01:26,  3.45s/it]"
     ]
    },
    {
     "name": "stdout",
     "output_type": "stream",
     "text": [
      " 查無資料\n",
      "5871 已存在\n"
     ]
    },
    {
     "name": "stderr",
     "output_type": "stream",
     "text": [
      "\r",
      " 55%|████████████████████████████████████████████▊                                     | 29/53 [00:59<01:04,  2.69s/it]"
     ]
    },
    {
     "name": "stdout",
     "output_type": "stream",
     "text": [
      "5871 add new equity 2021Q4\n",
      "get_equity： 5871 2021 4\n",
      "5871 查無資料\n",
      "6005 已存在\n",
      "6005 add new equity 2021Q4\n",
      "get_equity： 6005 2021 4\n",
      "6005 查無資料\n"
     ]
    },
    {
     "name": "stderr",
     "output_type": "stream",
     "text": [
      "\r",
      " 57%|██████████████████████████████████████████████▍                                   | 30/53 [01:01<00:52,  2.30s/it]"
     ]
    },
    {
     "name": "stdout",
     "output_type": "stream",
     "text": [
      "6202 已存在\n",
      "6202 add new equity 2021Q4\n",
      "get_equity： 6202 2021 4\n",
      "6202 查無資料\n"
     ]
    },
    {
     "name": "stderr",
     "output_type": "stream",
     "text": [
      "\r",
      " 58%|███████████████████████████████████████████████▉                                  | 31/53 [01:02<00:42,  1.94s/it]"
     ]
    },
    {
     "name": "stdout",
     "output_type": "stream",
     "text": [
      "6239 已存在\n",
      "6239 add new equity 2021Q4\n",
      "get_equity： 6239 2021 4\n",
      "6239 查無資料\n"
     ]
    },
    {
     "name": "stderr",
     "output_type": "stream",
     "text": [
      "\r",
      " 60%|█████████████████████████████████████████████████▌                                | 32/53 [01:03<00:34,  1.65s/it]"
     ]
    },
    {
     "name": "stdout",
     "output_type": "stream",
     "text": [
      "6257 已存在\n",
      "6257 add new equity 2021Q4\n",
      "get_equity： 6257 2021 4\n",
      "6257 查無資料\n"
     ]
    },
    {
     "name": "stderr",
     "output_type": "stream",
     "text": [
      "\r",
      " 62%|███████████████████████████████████████████████████                               | 33/53 [01:04<00:28,  1.45s/it]"
     ]
    },
    {
     "name": "stdout",
     "output_type": "stream",
     "text": [
      "6271 已存在\n",
      "6271 add new equity 2021Q4\n",
      "get_equity： 6271 2021 4\n",
      "6271 查無資料\n"
     ]
    },
    {
     "name": "stderr",
     "output_type": "stream",
     "text": [
      "\r",
      " 64%|████████████████████████████████████████████████████▌                             | 34/53 [01:05<00:27,  1.43s/it]"
     ]
    },
    {
     "name": "stdout",
     "output_type": "stream",
     "text": [
      "6409 已存在\n",
      "6409 add new equity 2021Q4\n",
      "get_equity： 6409 2021 4\n"
     ]
    },
    {
     "name": "stderr",
     "output_type": "stream",
     "text": [
      "\r",
      " 66%|██████████████████████████████████████████████████████▏                           | 35/53 [01:06<00:24,  1.38s/it]"
     ]
    },
    {
     "name": "stdout",
     "output_type": "stream",
     "text": [
      "6409 查無資料\n",
      "6415 已存在\n"
     ]
    },
    {
     "name": "stderr",
     "output_type": "stream",
     "text": [
      "\r",
      " 68%|███████████████████████████████████████████████████████▋                          | 36/53 [01:07<00:21,  1.25s/it]"
     ]
    },
    {
     "name": "stdout",
     "output_type": "stream",
     "text": [
      "6415 add new equity 2021Q4\n",
      "get_equity： 6415 2021 4\n",
      "6415 查無資料\n",
      "6579 已存在\n",
      "6579 add new equity 2021Q4\n",
      "get_equity： 6579 2021 4\n",
      "6579 查無資料\n"
     ]
    },
    {
     "name": "stderr",
     "output_type": "stream",
     "text": [
      "\r",
      " 70%|█████████████████████████████████████████████████████████▏                        | 37/53 [01:09<00:20,  1.29s/it]"
     ]
    },
    {
     "name": "stdout",
     "output_type": "stream",
     "text": [
      "6592 已存在\n",
      "6592 add new equity 2021Q4\n",
      "get_equity： 6592 2021 4\n",
      "6592 查無資料\n"
     ]
    },
    {
     "name": "stderr",
     "output_type": "stream",
     "text": [
      "\r",
      " 72%|██████████████████████████████████████████████████████████▊                       | 38/53 [01:10<00:19,  1.33s/it]"
     ]
    },
    {
     "name": "stdout",
     "output_type": "stream",
     "text": [
      "6670 已存在\n",
      "6670 add new equity 2021Q4\n",
      "get_equity： 6670 2021 4\n",
      "6670 查無資料\n"
     ]
    },
    {
     "name": "stderr",
     "output_type": "stream",
     "text": [
      "\r",
      " 74%|████████████████████████████████████████████████████████████▎                     | 39/53 [01:11<00:17,  1.22s/it]"
     ]
    },
    {
     "name": "stdout",
     "output_type": "stream",
     "text": [
      "6691 已存在\n"
     ]
    },
    {
     "name": "stderr",
     "output_type": "stream",
     "text": [
      "\r",
      " 75%|█████████████████████████████████████████████████████████████▉                    | 40/53 [01:12<00:15,  1.19s/it]"
     ]
    },
    {
     "name": "stdout",
     "output_type": "stream",
     "text": [
      "6706 已存在\n",
      "6706 add new equity 2021Q4\n",
      "get_equity： 6706 2021 4\n",
      "6706 查無資料\n"
     ]
    },
    {
     "name": "stderr",
     "output_type": "stream",
     "text": [
      "\r",
      " 77%|███████████████████████████████████████████████████████████████▍                  | 41/53 [01:13<00:14,  1.20s/it]"
     ]
    },
    {
     "name": "stdout",
     "output_type": "stream",
     "text": [
      "6719 add new equity 2022Q1\n",
      "get_equity： 6719 2022 1\n",
      "6719 查無資料\n",
      "6719 add new equity 2021Q4\n",
      "get_equity： 6719 2021 4\n"
     ]
    },
    {
     "name": "stderr",
     "output_type": "stream",
     "text": [
      "\r",
      " 79%|████████████████████████████████████████████████████████████████▉                 | 42/53 [01:15<00:15,  1.38s/it]"
     ]
    },
    {
     "name": "stdout",
     "output_type": "stream",
     "text": [
      "6719 查無資料\n",
      "6781 已存在\n",
      "6781 add new equity 2021Q4\n",
      "get_equity： 6781 2021 4\n",
      "6781 查無資料\n"
     ]
    },
    {
     "name": "stderr",
     "output_type": "stream",
     "text": [
      "\r",
      " 81%|██████████████████████████████████████████████████████████████████▌               | 43/53 [01:17<00:13,  1.36s/it]"
     ]
    },
    {
     "name": "stdout",
     "output_type": "stream",
     "text": [
      "8016 已存在\n",
      "8016 add new equity 2021Q4\n",
      "get_equity： 8016 2021 4\n",
      "8016 查無資料\n"
     ]
    },
    {
     "name": "stderr",
     "output_type": "stream",
     "text": [
      "\r",
      " 83%|████████████████████████████████████████████████████████████████████              | 44/53 [01:18<00:11,  1.23s/it]"
     ]
    },
    {
     "name": "stdout",
     "output_type": "stream",
     "text": [
      "8046 已存在\n",
      "8046 add new equity 2021Q4\n",
      "get_equity： 8046 2021 4\n",
      "8046 查無資料\n"
     ]
    },
    {
     "name": "stderr",
     "output_type": "stream",
     "text": [
      "\r",
      " 85%|█████████████████████████████████████████████████████████████████████▌            | 45/53 [01:20<00:12,  1.62s/it]"
     ]
    },
    {
     "name": "stdout",
     "output_type": "stream",
     "text": [
      "8070 已存在\n"
     ]
    },
    {
     "name": "stderr",
     "output_type": "stream",
     "text": [
      "\r",
      " 87%|███████████████████████████████████████████████████████████████████████▏          | 46/53 [01:21<00:10,  1.49s/it]"
     ]
    },
    {
     "name": "stdout",
     "output_type": "stream",
     "text": [
      "8070 add new equity 2021Q4\n",
      "get_equity： 8070 2021 4\n",
      "8070 查無資料\n",
      "8081 已存在\n",
      "8081 add new equity 2021Q4\n",
      "get_equity： 8081 2021 4\n",
      "8081 查無資料\n"
     ]
    },
    {
     "name": "stderr",
     "output_type": "stream",
     "text": [
      "\r",
      " 89%|████████████████████████████████████████████████████████████████████████▋         | 47/53 [01:22<00:07,  1.31s/it]"
     ]
    },
    {
     "name": "stdout",
     "output_type": "stream",
     "text": [
      "9910 add new equity 2021Q4\n",
      "get_equity： 9910 2021 4\n",
      "9910 查無資料\n",
      "9910 add new equity 2021Q3\n",
      "get_equity： 9910 2021 3\n",
      "9910 查無資料\n",
      "9910 add new equity 2021Q2\n",
      "get_equity： 9910 2021 2\n",
      "9910 查無資料\n",
      "9910 add new equity 2021Q1\n",
      "get_equity： 9910 2021 1\n",
      "9910 查無資料\n",
      "9910 add new equity 2020Q4\n",
      "get_equity： 9910 2020 4\n",
      "9910 查無資料\n",
      "9910 add new equity 2020Q3\n",
      "get_equity： 9910 2020 3\n",
      "9910 查無資料\n",
      "9910 add new equity 2020Q2\n",
      "get_equity： 9910 2020 2\n",
      "9910 查無資料\n",
      "9910 add new equity 2020Q1\n",
      "get_equity： 9910 2020 1\n",
      "9910 查無資料\n",
      "9910 add new equity 2019Q4\n",
      "get_equity： 9910 2019 4\n",
      "9910 查無資料\n",
      "9910 add new equity 2019Q3\n",
      "get_equity： 9910 2019 3\n",
      "9910 查無資料\n",
      "9910 add new equity 2019Q2\n",
      "get_equity： 9910 2019 2\n",
      "9910 查無資料\n",
      "9910 add new equity 2019Q1\n",
      "get_equity： 9910 2019 1\n",
      "9910 查無資料\n",
      "9910 add new equity 2018Q4\n",
      "get_equity： 9910 2018 4\n",
      "9910 查無資料\n",
      "9910 add new equity 2018Q3\n",
      "get_equity： 9910 2018 3\n",
      "9910 查無資料\n",
      "9910 add new equity 2018Q2\n",
      "get_equity： 9910 2018 2\n",
      "9910 查無資料\n",
      "9910 add new equity 2018Q1\n",
      "get_equity： 9910 2018 1\n"
     ]
    },
    {
     "name": "stderr",
     "output_type": "stream",
     "text": [
      "\r",
      " 91%|██████████████████████████████████████████████████████████████████████████▎       | 48/53 [01:25<00:09,  1.88s/it]"
     ]
    },
    {
     "name": "stdout",
     "output_type": "stream",
     "text": [
      "9910 查無資料\n",
      "9911 已存在\n"
     ]
    },
    {
     "name": "stderr",
     "output_type": "stream",
     "text": [
      "\r",
      " 92%|███████████████████████████████████████████████████████████████████████████▊      | 49/53 [01:27<00:06,  1.72s/it]"
     ]
    },
    {
     "name": "stdout",
     "output_type": "stream",
     "text": [
      "9938 已存在\n"
     ]
    },
    {
     "name": "stderr",
     "output_type": "stream",
     "text": [
      "\r",
      " 94%|█████████████████████████████████████████████████████████████████████████████▎    | 50/53 [01:27<00:04,  1.44s/it]"
     ]
    },
    {
     "name": "stdout",
     "output_type": "stream",
     "text": [
      "9939 已存在\n"
     ]
    },
    {
     "name": "stderr",
     "output_type": "stream",
     "text": [
      "\r",
      " 96%|██████████████████████████████████████████████████████████████████████████████▉   | 51/53 [01:29<00:02,  1.32s/it]"
     ]
    },
    {
     "name": "stdout",
     "output_type": "stream",
     "text": [
      "9945 add new equity 2021Q4\n",
      "get_equity： 9945 2021 4\n",
      "9945 查無資料\n",
      "9945 add new equity 2021Q3\n",
      "get_equity： 9945 2021 3\n",
      "9945 查無資料\n",
      "9945 add new equity 2021Q2\n",
      "get_equity： 9945 2021 2\n",
      "9945 查無資料\n",
      "9945 add new equity 2021Q1\n",
      "get_equity： 9945 2021 1\n",
      "9945 查無資料\n",
      "9945 add new equity 2020Q4\n",
      "get_equity： 9945 2020 4\n",
      "9945 查無資料\n",
      "9945 add new equity 2020Q3\n",
      "get_equity： 9945 2020 3\n",
      "9945 查無資料\n",
      "9945 add new equity 2020Q2\n",
      "get_equity： 9945 2020 2\n",
      "9945 查無資料\n",
      "9945 add new equity 2020Q1\n",
      "get_equity： 9945 2020 1\n",
      "9945 查無資料\n",
      "9945 add new equity 2019Q4\n",
      "get_equity： 9945 2019 4\n",
      "9945 查無資料\n",
      "9945 add new equity 2019Q3\n",
      "get_equity： 9945 2019 3\n",
      "9945 查無資料\n",
      "9945 add new equity 2019Q2\n",
      "get_equity： 9945 2019 2\n",
      "9945 查無資料\n",
      "9945 add new equity 2019Q1\n",
      "get_equity： 9945 2019 1\n",
      "9945 查無資料\n",
      "9945 add new equity 2018Q4\n",
      "get_equity： 9945 2018 4\n",
      "9945 查無資料\n",
      "9945 add new equity 2018Q3\n",
      "get_equity： 9945 2018 3\n",
      "9945 查無資料\n",
      "9945 add new equity 2018Q2\n",
      "get_equity： 9945 2018 2\n",
      "9945 查無資料\n",
      "9945 add new equity 2018Q1\n",
      "get_equity： 9945 2018 1\n"
     ]
    },
    {
     "name": "stderr",
     "output_type": "stream",
     "text": [
      "\r",
      " 98%|████████████████████████████████████████████████████████████████████████████████▍ | 52/53 [01:32<00:01,  1.93s/it]"
     ]
    },
    {
     "name": "stdout",
     "output_type": "stream",
     "text": [
      "9945 查無資料\n",
      "9958 已存在\n"
     ]
    },
    {
     "name": "stderr",
     "output_type": "stream",
     "text": [
      "100%|██████████████████████████████████████████████████████████████████████████████████| 53/53 [01:33<00:00,  1.76s/it]\n"
     ]
    }
   ],
   "source": [
    "# # 計算股東權益\n",
    "for lst_id in lst_all_id:\n",
    "    for stock_id in tqdm(lst_id):\n",
    "        file = root + 'equity/quarterly_equity_{}.xlsx'.format(stock_id)\n",
    "        if stock_id == '2885':\n",
    "            continue\n",
    "#         if os.path.exists(file):\n",
    "#             print(stock_id, '已存在')\n",
    "#             continue\n",
    "        df_equity = get_df_quarterly_equity(stock_id)"
   ]
  },
  {
   "cell_type": "code",
   "execution_count": 17,
   "metadata": {},
   "outputs": [
    {
     "name": "stderr",
     "output_type": "stream",
     "text": [
      "\r",
      "  0%|                                                                                           | 0/55 [00:00<?, ?it/s]"
     ]
    },
    {
     "name": "stdout",
     "output_type": "stream",
     "text": [
      "1101\n",
      "1101  wait  9\n"
     ]
    },
    {
     "name": "stderr",
     "output_type": "stream",
     "text": [
      "\r",
      "  2%|█▌                                                                                 | 1/55 [00:09<08:26,  9.38s/it]"
     ]
    },
    {
     "name": "stdout",
     "output_type": "stream",
     "text": [
      "現金股利_成長(%)< -20\n",
      "1102\n",
      "1102  wait  9\n"
     ]
    },
    {
     "name": "stderr",
     "output_type": "stream",
     "text": [
      "\r",
      "  4%|███                                                                                | 2/55 [00:18<08:17,  9.39s/it]"
     ]
    },
    {
     "name": "stdout",
     "output_type": "stream",
     "text": [
      "1301\n",
      "1301  wait  5\n"
     ]
    },
    {
     "name": "stderr",
     "output_type": "stream",
     "text": [
      "\r",
      "  5%|████▌                                                                              | 3/55 [00:24<06:32,  7.54s/it]"
     ]
    },
    {
     "name": "stdout",
     "output_type": "stream",
     "text": [
      "稅後淨利_成長(%)< -20\n",
      "1303\n",
      "1303  wait  9\n"
     ]
    },
    {
     "name": "stderr",
     "output_type": "stream",
     "text": [
      "\r",
      "  7%|██████                                                                             | 4/55 [00:33<07:02,  8.28s/it]"
     ]
    },
    {
     "name": "stdout",
     "output_type": "stream",
     "text": [
      "稅後淨利_成長(%)< -20\n",
      "1304\n",
      "1304  wait  7\n"
     ]
    },
    {
     "name": "stderr",
     "output_type": "stream",
     "text": [
      "\r",
      "  9%|███████▌                                                                           | 5/55 [00:40<06:35,  7.91s/it]"
     ]
    },
    {
     "name": "stdout",
     "output_type": "stream",
     "text": [
      "稅後淨利_成長(%)< -20\n",
      "1308\n",
      "1308  wait  8\n"
     ]
    },
    {
     "name": "stderr",
     "output_type": "stream",
     "text": [
      "\r",
      " 11%|█████████                                                                          | 6/55 [00:49<06:34,  8.05s/it]"
     ]
    },
    {
     "name": "stdout",
     "output_type": "stream",
     "text": [
      "稅後淨利_成長(%)< -20\n",
      "1409\n",
      "1409  wait  5\n"
     ]
    },
    {
     "name": "stderr",
     "output_type": "stream",
     "text": [
      "\r",
      " 13%|██████████▌                                                                        | 7/55 [00:54<05:44,  7.17s/it]"
     ]
    },
    {
     "name": "stdout",
     "output_type": "stream",
     "text": [
      "稅後淨利_成長(%)< -20\n",
      "1476\n",
      "1476  wait  7\n"
     ]
    },
    {
     "name": "stderr",
     "output_type": "stream",
     "text": [
      "\r",
      " 15%|████████████                                                                       | 8/55 [01:01<05:41,  7.26s/it]"
     ]
    },
    {
     "name": "stdout",
     "output_type": "stream",
     "text": [
      "1477\n",
      "1477  wait  7\n"
     ]
    },
    {
     "name": "stderr",
     "output_type": "stream",
     "text": [
      "\r",
      " 16%|█████████████▌                                                                     | 9/55 [01:09<05:34,  7.28s/it]"
     ]
    },
    {
     "name": "stdout",
     "output_type": "stream",
     "text": [
      "現金股利_成長(%)< -20\n",
      "1504\n",
      "1504  wait  8\n"
     ]
    },
    {
     "name": "stderr",
     "output_type": "stream",
     "text": [
      "\r",
      " 18%|██████████████▉                                                                   | 10/55 [01:17<05:44,  7.65s/it]"
     ]
    },
    {
     "name": "stdout",
     "output_type": "stream",
     "text": [
      "1513\n",
      "1513  wait  7\n"
     ]
    },
    {
     "name": "stderr",
     "output_type": "stream",
     "text": [
      "\r",
      " 20%|████████████████▍                                                                 | 11/55 [01:25<05:33,  7.58s/it]"
     ]
    },
    {
     "name": "stdout",
     "output_type": "stream",
     "text": [
      "1532\n",
      "1532  wait  6\n"
     ]
    },
    {
     "name": "stderr",
     "output_type": "stream",
     "text": [
      "\r",
      " 22%|█████████████████▉                                                                | 12/55 [01:31<05:09,  7.20s/it]"
     ]
    },
    {
     "name": "stdout",
     "output_type": "stream",
     "text": [
      "營業收入_成長(%)< -20\n",
      "1560\n",
      "1560  wait  5\n"
     ]
    },
    {
     "name": "stderr",
     "output_type": "stream",
     "text": [
      "\r",
      " 24%|███████████████████▍                                                              | 13/55 [01:36<04:38,  6.63s/it]"
     ]
    },
    {
     "name": "stdout",
     "output_type": "stream",
     "text": [
      "稅後淨利_成長(%)< -20\n",
      "1590\n",
      "1590  wait  6\n"
     ]
    },
    {
     "name": "stderr",
     "output_type": "stream",
     "text": [
      "\r",
      " 25%|████████████████████▊                                                             | 14/55 [01:43<04:27,  6.52s/it]"
     ]
    },
    {
     "name": "stdout",
     "output_type": "stream",
     "text": [
      "現金股利_成長(%)< -20\n",
      "1708\n",
      "1708  wait  7\n"
     ]
    },
    {
     "name": "stderr",
     "output_type": "stream",
     "text": [
      "\r",
      " 27%|██████████████████████▎                                                           | 15/55 [01:50<04:30,  6.75s/it]"
     ]
    },
    {
     "name": "stdout",
     "output_type": "stream",
     "text": [
      "稅後淨利_成長(%)< -20\n",
      "1709\n",
      "1709  wait  9\n"
     ]
    },
    {
     "name": "stderr",
     "output_type": "stream",
     "text": [
      "\r",
      " 29%|███████████████████████▊                                                          | 16/55 [01:59<04:53,  7.53s/it]"
     ]
    },
    {
     "name": "stdout",
     "output_type": "stream",
     "text": [
      "稅後淨利_成長(%)< -20\n",
      "1773\n",
      "1773  wait  5\n"
     ]
    },
    {
     "name": "stderr",
     "output_type": "stream",
     "text": [
      "\r",
      " 31%|█████████████████████████▎                                                        | 17/55 [02:04<04:20,  6.85s/it]"
     ]
    },
    {
     "name": "stdout",
     "output_type": "stream",
     "text": [
      "現金股利_成長(%)< -20\n",
      "1802\n",
      "1802  wait  6\n"
     ]
    },
    {
     "name": "stderr",
     "output_type": "stream",
     "text": [
      "\r",
      " 33%|██████████████████████████▊                                                       | 18/55 [02:11<04:06,  6.67s/it]"
     ]
    },
    {
     "name": "stdout",
     "output_type": "stream",
     "text": [
      "稅後淨利_成長(%)< -20\n",
      "2002\n",
      "2002  wait  7\n"
     ]
    },
    {
     "name": "stderr",
     "output_type": "stream",
     "text": [
      "\r",
      " 35%|████████████████████████████▎                                                     | 19/55 [02:18<04:06,  6.85s/it]"
     ]
    },
    {
     "name": "stdout",
     "output_type": "stream",
     "text": [
      "稅後淨利_成長(%)< -20\n",
      "2027\n",
      "2027  wait  6\n"
     ]
    },
    {
     "name": "stderr",
     "output_type": "stream",
     "text": [
      "\r",
      " 36%|█████████████████████████████▊                                                    | 20/55 [02:24<03:53,  6.68s/it]"
     ]
    },
    {
     "name": "stdout",
     "output_type": "stream",
     "text": [
      "營業收入_成長(%)< -20\n",
      "2030\n",
      "2030  wait  9\n"
     ]
    },
    {
     "name": "stderr",
     "output_type": "stream",
     "text": [
      "\r",
      " 38%|███████████████████████████████▎                                                  | 21/55 [02:34<04:15,  7.52s/it]"
     ]
    },
    {
     "name": "stdout",
     "output_type": "stream",
     "text": [
      "稅後淨利_成長(%)< -20\n",
      "2049\n",
      "2049  wait  8\n"
     ]
    },
    {
     "name": "stderr",
     "output_type": "stream",
     "text": [
      "\r",
      " 40%|████████████████████████████████▊                                                 | 22/55 [02:42<04:16,  7.76s/it]"
     ]
    },
    {
     "name": "stdout",
     "output_type": "stream",
     "text": [
      "營業收入_成長(%)< -20\n",
      "2303\n",
      "2303  wait  7\n"
     ]
    },
    {
     "name": "stderr",
     "output_type": "stream",
     "text": [
      "\r",
      " 42%|██████████████████████████████████▎                                               | 23/55 [02:49<04:03,  7.62s/it]"
     ]
    },
    {
     "name": "stdout",
     "output_type": "stream",
     "text": [
      "稅後淨利_成長(%)< -20\n",
      "2308\n",
      "2308  wait  6\n"
     ]
    },
    {
     "name": "stderr",
     "output_type": "stream",
     "text": [
      "\r",
      " 44%|███████████████████████████████████▊                                              | 24/55 [02:56<03:45,  7.27s/it]"
     ]
    },
    {
     "name": "stdout",
     "output_type": "stream",
     "text": [
      "2327\n",
      "2327  wait  8\n"
     ]
    },
    {
     "name": "stderr",
     "output_type": "stream",
     "text": [
      "\r",
      " 45%|█████████████████████████████████████▎                                            | 25/55 [03:04<03:47,  7.58s/it]"
     ]
    },
    {
     "name": "stdout",
     "output_type": "stream",
     "text": [
      "營業收入_成長(%)< -20\n",
      "2330\n",
      "2330  wait  8\n"
     ]
    },
    {
     "name": "stderr",
     "output_type": "stream",
     "text": [
      "\r",
      " 47%|██████████████████████████████████████▊                                           | 26/55 [03:13<03:47,  7.83s/it]"
     ]
    },
    {
     "name": "stdout",
     "output_type": "stream",
     "text": [
      "2337\n",
      "2337  wait  7\n"
     ]
    },
    {
     "name": "stderr",
     "output_type": "stream",
     "text": [
      "\r",
      " 49%|████████████████████████████████████████▎                                         | 27/55 [03:20<03:35,  7.70s/it]"
     ]
    },
    {
     "name": "stdout",
     "output_type": "stream",
     "text": [
      "稅後淨利_成長(%)< -20\n",
      "2338\n",
      "2338  wait  8\n"
     ]
    },
    {
     "name": "stderr",
     "output_type": "stream",
     "text": [
      "\r",
      " 51%|█████████████████████████████████████████▋                                        | 28/55 [03:28<03:32,  7.89s/it]"
     ]
    },
    {
     "name": "stdout",
     "output_type": "stream",
     "text": [
      "稅後淨利_成長(%)< -20\n",
      "2344\n",
      "2344  wait  5\n"
     ]
    },
    {
     "name": "stderr",
     "output_type": "stream",
     "text": [
      "\r",
      " 53%|███████████████████████████████████████████▏                                      | 29/55 [03:34<03:05,  7.15s/it]"
     ]
    },
    {
     "name": "stdout",
     "output_type": "stream",
     "text": [
      "稅後淨利_成長(%)< -20\n",
      "2357\n",
      "2357  wait  5\n"
     ]
    },
    {
     "name": "stderr",
     "output_type": "stream",
     "text": [
      "\r",
      " 55%|████████████████████████████████████████████▋                                     | 30/55 [03:39<02:45,  6.60s/it]"
     ]
    },
    {
     "name": "stdout",
     "output_type": "stream",
     "text": [
      "稅後淨利_成長(%)< -20\n",
      "2368\n",
      "2368  wait  8\n"
     ]
    },
    {
     "name": "stderr",
     "output_type": "stream",
     "text": [
      "\r",
      " 56%|██████████████████████████████████████████████▏                                   | 31/55 [03:49<02:59,  7.47s/it]"
     ]
    },
    {
     "name": "stdout",
     "output_type": "stream",
     "text": [
      "稅後淨利_成長(%)< -20\n",
      "2376\n",
      "2376  wait  8\n"
     ]
    },
    {
     "name": "stderr",
     "output_type": "stream",
     "text": [
      "\r",
      " 58%|███████████████████████████████████████████████▋                                  | 32/55 [03:57<02:57,  7.72s/it]"
     ]
    },
    {
     "name": "stdout",
     "output_type": "stream",
     "text": [
      "稅後淨利_成長(%)< -20\n",
      "2379\n",
      "2379  wait  8\n"
     ]
    },
    {
     "name": "stderr",
     "output_type": "stream",
     "text": [
      "\r",
      " 60%|█████████████████████████████████████████████████▏                                | 33/55 [04:05<02:54,  7.92s/it]"
     ]
    },
    {
     "name": "stdout",
     "output_type": "stream",
     "text": [
      "2383\n",
      "2383  wait  7\n"
     ]
    },
    {
     "name": "stderr",
     "output_type": "stream",
     "text": [
      "\r",
      " 62%|██████████████████████████████████████████████████▋                               | 34/55 [04:13<02:42,  7.74s/it]"
     ]
    },
    {
     "name": "stdout",
     "output_type": "stream",
     "text": [
      "稅後淨利_成長(%)< -20\n",
      "2395\n",
      "2395  wait  5\n"
     ]
    },
    {
     "name": "stderr",
     "output_type": "stream",
     "text": [
      "\r",
      " 64%|████████████████████████████████████████████████████▏                             | 35/55 [04:18<02:20,  7.04s/it]"
     ]
    },
    {
     "name": "stdout",
     "output_type": "stream",
     "text": [
      "2401\n",
      "2401  wait  8\n"
     ]
    },
    {
     "name": "stderr",
     "output_type": "stream",
     "text": [
      "\r",
      " 65%|█████████████████████████████████████████████████████▋                            | 36/55 [04:26<02:21,  7.42s/it]"
     ]
    },
    {
     "name": "stdout",
     "output_type": "stream",
     "text": [
      "eps: 0.0\n",
      "eps: 0.0\n",
      "稅後淨利_成長(%)< -20\n",
      "2408\n",
      "2408  wait  5\n"
     ]
    },
    {
     "name": "stderr",
     "output_type": "stream",
     "text": [
      "\r",
      " 67%|███████████████████████████████████████████████████████▏                          | 37/55 [04:32<02:01,  6.78s/it]"
     ]
    },
    {
     "name": "stdout",
     "output_type": "stream",
     "text": [
      "營業收入_成長(%)< -20\n",
      "2428\n",
      "2428  wait  8\n"
     ]
    },
    {
     "name": "stderr",
     "output_type": "stream",
     "text": [
      "\r",
      " 69%|████████████████████████████████████████████████████████▋                         | 38/55 [04:40<02:03,  7.28s/it]"
     ]
    },
    {
     "name": "stdout",
     "output_type": "stream",
     "text": [
      "2454\n",
      "2454  wait  6\n"
     ]
    },
    {
     "name": "stderr",
     "output_type": "stream",
     "text": [
      "\r",
      " 71%|██████████████████████████████████████████████████████████▏                       | 39/55 [04:46<01:52,  7.03s/it]"
     ]
    },
    {
     "name": "stdout",
     "output_type": "stream",
     "text": [
      "2472\n",
      "2472  wait  6\n"
     ]
    },
    {
     "name": "stderr",
     "output_type": "stream",
     "text": [
      "\r",
      " 73%|███████████████████████████████████████████████████████████▋                      | 40/55 [04:53<01:42,  6.81s/it]"
     ]
    },
    {
     "name": "stdout",
     "output_type": "stream",
     "text": [
      "稅後淨利_成長(%)< -20\n",
      "2481\n",
      "2481  wait  5\n"
     ]
    },
    {
     "name": "stderr",
     "output_type": "stream",
     "text": [
      "\r",
      " 75%|█████████████████████████████████████████████████████████████▏                    | 41/55 [04:58<01:28,  6.36s/it]"
     ]
    },
    {
     "name": "stdout",
     "output_type": "stream",
     "text": [
      "稅後淨利_成長(%)< -20\n",
      "2545\n",
      "2545  wait  8\n"
     ]
    },
    {
     "name": "stderr",
     "output_type": "stream",
     "text": [
      "\r",
      " 76%|██████████████████████████████████████████████████████████████▌                   | 42/55 [05:06<01:30,  6.94s/it]"
     ]
    },
    {
     "name": "stdout",
     "output_type": "stream",
     "text": [
      "eps: 0.0\n",
      "營業收入_成長(%)< -20\n",
      "2548\n",
      "2548  wait  7\n"
     ]
    },
    {
     "name": "stderr",
     "output_type": "stream",
     "text": [
      "\r",
      " 78%|████████████████████████████████████████████████████████████████                  | 43/55 [05:14<01:24,  7.04s/it]"
     ]
    },
    {
     "name": "stdout",
     "output_type": "stream",
     "text": [
      "營業收入_成長(%)< -20\n",
      "2603\n",
      "2603  wait  7\n"
     ]
    },
    {
     "name": "stderr",
     "output_type": "stream",
     "text": [
      "\r",
      " 80%|█████████████████████████████████████████████████████████████████▌                | 44/55 [05:21<01:18,  7.14s/it]"
     ]
    },
    {
     "name": "stdout",
     "output_type": "stream",
     "text": [
      "eps: 0.0\n",
      "稅後淨利_成長(%)< -20\n",
      "2606\n",
      "2606  wait  8\n"
     ]
    },
    {
     "name": "stderr",
     "output_type": "stream",
     "text": [
      "\r",
      " 82%|███████████████████████████████████████████████████████████████████               | 45/55 [05:29<01:15,  7.52s/it]"
     ]
    },
    {
     "name": "stdout",
     "output_type": "stream",
     "text": [
      "稅後淨利_成長(%)< -20\n",
      "2609\n",
      "2609  wait  8\n"
     ]
    },
    {
     "name": "stderr",
     "output_type": "stream",
     "text": [
      "\r",
      " 84%|████████████████████████████████████████████████████████████████████▌             | 46/55 [05:38<01:09,  7.77s/it]"
     ]
    },
    {
     "name": "stdout",
     "output_type": "stream",
     "text": [
      "稅後淨利_成長(%)< -20\n",
      "2610\n",
      "2610  wait  5\n"
     ]
    },
    {
     "name": "stderr",
     "output_type": "stream",
     "text": [
      "\r",
      " 85%|██████████████████████████████████████████████████████████████████████            | 47/55 [05:43<00:56,  7.02s/it]"
     ]
    },
    {
     "name": "stdout",
     "output_type": "stream",
     "text": [
      "eps: 0.0\n",
      "營業收入_成長(%)< -20\n",
      "2615\n",
      "2615  wait  7\n"
     ]
    },
    {
     "name": "stderr",
     "output_type": "stream",
     "text": [
      "\r",
      " 87%|███████████████████████████████████████████████████████████████████████▌          | 48/55 [05:50<00:49,  7.14s/it]"
     ]
    },
    {
     "name": "stdout",
     "output_type": "stream",
     "text": [
      "稅後淨利_成長(%)< -20\n",
      "2618\n",
      "2618  wait  8\n"
     ]
    },
    {
     "name": "stderr",
     "output_type": "stream",
     "text": [
      "\r",
      " 89%|█████████████████████████████████████████████████████████████████████████         | 49/55 [05:59<00:44,  7.49s/it]"
     ]
    },
    {
     "name": "stdout",
     "output_type": "stream",
     "text": [
      "營業收入_成長(%)< -20\n",
      "2636\n",
      "2636  wait  6\n"
     ]
    },
    {
     "name": "stderr",
     "output_type": "stream",
     "text": [
      "\r",
      " 91%|██████████████████████████████████████████████████████████████████████████▌       | 50/55 [06:05<00:35,  7.15s/it]"
     ]
    },
    {
     "name": "stdout",
     "output_type": "stream",
     "text": [
      "稅後淨利_成長(%)< -20\n",
      "2637\n",
      "2637  wait  7\n"
     ]
    },
    {
     "name": "stderr",
     "output_type": "stream",
     "text": [
      "\r",
      " 93%|████████████████████████████████████████████████████████████████████████████      | 51/55 [06:12<00:28,  7.19s/it]"
     ]
    },
    {
     "name": "stdout",
     "output_type": "stream",
     "text": [
      "稅後淨利_成長(%)< -20\n",
      "2801\n",
      "2801  wait  5\n"
     ]
    },
    {
     "name": "stderr",
     "output_type": "stream",
     "text": [
      "\r",
      " 95%|█████████████████████████████████████████████████████████████████████████████▌    | 52/55 [06:18<00:19,  6.63s/it]"
     ]
    },
    {
     "name": "stdout",
     "output_type": "stream",
     "text": [
      "稅後淨利_成長(%)< -20\n",
      "2809\n",
      "2809  wait  8\n"
     ]
    },
    {
     "name": "stderr",
     "output_type": "stream",
     "text": [
      "\r",
      " 96%|███████████████████████████████████████████████████████████████████████████████   | 53/55 [06:26<00:14,  7.14s/it]"
     ]
    },
    {
     "name": "stdout",
     "output_type": "stream",
     "text": [
      "稅後淨利_成長(%)< -20\n",
      "2834\n",
      "2834  wait  8\n"
     ]
    },
    {
     "name": "stderr",
     "output_type": "stream",
     "text": [
      "\r",
      " 98%|████████████████████████████████████████████████████████████████████████████████▌ | 54/55 [06:36<00:07,  7.85s/it]"
     ]
    },
    {
     "name": "stdout",
     "output_type": "stream",
     "text": [
      "稅後淨利_成長(%)< -20\n",
      "2838\n",
      "2838  wait  7\n"
     ]
    },
    {
     "name": "stderr",
     "output_type": "stream",
     "text": [
      "100%|██████████████████████████████████████████████████████████████████████████████████| 55/55 [06:43<00:00,  7.33s/it]\n",
      "  0%|                                                                                           | 0/53 [00:00<?, ?it/s]"
     ]
    },
    {
     "name": "stdout",
     "output_type": "stream",
     "text": [
      "稅後淨利_成長(%)< -20\n",
      "2886\n",
      "2886  wait  7\n"
     ]
    },
    {
     "name": "stderr",
     "output_type": "stream",
     "text": [
      "\r",
      "  2%|█▌                                                                                 | 1/53 [00:07<06:25,  7.42s/it]"
     ]
    },
    {
     "name": "stdout",
     "output_type": "stream",
     "text": [
      "2887\n",
      "2887  wait  6\n"
     ]
    },
    {
     "name": "stderr",
     "output_type": "stream",
     "text": [
      "\r",
      "  4%|███▏                                                                               | 2/53 [00:13<05:47,  6.81s/it]"
     ]
    },
    {
     "name": "stdout",
     "output_type": "stream",
     "text": [
      "稅後淨利_成長(%)< -20\n",
      "2891\n",
      "2891  wait  5\n"
     ]
    },
    {
     "name": "stderr",
     "output_type": "stream",
     "text": [
      "\r",
      "  6%|████▋                                                                              | 3/53 [00:19<05:06,  6.12s/it]"
     ]
    },
    {
     "name": "stdout",
     "output_type": "stream",
     "text": [
      "稅後淨利_成長(%)< -20\n",
      "2897\n",
      "2897  wait  7\n"
     ]
    },
    {
     "name": "stderr",
     "output_type": "stream",
     "text": [
      "\r",
      "  8%|██████▎                                                                            | 4/53 [00:26<05:23,  6.59s/it]"
     ]
    },
    {
     "name": "stdout",
     "output_type": "stream",
     "text": [
      "稅後淨利_成長(%)< -20\n",
      "2905\n",
      "2905  wait  6\n"
     ]
    },
    {
     "name": "stderr",
     "output_type": "stream",
     "text": [
      "\r",
      "  9%|███████▊                                                                           | 5/53 [00:32<05:11,  6.49s/it]"
     ]
    },
    {
     "name": "stdout",
     "output_type": "stream",
     "text": [
      "稅後淨利_成長(%)< -20\n",
      "2923\n",
      "上櫃公司\n",
      "2923  wait  8\n"
     ]
    },
    {
     "name": "stderr",
     "output_type": "stream",
     "text": [
      "\r",
      " 11%|█████████▍                                                                         | 6/53 [00:41<05:34,  7.11s/it]"
     ]
    },
    {
     "name": "stdout",
     "output_type": "stream",
     "text": [
      "營業收入_成長(%)< -20\n",
      "3005\n",
      "3005  wait  8\n"
     ]
    },
    {
     "name": "stderr",
     "output_type": "stream",
     "text": [
      "\r",
      " 13%|██████████▉                                                                        | 7/53 [00:49<05:46,  7.53s/it]"
     ]
    },
    {
     "name": "stdout",
     "output_type": "stream",
     "text": [
      "3030\n",
      "3030  wait  5\n"
     ]
    },
    {
     "name": "stderr",
     "output_type": "stream",
     "text": [
      "\r",
      " 15%|████████████▌                                                                      | 8/53 [00:54<05:08,  6.86s/it]"
     ]
    },
    {
     "name": "stdout",
     "output_type": "stream",
     "text": [
      "現金股利_成長(%)< -20\n",
      "3034\n",
      "3034  wait  6\n"
     ]
    },
    {
     "name": "stderr",
     "output_type": "stream",
     "text": [
      "\r",
      " 17%|██████████████                                                                     | 9/53 [01:01<04:54,  6.69s/it]"
     ]
    },
    {
     "name": "stdout",
     "output_type": "stream",
     "text": [
      "現金股利_成長(%)< -20\n",
      "3035\n",
      "3035  wait  6\n"
     ]
    },
    {
     "name": "stderr",
     "output_type": "stream",
     "text": [
      "\r",
      " 19%|███████████████▍                                                                  | 10/53 [01:07<04:43,  6.59s/it]"
     ]
    },
    {
     "name": "stdout",
     "output_type": "stream",
     "text": [
      "稅後淨利_成長(%)< -20\n",
      "3037\n",
      "3037  wait  7\n"
     ]
    },
    {
     "name": "stderr",
     "output_type": "stream",
     "text": [
      "\r",
      " 21%|█████████████████                                                                 | 11/53 [01:14<04:45,  6.80s/it]"
     ]
    },
    {
     "name": "stdout",
     "output_type": "stream",
     "text": [
      "eps: 0.0\n",
      "ROE(%)< 5\n",
      "3189\n",
      "3189  wait  7\n"
     ]
    },
    {
     "name": "stderr",
     "output_type": "stream",
     "text": [
      "\r",
      " 23%|██████████████████▌                                                               | 12/53 [01:22<04:44,  6.94s/it]"
     ]
    },
    {
     "name": "stdout",
     "output_type": "stream",
     "text": [
      "稅後淨利_成長(%)< -20\n",
      "3406\n",
      "3406  wait  6\n"
     ]
    },
    {
     "name": "stderr",
     "output_type": "stream",
     "text": [
      "\r",
      " 25%|████████████████████                                                              | 13/53 [01:28<04:29,  6.74s/it]"
     ]
    },
    {
     "name": "stdout",
     "output_type": "stream",
     "text": [
      "稅後淨利_成長(%)< -20\n",
      "3413\n",
      "3413  wait  7\n"
     ]
    },
    {
     "name": "stderr",
     "output_type": "stream",
     "text": [
      "\r",
      " 26%|█████████████████████▋                                                            | 14/53 [01:35<04:29,  6.90s/it]"
     ]
    },
    {
     "name": "stdout",
     "output_type": "stream",
     "text": [
      "營業收入_成長(%)< -20\n",
      "3443\n",
      "3443  wait  5\n"
     ]
    },
    {
     "name": "stderr",
     "output_type": "stream",
     "text": [
      "\r",
      " 28%|███████████████████████▏                                                          | 15/53 [01:41<04:05,  6.45s/it]"
     ]
    },
    {
     "name": "stdout",
     "output_type": "stream",
     "text": [
      "營業收入_成長(%)< -20\n",
      "3532\n",
      "3532  wait  6\n"
     ]
    },
    {
     "name": "stderr",
     "output_type": "stream",
     "text": [
      "\r",
      " 30%|████████████████████████▊                                                         | 16/53 [01:47<03:58,  6.44s/it]"
     ]
    },
    {
     "name": "stdout",
     "output_type": "stream",
     "text": [
      "營業收入_成長(%)< -20\n",
      "3592\n",
      "上櫃公司\n",
      "3592  wait  9\n"
     ]
    },
    {
     "name": "stderr",
     "output_type": "stream",
     "text": [
      "\r",
      " 32%|██████████████████████████▎                                                       | 17/53 [01:56<04:24,  7.36s/it]"
     ]
    },
    {
     "name": "stdout",
     "output_type": "stream",
     "text": [
      "No tables found\n",
      "3653\n",
      "3653  wait  9\n"
     ]
    },
    {
     "name": "stderr",
     "output_type": "stream",
     "text": [
      "\r",
      " 34%|███████████████████████████▊                                                      | 18/53 [02:06<04:38,  7.96s/it]"
     ]
    },
    {
     "name": "stdout",
     "output_type": "stream",
     "text": [
      "3665\n",
      "3665  wait  9\n"
     ]
    },
    {
     "name": "stderr",
     "output_type": "stream",
     "text": [
      "\r",
      " 36%|█████████████████████████████▍                                                    | 19/53 [02:15<04:44,  8.37s/it]"
     ]
    },
    {
     "name": "stdout",
     "output_type": "stream",
     "text": [
      "4536\n",
      "4536  wait  5\n"
     ]
    },
    {
     "name": "stderr",
     "output_type": "stream",
     "text": [
      "\r",
      " 38%|██████████████████████████████▉                                                   | 20/53 [02:20<04:06,  7.46s/it]"
     ]
    },
    {
     "name": "stdout",
     "output_type": "stream",
     "text": [
      "稅後淨利_成長(%)< -20\n",
      "4919\n",
      "4919  wait  8\n"
     ]
    },
    {
     "name": "stderr",
     "output_type": "stream",
     "text": [
      "\r",
      " 40%|████████████████████████████████▍                                                 | 21/53 [02:29<04:06,  7.70s/it]"
     ]
    },
    {
     "name": "stdout",
     "output_type": "stream",
     "text": [
      "稅後淨利_成長(%)< -20\n",
      "4927\n",
      "4927  wait  5\n"
     ]
    },
    {
     "name": "stderr",
     "output_type": "stream",
     "text": [
      "\r",
      " 42%|██████████████████████████████████                                                | 22/53 [02:34<03:36,  6.97s/it]"
     ]
    },
    {
     "name": "stdout",
     "output_type": "stream",
     "text": [
      "稅後淨利_成長(%)< -20\n",
      "4942\n",
      "4942  wait  5\n"
     ]
    },
    {
     "name": "stderr",
     "output_type": "stream",
     "text": [
      "\r",
      " 43%|███████████████████████████████████▌                                              | 23/53 [02:39<03:13,  6.45s/it]"
     ]
    },
    {
     "name": "stdout",
     "output_type": "stream",
     "text": [
      "稅後淨利_成長(%)< -20\n",
      "4958\n",
      "4958  wait  9\n"
     ]
    },
    {
     "name": "stderr",
     "output_type": "stream",
     "text": [
      "\r",
      " 45%|█████████████████████████████████████▏                                            | 24/53 [02:49<03:31,  7.30s/it]"
     ]
    },
    {
     "name": "stdout",
     "output_type": "stream",
     "text": [
      "現金股利_成長(%)< -20\n",
      "4961\n",
      "4961  wait  7\n"
     ]
    },
    {
     "name": "stderr",
     "output_type": "stream",
     "text": [
      "\r",
      " 47%|██████████████████████████████████████▋                                           | 25/53 [02:56<03:24,  7.31s/it]"
     ]
    },
    {
     "name": "stdout",
     "output_type": "stream",
     "text": [
      "現金股利_成長(%)< -20\n",
      "5007\n",
      "5007  wait  7\n"
     ]
    },
    {
     "name": "stderr",
     "output_type": "stream",
     "text": [
      "\r",
      " 49%|████████████████████████████████████████▏                                         | 26/53 [03:03<03:17,  7.33s/it]"
     ]
    },
    {
     "name": "stdout",
     "output_type": "stream",
     "text": [
      "營業收入_成長(%)< -20\n",
      "5306\n",
      "上櫃公司\n",
      "5306  wait  6\n"
     ]
    },
    {
     "name": "stderr",
     "output_type": "stream",
     "text": [
      "\r",
      " 51%|█████████████████████████████████████████▊                                        | 27/53 [03:10<03:04,  7.10s/it]"
     ]
    },
    {
     "name": "stdout",
     "output_type": "stream",
     "text": [
      "No tables found\n",
      "5522\n",
      "5522  wait  8\n"
     ]
    },
    {
     "name": "stderr",
     "output_type": "stream",
     "text": [
      "\r",
      " 53%|███████████████████████████████████████████▎                                      | 28/53 [03:18<03:06,  7.46s/it]"
     ]
    },
    {
     "name": "stdout",
     "output_type": "stream",
     "text": [
      "營業收入_成長(%)< -20\n",
      "5871\n",
      "5871  wait  7\n"
     ]
    },
    {
     "name": "stderr",
     "output_type": "stream",
     "text": [
      "\r",
      " 55%|████████████████████████████████████████████▊                                     | 29/53 [03:26<02:58,  7.45s/it]"
     ]
    },
    {
     "name": "stdout",
     "output_type": "stream",
     "text": [
      "6005\n",
      "6005  wait  8\n"
     ]
    },
    {
     "name": "stderr",
     "output_type": "stream",
     "text": [
      "\r",
      " 57%|██████████████████████████████████████████████▍                                   | 30/53 [03:34<02:57,  7.72s/it]"
     ]
    },
    {
     "name": "stdout",
     "output_type": "stream",
     "text": [
      "稅後淨利_成長(%)< -20\n",
      "6202\n",
      "6202  wait  6\n"
     ]
    },
    {
     "name": "stderr",
     "output_type": "stream",
     "text": [
      "\r",
      " 58%|███████████████████████████████████████████████▉                                  | 31/53 [03:40<02:41,  7.32s/it]"
     ]
    },
    {
     "name": "stdout",
     "output_type": "stream",
     "text": [
      "6239\n",
      "6239  wait  9\n"
     ]
    },
    {
     "name": "stderr",
     "output_type": "stream",
     "text": [
      "\r",
      " 60%|█████████████████████████████████████████████████▌                                | 32/53 [03:50<02:46,  7.94s/it]"
     ]
    },
    {
     "name": "stdout",
     "output_type": "stream",
     "text": [
      "6257\n",
      "6257  wait  8\n"
     ]
    },
    {
     "name": "stderr",
     "output_type": "stream",
     "text": [
      "\r",
      " 62%|███████████████████████████████████████████████████                               | 33/53 [03:58<02:41,  8.06s/it]"
     ]
    },
    {
     "name": "stdout",
     "output_type": "stream",
     "text": [
      "6271\n",
      "6271  wait  5\n"
     ]
    },
    {
     "name": "stderr",
     "output_type": "stream",
     "text": [
      "\r",
      " 64%|████████████████████████████████████████████████████▌                             | 34/53 [04:03<02:18,  7.27s/it]"
     ]
    },
    {
     "name": "stdout",
     "output_type": "stream",
     "text": [
      "稅後淨利_成長(%)< -20\n",
      "6409\n",
      "6409  wait  5\n"
     ]
    },
    {
     "name": "stderr",
     "output_type": "stream",
     "text": [
      "\r",
      " 66%|██████████████████████████████████████████████████████▏                           | 35/53 [04:09<02:00,  6.72s/it]"
     ]
    },
    {
     "name": "stdout",
     "output_type": "stream",
     "text": [
      "6415\n",
      "6415  wait  6\n"
     ]
    },
    {
     "name": "stderr",
     "output_type": "stream",
     "text": [
      "\r",
      " 68%|███████████████████████████████████████████████████████▋                          | 36/53 [04:15<01:52,  6.64s/it]"
     ]
    },
    {
     "name": "stdout",
     "output_type": "stream",
     "text": [
      "6579\n",
      "6579  wait  9\n"
     ]
    },
    {
     "name": "stderr",
     "output_type": "stream",
     "text": [
      "\r",
      " 70%|█████████████████████████████████████████████████████████▏                        | 37/53 [04:25<01:58,  7.44s/it]"
     ]
    },
    {
     "name": "stdout",
     "output_type": "stream",
     "text": [
      "稅後淨利_成長(%)< -20\n",
      "6592\n",
      "6592  wait  9\n"
     ]
    },
    {
     "name": "stderr",
     "output_type": "stream",
     "text": [
      "\r",
      " 72%|██████████████████████████████████████████████████████████▊                       | 38/53 [04:34<02:00,  8.02s/it]"
     ]
    },
    {
     "name": "stdout",
     "output_type": "stream",
     "text": [
      "6670\n",
      "6670  wait  8\n"
     ]
    },
    {
     "name": "stderr",
     "output_type": "stream",
     "text": [
      "\r",
      " 74%|████████████████████████████████████████████████████████████▎                     | 39/53 [04:42<01:53,  8.08s/it]"
     ]
    },
    {
     "name": "stdout",
     "output_type": "stream",
     "text": [
      "稅後淨利_成長(%)< -20\n",
      "6691\n",
      "上櫃公司\n",
      "6691  wait  8\n"
     ]
    },
    {
     "name": "stderr",
     "output_type": "stream",
     "text": [
      "\r",
      " 75%|█████████████████████████████████████████████████████████████▉                    | 40/53 [04:51<01:46,  8.19s/it]"
     ]
    },
    {
     "name": "stdout",
     "output_type": "stream",
     "text": [
      "No tables found\n",
      "6706\n",
      "6706  wait  7\n"
     ]
    },
    {
     "name": "stderr",
     "output_type": "stream",
     "text": [
      "\r",
      " 77%|███████████████████████████████████████████████████████████████▍                  | 41/53 [04:58<01:35,  7.93s/it]"
     ]
    },
    {
     "name": "stdout",
     "output_type": "stream",
     "text": [
      "6719\n",
      "上櫃公司\n",
      "6719  wait  8\n"
     ]
    },
    {
     "name": "stderr",
     "output_type": "stream",
     "text": [
      "\r",
      " 79%|████████████████████████████████████████████████████████████████▉                 | 42/53 [05:06<01:28,  8.07s/it]"
     ]
    },
    {
     "name": "stdout",
     "output_type": "stream",
     "text": [
      "No tables found\n",
      "6781\n",
      "6781  wait  5\n"
     ]
    },
    {
     "name": "stderr",
     "output_type": "stream",
     "text": [
      "\r",
      " 81%|██████████████████████████████████████████████████████████████████▌               | 43/53 [05:12<01:12,  7.25s/it]"
     ]
    },
    {
     "name": "stdout",
     "output_type": "stream",
     "text": [
      "8016\n",
      "8016  wait  5\n"
     ]
    },
    {
     "name": "stderr",
     "output_type": "stream",
     "text": [
      "\r",
      " 83%|████████████████████████████████████████████████████████████████████              | 44/53 [05:17<01:00,  6.70s/it]"
     ]
    },
    {
     "name": "stdout",
     "output_type": "stream",
     "text": [
      "8046\n",
      "8046  wait  5\n"
     ]
    },
    {
     "name": "stderr",
     "output_type": "stream",
     "text": [
      "\r",
      " 85%|█████████████████████████████████████████████████████████████████████▌            | 45/53 [05:22<00:50,  6.27s/it]"
     ]
    },
    {
     "name": "stdout",
     "output_type": "stream",
     "text": [
      "稅後淨利_成長(%)< -20\n",
      "8070\n",
      "8070  wait  7\n"
     ]
    },
    {
     "name": "stderr",
     "output_type": "stream",
     "text": [
      "\r",
      " 87%|███████████████████████████████████████████████████████████████████████▏          | 46/53 [05:30<00:46,  6.57s/it]"
     ]
    },
    {
     "name": "stdout",
     "output_type": "stream",
     "text": [
      "EPS(Y)_成長(%) < -20\n",
      "8081\n",
      "8081  wait  9\n"
     ]
    },
    {
     "name": "stderr",
     "output_type": "stream",
     "text": [
      "\r",
      " 89%|████████████████████████████████████████████████████████████████████████▋         | 47/53 [05:39<00:44,  7.41s/it]"
     ]
    },
    {
     "name": "stdout",
     "output_type": "stream",
     "text": [
      "稅後淨利_成長(%)< -20\n",
      "9910\n",
      "9910  wait  6\n"
     ]
    },
    {
     "name": "stderr",
     "output_type": "stream",
     "text": [
      "\r",
      " 91%|██████████████████████████████████████████████████████████████████████████▎       | 48/53 [05:45<00:35,  7.10s/it]"
     ]
    },
    {
     "name": "stdout",
     "output_type": "stream",
     "text": [
      "稅後淨利_成長(%)< -20\n",
      "9911\n",
      "9911  wait  6\n"
     ]
    },
    {
     "name": "stderr",
     "output_type": "stream",
     "text": [
      "\r",
      " 92%|███████████████████████████████████████████████████████████████████████████▊      | 49/53 [05:52<00:27,  6.90s/it]"
     ]
    },
    {
     "name": "stdout",
     "output_type": "stream",
     "text": [
      "9938\n",
      "9938  wait  5\n"
     ]
    },
    {
     "name": "stderr",
     "output_type": "stream",
     "text": [
      "\r",
      " 94%|█████████████████████████████████████████████████████████████████████████████▎    | 50/53 [05:57<00:19,  6.45s/it]"
     ]
    },
    {
     "name": "stdout",
     "output_type": "stream",
     "text": [
      "9939\n",
      "9939  wait  9\n"
     ]
    },
    {
     "name": "stderr",
     "output_type": "stream",
     "text": [
      "\r",
      " 96%|██████████████████████████████████████████████████████████████████████████████▉   | 51/53 [06:07<00:14,  7.33s/it]"
     ]
    },
    {
     "name": "stdout",
     "output_type": "stream",
     "text": [
      "9945\n",
      "9945  wait  6\n"
     ]
    },
    {
     "name": "stderr",
     "output_type": "stream",
     "text": [
      "\r",
      " 98%|████████████████████████████████████████████████████████████████████████████████▍ | 52/53 [06:13<00:07,  7.02s/it]"
     ]
    },
    {
     "name": "stdout",
     "output_type": "stream",
     "text": [
      "EPS(Y)_成長(%) < -20\n",
      "9958\n",
      "9958  wait  6\n"
     ]
    },
    {
     "name": "stderr",
     "output_type": "stream",
     "text": [
      "100%|██████████████████████████████████████████████████████████████████████████████████| 53/53 [06:19<00:00,  7.16s/it]"
     ]
    },
    {
     "name": "stdout",
     "output_type": "stream",
     "text": [
      "稅後淨利_成長(%)< -20\n"
     ]
    },
    {
     "name": "stderr",
     "output_type": "stream",
     "text": [
      "\n"
     ]
    },
    {
     "data": {
      "text/html": [
       "<div>\n",
       "<style scoped>\n",
       "    .dataframe tbody tr th:only-of-type {\n",
       "        vertical-align: middle;\n",
       "    }\n",
       "\n",
       "    .dataframe tbody tr th {\n",
       "        vertical-align: top;\n",
       "    }\n",
       "\n",
       "    .dataframe thead th {\n",
       "        text-align: right;\n",
       "    }\n",
       "</style>\n",
       "<table border=\"1\" class=\"dataframe\">\n",
       "  <thead>\n",
       "    <tr style=\"text-align: right;\">\n",
       "      <th></th>\n",
       "      <th>stock_id</th>\n",
       "      <th>2015</th>\n",
       "      <th>2016</th>\n",
       "      <th>2017</th>\n",
       "      <th>2018</th>\n",
       "      <th>2019</th>\n",
       "      <th>2020</th>\n",
       "      <th>2021</th>\n",
       "      <th>股價</th>\n",
       "      <th>預估EPS(Y)</th>\n",
       "      <th>...</th>\n",
       "      <th>殖利率(%)</th>\n",
       "      <th>盈餘成長率(%)</th>\n",
       "      <th>總報酬率(%)</th>\n",
       "      <th>總報酬本益比</th>\n",
       "      <th>lowest_est</th>\n",
       "      <th>highest_est</th>\n",
       "      <th>本益比_min_avg</th>\n",
       "      <th>本益比_max_avg</th>\n",
       "      <th>2022</th>\n",
       "      <th>2014</th>\n",
       "    </tr>\n",
       "  </thead>\n",
       "  <tbody>\n",
       "    <tr>\n",
       "      <th>營業收入(億)</th>\n",
       "      <td>1102</td>\n",
       "      <td>662.9</td>\n",
       "      <td>609.5</td>\n",
       "      <td>649.0</td>\n",
       "      <td>827.4</td>\n",
       "      <td>893.5</td>\n",
       "      <td>782.4</td>\n",
       "      <td>618.1</td>\n",
       "      <td>48.5</td>\n",
       "      <td>4.7</td>\n",
       "      <td>...</td>\n",
       "      <td>7.1</td>\n",
       "      <td>16.64</td>\n",
       "      <td>23.74</td>\n",
       "      <td>2.3</td>\n",
       "      <td>23.35</td>\n",
       "      <td>60.71</td>\n",
       "      <td>5.0</td>\n",
       "      <td>13.0</td>\n",
       "      <td>NaN</td>\n",
       "      <td>NaN</td>\n",
       "    </tr>\n",
       "    <tr>\n",
       "      <th>營業收入_成長(%)</th>\n",
       "      <td>1102</td>\n",
       "      <td>0.0</td>\n",
       "      <td>-8.1</td>\n",
       "      <td>6.5</td>\n",
       "      <td>27.5</td>\n",
       "      <td>8.0</td>\n",
       "      <td>-12.4</td>\n",
       "      <td>-21.0</td>\n",
       "      <td>48.5</td>\n",
       "      <td>4.7</td>\n",
       "      <td>...</td>\n",
       "      <td>7.1</td>\n",
       "      <td>16.64</td>\n",
       "      <td>23.74</td>\n",
       "      <td>2.3</td>\n",
       "      <td>23.35</td>\n",
       "      <td>60.71</td>\n",
       "      <td>5.0</td>\n",
       "      <td>13.0</td>\n",
       "      <td>NaN</td>\n",
       "      <td>NaN</td>\n",
       "    </tr>\n",
       "    <tr>\n",
       "      <th>稅後淨利(億)</th>\n",
       "      <td>1102</td>\n",
       "      <td>49.1</td>\n",
       "      <td>46.6</td>\n",
       "      <td>66.3</td>\n",
       "      <td>148.7</td>\n",
       "      <td>221.5</td>\n",
       "      <td>188.3</td>\n",
       "      <td>82.0</td>\n",
       "      <td>48.5</td>\n",
       "      <td>4.7</td>\n",
       "      <td>...</td>\n",
       "      <td>7.1</td>\n",
       "      <td>16.64</td>\n",
       "      <td>23.74</td>\n",
       "      <td>2.3</td>\n",
       "      <td>23.35</td>\n",
       "      <td>60.71</td>\n",
       "      <td>5.0</td>\n",
       "      <td>13.0</td>\n",
       "      <td>NaN</td>\n",
       "      <td>NaN</td>\n",
       "    </tr>\n",
       "    <tr>\n",
       "      <th>稅後淨利_成長(%)</th>\n",
       "      <td>1102</td>\n",
       "      <td>0.0</td>\n",
       "      <td>-4.9</td>\n",
       "      <td>42.1</td>\n",
       "      <td>124.3</td>\n",
       "      <td>48.9</td>\n",
       "      <td>-15.0</td>\n",
       "      <td>-56.5</td>\n",
       "      <td>48.5</td>\n",
       "      <td>4.7</td>\n",
       "      <td>...</td>\n",
       "      <td>7.1</td>\n",
       "      <td>16.64</td>\n",
       "      <td>23.74</td>\n",
       "      <td>2.3</td>\n",
       "      <td>23.35</td>\n",
       "      <td>60.71</td>\n",
       "      <td>5.0</td>\n",
       "      <td>13.0</td>\n",
       "      <td>NaN</td>\n",
       "      <td>NaN</td>\n",
       "    </tr>\n",
       "    <tr>\n",
       "      <th>股東權益</th>\n",
       "      <td>1102</td>\n",
       "      <td>0.0</td>\n",
       "      <td>0.0</td>\n",
       "      <td>364.2</td>\n",
       "      <td>1550.0</td>\n",
       "      <td>1658.8</td>\n",
       "      <td>1654.2</td>\n",
       "      <td>1280.8</td>\n",
       "      <td>48.5</td>\n",
       "      <td>4.7</td>\n",
       "      <td>...</td>\n",
       "      <td>7.1</td>\n",
       "      <td>16.64</td>\n",
       "      <td>23.74</td>\n",
       "      <td>2.3</td>\n",
       "      <td>23.35</td>\n",
       "      <td>60.71</td>\n",
       "      <td>5.0</td>\n",
       "      <td>13.0</td>\n",
       "      <td>NaN</td>\n",
       "      <td>NaN</td>\n",
       "    </tr>\n",
       "  </tbody>\n",
       "</table>\n",
       "<p>5 rows × 21 columns</p>\n",
       "</div>"
      ],
      "text/plain": [
       "           stock_id   2015   2016   2017    2018    2019    2020    2021  \\\n",
       "營業收入(億)        1102  662.9  609.5  649.0   827.4   893.5   782.4   618.1   \n",
       "營業收入_成長(%)     1102    0.0   -8.1    6.5    27.5     8.0   -12.4   -21.0   \n",
       "稅後淨利(億)        1102   49.1   46.6   66.3   148.7   221.5   188.3    82.0   \n",
       "稅後淨利_成長(%)     1102    0.0   -4.9   42.1   124.3    48.9   -15.0   -56.5   \n",
       "股東權益           1102    0.0    0.0  364.2  1550.0  1658.8  1654.2  1280.8   \n",
       "\n",
       "              股價  預估EPS(Y)  ...  殖利率(%)  盈餘成長率(%)  總報酬率(%)  總報酬本益比  \\\n",
       "營業收入(億)     48.5       4.7  ...     7.1     16.64    23.74     2.3   \n",
       "營業收入_成長(%)  48.5       4.7  ...     7.1     16.64    23.74     2.3   \n",
       "稅後淨利(億)     48.5       4.7  ...     7.1     16.64    23.74     2.3   \n",
       "稅後淨利_成長(%)  48.5       4.7  ...     7.1     16.64    23.74     2.3   \n",
       "股東權益        48.5       4.7  ...     7.1     16.64    23.74     2.3   \n",
       "\n",
       "            lowest_est  highest_est  本益比_min_avg  本益比_max_avg  2022  2014  \n",
       "營業收入(億)          23.35        60.71          5.0         13.0   NaN   NaN  \n",
       "營業收入_成長(%)       23.35        60.71          5.0         13.0   NaN   NaN  \n",
       "稅後淨利(億)          23.35        60.71          5.0         13.0   NaN   NaN  \n",
       "稅後淨利_成長(%)       23.35        60.71          5.0         13.0   NaN   NaN  \n",
       "股東權益             23.35        60.71          5.0         13.0   NaN   NaN  \n",
       "\n",
       "[5 rows x 21 columns]"
      ]
     },
     "execution_count": 17,
     "metadata": {},
     "output_type": "execute_result"
    }
   ],
   "source": [
    "# 計算歷年成長%\n",
    "df_y_all = pd.DataFrame()\n",
    "\n",
    "for lst_id in lst_all_id:\n",
    "    for stock_id in tqdm(lst_id):\n",
    "        path_equity = root + 'equity/quarterly_equity_{}.xlsx'.format(stock_id)\n",
    "        if not os.path.exists(path_equity):\n",
    "            print(stock_id, '不存在')\n",
    "            continue\n",
    "        df_quarterly = pd.read_excel(path_equity, engine='openpyxl')\n",
    "        df_quarterly = df_quarterly.set_index(df_quarterly.columns[0])\n",
    "        t_wait = np.random.randint(5,10)\n",
    "        print(stock_id)\n",
    "        df_y = check_5_years(stock_id, df_quarterly, df_today, True)\n",
    "        df_y_all = df_y_all.append(df_y)\n",
    "        if not df_y is None:\n",
    "            df_y.to_excel(path_equity.replace('quarterly_','yearly/yearly_'))\n",
    "    \n",
    "    path = root+'equity/yearly/check/finance_{}.xlsx'.format(datetime.now().strftime('%Y_%m_%d_%H%M'))\n",
    "    df_y_all.to_excel(path)\n",
    "    print(path)\n",
    "df_y_all.head()"
   ]
  },
  {
   "cell_type": "code",
   "execution_count": 23,
   "metadata": {},
   "outputs": [
    {
     "name": "stdout",
     "output_type": "stream",
     "text": [
      "651\n"
     ]
    },
    {
     "data": {
      "text/html": [
       "<div>\n",
       "<style scoped>\n",
       "    .dataframe tbody tr th:only-of-type {\n",
       "        vertical-align: middle;\n",
       "    }\n",
       "\n",
       "    .dataframe tbody tr th {\n",
       "        vertical-align: top;\n",
       "    }\n",
       "\n",
       "    .dataframe thead th {\n",
       "        text-align: right;\n",
       "    }\n",
       "</style>\n",
       "<table border=\"1\" class=\"dataframe\">\n",
       "  <thead>\n",
       "    <tr style=\"text-align: right;\">\n",
       "      <th></th>\n",
       "      <th>Unnamed: 0</th>\n",
       "      <th>stock_id</th>\n",
       "      <th>2015</th>\n",
       "      <th>2016</th>\n",
       "      <th>2017</th>\n",
       "      <th>2018</th>\n",
       "      <th>2019</th>\n",
       "      <th>2020</th>\n",
       "      <th>2021</th>\n",
       "      <th>股價</th>\n",
       "      <th>...</th>\n",
       "      <th>殖利率(%)</th>\n",
       "      <th>盈餘成長率(%)</th>\n",
       "      <th>總報酬率(%)</th>\n",
       "      <th>總報酬本益比</th>\n",
       "      <th>lowest_est</th>\n",
       "      <th>highest_est</th>\n",
       "      <th>本益比_min_avg</th>\n",
       "      <th>本益比_max_avg</th>\n",
       "      <th>2022</th>\n",
       "      <th>2014</th>\n",
       "    </tr>\n",
       "  </thead>\n",
       "  <tbody>\n",
       "    <tr>\n",
       "      <th>0</th>\n",
       "      <td>營業收入(億)</td>\n",
       "      <td>1102</td>\n",
       "      <td>662.9</td>\n",
       "      <td>609.5</td>\n",
       "      <td>649.0</td>\n",
       "      <td>827.4</td>\n",
       "      <td>893.5</td>\n",
       "      <td>782.4</td>\n",
       "      <td>618.1</td>\n",
       "      <td>48.5</td>\n",
       "      <td>...</td>\n",
       "      <td>7.1</td>\n",
       "      <td>16.64</td>\n",
       "      <td>23.74</td>\n",
       "      <td>2.3</td>\n",
       "      <td>23.35</td>\n",
       "      <td>60.71</td>\n",
       "      <td>5.0</td>\n",
       "      <td>13.0</td>\n",
       "      <td>NaN</td>\n",
       "      <td>NaN</td>\n",
       "    </tr>\n",
       "    <tr>\n",
       "      <th>1</th>\n",
       "      <td>營業收入_成長(%)</td>\n",
       "      <td>1102</td>\n",
       "      <td>0.0</td>\n",
       "      <td>-8.1</td>\n",
       "      <td>6.5</td>\n",
       "      <td>27.5</td>\n",
       "      <td>8.0</td>\n",
       "      <td>-12.4</td>\n",
       "      <td>-21.0</td>\n",
       "      <td>48.5</td>\n",
       "      <td>...</td>\n",
       "      <td>7.1</td>\n",
       "      <td>16.64</td>\n",
       "      <td>23.74</td>\n",
       "      <td>2.3</td>\n",
       "      <td>23.35</td>\n",
       "      <td>60.71</td>\n",
       "      <td>5.0</td>\n",
       "      <td>13.0</td>\n",
       "      <td>NaN</td>\n",
       "      <td>NaN</td>\n",
       "    </tr>\n",
       "  </tbody>\n",
       "</table>\n",
       "<p>2 rows × 22 columns</p>\n",
       "</div>"
      ],
      "text/plain": [
       "   Unnamed: 0  stock_id   2015   2016   2017   2018   2019   2020   2021  \\\n",
       "0     營業收入(億)      1102  662.9  609.5  649.0  827.4  893.5  782.4  618.1   \n",
       "1  營業收入_成長(%)      1102    0.0   -8.1    6.5   27.5    8.0  -12.4  -21.0   \n",
       "\n",
       "     股價  ...  殖利率(%)  盈餘成長率(%)  總報酬率(%)  總報酬本益比  lowest_est  highest_est  \\\n",
       "0  48.5  ...     7.1     16.64    23.74     2.3       23.35        60.71   \n",
       "1  48.5  ...     7.1     16.64    23.74     2.3       23.35        60.71   \n",
       "\n",
       "   本益比_min_avg  本益比_max_avg  2022  2014  \n",
       "0          5.0         13.0   NaN   NaN  \n",
       "1          5.0         13.0   NaN   NaN  \n",
       "\n",
       "[2 rows x 22 columns]"
      ]
     },
     "execution_count": 23,
     "metadata": {},
     "output_type": "execute_result"
    }
   ],
   "source": [
    "path_check = root+'equity/yearly/check/finance_20220330_2.xlsx'\n",
    "df_check = pd.read_excel(path_check, engine='openpyxl')\n",
    "print(len(df_check))\n",
    "df_check.head(2)"
   ]
  },
  {
   "cell_type": "code",
   "execution_count": 24,
   "metadata": {},
   "outputs": [
    {
     "name": "stdout",
     "output_type": "stream",
     "text": [
      "1102 不符合\n",
      "1476 不符合\n",
      "1504 不符合\n",
      "1513 不符合\n",
      "2330 不符合\n",
      "2395 不符合\n",
      "2454 不符合\n",
      "2886 不符合\n",
      "3005 不符合\n",
      "3653 不符合\n",
      "3665 不符合\n",
      "5306 不符合\n",
      "6202 不符合\n",
      "6409 不符合\n",
      "8016 不符合\n",
      "9938 不符合\n",
      "9939 不符合\n",
      "[1102, 1476, 1504, 1513, 2330, 2395, 2454, 2886, 3005, 3653, 3665, 5306, 6202, 6409, 8016, 9938, 9939]\n",
      "294\n",
      "1102 不符合\n",
      "1476 不符合\n",
      "1504 不符合\n",
      "1513 不符合\n",
      "2330 不符合\n",
      "2395 不符合\n",
      "2428 不符合\n",
      "2454 不符合\n",
      "2886 不符合\n",
      "3005 不符合\n",
      "3653 不符合\n",
      "3665 不符合\n",
      "5306 不符合\n",
      "6202 不符合\n",
      "6239 不符合\n",
      "6409 不符合\n",
      "6592 不符合\n",
      "8016 不符合\n",
      "9938 不符合\n",
      "9939 不符合\n",
      "[1102, 1476, 1504, 1513, 2330, 2395, 2428, 2454, 2886, 3005, 3653, 3665, 5306, 6202, 6239, 6409, 6592, 8016, 9938, 9939]\n",
      "231\n"
     ]
    }
   ],
   "source": [
    "lst_threshold = [-10, -5]\n",
    "for threshold in lst_threshold:\n",
    "    lst_remove_id = []\n",
    "    for stock_id in df_check['stock_id'].unique():\n",
    "        df_stock = df_check[df_check['stock_id']==stock_id]\n",
    "        df_stock = df_stock[(df_stock[2017]<threshold) | (df_stock[2018]<threshold) \\\n",
    "                               | (df_stock[2019]<threshold) | (df_stock[2020]<threshold)]\n",
    "        if len(df_stock)>0:\n",
    "            print(stock_id, '不符合')\n",
    "            lst_remove_id.append(stock_id)\n",
    "    print(lst_remove_id)\n",
    "    df_check_05 = df_check[~df_check['stock_id'].isin(lst_remove_id)]\n",
    "    print(len(df_check_05))\n",
    "    s_now = datetime.now().strftime('%Y_%m_%d_%H%M')\n",
    "    path = root+'equity/yearly/check/finance_check_{}_{}.xlsx'.format(str(threshold*-1), s_now)\n",
    "    df_check_05.to_excel(path, index=False)"
   ]
  },
  {
   "cell_type": "code",
   "execution_count": 5,
   "metadata": {},
   "outputs": [
    {
     "name": "stdout",
     "output_type": "stream",
     "text": [
      "3592\n",
      "上櫃公司\n",
      "this year 2021\n",
      "3592  wait  8\n",
      "No tables found\n"
     ]
    },
    {
     "data": {
      "text/html": [
       "<div>\n",
       "<style scoped>\n",
       "    .dataframe tbody tr th:only-of-type {\n",
       "        vertical-align: middle;\n",
       "    }\n",
       "\n",
       "    .dataframe tbody tr th {\n",
       "        vertical-align: top;\n",
       "    }\n",
       "\n",
       "    .dataframe thead th {\n",
       "        text-align: right;\n",
       "    }\n",
       "</style>\n",
       "<table border=\"1\" class=\"dataframe\">\n",
       "  <thead>\n",
       "    <tr style=\"text-align: right;\">\n",
       "      <th>year</th>\n",
       "      <th>stock_id</th>\n",
       "      <th>2021</th>\n",
       "      <th>2022</th>\n",
       "    </tr>\n",
       "  </thead>\n",
       "  <tbody>\n",
       "    <tr>\n",
       "      <th>營業收入(億)</th>\n",
       "      <td>3592</td>\n",
       "      <td>67.4</td>\n",
       "      <td>0.0</td>\n",
       "    </tr>\n",
       "    <tr>\n",
       "      <th>營業收入_成長(%)</th>\n",
       "      <td>3592</td>\n",
       "      <td>0.0</td>\n",
       "      <td>-100.0</td>\n",
       "    </tr>\n",
       "    <tr>\n",
       "      <th>稅後淨利(億)</th>\n",
       "      <td>3592</td>\n",
       "      <td>12.6</td>\n",
       "      <td>0.0</td>\n",
       "    </tr>\n",
       "    <tr>\n",
       "      <th>稅後淨利_成長(%)</th>\n",
       "      <td>3592</td>\n",
       "      <td>0.0</td>\n",
       "      <td>0.0</td>\n",
       "    </tr>\n",
       "    <tr>\n",
       "      <th>股東權益</th>\n",
       "      <td>3592</td>\n",
       "      <td>17.8</td>\n",
       "      <td>0.0</td>\n",
       "    </tr>\n",
       "    <tr>\n",
       "      <th>ROE(%)</th>\n",
       "      <td>3592</td>\n",
       "      <td>70.6</td>\n",
       "      <td>0.0</td>\n",
       "    </tr>\n",
       "    <tr>\n",
       "      <th>毛利率(%)</th>\n",
       "      <td>3592</td>\n",
       "      <td>46.3</td>\n",
       "      <td>0.0</td>\n",
       "    </tr>\n",
       "    <tr>\n",
       "      <th>毛利率_成長(%)</th>\n",
       "      <td>3592</td>\n",
       "      <td>0.0</td>\n",
       "      <td>0.0</td>\n",
       "    </tr>\n",
       "    <tr>\n",
       "      <th>營益率(%)</th>\n",
       "      <td>3592</td>\n",
       "      <td>22.0</td>\n",
       "      <td>0.0</td>\n",
       "    </tr>\n",
       "    <tr>\n",
       "      <th>淨利率(%)</th>\n",
       "      <td>3592</td>\n",
       "      <td>22.5</td>\n",
       "      <td>0.0</td>\n",
       "    </tr>\n",
       "    <tr>\n",
       "      <th>每股盈餘(元)</th>\n",
       "      <td>3592</td>\n",
       "      <td>19.0</td>\n",
       "      <td>0.0</td>\n",
       "    </tr>\n",
       "    <tr>\n",
       "      <th>EPS(Y)</th>\n",
       "      <td>3592</td>\n",
       "      <td>19.0</td>\n",
       "      <td>0.0</td>\n",
       "    </tr>\n",
       "    <tr>\n",
       "      <th>EPS(Y)_成長(%)</th>\n",
       "      <td>3592</td>\n",
       "      <td>0.0</td>\n",
       "      <td>-100.0</td>\n",
       "    </tr>\n",
       "    <tr>\n",
       "      <th>現金股利(%)</th>\n",
       "      <td>3592</td>\n",
       "      <td>0.0</td>\n",
       "      <td>0.0</td>\n",
       "    </tr>\n",
       "    <tr>\n",
       "      <th>cash</th>\n",
       "      <td>3592</td>\n",
       "      <td>0.0</td>\n",
       "      <td>0.0</td>\n",
       "    </tr>\n",
       "    <tr>\n",
       "      <th>現金股利_成長(%)</th>\n",
       "      <td>3592</td>\n",
       "      <td>0.0</td>\n",
       "      <td>0.0</td>\n",
       "    </tr>\n",
       "    <tr>\n",
       "      <th>price_low</th>\n",
       "      <td>3592</td>\n",
       "      <td>0.0</td>\n",
       "      <td>0.0</td>\n",
       "    </tr>\n",
       "    <tr>\n",
       "      <th>price_high</th>\n",
       "      <td>3592</td>\n",
       "      <td>0.0</td>\n",
       "      <td>0.0</td>\n",
       "    </tr>\n",
       "    <tr>\n",
       "      <th>price_avg</th>\n",
       "      <td>3592</td>\n",
       "      <td>0.0</td>\n",
       "      <td>0.0</td>\n",
       "    </tr>\n",
       "    <tr>\n",
       "      <th>本益比_min</th>\n",
       "      <td>3592</td>\n",
       "      <td>0.0</td>\n",
       "      <td>0.0</td>\n",
       "    </tr>\n",
       "    <tr>\n",
       "      <th>本益比_max</th>\n",
       "      <td>3592</td>\n",
       "      <td>0.0</td>\n",
       "      <td>0.0</td>\n",
       "    </tr>\n",
       "  </tbody>\n",
       "</table>\n",
       "</div>"
      ],
      "text/plain": [
       "year         stock_id  2021   2022\n",
       "營業收入(億)          3592  67.4    0.0\n",
       "營業收入_成長(%)       3592   0.0 -100.0\n",
       "稅後淨利(億)          3592  12.6    0.0\n",
       "稅後淨利_成長(%)       3592   0.0    0.0\n",
       "股東權益             3592  17.8    0.0\n",
       "ROE(%)           3592  70.6    0.0\n",
       "毛利率(%)           3592  46.3    0.0\n",
       "毛利率_成長(%)        3592   0.0    0.0\n",
       "營益率(%)           3592  22.0    0.0\n",
       "淨利率(%)           3592  22.5    0.0\n",
       "每股盈餘(元)          3592  19.0    0.0\n",
       "EPS(Y)           3592  19.0    0.0\n",
       "EPS(Y)_成長(%)     3592   0.0 -100.0\n",
       "現金股利(%)          3592   0.0    0.0\n",
       "cash             3592   0.0    0.0\n",
       "現金股利_成長(%)       3592   0.0    0.0\n",
       "price_low        3592   0.0    0.0\n",
       "price_high       3592   0.0    0.0\n",
       "price_avg        3592   0.0    0.0\n",
       "本益比_min          3592   0.0    0.0\n",
       "本益比_max          3592   0.0    0.0"
      ]
     },
     "execution_count": 5,
     "metadata": {},
     "output_type": "execute_result"
    }
   ],
   "source": [
    "stock_id = '3592'\n",
    "path_equity = root + 'equity/quarterly_equity_{}.xlsx'.format(stock_id)\n",
    "df_quarterly = pd.read_excel(path_equity, engine='openpyxl')\n",
    "df_quarterly = df_quarterly.set_index(df_quarterly.columns[0])\n",
    "t_wait = np.random.randint(5,10)\n",
    "print(stock_id)\n",
    "df_y = check_5_years(stock_id, df_quarterly, df_today, True)\n",
    "df_y"
   ]
  },
  {
   "cell_type": "code",
   "execution_count": 10,
   "metadata": {
    "scrolled": true
   },
   "outputs": [
    {
     "name": "stderr",
     "output_type": "stream",
     "text": [
      "\r",
      "  0%|                                                                                            | 0/1 [00:00<?, ?it/s]"
     ]
    },
    {
     "name": "stdout",
     "output_type": "stream",
     "text": [
      "2379 , wait  9\n"
     ]
    },
    {
     "name": "stderr",
     "output_type": "stream",
     "text": [
      "c:\\users\\mia\\appdata\\local\\programs\\python\\python37\\lib\\site-packages\\openpyxl\\styles\\stylesheet.py:221: UserWarning: Workbook contains no default style, apply openpyxl's default\n",
      "  warn(\"Workbook contains no default style, apply openpyxl's default\")\n"
     ]
    },
    {
     "name": "stdout",
     "output_type": "stream",
     "text": [
      "[{'year': '2019', 'eps': 13.36}, {'year': '2018', 'eps': 8.57}, {'year': '2016', 'eps': 6.02}, {'year': '2015', 'eps': 4.81}, {'year': '2021', 'eps': 31.97}, {'year': '2020', 'eps': 17.24}, {'year': '2017', 'eps': 6.71}]\n"
     ]
    },
    {
     "name": "stderr",
     "output_type": "stream",
     "text": [
      "100%|████████████████████████████████████████████████████████████████████████████████████| 1/1 [00:01<00:00,  1.99s/it]\n"
     ]
    }
   ],
   "source": [
    "lst_stock_id = ['2379']\n",
    "df_yearly_all = get_df_yearly_all() # 寫入歷年EPS、本益比，估算今年股價min, max範圍\n",
    "df_quarterly_all = get_df_quarterly_all()\n",
    "df_estimate = pd.DataFrame(columns = list(df_quarterly_all.columns)+['普通股數'])\n",
    "\n",
    "# 取得公司發行股數\n",
    "path_company_stock_num = root + 'company_list.xlsx'\n",
    "df_company_stock_num = pd.read_excel(path_company_stock_num, engine='openpyxl', dtype={'stock_id':str})\n",
    "df_company_stock_num.set_index('stock_id', inplace=True)\n",
    "\n",
    "lst_eps = []\n",
    "for i in tqdm(range(len(lst_stock_id))):\n",
    "    stock_id = lst_stock_id[i]\n",
    "    t_wait = np.random.randint(5,15)\n",
    "    print(stock_id, ', wait ', t_wait)\n",
    "    df = get_df_quarterly(stock_id)\n",
    "\n",
    "    lst_eps.append(stock_id)\n",
    "    # 計算歷年同季的營收成長率、EPS\n",
    "    df = set_growth_eps(df, df_today, stock_id)\n",
    "\n",
    "    # 將年度EPS寫到歷年excel裡\n",
    "    lst_year = set(df.index.to_series().apply(lambda x:x[:4]))\n",
    "    min_year = int(min(lst_year)) # 若最小年是2018 ，只能確定2019都有資料\n",
    "    lst_year = [y for y in lst_year if int(y) > min_year]\n",
    "    lst_EPS = [{'year':y, 'eps': df.loc[str(y)+'Q1', 'EPS(Y)']} for y in lst_year]\n",
    "    df.reset_index(inplace=True)\n",
    "    df = df.rename(columns={'index':'quarter'}) # reset_index後column名稱是index\n",
    "\n",
    "    print(lst_EPS)\n",
    "    stock_name = df_today.loc[stock_id, 'name']\n",
    "    df_yearly = get_yearly(stock_id, lst_EPS, df['quarter'][0][:4], stock_name)    "
   ]
  },
  {
   "cell_type": "code",
   "execution_count": 9,
   "metadata": {},
   "outputs": [
    {
     "data": {
      "text/html": [
       "<div>\n",
       "<style scoped>\n",
       "    .dataframe tbody tr th:only-of-type {\n",
       "        vertical-align: middle;\n",
       "    }\n",
       "\n",
       "    .dataframe tbody tr th {\n",
       "        vertical-align: top;\n",
       "    }\n",
       "\n",
       "    .dataframe thead th {\n",
       "        text-align: right;\n",
       "    }\n",
       "</style>\n",
       "<table border=\"1\" class=\"dataframe\">\n",
       "  <thead>\n",
       "    <tr style=\"text-align: right;\">\n",
       "      <th></th>\n",
       "      <th>stock_id</th>\n",
       "      <th>name</th>\n",
       "      <th>year</th>\n",
       "      <th>highest</th>\n",
       "      <th>lowest</th>\n",
       "      <th>average</th>\n",
       "      <th>EPS</th>\n",
       "      <th>本益比_max</th>\n",
       "      <th>本益比_min</th>\n",
       "    </tr>\n",
       "  </thead>\n",
       "  <tbody>\n",
       "    <tr>\n",
       "      <th>0</th>\n",
       "      <td>2379</td>\n",
       "      <td>瑞昱</td>\n",
       "      <td>2021</td>\n",
       "      <td>799.25</td>\n",
       "      <td>319.70</td>\n",
       "      <td>508.23</td>\n",
       "      <td>31.97</td>\n",
       "      <td>25.0</td>\n",
       "      <td>10.0</td>\n",
       "    </tr>\n",
       "    <tr>\n",
       "      <th>1</th>\n",
       "      <td>2379</td>\n",
       "      <td>瑞昱</td>\n",
       "      <td>2020</td>\n",
       "      <td>432.00</td>\n",
       "      <td>162.00</td>\n",
       "      <td>312.62</td>\n",
       "      <td>17.24</td>\n",
       "      <td>25.1</td>\n",
       "      <td>9.4</td>\n",
       "    </tr>\n",
       "    <tr>\n",
       "      <th>2</th>\n",
       "      <td>2379</td>\n",
       "      <td>瑞昱</td>\n",
       "      <td>2019</td>\n",
       "      <td>251.50</td>\n",
       "      <td>136.00</td>\n",
       "      <td>207.43</td>\n",
       "      <td>13.36</td>\n",
       "      <td>18.8</td>\n",
       "      <td>10.2</td>\n",
       "    </tr>\n",
       "    <tr>\n",
       "      <th>3</th>\n",
       "      <td>2379</td>\n",
       "      <td>瑞昱</td>\n",
       "      <td>2018</td>\n",
       "      <td>151.00</td>\n",
       "      <td>101.00</td>\n",
       "      <td>123.94</td>\n",
       "      <td>8.57</td>\n",
       "      <td>17.6</td>\n",
       "      <td>11.8</td>\n",
       "    </tr>\n",
       "    <tr>\n",
       "      <th>4</th>\n",
       "      <td>2379</td>\n",
       "      <td>瑞昱</td>\n",
       "      <td>2017</td>\n",
       "      <td>124.50</td>\n",
       "      <td>99.50</td>\n",
       "      <td>109.36</td>\n",
       "      <td>6.71</td>\n",
       "      <td>18.6</td>\n",
       "      <td>14.8</td>\n",
       "    </tr>\n",
       "    <tr>\n",
       "      <th>5</th>\n",
       "      <td>2379</td>\n",
       "      <td>瑞昱</td>\n",
       "      <td>2016</td>\n",
       "      <td>133.00</td>\n",
       "      <td>71.30</td>\n",
       "      <td>98.43</td>\n",
       "      <td>6.02</td>\n",
       "      <td>22.1</td>\n",
       "      <td>11.8</td>\n",
       "    </tr>\n",
       "    <tr>\n",
       "      <th>6</th>\n",
       "      <td>2379</td>\n",
       "      <td>瑞昱</td>\n",
       "      <td>2015</td>\n",
       "      <td>108.00</td>\n",
       "      <td>49.75</td>\n",
       "      <td>80.85</td>\n",
       "      <td>4.81</td>\n",
       "      <td>22.5</td>\n",
       "      <td>10.3</td>\n",
       "    </tr>\n",
       "  </tbody>\n",
       "</table>\n",
       "</div>"
      ],
      "text/plain": [
       "  stock_id name  year  highest  lowest  average    EPS  本益比_max  本益比_min\n",
       "0     2379   瑞昱  2021   799.25  319.70   508.23  31.97     25.0     10.0\n",
       "1     2379   瑞昱  2020   432.00  162.00   312.62  17.24     25.1      9.4\n",
       "2     2379   瑞昱  2019   251.50  136.00   207.43  13.36     18.8     10.2\n",
       "3     2379   瑞昱  2018   151.00  101.00   123.94   8.57     17.6     11.8\n",
       "4     2379   瑞昱  2017   124.50   99.50   109.36   6.71     18.6     14.8\n",
       "5     2379   瑞昱  2016   133.00   71.30    98.43   6.02     22.1     11.8\n",
       "6     2379   瑞昱  2015   108.00   49.75    80.85   4.81     22.5     10.3"
      ]
     },
     "execution_count": 9,
     "metadata": {},
     "output_type": "execute_result"
    }
   ],
   "source": [
    "df_yearly"
   ]
  },
  {
   "cell_type": "code",
   "execution_count": 16,
   "metadata": {},
   "outputs": [
    {
     "data": {
      "text/html": [
       "<div>\n",
       "<style scoped>\n",
       "    .dataframe tbody tr th:only-of-type {\n",
       "        vertical-align: middle;\n",
       "    }\n",
       "\n",
       "    .dataframe tbody tr th {\n",
       "        vertical-align: top;\n",
       "    }\n",
       "\n",
       "    .dataframe thead th {\n",
       "        text-align: right;\n",
       "    }\n",
       "</style>\n",
       "<table border=\"1\" class=\"dataframe\">\n",
       "  <thead>\n",
       "    <tr style=\"text-align: right;\">\n",
       "      <th></th>\n",
       "      <th>stock_id</th>\n",
       "      <th>name</th>\n",
       "      <th>year</th>\n",
       "      <th>highest</th>\n",
       "      <th>lowest</th>\n",
       "      <th>average</th>\n",
       "      <th>EPS</th>\n",
       "      <th>本益比_max</th>\n",
       "      <th>本益比_min</th>\n",
       "    </tr>\n",
       "  </thead>\n",
       "  <tbody>\n",
       "    <tr>\n",
       "      <th>0</th>\n",
       "      <td>2379</td>\n",
       "      <td>瑞昱</td>\n",
       "      <td>2021</td>\n",
       "      <td>799.25</td>\n",
       "      <td>319.7</td>\n",
       "      <td>508.23</td>\n",
       "      <td>31.97</td>\n",
       "      <td>25.0</td>\n",
       "      <td>10.0</td>\n",
       "    </tr>\n",
       "  </tbody>\n",
       "</table>\n",
       "</div>"
      ],
      "text/plain": [
       "  stock_id name  year  highest  lowest  average    EPS  本益比_max  本益比_min\n",
       "0     2379   瑞昱  2021   799.25   319.7   508.23  31.97     25.0     10.0"
      ]
     },
     "execution_count": 16,
     "metadata": {},
     "output_type": "execute_result"
    }
   ],
   "source": [
    "df_yearly[df_yearly['year']=='2021']"
   ]
  },
  {
   "cell_type": "code",
   "execution_count": 13,
   "metadata": {
    "collapsed": true
   },
   "outputs": [
    {
     "data": {
      "text/html": [
       "<div>\n",
       "<style scoped>\n",
       "    .dataframe tbody tr th:only-of-type {\n",
       "        vertical-align: middle;\n",
       "    }\n",
       "\n",
       "    .dataframe tbody tr th {\n",
       "        vertical-align: top;\n",
       "    }\n",
       "\n",
       "    .dataframe thead th {\n",
       "        text-align: right;\n",
       "    }\n",
       "</style>\n",
       "<table border=\"1\" class=\"dataframe\">\n",
       "  <thead>\n",
       "    <tr style=\"text-align: right;\">\n",
       "      <th></th>\n",
       "      <th>year</th>\n",
       "      <th>營業收入</th>\n",
       "      <th>營業成本</th>\n",
       "      <th>營業毛利</th>\n",
       "      <th>營業毛利(毛損)淨額</th>\n",
       "      <th>營業費用</th>\n",
       "      <th>營業利益</th>\n",
       "      <th>稅前淨利</th>\n",
       "      <th>所得稅費用</th>\n",
       "      <th>歸屬母公司淨利(損)</th>\n",
       "      <th>每股盈餘(元)</th>\n",
       "      <th>股東權益</th>\n",
       "    </tr>\n",
       "    <tr>\n",
       "      <th>Unnamed: 0</th>\n",
       "      <th></th>\n",
       "      <th></th>\n",
       "      <th></th>\n",
       "      <th></th>\n",
       "      <th></th>\n",
       "      <th></th>\n",
       "      <th></th>\n",
       "      <th></th>\n",
       "      <th></th>\n",
       "      <th></th>\n",
       "      <th></th>\n",
       "      <th></th>\n",
       "    </tr>\n",
       "  </thead>\n",
       "  <tbody>\n",
       "    <tr>\n",
       "      <th>2021Q3</th>\n",
       "      <td>2021</td>\n",
       "      <td>289.55</td>\n",
       "      <td>137.16</td>\n",
       "      <td>152.39</td>\n",
       "      <td>152.39</td>\n",
       "      <td>98.86</td>\n",
       "      <td>53.53</td>\n",
       "      <td>50.92</td>\n",
       "      <td>2.04</td>\n",
       "      <td>48.88</td>\n",
       "      <td>9.57</td>\n",
       "      <td>345</td>\n",
       "    </tr>\n",
       "    <tr>\n",
       "      <th>2021Q2</th>\n",
       "      <td>2021</td>\n",
       "      <td>258.39</td>\n",
       "      <td>128.14</td>\n",
       "      <td>130.25</td>\n",
       "      <td>130.25</td>\n",
       "      <td>87.24</td>\n",
       "      <td>43.01</td>\n",
       "      <td>44.85</td>\n",
       "      <td>1.80</td>\n",
       "      <td>43.05</td>\n",
       "      <td>8.43</td>\n",
       "      <td>294</td>\n",
       "    </tr>\n",
       "    <tr>\n",
       "      <th>2021Q1</th>\n",
       "      <td>2021</td>\n",
       "      <td>233.41</td>\n",
       "      <td>128.88</td>\n",
       "      <td>104.53</td>\n",
       "      <td>104.53</td>\n",
       "      <td>74.60</td>\n",
       "      <td>29.93</td>\n",
       "      <td>31.83</td>\n",
       "      <td>1.28</td>\n",
       "      <td>30.55</td>\n",
       "      <td>5.98</td>\n",
       "      <td>331</td>\n",
       "    </tr>\n",
       "    <tr>\n",
       "      <th>2020Q4</th>\n",
       "      <td>2020</td>\n",
       "      <td>220.84</td>\n",
       "      <td>125.86</td>\n",
       "      <td>94.99</td>\n",
       "      <td>94.99</td>\n",
       "      <td>68.47</td>\n",
       "      <td>26.52</td>\n",
       "      <td>27.91</td>\n",
       "      <td>1.66</td>\n",
       "      <td>26.25</td>\n",
       "      <td>5.14</td>\n",
       "      <td>294</td>\n",
       "    </tr>\n",
       "    <tr>\n",
       "      <th>2020Q3</th>\n",
       "      <td>2020</td>\n",
       "      <td>224.09</td>\n",
       "      <td>131.43</td>\n",
       "      <td>92.66</td>\n",
       "      <td>92.66</td>\n",
       "      <td>66.96</td>\n",
       "      <td>25.70</td>\n",
       "      <td>26.70</td>\n",
       "      <td>1.61</td>\n",
       "      <td>25.09</td>\n",
       "      <td>4.92</td>\n",
       "      <td>274</td>\n",
       "    </tr>\n",
       "    <tr>\n",
       "      <th>2020Q2</th>\n",
       "      <td>2020</td>\n",
       "      <td>173.38</td>\n",
       "      <td>95.79</td>\n",
       "      <td>77.59</td>\n",
       "      <td>77.59</td>\n",
       "      <td>57.91</td>\n",
       "      <td>19.68</td>\n",
       "      <td>21.59</td>\n",
       "      <td>1.32</td>\n",
       "      <td>20.28</td>\n",
       "      <td>3.97</td>\n",
       "      <td>251</td>\n",
       "    </tr>\n",
       "    <tr>\n",
       "      <th>2020Q1</th>\n",
       "      <td>2020</td>\n",
       "      <td>159.28</td>\n",
       "      <td>92.04</td>\n",
       "      <td>67.24</td>\n",
       "      <td>67.24</td>\n",
       "      <td>52.75</td>\n",
       "      <td>14.50</td>\n",
       "      <td>17.36</td>\n",
       "      <td>1.05</td>\n",
       "      <td>16.31</td>\n",
       "      <td>3.21</td>\n",
       "      <td>288</td>\n",
       "    </tr>\n",
       "    <tr>\n",
       "      <th>2019Q4</th>\n",
       "      <td>2019</td>\n",
       "      <td>166.85</td>\n",
       "      <td>93.58</td>\n",
       "      <td>73.27</td>\n",
       "      <td>73.27</td>\n",
       "      <td>55.37</td>\n",
       "      <td>17.90</td>\n",
       "      <td>17.59</td>\n",
       "      <td>1.15</td>\n",
       "      <td>16.43</td>\n",
       "      <td>3.23</td>\n",
       "      <td>272</td>\n",
       "    </tr>\n",
       "    <tr>\n",
       "      <th>2019Q3</th>\n",
       "      <td>2019</td>\n",
       "      <td>160.43</td>\n",
       "      <td>91.64</td>\n",
       "      <td>68.80</td>\n",
       "      <td>68.80</td>\n",
       "      <td>52.07</td>\n",
       "      <td>16.72</td>\n",
       "      <td>20.47</td>\n",
       "      <td>1.24</td>\n",
       "      <td>19.22</td>\n",
       "      <td>3.78</td>\n",
       "      <td>266</td>\n",
       "    </tr>\n",
       "    <tr>\n",
       "      <th>2019Q2</th>\n",
       "      <td>2019</td>\n",
       "      <td>151.82</td>\n",
       "      <td>84.50</td>\n",
       "      <td>67.31</td>\n",
       "      <td>67.31</td>\n",
       "      <td>50.59</td>\n",
       "      <td>16.72</td>\n",
       "      <td>19.63</td>\n",
       "      <td>1.18</td>\n",
       "      <td>18.45</td>\n",
       "      <td>3.64</td>\n",
       "      <td>247</td>\n",
       "    </tr>\n",
       "    <tr>\n",
       "      <th>2019Q1</th>\n",
       "      <td>2019</td>\n",
       "      <td>128.35</td>\n",
       "      <td>71.89</td>\n",
       "      <td>56.46</td>\n",
       "      <td>56.46</td>\n",
       "      <td>44.50</td>\n",
       "      <td>11.96</td>\n",
       "      <td>14.67</td>\n",
       "      <td>0.88</td>\n",
       "      <td>13.79</td>\n",
       "      <td>2.71</td>\n",
       "      <td>261</td>\n",
       "    </tr>\n",
       "    <tr>\n",
       "      <th>2018Q4</th>\n",
       "      <td>2018</td>\n",
       "      <td>119.42</td>\n",
       "      <td>65.76</td>\n",
       "      <td>53.66</td>\n",
       "      <td>53.66</td>\n",
       "      <td>44.52</td>\n",
       "      <td>9.15</td>\n",
       "      <td>11.88</td>\n",
       "      <td>0.92</td>\n",
       "      <td>10.97</td>\n",
       "      <td>2.16</td>\n",
       "      <td>246</td>\n",
       "    </tr>\n",
       "    <tr>\n",
       "      <th>2018Q3</th>\n",
       "      <td>2018</td>\n",
       "      <td>120.86</td>\n",
       "      <td>64.03</td>\n",
       "      <td>56.83</td>\n",
       "      <td>56.83</td>\n",
       "      <td>44.06</td>\n",
       "      <td>12.79</td>\n",
       "      <td>15.04</td>\n",
       "      <td>0.92</td>\n",
       "      <td>14.12</td>\n",
       "      <td>2.78</td>\n",
       "      <td>235</td>\n",
       "    </tr>\n",
       "    <tr>\n",
       "      <th>2018Q2</th>\n",
       "      <td>2018</td>\n",
       "      <td>111.52</td>\n",
       "      <td>61.92</td>\n",
       "      <td>49.59</td>\n",
       "      <td>49.59</td>\n",
       "      <td>40.12</td>\n",
       "      <td>9.49</td>\n",
       "      <td>10.69</td>\n",
       "      <td>0.68</td>\n",
       "      <td>10.02</td>\n",
       "      <td>1.97</td>\n",
       "      <td>221</td>\n",
       "    </tr>\n",
       "    <tr>\n",
       "      <th>2018Q1</th>\n",
       "      <td>2018</td>\n",
       "      <td>106.26</td>\n",
       "      <td>61.74</td>\n",
       "      <td>44.53</td>\n",
       "      <td>44.53</td>\n",
       "      <td>38.27</td>\n",
       "      <td>6.27</td>\n",
       "      <td>8.96</td>\n",
       "      <td>0.55</td>\n",
       "      <td>8.41</td>\n",
       "      <td>1.66</td>\n",
       "      <td>224</td>\n",
       "    </tr>\n",
       "    <tr>\n",
       "      <th>2017Q4</th>\n",
       "      <td>2017</td>\n",
       "      <td>108.02</td>\n",
       "      <td>62.82</td>\n",
       "      <td>45.19</td>\n",
       "      <td>45.19</td>\n",
       "      <td>39.09</td>\n",
       "      <td>6.12</td>\n",
       "      <td>8.54</td>\n",
       "      <td>0.57</td>\n",
       "      <td>7.98</td>\n",
       "      <td>1.57</td>\n",
       "      <td>218</td>\n",
       "    </tr>\n",
       "    <tr>\n",
       "      <th>2017Q3</th>\n",
       "      <td>2017</td>\n",
       "      <td>109.51</td>\n",
       "      <td>61.39</td>\n",
       "      <td>48.13</td>\n",
       "      <td>48.13</td>\n",
       "      <td>38.95</td>\n",
       "      <td>9.19</td>\n",
       "      <td>12.26</td>\n",
       "      <td>0.72</td>\n",
       "      <td>11.54</td>\n",
       "      <td>2.29</td>\n",
       "      <td>215</td>\n",
       "    </tr>\n",
       "    <tr>\n",
       "      <th>2017Q2</th>\n",
       "      <td>2017</td>\n",
       "      <td>99.52</td>\n",
       "      <td>56.31</td>\n",
       "      <td>43.21</td>\n",
       "      <td>43.21</td>\n",
       "      <td>35.80</td>\n",
       "      <td>7.43</td>\n",
       "      <td>9.90</td>\n",
       "      <td>0.57</td>\n",
       "      <td>9.34</td>\n",
       "      <td>1.85</td>\n",
       "      <td>202</td>\n",
       "    </tr>\n",
       "    <tr>\n",
       "      <th>2017Q1</th>\n",
       "      <td>2017</td>\n",
       "      <td>99.83</td>\n",
       "      <td>57.33</td>\n",
       "      <td>42.51</td>\n",
       "      <td>42.51</td>\n",
       "      <td>33.22</td>\n",
       "      <td>9.30</td>\n",
       "      <td>5.56</td>\n",
       "      <td>0.49</td>\n",
       "      <td>5.07</td>\n",
       "      <td>1.00</td>\n",
       "      <td>217</td>\n",
       "    </tr>\n",
       "    <tr>\n",
       "      <th>2016Q4</th>\n",
       "      <td>2016</td>\n",
       "      <td>98.01</td>\n",
       "      <td>55.47</td>\n",
       "      <td>42.54</td>\n",
       "      <td>42.54</td>\n",
       "      <td>37.94</td>\n",
       "      <td>4.62</td>\n",
       "      <td>7.70</td>\n",
       "      <td>0.88</td>\n",
       "      <td>6.82</td>\n",
       "      <td>1.35</td>\n",
       "      <td>228</td>\n",
       "    </tr>\n",
       "    <tr>\n",
       "      <th>2016Q3</th>\n",
       "      <td>2016</td>\n",
       "      <td>102.79</td>\n",
       "      <td>59.81</td>\n",
       "      <td>42.98</td>\n",
       "      <td>42.98</td>\n",
       "      <td>33.23</td>\n",
       "      <td>9.76</td>\n",
       "      <td>8.13</td>\n",
       "      <td>0.64</td>\n",
       "      <td>7.49</td>\n",
       "      <td>1.48</td>\n",
       "      <td>0</td>\n",
       "    </tr>\n",
       "    <tr>\n",
       "      <th>2016Q2</th>\n",
       "      <td>2016</td>\n",
       "      <td>98.47</td>\n",
       "      <td>54.52</td>\n",
       "      <td>43.94</td>\n",
       "      <td>43.94</td>\n",
       "      <td>33.16</td>\n",
       "      <td>10.80</td>\n",
       "      <td>11.11</td>\n",
       "      <td>0.93</td>\n",
       "      <td>10.18</td>\n",
       "      <td>2.02</td>\n",
       "      <td>0</td>\n",
       "    </tr>\n",
       "    <tr>\n",
       "      <th>2016Q1</th>\n",
       "      <td>2016</td>\n",
       "      <td>89.87</td>\n",
       "      <td>50.37</td>\n",
       "      <td>39.51</td>\n",
       "      <td>39.51</td>\n",
       "      <td>31.28</td>\n",
       "      <td>8.24</td>\n",
       "      <td>6.41</td>\n",
       "      <td>0.50</td>\n",
       "      <td>5.91</td>\n",
       "      <td>1.17</td>\n",
       "      <td>0</td>\n",
       "    </tr>\n",
       "    <tr>\n",
       "      <th>2015Q4</th>\n",
       "      <td>2015</td>\n",
       "      <td>92.40</td>\n",
       "      <td>52.47</td>\n",
       "      <td>39.94</td>\n",
       "      <td>39.94</td>\n",
       "      <td>33.06</td>\n",
       "      <td>6.89</td>\n",
       "      <td>7.85</td>\n",
       "      <td>0.63</td>\n",
       "      <td>7.22</td>\n",
       "      <td>1.43</td>\n",
       "      <td>0</td>\n",
       "    </tr>\n",
       "    <tr>\n",
       "      <th>2015Q3</th>\n",
       "      <td>2015</td>\n",
       "      <td>79.11</td>\n",
       "      <td>45.83</td>\n",
       "      <td>33.28</td>\n",
       "      <td>33.28</td>\n",
       "      <td>30.98</td>\n",
       "      <td>2.32</td>\n",
       "      <td>6.33</td>\n",
       "      <td>0.33</td>\n",
       "      <td>6.00</td>\n",
       "      <td>1.19</td>\n",
       "      <td>0</td>\n",
       "    </tr>\n",
       "    <tr>\n",
       "      <th>2015Q2</th>\n",
       "      <td>2015</td>\n",
       "      <td>71.48</td>\n",
       "      <td>41.67</td>\n",
       "      <td>29.81</td>\n",
       "      <td>29.81</td>\n",
       "      <td>27.18</td>\n",
       "      <td>2.65</td>\n",
       "      <td>3.98</td>\n",
       "      <td>0.33</td>\n",
       "      <td>3.65</td>\n",
       "      <td>0.72</td>\n",
       "      <td>0</td>\n",
       "    </tr>\n",
       "    <tr>\n",
       "      <th>2015Q1</th>\n",
       "      <td>2015</td>\n",
       "      <td>74.46</td>\n",
       "      <td>41.59</td>\n",
       "      <td>32.87</td>\n",
       "      <td>32.87</td>\n",
       "      <td>26.55</td>\n",
       "      <td>6.34</td>\n",
       "      <td>8.06</td>\n",
       "      <td>0.65</td>\n",
       "      <td>7.41</td>\n",
       "      <td>1.47</td>\n",
       "      <td>0</td>\n",
       "    </tr>\n",
       "    <tr>\n",
       "      <th>2014Q4</th>\n",
       "      <td>2014</td>\n",
       "      <td>75.62</td>\n",
       "      <td>43.61</td>\n",
       "      <td>32.01</td>\n",
       "      <td>32.01</td>\n",
       "      <td>27.80</td>\n",
       "      <td>4.23</td>\n",
       "      <td>5.55</td>\n",
       "      <td>0.00</td>\n",
       "      <td>5.55</td>\n",
       "      <td>1.10</td>\n",
       "      <td>0</td>\n",
       "    </tr>\n",
       "  </tbody>\n",
       "</table>\n",
       "</div>"
      ],
      "text/plain": [
       "            year    營業收入    營業成本    營業毛利  營業毛利(毛損)淨額   營業費用   營業利益   稅前淨利  \\\n",
       "Unnamed: 0                                                                  \n",
       "2021Q3      2021  289.55  137.16  152.39      152.39  98.86  53.53  50.92   \n",
       "2021Q2      2021  258.39  128.14  130.25      130.25  87.24  43.01  44.85   \n",
       "2021Q1      2021  233.41  128.88  104.53      104.53  74.60  29.93  31.83   \n",
       "2020Q4      2020  220.84  125.86   94.99       94.99  68.47  26.52  27.91   \n",
       "2020Q3      2020  224.09  131.43   92.66       92.66  66.96  25.70  26.70   \n",
       "2020Q2      2020  173.38   95.79   77.59       77.59  57.91  19.68  21.59   \n",
       "2020Q1      2020  159.28   92.04   67.24       67.24  52.75  14.50  17.36   \n",
       "2019Q4      2019  166.85   93.58   73.27       73.27  55.37  17.90  17.59   \n",
       "2019Q3      2019  160.43   91.64   68.80       68.80  52.07  16.72  20.47   \n",
       "2019Q2      2019  151.82   84.50   67.31       67.31  50.59  16.72  19.63   \n",
       "2019Q1      2019  128.35   71.89   56.46       56.46  44.50  11.96  14.67   \n",
       "2018Q4      2018  119.42   65.76   53.66       53.66  44.52   9.15  11.88   \n",
       "2018Q3      2018  120.86   64.03   56.83       56.83  44.06  12.79  15.04   \n",
       "2018Q2      2018  111.52   61.92   49.59       49.59  40.12   9.49  10.69   \n",
       "2018Q1      2018  106.26   61.74   44.53       44.53  38.27   6.27   8.96   \n",
       "2017Q4      2017  108.02   62.82   45.19       45.19  39.09   6.12   8.54   \n",
       "2017Q3      2017  109.51   61.39   48.13       48.13  38.95   9.19  12.26   \n",
       "2017Q2      2017   99.52   56.31   43.21       43.21  35.80   7.43   9.90   \n",
       "2017Q1      2017   99.83   57.33   42.51       42.51  33.22   9.30   5.56   \n",
       "2016Q4      2016   98.01   55.47   42.54       42.54  37.94   4.62   7.70   \n",
       "2016Q3      2016  102.79   59.81   42.98       42.98  33.23   9.76   8.13   \n",
       "2016Q2      2016   98.47   54.52   43.94       43.94  33.16  10.80  11.11   \n",
       "2016Q1      2016   89.87   50.37   39.51       39.51  31.28   8.24   6.41   \n",
       "2015Q4      2015   92.40   52.47   39.94       39.94  33.06   6.89   7.85   \n",
       "2015Q3      2015   79.11   45.83   33.28       33.28  30.98   2.32   6.33   \n",
       "2015Q2      2015   71.48   41.67   29.81       29.81  27.18   2.65   3.98   \n",
       "2015Q1      2015   74.46   41.59   32.87       32.87  26.55   6.34   8.06   \n",
       "2014Q4      2014   75.62   43.61   32.01       32.01  27.80   4.23   5.55   \n",
       "\n",
       "            所得稅費用  歸屬母公司淨利(損)  每股盈餘(元)  股東權益  \n",
       "Unnamed: 0                                    \n",
       "2021Q3       2.04       48.88     9.57   345  \n",
       "2021Q2       1.80       43.05     8.43   294  \n",
       "2021Q1       1.28       30.55     5.98   331  \n",
       "2020Q4       1.66       26.25     5.14   294  \n",
       "2020Q3       1.61       25.09     4.92   274  \n",
       "2020Q2       1.32       20.28     3.97   251  \n",
       "2020Q1       1.05       16.31     3.21   288  \n",
       "2019Q4       1.15       16.43     3.23   272  \n",
       "2019Q3       1.24       19.22     3.78   266  \n",
       "2019Q2       1.18       18.45     3.64   247  \n",
       "2019Q1       0.88       13.79     2.71   261  \n",
       "2018Q4       0.92       10.97     2.16   246  \n",
       "2018Q3       0.92       14.12     2.78   235  \n",
       "2018Q2       0.68       10.02     1.97   221  \n",
       "2018Q1       0.55        8.41     1.66   224  \n",
       "2017Q4       0.57        7.98     1.57   218  \n",
       "2017Q3       0.72       11.54     2.29   215  \n",
       "2017Q2       0.57        9.34     1.85   202  \n",
       "2017Q1       0.49        5.07     1.00   217  \n",
       "2016Q4       0.88        6.82     1.35   228  \n",
       "2016Q3       0.64        7.49     1.48     0  \n",
       "2016Q2       0.93       10.18     2.02     0  \n",
       "2016Q1       0.50        5.91     1.17     0  \n",
       "2015Q4       0.63        7.22     1.43     0  \n",
       "2015Q3       0.33        6.00     1.19     0  \n",
       "2015Q2       0.33        3.65     0.72     0  \n",
       "2015Q1       0.65        7.41     1.47     0  \n",
       "2014Q4       0.00        5.55     1.10     0  "
      ]
     },
     "execution_count": 13,
     "metadata": {},
     "output_type": "execute_result"
    }
   ],
   "source": [
    "stock_id = '2379'\n",
    "path_equity = root + 'equity/quarterly_equity_{}.xlsx'.format(stock_id)\n",
    "df_quarterly = pd.read_excel(path_equity, engine='openpyxl')\n",
    "df_quarterly = df_quarterly.set_index(df_quarterly.columns[0])\n",
    "df_quarterly"
   ]
  },
  {
   "cell_type": "code",
   "execution_count": 14,
   "metadata": {},
   "outputs": [
    {
     "name": "stdout",
     "output_type": "stream",
     "text": [
      "['2021Q1', '2021Q2', '2021Q3', '2021Q4'] 3\n"
     ]
    },
    {
     "data": {
      "text/plain": [
       "31.97"
      ]
     },
     "execution_count": 14,
     "metadata": {},
     "output_type": "execute_result"
    }
   ],
   "source": [
    "lst_quarter = [str(this_year) + 'Q' + str(i) for i in range(1,5)]\n",
    "num_quarter = len(df_quarterly[df_quarterly.index.isin(lst_quarter)]) # 已公布的季報數量\n",
    "\n",
    "lst_year = [2018, 2019, 2020, 2021]\n",
    "lst_EPS = [{'year':y, 'eps': df.loc[str(y)+'Q1', 'EPS(Y)']} for y in lst_year]\n",
    "\n",
    "df.reset_index(inplace=True)\n",
    "df = df.rename(columns={'index':'quarter'}) # reset_index後column名稱是index\n",
    "\n",
    "df_yearly = get_yearly(stock_id, lst_EPS, '2021', \"\")  "
   ]
  },
  {
   "cell_type": "code",
   "execution_count": 5,
   "metadata": {
    "collapsed": true
   },
   "outputs": [
    {
     "data": {
      "text/html": [
       "<div>\n",
       "<style scoped>\n",
       "    .dataframe tbody tr th:only-of-type {\n",
       "        vertical-align: middle;\n",
       "    }\n",
       "\n",
       "    .dataframe tbody tr th {\n",
       "        vertical-align: top;\n",
       "    }\n",
       "\n",
       "    .dataframe thead th {\n",
       "        text-align: right;\n",
       "    }\n",
       "</style>\n",
       "<table border=\"1\" class=\"dataframe\">\n",
       "  <thead>\n",
       "    <tr style=\"text-align: right;\">\n",
       "      <th></th>\n",
       "      <th>year</th>\n",
       "      <th>營業收入</th>\n",
       "      <th>營業成本</th>\n",
       "      <th>營業毛利</th>\n",
       "      <th>營業毛利(毛損)淨額</th>\n",
       "      <th>營業費用</th>\n",
       "      <th>營業利益</th>\n",
       "      <th>稅前淨利</th>\n",
       "      <th>所得稅費用</th>\n",
       "      <th>歸屬母公司淨利(損)</th>\n",
       "      <th>每股盈餘(元)</th>\n",
       "      <th>股東權益</th>\n",
       "    </tr>\n",
       "    <tr>\n",
       "      <th>Unnamed: 0</th>\n",
       "      <th></th>\n",
       "      <th></th>\n",
       "      <th></th>\n",
       "      <th></th>\n",
       "      <th></th>\n",
       "      <th></th>\n",
       "      <th></th>\n",
       "      <th></th>\n",
       "      <th></th>\n",
       "      <th></th>\n",
       "      <th></th>\n",
       "      <th></th>\n",
       "    </tr>\n",
       "  </thead>\n",
       "  <tbody>\n",
       "    <tr>\n",
       "      <th>2021Q3</th>\n",
       "      <td>2021</td>\n",
       "      <td>289.55</td>\n",
       "      <td>137.16</td>\n",
       "      <td>152.39</td>\n",
       "      <td>152.39</td>\n",
       "      <td>98.86</td>\n",
       "      <td>53.53</td>\n",
       "      <td>50.92</td>\n",
       "      <td>2.04</td>\n",
       "      <td>48.88</td>\n",
       "      <td>9.57</td>\n",
       "      <td>345</td>\n",
       "    </tr>\n",
       "  </tbody>\n",
       "</table>\n",
       "</div>"
      ],
      "text/plain": [
       "            year    營業收入    營業成本    營業毛利  營業毛利(毛損)淨額   營業費用   營業利益   稅前淨利  \\\n",
       "Unnamed: 0                                                                  \n",
       "2021Q3      2021  289.55  137.16  152.39      152.39  98.86  53.53  50.92   \n",
       "\n",
       "            所得稅費用  歸屬母公司淨利(損)  每股盈餘(元)  股東權益  \n",
       "Unnamed: 0                                    \n",
       "2021Q3       2.04       48.88     9.57   345  "
      ]
     },
     "execution_count": 5,
     "metadata": {},
     "output_type": "execute_result"
    }
   ],
   "source": [
    "# 計算歷年成長%\n",
    "stock_id = '2379'\n",
    "path_equity = root + 'equity/quarterly_equity_{}.xlsx'.format(stock_id)\n",
    "\n",
    "df_quarterly = pd.read_excel(path_equity, engine='openpyxl')\n",
    "df_quarterly = df_quarterly.set_index(df_quarterly.columns[0])\n",
    "df_quarterly.head(1)"
   ]
  },
  {
   "cell_type": "code",
   "execution_count": null,
   "metadata": {},
   "outputs": [],
   "source": []
  }
 ],
 "metadata": {
  "kernelspec": {
   "display_name": "Python 3",
   "language": "python",
   "name": "python3"
  },
  "language_info": {
   "codemirror_mode": {
    "name": "ipython",
    "version": 3
   },
   "file_extension": ".py",
   "mimetype": "text/x-python",
   "name": "python",
   "nbconvert_exporter": "python",
   "pygments_lexer": "ipython3",
   "version": "3.7.9"
  }
 },
 "nbformat": 4,
 "nbformat_minor": 4
}
