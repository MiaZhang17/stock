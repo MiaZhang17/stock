{
 "cells": [
  {
   "cell_type": "code",
   "execution_count": 13,
   "metadata": {},
   "outputs": [
    {
     "name": "stdout",
     "output_type": "stream",
     "text": [
      "17 筆 ./records\\交易明細20211006.xlsx\n"
     ]
    }
   ],
   "source": [
    "from glob import glob\n",
    "import pandas as pd\n",
    "lst_file = glob(\"./records/交易明細*\")\n",
    "print(len(lst_file),'筆', lst_file[0])"
   ]
  },
  {
   "cell_type": "code",
   "execution_count": 8,
   "metadata": {},
   "outputs": [
    {
     "data": {
      "text/html": [
       "<div>\n",
       "<style scoped>\n",
       "    .dataframe tbody tr th:only-of-type {\n",
       "        vertical-align: middle;\n",
       "    }\n",
       "\n",
       "    .dataframe tbody tr th {\n",
       "        vertical-align: top;\n",
       "    }\n",
       "\n",
       "    .dataframe thead th {\n",
       "        text-align: right;\n",
       "    }\n",
       "</style>\n",
       "<table border=\"1\" class=\"dataframe\">\n",
       "  <thead>\n",
       "    <tr style=\"text-align: right;\">\n",
       "      <th></th>\n",
       "      <th>交易別</th>\n",
       "      <th>代碼</th>\n",
       "      <th>商品名稱</th>\n",
       "      <th>成交股數</th>\n",
       "      <th>成交單價</th>\n",
       "      <th>成交價金</th>\n",
       "      <th>手續費</th>\n",
       "      <th>交易稅</th>\n",
       "      <th>淨收付</th>\n",
       "      <th>交易日期</th>\n",
       "    </tr>\n",
       "  </thead>\n",
       "  <tbody>\n",
       "    <tr>\n",
       "      <th>0</th>\n",
       "      <td>現買</td>\n",
       "      <td>00881</td>\n",
       "      <td>國泰台灣5G+</td>\n",
       "      <td>1000</td>\n",
       "      <td>16.6</td>\n",
       "      <td>16600</td>\n",
       "      <td>23</td>\n",
       "      <td>0</td>\n",
       "      <td>-16624</td>\n",
       "      <td>2021-10-06</td>\n",
       "    </tr>\n",
       "    <tr>\n",
       "      <th>0</th>\n",
       "      <td>現買</td>\n",
       "      <td>00881</td>\n",
       "      <td>國泰台灣5G+</td>\n",
       "      <td>1000</td>\n",
       "      <td>16.6</td>\n",
       "      <td>16600</td>\n",
       "      <td>23</td>\n",
       "      <td>0</td>\n",
       "      <td>-16624</td>\n",
       "      <td>2021-10-06</td>\n",
       "    </tr>\n",
       "  </tbody>\n",
       "</table>\n",
       "</div>"
      ],
      "text/plain": [
       "  交易別     代碼     商品名稱  成交股數  成交單價   成交價金 手續費 交易稅     淨收付        交易日期\n",
       "0  現買  00881  國泰台灣5G+  1000  16.6  16600  23   0  -16624  2021-10-06\n",
       "0  現買  00881  國泰台灣5G+  1000  16.6  16600  23   0  -16624  2021-10-06"
      ]
     },
     "execution_count": 8,
     "metadata": {},
     "output_type": "execute_result"
    }
   ],
   "source": [
    "df_all = pd.DataFrame(columns=['交易別', '代碼', '商品名稱', '成交股數', '成交單價', '成交價金', '手續費', '交易稅', '融資自備款', '融資金額', '融券擔保品', '融券保證金', '融券費', '淨收付', '交易日期'])\n",
    "\n",
    "for file in lst_file:\n",
    "    df = pd.read_excel(file, engine='openpyxl', dtype={'代碼':str})\n",
    "    for idx, row in df.iterrows():\n",
    "        if row['成交股數'] == 1000:\n",
    "            df_all = df_all.append(row)\n",
    "        else:   \n",
    "            n = row['成交股數'] // 1000\n",
    "            row['成交股數'] //= n\n",
    "            row['成交價金'] //= n\n",
    "            row['手續費'] //= n\n",
    "            row['交易稅'] //= n\n",
    "            row['淨收付'] //= n\n",
    "            for i in range(n):\n",
    "                df_all = df_all.append(row)\n",
    "                \n",
    "from datetime import datetime\n",
    "df_all['交易日期'] = df_all['交易日期'].apply(lambda x : datetime.strptime(str(x), \"%Y%m%d\").date())\n",
    "df_all.sort_values(['代碼', '交易日期'], inplace=True)\n",
    "df_all.drop(['融資自備款','融資金額','融券擔保品','融券保證金', '融券費'], axis=1, inplace=True)\n",
    "df_all.head(2)"
   ]
  },
  {
   "cell_type": "markdown",
   "metadata": {},
   "source": [
    "# 已賣出的股票，從清單上去除掉"
   ]
  },
  {
   "cell_type": "code",
   "execution_count": 9,
   "metadata": {},
   "outputs": [],
   "source": [
    "df_buy = df_all[df_all['交易別']=='現買']\n",
    "df_buy = df_buy.reset_index(drop=True)\n",
    "df_buy.reset_index(inplace=True)\n",
    "df_buy.head(1)\n",
    "\n",
    "df_sold = df_all[df_all['交易別']=='現賣']\n",
    "df_sold.reset_index(inplace=True, drop=True)\n",
    "df_sold = df_sold.copy()\n",
    "df_sold.rename(columns={'成交單價':'賣出單價', '淨收付':'賣出總價'}, inplace=True)\n",
    "df_sold['交易月份'] = df_sold['交易日期'].apply(lambda x: x.month)\n",
    "df_sold[['買入日期', '買入單價', '買入總價']] = 0\n",
    "\n",
    "for idx, row in df_sold.iterrows():\n",
    "    fst_row = df_buy[df_buy['代碼']== row['代碼']].iloc[0,:]\n",
    "    df_sold.loc[idx, '買入日期'] = fst_row['交易日期']\n",
    "    df_sold.loc[idx, '買入單價'] = fst_row['成交單價']\n",
    "    df_sold.loc[idx, '買入總價'] = fst_row['淨收付']\n",
    "    df_buy.drop(index=fst_row['index'], inplace=True)"
   ]
  },
  {
   "cell_type": "markdown",
   "metadata": {},
   "source": [
    "# 尚未賣出的股票"
   ]
  },
  {
   "cell_type": "code",
   "execution_count": 10,
   "metadata": {},
   "outputs": [
    {
     "data": {
      "text/html": [
       "<div>\n",
       "<style scoped>\n",
       "    .dataframe tbody tr th:only-of-type {\n",
       "        vertical-align: middle;\n",
       "    }\n",
       "\n",
       "    .dataframe tbody tr th {\n",
       "        vertical-align: top;\n",
       "    }\n",
       "\n",
       "    .dataframe thead th {\n",
       "        text-align: right;\n",
       "    }\n",
       "</style>\n",
       "<table border=\"1\" class=\"dataframe\">\n",
       "  <thead>\n",
       "    <tr style=\"text-align: right;\">\n",
       "      <th></th>\n",
       "      <th>交易別</th>\n",
       "      <th>代碼</th>\n",
       "      <th>商品名稱</th>\n",
       "      <th>成交股數</th>\n",
       "      <th>成交單價</th>\n",
       "      <th>成交價金</th>\n",
       "      <th>手續費</th>\n",
       "      <th>交易稅</th>\n",
       "      <th>淨收付</th>\n",
       "      <th>交易日期</th>\n",
       "    </tr>\n",
       "  </thead>\n",
       "  <tbody>\n",
       "    <tr>\n",
       "      <th>0</th>\n",
       "      <td>現買</td>\n",
       "      <td>00881</td>\n",
       "      <td>國泰台灣5G+</td>\n",
       "      <td>1000</td>\n",
       "      <td>16.6</td>\n",
       "      <td>16600</td>\n",
       "      <td>23</td>\n",
       "      <td>0</td>\n",
       "      <td>-16624</td>\n",
       "      <td>2021-10-06</td>\n",
       "    </tr>\n",
       "    <tr>\n",
       "      <th>1</th>\n",
       "      <td>現買</td>\n",
       "      <td>00881</td>\n",
       "      <td>國泰台灣5G+</td>\n",
       "      <td>1000</td>\n",
       "      <td>16.6</td>\n",
       "      <td>16600</td>\n",
       "      <td>23</td>\n",
       "      <td>0</td>\n",
       "      <td>-16624</td>\n",
       "      <td>2021-10-06</td>\n",
       "    </tr>\n",
       "  </tbody>\n",
       "</table>\n",
       "</div>"
      ],
      "text/plain": [
       "  交易別     代碼     商品名稱  成交股數  成交單價   成交價金 手續費 交易稅     淨收付        交易日期\n",
       "0  現買  00881  國泰台灣5G+  1000  16.6  16600  23   0  -16624  2021-10-06\n",
       "1  現買  00881  國泰台灣5G+  1000  16.6  16600  23   0  -16624  2021-10-06"
      ]
     },
     "execution_count": 10,
     "metadata": {},
     "output_type": "execute_result"
    }
   ],
   "source": [
    "df_remain = df_buy.copy()\n",
    "df_remain.drop('index', axis=1, inplace=True)\n",
    "path_remain = './remain.xlsx'\n",
    "df_remain.to_excel(path_remain, index=False)\n",
    "df_remain.head(2)"
   ]
  },
  {
   "cell_type": "markdown",
   "metadata": {},
   "source": [
    "# 已賣出的股票，計算報酬率"
   ]
  },
  {
   "cell_type": "code",
   "execution_count": 11,
   "metadata": {},
   "outputs": [
    {
     "data": {
      "text/html": [
       "<div>\n",
       "<style scoped>\n",
       "    .dataframe tbody tr th:only-of-type {\n",
       "        vertical-align: middle;\n",
       "    }\n",
       "\n",
       "    .dataframe tbody tr th {\n",
       "        vertical-align: top;\n",
       "    }\n",
       "\n",
       "    .dataframe thead th {\n",
       "        text-align: right;\n",
       "    }\n",
       "</style>\n",
       "<table border=\"1\" class=\"dataframe\">\n",
       "  <thead>\n",
       "    <tr style=\"text-align: right;\">\n",
       "      <th></th>\n",
       "      <th>交易別</th>\n",
       "      <th>代碼</th>\n",
       "      <th>商品名稱</th>\n",
       "      <th>成交股數</th>\n",
       "      <th>賣出單價</th>\n",
       "      <th>成交價金</th>\n",
       "      <th>手續費</th>\n",
       "      <th>交易稅</th>\n",
       "      <th>賣出總價</th>\n",
       "      <th>交易日期</th>\n",
       "      <th>交易月份</th>\n",
       "      <th>買入日期</th>\n",
       "      <th>買入單價</th>\n",
       "      <th>買入總價</th>\n",
       "      <th>損益</th>\n",
       "      <th>報酬率</th>\n",
       "    </tr>\n",
       "  </thead>\n",
       "  <tbody>\n",
       "    <tr>\n",
       "      <th>7</th>\n",
       "      <td>現賣</td>\n",
       "      <td>2603</td>\n",
       "      <td>長榮</td>\n",
       "      <td>1000</td>\n",
       "      <td>135.0</td>\n",
       "      <td>135000</td>\n",
       "      <td>192</td>\n",
       "      <td>405</td>\n",
       "      <td>134403</td>\n",
       "      <td>2021-12-15</td>\n",
       "      <td>12</td>\n",
       "      <td>2021-12-02</td>\n",
       "      <td>134.0</td>\n",
       "      <td>-134190</td>\n",
       "      <td>213</td>\n",
       "      <td>0.2</td>\n",
       "    </tr>\n",
       "    <tr>\n",
       "      <th>5</th>\n",
       "      <td>現賣</td>\n",
       "      <td>2603</td>\n",
       "      <td>長榮</td>\n",
       "      <td>1000</td>\n",
       "      <td>141.0</td>\n",
       "      <td>141000</td>\n",
       "      <td>200</td>\n",
       "      <td>423</td>\n",
       "      <td>140376</td>\n",
       "      <td>2021-12-10</td>\n",
       "      <td>12</td>\n",
       "      <td>2021-12-02</td>\n",
       "      <td>134.0</td>\n",
       "      <td>-134191</td>\n",
       "      <td>6185</td>\n",
       "      <td>4.6</td>\n",
       "    </tr>\n",
       "  </tbody>\n",
       "</table>\n",
       "</div>"
      ],
      "text/plain": [
       "  交易別    代碼 商品名稱  成交股數   賣出單價    成交價金  手續費  交易稅    賣出總價        交易日期  交易月份  \\\n",
       "7  現賣  2603   長榮  1000  135.0  135000  192  405  134403  2021-12-15    12   \n",
       "5  現賣  2603   長榮  1000  141.0  141000  200  423  140376  2021-12-10    12   \n",
       "\n",
       "         買入日期   買入單價    買入總價    損益  報酬率  \n",
       "7  2021-12-02  134.0 -134190   213  0.2  \n",
       "5  2021-12-02  134.0 -134191  6185  4.6  "
      ]
     },
     "execution_count": 11,
     "metadata": {},
     "output_type": "execute_result"
    }
   ],
   "source": [
    "df_sold['賣出總價'] = df_sold['賣出總價'].astype(int)\n",
    "df_sold['損益'] = df_sold['賣出總價'] + df_sold['買入總價']\n",
    "df_sold['報酬率'] = round(df_sold['損益'] / df_sold['買入總價'] * (-100), 1)\n",
    "df_sold.sort_values('交易日期', ascending=False, inplace=True)\n",
    "path_return = './return.xlsx'\n",
    "df_sold.to_excel(path_return, index=False)\n",
    "df_sold.head(2)"
   ]
  },
  {
   "cell_type": "markdown",
   "metadata": {},
   "source": [
    "# 計算每月賣出股票的報酬率"
   ]
  },
  {
   "cell_type": "code",
   "execution_count": 12,
   "metadata": {},
   "outputs": [
    {
     "data": {
      "text/html": [
       "<div>\n",
       "<style scoped>\n",
       "    .dataframe tbody tr th:only-of-type {\n",
       "        vertical-align: middle;\n",
       "    }\n",
       "\n",
       "    .dataframe tbody tr th {\n",
       "        vertical-align: top;\n",
       "    }\n",
       "\n",
       "    .dataframe thead th {\n",
       "        text-align: right;\n",
       "    }\n",
       "</style>\n",
       "<table border=\"1\" class=\"dataframe\">\n",
       "  <thead>\n",
       "    <tr style=\"text-align: right;\">\n",
       "      <th></th>\n",
       "      <th>賣出總價</th>\n",
       "      <th>買入總價</th>\n",
       "      <th>損益</th>\n",
       "      <th>報酬率</th>\n",
       "    </tr>\n",
       "    <tr>\n",
       "      <th>交易月份</th>\n",
       "      <th></th>\n",
       "      <th></th>\n",
       "      <th></th>\n",
       "      <th></th>\n",
       "    </tr>\n",
       "  </thead>\n",
       "  <tbody>\n",
       "    <tr>\n",
       "      <th>10</th>\n",
       "      <td>264425</td>\n",
       "      <td>-263072</td>\n",
       "      <td>1353</td>\n",
       "      <td>0.5</td>\n",
       "    </tr>\n",
       "    <tr>\n",
       "      <th>11</th>\n",
       "      <td>583310</td>\n",
       "      <td>-574414</td>\n",
       "      <td>8896</td>\n",
       "      <td>1.5</td>\n",
       "    </tr>\n",
       "  </tbody>\n",
       "</table>\n",
       "</div>"
      ],
      "text/plain": [
       "        賣出總價    買入總價    損益  報酬率\n",
       "交易月份                           \n",
       "10    264425 -263072  1353  0.5\n",
       "11    583310 -574414  8896  1.5"
      ]
     },
     "execution_count": 12,
     "metadata": {},
     "output_type": "execute_result"
    }
   ],
   "source": [
    "df_monthly_return = df_sold.groupby('交易月份').sum()\n",
    "df_monthly_return['報酬率'] = round(df_monthly_return['損益'] / df_monthly_return['買入總價'] * (-100), 1)\n",
    "df_monthly_return = df_monthly_return[['賣出總價', '買入總價', '損益', '報酬率']]\n",
    "path_monthly_return = './monthly_return.xlsx'\n",
    "df_monthly_return.to_excel(path_monthly_return)\n",
    "df_monthly_return.head(2)"
   ]
  },
  {
   "cell_type": "code",
   "execution_count": null,
   "metadata": {},
   "outputs": [],
   "source": []
  }
 ],
 "metadata": {
  "kernelspec": {
   "display_name": "Python 3",
   "language": "python",
   "name": "python3"
  },
  "language_info": {
   "codemirror_mode": {
    "name": "ipython",
    "version": 3
   },
   "file_extension": ".py",
   "mimetype": "text/x-python",
   "name": "python",
   "nbconvert_exporter": "python",
   "pygments_lexer": "ipython3",
   "version": "3.7.9"
  }
 },
 "nbformat": 4,
 "nbformat_minor": 4
}
